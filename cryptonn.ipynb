{
 "cells": [
  {
   "cell_type": "code",
   "execution_count": 1,
   "metadata": {},
   "outputs": [],
   "source": [
    "##Created By Unfriendly \n",
    "#(A simple Jupyter Notebook in Binder for Crypto price prediction)\n",
    "\n",
    "historical_start = \"6yr,0mon,0day,0hr,0min,0sec\"\n",
    "# How long to historically look back at data\n",
    "\n",
    "predict_into = \"0yr,0mon,10day,0hr,0min,0sec\" \n",
    "# How far to try and predict into the future"
   ]
  },
  {
   "cell_type": "code",
   "execution_count": 2,
   "metadata": {},
   "outputs": [],
   "source": [
    "import os, glob\n",
    "for dirname, _, filenames in os.walk('/unfriendly/input'):\n",
    "    for filename in filenames:\n",
    "        print(os.path.join(dirname, filename))"
   ]
  },
  {
   "cell_type": "code",
   "execution_count": 3,
   "metadata": {},
   "outputs": [],
   "source": [
    "import json\n",
    "import requests\n",
    "from keras.models import Sequential\n",
    "from keras.layers import Activation, Dense, Dropout, LSTM\n",
    "import matplotlib.pyplot as plt\n",
    "import numpy as np\n",
    "import pandas as pd\n",
    "import seaborn as sns\n",
    "from sklearn.metrics import mean_absolute_error\n",
    "%matplotlib inline"
   ]
  },
  {
   "cell_type": "code",
   "execution_count": 4,
   "metadata": {},
   "outputs": [],
   "source": [
    "import matplotlib.pyplot as plt"
   ]
  },
  {
   "cell_type": "code",
   "execution_count": 5,
   "metadata": {},
   "outputs": [],
   "source": [
    "# Prepare data timestamps\n",
    "import time\n",
    "import datetime\n",
    "one_yr = 31536000000\n",
    "one_mon = one_yr/12\n",
    "one_day = one_yr/365\n",
    "one_hr = one_day/24\n",
    "one_min = one_hr/60\n",
    "one_sec = one_min/60"
   ]
  },
  {
   "cell_type": "code",
   "execution_count": 6,
   "metadata": {},
   "outputs": [
    {
     "name": "stdout",
     "output_type": "stream",
     "text": [
      "['6', '0', '0', '0', '0', '0']\n"
     ]
    }
   ],
   "source": [
    "# Prepare how far to look back in the past in UNIX time-format\n",
    "history_split = historical_start.replace('yr', '')\n",
    "history_res = history_split.replace('mon', '')\n",
    "history_split = history_res.replace('day', '')\n",
    "history_res = history_split.replace('hr', '')\n",
    "history_split = history_res.replace('min', '')\n",
    "history_res = history_split.replace('sec', '')\n",
    "history_split = history_res.split(\",\")\n",
    "print(history_split)"
   ]
  },
  {
   "cell_type": "code",
   "execution_count": 7,
   "metadata": {},
   "outputs": [
    {
     "name": "stdout",
     "output_type": "stream",
     "text": [
      "['0', '0', '10', '0', '0', '0']\n"
     ]
    }
   ],
   "source": [
    "# Prepare how far to predict into the future in UNIX time-format\n",
    "predict_split = predict_into.replace('yr', '')\n",
    "predict_res = predict_split.replace('mon', '')\n",
    "predict_split = predict_res.replace('day', '')\n",
    "predict_res = predict_split.replace('hr', '')\n",
    "predict_split = predict_res.replace('min', '')\n",
    "predict_res = predict_split.replace('sec', '')\n",
    "predict_split = predict_res.split(\",\")\n",
    "print(predict_split)"
   ]
  },
  {
   "cell_type": "code",
   "execution_count": 8,
   "metadata": {},
   "outputs": [],
   "source": [
    "history_array_yr = int(history_split[0])\n",
    "unix_hist_yr = one_yr*history_array_yr\n",
    "\n",
    "history_array_mon = int(history_split[1])\n",
    "unix_hist_mon = one_mon*history_array_mon\n",
    "\n",
    "history_array_day = int(history_split[2])\n",
    "unix_hist_day = one_day*history_array_day\n",
    "\n",
    "history_array_hr = int(history_split[3])\n",
    "unix_hist_hr = one_hr*history_array_hr\n",
    "\n",
    "history_array_min = int(history_split[4])\n",
    "unix_hist_min = one_min*history_array_min\n",
    "\n",
    "history_array_sec = int(history_split[5])\n",
    "unix_hist_sec = one_sec*history_array_sec"
   ]
  },
  {
   "cell_type": "code",
   "execution_count": 9,
   "metadata": {},
   "outputs": [],
   "source": [
    "predict_array_yr = int(predict_split[0])\n",
    "unix_pred_yr = one_yr*predict_array_yr\n",
    "\n",
    "predict_array_mon = int(predict_split[1])\n",
    "unix_pred_mon = one_mon*predict_array_mon\n",
    "\n",
    "predict_array_day = int(predict_split[2])\n",
    "unix_pred_day = one_day*predict_array_day\n",
    "\n",
    "predict_array_hr = int(predict_split[3])\n",
    "unix_pred_hr = one_hr*predict_array_hr\n",
    "\n",
    "predict_array_min = int(predict_split[4])\n",
    "unix_pred_min = one_min*predict_array_min\n",
    "\n",
    "predict_array_sec = int(predict_split[5])\n",
    "unix_pred_sec = one_sec*predict_array_sec\n",
    "\n",
    "unix_prediction = unix_pred_yr+unix_pred_mon+unix_pred_day+unix_pred_hr+unix_pred_min+unix_pred_sec"
   ]
  },
  {
   "cell_type": "code",
   "execution_count": 10,
   "metadata": {},
   "outputs": [
    {
     "name": "stdout",
     "output_type": "stream",
     "text": [
      "-187603833850 - start\n",
      "-310 - gather\n",
      "310 - positive gather\n"
     ]
    }
   ],
   "source": [
    "raw_time = time.time()\n",
    "int_time = int(raw_time)\n",
    "current_time = str(int_time)\n",
    "\n",
    "unix_start = unix_hist_yr+unix_hist_mon+unix_hist_day+unix_hist_hr+unix_hist_min+unix_hist_sec\n",
    "raw_start = raw_time - unix_start\n",
    "\n",
    "int_start = int(raw_start)\n",
    "start = str(int_start)\n",
    "\n",
    "#print(unix_hist_yr+history_array_mon+history_array_day+history_array_hr+history_array_min+history_array_sec)\n",
    "print(start + ' - start')\n",
    "\n",
    "gather_count = int_start/(7*one_day)\n",
    "gather_int = int(gather_count)\n",
    "gather_str = str(gather_int)\n",
    "pos_gather_count = abs(int(gather_count))\n",
    "pos_gather_str = str(pos_gather_count)\n",
    "\n",
    "print(gather_str + ' - gather')\n",
    "print(pos_gather_str + ' - positive gather')"
   ]
  },
  {
   "cell_type": "code",
   "execution_count": 11,
   "metadata": {},
   "outputs": [
    {
     "name": "stdout",
     "output_type": "stream",
     "text": [
      "1612166149\n",
      "1422950149\n",
      "1423554949\n"
     ]
    }
   ],
   "source": [
    "c_dt = datetime.datetime.now()\n",
    "\n",
    "print(int(c_dt.strftime(\"%s\")))\n",
    "\n",
    "c_dt_array_year = history_array_yr*365\n",
    "\n",
    "history_array_comb = history_array_day + c_dt_array_year\n",
    "\n",
    "#c_dt_start = int_time\n",
    "\n",
    "c_dt_start = datetime.datetime.now() - datetime.timedelta(days=history_array_comb,hours=history_array_hr,minutes=history_array_min,seconds=history_array_sec)\n",
    "\n",
    "#c_dt_str = str(c_dt_start)\n",
    "\n",
    "#print(c_dt_str)\n",
    "\n",
    "data_count = 0\n",
    "\n",
    "c_dt_end = c_dt_start + datetime.timedelta(days=7) \n",
    "c_dt_raw_end = c_dt_end.strftime(\"%s\")\n",
    "c_dt_raw = c_dt_start.strftime(\"%s\")\n",
    "c_dt_int = int(c_dt_raw)\n",
    "c_dt_end_int = int(c_dt_raw_end)\n",
    "c_dt_end_str = str(c_dt_raw_end)\n",
    "c_dt_str = str(c_dt_raw)\n",
    "print(c_dt_int)\n",
    "print(c_dt_end_int)"
   ]
  },
  {
   "cell_type": "code",
   "execution_count": 12,
   "metadata": {},
   "outputs": [],
   "source": [
    "import urllib.request\n",
    "\n",
    "#while count < pos_gather_count:\n",
    "while data_count < 1:\n",
    "    \n",
    "    d_u=\"https://query1.finance.yahoo.com/v7/finance/download/BTC-USD?period1=1411862400&period2=1612158064&interval=1d&events=history&includeAdjustedClose=true\"\n",
    "    \n",
    "    #d_u=\"https://query1.finance.yahoo.com/v7/finance/download/BTC-USD?period1=\"+dt_str+\"&period2=\"+dt_end_str+\"&interval=1d&events=history&includeAdjustedClose=true\"\n",
    "    #d_u=\"https://query1.finance.yahoo.com/v7/finance/download/BTC-USD?period1=\"+gather_str+\"&period2=\"+current_time+\"&interval=1m&events=history&includeAdjustedClose=true\"\n",
    "    \n",
    "    with urllib.request.urlopen(d_u) as testfile, open('dataset.csv', 'w') as f:\n",
    "        f.write(testfile.read().decode())\n",
    "\n",
    "    data_count += 1  # This is the same as count = count + 1"
   ]
  },
  {
   "cell_type": "raw",
   "metadata": {},
   "source": [
    "print(start + ' - start')\n",
    "print(current_time + ' - current time')\n",
    "print(d_u + ' - url')\n",
    "    \n",
    "print(gather_count)\n",
    "#print(data_count)\n",
    "\n",
    "# List all CSV files in the working dir\n",
    "extension = \"csv\"\n",
    "all_filenames = [i for i in glob.glob('*.{}'.format(extension))]\n",
    "print(all_filenames)"
   ]
  },
  {
   "cell_type": "raw",
   "metadata": {},
   "source": [
    "import urllib.request\n",
    "d_u=\"https://query1.finance.yahoo.com/v7/finance/download/BTC-USD?period1=1411862400&period2=1612158064&interval=1d&events=history&includeAdjustedClose=true\"\n",
    "\n",
    "\n",
    "with urllib.request.urlopen(d_u) as testfile, open('dataset.csv', 'w') as f:\n",
    "    f.write(testfile.read().decode())"
   ]
  },
  {
   "cell_type": "code",
   "execution_count": 21,
   "metadata": {},
   "outputs": [
    {
     "data": {
      "text/html": [
       "<div>\n",
       "<style scoped>\n",
       "    .dataframe tbody tr th:only-of-type {\n",
       "        vertical-align: middle;\n",
       "    }\n",
       "\n",
       "    .dataframe tbody tr th {\n",
       "        vertical-align: top;\n",
       "    }\n",
       "\n",
       "    .dataframe thead th {\n",
       "        text-align: right;\n",
       "    }\n",
       "</style>\n",
       "<table border=\"1\" class=\"dataframe\">\n",
       "  <thead>\n",
       "    <tr style=\"text-align: right;\">\n",
       "      <th></th>\n",
       "      <th>Date</th>\n",
       "      <th>Open</th>\n",
       "      <th>High</th>\n",
       "      <th>Low</th>\n",
       "      <th>Close</th>\n",
       "      <th>Adj Close</th>\n",
       "      <th>Volume</th>\n",
       "    </tr>\n",
       "  </thead>\n",
       "  <tbody>\n",
       "    <tr>\n",
       "      <th>0</th>\n",
       "      <td>2014-09-28</td>\n",
       "      <td>399.471008</td>\n",
       "      <td>401.016998</td>\n",
       "      <td>374.332001</td>\n",
       "      <td>377.181000</td>\n",
       "      <td>377.181000</td>\n",
       "      <td>2.361330e+07</td>\n",
       "    </tr>\n",
       "    <tr>\n",
       "      <th>1</th>\n",
       "      <td>2014-09-29</td>\n",
       "      <td>376.928009</td>\n",
       "      <td>385.210999</td>\n",
       "      <td>372.239990</td>\n",
       "      <td>375.467010</td>\n",
       "      <td>375.467010</td>\n",
       "      <td>3.249770e+07</td>\n",
       "    </tr>\n",
       "    <tr>\n",
       "      <th>2</th>\n",
       "      <td>2014-09-30</td>\n",
       "      <td>376.088013</td>\n",
       "      <td>390.976990</td>\n",
       "      <td>373.442993</td>\n",
       "      <td>386.944000</td>\n",
       "      <td>386.944000</td>\n",
       "      <td>3.470730e+07</td>\n",
       "    </tr>\n",
       "    <tr>\n",
       "      <th>3</th>\n",
       "      <td>2014-10-01</td>\n",
       "      <td>387.427002</td>\n",
       "      <td>391.378998</td>\n",
       "      <td>380.779999</td>\n",
       "      <td>383.614990</td>\n",
       "      <td>383.614990</td>\n",
       "      <td>2.622940e+07</td>\n",
       "    </tr>\n",
       "    <tr>\n",
       "      <th>4</th>\n",
       "      <td>2014-10-02</td>\n",
       "      <td>383.988007</td>\n",
       "      <td>385.497009</td>\n",
       "      <td>372.946014</td>\n",
       "      <td>375.071991</td>\n",
       "      <td>375.071991</td>\n",
       "      <td>2.177770e+07</td>\n",
       "    </tr>\n",
       "    <tr>\n",
       "      <th>...</th>\n",
       "      <td>...</td>\n",
       "      <td>...</td>\n",
       "      <td>...</td>\n",
       "      <td>...</td>\n",
       "      <td>...</td>\n",
       "      <td>...</td>\n",
       "      <td>...</td>\n",
       "    </tr>\n",
       "    <tr>\n",
       "      <th>2314</th>\n",
       "      <td>2021-01-28</td>\n",
       "      <td>30441.041016</td>\n",
       "      <td>31891.300781</td>\n",
       "      <td>30023.207031</td>\n",
       "      <td>31649.605469</td>\n",
       "      <td>31649.605469</td>\n",
       "      <td>7.894816e+10</td>\n",
       "    </tr>\n",
       "    <tr>\n",
       "      <th>2315</th>\n",
       "      <td>2021-01-29</td>\n",
       "      <td>34318.671875</td>\n",
       "      <td>38406.261719</td>\n",
       "      <td>32064.814453</td>\n",
       "      <td>34316.386719</td>\n",
       "      <td>34316.386719</td>\n",
       "      <td>1.178946e+11</td>\n",
       "    </tr>\n",
       "    <tr>\n",
       "      <th>2316</th>\n",
       "      <td>2021-01-30</td>\n",
       "      <td>34295.933594</td>\n",
       "      <td>34834.707031</td>\n",
       "      <td>32940.187500</td>\n",
       "      <td>34269.523438</td>\n",
       "      <td>34269.523438</td>\n",
       "      <td>6.514183e+10</td>\n",
       "    </tr>\n",
       "    <tr>\n",
       "      <th>2317</th>\n",
       "      <td>2021-01-31</td>\n",
       "      <td>34270.878906</td>\n",
       "      <td>34288.332031</td>\n",
       "      <td>32270.175781</td>\n",
       "      <td>33114.359375</td>\n",
       "      <td>33114.359375</td>\n",
       "      <td>5.275454e+10</td>\n",
       "    </tr>\n",
       "    <tr>\n",
       "      <th>2318</th>\n",
       "      <td>2021-02-01</td>\n",
       "      <td>33628.558594</td>\n",
       "      <td>34141.285156</td>\n",
       "      <td>32387.177734</td>\n",
       "      <td>33738.781250</td>\n",
       "      <td>33738.781250</td>\n",
       "      <td>6.030383e+10</td>\n",
       "    </tr>\n",
       "  </tbody>\n",
       "</table>\n",
       "<p>2315 rows × 7 columns</p>\n",
       "</div>"
      ],
      "text/plain": [
       "            Date          Open          High           Low         Close  \\\n",
       "0     2014-09-28    399.471008    401.016998    374.332001    377.181000   \n",
       "1     2014-09-29    376.928009    385.210999    372.239990    375.467010   \n",
       "2     2014-09-30    376.088013    390.976990    373.442993    386.944000   \n",
       "3     2014-10-01    387.427002    391.378998    380.779999    383.614990   \n",
       "4     2014-10-02    383.988007    385.497009    372.946014    375.071991   \n",
       "...          ...           ...           ...           ...           ...   \n",
       "2314  2021-01-28  30441.041016  31891.300781  30023.207031  31649.605469   \n",
       "2315  2021-01-29  34318.671875  38406.261719  32064.814453  34316.386719   \n",
       "2316  2021-01-30  34295.933594  34834.707031  32940.187500  34269.523438   \n",
       "2317  2021-01-31  34270.878906  34288.332031  32270.175781  33114.359375   \n",
       "2318  2021-02-01  33628.558594  34141.285156  32387.177734  33738.781250   \n",
       "\n",
       "         Adj Close        Volume  \n",
       "0       377.181000  2.361330e+07  \n",
       "1       375.467010  3.249770e+07  \n",
       "2       386.944000  3.470730e+07  \n",
       "3       383.614990  2.622940e+07  \n",
       "4       375.071991  2.177770e+07  \n",
       "...            ...           ...  \n",
       "2314  31649.605469  7.894816e+10  \n",
       "2315  34316.386719  1.178946e+11  \n",
       "2316  34269.523438  6.514183e+10  \n",
       "2317  33114.359375  5.275454e+10  \n",
       "2318  33738.781250  6.030383e+10  \n",
       "\n",
       "[2315 rows x 7 columns]"
      ]
     },
     "execution_count": 21,
     "metadata": {},
     "output_type": "execute_result"
    }
   ],
   "source": [
    "data=pd.read_csv('dataset.csv')\n",
    "\n",
    "data.apply(pd.to_numeric, errors='coerce')\n",
    "#data=data.dropna()\n",
    "#data=data.dropna(inplace=True)\n",
    "#data=data.dropna(subset=['Close'])\n",
    "#data=data.dropna(how='any',axis=1)\n",
    "data.dropna(subset=['Close'], inplace=True)\n",
    "data.reset_index(drop=True)\n",
    "\n",
    "data"
   ]
  },
  {
   "cell_type": "code",
   "execution_count": 22,
   "metadata": {},
   "outputs": [
    {
     "data": {
      "text/plain": [
       "0         377.181000\n",
       "1         375.467010\n",
       "2         386.944000\n",
       "3         383.614990\n",
       "4         375.071991\n",
       "            ...     \n",
       "2314    31649.605469\n",
       "2315    34316.386719\n",
       "2316    34269.523438\n",
       "2317    33114.359375\n",
       "2318    33738.781250\n",
       "Name: Close, Length: 2315, dtype: float64"
      ]
     },
     "execution_count": 22,
     "metadata": {},
     "output_type": "execute_result"
    }
   ],
   "source": [
    "df1=data['Close']\n",
    "df1"
   ]
  },
  {
   "cell_type": "code",
   "execution_count": 23,
   "metadata": {},
   "outputs": [
    {
     "data": {
      "text/plain": [
       "[<matplotlib.lines.Line2D at 0x7f1b0d295a90>]"
      ]
     },
     "execution_count": 23,
     "metadata": {},
     "output_type": "execute_result"
    },
    {
     "data": {
      "image/png": "[encoded data removed]",
      "text/plain": [
       "<Figure size 432x288 with 1 Axes>"
      ]
     },
     "metadata": {
      "needs_background": "light"
     },
     "output_type": "display_data"
    }
   ],
   "source": [
    "plt.plot(df1)"
   ]
  },
  {
   "cell_type": "code",
   "execution_count": 24,
   "metadata": {},
   "outputs": [],
   "source": [
    "import numpy as np"
   ]
  },
  {
   "cell_type": "code",
   "execution_count": 25,
   "metadata": {},
   "outputs": [
    {
     "data": {
      "text/plain": [
       "0         377.181000\n",
       "1         375.467010\n",
       "2         386.944000\n",
       "3         383.614990\n",
       "4         375.071991\n",
       "            ...     \n",
       "2314    31649.605469\n",
       "2315    34316.386719\n",
       "2316    34269.523438\n",
       "2317    33114.359375\n",
       "2318    33738.781250\n",
       "Name: Close, Length: 2315, dtype: float64"
      ]
     },
     "execution_count": 25,
     "metadata": {},
     "output_type": "execute_result"
    }
   ],
   "source": [
    "df1"
   ]
  },
  {
   "cell_type": "code",
   "execution_count": 26,
   "metadata": {},
   "outputs": [],
   "source": [
    "from sklearn.preprocessing import MinMaxScaler\n",
    "scaler=MinMaxScaler(feature_range=(0,1))\n",
    "df1=scaler.fit_transform(np.array(df1).reshape(-1,1))"
   ]
  },
  {
   "cell_type": "code",
   "execution_count": 27,
   "metadata": {},
   "outputs": [],
   "source": [
    "training_size=int(len(df1)*0.65)\n",
    "test_size=len(df1)-training_size\n",
    "train_data,test_data=df1[0:training_size,:],df1[training_size:len(df1),:1]"
   ]
  },
  {
   "cell_type": "code",
   "execution_count": 28,
   "metadata": {},
   "outputs": [
    {
     "data": {
      "text/plain": [
       "(1504, 811)"
      ]
     },
     "execution_count": 28,
     "metadata": {},
     "output_type": "execute_result"
    }
   ],
   "source": [
    "training_size,test_size"
   ]
  },
  {
   "cell_type": "code",
   "execution_count": 29,
   "metadata": {},
   "outputs": [],
   "source": [
    "import numpy\n",
    "# convert an array of values into a dataset matrix\n",
    "def create_dataset(dataset, time_step=1):\n",
    "\tdataX, dataY = [], []\n",
    "\tfor i in range(len(dataset)-time_step-1):\n",
    "\t\ta = dataset[i:(i+time_step), 0]   ###i=0, 0,1,2,3-----99   100 \n",
    "\t\tdataX.append(a)\n",
    "\t\tdataY.append(dataset[i + time_step, 0])\n",
    "\treturn numpy.array(dataX), numpy.array(dataY)"
   ]
  },
  {
   "cell_type": "code",
   "execution_count": 30,
   "metadata": {},
   "outputs": [],
   "source": [
    "# reshape into X=t,t+1,t+2,t+3 and Y=t+4\n",
    "time_step = 100\n",
    "X_train, y_train = create_dataset(train_data, time_step)\n",
    "X_test, ytest = create_dataset(test_data, time_step)"
   ]
  },
  {
   "cell_type": "code",
   "execution_count": 31,
   "metadata": {},
   "outputs": [
    {
     "name": "stdout",
     "output_type": "stream",
     "text": [
      "(1403, 100)\n",
      "(1403,)\n"
     ]
    },
    {
     "data": {
      "text/plain": [
       "(None, None)"
      ]
     },
     "execution_count": 31,
     "metadata": {},
     "output_type": "execute_result"
    }
   ],
   "source": [
    "print(X_train.shape), print(y_train.shape)"
   ]
  },
  {
   "cell_type": "markdown",
   "metadata": {},
   "source": []
  },
  {
   "cell_type": "code",
   "execution_count": 32,
   "metadata": {},
   "outputs": [
    {
     "name": "stdout",
     "output_type": "stream",
     "text": [
      "(710, 100)\n",
      "(710,)\n"
     ]
    },
    {
     "data": {
      "text/plain": [
       "(None, None)"
      ]
     },
     "execution_count": 32,
     "metadata": {},
     "output_type": "execute_result"
    }
   ],
   "source": [
    "print(X_test.shape), print(ytest.shape)"
   ]
  },
  {
   "cell_type": "code",
   "execution_count": 33,
   "metadata": {},
   "outputs": [
    {
     "data": {
      "text/plain": [
       "100"
      ]
     },
     "execution_count": 33,
     "metadata": {},
     "output_type": "execute_result"
    }
   ],
   "source": [
    "X_train.shape[1]"
   ]
  },
  {
   "cell_type": "code",
   "execution_count": 34,
   "metadata": {},
   "outputs": [],
   "source": [
    "# reshape input to be [samples, time steps, features] which is required for LSTM\n",
    "X_train =X_train.reshape(X_train.shape[0],X_train.shape[1] , 1)\n",
    "X_test = X_test.reshape(X_test.shape[0],X_test.shape[1] , 1)"
   ]
  },
  {
   "cell_type": "code",
   "execution_count": 35,
   "metadata": {},
   "outputs": [],
   "source": [
    "### Create the Stacked LSTM model\n",
    "from tensorflow.keras.models import Sequential\n",
    "from tensorflow.keras.layers import Dense\n",
    "from tensorflow.keras.layers import LSTM\n",
    "from keras.optimizers import Adam"
   ]
  },
  {
   "cell_type": "code",
   "execution_count": 36,
   "metadata": {},
   "outputs": [],
   "source": [
    "opt = Adam(lr=0.0001)\n",
    "model=Sequential()\n",
    "model.add(LSTM(50,return_sequences=True,input_shape=(100,1)))\n",
    "model.add(LSTM(50,return_sequences=True))\n",
    "model.add(LSTM(50))\n",
    "model.add(Dense(1))\n",
    "#model.compile(loss='mean_squared_error',optimizer='adam')\n",
    "model.compile(optimizer=opt, loss='mean_squared_error')"
   ]
  },
  {
   "cell_type": "code",
   "execution_count": 37,
   "metadata": {},
   "outputs": [
    {
     "name": "stdout",
     "output_type": "stream",
     "text": [
      "Model: \"sequential\"\n",
      "_________________________________________________________________\n",
      "Layer (type)                 Output Shape              Param #   \n",
      "=================================================================\n",
      "lstm (LSTM)                  (None, 100, 50)           10400     \n",
      "_________________________________________________________________\n",
      "lstm_1 (LSTM)                (None, 100, 50)           20200     \n",
      "_________________________________________________________________\n",
      "lstm_2 (LSTM)                (None, 50)                20200     \n",
      "_________________________________________________________________\n",
      "dense (Dense)                (None, 1)                 51        \n",
      "=================================================================\n",
      "Total params: 50,851\n",
      "Trainable params: 50,851\n",
      "Non-trainable params: 0\n",
      "_________________________________________________________________\n"
     ]
    }
   ],
   "source": [
    "model.summary()"
   ]
  },
  {
   "cell_type": "code",
   "execution_count": 38,
   "metadata": {},
   "outputs": [
    {
     "name": "stdout",
     "output_type": "stream",
     "text": [
      "Epoch 1/100\n",
      "11/11 [==============================] - 18s 1s/step - loss: 0.0146 - val_loss: 0.0787\n",
      "Epoch 2/100\n",
      "11/11 [==============================] - 12s 1s/step - loss: 0.0095 - val_loss: 0.0569\n",
      "Epoch 3/100\n",
      "11/11 [==============================] - 12s 1s/step - loss: 0.0074 - val_loss: 0.0358\n",
      "Epoch 4/100\n",
      "11/11 [==============================] - 12s 1s/step - loss: 0.0048 - val_loss: 0.0210\n",
      "Epoch 5/100\n",
      "11/11 [==============================] - 12s 1s/step - loss: 0.0036 - val_loss: 0.0129\n",
      "Epoch 6/100\n",
      "11/11 [==============================] - 12s 1s/step - loss: 0.0024 - val_loss: 0.0074\n",
      "Epoch 7/100\n",
      "11/11 [==============================] - 12s 1s/step - loss: 0.0013 - val_loss: 0.0033\n",
      "Epoch 8/100\n",
      "11/11 [==============================] - 12s 1s/step - loss: 9.5356e-04 - val_loss: 0.0027\n",
      "Epoch 9/100\n",
      "11/11 [==============================] - 12s 1s/step - loss: 8.7482e-04 - val_loss: 0.0030\n",
      "Epoch 10/100\n",
      "11/11 [==============================] - 12s 1s/step - loss: 8.3976e-04 - val_loss: 0.0033\n",
      "Epoch 11/100\n",
      "11/11 [==============================] - 12s 1s/step - loss: 9.6289e-04 - val_loss: 0.0035\n",
      "Epoch 12/100\n",
      "11/11 [==============================] - 12s 1s/step - loss: 8.9942e-04 - val_loss: 0.0033\n",
      "Epoch 13/100\n",
      "11/11 [==============================] - 12s 1s/step - loss: 7.4197e-04 - val_loss: 0.0032\n",
      "Epoch 14/100\n",
      "11/11 [==============================] - 12s 1s/step - loss: 8.5729e-04 - val_loss: 0.0033\n",
      "Epoch 15/100\n",
      "11/11 [==============================] - 12s 1s/step - loss: 6.0046e-04 - val_loss: 0.0034\n",
      "Epoch 16/100\n",
      "11/11 [==============================] - 12s 1s/step - loss: 6.3546e-04 - val_loss: 0.0033\n",
      "Epoch 17/100\n",
      "11/11 [==============================] - 12s 1s/step - loss: 6.2944e-04 - val_loss: 0.0035\n",
      "Epoch 18/100\n",
      "11/11 [==============================] - 12s 1s/step - loss: 7.6656e-04 - val_loss: 0.0033\n",
      "Epoch 19/100\n",
      "11/11 [==============================] - 13s 1s/step - loss: 6.4005e-04 - val_loss: 0.0035\n",
      "Epoch 20/100\n",
      "11/11 [==============================] - 13s 1s/step - loss: 7.4411e-04 - val_loss: 0.0034\n",
      "Epoch 21/100\n",
      "11/11 [==============================] - 12s 1s/step - loss: 7.3720e-04 - val_loss: 0.0036\n",
      "Epoch 22/100\n",
      "11/11 [==============================] - 12s 1s/step - loss: 5.4233e-04 - val_loss: 0.0035\n",
      "Epoch 23/100\n",
      "11/11 [==============================] - 12s 1s/step - loss: 5.9438e-04 - val_loss: 0.0034\n",
      "Epoch 24/100\n",
      "11/11 [==============================] - 12s 1s/step - loss: 5.9606e-04 - val_loss: 0.0036\n",
      "Epoch 25/100\n",
      "11/11 [==============================] - 12s 1s/step - loss: 5.3509e-04 - val_loss: 0.0034\n",
      "Epoch 26/100\n",
      "11/11 [==============================] - 12s 1s/step - loss: 6.3191e-04 - val_loss: 0.0036\n",
      "Epoch 27/100\n",
      "11/11 [==============================] - 12s 1s/step - loss: 5.6464e-04 - val_loss: 0.0034\n",
      "Epoch 28/100\n",
      "11/11 [==============================] - 11s 1s/step - loss: 5.5632e-04 - val_loss: 0.0037\n",
      "Epoch 29/100\n",
      "11/11 [==============================] - 12s 1s/step - loss: 5.8399e-04 - val_loss: 0.0035\n",
      "Epoch 30/100\n",
      "11/11 [==============================] - 12s 1s/step - loss: 6.2728e-04 - val_loss: 0.0036\n",
      "Epoch 31/100\n",
      "11/11 [==============================] - 12s 1s/step - loss: 5.4986e-04 - val_loss: 0.0034\n",
      "Epoch 32/100\n",
      "11/11 [==============================] - 11s 993ms/step - loss: 6.0671e-04 - val_loss: 0.0036\n",
      "Epoch 33/100\n",
      "11/11 [==============================] - 11s 1s/step - loss: 4.6500e-04 - val_loss: 0.0036\n",
      "Epoch 34/100\n",
      "11/11 [==============================] - 11s 973ms/step - loss: 5.7062e-04 - val_loss: 0.0035\n",
      "Epoch 35/100\n",
      "11/11 [==============================] - 11s 981ms/step - loss: 5.2155e-04 - val_loss: 0.0037\n",
      "Epoch 36/100\n",
      "11/11 [==============================] - 11s 1s/step - loss: 4.6920e-04 - val_loss: 0.0037\n",
      "Epoch 37/100\n",
      "11/11 [==============================] - 11s 999ms/step - loss: 3.8926e-04 - val_loss: 0.0035\n",
      "Epoch 38/100\n",
      "11/11 [==============================] - 11s 978ms/step - loss: 4.0570e-04 - val_loss: 0.0036\n",
      "Epoch 39/100\n",
      "11/11 [==============================] - 11s 999ms/step - loss: 4.4587e-04 - val_loss: 0.0038\n",
      "Epoch 40/100\n",
      "11/11 [==============================] - 11s 999ms/step - loss: 4.4805e-04 - val_loss: 0.0037\n",
      "Epoch 41/100\n",
      "11/11 [==============================] - 11s 1s/step - loss: 3.8894e-04 - val_loss: 0.0038\n",
      "Epoch 42/100\n",
      "11/11 [==============================] - 11s 982ms/step - loss: 3.9046e-04 - val_loss: 0.0039\n",
      "Epoch 43/100\n",
      "11/11 [==============================] - 11s 980ms/step - loss: 3.3813e-04 - val_loss: 0.0042\n",
      "Epoch 44/100\n",
      "11/11 [==============================] - 11s 981ms/step - loss: 4.3721e-04 - val_loss: 0.0047\n",
      "Epoch 45/100\n",
      "11/11 [==============================] - 11s 979ms/step - loss: 3.8996e-04 - val_loss: 0.0041\n",
      "Epoch 46/100\n",
      "11/11 [==============================] - 11s 1s/step - loss: 3.9476e-04 - val_loss: 0.0048\n",
      "Epoch 47/100\n",
      "11/11 [==============================] - 11s 991ms/step - loss: 4.1859e-04 - val_loss: 0.0047\n",
      "Epoch 48/100\n",
      "11/11 [==============================] - 11s 977ms/step - loss: 3.1170e-04 - val_loss: 0.0045\n",
      "Epoch 49/100\n",
      "11/11 [==============================] - 10s 931ms/step - loss: 3.0960e-04 - val_loss: 0.0053\n",
      "Epoch 50/100\n",
      "11/11 [==============================] - 10s 891ms/step - loss: 3.2865e-04 - val_loss: 0.0049\n",
      "Epoch 51/100\n",
      "11/11 [==============================] - 10s 949ms/step - loss: 3.3283e-04 - val_loss: 0.0049\n",
      "Epoch 52/100\n",
      "11/11 [==============================] - 10s 926ms/step - loss: 3.6205e-04 - val_loss: 0.0056\n",
      "Epoch 53/100\n",
      "11/11 [==============================] - 10s 950ms/step - loss: 3.2507e-04 - val_loss: 0.0043\n",
      "Epoch 54/100\n",
      "11/11 [==============================] - 11s 990ms/step - loss: 3.5478e-04 - val_loss: 0.0053\n",
      "Epoch 55/100\n",
      "11/11 [==============================] - 11s 992ms/step - loss: 3.6960e-04 - val_loss: 0.0049\n",
      "Epoch 56/100\n",
      "11/11 [==============================] - 11s 1s/step - loss: 3.3348e-04 - val_loss: 0.0045\n",
      "Epoch 57/100\n",
      "11/11 [==============================] - 11s 1s/step - loss: 2.7776e-04 - val_loss: 0.0048\n",
      "Epoch 58/100\n",
      "11/11 [==============================] - 11s 1s/step - loss: 3.3573e-04 - val_loss: 0.0048\n",
      "Epoch 59/100\n",
      "11/11 [==============================] - 11s 1s/step - loss: 3.4521e-04 - val_loss: 0.0048\n",
      "Epoch 60/100\n",
      "11/11 [==============================] - 11s 992ms/step - loss: 3.2718e-04 - val_loss: 0.0048\n",
      "Epoch 61/100\n",
      "11/11 [==============================] - 12s 1s/step - loss: 3.0588e-04 - val_loss: 0.0040\n",
      "Epoch 62/100\n",
      "11/11 [==============================] - 12s 1s/step - loss: 3.5522e-04 - val_loss: 0.0048\n",
      "Epoch 63/100\n",
      "11/11 [==============================] - 12s 1s/step - loss: 3.0073e-04 - val_loss: 0.0045\n",
      "Epoch 64/100\n",
      "11/11 [==============================] - 12s 1s/step - loss: 3.2862e-04 - val_loss: 0.0040\n",
      "Epoch 65/100\n",
      "11/11 [==============================] - 12s 1s/step - loss: 3.3225e-04 - val_loss: 0.0045\n",
      "Epoch 66/100\n",
      "11/11 [==============================] - 12s 1s/step - loss: 3.1099e-04 - val_loss: 0.0044\n",
      "Epoch 67/100\n",
      "11/11 [==============================] - 12s 1s/step - loss: 3.4412e-04 - val_loss: 0.0043\n",
      "Epoch 68/100\n",
      "11/11 [==============================] - 12s 1s/step - loss: 3.4290e-04 - val_loss: 0.0044\n",
      "Epoch 69/100\n",
      "11/11 [==============================] - 12s 1s/step - loss: 2.9315e-04 - val_loss: 0.0040\n",
      "Epoch 70/100\n",
      "11/11 [==============================] - 12s 1s/step - loss: 2.8027e-04 - val_loss: 0.0041\n",
      "Epoch 71/100\n",
      "11/11 [==============================] - 12s 1s/step - loss: 3.8467e-04 - val_loss: 0.0050\n",
      "Epoch 72/100\n",
      "11/11 [==============================] - 12s 1s/step - loss: 2.4678e-04 - val_loss: 0.0039\n",
      "Epoch 73/100\n",
      "11/11 [==============================] - 12s 1s/step - loss: 3.0022e-04 - val_loss: 0.0047\n",
      "Epoch 74/100\n",
      "11/11 [==============================] - 11s 1s/step - loss: 3.0715e-04 - val_loss: 0.0040\n",
      "Epoch 75/100\n",
      "11/11 [==============================] - 12s 1s/step - loss: 3.3280e-04 - val_loss: 0.0040\n",
      "Epoch 76/100\n",
      "11/11 [==============================] - 11s 1s/step - loss: 2.5997e-04 - val_loss: 0.0040\n",
      "Epoch 77/100\n",
      "11/11 [==============================] - 12s 1s/step - loss: 3.0047e-04 - val_loss: 0.0040\n",
      "Epoch 78/100\n",
      "11/11 [==============================] - 12s 1s/step - loss: 3.1662e-04 - val_loss: 0.0043\n",
      "Epoch 79/100\n"
     ]
    },
    {
     "name": "stdout",
     "output_type": "stream",
     "text": [
      "11/11 [==============================] - 12s 1s/step - loss: 2.9855e-04 - val_loss: 0.0036\n",
      "Epoch 80/100\n",
      "11/11 [==============================] - 12s 1s/step - loss: 3.0880e-04 - val_loss: 0.0039\n",
      "Epoch 81/100\n",
      "11/11 [==============================] - 12s 1s/step - loss: 2.8348e-04 - val_loss: 0.0037\n",
      "Epoch 82/100\n",
      "11/11 [==============================] - 12s 1s/step - loss: 3.1720e-04 - val_loss: 0.0040\n",
      "Epoch 83/100\n",
      "11/11 [==============================] - 12s 1s/step - loss: 2.8768e-04 - val_loss: 0.0037\n",
      "Epoch 84/100\n",
      "11/11 [==============================] - 12s 1s/step - loss: 2.9736e-04 - val_loss: 0.0035\n",
      "Epoch 85/100\n",
      "11/11 [==============================] - 12s 1s/step - loss: 3.3329e-04 - val_loss: 0.0036\n",
      "Epoch 86/100\n",
      "11/11 [==============================] - 12s 1s/step - loss: 2.9753e-04 - val_loss: 0.0039\n",
      "Epoch 87/100\n",
      "11/11 [==============================] - 12s 1s/step - loss: 3.9922e-04 - val_loss: 0.0040\n",
      "Epoch 88/100\n",
      "11/11 [==============================] - 12s 1s/step - loss: 2.7007e-04 - val_loss: 0.0036\n",
      "Epoch 89/100\n",
      "11/11 [==============================] - 12s 1s/step - loss: 3.0915e-04 - val_loss: 0.0037\n",
      "Epoch 90/100\n",
      "11/11 [==============================] - 12s 1s/step - loss: 2.8361e-04 - val_loss: 0.0035\n",
      "Epoch 91/100\n",
      "11/11 [==============================] - 12s 1s/step - loss: 2.9240e-04 - val_loss: 0.0038\n",
      "Epoch 92/100\n",
      "11/11 [==============================] - 12s 1s/step - loss: 2.7339e-04 - val_loss: 0.0032\n",
      "Epoch 93/100\n",
      "11/11 [==============================] - 12s 1s/step - loss: 2.4292e-04 - val_loss: 0.0035\n",
      "Epoch 94/100\n",
      "11/11 [==============================] - 12s 1s/step - loss: 3.1211e-04 - val_loss: 0.0039\n",
      "Epoch 95/100\n",
      "11/11 [==============================] - 12s 1s/step - loss: 2.4910e-04 - val_loss: 0.0034\n",
      "Epoch 96/100\n",
      "11/11 [==============================] - 12s 1s/step - loss: 2.5404e-04 - val_loss: 0.0034\n",
      "Epoch 97/100\n",
      "11/11 [==============================] - 12s 1s/step - loss: 2.5364e-04 - val_loss: 0.0031\n",
      "Epoch 98/100\n",
      "11/11 [==============================] - 12s 1s/step - loss: 2.3684e-04 - val_loss: 0.0034\n",
      "Epoch 99/100\n",
      "11/11 [==============================] - 12s 1s/step - loss: 2.9306e-04 - val_loss: 0.0035\n",
      "Epoch 100/100\n",
      "11/11 [==============================] - 12s 1s/step - loss: 2.5665e-04 - val_loss: 0.0036\n"
     ]
    },
    {
     "data": {
      "text/plain": [
       "<tensorflow.python.keras.callbacks.History at 0x7f1b0ca24ac0>"
      ]
     },
     "execution_count": 38,
     "metadata": {},
     "output_type": "execute_result"
    }
   ],
   "source": [
    "model.fit(X_train,y_train,validation_data=(X_test,ytest),epochs=100,batch_size=128,verbose=1)"
   ]
  },
  {
   "cell_type": "code",
   "execution_count": 39,
   "metadata": {},
   "outputs": [],
   "source": [
    "import tensorflow as tf\n",
    "### Do the prediction and check performance metrics\n",
    "train_predict=model.predict(X_train)\n",
    "test_predict=model.predict(X_test)\n",
    "##Transformback to original form\n",
    "train_predict=scaler.inverse_transform(train_predict)\n",
    "test_predict=scaler.inverse_transform(test_predict)\n",
    "### Calculate RMSE performance metrics"
   ]
  },
  {
   "cell_type": "code",
   "execution_count": 40,
   "metadata": {},
   "outputs": [
    {
     "data": {
      "text/plain": [
       "4811.927133570552"
      ]
     },
     "execution_count": 40,
     "metadata": {},
     "output_type": "execute_result"
    }
   ],
   "source": [
    "import math\n",
    "from sklearn.metrics import mean_squared_error\n",
    "math.sqrt(mean_squared_error(y_train,train_predict))"
   ]
  },
  {
   "cell_type": "code",
   "execution_count": 41,
   "metadata": {},
   "outputs": [
    {
     "data": {
      "text/plain": [
       "10864.702187219149"
      ]
     },
     "execution_count": 41,
     "metadata": {},
     "output_type": "execute_result"
    }
   ],
   "source": [
    "### Test Data RMSE\n",
    "math.sqrt(mean_squared_error(ytest,test_predict))"
   ]
  },
  {
   "cell_type": "code",
   "execution_count": 42,
   "metadata": {},
   "outputs": [
    {
     "data": {
      "image/png": "[encoded data removed]",
      "text/plain": [
       "<Figure size 432x288 with 1 Axes>"
      ]
     },
     "metadata": {
      "needs_background": "light"
     },
     "output_type": "display_data"
    }
   ],
   "source": [
    "# shift train predictions for plotting\n",
    "look_back=100\n",
    "trainPredictPlot = numpy.empty_like(df1)\n",
    "trainPredictPlot[:, :] = np.nan\n",
    "trainPredictPlot[look_back:len(train_predict)+look_back, :] = train_predict\n",
    "# shift test predictions for plotting\n",
    "testPredictPlot = numpy.empty_like(df1)\n",
    "testPredictPlot[:, :] = numpy.nan\n",
    "testPredictPlot[len(train_predict)+(look_back*2)+1:len(df1)-1, :] = test_predict\n",
    "# plot baseline and predictions\n",
    "plt.plot(scaler.inverse_transform(df1))\n",
    "plt.plot(trainPredictPlot)\n",
    "plt.plot(testPredictPlot)\n",
    "plt.show()"
   ]
  },
  {
   "cell_type": "code",
   "execution_count": 43,
   "metadata": {},
   "outputs": [
    {
     "data": {
      "text/plain": [
       "811"
      ]
     },
     "execution_count": 43,
     "metadata": {},
     "output_type": "execute_result"
    }
   ],
   "source": [
    "len(test_data)"
   ]
  },
  {
   "cell_type": "code",
   "execution_count": 44,
   "metadata": {},
   "outputs": [
    {
     "data": {
      "text/plain": [
       "(1, 104)"
      ]
     },
     "execution_count": 44,
     "metadata": {},
     "output_type": "execute_result"
    }
   ],
   "source": [
    "x_input=test_data[707:].reshape(1,-1)\n",
    "x_input.shape"
   ]
  },
  {
   "cell_type": "code",
   "execution_count": 45,
   "metadata": {},
   "outputs": [
    {
     "data": {
      "text/plain": [
       "[0.3113180731031483,\n",
       " 0.31481890710336197,\n",
       " 0.3139731917792928,\n",
       " 0.3183189717441524,\n",
       " 0.3164260715379194,\n",
       " 0.31751112211903304,\n",
       " 0.3317646361231712,\n",
       " 0.3223373035889826,\n",
       " 0.3264387236173223,\n",
       " 0.32911329201283684,\n",
       " 0.33488570721202776,\n",
       " 0.33380529669222464,\n",
       " 0.32921094945266594,\n",
       " 0.339053794889521,\n",
       " 0.3435690208573908,\n",
       " 0.3791711669923632,\n",
       " 0.3788272983625966,\n",
       " 0.36080327448138744,\n",
       " 0.3767023716045809,\n",
       " 0.3730772179252208,\n",
       " 0.37205768101567255,\n",
       " 0.3821621243385559,\n",
       " 0.39631798090286485,\n",
       " 0.3973387920277991,\n",
       " 0.39119223968724126,\n",
       " 0.38842138422797945,\n",
       " 0.40714449302016087,\n",
       " 0.4300225386899457,\n",
       " 0.4339270570640513,\n",
       " 0.4342491679454155,\n",
       " 0.45404814338140403,\n",
       " 0.45456311687235057,\n",
       " 0.44786115288325967,\n",
       " 0.44771637369896156,\n",
       " 0.46601654069465415,\n",
       " 0.45677606035727386,\n",
       " 0.4178416126492497,\n",
       " 0.41680219324796247,\n",
       " 0.431795278425626,\n",
       " 0.4431216177395173,\n",
       " 0.47877817027173725,\n",
       " 0.4585209597743281,\n",
       " 0.4683215158494165,\n",
       " 0.4743360311102991,\n",
       " 0.4559795103278643,\n",
       " 0.4671678502296545,\n",
       " 0.47186733188321267,\n",
       " 0.4680885997250314,\n",
       " 0.4466583459967029,\n",
       " 0.4523888805540127,\n",
       " 0.4452759475382515,\n",
       " 0.4402023287433265,\n",
       " 0.4585371638855715,\n",
       " 0.4668761761780364,\n",
       " 0.4694429655680835,\n",
       " 0.47363877335102367,\n",
       " 0.5202548367364112,\n",
       " 0.5570490911788895,\n",
       " 0.5652421702848494,\n",
       " 0.5832598952219596,\n",
       " 0.5735961365010362,\n",
       " 0.5569978823340394,\n",
       " 0.5811229235612944,\n",
       " 0.5677873702200212,\n",
       " 0.5799638725979005,\n",
       " 0.6028307629130195,\n",
       " 0.6464611821630148,\n",
       " 0.6424054414194684,\n",
       " 0.6624084829246716,\n",
       " 0.669243349488938,\n",
       " 0.7056425024289349,\n",
       " 0.7096003934112604,\n",
       " 0.7187691813707742,\n",
       " 0.7865473372247587,\n",
       " 0.802666584315231,\n",
       " 0.7827227335096298,\n",
       " 0.832465229299641,\n",
       " 0.9021837917717298,\n",
       " 0.9648797700118621,\n",
       " 1.0,\n",
       " 0.9866304997666312,\n",
       " 0.9399015845667154,\n",
       " 0.8712206623999462,\n",
       " 0.8307549980291392,\n",
       " 0.9142961027737776,\n",
       " 0.9603569468566426,\n",
       " 0.9022085066707898,\n",
       " 0.8862746211878647,\n",
       " 0.876750544814314,\n",
       " 0.8974006449704869,\n",
       " 0.8836075297665203,\n",
       " 0.8707552148431971,\n",
       " 0.7545043983744494,\n",
       " 0.8081747330090611,\n",
       " 0.7850794464176883,\n",
       " 0.7905383096036797,\n",
       " 0.7924342871491308,\n",
       " 0.7974431375548117,\n",
       " 0.7448254933591749,\n",
       " 0.774787910496257,\n",
       " 0.8404406347116443,\n",
       " 0.8392869210115342,\n",
       " 0.810848267615548,\n",
       " 0.8262207310125477]"
      ]
     },
     "execution_count": 45,
     "metadata": {},
     "output_type": "execute_result"
    }
   ],
   "source": [
    "temp_input=list(x_input)\n",
    "temp_input=temp_input[0].tolist()\n",
    "\n",
    "temp_input"
   ]
  },
  {
   "cell_type": "code",
   "execution_count": 46,
   "metadata": {},
   "outputs": [
    {
     "name": "stdout",
     "output_type": "stream",
     "text": [
      "0 day input [0.31481891 0.31397319 0.31831897 0.31642607 0.31751112 0.33176464\n",
      " 0.3223373  0.32643872 0.32911329 0.33488571 0.3338053  0.32921095\n",
      " 0.33905379 0.34356902 0.37917117 0.3788273  0.36080327 0.37670237\n",
      " 0.37307722 0.37205768 0.38216212 0.39631798 0.39733879 0.39119224\n",
      " 0.38842138 0.40714449 0.43002254 0.43392706 0.43424917 0.45404814\n",
      " 0.45456312 0.44786115 0.44771637 0.46601654 0.45677606 0.41784161\n",
      " 0.41680219 0.43179528 0.44312162 0.47877817 0.45852096 0.46832152\n",
      " 0.47433603 0.45597951 0.46716785 0.47186733 0.4680886  0.44665835\n",
      " 0.45238888 0.44527595 0.44020233 0.45853716 0.46687618 0.46944297\n",
      " 0.47363877 0.52025484 0.55704909 0.56524217 0.5832599  0.57359614\n",
      " 0.55699788 0.58112292 0.56778737 0.57996387 0.60283076 0.64646118\n",
      " 0.64240544 0.66240848 0.66924335 0.7056425  0.70960039 0.71876918\n",
      " 0.78654734 0.80266658 0.78272273 0.83246523 0.90218379 0.96487977\n",
      " 1.         0.9866305  0.93990158 0.87122066 0.830755   0.9142961\n",
      " 0.96035695 0.90220851 0.88627462 0.87675054 0.89740064 0.88360753\n",
      " 0.87075521 0.7545044  0.80817473 0.78507945 0.79053831 0.79243429\n",
      " 0.79744314 0.74482549 0.77478791 0.84044063 0.83928692 0.81084827\n",
      " 0.82622073]\n"
     ]
    },
    {
     "ename": "ValueError",
     "evalue": "cannot reshape array of size 103 into shape (1,100,1)",
     "output_type": "error",
     "traceback": [
      "\u001b[0;31m---------------------------------------------------------------------------\u001b[0m",
      "\u001b[0;31mValueError\u001b[0m                                Traceback (most recent call last)",
      "\u001b[0;32m<ipython-input-46-b8544ff16353>\u001b[0m in \u001b[0;36m<module>\u001b[0;34m\u001b[0m\n\u001b[1;32m     12\u001b[0m         \u001b[0mprint\u001b[0m\u001b[0;34m(\u001b[0m\u001b[0;34m\"{} day input {}\"\u001b[0m\u001b[0;34m.\u001b[0m\u001b[0mformat\u001b[0m\u001b[0;34m(\u001b[0m\u001b[0mi\u001b[0m\u001b[0;34m,\u001b[0m\u001b[0mx_input\u001b[0m\u001b[0;34m)\u001b[0m\u001b[0;34m)\u001b[0m\u001b[0;34m\u001b[0m\u001b[0;34m\u001b[0m\u001b[0m\n\u001b[1;32m     13\u001b[0m         \u001b[0mx_input\u001b[0m\u001b[0;34m=\u001b[0m\u001b[0mx_input\u001b[0m\u001b[0;34m.\u001b[0m\u001b[0mreshape\u001b[0m\u001b[0;34m(\u001b[0m\u001b[0;36m1\u001b[0m\u001b[0;34m,\u001b[0m\u001b[0;34m-\u001b[0m\u001b[0;36m1\u001b[0m\u001b[0;34m)\u001b[0m\u001b[0;34m\u001b[0m\u001b[0;34m\u001b[0m\u001b[0m\n\u001b[0;32m---> 14\u001b[0;31m         \u001b[0mx_input\u001b[0m \u001b[0;34m=\u001b[0m \u001b[0mx_input\u001b[0m\u001b[0;34m.\u001b[0m\u001b[0mreshape\u001b[0m\u001b[0;34m(\u001b[0m\u001b[0;34m(\u001b[0m\u001b[0;36m1\u001b[0m\u001b[0;34m,\u001b[0m \u001b[0mn_steps\u001b[0m\u001b[0;34m,\u001b[0m \u001b[0;36m1\u001b[0m\u001b[0;34m)\u001b[0m\u001b[0;34m)\u001b[0m\u001b[0;34m\u001b[0m\u001b[0;34m\u001b[0m\u001b[0m\n\u001b[0m\u001b[1;32m     15\u001b[0m         \u001b[0;31m#print(x_input)\u001b[0m\u001b[0;34m\u001b[0m\u001b[0;34m\u001b[0m\u001b[0;34m\u001b[0m\u001b[0m\n\u001b[1;32m     16\u001b[0m         \u001b[0myhat\u001b[0m \u001b[0;34m=\u001b[0m \u001b[0mmodel\u001b[0m\u001b[0;34m.\u001b[0m\u001b[0mpredict\u001b[0m\u001b[0;34m(\u001b[0m\u001b[0mx_input\u001b[0m\u001b[0;34m,\u001b[0m \u001b[0mverbose\u001b[0m\u001b[0;34m=\u001b[0m\u001b[0;36m0\u001b[0m\u001b[0;34m)\u001b[0m\u001b[0;34m\u001b[0m\u001b[0;34m\u001b[0m\u001b[0m\n",
      "\u001b[0;31mValueError\u001b[0m: cannot reshape array of size 103 into shape (1,100,1)"
     ]
    }
   ],
   "source": [
    "# demonstrate prediction for next 10 days\n",
    "from numpy import array\n",
    "\n",
    "lst_output=[]\n",
    "n_steps=100\n",
    "i=0\n",
    "while(i<30):\n",
    "    \n",
    "    if(len(temp_input)>100):\n",
    "        #print(temp_input)\n",
    "        x_input=np.array(temp_input[1:])\n",
    "        print(\"{} day input {}\".format(i,x_input))\n",
    "        x_input=x_input.reshape(1,-1)\n",
    "        x_input = x_input.reshape((1, n_steps, 1))\n",
    "        #print(x_input)\n",
    "        yhat = model.predict(x_input, verbose=0)\n",
    "        print(\"{} day output {}\".format(i,yhat))\n",
    "        temp_input.extend(yhat[0].tolist())\n",
    "        temp_input=temp_input[1:]\n",
    "        #print(temp_input)\n",
    "        lst_output.extend(yhat.tolist())\n",
    "        i=i+1\n",
    "    else:\n",
    "        x_input = x_input.reshape((1, n_steps,1))\n",
    "        yhat = model.predict(x_input, verbose=0)\n",
    "        print(yhat[0])\n",
    "        temp_input.extend(yhat[0].tolist())\n",
    "        print(len(temp_input))\n",
    "        lst_output.extend(yhat.tolist())\n",
    "        i=i+1\n",
    "    \n",
    "\n",
    "print(lst_output)"
   ]
  },
  {
   "cell_type": "code",
   "execution_count": null,
   "metadata": {},
   "outputs": [],
   "source": [
    "day_new=np.arange(1,101)\n",
    "day_pred=np.arange(101,131)"
   ]
  },
  {
   "cell_type": "code",
   "execution_count": null,
   "metadata": {},
   "outputs": [],
   "source": [
    "import matplotlib.pyplot as plt"
   ]
  },
  {
   "cell_type": "code",
   "execution_count": null,
   "metadata": {},
   "outputs": [],
   "source": [
    "len(df1)"
   ]
  },
  {
   "cell_type": "code",
   "execution_count": null,
   "metadata": {},
   "outputs": [],
   "source": [
    "plt.plot(day_new,scaler.inverse_transform(df1[2205:]))\n",
    "plt.plot(day_pred,scaler.inverse_transform(lst_output))"
   ]
  },
  {
   "cell_type": "code",
   "execution_count": null,
   "metadata": {},
   "outputs": [],
   "source": [
    "df3=df1.tolist()\n",
    "df3.extend(lst_output)\n",
    "plt.plot(df3[2206:])"
   ]
  },
  {
   "cell_type": "code",
   "execution_count": null,
   "metadata": {},
   "outputs": [],
   "source": [
    "df3=scaler.inverse_transform(df3).tolist()\n",
    "plt.plot(df3)"
   ]
  }
 ],
 "metadata": {
  "kernelspec": {
   "display_name": "Python 3",
   "language": "python",
   "name": "python3"
  },
  "language_info": {
   "codemirror_mode": {
    "name": "ipython",
    "version": 3
   },
   "file_extension": ".py",
   "mimetype": "text/x-python",
   "name": "python",
   "nbconvert_exporter": "python",
   "pygments_lexer": "ipython3",
   "version": "3.8.5"
  }
 },
 "nbformat": 4,
 "nbformat_minor": 4
}
