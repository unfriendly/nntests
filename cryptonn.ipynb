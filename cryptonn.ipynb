{
 "cells": [
  {
   "cell_type": "code",
   "execution_count": 1,
   "metadata": {},
   "outputs": [],
   "source": [
    "##Created By Unfriendly \n",
    "#(A simple Jupyter Notebook in Binder for Crypto price prediction)\n",
    "\n",
    "historical_start = \"6yr,0mon,0day,0hr,0min,0sec\"\n",
    "# How long to historically look back at data\n",
    "\n",
    "predict_into = \"0yr,0mon,10day,0hr,0min,0sec\" \n",
    "# How far to try and predict into the future"
   ]
  },
  {
   "cell_type": "code",
   "execution_count": 2,
   "metadata": {},
   "outputs": [],
   "source": [
    "import os, glob\n",
    "for dirname, _, filenames in os.walk('/unfriendly/input'):\n",
    "    for filename in filenames:\n",
    "        print(os.path.join(dirname, filename))"
   ]
  },
  {
   "cell_type": "code",
   "execution_count": 3,
   "metadata": {},
   "outputs": [],
   "source": [
    "import json\n",
    "import requests\n",
    "from keras.models import Sequential\n",
    "from keras.layers import Activation, Dense, Dropout, LSTM\n",
    "import matplotlib.pyplot as plt\n",
    "import numpy as np\n",
    "import pandas as pd\n",
    "import seaborn as sns\n",
    "from sklearn.metrics import mean_absolute_error\n",
    "%matplotlib inline"
   ]
  },
  {
   "cell_type": "code",
   "execution_count": 4,
   "metadata": {},
   "outputs": [],
   "source": [
    "import matplotlib.pyplot as plt"
   ]
  },
  {
   "cell_type": "raw",
   "metadata": {},
   "source": [
    "# Prepare data timestamps\n",
    "import time\n",
    "import datetime\n",
    "one_yr = 31536000000\n",
    "one_mon = one_yr/12\n",
    "one_day = one_yr/365\n",
    "one_hr = one_day/24\n",
    "one_min = one_hr/60\n",
    "one_sec = one_min/60"
   ]
  },
  {
   "cell_type": "raw",
   "metadata": {},
   "source": [
    "# Prepare how far to look back in the past in UNIX time-format\n",
    "history_split = historical_start.replace('yr', '')\n",
    "history_res = history_split.replace('mon', '')\n",
    "history_split = history_res.replace('day', '')\n",
    "history_res = history_split.replace('hr', '')\n",
    "history_split = history_res.replace('min', '')\n",
    "history_res = history_split.replace('sec', '')\n",
    "history_split = history_res.split(\",\")\n",
    "print(history_split)"
   ]
  },
  {
   "cell_type": "raw",
   "metadata": {},
   "source": [
    "# Prepare how far to predict into the future in UNIX time-format\n",
    "predict_split = predict_into.replace('yr', '')\n",
    "predict_res = predict_split.replace('mon', '')\n",
    "predict_split = predict_res.replace('day', '')\n",
    "predict_res = predict_split.replace('hr', '')\n",
    "predict_split = predict_res.replace('min', '')\n",
    "predict_res = predict_split.replace('sec', '')\n",
    "predict_split = predict_res.split(\",\")\n",
    "print(predict_split)"
   ]
  },
  {
   "cell_type": "raw",
   "metadata": {},
   "source": [
    "history_array_yr = int(history_split[0])\n",
    "unix_hist_yr = one_yr*history_array_yr\n",
    "\n",
    "history_array_mon = int(history_split[1])\n",
    "unix_hist_mon = one_mon*history_array_mon\n",
    "\n",
    "history_array_day = int(history_split[2])\n",
    "unix_hist_day = one_day*history_array_day\n",
    "\n",
    "history_array_hr = int(history_split[3])\n",
    "unix_hist_hr = one_hr*history_array_hr\n",
    "\n",
    "history_array_min = int(history_split[4])\n",
    "unix_hist_min = one_min*history_array_min\n",
    "\n",
    "history_array_sec = int(history_split[5])\n",
    "unix_hist_sec = one_sec*history_array_sec"
   ]
  },
  {
   "cell_type": "raw",
   "metadata": {},
   "source": [
    "predict_array_yr = int(predict_split[0])\n",
    "unix_pred_yr = one_yr*predict_array_yr\n",
    "\n",
    "predict_array_mon = int(predict_split[1])\n",
    "unix_pred_mon = one_mon*predict_array_mon\n",
    "\n",
    "predict_array_day = int(predict_split[2])\n",
    "unix_pred_day = one_day*predict_array_day\n",
    "\n",
    "predict_array_hr = int(predict_split[3])\n",
    "unix_pred_hr = one_hr*predict_array_hr\n",
    "\n",
    "predict_array_min = int(predict_split[4])\n",
    "unix_pred_min = one_min*predict_array_min\n",
    "\n",
    "predict_array_sec = int(predict_split[5])\n",
    "unix_pred_sec = one_sec*predict_array_sec\n",
    "\n",
    "unix_prediction = unix_pred_yr+unix_pred_mon+unix_pred_day+unix_pred_hr+unix_pred_min+unix_pred_sec"
   ]
  },
  {
   "cell_type": "raw",
   "metadata": {},
   "source": [
    "raw_time = time.time()\n",
    "int_time = int(raw_time)\n",
    "current_time = str(int_time)\n",
    "\n",
    "unix_start = unix_hist_yr+unix_hist_mon+unix_hist_day+unix_hist_hr+unix_hist_min+unix_hist_sec\n",
    "raw_start = raw_time - unix_start\n",
    "\n",
    "int_start = int(raw_start)\n",
    "start = str(int_start)\n",
    "\n",
    "#print(unix_hist_yr+history_array_mon+history_array_day+history_array_hr+history_array_min+history_array_sec)\n",
    "print(start + ' - start')\n",
    "\n",
    "gather_count = int_start/(7*one_day)\n",
    "gather_int = int(gather_count)\n",
    "gather_str = str(gather_int)\n",
    "pos_gather_count = abs(int(gather_count))\n",
    "pos_gather_str = str(pos_gather_count)\n",
    "\n",
    "print(gather_str + ' - gather')\n",
    "print(pos_gather_str + ' - positive gather')"
   ]
  },
  {
   "cell_type": "raw",
   "metadata": {},
   "source": [
    "c_dt = datetime.datetime.now()\n",
    "\n",
    "print(int(c_dt.strftime(\"%s\")))\n",
    "\n",
    "c_dt_array_year = history_array_yr*365\n",
    "\n",
    "history_array_comb = history_array_day + c_dt_array_year\n",
    "\n",
    "c_dt_start = int_time\n",
    "\n",
    "#c_dt_start = datetime.datetime.now() - datetime.timedelta(days=history_array_comb,hours=history_array_hr,minutes=history_array_min,seconds=history_array_sec)\n",
    "\n",
    "#c_dt_str = str(c_dt_start)\n",
    "\n",
    "#print(c_dt_str)\n",
    "\n",
    "data_count = 0\n",
    "\n",
    "c_dt_end = c_dt_start + datetime.timedelta(days=7) \n",
    "c_dt_raw_end = c_dt_end.strftime(\"%s\")\n",
    "c_dt_raw = c_dt_start.strftime(\"%s\")\n",
    "c_dt_int = int(c_dt_raw)\n",
    "c_dt_end_int = int(c_dt_raw_end)\n",
    "c_dt_end_str = str(c_dt_raw_end)\n",
    "c_dt_str = str(c_dt_raw)\n",
    "print(c_dt_int)\n",
    "print(c_dt_end_int)"
   ]
  },
  {
   "cell_type": "raw",
   "metadata": {},
   "source": [
    "import urllib.request\n",
    "\n",
    "#while count < pos_gather_count:\n",
    "while data_count < 1:\n",
    "    \n",
    "    d_u=\"https://query1.finance.yahoo.com/v7/finance/download/BTC-USD?period1=1410912000&period2=1611647792&interval=1d&events=history&includeAdjustedClose=true\"\n",
    "    \n",
    "    #d_u=\"https://query1.finance.yahoo.com/v7/finance/download/BTC-USD?period1=\"+dt_str+\"&period2=\"+dt_end_str+\"&interval=1d&events=history&includeAdjustedClose=true\"\n",
    "    #d_u=\"https://query1.finance.yahoo.com/v7/finance/download/BTC-USD?period1=\"+gather_str+\"&period2=\"+current_time+\"&interval=1m&events=history&includeAdjustedClose=true\"\n",
    "    \n",
    "    with urllib.request.urlopen(d_u) as testfile, open('dataset.csv', 'w') as f:\n",
    "        f.write(testfile.read().decode())\n",
    "\n",
    "    data_count += 1  # This is the same as count = count + 1"
   ]
  },
  {
   "cell_type": "raw",
   "metadata": {},
   "source": [
    "import urllib.request\n",
    "d_u=\"https://query1.finance.yahoo.com/v7/finance/download/BTC-USD?period1=1410998400&period2=1611093914&interval=1d&events=history&includeAdjustedClose=true\"\n",
    "\n",
    "with urllib.request.urlopen(d_u) as testfile, open('dataset.csv', 'w') as f:\n",
    "    f.write(testfile.read().decode())"
   ]
  },
  {
   "cell_type": "raw",
   "metadata": {},
   "source": [
    "import urllib.request\n",
    "d_u=\"https://query1.finance.yahoo.com/v7/finance/download/BTC-USD?period1=1410912000&period2=1609977600&interval=1d&events=history&includeAdjustedClose=true\"\n",
    "\n",
    "\n",
    "with urllib.request.urlopen(d_u) as testfile, open('dataset.csv', 'w') as f:\n",
    "    f.write(testfile.read().decode())"
   ]
  },
  {
   "cell_type": "raw",
   "metadata": {},
   "source": [
    "print(start + ' - start')\n",
    "print(current_time + ' - current time')\n",
    "print(d_u + ' - url')\n",
    "    \n",
    "print(gather_count)\n",
    "#print(data_count)\n",
    "\n",
    "# List all CSV files in the working dir\n",
    "extension = \"csv\"\n",
    "all_filenames = [i for i in glob.glob('*.{}'.format(extension))]\n",
    "print(all_filenames)"
   ]
  },
  {
   "cell_type": "code",
   "execution_count": 5,
   "metadata": {},
   "outputs": [],
   "source": [
    "import urllib.request\n",
    "d_u=\"https://query1.finance.yahoo.com/v7/finance/download/BTC-USD?period1=1411862400&period2=1611961174&interval=1d&events=history&includeAdjustedClose=true\"\n",
    "\n",
    "\n",
    "with urllib.request.urlopen(d_u) as testfile, open('dataset.csv', 'w') as f:\n",
    "    f.write(testfile.read().decode())"
   ]
  },
  {
   "cell_type": "code",
   "execution_count": 6,
   "metadata": {},
   "outputs": [
    {
     "data": {
      "text/html": [
       "<div>\n",
       "<style scoped>\n",
       "    .dataframe tbody tr th:only-of-type {\n",
       "        vertical-align: middle;\n",
       "    }\n",
       "\n",
       "    .dataframe tbody tr th {\n",
       "        vertical-align: top;\n",
       "    }\n",
       "\n",
       "    .dataframe thead th {\n",
       "        text-align: right;\n",
       "    }\n",
       "</style>\n",
       "<table border=\"1\" class=\"dataframe\">\n",
       "  <thead>\n",
       "    <tr style=\"text-align: right;\">\n",
       "      <th></th>\n",
       "      <th>Date</th>\n",
       "      <th>Open</th>\n",
       "      <th>High</th>\n",
       "      <th>Low</th>\n",
       "      <th>Close</th>\n",
       "      <th>Adj Close</th>\n",
       "      <th>Volume</th>\n",
       "    </tr>\n",
       "  </thead>\n",
       "  <tbody>\n",
       "    <tr>\n",
       "      <th>0</th>\n",
       "      <td>2014-09-28</td>\n",
       "      <td>399.471008</td>\n",
       "      <td>401.016998</td>\n",
       "      <td>374.332001</td>\n",
       "      <td>377.181000</td>\n",
       "      <td>377.181000</td>\n",
       "      <td>2.361330e+07</td>\n",
       "    </tr>\n",
       "    <tr>\n",
       "      <th>1</th>\n",
       "      <td>2014-09-29</td>\n",
       "      <td>376.928009</td>\n",
       "      <td>385.210999</td>\n",
       "      <td>372.239990</td>\n",
       "      <td>375.467010</td>\n",
       "      <td>375.467010</td>\n",
       "      <td>3.249770e+07</td>\n",
       "    </tr>\n",
       "    <tr>\n",
       "      <th>2</th>\n",
       "      <td>2014-09-30</td>\n",
       "      <td>376.088013</td>\n",
       "      <td>390.976990</td>\n",
       "      <td>373.442993</td>\n",
       "      <td>386.944000</td>\n",
       "      <td>386.944000</td>\n",
       "      <td>3.470730e+07</td>\n",
       "    </tr>\n",
       "    <tr>\n",
       "      <th>3</th>\n",
       "      <td>2014-10-01</td>\n",
       "      <td>387.427002</td>\n",
       "      <td>391.378998</td>\n",
       "      <td>380.779999</td>\n",
       "      <td>383.614990</td>\n",
       "      <td>383.614990</td>\n",
       "      <td>2.622940e+07</td>\n",
       "    </tr>\n",
       "    <tr>\n",
       "      <th>4</th>\n",
       "      <td>2014-10-02</td>\n",
       "      <td>383.988007</td>\n",
       "      <td>385.497009</td>\n",
       "      <td>372.946014</td>\n",
       "      <td>375.071991</td>\n",
       "      <td>375.071991</td>\n",
       "      <td>2.177770e+07</td>\n",
       "    </tr>\n",
       "    <tr>\n",
       "      <th>...</th>\n",
       "      <td>...</td>\n",
       "      <td>...</td>\n",
       "      <td>...</td>\n",
       "      <td>...</td>\n",
       "      <td>...</td>\n",
       "      <td>...</td>\n",
       "      <td>...</td>\n",
       "    </tr>\n",
       "    <tr>\n",
       "      <th>2311</th>\n",
       "      <td>2021-01-25</td>\n",
       "      <td>32285.798828</td>\n",
       "      <td>34802.742188</td>\n",
       "      <td>32087.787109</td>\n",
       "      <td>32366.392578</td>\n",
       "      <td>32366.392578</td>\n",
       "      <td>5.989705e+10</td>\n",
       "    </tr>\n",
       "    <tr>\n",
       "      <th>2312</th>\n",
       "      <td>2021-01-26</td>\n",
       "      <td>32358.613281</td>\n",
       "      <td>32794.550781</td>\n",
       "      <td>31030.265625</td>\n",
       "      <td>32569.849609</td>\n",
       "      <td>32569.849609</td>\n",
       "      <td>6.025542e+10</td>\n",
       "    </tr>\n",
       "    <tr>\n",
       "      <th>2313</th>\n",
       "      <td>2021-01-27</td>\n",
       "      <td>32564.029297</td>\n",
       "      <td>32564.029297</td>\n",
       "      <td>29367.138672</td>\n",
       "      <td>30432.546875</td>\n",
       "      <td>30432.546875</td>\n",
       "      <td>6.257676e+10</td>\n",
       "    </tr>\n",
       "    <tr>\n",
       "      <th>2314</th>\n",
       "      <td>2021-01-28</td>\n",
       "      <td>30441.041016</td>\n",
       "      <td>31891.300781</td>\n",
       "      <td>30023.207031</td>\n",
       "      <td>31649.605469</td>\n",
       "      <td>31649.605469</td>\n",
       "      <td>7.894816e+10</td>\n",
       "    </tr>\n",
       "    <tr>\n",
       "      <th>2315</th>\n",
       "      <td>2021-01-29</td>\n",
       "      <td>37553.777344</td>\n",
       "      <td>38372.031250</td>\n",
       "      <td>32074.279297</td>\n",
       "      <td>34175.660156</td>\n",
       "      <td>34175.660156</td>\n",
       "      <td>1.189606e+11</td>\n",
       "    </tr>\n",
       "  </tbody>\n",
       "</table>\n",
       "<p>2316 rows × 7 columns</p>\n",
       "</div>"
      ],
      "text/plain": [
       "            Date          Open          High           Low         Close  \\\n",
       "0     2014-09-28    399.471008    401.016998    374.332001    377.181000   \n",
       "1     2014-09-29    376.928009    385.210999    372.239990    375.467010   \n",
       "2     2014-09-30    376.088013    390.976990    373.442993    386.944000   \n",
       "3     2014-10-01    387.427002    391.378998    380.779999    383.614990   \n",
       "4     2014-10-02    383.988007    385.497009    372.946014    375.071991   \n",
       "...          ...           ...           ...           ...           ...   \n",
       "2311  2021-01-25  32285.798828  34802.742188  32087.787109  32366.392578   \n",
       "2312  2021-01-26  32358.613281  32794.550781  31030.265625  32569.849609   \n",
       "2313  2021-01-27  32564.029297  32564.029297  29367.138672  30432.546875   \n",
       "2314  2021-01-28  30441.041016  31891.300781  30023.207031  31649.605469   \n",
       "2315  2021-01-29  37553.777344  38372.031250  32074.279297  34175.660156   \n",
       "\n",
       "         Adj Close        Volume  \n",
       "0       377.181000  2.361330e+07  \n",
       "1       375.467010  3.249770e+07  \n",
       "2       386.944000  3.470730e+07  \n",
       "3       383.614990  2.622940e+07  \n",
       "4       375.071991  2.177770e+07  \n",
       "...            ...           ...  \n",
       "2311  32366.392578  5.989705e+10  \n",
       "2312  32569.849609  6.025542e+10  \n",
       "2313  30432.546875  6.257676e+10  \n",
       "2314  31649.605469  7.894816e+10  \n",
       "2315  34175.660156  1.189606e+11  \n",
       "\n",
       "[2316 rows x 7 columns]"
      ]
     },
     "execution_count": 6,
     "metadata": {},
     "output_type": "execute_result"
    }
   ],
   "source": [
    "data=pd.read_csv('dataset.csv')\n",
    "data"
   ]
  },
  {
   "cell_type": "code",
   "execution_count": 7,
   "metadata": {},
   "outputs": [
    {
     "data": {
      "text/plain": [
       "0         377.181000\n",
       "1         375.467010\n",
       "2         386.944000\n",
       "3         383.614990\n",
       "4         375.071991\n",
       "            ...     \n",
       "2307    32366.392578\n",
       "2308    32569.849609\n",
       "2309    30432.546875\n",
       "2310    31649.605469\n",
       "2311    34175.660156\n",
       "Name: Close, Length: 2312, dtype: float64"
      ]
     },
     "execution_count": 7,
     "metadata": {},
     "output_type": "execute_result"
    }
   ],
   "source": [
    "#df1=data['Close']\n",
    "df1=data['Close']\n",
    "df1=df1.apply(pd.to_numeric, errors='coerce')\n",
    "df1=df1.dropna()\n",
    "df1=df1.reset_index(drop=True)\n",
    "df1"
   ]
  },
  {
   "cell_type": "code",
   "execution_count": 8,
   "metadata": {},
   "outputs": [
    {
     "data": {
      "text/plain": [
       "[<matplotlib.lines.Line2D at 0x7fcd8853a3d0>]"
      ]
     },
     "execution_count": 8,
     "metadata": {},
     "output_type": "execute_result"
    },
    {
     "data": {
      "image/png": "[encoded data removed]",
      "text/plain": [
       "<Figure size 432x288 with 1 Axes>"
      ]
     },
     "metadata": {
      "needs_background": "light"
     },
     "output_type": "display_data"
    }
   ],
   "source": [
    "plt.plot(df1)"
   ]
  },
  {
   "cell_type": "code",
   "execution_count": 9,
   "metadata": {},
   "outputs": [],
   "source": [
    "import numpy as np"
   ]
  },
  {
   "cell_type": "code",
   "execution_count": 10,
   "metadata": {},
   "outputs": [
    {
     "data": {
      "text/plain": [
       "0         377.181000\n",
       "1         375.467010\n",
       "2         386.944000\n",
       "3         383.614990\n",
       "4         375.071991\n",
       "            ...     \n",
       "2307    32366.392578\n",
       "2308    32569.849609\n",
       "2309    30432.546875\n",
       "2310    31649.605469\n",
       "2311    34175.660156\n",
       "Name: Close, Length: 2312, dtype: float64"
      ]
     },
     "execution_count": 10,
     "metadata": {},
     "output_type": "execute_result"
    }
   ],
   "source": [
    "df1"
   ]
  },
  {
   "cell_type": "code",
   "execution_count": 11,
   "metadata": {},
   "outputs": [],
   "source": [
    "from sklearn.preprocessing import MinMaxScaler\n",
    "scaler=MinMaxScaler(feature_range=(0,1))\n",
    "df1=scaler.fit_transform(np.array(df1).reshape(-1,1))"
   ]
  },
  {
   "cell_type": "code",
   "execution_count": 12,
   "metadata": {},
   "outputs": [],
   "source": [
    "training_size=int(len(df1)*0.65)\n",
    "test_size=len(df1)-training_size\n",
    "train_data,test_data=df1[0:training_size,:],df1[training_size:len(df1),:1]"
   ]
  },
  {
   "cell_type": "code",
   "execution_count": 13,
   "metadata": {},
   "outputs": [
    {
     "data": {
      "text/plain": [
       "(1502, 810)"
      ]
     },
     "execution_count": 13,
     "metadata": {},
     "output_type": "execute_result"
    }
   ],
   "source": [
    "training_size,test_size"
   ]
  },
  {
   "cell_type": "code",
   "execution_count": 14,
   "metadata": {},
   "outputs": [],
   "source": [
    "import numpy\n",
    "# convert an array of values into a dataset matrix\n",
    "def create_dataset(dataset, time_step=1):\n",
    "\tdataX, dataY = [], []\n",
    "\tfor i in range(len(dataset)-time_step-1):\n",
    "\t\ta = dataset[i:(i+time_step), 0]   ###i=0, 0,1,2,3-----99   100 \n",
    "\t\tdataX.append(a)\n",
    "\t\tdataY.append(dataset[i + time_step, 0])\n",
    "\treturn numpy.array(dataX), numpy.array(dataY)"
   ]
  },
  {
   "cell_type": "code",
   "execution_count": 15,
   "metadata": {},
   "outputs": [],
   "source": [
    "# reshape into X=t,t+1,t+2,t+3 and Y=t+4\n",
    "time_step = 100\n",
    "X_train, y_train = create_dataset(train_data, time_step)\n",
    "X_test, ytest = create_dataset(test_data, time_step)"
   ]
  },
  {
   "cell_type": "code",
   "execution_count": 16,
   "metadata": {},
   "outputs": [
    {
     "name": "stdout",
     "output_type": "stream",
     "text": [
      "(1401, 100)\n",
      "(1401,)\n"
     ]
    },
    {
     "data": {
      "text/plain": [
       "(None, None)"
      ]
     },
     "execution_count": 16,
     "metadata": {},
     "output_type": "execute_result"
    }
   ],
   "source": [
    "print(X_train.shape), print(y_train.shape)"
   ]
  },
  {
   "cell_type": "markdown",
   "metadata": {},
   "source": []
  },
  {
   "cell_type": "code",
   "execution_count": 17,
   "metadata": {},
   "outputs": [
    {
     "name": "stdout",
     "output_type": "stream",
     "text": [
      "(709, 100)\n",
      "(709,)\n"
     ]
    },
    {
     "data": {
      "text/plain": [
       "(None, None)"
      ]
     },
     "execution_count": 17,
     "metadata": {},
     "output_type": "execute_result"
    }
   ],
   "source": [
    "print(X_test.shape), print(ytest.shape)"
   ]
  },
  {
   "cell_type": "code",
   "execution_count": 18,
   "metadata": {},
   "outputs": [
    {
     "data": {
      "text/plain": [
       "100"
      ]
     },
     "execution_count": 18,
     "metadata": {},
     "output_type": "execute_result"
    }
   ],
   "source": [
    "X_train.shape[1]"
   ]
  },
  {
   "cell_type": "code",
   "execution_count": 19,
   "metadata": {},
   "outputs": [],
   "source": [
    "# reshape input to be [samples, time steps, features] which is required for LSTM\n",
    "X_train =X_train.reshape(X_train.shape[0],X_train.shape[1] , 1)\n",
    "X_test = X_test.reshape(X_test.shape[0],X_test.shape[1] , 1)"
   ]
  },
  {
   "cell_type": "code",
   "execution_count": 20,
   "metadata": {},
   "outputs": [],
   "source": [
    "### Create the Stacked LSTM model\n",
    "from tensorflow.keras.models import Sequential\n",
    "from tensorflow.keras.layers import Dense\n",
    "from tensorflow.keras.layers import LSTM"
   ]
  },
  {
   "cell_type": "code",
   "execution_count": 21,
   "metadata": {},
   "outputs": [],
   "source": [
    "model=Sequential()\n",
    "model.add(LSTM(50,return_sequences=True,input_shape=(100,1)))\n",
    "model.add(LSTM(50,return_sequences=True))\n",
    "model.add(LSTM(50))\n",
    "model.add(Dense(1))\n",
    "model.compile(loss='mean_squared_error',optimizer='adam')"
   ]
  },
  {
   "cell_type": "code",
   "execution_count": 22,
   "metadata": {},
   "outputs": [
    {
     "name": "stdout",
     "output_type": "stream",
     "text": [
      "Model: \"sequential\"\n",
      "_________________________________________________________________\n",
      "Layer (type)                 Output Shape              Param #   \n",
      "=================================================================\n",
      "lstm (LSTM)                  (None, 100, 50)           10400     \n",
      "_________________________________________________________________\n",
      "lstm_1 (LSTM)                (None, 100, 50)           20200     \n",
      "_________________________________________________________________\n",
      "lstm_2 (LSTM)                (None, 50)                20200     \n",
      "_________________________________________________________________\n",
      "dense (Dense)                (None, 1)                 51        \n",
      "=================================================================\n",
      "Total params: 50,851\n",
      "Trainable params: 50,851\n",
      "Non-trainable params: 0\n",
      "_________________________________________________________________\n"
     ]
    }
   ],
   "source": [
    "model.summary()"
   ]
  },
  {
   "cell_type": "code",
   "execution_count": 23,
   "metadata": {},
   "outputs": [
    {
     "name": "stdout",
     "output_type": "stream",
     "text": [
      "Epoch 1/100\n",
      "22/22 [==============================] - 26s 920ms/step - loss: 0.0027 - val_loss: 0.0055\n",
      "Epoch 2/100\n",
      "22/22 [==============================] - 18s 804ms/step - loss: 5.0375e-04 - val_loss: 0.0041\n",
      "Epoch 3/100\n",
      "22/22 [==============================] - 17s 800ms/step - loss: 4.0377e-04 - val_loss: 0.0030\n",
      "Epoch 4/100\n",
      "22/22 [==============================] - 18s 805ms/step - loss: 4.2244e-04 - val_loss: 0.0030\n",
      "Epoch 5/100\n",
      "22/22 [==============================] - 18s 810ms/step - loss: 3.0271e-04 - val_loss: 0.0028\n",
      "Epoch 6/100\n",
      "22/22 [==============================] - 17s 796ms/step - loss: 3.2645e-04 - val_loss: 0.0022\n",
      "Epoch 7/100\n",
      "22/22 [==============================] - 18s 818ms/step - loss: 2.5865e-04 - val_loss: 0.0018\n",
      "Epoch 8/100\n",
      "22/22 [==============================] - 17s 799ms/step - loss: 2.4153e-04 - val_loss: 0.0019\n",
      "Epoch 9/100\n",
      "22/22 [==============================] - 18s 810ms/step - loss: 2.2997e-04 - val_loss: 0.0023\n",
      "Epoch 10/100\n",
      "22/22 [==============================] - 17s 800ms/step - loss: 2.9846e-04 - val_loss: 0.0016\n",
      "Epoch 11/100\n",
      "22/22 [==============================] - 17s 796ms/step - loss: 2.4846e-04 - val_loss: 0.0017\n",
      "Epoch 12/100\n",
      "22/22 [==============================] - 17s 790ms/step - loss: 2.1672e-04 - val_loss: 0.0018\n",
      "Epoch 13/100\n",
      "22/22 [==============================] - 18s 828ms/step - loss: 1.9415e-04 - val_loss: 0.0018\n",
      "Epoch 14/100\n",
      "22/22 [==============================] - 17s 800ms/step - loss: 2.5680e-04 - val_loss: 0.0018\n",
      "Epoch 15/100\n",
      "22/22 [==============================] - 17s 771ms/step - loss: 1.9485e-04 - val_loss: 0.0013\n",
      "Epoch 16/100\n",
      "22/22 [==============================] - 16s 733ms/step - loss: 1.8048e-04 - val_loss: 0.0025\n",
      "Epoch 17/100\n",
      "22/22 [==============================] - 17s 781ms/step - loss: 2.0302e-04 - val_loss: 0.0010\n",
      "Epoch 18/100\n",
      "22/22 [==============================] - 16s 738ms/step - loss: 2.0871e-04 - val_loss: 0.0014\n",
      "Epoch 19/100\n",
      "22/22 [==============================] - 17s 777ms/step - loss: 1.7297e-04 - val_loss: 0.0019\n",
      "Epoch 20/100\n",
      "22/22 [==============================] - 17s 786ms/step - loss: 1.6942e-04 - val_loss: 0.0016\n",
      "Epoch 21/100\n",
      "22/22 [==============================] - 17s 772ms/step - loss: 1.8261e-04 - val_loss: 0.0019\n",
      "Epoch 22/100\n",
      "22/22 [==============================] - 17s 776ms/step - loss: 1.5758e-04 - val_loss: 0.0011\n",
      "Epoch 23/100\n",
      "22/22 [==============================] - 16s 747ms/step - loss: 1.8823e-04 - val_loss: 9.4375e-04\n",
      "Epoch 24/100\n",
      "22/22 [==============================] - 17s 762ms/step - loss: 1.7671e-04 - val_loss: 0.0018\n",
      "Epoch 25/100\n",
      "22/22 [==============================] - 16s 715ms/step - loss: 1.7356e-04 - val_loss: 0.0011\n",
      "Epoch 26/100\n",
      "22/22 [==============================] - 17s 761ms/step - loss: 1.8389e-04 - val_loss: 0.0015\n",
      "Epoch 27/100\n",
      "22/22 [==============================] - 17s 757ms/step - loss: 1.3350e-04 - val_loss: 9.3693e-04\n",
      "Epoch 28/100\n",
      "22/22 [==============================] - 16s 742ms/step - loss: 1.5864e-04 - val_loss: 0.0012\n",
      "Epoch 29/100\n",
      "22/22 [==============================] - 16s 751ms/step - loss: 1.9617e-04 - val_loss: 0.0011\n",
      "Epoch 30/100\n",
      "22/22 [==============================] - 17s 781ms/step - loss: 1.8367e-04 - val_loss: 9.6466e-04\n",
      "Epoch 31/100\n",
      "22/22 [==============================] - 17s 776ms/step - loss: 1.5683e-04 - val_loss: 0.0012\n",
      "Epoch 32/100\n",
      "22/22 [==============================] - 17s 758ms/step - loss: 1.5302e-04 - val_loss: 0.0011\n",
      "Epoch 33/100\n",
      "22/22 [==============================] - 15s 663ms/step - loss: 1.2003e-04 - val_loss: 8.9270e-04\n",
      "Epoch 34/100\n",
      "22/22 [==============================] - 16s 734ms/step - loss: 1.5514e-04 - val_loss: 9.0698e-04\n",
      "Epoch 35/100\n",
      "22/22 [==============================] - 17s 761ms/step - loss: 1.1082e-04 - val_loss: 0.0012\n",
      "Epoch 36/100\n",
      "22/22 [==============================] - 17s 773ms/step - loss: 1.4350e-04 - val_loss: 0.0015\n",
      "Epoch 37/100\n",
      "22/22 [==============================] - 17s 771ms/step - loss: 1.2366e-04 - val_loss: 8.8148e-04\n",
      "Epoch 38/100\n",
      "22/22 [==============================] - 17s 776ms/step - loss: 1.9122e-04 - val_loss: 0.0010\n",
      "Epoch 39/100\n",
      "22/22 [==============================] - 17s 753ms/step - loss: 1.1679e-04 - val_loss: 7.7987e-04\n",
      "Epoch 40/100\n",
      "22/22 [==============================] - 16s 729ms/step - loss: 1.4269e-04 - val_loss: 9.4909e-04\n",
      "Epoch 41/100\n",
      "22/22 [==============================] - 16s 724ms/step - loss: 1.3720e-04 - val_loss: 7.8199e-04\n",
      "Epoch 42/100\n",
      "22/22 [==============================] - 16s 749ms/step - loss: 1.0921e-04 - val_loss: 6.8361e-04\n",
      "Epoch 43/100\n",
      "22/22 [==============================] - 17s 764ms/step - loss: 1.0822e-04 - val_loss: 8.9456e-04\n",
      "Epoch 44/100\n",
      "22/22 [==============================] - 17s 770ms/step - loss: 1.3531e-04 - val_loss: 0.0015\n",
      "Epoch 45/100\n",
      "22/22 [==============================] - 16s 739ms/step - loss: 1.1769e-04 - val_loss: 8.1580e-04\n",
      "Epoch 46/100\n",
      "22/22 [==============================] - 16s 720ms/step - loss: 1.3012e-04 - val_loss: 0.0012\n",
      "Epoch 47/100\n",
      "22/22 [==============================] - 15s 687ms/step - loss: 1.0032e-04 - val_loss: 0.0010\n",
      "Epoch 48/100\n",
      "22/22 [==============================] - 15s 693ms/step - loss: 1.1425e-04 - val_loss: 9.3744e-04\n",
      "Epoch 49/100\n",
      "22/22 [==============================] - 15s 679ms/step - loss: 8.9080e-05 - val_loss: 7.1014e-04\n",
      "Epoch 50/100\n",
      "22/22 [==============================] - 14s 619ms/step - loss: 1.0489e-04 - val_loss: 0.0025\n",
      "Epoch 51/100\n",
      "22/22 [==============================] - 12s 566ms/step - loss: 1.4314e-04 - val_loss: 0.0011\n",
      "Epoch 52/100\n",
      "22/22 [==============================] - 13s 614ms/step - loss: 1.2317e-04 - val_loss: 5.9302e-04\n",
      "Epoch 53/100\n",
      "22/22 [==============================] - 15s 691ms/step - loss: 1.5233e-04 - val_loss: 0.0013\n",
      "Epoch 54/100\n",
      "22/22 [==============================] - 17s 757ms/step - loss: 1.0112e-04 - val_loss: 6.5401e-04\n",
      "Epoch 55/100\n",
      "22/22 [==============================] - 15s 704ms/step - loss: 8.5463e-05 - val_loss: 9.9265e-04\n",
      "Epoch 56/100\n",
      "22/22 [==============================] - 16s 729ms/step - loss: 1.1906e-04 - val_loss: 7.8948e-04\n",
      "Epoch 57/100\n",
      "22/22 [==============================] - 15s 685ms/step - loss: 9.7322e-05 - val_loss: 7.8893e-04\n",
      "Epoch 58/100\n",
      "22/22 [==============================] - 16s 726ms/step - loss: 9.8873e-05 - val_loss: 5.4693e-04\n",
      "Epoch 59/100\n",
      "22/22 [==============================] - 16s 734ms/step - loss: 7.9015e-05 - val_loss: 5.9155e-04\n",
      "Epoch 60/100\n",
      "22/22 [==============================] - 15s 704ms/step - loss: 8.6717e-05 - val_loss: 9.8753e-04\n",
      "Epoch 61/100\n",
      "22/22 [==============================] - 15s 686ms/step - loss: 7.9004e-05 - val_loss: 6.9140e-04\n",
      "Epoch 62/100\n",
      "22/22 [==============================] - 15s 696ms/step - loss: 5.8817e-05 - val_loss: 6.4513e-04\n",
      "Epoch 63/100\n",
      "22/22 [==============================] - 15s 687ms/step - loss: 8.0263e-05 - val_loss: 7.7733e-04\n",
      "Epoch 64/100\n",
      "22/22 [==============================] - 15s 700ms/step - loss: 8.6813e-05 - val_loss: 4.4631e-04\n",
      "Epoch 65/100\n",
      "22/22 [==============================] - 15s 699ms/step - loss: 8.1858e-05 - val_loss: 5.8592e-04\n",
      "Epoch 66/100\n",
      "22/22 [==============================] - 16s 734ms/step - loss: 8.7878e-05 - val_loss: 4.9022e-04\n",
      "Epoch 67/100\n",
      "22/22 [==============================] - 16s 727ms/step - loss: 9.3803e-05 - val_loss: 0.0014\n",
      "Epoch 68/100\n",
      "22/22 [==============================] - 16s 710ms/step - loss: 1.0855e-04 - val_loss: 5.8124e-04\n",
      "Epoch 69/100\n",
      "22/22 [==============================] - 16s 748ms/step - loss: 6.3218e-05 - val_loss: 8.5857e-04\n",
      "Epoch 70/100\n",
      "22/22 [==============================] - 17s 757ms/step - loss: 6.9322e-05 - val_loss: 4.9441e-04\n",
      "Epoch 71/100\n",
      "22/22 [==============================] - 16s 740ms/step - loss: 6.9415e-05 - val_loss: 7.0223e-04\n",
      "Epoch 72/100\n",
      "22/22 [==============================] - 17s 768ms/step - loss: 6.1608e-05 - val_loss: 5.6012e-04\n",
      "Epoch 73/100\n",
      "22/22 [==============================] - 17s 757ms/step - loss: 7.4309e-05 - val_loss: 4.9086e-04\n",
      "Epoch 74/100\n",
      "22/22 [==============================] - 17s 777ms/step - loss: 5.4177e-05 - val_loss: 8.7974e-04\n",
      "Epoch 75/100\n",
      "22/22 [==============================] - 17s 766ms/step - loss: 5.0417e-05 - val_loss: 5.8157e-04\n",
      "Epoch 76/100\n",
      "22/22 [==============================] - 17s 781ms/step - loss: 6.6167e-05 - val_loss: 4.8921e-04\n",
      "Epoch 77/100\n",
      "22/22 [==============================] - 17s 776ms/step - loss: 6.0725e-05 - val_loss: 8.1373e-04\n",
      "Epoch 78/100\n",
      "22/22 [==============================] - 17s 763ms/step - loss: 4.3880e-05 - val_loss: 0.0013\n",
      "Epoch 79/100\n",
      "22/22 [==============================] - 17s 757ms/step - loss: 1.1228e-04 - val_loss: 7.7728e-04\n",
      "Epoch 80/100\n",
      "22/22 [==============================] - 17s 756ms/step - loss: 4.9607e-05 - val_loss: 5.2691e-04\n",
      "Epoch 81/100\n",
      "22/22 [==============================] - 17s 786ms/step - loss: 6.0613e-05 - val_loss: 5.9203e-04\n",
      "Epoch 82/100\n",
      "22/22 [==============================] - 17s 781ms/step - loss: 9.7184e-05 - val_loss: 6.0341e-04\n",
      "Epoch 83/100\n",
      "22/22 [==============================] - 17s 771ms/step - loss: 6.1880e-05 - val_loss: 4.8052e-04\n",
      "Epoch 84/100\n",
      "22/22 [==============================] - 17s 757ms/step - loss: 7.3613e-05 - val_loss: 4.6080e-04\n",
      "Epoch 85/100\n",
      "22/22 [==============================] - 16s 747ms/step - loss: 7.0654e-05 - val_loss: 9.0798e-04\n",
      "Epoch 86/100\n",
      "22/22 [==============================] - 16s 748ms/step - loss: 5.7197e-05 - val_loss: 6.5218e-04\n",
      "Epoch 87/100\n",
      "22/22 [==============================] - 16s 733ms/step - loss: 5.3955e-05 - val_loss: 7.0857e-04\n",
      "Epoch 88/100\n",
      "22/22 [==============================] - 17s 757ms/step - loss: 6.9420e-05 - val_loss: 8.5297e-04\n",
      "Epoch 89/100\n",
      "22/22 [==============================] - 17s 771ms/step - loss: 6.6752e-05 - val_loss: 4.6077e-04\n",
      "Epoch 90/100\n",
      "22/22 [==============================] - 17s 776ms/step - loss: 7.0618e-05 - val_loss: 5.0088e-04\n",
      "Epoch 91/100\n",
      "22/22 [==============================] - 16s 729ms/step - loss: 5.3887e-05 - val_loss: 5.8897e-04\n",
      "Epoch 92/100\n",
      "22/22 [==============================] - 16s 744ms/step - loss: 6.8989e-05 - val_loss: 6.7554e-04\n",
      "Epoch 93/100\n",
      "22/22 [==============================] - 16s 714ms/step - loss: 5.8020e-05 - val_loss: 6.7863e-04\n",
      "Epoch 94/100\n",
      "22/22 [==============================] - 17s 781ms/step - loss: 6.7694e-05 - val_loss: 9.9612e-04\n",
      "Epoch 95/100\n",
      "22/22 [==============================] - 17s 771ms/step - loss: 7.9562e-05 - val_loss: 5.7288e-04\n",
      "Epoch 96/100\n",
      "22/22 [==============================] - 16s 709ms/step - loss: 8.1770e-05 - val_loss: 8.3395e-04\n",
      "Epoch 97/100\n",
      "22/22 [==============================] - 17s 763ms/step - loss: 4.5665e-05 - val_loss: 5.9213e-04\n",
      "Epoch 98/100\n",
      "22/22 [==============================] - 17s 789ms/step - loss: 5.2027e-05 - val_loss: 5.7469e-04\n",
      "Epoch 99/100\n",
      "22/22 [==============================] - 17s 763ms/step - loss: 6.2126e-05 - val_loss: 6.8757e-04\n",
      "Epoch 100/100\n",
      "22/22 [==============================] - 17s 768ms/step - loss: 5.3844e-05 - val_loss: 6.8755e-04\n"
     ]
    },
    {
     "data": {
      "text/plain": [
       "<tensorflow.python.keras.callbacks.History at 0x7fcd840ad070>"
      ]
     },
     "execution_count": 23,
     "metadata": {},
     "output_type": "execute_result"
    }
   ],
   "source": [
    "model.fit(X_train,y_train,validation_data=(X_test,ytest),epochs=100,batch_size=64,verbose=1)"
   ]
  },
  {
   "cell_type": "code",
   "execution_count": 24,
   "metadata": {},
   "outputs": [],
   "source": [
    "import tensorflow as tf\n",
    "### Do the prediction and check performance metrics\n",
    "train_predict=model.predict(X_train)\n",
    "test_predict=model.predict(X_test)\n",
    "##Transformback to original form\n",
    "train_predict=scaler.inverse_transform(train_predict)\n",
    "test_predict=scaler.inverse_transform(test_predict)\n",
    "### Calculate RMSE performance metrics"
   ]
  },
  {
   "cell_type": "code",
   "execution_count": 25,
   "metadata": {},
   "outputs": [
    {
     "data": {
      "text/plain": [
       "4910.7285846761315"
      ]
     },
     "execution_count": 25,
     "metadata": {},
     "output_type": "execute_result"
    }
   ],
   "source": [
    "import math\n",
    "from sklearn.metrics import mean_squared_error\n",
    "math.sqrt(mean_squared_error(y_train,train_predict))"
   ]
  },
  {
   "cell_type": "code",
   "execution_count": 26,
   "metadata": {},
   "outputs": [
    {
     "data": {
      "text/plain": [
       "11765.54316505576"
      ]
     },
     "execution_count": 26,
     "metadata": {},
     "output_type": "execute_result"
    }
   ],
   "source": [
    "### Test Data RMSE\n",
    "math.sqrt(mean_squared_error(ytest,test_predict))"
   ]
  },
  {
   "cell_type": "code",
   "execution_count": 27,
   "metadata": {},
   "outputs": [
    {
     "data": {
      "image/png": "[encoded data removed]",
      "text/plain": [
       "<Figure size 432x288 with 1 Axes>"
      ]
     },
     "metadata": {
      "needs_background": "light"
     },
     "output_type": "display_data"
    }
   ],
   "source": [
    "# shift train predictions for plotting\n",
    "look_back=100\n",
    "trainPredictPlot = numpy.empty_like(df1)\n",
    "trainPredictPlot[:, :] = np.nan\n",
    "trainPredictPlot[look_back:len(train_predict)+look_back, :] = train_predict\n",
    "# shift test predictions for plotting\n",
    "testPredictPlot = numpy.empty_like(df1)\n",
    "testPredictPlot[:, :] = numpy.nan\n",
    "testPredictPlot[len(train_predict)+(look_back*2)+1:len(df1)-1, :] = test_predict\n",
    "# plot baseline and predictions\n",
    "plt.plot(scaler.inverse_transform(df1))\n",
    "plt.plot(trainPredictPlot)\n",
    "plt.plot(testPredictPlot)\n",
    "plt.show()"
   ]
  },
  {
   "cell_type": "code",
   "execution_count": 28,
   "metadata": {},
   "outputs": [
    {
     "data": {
      "text/plain": [
       "810"
      ]
     },
     "execution_count": 28,
     "metadata": {},
     "output_type": "execute_result"
    }
   ],
   "source": [
    "len(test_data)"
   ]
  },
  {
   "cell_type": "code",
   "execution_count": 29,
   "metadata": {},
   "outputs": [
    {
     "data": {
      "text/plain": [
       "(1, 103)"
      ]
     },
     "execution_count": 29,
     "metadata": {},
     "output_type": "execute_result"
    }
   ],
   "source": [
    "x_input=test_data[707:].reshape(1,-1)\n",
    "x_input.shape"
   ]
  },
  {
   "cell_type": "code",
   "execution_count": 30,
   "metadata": {},
   "outputs": [
    {
     "data": {
      "text/plain": [
       "[0.2846891836741562,\n",
       " 0.28898017259898473,\n",
       " 0.3113180731031483,\n",
       " 0.31481890710336197,\n",
       " 0.3139731917792928,\n",
       " 0.3183189717441524,\n",
       " 0.3164260715379194,\n",
       " 0.31751112211903304,\n",
       " 0.3317646361231712,\n",
       " 0.3223373035889826,\n",
       " 0.3264387236173223,\n",
       " 0.32911329201283684,\n",
       " 0.33488570721202776,\n",
       " 0.33380529669222464,\n",
       " 0.32921094945266594,\n",
       " 0.339053794889521,\n",
       " 0.3435690208573908,\n",
       " 0.3791711669923632,\n",
       " 0.3788272983625966,\n",
       " 0.36080327448138744,\n",
       " 0.3767023716045809,\n",
       " 0.3730772179252208,\n",
       " 0.37205768101567255,\n",
       " 0.3821621243385559,\n",
       " 0.39631798090286485,\n",
       " 0.3973387920277991,\n",
       " 0.39119223968724126,\n",
       " 0.38842138422797945,\n",
       " 0.40714449302016087,\n",
       " 0.4300225386899457,\n",
       " 0.4339270570640513,\n",
       " 0.4342491679454155,\n",
       " 0.45404814338140403,\n",
       " 0.45456311687235057,\n",
       " 0.44786115288325967,\n",
       " 0.44771637369896156,\n",
       " 0.46601654069465415,\n",
       " 0.45677606035727386,\n",
       " 0.4178416126492497,\n",
       " 0.41680219324796247,\n",
       " 0.431795278425626,\n",
       " 0.4431216177395173,\n",
       " 0.47877817027173725,\n",
       " 0.4585209597743281,\n",
       " 0.4683215158494165,\n",
       " 0.4743360311102991,\n",
       " 0.4559795103278643,\n",
       " 0.4671678502296545,\n",
       " 0.47186733188321267,\n",
       " 0.4680885997250314,\n",
       " 0.4466583459967029,\n",
       " 0.4523888805540127,\n",
       " 0.4452759475382515,\n",
       " 0.4402023287433265,\n",
       " 0.4585371638855715,\n",
       " 0.4668761761780364,\n",
       " 0.4694429655680835,\n",
       " 0.47363877335102367,\n",
       " 0.5202548367364112,\n",
       " 0.5570490911788895,\n",
       " 0.5652421702848494,\n",
       " 0.5832598952219596,\n",
       " 0.5735961365010362,\n",
       " 0.5569978823340394,\n",
       " 0.5811229235612944,\n",
       " 0.5677873702200212,\n",
       " 0.5799638725979005,\n",
       " 0.6028307629130195,\n",
       " 0.6464611821630148,\n",
       " 0.6424054414194684,\n",
       " 0.6624084829246716,\n",
       " 0.669243349488938,\n",
       " 0.7056425024289349,\n",
       " 0.7096003934112604,\n",
       " 0.7187691813707742,\n",
       " 0.7865473372247587,\n",
       " 0.802666584315231,\n",
       " 0.7827227335096298,\n",
       " 0.832465229299641,\n",
       " 0.9021837917717298,\n",
       " 0.9648797700118621,\n",
       " 1.0,\n",
       " 0.9866304997666312,\n",
       " 0.9399015845667154,\n",
       " 0.8712206623999462,\n",
       " 0.8307549980291392,\n",
       " 0.9142961027737776,\n",
       " 0.9603569468566426,\n",
       " 0.9022085066707898,\n",
       " 0.8862746211878647,\n",
       " 0.876750544814314,\n",
       " 0.8974006449704869,\n",
       " 0.8836075297665203,\n",
       " 0.8707552148431971,\n",
       " 0.7545043983744494,\n",
       " 0.8081747330090611,\n",
       " 0.7850794464176883,\n",
       " 0.7905383096036797,\n",
       " 0.7924342871491308,\n",
       " 0.7974431375548117,\n",
       " 0.7448254933591749,\n",
       " 0.774787910496257,\n",
       " 0.8369761277407712]"
      ]
     },
     "execution_count": 30,
     "metadata": {},
     "output_type": "execute_result"
    }
   ],
   "source": [
    "temp_input=list(x_input)\n",
    "temp_input=temp_input[0].tolist()\n",
    "\n",
    "temp_input"
   ]
  },
  {
   "cell_type": "code",
   "execution_count": 31,
   "metadata": {},
   "outputs": [
    {
     "name": "stdout",
     "output_type": "stream",
     "text": [
      "0 day input [0.28898017 0.31131807 0.31481891 0.31397319 0.31831897 0.31642607\n",
      " 0.31751112 0.33176464 0.3223373  0.32643872 0.32911329 0.33488571\n",
      " 0.3338053  0.32921095 0.33905379 0.34356902 0.37917117 0.3788273\n",
      " 0.36080327 0.37670237 0.37307722 0.37205768 0.38216212 0.39631798\n",
      " 0.39733879 0.39119224 0.38842138 0.40714449 0.43002254 0.43392706\n",
      " 0.43424917 0.45404814 0.45456312 0.44786115 0.44771637 0.46601654\n",
      " 0.45677606 0.41784161 0.41680219 0.43179528 0.44312162 0.47877817\n",
      " 0.45852096 0.46832152 0.47433603 0.45597951 0.46716785 0.47186733\n",
      " 0.4680886  0.44665835 0.45238888 0.44527595 0.44020233 0.45853716\n",
      " 0.46687618 0.46944297 0.47363877 0.52025484 0.55704909 0.56524217\n",
      " 0.5832599  0.57359614 0.55699788 0.58112292 0.56778737 0.57996387\n",
      " 0.60283076 0.64646118 0.64240544 0.66240848 0.66924335 0.7056425\n",
      " 0.70960039 0.71876918 0.78654734 0.80266658 0.78272273 0.83246523\n",
      " 0.90218379 0.96487977 1.         0.9866305  0.93990158 0.87122066\n",
      " 0.830755   0.9142961  0.96035695 0.90220851 0.88627462 0.87675054\n",
      " 0.89740064 0.88360753 0.87075521 0.7545044  0.80817473 0.78507945\n",
      " 0.79053831 0.79243429 0.79744314 0.74482549 0.77478791 0.83697613]\n"
     ]
    },
    {
     "ename": "ValueError",
     "evalue": "cannot reshape array of size 102 into shape (1,100,1)",
     "output_type": "error",
     "traceback": [
      "\u001b[0;31m---------------------------------------------------------------------------\u001b[0m",
      "\u001b[0;31mValueError\u001b[0m                                Traceback (most recent call last)",
      "\u001b[0;32m<ipython-input-31-b8544ff16353>\u001b[0m in \u001b[0;36m<module>\u001b[0;34m\u001b[0m\n\u001b[1;32m     12\u001b[0m         \u001b[0mprint\u001b[0m\u001b[0;34m(\u001b[0m\u001b[0;34m\"{} day input {}\"\u001b[0m\u001b[0;34m.\u001b[0m\u001b[0mformat\u001b[0m\u001b[0;34m(\u001b[0m\u001b[0mi\u001b[0m\u001b[0;34m,\u001b[0m\u001b[0mx_input\u001b[0m\u001b[0;34m)\u001b[0m\u001b[0;34m)\u001b[0m\u001b[0;34m\u001b[0m\u001b[0;34m\u001b[0m\u001b[0m\n\u001b[1;32m     13\u001b[0m         \u001b[0mx_input\u001b[0m\u001b[0;34m=\u001b[0m\u001b[0mx_input\u001b[0m\u001b[0;34m.\u001b[0m\u001b[0mreshape\u001b[0m\u001b[0;34m(\u001b[0m\u001b[0;36m1\u001b[0m\u001b[0;34m,\u001b[0m\u001b[0;34m-\u001b[0m\u001b[0;36m1\u001b[0m\u001b[0;34m)\u001b[0m\u001b[0;34m\u001b[0m\u001b[0;34m\u001b[0m\u001b[0m\n\u001b[0;32m---> 14\u001b[0;31m         \u001b[0mx_input\u001b[0m \u001b[0;34m=\u001b[0m \u001b[0mx_input\u001b[0m\u001b[0;34m.\u001b[0m\u001b[0mreshape\u001b[0m\u001b[0;34m(\u001b[0m\u001b[0;34m(\u001b[0m\u001b[0;36m1\u001b[0m\u001b[0;34m,\u001b[0m \u001b[0mn_steps\u001b[0m\u001b[0;34m,\u001b[0m \u001b[0;36m1\u001b[0m\u001b[0;34m)\u001b[0m\u001b[0;34m)\u001b[0m\u001b[0;34m\u001b[0m\u001b[0;34m\u001b[0m\u001b[0m\n\u001b[0m\u001b[1;32m     15\u001b[0m         \u001b[0;31m#print(x_input)\u001b[0m\u001b[0;34m\u001b[0m\u001b[0;34m\u001b[0m\u001b[0;34m\u001b[0m\u001b[0m\n\u001b[1;32m     16\u001b[0m         \u001b[0myhat\u001b[0m \u001b[0;34m=\u001b[0m \u001b[0mmodel\u001b[0m\u001b[0;34m.\u001b[0m\u001b[0mpredict\u001b[0m\u001b[0;34m(\u001b[0m\u001b[0mx_input\u001b[0m\u001b[0;34m,\u001b[0m \u001b[0mverbose\u001b[0m\u001b[0;34m=\u001b[0m\u001b[0;36m0\u001b[0m\u001b[0;34m)\u001b[0m\u001b[0;34m\u001b[0m\u001b[0;34m\u001b[0m\u001b[0m\n",
      "\u001b[0;31mValueError\u001b[0m: cannot reshape array of size 102 into shape (1,100,1)"
     ]
    }
   ],
   "source": [
    "# demonstrate prediction for next 10 days\n",
    "from numpy import array\n",
    "\n",
    "lst_output=[]\n",
    "n_steps=100\n",
    "i=0\n",
    "while(i<30):\n",
    "    \n",
    "    if(len(temp_input)>100):\n",
    "        #print(temp_input)\n",
    "        x_input=np.array(temp_input[1:])\n",
    "        print(\"{} day input {}\".format(i,x_input))\n",
    "        x_input=x_input.reshape(1,-1)\n",
    "        x_input = x_input.reshape((1, n_steps, 1))\n",
    "        #print(x_input)\n",
    "        yhat = model.predict(x_input, verbose=0)\n",
    "        print(\"{} day output {}\".format(i,yhat))\n",
    "        temp_input.extend(yhat[0].tolist())\n",
    "        temp_input=temp_input[1:]\n",
    "        #print(temp_input)\n",
    "        lst_output.extend(yhat.tolist())\n",
    "        i=i+1\n",
    "    else:\n",
    "        x_input = x_input.reshape((1, n_steps,1))\n",
    "        yhat = model.predict(x_input, verbose=0)\n",
    "        print(yhat[0])\n",
    "        temp_input.extend(yhat[0].tolist())\n",
    "        print(len(temp_input))\n",
    "        lst_output.extend(yhat.tolist())\n",
    "        i=i+1\n",
    "    \n",
    "\n",
    "print(lst_output)"
   ]
  },
  {
   "cell_type": "code",
   "execution_count": null,
   "metadata": {},
   "outputs": [],
   "source": [
    "day_new=np.arange(1,101)\n",
    "day_pred=np.arange(101,131)"
   ]
  },
  {
   "cell_type": "code",
   "execution_count": null,
   "metadata": {},
   "outputs": [],
   "source": [
    "import matplotlib.pyplot as plt"
   ]
  },
  {
   "cell_type": "code",
   "execution_count": null,
   "metadata": {},
   "outputs": [],
   "source": [
    "len(df1)"
   ]
  },
  {
   "cell_type": "code",
   "execution_count": null,
   "metadata": {},
   "outputs": [],
   "source": [
    "plt.plot(day_new,scaler.inverse_transform(df1[2205:]))\n",
    "plt.plot(day_pred,scaler.inverse_transform(lst_output))"
   ]
  },
  {
   "cell_type": "code",
   "execution_count": null,
   "metadata": {},
   "outputs": [],
   "source": [
    "df3=df1.tolist()\n",
    "df3.extend(lst_output)\n",
    "plt.plot(df3[2206:])"
   ]
  },
  {
   "cell_type": "code",
   "execution_count": null,
   "metadata": {},
   "outputs": [],
   "source": [
    "df3=scaler.inverse_transform(df3).tolist()\n",
    "plt.plot(df3)"
   ]
  }
 ],
 "metadata": {
  "kernelspec": {
   "display_name": "Python 3",
   "language": "python",
   "name": "python3"
  },
  "language_info": {
   "codemirror_mode": {
    "name": "ipython",
    "version": 3
   },
   "file_extension": ".py",
   "mimetype": "text/x-python",
   "name": "python",
   "nbconvert_exporter": "python",
   "pygments_lexer": "ipython3",
   "version": "3.8.5"
  }
 },
 "nbformat": 4,
 "nbformat_minor": 4
}
