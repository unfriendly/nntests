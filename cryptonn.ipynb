{
 "cells": [
  {
   "cell_type": "raw",
   "metadata": {},
   "source": [
    "#Prepare 'System' if Conditions not met\n",
    "\n",
    "#!pip install --upgrade pip\n",
    "\n",
    "!pip install tensorflow tensorflow-gpu matplot numpy pandas sklearn keras seaborn requests"
   ]
  },
  {
   "cell_type": "code",
   "execution_count": 1,
   "metadata": {},
   "outputs": [],
   "source": [
    "##Created By Unfriendly \n",
    "#(A simple Jupyter Notebook in Binder for Crypto price prediction)\n",
    "\n",
    "historical_start = \"6yr,0mon,0day,0hr,0min,0sec\"\n",
    "# How long to historically look back at data\n",
    "\n",
    "predict_into = \"0yr,0mon,10day,0hr,0min,0sec\" \n",
    "# How far to try and predict into the future"
   ]
  },
  {
   "cell_type": "code",
   "execution_count": 2,
   "metadata": {},
   "outputs": [],
   "source": [
    "import os, glob\n",
    "for dirname, _, filenames in os.walk('/unfriendly/input'):\n",
    "    for filename in filenames:\n",
    "        print(os.path.join(dirname, filename))"
   ]
  },
  {
   "cell_type": "code",
   "execution_count": 3,
   "metadata": {},
   "outputs": [],
   "source": [
    "import json\n",
    "import requests\n",
    "from keras.models import Sequential\n",
    "from keras.layers import Activation, Dense, Dropout, LSTM\n",
    "import matplotlib.pyplot as plt\n",
    "import numpy as np\n",
    "import pandas as pd\n",
    "import seaborn as sns\n",
    "from sklearn.metrics import mean_absolute_error\n",
    "%matplotlib inline"
   ]
  },
  {
   "cell_type": "code",
   "execution_count": 4,
   "metadata": {},
   "outputs": [],
   "source": [
    "import matplotlib.pyplot as plt"
   ]
  },
  {
   "cell_type": "code",
   "execution_count": 5,
   "metadata": {},
   "outputs": [],
   "source": [
    "# Prepare data timestamps\n",
    "import time\n",
    "from datetime import datetime, timezone, timedelta\n",
    "one_yr = 31536000000\n",
    "one_mon = one_yr/12\n",
    "one_day = one_yr/365\n",
    "one_hr = one_day/24\n",
    "one_min = one_hr/60\n",
    "one_sec = one_min/60"
   ]
  },
  {
   "cell_type": "code",
   "execution_count": 6,
   "metadata": {},
   "outputs": [
    {
     "name": "stdout",
     "output_type": "stream",
     "text": [
      "['6', '0', '0', '0', '0', '0']\n"
     ]
    }
   ],
   "source": [
    "# Prepare how far to look back in the past in UNIX time-format\n",
    "history_split = historical_start.replace('yr', '')\n",
    "history_res = history_split.replace('mon', '')\n",
    "history_split = history_res.replace('day', '')\n",
    "history_res = history_split.replace('hr', '')\n",
    "history_split = history_res.replace('min', '')\n",
    "history_res = history_split.replace('sec', '')\n",
    "history_split = history_res.split(\",\")\n",
    "print(history_split)"
   ]
  },
  {
   "cell_type": "code",
   "execution_count": 7,
   "metadata": {},
   "outputs": [
    {
     "name": "stdout",
     "output_type": "stream",
     "text": [
      "['0', '0', '10', '0', '0', '0']\n"
     ]
    }
   ],
   "source": [
    "# Prepare how far to predict into the future in UNIX time-format\n",
    "predict_split = predict_into.replace('yr', '')\n",
    "predict_res = predict_split.replace('mon', '')\n",
    "predict_split = predict_res.replace('day', '')\n",
    "predict_res = predict_split.replace('hr', '')\n",
    "predict_split = predict_res.replace('min', '')\n",
    "predict_res = predict_split.replace('sec', '')\n",
    "predict_split = predict_res.split(\",\")\n",
    "print(predict_split)"
   ]
  },
  {
   "cell_type": "code",
   "execution_count": 8,
   "metadata": {},
   "outputs": [],
   "source": [
    "history_array_yr = int(history_split[0])\n",
    "unix_hist_yr = one_yr*history_array_yr\n",
    "\n",
    "history_array_mon = int(history_split[1])\n",
    "unix_hist_mon = one_mon*history_array_mon\n",
    "\n",
    "history_array_day = int(history_split[2])\n",
    "unix_hist_day = one_day*history_array_day\n",
    "\n",
    "history_array_hr = int(history_split[3])\n",
    "unix_hist_hr = one_hr*history_array_hr\n",
    "\n",
    "history_array_min = int(history_split[4])\n",
    "unix_hist_min = one_min*history_array_min\n",
    "\n",
    "history_array_sec = int(history_split[5])\n",
    "unix_hist_sec = one_sec*history_array_sec"
   ]
  },
  {
   "cell_type": "code",
   "execution_count": 9,
   "metadata": {},
   "outputs": [],
   "source": [
    "predict_array_yr = int(predict_split[0])\n",
    "unix_pred_yr = one_yr*predict_array_yr\n",
    "\n",
    "predict_array_mon = int(predict_split[1])\n",
    "unix_pred_mon = one_mon*predict_array_mon\n",
    "\n",
    "predict_array_day = int(predict_split[2])\n",
    "unix_pred_day = one_day*predict_array_day\n",
    "\n",
    "predict_array_hr = int(predict_split[3])\n",
    "unix_pred_hr = one_hr*predict_array_hr\n",
    "\n",
    "predict_array_min = int(predict_split[4])\n",
    "unix_pred_min = one_min*predict_array_min\n",
    "\n",
    "predict_array_sec = int(predict_split[5])\n",
    "unix_pred_sec = one_sec*predict_array_sec\n",
    "\n",
    "unix_prediction = unix_pred_yr+unix_pred_mon+unix_pred_day+unix_pred_hr+unix_pred_min+unix_pred_sec"
   ]
  },
  {
   "cell_type": "code",
   "execution_count": 10,
   "metadata": {},
   "outputs": [
    {
     "name": "stdout",
     "output_type": "stream",
     "text": [
      "-187602615296 - start\n",
      "-310 - gather\n",
      "310 - positive gather\n"
     ]
    }
   ],
   "source": [
    "raw_time = time.time()\n",
    "int_time = int(raw_time)\n",
    "current_time = str(int_time)\n",
    "\n",
    "unix_start = unix_hist_yr+unix_hist_mon+unix_hist_day+unix_hist_hr+unix_hist_min+unix_hist_sec\n",
    "raw_start = raw_time - unix_start\n",
    "\n",
    "int_start = int(raw_start)\n",
    "start = str(int_start)\n",
    "\n",
    "#print(unix_hist_yr+history_array_mon+history_array_day+history_array_hr+history_array_min+history_array_sec)\n",
    "print(start + ' - start')\n",
    "\n",
    "gather_count = int_start/(7*one_day)\n",
    "gather_int = int(gather_count)\n",
    "gather_str = str(gather_int)\n",
    "pos_gather_count = abs(int(gather_count))\n",
    "pos_gather_str = str(pos_gather_count)\n",
    "\n",
    "print(gather_str + ' - gather')\n",
    "print(pos_gather_str + ' - positive gather')"
   ]
  },
  {
   "cell_type": "code",
   "execution_count": 11,
   "metadata": {},
   "outputs": [
    {
     "name": "stdout",
     "output_type": "stream",
     "text": [
      "1613384703289.1208\n",
      "1613384703289\n",
      "1424168703289\n",
      "1424168703.289621\n",
      "2021-02-15 10:25:03.289621+00:00\n",
      "2015-02-17 10:25:03.289621+00:00\n",
      "1424168703289\n",
      "1424791503289\n",
      "1613384703289\n",
      "13 Digit Microsecond TS: 1424168703289 - 10 Digit TS: 1424168703\n"
     ]
    }
   ],
   "source": [
    "print((datetime.now(timezone.utc) + timedelta(hours=0)).timestamp() * 1e3)\n",
    "\n",
    "dt = (datetime.now(timezone.utc) + timedelta(days=0)).timestamp() * 1e3\n",
    "\n",
    "c_dt = int(dt)\n",
    "\n",
    "c_dt_int = int(c_dt)\n",
    "print(str(c_dt_int))\n",
    "\n",
    "c_dt_array_year = history_array_yr*365\n",
    "\n",
    "history_array_comb = history_array_day + c_dt_array_year\n",
    "\n",
    "c_dt_start = (datetime.now(timezone.utc) + timedelta(days=-history_array_comb,hours=-history_array_hr,minutes=-history_array_min,seconds=-history_array_sec)).timestamp() * 1e3\n",
    "\n",
    "c_dt_start_int = int(c_dt_start)\n",
    "print(str(c_dt_start_int))\n",
    "\n",
    "c_dt_start_raw = (datetime.now(timezone.utc) + timedelta(days=-history_array_comb,hours=-history_array_hr,minutes=-history_array_min,seconds=-history_array_sec)).timestamp()\n",
    "c_dt_start_raw_int = int(c_dt_start_raw)\n",
    "print(str(c_dt_start_raw))       \n",
    "    \n",
    "data_count = 0\n",
    "\n",
    "c_dt_start_dt = datetime.utcfromtimestamp(c_dt_start_raw).strftime('%Y-%m-%d %H:%M:%S.%f+00:00')\n",
    "\n",
    "print(datetime.now(timezone.utc))\n",
    "print(datetime.utcfromtimestamp(c_dt_start_raw).strftime('%Y-%m-%d %H:%M:%S.%f+00:00'))\n",
    "\n",
    "#c_dt_end = c_dt_start + timedelta(days=7).timestamp() * 1e3\n",
    "#c_dt_end = (c_dt_start_dt + timedelta(days=7)).timestamp() * 1e3\n",
    "\n",
    "c_dt_end = (datetime.utcfromtimestamp(c_dt_start_raw) + timedelta(days=7)).timestamp() * 1e3\n",
    "\n",
    "c_dt_start_int = int(c_dt_start)\n",
    "c_dt_end_int = int(c_dt_end)\n",
    "c_dt_end_str = str(c_dt_end)\n",
    "\n",
    "\n",
    "c_dt_str = str(c_dt)\n",
    "c_dt_start_str = str(c_dt_start_int)\n",
    "\n",
    "\n",
    "ts_ten_int = int(c_dt/1000)\n",
    "start_ten_int = int(c_dt_start_int/1000)\n",
    "\n",
    "ts_ten_str = str(ts_ten_int)\n",
    "start_ten_str = str(start_ten_int)\n",
    "\n",
    "\n",
    "print(c_dt_start_int)\n",
    "print(c_dt_end_int)\n",
    "print(c_dt_int)\n",
    "print('13 Digit Microsecond TS: ' + c_dt_start_str + ' - ' + '10 Digit TS: ' + start_ten_str)"
   ]
  },
  {
   "cell_type": "code",
   "execution_count": 12,
   "metadata": {},
   "outputs": [
    {
     "name": "stdout",
     "output_type": "stream",
     "text": [
      "https://query1.finance.yahoo.com/v7/finance/download/BTC-USD?period1=1424168703&period2=1613384703&interval=1d&events=history&includeAdjustedClose=true\n"
     ]
    }
   ],
   "source": [
    "import urllib.request\n",
    "import yfinance as yf\n",
    "\n",
    "#while count < pos_gather_count:\n",
    "while data_count < 1:\n",
    "    \n",
    "    #d_u=\"https://query1.finance.yahoo.com/v7/finance/download/BTC-USD?period1=1411862400&period2=\" + current_time + \"&interval=1d&events=history&includeAdjustedClose=true\"\n",
    "    #d_u=\"https://query1.finance.yahoo.com/v7/finance/download/BTC-USD?period1=1411862400&period2=1612158064&interval=1d&events=history&includeAdjustedClose=true\"\n",
    "    #d_u=\"https://query1.finance.yahoo.com/v7/finance/download/BTC-USD?period1=\"+dt_str+\"&period2=\"+dt_end_str+\"&interval=1d&events=history&includeAdjustedClose=true\"\n",
    "    #d_u=\"https://query1.finance.yahoo.com/v7/finance/download/BTC-USD?period1=\"+gather_str+\"&period2=\"+current_time+\"&interval=1m&events=history&includeAdjustedClose=true\"\n",
    "    \n",
    "    \n",
    "    d_u=\"https://query1.finance.yahoo.com/v7/finance/download/BTC-USD?period1=\"+start_ten_str+\"&period2=\"+ts_ten_str+\"&interval=1d&events=history&includeAdjustedClose=true\"\n",
    "    \n",
    "    print(d_u)\n",
    "    \n",
    "    with urllib.request.urlopen(d_u) as testfile, open('dataset.csv', 'w') as f:\n",
    "        f.write(testfile.read().decode())\n",
    "\n",
    "    data_count += 1  # This is the same as count = count + 1"
   ]
  },
  {
   "cell_type": "raw",
   "metadata": {},
   "source": [
    "data = yf.download(tickers='BTC-USD', period='max', interval='1m', group_by='column', auto_adjust = True, prepost = True, threads = True, proxy = None)"
   ]
  },
  {
   "cell_type": "raw",
   "metadata": {},
   "source": [
    "print(start + ' - start')\n",
    "print(current_time + ' - current time')\n",
    "print(d_u + ' - url')\n",
    "    \n",
    "print(gather_count)\n",
    "#print(data_count)\n",
    "\n",
    "# List all CSV files in the working dir\n",
    "extension = \"csv\"\n",
    "all_filenames = [i for i in glob.glob('*.{}'.format(extension))]\n",
    "print(all_filenames)"
   ]
  },
  {
   "cell_type": "raw",
   "metadata": {},
   "source": [
    "import urllib.request\n",
    "d_u=\"https://query1.finance.yahoo.com/v7/finance/download/BTC-USD?period1=1411862400&period2=1612158064&interval=1d&events=history&includeAdjustedClose=true\"\n",
    "\n",
    "\n",
    "with urllib.request.urlopen(d_u) as testfile, open('dataset.csv', 'w') as f:\n",
    "    f.write(testfile.read().decode())"
   ]
  },
  {
   "cell_type": "code",
   "execution_count": 103,
   "metadata": {},
   "outputs": [
    {
     "name": "stdout",
     "output_type": "stream",
     "text": [
      "[*********************100%***********************]  1 of 1 completed\n"
     ]
    },
    {
     "data": {
      "text/html": [
       "<div>\n",
       "<style scoped>\n",
       "    .dataframe tbody tr th:only-of-type {\n",
       "        vertical-align: middle;\n",
       "    }\n",
       "\n",
       "    .dataframe tbody tr th {\n",
       "        vertical-align: top;\n",
       "    }\n",
       "\n",
       "    .dataframe thead th {\n",
       "        text-align: right;\n",
       "    }\n",
       "</style>\n",
       "<table border=\"1\" class=\"dataframe\">\n",
       "  <thead>\n",
       "    <tr style=\"text-align: right;\">\n",
       "      <th></th>\n",
       "      <th>Open</th>\n",
       "      <th>High</th>\n",
       "      <th>Low</th>\n",
       "      <th>Close</th>\n",
       "      <th>Volume</th>\n",
       "    </tr>\n",
       "    <tr>\n",
       "      <th>Date</th>\n",
       "      <th></th>\n",
       "      <th></th>\n",
       "      <th></th>\n",
       "      <th></th>\n",
       "      <th></th>\n",
       "    </tr>\n",
       "  </thead>\n",
       "  <tbody>\n",
       "    <tr>\n",
       "      <th>2014-09-17</th>\n",
       "      <td>465.864014</td>\n",
       "      <td>468.174011</td>\n",
       "      <td>452.421997</td>\n",
       "      <td>457.334015</td>\n",
       "      <td>21056800</td>\n",
       "    </tr>\n",
       "    <tr>\n",
       "      <th>2014-09-18</th>\n",
       "      <td>456.859985</td>\n",
       "      <td>456.859985</td>\n",
       "      <td>413.104004</td>\n",
       "      <td>424.440002</td>\n",
       "      <td>34483200</td>\n",
       "    </tr>\n",
       "    <tr>\n",
       "      <th>2014-09-19</th>\n",
       "      <td>424.102997</td>\n",
       "      <td>427.834991</td>\n",
       "      <td>384.532013</td>\n",
       "      <td>394.795990</td>\n",
       "      <td>37919700</td>\n",
       "    </tr>\n",
       "    <tr>\n",
       "      <th>2014-09-20</th>\n",
       "      <td>394.673004</td>\n",
       "      <td>423.295990</td>\n",
       "      <td>389.882996</td>\n",
       "      <td>408.903992</td>\n",
       "      <td>36863600</td>\n",
       "    </tr>\n",
       "    <tr>\n",
       "      <th>2014-09-21</th>\n",
       "      <td>408.084991</td>\n",
       "      <td>412.425995</td>\n",
       "      <td>393.181000</td>\n",
       "      <td>398.821014</td>\n",
       "      <td>26580100</td>\n",
       "    </tr>\n",
       "    <tr>\n",
       "      <th>...</th>\n",
       "      <td>...</td>\n",
       "      <td>...</td>\n",
       "      <td>...</td>\n",
       "      <td>...</td>\n",
       "      <td>...</td>\n",
       "    </tr>\n",
       "    <tr>\n",
       "      <th>2021-02-11</th>\n",
       "      <td>44898.710938</td>\n",
       "      <td>48463.468750</td>\n",
       "      <td>44187.761719</td>\n",
       "      <td>47909.332031</td>\n",
       "      <td>81388911810</td>\n",
       "    </tr>\n",
       "    <tr>\n",
       "      <th>2021-02-12</th>\n",
       "      <td>47877.035156</td>\n",
       "      <td>48745.734375</td>\n",
       "      <td>46424.976562</td>\n",
       "      <td>47504.851562</td>\n",
       "      <td>76555041196</td>\n",
       "    </tr>\n",
       "    <tr>\n",
       "      <th>2021-02-13</th>\n",
       "      <td>47491.203125</td>\n",
       "      <td>48047.746094</td>\n",
       "      <td>46392.281250</td>\n",
       "      <td>47105.515625</td>\n",
       "      <td>70250456155</td>\n",
       "    </tr>\n",
       "    <tr>\n",
       "      <th>2021-02-14</th>\n",
       "      <td>47114.507812</td>\n",
       "      <td>49487.640625</td>\n",
       "      <td>47114.507812</td>\n",
       "      <td>48717.289062</td>\n",
       "      <td>71248675228</td>\n",
       "    </tr>\n",
       "    <tr>\n",
       "      <th>2021-02-15</th>\n",
       "      <td>47226.578125</td>\n",
       "      <td>48875.570312</td>\n",
       "      <td>46347.476562</td>\n",
       "      <td>47552.484375</td>\n",
       "      <td>79834456064</td>\n",
       "    </tr>\n",
       "  </tbody>\n",
       "</table>\n",
       "<p>2340 rows × 5 columns</p>\n",
       "</div>"
      ],
      "text/plain": [
       "                    Open          High           Low         Close  \\\n",
       "Date                                                                 \n",
       "2014-09-17    465.864014    468.174011    452.421997    457.334015   \n",
       "2014-09-18    456.859985    456.859985    413.104004    424.440002   \n",
       "2014-09-19    424.102997    427.834991    384.532013    394.795990   \n",
       "2014-09-20    394.673004    423.295990    389.882996    408.903992   \n",
       "2014-09-21    408.084991    412.425995    393.181000    398.821014   \n",
       "...                  ...           ...           ...           ...   \n",
       "2021-02-11  44898.710938  48463.468750  44187.761719  47909.332031   \n",
       "2021-02-12  47877.035156  48745.734375  46424.976562  47504.851562   \n",
       "2021-02-13  47491.203125  48047.746094  46392.281250  47105.515625   \n",
       "2021-02-14  47114.507812  49487.640625  47114.507812  48717.289062   \n",
       "2021-02-15  47226.578125  48875.570312  46347.476562  47552.484375   \n",
       "\n",
       "                 Volume  \n",
       "Date                     \n",
       "2014-09-17     21056800  \n",
       "2014-09-18     34483200  \n",
       "2014-09-19     37919700  \n",
       "2014-09-20     36863600  \n",
       "2014-09-21     26580100  \n",
       "...                 ...  \n",
       "2021-02-11  81388911810  \n",
       "2021-02-12  76555041196  \n",
       "2021-02-13  70250456155  \n",
       "2021-02-14  71248675228  \n",
       "2021-02-15  79834456064  \n",
       "\n",
       "[2340 rows x 5 columns]"
      ]
     },
     "execution_count": 103,
     "metadata": {},
     "output_type": "execute_result"
    }
   ],
   "source": [
    "#data=pd.read_csv('dataset.csv')\n",
    "data = yf.download(tickers='BTC-USD', period='max', interval='1d', group_by='column', auto_adjust = True, prepost = True, threads = True, proxy = None)\n",
    "\n",
    "\n",
    "data.apply(pd.to_numeric, errors='coerce')\n",
    "\n",
    "#data=data.dropna()\n",
    "#data=data.dropna(inplace=True)\n",
    "#data=data.dropna(subset=['Close'])\n",
    "#data=data.dropna(how='any',axis=1)\n",
    "\n",
    "data.dropna(subset=['Close'], inplace=True)\n",
    "data.reset_index(drop=True)\n",
    "\n",
    "data"
   ]
  },
  {
   "cell_type": "code",
   "execution_count": 104,
   "metadata": {},
   "outputs": [
    {
     "data": {
      "text/plain": [
       "Date\n",
       "2014-09-17      457.334015\n",
       "2014-09-18      424.440002\n",
       "2014-09-19      394.795990\n",
       "2014-09-20      408.903992\n",
       "2014-09-21      398.821014\n",
       "                  ...     \n",
       "2021-02-11    47909.332031\n",
       "2021-02-12    47504.851562\n",
       "2021-02-13    47105.515625\n",
       "2021-02-14    48717.289062\n",
       "2021-02-15    47552.484375\n",
       "Name: Close, Length: 2340, dtype: float64"
      ]
     },
     "execution_count": 104,
     "metadata": {},
     "output_type": "execute_result"
    }
   ],
   "source": [
    "df1=data['Close']\n",
    "df1"
   ]
  },
  {
   "cell_type": "code",
   "execution_count": 105,
   "metadata": {},
   "outputs": [
    {
     "data": {
      "text/plain": [
       "[<matplotlib.lines.Line2D at 0x16a6cc26e20>]"
      ]
     },
     "execution_count": 105,
     "metadata": {},
     "output_type": "execute_result"
    },
    {
     "data": {
      "image/png": "[encoded data removed]",
      "text/plain": [
       "<Figure size 432x288 with 1 Axes>"
      ]
     },
     "metadata": {
      "needs_background": "light"
     },
     "output_type": "display_data"
    }
   ],
   "source": [
    "plt.plot(df1)"
   ]
  },
  {
   "cell_type": "code",
   "execution_count": 106,
   "metadata": {},
   "outputs": [],
   "source": [
    "import numpy as np"
   ]
  },
  {
   "cell_type": "code",
   "execution_count": 107,
   "metadata": {},
   "outputs": [
    {
     "data": {
      "text/plain": [
       "Date\n",
       "2014-09-17      457.334015\n",
       "2014-09-18      424.440002\n",
       "2014-09-19      394.795990\n",
       "2014-09-20      408.903992\n",
       "2014-09-21      398.821014\n",
       "                  ...     \n",
       "2021-02-11    47909.332031\n",
       "2021-02-12    47504.851562\n",
       "2021-02-13    47105.515625\n",
       "2021-02-14    48717.289062\n",
       "2021-02-15    47552.484375\n",
       "Name: Close, Length: 2340, dtype: float64"
      ]
     },
     "execution_count": 107,
     "metadata": {},
     "output_type": "execute_result"
    }
   ],
   "source": [
    "df1"
   ]
  },
  {
   "cell_type": "code",
   "execution_count": 108,
   "metadata": {},
   "outputs": [],
   "source": [
    "from sklearn.preprocessing import MinMaxScaler\n",
    "scaler=MinMaxScaler(feature_range=(0,1))\n",
    "df1=scaler.fit_transform(np.array(df1).reshape(-1,1))"
   ]
  },
  {
   "cell_type": "code",
   "execution_count": 109,
   "metadata": {},
   "outputs": [],
   "source": [
    "training_size=int(len(df1)*0.65)\n",
    "test_size=len(df1)-training_size\n",
    "train_data,test_data=df1[0:training_size,:],df1[training_size:len(df1),:1]"
   ]
  },
  {
   "cell_type": "code",
   "execution_count": 110,
   "metadata": {},
   "outputs": [
    {
     "data": {
      "text/plain": [
       "(1521, 819)"
      ]
     },
     "execution_count": 110,
     "metadata": {},
     "output_type": "execute_result"
    }
   ],
   "source": [
    "training_size,test_size"
   ]
  },
  {
   "cell_type": "code",
   "execution_count": 111,
   "metadata": {},
   "outputs": [],
   "source": [
    "import numpy\n",
    "# convert an array of values into a dataset matrix\n",
    "def create_dataset(dataset, time_step=1):\n",
    "\tdataX, dataY = [], []\n",
    "\tfor i in range(len(dataset)-time_step-1):\n",
    "\t\ta = dataset[i:(i+time_step), 0]   ###i=0, 0,1,2,3-----99   100 \n",
    "\t\tdataX.append(a)\n",
    "\t\tdataY.append(dataset[i + time_step, 0])\n",
    "\treturn numpy.array(dataX), numpy.array(dataY)"
   ]
  },
  {
   "cell_type": "code",
   "execution_count": 112,
   "metadata": {},
   "outputs": [],
   "source": [
    "# reshape into X=t,t+1,t+2,t+3 and Y=t+4\n",
    "time_step = 100\n",
    "X_train, y_train = create_dataset(train_data, time_step)\n",
    "X_test, ytest = create_dataset(test_data, time_step)"
   ]
  },
  {
   "cell_type": "code",
   "execution_count": 113,
   "metadata": {},
   "outputs": [
    {
     "name": "stdout",
     "output_type": "stream",
     "text": [
      "(1420, 100)\n",
      "(1420,)\n"
     ]
    },
    {
     "data": {
      "text/plain": [
       "(None, None)"
      ]
     },
     "execution_count": 113,
     "metadata": {},
     "output_type": "execute_result"
    }
   ],
   "source": [
    "print(X_train.shape), print(y_train.shape)"
   ]
  },
  {
   "cell_type": "markdown",
   "metadata": {},
   "source": []
  },
  {
   "cell_type": "code",
   "execution_count": 114,
   "metadata": {},
   "outputs": [
    {
     "name": "stdout",
     "output_type": "stream",
     "text": [
      "(718, 100)\n",
      "(718,)\n"
     ]
    },
    {
     "data": {
      "text/plain": [
       "(None, None)"
      ]
     },
     "execution_count": 114,
     "metadata": {},
     "output_type": "execute_result"
    }
   ],
   "source": [
    "print(X_test.shape), print(ytest.shape)"
   ]
  },
  {
   "cell_type": "code",
   "execution_count": 115,
   "metadata": {},
   "outputs": [
    {
     "data": {
      "text/plain": [
       "100"
      ]
     },
     "execution_count": 115,
     "metadata": {},
     "output_type": "execute_result"
    }
   ],
   "source": [
    "X_train.shape[1]"
   ]
  },
  {
   "cell_type": "code",
   "execution_count": 116,
   "metadata": {},
   "outputs": [],
   "source": [
    "# reshape input to be [samples, time steps, features] which is required for LSTM\n",
    "X_train =X_train.reshape(X_train.shape[0],X_train.shape[1] , 1)\n",
    "X_test = X_test.reshape(X_test.shape[0],X_test.shape[1] , 1)"
   ]
  },
  {
   "cell_type": "code",
   "execution_count": 117,
   "metadata": {},
   "outputs": [],
   "source": [
    "### Create the Stacked LSTM model\n",
    "from tensorflow.keras.models import Sequential\n",
    "from tensorflow.keras.layers import Dense\n",
    "from tensorflow.keras.layers import LSTM\n",
    "from keras.optimizers import Adam"
   ]
  },
  {
   "cell_type": "code",
   "execution_count": 118,
   "metadata": {},
   "outputs": [],
   "source": [
    "#opt = Adam(lr=0.0001)\n",
    "#opt = Adam(lr=0.0025)\n",
    "\n",
    "model=Sequential()\n",
    "model.add(LSTM(50,return_sequences=True,input_shape=(100,1)))\n",
    "model.add(LSTM(50,return_sequences=True))\n",
    "model.add(LSTM(50))\n",
    "model.add(Dense(1))\n",
    "\n",
    "model.compile(loss='mean_squared_error',optimizer='adam')\n",
    "#model.compile(optimizer=opt, loss='mean_squared_error')"
   ]
  },
  {
   "cell_type": "code",
   "execution_count": 119,
   "metadata": {},
   "outputs": [
    {
     "name": "stdout",
     "output_type": "stream",
     "text": [
      "Model: \"sequential_2\"\n",
      "_________________________________________________________________\n",
      "Layer (type)                 Output Shape              Param #   \n",
      "=================================================================\n",
      "lstm_6 (LSTM)                (None, 100, 50)           10400     \n",
      "_________________________________________________________________\n",
      "lstm_7 (LSTM)                (None, 100, 50)           20200     \n",
      "_________________________________________________________________\n",
      "lstm_8 (LSTM)                (None, 50)                20200     \n",
      "_________________________________________________________________\n",
      "dense_2 (Dense)              (None, 1)                 51        \n",
      "=================================================================\n",
      "Total params: 50,851\n",
      "Trainable params: 50,851\n",
      "Non-trainable params: 0\n",
      "_________________________________________________________________\n"
     ]
    }
   ],
   "source": [
    "model.summary()"
   ]
  },
  {
   "cell_type": "code",
   "execution_count": 120,
   "metadata": {},
   "outputs": [
    {
     "name": "stdout",
     "output_type": "stream",
     "text": [
      "Epoch 1/100\n",
      "12/12 [==============================] - 4s 131ms/step - loss: 0.0072 - val_loss: 0.0023\n",
      "Epoch 2/100\n",
      "12/12 [==============================] - 0s 26ms/step - loss: 9.2504e-04 - val_loss: 0.0041\n",
      "Epoch 3/100\n",
      "12/12 [==============================] - 0s 26ms/step - loss: 5.9187e-04 - val_loss: 0.0014\n",
      "Epoch 4/100\n",
      "12/12 [==============================] - 0s 25ms/step - loss: 3.8309e-04 - val_loss: 0.0032\n",
      "Epoch 5/100\n",
      "12/12 [==============================] - 0s 25ms/step - loss: 2.9307e-04 - val_loss: 0.0020\n",
      "Epoch 6/100\n",
      "12/12 [==============================] - 0s 26ms/step - loss: 2.8547e-04 - val_loss: 0.0024\n",
      "Epoch 7/100\n",
      "12/12 [==============================] - 0s 27ms/step - loss: 2.7522e-04 - val_loss: 0.0030\n",
      "Epoch 8/100\n",
      "12/12 [==============================] - 0s 25ms/step - loss: 2.3985e-04 - val_loss: 0.0026\n",
      "Epoch 9/100\n",
      "12/12 [==============================] - 0s 25ms/step - loss: 2.5310e-04 - val_loss: 0.0033\n",
      "Epoch 10/100\n",
      "12/12 [==============================] - 0s 24ms/step - loss: 2.5409e-04 - val_loss: 0.0024\n",
      "Epoch 11/100\n",
      "12/12 [==============================] - 0s 25ms/step - loss: 1.9499e-04 - val_loss: 0.0029\n",
      "Epoch 12/100\n",
      "12/12 [==============================] - 0s 25ms/step - loss: 1.9495e-04 - val_loss: 0.0041\n",
      "Epoch 13/100\n",
      "12/12 [==============================] - 0s 25ms/step - loss: 2.1741e-04 - val_loss: 0.0039\n",
      "Epoch 14/100\n",
      "12/12 [==============================] - 0s 25ms/step - loss: 2.1679e-04 - val_loss: 0.0025\n",
      "Epoch 15/100\n",
      "12/12 [==============================] - 0s 25ms/step - loss: 2.7977e-04 - val_loss: 0.0050\n",
      "Epoch 16/100\n",
      "12/12 [==============================] - 0s 30ms/step - loss: 3.3310e-04 - val_loss: 0.0055\n",
      "Epoch 17/100\n",
      "12/12 [==============================] - 0s 25ms/step - loss: 2.8403e-04 - val_loss: 0.0030\n",
      "Epoch 18/100\n",
      "12/12 [==============================] - 0s 27ms/step - loss: 1.8957e-04 - val_loss: 0.0028\n",
      "Epoch 19/100\n",
      "12/12 [==============================] - 0s 28ms/step - loss: 2.0283e-04 - val_loss: 0.0040\n",
      "Epoch 20/100\n",
      "12/12 [==============================] - 0s 24ms/step - loss: 1.5213e-04 - val_loss: 0.0032\n",
      "Epoch 21/100\n",
      "12/12 [==============================] - 0s 24ms/step - loss: 1.5810e-04 - val_loss: 0.0029\n",
      "Epoch 22/100\n",
      "12/12 [==============================] - 0s 25ms/step - loss: 1.9327e-04 - val_loss: 0.0038\n",
      "Epoch 23/100\n",
      "12/12 [==============================] - 0s 24ms/step - loss: 1.2177e-04 - val_loss: 0.0030\n",
      "Epoch 24/100\n",
      "12/12 [==============================] - 0s 25ms/step - loss: 1.4610e-04 - val_loss: 0.0023\n",
      "Epoch 25/100\n",
      "12/12 [==============================] - 0s 24ms/step - loss: 1.4550e-04 - val_loss: 0.0021\n",
      "Epoch 26/100\n",
      "12/12 [==============================] - 0s 25ms/step - loss: 2.4389e-04 - val_loss: 0.0025\n",
      "Epoch 27/100\n",
      "12/12 [==============================] - 0s 25ms/step - loss: 1.9400e-04 - val_loss: 0.0030\n",
      "Epoch 28/100\n",
      "12/12 [==============================] - 0s 24ms/step - loss: 1.3854e-04 - val_loss: 0.0025\n",
      "Epoch 29/100\n",
      "12/12 [==============================] - 0s 24ms/step - loss: 1.4142e-04 - val_loss: 0.0023\n",
      "Epoch 30/100\n",
      "12/12 [==============================] - 0s 25ms/step - loss: 1.4153e-04 - val_loss: 0.0021\n",
      "Epoch 31/100\n",
      "12/12 [==============================] - 0s 24ms/step - loss: 1.3464e-04 - val_loss: 0.0028\n",
      "Epoch 32/100\n",
      "12/12 [==============================] - 0s 24ms/step - loss: 1.2989e-04 - val_loss: 0.0029\n",
      "Epoch 33/100\n",
      "12/12 [==============================] - 0s 25ms/step - loss: 1.4296e-04 - val_loss: 0.0019\n",
      "Epoch 34/100\n",
      "12/12 [==============================] - 0s 23ms/step - loss: 1.5136e-04 - val_loss: 0.0022\n",
      "Epoch 35/100\n",
      "12/12 [==============================] - 0s 24ms/step - loss: 1.2665e-04 - val_loss: 0.0021\n",
      "Epoch 36/100\n",
      "12/12 [==============================] - 0s 25ms/step - loss: 1.4775e-04 - val_loss: 0.0022\n",
      "Epoch 37/100\n",
      "12/12 [==============================] - 0s 25ms/step - loss: 1.4172e-04 - val_loss: 0.0020\n",
      "Epoch 38/100\n",
      "12/12 [==============================] - 0s 25ms/step - loss: 1.6920e-04 - val_loss: 0.0016\n",
      "Epoch 39/100\n",
      "12/12 [==============================] - 0s 24ms/step - loss: 1.6335e-04 - val_loss: 0.0025\n",
      "Epoch 40/100\n",
      "12/12 [==============================] - 0s 25ms/step - loss: 1.5067e-04 - val_loss: 0.0036\n",
      "Epoch 41/100\n",
      "12/12 [==============================] - 0s 24ms/step - loss: 1.4323e-04 - val_loss: 0.0016\n",
      "Epoch 42/100\n",
      "12/12 [==============================] - 0s 25ms/step - loss: 1.1584e-04 - val_loss: 0.0011\n",
      "Epoch 43/100\n",
      "12/12 [==============================] - 0s 25ms/step - loss: 1.2349e-04 - val_loss: 0.0010\n",
      "Epoch 44/100\n",
      "12/12 [==============================] - 0s 24ms/step - loss: 2.5898e-04 - val_loss: 0.0019\n",
      "Epoch 45/100\n",
      "12/12 [==============================] - 0s 25ms/step - loss: 1.3604e-04 - val_loss: 0.0025\n",
      "Epoch 46/100\n",
      "12/12 [==============================] - 0s 24ms/step - loss: 1.1701e-04 - val_loss: 8.2752e-04\n",
      "Epoch 47/100\n",
      "12/12 [==============================] - 0s 24ms/step - loss: 1.3593e-04 - val_loss: 9.9279e-04\n",
      "Epoch 48/100\n",
      "12/12 [==============================] - 0s 24ms/step - loss: 8.9710e-05 - val_loss: 0.0010\n",
      "Epoch 49/100\n",
      "12/12 [==============================] - 0s 25ms/step - loss: 1.2072e-04 - val_loss: 0.0014\n",
      "Epoch 50/100\n",
      "12/12 [==============================] - 0s 25ms/step - loss: 1.0251e-04 - val_loss: 0.0016\n",
      "Epoch 51/100\n",
      "12/12 [==============================] - 0s 25ms/step - loss: 1.0087e-04 - val_loss: 0.0015\n",
      "Epoch 52/100\n",
      "12/12 [==============================] - 0s 24ms/step - loss: 9.1367e-05 - val_loss: 0.0011\n",
      "Epoch 53/100\n",
      "12/12 [==============================] - 0s 27ms/step - loss: 9.3426e-05 - val_loss: 0.0015\n",
      "Epoch 54/100\n",
      "12/12 [==============================] - 0s 32ms/step - loss: 1.0494e-04 - val_loss: 0.0015\n",
      "Epoch 55/100\n",
      "12/12 [==============================] - 0s 30ms/step - loss: 1.0994e-04 - val_loss: 0.0016\n",
      "Epoch 56/100\n",
      "12/12 [==============================] - 0s 27ms/step - loss: 9.3761e-05 - val_loss: 0.0013\n",
      "Epoch 57/100\n",
      "12/12 [==============================] - 0s 24ms/step - loss: 9.5154e-05 - val_loss: 0.0014\n",
      "Epoch 58/100\n",
      "12/12 [==============================] - 0s 24ms/step - loss: 9.7108e-05 - val_loss: 0.0013\n",
      "Epoch 59/100\n",
      "12/12 [==============================] - 0s 26ms/step - loss: 7.3806e-05 - val_loss: 0.0012\n",
      "Epoch 60/100\n",
      "12/12 [==============================] - 0s 32ms/step - loss: 1.0452e-04 - val_loss: 0.0013\n",
      "Epoch 61/100\n",
      "12/12 [==============================] - 0s 24ms/step - loss: 8.1353e-05 - val_loss: 0.0011\n",
      "Epoch 62/100\n",
      "12/12 [==============================] - 0s 25ms/step - loss: 1.1041e-04 - val_loss: 0.0012\n",
      "Epoch 63/100\n",
      "12/12 [==============================] - 0s 26ms/step - loss: 8.3052e-05 - val_loss: 0.0015\n",
      "Epoch 64/100\n",
      "12/12 [==============================] - 0s 24ms/step - loss: 8.3672e-05 - val_loss: 0.0013\n",
      "Epoch 65/100\n",
      "12/12 [==============================] - 0s 25ms/step - loss: 8.6744e-05 - val_loss: 0.0011\n",
      "Epoch 66/100\n",
      "12/12 [==============================] - 0s 24ms/step - loss: 8.8537e-05 - val_loss: 0.0012\n",
      "Epoch 67/100\n",
      "12/12 [==============================] - 0s 25ms/step - loss: 8.0538e-05 - val_loss: 0.0016\n",
      "Epoch 68/100\n",
      "12/12 [==============================] - 0s 25ms/step - loss: 9.8340e-05 - val_loss: 0.0010\n",
      "Epoch 69/100\n",
      "12/12 [==============================] - 0s 27ms/step - loss: 7.9621e-05 - val_loss: 0.0013\n",
      "Epoch 70/100\n",
      "12/12 [==============================] - 0s 24ms/step - loss: 8.2726e-05 - val_loss: 8.1817e-04\n",
      "Epoch 71/100\n",
      "12/12 [==============================] - 0s 25ms/step - loss: 8.6003e-05 - val_loss: 0.0012\n",
      "Epoch 72/100\n",
      "12/12 [==============================] - 0s 24ms/step - loss: 8.9256e-05 - val_loss: 0.0019\n",
      "Epoch 73/100\n",
      "12/12 [==============================] - 0s 24ms/step - loss: 8.8787e-05 - val_loss: 7.2233e-04\n",
      "Epoch 74/100\n",
      "12/12 [==============================] - 0s 24ms/step - loss: 1.0970e-04 - val_loss: 0.0014\n",
      "Epoch 75/100\n",
      "12/12 [==============================] - 0s 24ms/step - loss: 8.4745e-05 - val_loss: 0.0014\n",
      "Epoch 76/100\n",
      "12/12 [==============================] - 0s 24ms/step - loss: 7.3291e-05 - val_loss: 8.2726e-04\n",
      "Epoch 77/100\n",
      "12/12 [==============================] - 0s 25ms/step - loss: 9.7772e-05 - val_loss: 0.0017\n",
      "Epoch 78/100\n",
      "12/12 [==============================] - 0s 26ms/step - loss: 1.1041e-04 - val_loss: 0.0010\n"
     ]
    },
    {
     "name": "stdout",
     "output_type": "stream",
     "text": [
      "Epoch 79/100\n",
      "12/12 [==============================] - 0s 24ms/step - loss: 9.6484e-05 - val_loss: 0.0012\n",
      "Epoch 80/100\n",
      "12/12 [==============================] - 0s 24ms/step - loss: 8.8450e-05 - val_loss: 0.0025\n",
      "Epoch 81/100\n",
      "12/12 [==============================] - 0s 25ms/step - loss: 1.3030e-04 - val_loss: 0.0015\n",
      "Epoch 82/100\n",
      "12/12 [==============================] - 0s 23ms/step - loss: 9.2729e-05 - val_loss: 8.8434e-04\n",
      "Epoch 83/100\n",
      "12/12 [==============================] - 0s 24ms/step - loss: 1.0255e-04 - val_loss: 8.9551e-04\n",
      "Epoch 84/100\n",
      "12/12 [==============================] - 0s 24ms/step - loss: 8.6723e-05 - val_loss: 0.0012\n",
      "Epoch 85/100\n",
      "12/12 [==============================] - 0s 24ms/step - loss: 1.0669e-04 - val_loss: 7.4656e-04\n",
      "Epoch 86/100\n",
      "12/12 [==============================] - 0s 25ms/step - loss: 8.9116e-05 - val_loss: 0.0012\n",
      "Epoch 87/100\n",
      "12/12 [==============================] - 0s 24ms/step - loss: 6.7912e-05 - val_loss: 0.0011\n",
      "Epoch 88/100\n",
      "12/12 [==============================] - 0s 25ms/step - loss: 7.7084e-05 - val_loss: 0.0016\n",
      "Epoch 89/100\n",
      "12/12 [==============================] - 0s 24ms/step - loss: 8.1789e-05 - val_loss: 9.3774e-04\n",
      "Epoch 90/100\n",
      "12/12 [==============================] - 0s 25ms/step - loss: 7.5280e-05 - val_loss: 0.0020\n",
      "Epoch 91/100\n",
      "12/12 [==============================] - 0s 24ms/step - loss: 1.1349e-04 - val_loss: 0.0018\n",
      "Epoch 92/100\n",
      "12/12 [==============================] - 0s 24ms/step - loss: 7.5472e-05 - val_loss: 0.0010\n",
      "Epoch 93/100\n",
      "12/12 [==============================] - 0s 23ms/step - loss: 7.8819e-05 - val_loss: 0.0013\n",
      "Epoch 94/100\n",
      "12/12 [==============================] - 0s 24ms/step - loss: 8.7264e-05 - val_loss: 8.4739e-04\n",
      "Epoch 95/100\n",
      "12/12 [==============================] - 0s 25ms/step - loss: 8.9254e-05 - val_loss: 0.0018\n",
      "Epoch 96/100\n",
      "12/12 [==============================] - 0s 24ms/step - loss: 7.9920e-05 - val_loss: 0.0011\n",
      "Epoch 97/100\n",
      "12/12 [==============================] - 0s 24ms/step - loss: 7.8164e-05 - val_loss: 0.0010\n",
      "Epoch 98/100\n",
      "12/12 [==============================] - 0s 25ms/step - loss: 9.1250e-05 - val_loss: 7.0300e-04\n",
      "Epoch 99/100\n",
      "12/12 [==============================] - 0s 25ms/step - loss: 1.1805e-04 - val_loss: 8.8609e-04\n",
      "Epoch 100/100\n",
      "12/12 [==============================] - 0s 25ms/step - loss: 7.7120e-05 - val_loss: 0.0013\n"
     ]
    },
    {
     "data": {
      "text/plain": [
       "<tensorflow.python.keras.callbacks.History at 0x16a6c4d8c40>"
      ]
     },
     "execution_count": 120,
     "metadata": {},
     "output_type": "execute_result"
    }
   ],
   "source": [
    "model.fit(X_train,y_train,validation_data=(X_test,ytest),epochs=100,batch_size=128,verbose=1)"
   ]
  },
  {
   "cell_type": "code",
   "execution_count": 121,
   "metadata": {},
   "outputs": [],
   "source": [
    "import tensorflow as tf\n",
    "### Do the prediction and check performance metrics\n",
    "train_predict=model.predict(X_train)\n",
    "test_predict=model.predict(X_test)\n",
    "##Transformback to original form\n",
    "train_predict=scaler.inverse_transform(train_predict)\n",
    "test_predict=scaler.inverse_transform(test_predict)\n",
    "### Calculate RMSE performance metrics"
   ]
  },
  {
   "cell_type": "code",
   "execution_count": 122,
   "metadata": {},
   "outputs": [
    {
     "data": {
      "text/plain": [
       "4703.431770615152"
      ]
     },
     "execution_count": 122,
     "metadata": {},
     "output_type": "execute_result"
    }
   ],
   "source": [
    "import math\n",
    "from sklearn.metrics import mean_squared_error\n",
    "math.sqrt(mean_squared_error(y_train,train_predict))"
   ]
  },
  {
   "cell_type": "code",
   "execution_count": 123,
   "metadata": {},
   "outputs": [
    {
     "data": {
      "text/plain": [
       "12394.508611791383"
      ]
     },
     "execution_count": 123,
     "metadata": {},
     "output_type": "execute_result"
    }
   ],
   "source": [
    "### Test Data RMSE\n",
    "math.sqrt(mean_squared_error(ytest,test_predict))"
   ]
  },
  {
   "cell_type": "code",
   "execution_count": 124,
   "metadata": {},
   "outputs": [
    {
     "data": {
      "image/png": "[encoded data removed]",
      "text/plain": [
       "<Figure size 432x288 with 1 Axes>"
      ]
     },
     "metadata": {
      "needs_background": "light"
     },
     "output_type": "display_data"
    }
   ],
   "source": [
    "# shift train predictions for plotting\n",
    "look_back=100\n",
    "trainPredictPlot = numpy.empty_like(df1)\n",
    "trainPredictPlot[:, :] = np.nan\n",
    "trainPredictPlot[look_back:len(train_predict)+look_back, :] = train_predict\n",
    "# shift test predictions for plotting\n",
    "testPredictPlot = numpy.empty_like(df1)\n",
    "testPredictPlot[:, :] = numpy.nan\n",
    "testPredictPlot[len(train_predict)+(look_back*2)+1:len(df1)-1, :] = test_predict\n",
    "# plot baseline and predictions\n",
    "plt.plot(scaler.inverse_transform(df1))\n",
    "plt.plot(trainPredictPlot)\n",
    "plt.plot(testPredictPlot)\n",
    "plt.show()"
   ]
  },
  {
   "cell_type": "code",
   "execution_count": 125,
   "metadata": {},
   "outputs": [
    {
     "name": "stdout",
     "output_type": "stream",
     "text": [
      "819\n",
      "719\n"
     ]
    }
   ],
   "source": [
    "len(test_data)\n",
    "tdl_int = len(test_data)\n",
    "tdl_length = tdl_int - 100\n",
    "print(tdl_int)\n",
    "print(tdl_length)"
   ]
  },
  {
   "cell_type": "code",
   "execution_count": 126,
   "metadata": {},
   "outputs": [
    {
     "data": {
      "text/plain": [
       "(1, 100)"
      ]
     },
     "execution_count": 126,
     "metadata": {},
     "output_type": "execute_result"
    }
   ],
   "source": [
    "x_input=test_data[tdl_length:].reshape(1,-1)\n",
    "x_input.shape"
   ]
  },
  {
   "cell_type": "code",
   "execution_count": 127,
   "metadata": {},
   "outputs": [
    {
     "data": {
      "text/plain": [
       "[0.31523941018053636,\n",
       " 0.31220573852139966,\n",
       " 0.31135254980328914,\n",
       " 0.31980834672260033,\n",
       " 0.3316545261264333,\n",
       " 0.33250878115439975,\n",
       " 0.32736510359999665,\n",
       " 0.32504634240161734,\n",
       " 0.3407145787101332,\n",
       " 0.3598598301492006,\n",
       " 0.36312728521448356,\n",
       " 0.3633968402984378,\n",
       " 0.37996540426831726,\n",
       " 0.38039635440253866,\n",
       " 0.3747878864652793,\n",
       " 0.37466672952278246,\n",
       " 0.38998103143534957,\n",
       " 0.3822482328364576,\n",
       " 0.3496663505458229,\n",
       " 0.3487965233701493,\n",
       " 0.36134332870648117,\n",
       " 0.3708216564204548,\n",
       " 0.40066046666627086,\n",
       " 0.3837084335293391,\n",
       " 0.3919099256075411,\n",
       " 0.3969431093180066,\n",
       " 0.3815816483431325,\n",
       " 0.390944492687805,\n",
       " 0.39487720438885665,\n",
       " 0.39171501221350113,\n",
       " 0.37378133019940174,\n",
       " 0.3785768676453749,\n",
       " 0.37262448460100156,\n",
       " 0.3683786801833881,\n",
       " 0.3837219937716577,\n",
       " 0.3907004083260695,\n",
       " 0.3928483989950711,\n",
       " 0.39635961651722745,\n",
       " 0.43536977795283643,\n",
       " 0.4661606620666089,\n",
       " 0.4730169539639374,\n",
       " 0.48809489723146093,\n",
       " 0.48000788256986576,\n",
       " 0.4661178084818334,\n",
       " 0.4863065950078193,\n",
       " 0.47514687772255004,\n",
       " 0.48533665542001286,\n",
       " 0.5044725716180776,\n",
       " 0.5409842282278966,\n",
       " 0.5375902243136756,\n",
       " 0.5543295588129329,\n",
       " 0.5600492448800698,\n",
       " 0.5905094924622925,\n",
       " 0.5938216118272006,\n",
       " 0.6014944154074069,\n",
       " 0.6582138509300797,\n",
       " 0.671703072988503,\n",
       " 0.6550132715999111,\n",
       " 0.6966397550408618,\n",
       " 0.7549829994026106,\n",
       " 0.8074494681244867,\n",
       " 0.8368394625162313,\n",
       " 0.8256513371268761,\n",
       " 0.7865467368523299,\n",
       " 0.7290718308562673,\n",
       " 0.6952085660236829,\n",
       " 0.7651190592261999,\n",
       " 0.8036645912313837,\n",
       " 0.7550036817900047,\n",
       " 0.7416695776370364,\n",
       " 0.7336994546785144,\n",
       " 0.7509802733940384,\n",
       " 0.7394376502752257,\n",
       " 0.7286823259730494,\n",
       " 0.6313990551975354,\n",
       " 0.6763125091860378,\n",
       " 0.6569854619760637,\n",
       " 0.6615536541131338,\n",
       " 0.6631402829406301,\n",
       " 0.6673318866270768,\n",
       " 0.6232993655319925,\n",
       " 0.6483730985794176,\n",
       " 0.7033138890243136,\n",
       " 0.7023484158664697,\n",
       " 0.6785498284542898,\n",
       " 0.6872606545006501,\n",
       " 0.7279105590660123,\n",
       " 0.7683274045111681,\n",
       " 0.7570782781504329,\n",
       " 0.7821763954911669,\n",
       " 0.8052856236410236,\n",
       " 0.7978159822669503,\n",
       " 0.9480662033487891,\n",
       " 0.9539303442228219,\n",
       " 0.9217311665751918,\n",
       " 0.9833545410061713,\n",
       " 0.9750214703155599,\n",
       " 0.9667943868008158,\n",
       " 1.0,\n",
       " 0.9760027972878653]"
      ]
     },
     "execution_count": 127,
     "metadata": {},
     "output_type": "execute_result"
    }
   ],
   "source": [
    "temp_input=list(x_input)\n",
    "temp_input=temp_input[0].tolist()\n",
    "\n",
    "temp_input"
   ]
  },
  {
   "cell_type": "code",
   "execution_count": 128,
   "metadata": {},
   "outputs": [
    {
     "name": "stdout",
     "output_type": "stream",
     "text": [
      "[0.7825247]\n",
      "101\n",
      "1 day input [0.31220574 0.31135255 0.31980835 0.33165453 0.33250878 0.3273651\n",
      " 0.32504634 0.34071458 0.35985983 0.36312729 0.36339684 0.3799654\n",
      " 0.38039635 0.37478789 0.37466673 0.38998103 0.38224823 0.34966635\n",
      " 0.34879652 0.36134333 0.37082166 0.40066047 0.38370843 0.39190993\n",
      " 0.39694311 0.38158165 0.39094449 0.3948772  0.39171501 0.37378133\n",
      " 0.37857687 0.37262448 0.36837868 0.38372199 0.39070041 0.3928484\n",
      " 0.39635962 0.43536978 0.46616066 0.47301695 0.4880949  0.48000788\n",
      " 0.46611781 0.4863066  0.47514688 0.48533666 0.50447257 0.54098423\n",
      " 0.53759022 0.55432956 0.56004924 0.59050949 0.59382161 0.60149442\n",
      " 0.65821385 0.67170307 0.65501327 0.69663976 0.754983   0.80744947\n",
      " 0.83683946 0.82565134 0.78654674 0.72907183 0.69520857 0.76511906\n",
      " 0.80366459 0.75500368 0.74166958 0.73369945 0.75098027 0.73943765\n",
      " 0.72868233 0.63139906 0.67631251 0.65698546 0.66155365 0.66314028\n",
      " 0.66733189 0.62329937 0.6483731  0.70331389 0.70234842 0.67854983\n",
      " 0.68726065 0.72791056 0.7683274  0.75707828 0.7821764  0.80528562\n",
      " 0.79781598 0.9480662  0.95393034 0.92173117 0.98335454 0.97502147\n",
      " 0.96679439 1.         0.9760028  0.7825247 ]\n",
      "1 day output [[0.69760364]]\n",
      "2 day input [0.31135255 0.31980835 0.33165453 0.33250878 0.3273651  0.32504634\n",
      " 0.34071458 0.35985983 0.36312729 0.36339684 0.3799654  0.38039635\n",
      " 0.37478789 0.37466673 0.38998103 0.38224823 0.34966635 0.34879652\n",
      " 0.36134333 0.37082166 0.40066047 0.38370843 0.39190993 0.39694311\n",
      " 0.38158165 0.39094449 0.3948772  0.39171501 0.37378133 0.37857687\n",
      " 0.37262448 0.36837868 0.38372199 0.39070041 0.3928484  0.39635962\n",
      " 0.43536978 0.46616066 0.47301695 0.4880949  0.48000788 0.46611781\n",
      " 0.4863066  0.47514688 0.48533666 0.50447257 0.54098423 0.53759022\n",
      " 0.55432956 0.56004924 0.59050949 0.59382161 0.60149442 0.65821385\n",
      " 0.67170307 0.65501327 0.69663976 0.754983   0.80744947 0.83683946\n",
      " 0.82565134 0.78654674 0.72907183 0.69520857 0.76511906 0.80366459\n",
      " 0.75500368 0.74166958 0.73369945 0.75098027 0.73943765 0.72868233\n",
      " 0.63139906 0.67631251 0.65698546 0.66155365 0.66314028 0.66733189\n",
      " 0.62329937 0.6483731  0.70331389 0.70234842 0.67854983 0.68726065\n",
      " 0.72791056 0.7683274  0.75707828 0.7821764  0.80528562 0.79781598\n",
      " 0.9480662  0.95393034 0.92173117 0.98335454 0.97502147 0.96679439\n",
      " 1.         0.9760028  0.7825247  0.69760364]\n",
      "2 day output [[0.5876968]]\n",
      "3 day input [0.31980835 0.33165453 0.33250878 0.3273651  0.32504634 0.34071458\n",
      " 0.35985983 0.36312729 0.36339684 0.3799654  0.38039635 0.37478789\n",
      " 0.37466673 0.38998103 0.38224823 0.34966635 0.34879652 0.36134333\n",
      " 0.37082166 0.40066047 0.38370843 0.39190993 0.39694311 0.38158165\n",
      " 0.39094449 0.3948772  0.39171501 0.37378133 0.37857687 0.37262448\n",
      " 0.36837868 0.38372199 0.39070041 0.3928484  0.39635962 0.43536978\n",
      " 0.46616066 0.47301695 0.4880949  0.48000788 0.46611781 0.4863066\n",
      " 0.47514688 0.48533666 0.50447257 0.54098423 0.53759022 0.55432956\n",
      " 0.56004924 0.59050949 0.59382161 0.60149442 0.65821385 0.67170307\n",
      " 0.65501327 0.69663976 0.754983   0.80744947 0.83683946 0.82565134\n",
      " 0.78654674 0.72907183 0.69520857 0.76511906 0.80366459 0.75500368\n",
      " 0.74166958 0.73369945 0.75098027 0.73943765 0.72868233 0.63139906\n",
      " 0.67631251 0.65698546 0.66155365 0.66314028 0.66733189 0.62329937\n",
      " 0.6483731  0.70331389 0.70234842 0.67854983 0.68726065 0.72791056\n",
      " 0.7683274  0.75707828 0.7821764  0.80528562 0.79781598 0.9480662\n",
      " 0.95393034 0.92173117 0.98335454 0.97502147 0.96679439 1.\n",
      " 0.9760028  0.7825247  0.69760364 0.58769679]\n",
      "3 day output [[0.48256943]]\n",
      "4 day input [0.33165453 0.33250878 0.3273651  0.32504634 0.34071458 0.35985983\n",
      " 0.36312729 0.36339684 0.3799654  0.38039635 0.37478789 0.37466673\n",
      " 0.38998103 0.38224823 0.34966635 0.34879652 0.36134333 0.37082166\n",
      " 0.40066047 0.38370843 0.39190993 0.39694311 0.38158165 0.39094449\n",
      " 0.3948772  0.39171501 0.37378133 0.37857687 0.37262448 0.36837868\n",
      " 0.38372199 0.39070041 0.3928484  0.39635962 0.43536978 0.46616066\n",
      " 0.47301695 0.4880949  0.48000788 0.46611781 0.4863066  0.47514688\n",
      " 0.48533666 0.50447257 0.54098423 0.53759022 0.55432956 0.56004924\n",
      " 0.59050949 0.59382161 0.60149442 0.65821385 0.67170307 0.65501327\n",
      " 0.69663976 0.754983   0.80744947 0.83683946 0.82565134 0.78654674\n",
      " 0.72907183 0.69520857 0.76511906 0.80366459 0.75500368 0.74166958\n",
      " 0.73369945 0.75098027 0.73943765 0.72868233 0.63139906 0.67631251\n",
      " 0.65698546 0.66155365 0.66314028 0.66733189 0.62329937 0.6483731\n",
      " 0.70331389 0.70234842 0.67854983 0.68726065 0.72791056 0.7683274\n",
      " 0.75707828 0.7821764  0.80528562 0.79781598 0.9480662  0.95393034\n",
      " 0.92173117 0.98335454 0.97502147 0.96679439 1.         0.9760028\n",
      " 0.7825247  0.69760364 0.58769679 0.48256943]\n",
      "4 day output [[0.39659324]]\n",
      "5 day input [0.33250878 0.3273651  0.32504634 0.34071458 0.35985983 0.36312729\n",
      " 0.36339684 0.3799654  0.38039635 0.37478789 0.37466673 0.38998103\n",
      " 0.38224823 0.34966635 0.34879652 0.36134333 0.37082166 0.40066047\n",
      " 0.38370843 0.39190993 0.39694311 0.38158165 0.39094449 0.3948772\n",
      " 0.39171501 0.37378133 0.37857687 0.37262448 0.36837868 0.38372199\n",
      " 0.39070041 0.3928484  0.39635962 0.43536978 0.46616066 0.47301695\n",
      " 0.4880949  0.48000788 0.46611781 0.4863066  0.47514688 0.48533666\n",
      " 0.50447257 0.54098423 0.53759022 0.55432956 0.56004924 0.59050949\n",
      " 0.59382161 0.60149442 0.65821385 0.67170307 0.65501327 0.69663976\n",
      " 0.754983   0.80744947 0.83683946 0.82565134 0.78654674 0.72907183\n",
      " 0.69520857 0.76511906 0.80366459 0.75500368 0.74166958 0.73369945\n",
      " 0.75098027 0.73943765 0.72868233 0.63139906 0.67631251 0.65698546\n",
      " 0.66155365 0.66314028 0.66733189 0.62329937 0.6483731  0.70331389\n",
      " 0.70234842 0.67854983 0.68726065 0.72791056 0.7683274  0.75707828\n",
      " 0.7821764  0.80528562 0.79781598 0.9480662  0.95393034 0.92173117\n",
      " 0.98335454 0.97502147 0.96679439 1.         0.9760028  0.7825247\n",
      " 0.69760364 0.58769679 0.48256943 0.39659324]\n",
      "5 day output [[0.3349106]]\n",
      "6 day input [0.3273651  0.32504634 0.34071458 0.35985983 0.36312729 0.36339684\n",
      " 0.3799654  0.38039635 0.37478789 0.37466673 0.38998103 0.38224823\n",
      " 0.34966635 0.34879652 0.36134333 0.37082166 0.40066047 0.38370843\n",
      " 0.39190993 0.39694311 0.38158165 0.39094449 0.3948772  0.39171501\n",
      " 0.37378133 0.37857687 0.37262448 0.36837868 0.38372199 0.39070041\n",
      " 0.3928484  0.39635962 0.43536978 0.46616066 0.47301695 0.4880949\n",
      " 0.48000788 0.46611781 0.4863066  0.47514688 0.48533666 0.50447257\n",
      " 0.54098423 0.53759022 0.55432956 0.56004924 0.59050949 0.59382161\n",
      " 0.60149442 0.65821385 0.67170307 0.65501327 0.69663976 0.754983\n",
      " 0.80744947 0.83683946 0.82565134 0.78654674 0.72907183 0.69520857\n",
      " 0.76511906 0.80366459 0.75500368 0.74166958 0.73369945 0.75098027\n",
      " 0.73943765 0.72868233 0.63139906 0.67631251 0.65698546 0.66155365\n",
      " 0.66314028 0.66733189 0.62329937 0.6483731  0.70331389 0.70234842\n",
      " 0.67854983 0.68726065 0.72791056 0.7683274  0.75707828 0.7821764\n",
      " 0.80528562 0.79781598 0.9480662  0.95393034 0.92173117 0.98335454\n",
      " 0.97502147 0.96679439 1.         0.9760028  0.7825247  0.69760364\n",
      " 0.58769679 0.48256943 0.39659324 0.3349106 ]\n",
      "6 day output [[0.29596707]]\n",
      "7 day input [0.32504634 0.34071458 0.35985983 0.36312729 0.36339684 0.3799654\n",
      " 0.38039635 0.37478789 0.37466673 0.38998103 0.38224823 0.34966635\n",
      " 0.34879652 0.36134333 0.37082166 0.40066047 0.38370843 0.39190993\n",
      " 0.39694311 0.38158165 0.39094449 0.3948772  0.39171501 0.37378133\n",
      " 0.37857687 0.37262448 0.36837868 0.38372199 0.39070041 0.3928484\n",
      " 0.39635962 0.43536978 0.46616066 0.47301695 0.4880949  0.48000788\n",
      " 0.46611781 0.4863066  0.47514688 0.48533666 0.50447257 0.54098423\n",
      " 0.53759022 0.55432956 0.56004924 0.59050949 0.59382161 0.60149442\n",
      " 0.65821385 0.67170307 0.65501327 0.69663976 0.754983   0.80744947\n",
      " 0.83683946 0.82565134 0.78654674 0.72907183 0.69520857 0.76511906\n",
      " 0.80366459 0.75500368 0.74166958 0.73369945 0.75098027 0.73943765\n",
      " 0.72868233 0.63139906 0.67631251 0.65698546 0.66155365 0.66314028\n",
      " 0.66733189 0.62329937 0.6483731  0.70331389 0.70234842 0.67854983\n",
      " 0.68726065 0.72791056 0.7683274  0.75707828 0.7821764  0.80528562\n",
      " 0.79781598 0.9480662  0.95393034 0.92173117 0.98335454 0.97502147\n",
      " 0.96679439 1.         0.9760028  0.7825247  0.69760364 0.58769679\n",
      " 0.48256943 0.39659324 0.3349106  0.29596707]\n",
      "7 day output [[0.27503443]]\n",
      "8 day input [0.34071458 0.35985983 0.36312729 0.36339684 0.3799654  0.38039635\n",
      " 0.37478789 0.37466673 0.38998103 0.38224823 0.34966635 0.34879652\n",
      " 0.36134333 0.37082166 0.40066047 0.38370843 0.39190993 0.39694311\n",
      " 0.38158165 0.39094449 0.3948772  0.39171501 0.37378133 0.37857687\n",
      " 0.37262448 0.36837868 0.38372199 0.39070041 0.3928484  0.39635962\n",
      " 0.43536978 0.46616066 0.47301695 0.4880949  0.48000788 0.46611781\n",
      " 0.4863066  0.47514688 0.48533666 0.50447257 0.54098423 0.53759022\n",
      " 0.55432956 0.56004924 0.59050949 0.59382161 0.60149442 0.65821385\n",
      " 0.67170307 0.65501327 0.69663976 0.754983   0.80744947 0.83683946\n",
      " 0.82565134 0.78654674 0.72907183 0.69520857 0.76511906 0.80366459\n",
      " 0.75500368 0.74166958 0.73369945 0.75098027 0.73943765 0.72868233\n",
      " 0.63139906 0.67631251 0.65698546 0.66155365 0.66314028 0.66733189\n",
      " 0.62329937 0.6483731  0.70331389 0.70234842 0.67854983 0.68726065\n",
      " 0.72791056 0.7683274  0.75707828 0.7821764  0.80528562 0.79781598\n",
      " 0.9480662  0.95393034 0.92173117 0.98335454 0.97502147 0.96679439\n",
      " 1.         0.9760028  0.7825247  0.69760364 0.58769679 0.48256943\n",
      " 0.39659324 0.3349106  0.29596707 0.27503443]\n",
      "8 day output [[0.26626813]]\n",
      "9 day input [0.35985983 0.36312729 0.36339684 0.3799654  0.38039635 0.37478789\n",
      " 0.37466673 0.38998103 0.38224823 0.34966635 0.34879652 0.36134333\n",
      " 0.37082166 0.40066047 0.38370843 0.39190993 0.39694311 0.38158165\n",
      " 0.39094449 0.3948772  0.39171501 0.37378133 0.37857687 0.37262448\n",
      " 0.36837868 0.38372199 0.39070041 0.3928484  0.39635962 0.43536978\n",
      " 0.46616066 0.47301695 0.4880949  0.48000788 0.46611781 0.4863066\n",
      " 0.47514688 0.48533666 0.50447257 0.54098423 0.53759022 0.55432956\n",
      " 0.56004924 0.59050949 0.59382161 0.60149442 0.65821385 0.67170307\n",
      " 0.65501327 0.69663976 0.754983   0.80744947 0.83683946 0.82565134\n",
      " 0.78654674 0.72907183 0.69520857 0.76511906 0.80366459 0.75500368\n",
      " 0.74166958 0.73369945 0.75098027 0.73943765 0.72868233 0.63139906\n",
      " 0.67631251 0.65698546 0.66155365 0.66314028 0.66733189 0.62329937\n",
      " 0.6483731  0.70331389 0.70234842 0.67854983 0.68726065 0.72791056\n",
      " 0.7683274  0.75707828 0.7821764  0.80528562 0.79781598 0.9480662\n",
      " 0.95393034 0.92173117 0.98335454 0.97502147 0.96679439 1.\n",
      " 0.9760028  0.7825247  0.69760364 0.58769679 0.48256943 0.39659324\n",
      " 0.3349106  0.29596707 0.27503443 0.26626813]\n",
      "9 day output [[0.26516938]]\n",
      "10 day input [0.36312729 0.36339684 0.3799654  0.38039635 0.37478789 0.37466673\n",
      " 0.38998103 0.38224823 0.34966635 0.34879652 0.36134333 0.37082166\n",
      " 0.40066047 0.38370843 0.39190993 0.39694311 0.38158165 0.39094449\n",
      " 0.3948772  0.39171501 0.37378133 0.37857687 0.37262448 0.36837868\n",
      " 0.38372199 0.39070041 0.3928484  0.39635962 0.43536978 0.46616066\n",
      " 0.47301695 0.4880949  0.48000788 0.46611781 0.4863066  0.47514688\n",
      " 0.48533666 0.50447257 0.54098423 0.53759022 0.55432956 0.56004924\n",
      " 0.59050949 0.59382161 0.60149442 0.65821385 0.67170307 0.65501327\n",
      " 0.69663976 0.754983   0.80744947 0.83683946 0.82565134 0.78654674\n",
      " 0.72907183 0.69520857 0.76511906 0.80366459 0.75500368 0.74166958\n",
      " 0.73369945 0.75098027 0.73943765 0.72868233 0.63139906 0.67631251\n",
      " 0.65698546 0.66155365 0.66314028 0.66733189 0.62329937 0.6483731\n",
      " 0.70331389 0.70234842 0.67854983 0.68726065 0.72791056 0.7683274\n",
      " 0.75707828 0.7821764  0.80528562 0.79781598 0.9480662  0.95393034\n",
      " 0.92173117 0.98335454 0.97502147 0.96679439 1.         0.9760028\n",
      " 0.7825247  0.69760364 0.58769679 0.48256943 0.39659324 0.3349106\n",
      " 0.29596707 0.27503443 0.26626813 0.26516938]\n",
      "10 day output [[0.2682907]]\n",
      "11 day input [0.36339684 0.3799654  0.38039635 0.37478789 0.37466673 0.38998103\n",
      " 0.38224823 0.34966635 0.34879652 0.36134333 0.37082166 0.40066047\n",
      " 0.38370843 0.39190993 0.39694311 0.38158165 0.39094449 0.3948772\n",
      " 0.39171501 0.37378133 0.37857687 0.37262448 0.36837868 0.38372199\n",
      " 0.39070041 0.3928484  0.39635962 0.43536978 0.46616066 0.47301695\n",
      " 0.4880949  0.48000788 0.46611781 0.4863066  0.47514688 0.48533666\n",
      " 0.50447257 0.54098423 0.53759022 0.55432956 0.56004924 0.59050949\n",
      " 0.59382161 0.60149442 0.65821385 0.67170307 0.65501327 0.69663976\n",
      " 0.754983   0.80744947 0.83683946 0.82565134 0.78654674 0.72907183\n",
      " 0.69520857 0.76511906 0.80366459 0.75500368 0.74166958 0.73369945\n",
      " 0.75098027 0.73943765 0.72868233 0.63139906 0.67631251 0.65698546\n",
      " 0.66155365 0.66314028 0.66733189 0.62329937 0.6483731  0.70331389\n",
      " 0.70234842 0.67854983 0.68726065 0.72791056 0.7683274  0.75707828\n",
      " 0.7821764  0.80528562 0.79781598 0.9480662  0.95393034 0.92173117\n",
      " 0.98335454 0.97502147 0.96679439 1.         0.9760028  0.7825247\n",
      " 0.69760364 0.58769679 0.48256943 0.39659324 0.3349106  0.29596707\n",
      " 0.27503443 0.26626813 0.26516938 0.2682907 ]\n"
     ]
    },
    {
     "name": "stdout",
     "output_type": "stream",
     "text": [
      "11 day output [[0.27342314]]\n",
      "12 day input [0.3799654  0.38039635 0.37478789 0.37466673 0.38998103 0.38224823\n",
      " 0.34966635 0.34879652 0.36134333 0.37082166 0.40066047 0.38370843\n",
      " 0.39190993 0.39694311 0.38158165 0.39094449 0.3948772  0.39171501\n",
      " 0.37378133 0.37857687 0.37262448 0.36837868 0.38372199 0.39070041\n",
      " 0.3928484  0.39635962 0.43536978 0.46616066 0.47301695 0.4880949\n",
      " 0.48000788 0.46611781 0.4863066  0.47514688 0.48533666 0.50447257\n",
      " 0.54098423 0.53759022 0.55432956 0.56004924 0.59050949 0.59382161\n",
      " 0.60149442 0.65821385 0.67170307 0.65501327 0.69663976 0.754983\n",
      " 0.80744947 0.83683946 0.82565134 0.78654674 0.72907183 0.69520857\n",
      " 0.76511906 0.80366459 0.75500368 0.74166958 0.73369945 0.75098027\n",
      " 0.73943765 0.72868233 0.63139906 0.67631251 0.65698546 0.66155365\n",
      " 0.66314028 0.66733189 0.62329937 0.6483731  0.70331389 0.70234842\n",
      " 0.67854983 0.68726065 0.72791056 0.7683274  0.75707828 0.7821764\n",
      " 0.80528562 0.79781598 0.9480662  0.95393034 0.92173117 0.98335454\n",
      " 0.97502147 0.96679439 1.         0.9760028  0.7825247  0.69760364\n",
      " 0.58769679 0.48256943 0.39659324 0.3349106  0.29596707 0.27503443\n",
      " 0.26626813 0.26516938 0.2682907  0.27342314]\n",
      "12 day output [[0.27900746]]\n",
      "13 day input [0.38039635 0.37478789 0.37466673 0.38998103 0.38224823 0.34966635\n",
      " 0.34879652 0.36134333 0.37082166 0.40066047 0.38370843 0.39190993\n",
      " 0.39694311 0.38158165 0.39094449 0.3948772  0.39171501 0.37378133\n",
      " 0.37857687 0.37262448 0.36837868 0.38372199 0.39070041 0.3928484\n",
      " 0.39635962 0.43536978 0.46616066 0.47301695 0.4880949  0.48000788\n",
      " 0.46611781 0.4863066  0.47514688 0.48533666 0.50447257 0.54098423\n",
      " 0.53759022 0.55432956 0.56004924 0.59050949 0.59382161 0.60149442\n",
      " 0.65821385 0.67170307 0.65501327 0.69663976 0.754983   0.80744947\n",
      " 0.83683946 0.82565134 0.78654674 0.72907183 0.69520857 0.76511906\n",
      " 0.80366459 0.75500368 0.74166958 0.73369945 0.75098027 0.73943765\n",
      " 0.72868233 0.63139906 0.67631251 0.65698546 0.66155365 0.66314028\n",
      " 0.66733189 0.62329937 0.6483731  0.70331389 0.70234842 0.67854983\n",
      " 0.68726065 0.72791056 0.7683274  0.75707828 0.7821764  0.80528562\n",
      " 0.79781598 0.9480662  0.95393034 0.92173117 0.98335454 0.97502147\n",
      " 0.96679439 1.         0.9760028  0.7825247  0.69760364 0.58769679\n",
      " 0.48256943 0.39659324 0.3349106  0.29596707 0.27503443 0.26626813\n",
      " 0.26516938 0.2682907  0.27342314 0.27900746]\n",
      "13 day output [[0.28373837]]\n",
      "14 day input [0.37478789 0.37466673 0.38998103 0.38224823 0.34966635 0.34879652\n",
      " 0.36134333 0.37082166 0.40066047 0.38370843 0.39190993 0.39694311\n",
      " 0.38158165 0.39094449 0.3948772  0.39171501 0.37378133 0.37857687\n",
      " 0.37262448 0.36837868 0.38372199 0.39070041 0.3928484  0.39635962\n",
      " 0.43536978 0.46616066 0.47301695 0.4880949  0.48000788 0.46611781\n",
      " 0.4863066  0.47514688 0.48533666 0.50447257 0.54098423 0.53759022\n",
      " 0.55432956 0.56004924 0.59050949 0.59382161 0.60149442 0.65821385\n",
      " 0.67170307 0.65501327 0.69663976 0.754983   0.80744947 0.83683946\n",
      " 0.82565134 0.78654674 0.72907183 0.69520857 0.76511906 0.80366459\n",
      " 0.75500368 0.74166958 0.73369945 0.75098027 0.73943765 0.72868233\n",
      " 0.63139906 0.67631251 0.65698546 0.66155365 0.66314028 0.66733189\n",
      " 0.62329937 0.6483731  0.70331389 0.70234842 0.67854983 0.68726065\n",
      " 0.72791056 0.7683274  0.75707828 0.7821764  0.80528562 0.79781598\n",
      " 0.9480662  0.95393034 0.92173117 0.98335454 0.97502147 0.96679439\n",
      " 1.         0.9760028  0.7825247  0.69760364 0.58769679 0.48256943\n",
      " 0.39659324 0.3349106  0.29596707 0.27503443 0.26626813 0.26516938\n",
      " 0.2682907  0.27342314 0.27900746 0.28373837]\n",
      "14 day output [[0.28661802]]\n",
      "15 day input [0.37466673 0.38998103 0.38224823 0.34966635 0.34879652 0.36134333\n",
      " 0.37082166 0.40066047 0.38370843 0.39190993 0.39694311 0.38158165\n",
      " 0.39094449 0.3948772  0.39171501 0.37378133 0.37857687 0.37262448\n",
      " 0.36837868 0.38372199 0.39070041 0.3928484  0.39635962 0.43536978\n",
      " 0.46616066 0.47301695 0.4880949  0.48000788 0.46611781 0.4863066\n",
      " 0.47514688 0.48533666 0.50447257 0.54098423 0.53759022 0.55432956\n",
      " 0.56004924 0.59050949 0.59382161 0.60149442 0.65821385 0.67170307\n",
      " 0.65501327 0.69663976 0.754983   0.80744947 0.83683946 0.82565134\n",
      " 0.78654674 0.72907183 0.69520857 0.76511906 0.80366459 0.75500368\n",
      " 0.74166958 0.73369945 0.75098027 0.73943765 0.72868233 0.63139906\n",
      " 0.67631251 0.65698546 0.66155365 0.66314028 0.66733189 0.62329937\n",
      " 0.6483731  0.70331389 0.70234842 0.67854983 0.68726065 0.72791056\n",
      " 0.7683274  0.75707828 0.7821764  0.80528562 0.79781598 0.9480662\n",
      " 0.95393034 0.92173117 0.98335454 0.97502147 0.96679439 1.\n",
      " 0.9760028  0.7825247  0.69760364 0.58769679 0.48256943 0.39659324\n",
      " 0.3349106  0.29596707 0.27503443 0.26626813 0.26516938 0.2682907\n",
      " 0.27342314 0.27900746 0.28373837 0.28661802]\n",
      "15 day output [[0.28681108]]\n",
      "16 day input [0.38998103 0.38224823 0.34966635 0.34879652 0.36134333 0.37082166\n",
      " 0.40066047 0.38370843 0.39190993 0.39694311 0.38158165 0.39094449\n",
      " 0.3948772  0.39171501 0.37378133 0.37857687 0.37262448 0.36837868\n",
      " 0.38372199 0.39070041 0.3928484  0.39635962 0.43536978 0.46616066\n",
      " 0.47301695 0.4880949  0.48000788 0.46611781 0.4863066  0.47514688\n",
      " 0.48533666 0.50447257 0.54098423 0.53759022 0.55432956 0.56004924\n",
      " 0.59050949 0.59382161 0.60149442 0.65821385 0.67170307 0.65501327\n",
      " 0.69663976 0.754983   0.80744947 0.83683946 0.82565134 0.78654674\n",
      " 0.72907183 0.69520857 0.76511906 0.80366459 0.75500368 0.74166958\n",
      " 0.73369945 0.75098027 0.73943765 0.72868233 0.63139906 0.67631251\n",
      " 0.65698546 0.66155365 0.66314028 0.66733189 0.62329937 0.6483731\n",
      " 0.70331389 0.70234842 0.67854983 0.68726065 0.72791056 0.7683274\n",
      " 0.75707828 0.7821764  0.80528562 0.79781598 0.9480662  0.95393034\n",
      " 0.92173117 0.98335454 0.97502147 0.96679439 1.         0.9760028\n",
      " 0.7825247  0.69760364 0.58769679 0.48256943 0.39659324 0.3349106\n",
      " 0.29596707 0.27503443 0.26626813 0.26516938 0.2682907  0.27342314\n",
      " 0.27900746 0.28373837 0.28661802 0.28681108]\n",
      "16 day output [[0.28370798]]\n",
      "17 day input [0.38224823 0.34966635 0.34879652 0.36134333 0.37082166 0.40066047\n",
      " 0.38370843 0.39190993 0.39694311 0.38158165 0.39094449 0.3948772\n",
      " 0.39171501 0.37378133 0.37857687 0.37262448 0.36837868 0.38372199\n",
      " 0.39070041 0.3928484  0.39635962 0.43536978 0.46616066 0.47301695\n",
      " 0.4880949  0.48000788 0.46611781 0.4863066  0.47514688 0.48533666\n",
      " 0.50447257 0.54098423 0.53759022 0.55432956 0.56004924 0.59050949\n",
      " 0.59382161 0.60149442 0.65821385 0.67170307 0.65501327 0.69663976\n",
      " 0.754983   0.80744947 0.83683946 0.82565134 0.78654674 0.72907183\n",
      " 0.69520857 0.76511906 0.80366459 0.75500368 0.74166958 0.73369945\n",
      " 0.75098027 0.73943765 0.72868233 0.63139906 0.67631251 0.65698546\n",
      " 0.66155365 0.66314028 0.66733189 0.62329937 0.6483731  0.70331389\n",
      " 0.70234842 0.67854983 0.68726065 0.72791056 0.7683274  0.75707828\n",
      " 0.7821764  0.80528562 0.79781598 0.9480662  0.95393034 0.92173117\n",
      " 0.98335454 0.97502147 0.96679439 1.         0.9760028  0.7825247\n",
      " 0.69760364 0.58769679 0.48256943 0.39659324 0.3349106  0.29596707\n",
      " 0.27503443 0.26626813 0.26516938 0.2682907  0.27342314 0.27900746\n",
      " 0.28373837 0.28661802 0.28681108 0.28370798]\n",
      "17 day output [[0.27705824]]\n",
      "18 day input [0.34966635 0.34879652 0.36134333 0.37082166 0.40066047 0.38370843\n",
      " 0.39190993 0.39694311 0.38158165 0.39094449 0.3948772  0.39171501\n",
      " 0.37378133 0.37857687 0.37262448 0.36837868 0.38372199 0.39070041\n",
      " 0.3928484  0.39635962 0.43536978 0.46616066 0.47301695 0.4880949\n",
      " 0.48000788 0.46611781 0.4863066  0.47514688 0.48533666 0.50447257\n",
      " 0.54098423 0.53759022 0.55432956 0.56004924 0.59050949 0.59382161\n",
      " 0.60149442 0.65821385 0.67170307 0.65501327 0.69663976 0.754983\n",
      " 0.80744947 0.83683946 0.82565134 0.78654674 0.72907183 0.69520857\n",
      " 0.76511906 0.80366459 0.75500368 0.74166958 0.73369945 0.75098027\n",
      " 0.73943765 0.72868233 0.63139906 0.67631251 0.65698546 0.66155365\n",
      " 0.66314028 0.66733189 0.62329937 0.6483731  0.70331389 0.70234842\n",
      " 0.67854983 0.68726065 0.72791056 0.7683274  0.75707828 0.7821764\n",
      " 0.80528562 0.79781598 0.9480662  0.95393034 0.92173117 0.98335454\n",
      " 0.97502147 0.96679439 1.         0.9760028  0.7825247  0.69760364\n",
      " 0.58769679 0.48256943 0.39659324 0.3349106  0.29596707 0.27503443\n",
      " 0.26626813 0.26516938 0.2682907  0.27342314 0.27900746 0.28373837\n",
      " 0.28661802 0.28681108 0.28370798 0.27705824]\n",
      "18 day output [[0.26692054]]\n",
      "19 day input [0.34879652 0.36134333 0.37082166 0.40066047 0.38370843 0.39190993\n",
      " 0.39694311 0.38158165 0.39094449 0.3948772  0.39171501 0.37378133\n",
      " 0.37857687 0.37262448 0.36837868 0.38372199 0.39070041 0.3928484\n",
      " 0.39635962 0.43536978 0.46616066 0.47301695 0.4880949  0.48000788\n",
      " 0.46611781 0.4863066  0.47514688 0.48533666 0.50447257 0.54098423\n",
      " 0.53759022 0.55432956 0.56004924 0.59050949 0.59382161 0.60149442\n",
      " 0.65821385 0.67170307 0.65501327 0.69663976 0.754983   0.80744947\n",
      " 0.83683946 0.82565134 0.78654674 0.72907183 0.69520857 0.76511906\n",
      " 0.80366459 0.75500368 0.74166958 0.73369945 0.75098027 0.73943765\n",
      " 0.72868233 0.63139906 0.67631251 0.65698546 0.66155365 0.66314028\n",
      " 0.66733189 0.62329937 0.6483731  0.70331389 0.70234842 0.67854983\n",
      " 0.68726065 0.72791056 0.7683274  0.75707828 0.7821764  0.80528562\n",
      " 0.79781598 0.9480662  0.95393034 0.92173117 0.98335454 0.97502147\n",
      " 0.96679439 1.         0.9760028  0.7825247  0.69760364 0.58769679\n",
      " 0.48256943 0.39659324 0.3349106  0.29596707 0.27503443 0.26626813\n",
      " 0.26516938 0.2682907  0.27342314 0.27900746 0.28373837 0.28661802\n",
      " 0.28681108 0.28370798 0.27705824 0.26692054]\n",
      "19 day output [[0.2536353]]\n",
      "20 day input [0.36134333 0.37082166 0.40066047 0.38370843 0.39190993 0.39694311\n",
      " 0.38158165 0.39094449 0.3948772  0.39171501 0.37378133 0.37857687\n",
      " 0.37262448 0.36837868 0.38372199 0.39070041 0.3928484  0.39635962\n",
      " 0.43536978 0.46616066 0.47301695 0.4880949  0.48000788 0.46611781\n",
      " 0.4863066  0.47514688 0.48533666 0.50447257 0.54098423 0.53759022\n",
      " 0.55432956 0.56004924 0.59050949 0.59382161 0.60149442 0.65821385\n",
      " 0.67170307 0.65501327 0.69663976 0.754983   0.80744947 0.83683946\n",
      " 0.82565134 0.78654674 0.72907183 0.69520857 0.76511906 0.80366459\n",
      " 0.75500368 0.74166958 0.73369945 0.75098027 0.73943765 0.72868233\n",
      " 0.63139906 0.67631251 0.65698546 0.66155365 0.66314028 0.66733189\n",
      " 0.62329937 0.6483731  0.70331389 0.70234842 0.67854983 0.68726065\n",
      " 0.72791056 0.7683274  0.75707828 0.7821764  0.80528562 0.79781598\n",
      " 0.9480662  0.95393034 0.92173117 0.98335454 0.97502147 0.96679439\n",
      " 1.         0.9760028  0.7825247  0.69760364 0.58769679 0.48256943\n",
      " 0.39659324 0.3349106  0.29596707 0.27503443 0.26626813 0.26516938\n",
      " 0.2682907  0.27342314 0.27900746 0.28373837 0.28661802 0.28681108\n",
      " 0.28370798 0.27705824 0.26692054 0.25363529]\n"
     ]
    },
    {
     "name": "stdout",
     "output_type": "stream",
     "text": [
      "20 day output [[0.23796356]]\n",
      "21 day input [0.37082166 0.40066047 0.38370843 0.39190993 0.39694311 0.38158165\n",
      " 0.39094449 0.3948772  0.39171501 0.37378133 0.37857687 0.37262448\n",
      " 0.36837868 0.38372199 0.39070041 0.3928484  0.39635962 0.43536978\n",
      " 0.46616066 0.47301695 0.4880949  0.48000788 0.46611781 0.4863066\n",
      " 0.47514688 0.48533666 0.50447257 0.54098423 0.53759022 0.55432956\n",
      " 0.56004924 0.59050949 0.59382161 0.60149442 0.65821385 0.67170307\n",
      " 0.65501327 0.69663976 0.754983   0.80744947 0.83683946 0.82565134\n",
      " 0.78654674 0.72907183 0.69520857 0.76511906 0.80366459 0.75500368\n",
      " 0.74166958 0.73369945 0.75098027 0.73943765 0.72868233 0.63139906\n",
      " 0.67631251 0.65698546 0.66155365 0.66314028 0.66733189 0.62329937\n",
      " 0.6483731  0.70331389 0.70234842 0.67854983 0.68726065 0.72791056\n",
      " 0.7683274  0.75707828 0.7821764  0.80528562 0.79781598 0.9480662\n",
      " 0.95393034 0.92173117 0.98335454 0.97502147 0.96679439 1.\n",
      " 0.9760028  0.7825247  0.69760364 0.58769679 0.48256943 0.39659324\n",
      " 0.3349106  0.29596707 0.27503443 0.26626813 0.26516938 0.2682907\n",
      " 0.27342314 0.27900746 0.28373837 0.28661802 0.28681108 0.28370798\n",
      " 0.27705824 0.26692054 0.25363529 0.23796356]\n",
      "21 day output [[0.22078384]]\n",
      "22 day input [0.40066047 0.38370843 0.39190993 0.39694311 0.38158165 0.39094449\n",
      " 0.3948772  0.39171501 0.37378133 0.37857687 0.37262448 0.36837868\n",
      " 0.38372199 0.39070041 0.3928484  0.39635962 0.43536978 0.46616066\n",
      " 0.47301695 0.4880949  0.48000788 0.46611781 0.4863066  0.47514688\n",
      " 0.48533666 0.50447257 0.54098423 0.53759022 0.55432956 0.56004924\n",
      " 0.59050949 0.59382161 0.60149442 0.65821385 0.67170307 0.65501327\n",
      " 0.69663976 0.754983   0.80744947 0.83683946 0.82565134 0.78654674\n",
      " 0.72907183 0.69520857 0.76511906 0.80366459 0.75500368 0.74166958\n",
      " 0.73369945 0.75098027 0.73943765 0.72868233 0.63139906 0.67631251\n",
      " 0.65698546 0.66155365 0.66314028 0.66733189 0.62329937 0.6483731\n",
      " 0.70331389 0.70234842 0.67854983 0.68726065 0.72791056 0.7683274\n",
      " 0.75707828 0.7821764  0.80528562 0.79781598 0.9480662  0.95393034\n",
      " 0.92173117 0.98335454 0.97502147 0.96679439 1.         0.9760028\n",
      " 0.7825247  0.69760364 0.58769679 0.48256943 0.39659324 0.3349106\n",
      " 0.29596707 0.27503443 0.26626813 0.26516938 0.2682907  0.27342314\n",
      " 0.27900746 0.28373837 0.28661802 0.28681108 0.28370798 0.27705824\n",
      " 0.26692054 0.25363529 0.23796356 0.22078384]\n",
      "22 day output [[0.2031011]]\n",
      "23 day input [0.38370843 0.39190993 0.39694311 0.38158165 0.39094449 0.3948772\n",
      " 0.39171501 0.37378133 0.37857687 0.37262448 0.36837868 0.38372199\n",
      " 0.39070041 0.3928484  0.39635962 0.43536978 0.46616066 0.47301695\n",
      " 0.4880949  0.48000788 0.46611781 0.4863066  0.47514688 0.48533666\n",
      " 0.50447257 0.54098423 0.53759022 0.55432956 0.56004924 0.59050949\n",
      " 0.59382161 0.60149442 0.65821385 0.67170307 0.65501327 0.69663976\n",
      " 0.754983   0.80744947 0.83683946 0.82565134 0.78654674 0.72907183\n",
      " 0.69520857 0.76511906 0.80366459 0.75500368 0.74166958 0.73369945\n",
      " 0.75098027 0.73943765 0.72868233 0.63139906 0.67631251 0.65698546\n",
      " 0.66155365 0.66314028 0.66733189 0.62329937 0.6483731  0.70331389\n",
      " 0.70234842 0.67854983 0.68726065 0.72791056 0.7683274  0.75707828\n",
      " 0.7821764  0.80528562 0.79781598 0.9480662  0.95393034 0.92173117\n",
      " 0.98335454 0.97502147 0.96679439 1.         0.9760028  0.7825247\n",
      " 0.69760364 0.58769679 0.48256943 0.39659324 0.3349106  0.29596707\n",
      " 0.27503443 0.26626813 0.26516938 0.2682907  0.27342314 0.27900746\n",
      " 0.28373837 0.28661802 0.28681108 0.28370798 0.27705824 0.26692054\n",
      " 0.25363529 0.23796356 0.22078384 0.2031011 ]\n",
      "23 day output [[0.18574792]]\n",
      "24 day input [0.39190993 0.39694311 0.38158165 0.39094449 0.3948772  0.39171501\n",
      " 0.37378133 0.37857687 0.37262448 0.36837868 0.38372199 0.39070041\n",
      " 0.3928484  0.39635962 0.43536978 0.46616066 0.47301695 0.4880949\n",
      " 0.48000788 0.46611781 0.4863066  0.47514688 0.48533666 0.50447257\n",
      " 0.54098423 0.53759022 0.55432956 0.56004924 0.59050949 0.59382161\n",
      " 0.60149442 0.65821385 0.67170307 0.65501327 0.69663976 0.754983\n",
      " 0.80744947 0.83683946 0.82565134 0.78654674 0.72907183 0.69520857\n",
      " 0.76511906 0.80366459 0.75500368 0.74166958 0.73369945 0.75098027\n",
      " 0.73943765 0.72868233 0.63139906 0.67631251 0.65698546 0.66155365\n",
      " 0.66314028 0.66733189 0.62329937 0.6483731  0.70331389 0.70234842\n",
      " 0.67854983 0.68726065 0.72791056 0.7683274  0.75707828 0.7821764\n",
      " 0.80528562 0.79781598 0.9480662  0.95393034 0.92173117 0.98335454\n",
      " 0.97502147 0.96679439 1.         0.9760028  0.7825247  0.69760364\n",
      " 0.58769679 0.48256943 0.39659324 0.3349106  0.29596707 0.27503443\n",
      " 0.26626813 0.26516938 0.2682907  0.27342314 0.27900746 0.28373837\n",
      " 0.28661802 0.28681108 0.28370798 0.27705824 0.26692054 0.25363529\n",
      " 0.23796356 0.22078384 0.2031011  0.18574792]\n",
      "24 day output [[0.16951056]]\n",
      "25 day input [0.39694311 0.38158165 0.39094449 0.3948772  0.39171501 0.37378133\n",
      " 0.37857687 0.37262448 0.36837868 0.38372199 0.39070041 0.3928484\n",
      " 0.39635962 0.43536978 0.46616066 0.47301695 0.4880949  0.48000788\n",
      " 0.46611781 0.4863066  0.47514688 0.48533666 0.50447257 0.54098423\n",
      " 0.53759022 0.55432956 0.56004924 0.59050949 0.59382161 0.60149442\n",
      " 0.65821385 0.67170307 0.65501327 0.69663976 0.754983   0.80744947\n",
      " 0.83683946 0.82565134 0.78654674 0.72907183 0.69520857 0.76511906\n",
      " 0.80366459 0.75500368 0.74166958 0.73369945 0.75098027 0.73943765\n",
      " 0.72868233 0.63139906 0.67631251 0.65698546 0.66155365 0.66314028\n",
      " 0.66733189 0.62329937 0.6483731  0.70331389 0.70234842 0.67854983\n",
      " 0.68726065 0.72791056 0.7683274  0.75707828 0.7821764  0.80528562\n",
      " 0.79781598 0.9480662  0.95393034 0.92173117 0.98335454 0.97502147\n",
      " 0.96679439 1.         0.9760028  0.7825247  0.69760364 0.58769679\n",
      " 0.48256943 0.39659324 0.3349106  0.29596707 0.27503443 0.26626813\n",
      " 0.26516938 0.2682907  0.27342314 0.27900746 0.28373837 0.28661802\n",
      " 0.28681108 0.28370798 0.27705824 0.26692054 0.25363529 0.23796356\n",
      " 0.22078384 0.2031011  0.18574792 0.16951056]\n",
      "25 day output [[0.15486814]]\n",
      "26 day input [0.38158165 0.39094449 0.3948772  0.39171501 0.37378133 0.37857687\n",
      " 0.37262448 0.36837868 0.38372199 0.39070041 0.3928484  0.39635962\n",
      " 0.43536978 0.46616066 0.47301695 0.4880949  0.48000788 0.46611781\n",
      " 0.4863066  0.47514688 0.48533666 0.50447257 0.54098423 0.53759022\n",
      " 0.55432956 0.56004924 0.59050949 0.59382161 0.60149442 0.65821385\n",
      " 0.67170307 0.65501327 0.69663976 0.754983   0.80744947 0.83683946\n",
      " 0.82565134 0.78654674 0.72907183 0.69520857 0.76511906 0.80366459\n",
      " 0.75500368 0.74166958 0.73369945 0.75098027 0.73943765 0.72868233\n",
      " 0.63139906 0.67631251 0.65698546 0.66155365 0.66314028 0.66733189\n",
      " 0.62329937 0.6483731  0.70331389 0.70234842 0.67854983 0.68726065\n",
      " 0.72791056 0.7683274  0.75707828 0.7821764  0.80528562 0.79781598\n",
      " 0.9480662  0.95393034 0.92173117 0.98335454 0.97502147 0.96679439\n",
      " 1.         0.9760028  0.7825247  0.69760364 0.58769679 0.48256943\n",
      " 0.39659324 0.3349106  0.29596707 0.27503443 0.26626813 0.26516938\n",
      " 0.2682907  0.27342314 0.27900746 0.28373837 0.28661802 0.28681108\n",
      " 0.28370798 0.27705824 0.26692054 0.25363529 0.23796356 0.22078384\n",
      " 0.2031011  0.18574792 0.16951056 0.15486814]\n",
      "26 day output [[0.14210759]]\n",
      "27 day input [0.39094449 0.3948772  0.39171501 0.37378133 0.37857687 0.37262448\n",
      " 0.36837868 0.38372199 0.39070041 0.3928484  0.39635962 0.43536978\n",
      " 0.46616066 0.47301695 0.4880949  0.48000788 0.46611781 0.4863066\n",
      " 0.47514688 0.48533666 0.50447257 0.54098423 0.53759022 0.55432956\n",
      " 0.56004924 0.59050949 0.59382161 0.60149442 0.65821385 0.67170307\n",
      " 0.65501327 0.69663976 0.754983   0.80744947 0.83683946 0.82565134\n",
      " 0.78654674 0.72907183 0.69520857 0.76511906 0.80366459 0.75500368\n",
      " 0.74166958 0.73369945 0.75098027 0.73943765 0.72868233 0.63139906\n",
      " 0.67631251 0.65698546 0.66155365 0.66314028 0.66733189 0.62329937\n",
      " 0.6483731  0.70331389 0.70234842 0.67854983 0.68726065 0.72791056\n",
      " 0.7683274  0.75707828 0.7821764  0.80528562 0.79781598 0.9480662\n",
      " 0.95393034 0.92173117 0.98335454 0.97502147 0.96679439 1.\n",
      " 0.9760028  0.7825247  0.69760364 0.58769679 0.48256943 0.39659324\n",
      " 0.3349106  0.29596707 0.27503443 0.26626813 0.26516938 0.2682907\n",
      " 0.27342314 0.27900746 0.28373837 0.28661802 0.28681108 0.28370798\n",
      " 0.27705824 0.26692054 0.25363529 0.23796356 0.22078384 0.2031011\n",
      " 0.18574792 0.16951056 0.15486814 0.14210759]\n",
      "27 day output [[0.13122898]]\n",
      "28 day input [0.3948772  0.39171501 0.37378133 0.37857687 0.37262448 0.36837868\n",
      " 0.38372199 0.39070041 0.3928484  0.39635962 0.43536978 0.46616066\n",
      " 0.47301695 0.4880949  0.48000788 0.46611781 0.4863066  0.47514688\n",
      " 0.48533666 0.50447257 0.54098423 0.53759022 0.55432956 0.56004924\n",
      " 0.59050949 0.59382161 0.60149442 0.65821385 0.67170307 0.65501327\n",
      " 0.69663976 0.754983   0.80744947 0.83683946 0.82565134 0.78654674\n",
      " 0.72907183 0.69520857 0.76511906 0.80366459 0.75500368 0.74166958\n",
      " 0.73369945 0.75098027 0.73943765 0.72868233 0.63139906 0.67631251\n",
      " 0.65698546 0.66155365 0.66314028 0.66733189 0.62329937 0.6483731\n",
      " 0.70331389 0.70234842 0.67854983 0.68726065 0.72791056 0.7683274\n",
      " 0.75707828 0.7821764  0.80528562 0.79781598 0.9480662  0.95393034\n",
      " 0.92173117 0.98335454 0.97502147 0.96679439 1.         0.9760028\n",
      " 0.7825247  0.69760364 0.58769679 0.48256943 0.39659324 0.3349106\n",
      " 0.29596707 0.27503443 0.26626813 0.26516938 0.2682907  0.27342314\n",
      " 0.27900746 0.28373837 0.28661802 0.28681108 0.28370798 0.27705824\n",
      " 0.26692054 0.25363529 0.23796356 0.22078384 0.2031011  0.18574792\n",
      " 0.16951056 0.15486814 0.14210759 0.13122898]\n",
      "28 day output [[0.12217252]]\n",
      "29 day input [0.39171501 0.37378133 0.37857687 0.37262448 0.36837868 0.38372199\n",
      " 0.39070041 0.3928484  0.39635962 0.43536978 0.46616066 0.47301695\n",
      " 0.4880949  0.48000788 0.46611781 0.4863066  0.47514688 0.48533666\n",
      " 0.50447257 0.54098423 0.53759022 0.55432956 0.56004924 0.59050949\n",
      " 0.59382161 0.60149442 0.65821385 0.67170307 0.65501327 0.69663976\n",
      " 0.754983   0.80744947 0.83683946 0.82565134 0.78654674 0.72907183\n",
      " 0.69520857 0.76511906 0.80366459 0.75500368 0.74166958 0.73369945\n",
      " 0.75098027 0.73943765 0.72868233 0.63139906 0.67631251 0.65698546\n",
      " 0.66155365 0.66314028 0.66733189 0.62329937 0.6483731  0.70331389\n",
      " 0.70234842 0.67854983 0.68726065 0.72791056 0.7683274  0.75707828\n",
      " 0.7821764  0.80528562 0.79781598 0.9480662  0.95393034 0.92173117\n",
      " 0.98335454 0.97502147 0.96679439 1.         0.9760028  0.7825247\n",
      " 0.69760364 0.58769679 0.48256943 0.39659324 0.3349106  0.29596707\n",
      " 0.27503443 0.26626813 0.26516938 0.2682907  0.27342314 0.27900746\n",
      " 0.28373837 0.28661802 0.28681108 0.28370798 0.27705824 0.26692054\n",
      " 0.25363529 0.23796356 0.22078384 0.2031011  0.18574792 0.16951056\n",
      " 0.15486814 0.14210759 0.13122898 0.12217252]\n",
      "29 day output [[0.11473493]]\n",
      "[[0.7825247049331665], [0.6976036429405212], [0.5876967906951904], [0.4825694262981415], [0.39659324288368225], [0.3349106013774872], [0.29596707224845886], [0.27503442764282227], [0.26626813411712646], [0.2651693820953369], [0.2682906985282898], [0.27342313528060913], [0.2790074646472931], [0.283738374710083], [0.28661802411079407], [0.28681108355522156], [0.28370797634124756], [0.2770582437515259], [0.2669205367565155], [0.2536352872848511], [0.23796355724334717], [0.22078384459018707], [0.20310109853744507], [0.1857479214668274], [0.16951055824756622], [0.15486814081668854], [0.14210759103298187], [0.1312289834022522], [0.1221725195646286], [0.11473493278026581]]\n"
     ]
    }
   ],
   "source": [
    "# demonstrate prediction for next 10 days\n",
    "from numpy import array\n",
    "\n",
    "lst_output=[]\n",
    "n_steps=100\n",
    "i=0\n",
    "\n",
    "#Ten Days\n",
    "#while(i<10):\n",
    "\n",
    "while(i<30):\n",
    "    \n",
    "    if(len(temp_input)>100):\n",
    "        #print(temp_input)\n",
    "        x_input=np.array(temp_input[1:])\n",
    "        print(\"{} day input {}\".format(i,x_input))\n",
    "        x_input=x_input.reshape(1,-1)\n",
    "        x_input = x_input.reshape((1, n_steps, 1))\n",
    "        #print(x_input)\n",
    "        yhat = model.predict(x_input, verbose=0)\n",
    "        print(\"{} day output {}\".format(i,yhat))\n",
    "        temp_input.extend(yhat[0].tolist())\n",
    "        temp_input=temp_input[1:]\n",
    "        #print(temp_input)\n",
    "        lst_output.extend(yhat.tolist())\n",
    "        i=i+1\n",
    "    else:\n",
    "        x_input = x_input.reshape((1, n_steps,1))\n",
    "        yhat = model.predict(x_input, verbose=0)\n",
    "        print(yhat[0])\n",
    "        temp_input.extend(yhat[0].tolist())\n",
    "        print(len(temp_input))\n",
    "        lst_output.extend(yhat.tolist())\n",
    "        i=i+1\n",
    "    \n",
    "\n",
    "print(lst_output)"
   ]
  },
  {
   "cell_type": "code",
   "execution_count": 129,
   "metadata": {},
   "outputs": [],
   "source": [
    "day_new=np.arange(1,101)\n",
    "\n",
    "#Ten Days\n",
    "#day_pred=np.arange(101,111)\n",
    "\n",
    "day_pred=np.arange(101,131)"
   ]
  },
  {
   "cell_type": "code",
   "execution_count": 130,
   "metadata": {},
   "outputs": [],
   "source": [
    "import matplotlib.pyplot as plt"
   ]
  },
  {
   "cell_type": "code",
   "execution_count": 131,
   "metadata": {},
   "outputs": [
    {
     "name": "stdout",
     "output_type": "stream",
     "text": [
      "2340\n",
      "2240\n"
     ]
    }
   ],
   "source": [
    "len(df1)\n",
    "df2_int = len(df1)\n",
    "df2_length = df2_int - 100\n",
    "print(df2_int)\n",
    "print(df2_length)"
   ]
  },
  {
   "cell_type": "code",
   "execution_count": 132,
   "metadata": {},
   "outputs": [
    {
     "data": {
      "text/plain": [
       "[<matplotlib.lines.Line2D at 0x16a76baa0d0>]"
      ]
     },
     "execution_count": 132,
     "metadata": {},
     "output_type": "execute_result"
    },
    {
     "data": {
      "image/png": "[encoded data removed]",
      "text/plain": [
       "<Figure size 432x288 with 1 Axes>"
      ]
     },
     "metadata": {
      "needs_background": "light"
     },
     "output_type": "display_data"
    }
   ],
   "source": [
    "#plt.plot(day_new,scaler.inverse_transform(df1[2205:]))\n",
    "\n",
    "plt.plot(day_new,scaler.inverse_transform(df1[df2_length:]))\n",
    "\n",
    "plt.plot(day_pred,scaler.inverse_transform(lst_output))"
   ]
  },
  {
   "cell_type": "code",
   "execution_count": 133,
   "metadata": {},
   "outputs": [
    {
     "data": {
      "text/plain": [
       "[<matplotlib.lines.Line2D at 0x16a76ae6790>]"
      ]
     },
     "execution_count": 133,
     "metadata": {},
     "output_type": "execute_result"
    },
    {
     "data": {
      "image/png": "[encoded data removed]",
      "text/plain": [
       "<Figure size 432x288 with 1 Axes>"
      ]
     },
     "metadata": {
      "needs_background": "light"
     },
     "output_type": "display_data"
    }
   ],
   "source": [
    "df3=df1.tolist()\n",
    "df3.extend(lst_output)\n",
    "#plt.plot(df3[2206:])\n",
    "\n",
    "df3_length = df2_length + 1\n",
    "\n",
    "plt.plot(df3[df3_length:])"
   ]
  },
  {
   "cell_type": "code",
   "execution_count": 134,
   "metadata": {},
   "outputs": [
    {
     "data": {
      "text/plain": [
       "[<matplotlib.lines.Line2D at 0x16a76ad1550>]"
      ]
     },
     "execution_count": 134,
     "metadata": {},
     "output_type": "execute_result"
    },
    {
     "data": {
      "image/png": "[encoded data removed]",
      "text/plain": [
       "<Figure size 432x288 with 1 Axes>"
      ]
     },
     "metadata": {
      "needs_background": "light"
     },
     "output_type": "display_data"
    }
   ],
   "source": [
    "df3=scaler.inverse_transform(df3).tolist()\n",
    "plt.plot(df3)"
   ]
  },
  {
   "cell_type": "code",
   "execution_count": null,
   "metadata": {},
   "outputs": [],
   "source": []
  },
  {
   "cell_type": "code",
   "execution_count": null,
   "metadata": {},
   "outputs": [],
   "source": []
  }
 ],
 "metadata": {
  "kernelspec": {
   "display_name": "Python 3",
   "language": "python",
   "name": "python3"
  },
  "language_info": {
   "codemirror_mode": {
    "name": "ipython",
    "version": 3
   },
   "file_extension": ".py",
   "mimetype": "text/x-python",
   "name": "python",
   "nbconvert_exporter": "python",
   "pygments_lexer": "ipython3",
   "version": "3.8.5"
  }
 },
 "nbformat": 4,
 "nbformat_minor": 4
}
