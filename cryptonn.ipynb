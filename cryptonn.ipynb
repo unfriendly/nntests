{
 "cells": [
  {
   "cell_type": "raw",
   "metadata": {},
   "source": [
    "#Prepare 'System' if Conditions not met\n",
    "\n",
    "#!pip install --upgrade pip\n",
    "\n",
    "!pip install tensorflow tensorflow-gpu matplot numpy pandas sklearn keras seaborn requests"
   ]
  },
  {
   "cell_type": "code",
   "execution_count": 1,
   "metadata": {},
   "outputs": [],
   "source": [
    "##Created By Unfriendly \n",
    "#(A simple Jupyter Notebook in Binder for Crypto price prediction)\n",
    "\n",
    "historical_start = \"6yr,0mon,0day,0hr,0min,0sec\"\n",
    "# How long to historically look back at data\n",
    "\n",
    "predict_into = \"0yr,0mon,10day,0hr,0min,0sec\" \n",
    "# How far to try and predict into the future"
   ]
  },
  {
   "cell_type": "code",
   "execution_count": 2,
   "metadata": {},
   "outputs": [],
   "source": [
    "import os, glob\n",
    "for dirname, _, filenames in os.walk('/unfriendly/input'):\n",
    "    for filename in filenames:\n",
    "        print(os.path.join(dirname, filename))"
   ]
  },
  {
   "cell_type": "code",
   "execution_count": 3,
   "metadata": {},
   "outputs": [],
   "source": [
    "import json\n",
    "import requests\n",
    "from keras.models import Sequential\n",
    "from keras.layers import Activation, Dense, Dropout, LSTM\n",
    "import matplotlib.pyplot as plt\n",
    "import numpy as np\n",
    "import pandas as pd\n",
    "import seaborn as sns\n",
    "from sklearn.metrics import mean_absolute_error\n",
    "%matplotlib inline"
   ]
  },
  {
   "cell_type": "code",
   "execution_count": 4,
   "metadata": {},
   "outputs": [],
   "source": [
    "import matplotlib.pyplot as plt"
   ]
  },
  {
   "cell_type": "code",
   "execution_count": 5,
   "metadata": {},
   "outputs": [],
   "source": [
    "# Prepare data timestamps\n",
    "import time\n",
    "from datetime import datetime, timezone, timedelta\n",
    "one_yr = 31536000000\n",
    "one_mon = one_yr/12\n",
    "one_day = one_yr/365\n",
    "one_hr = one_day/24\n",
    "one_min = one_hr/60\n",
    "one_sec = one_min/60"
   ]
  },
  {
   "cell_type": "code",
   "execution_count": 6,
   "metadata": {},
   "outputs": [
    {
     "name": "stdout",
     "output_type": "stream",
     "text": [
      "['6', '0', '0', '0', '0', '0']\n"
     ]
    }
   ],
   "source": [
    "# Prepare how far to look back in the past in UNIX time-format\n",
    "history_split = historical_start.replace('yr', '')\n",
    "history_res = history_split.replace('mon', '')\n",
    "history_split = history_res.replace('day', '')\n",
    "history_res = history_split.replace('hr', '')\n",
    "history_split = history_res.replace('min', '')\n",
    "history_res = history_split.replace('sec', '')\n",
    "history_split = history_res.split(\",\")\n",
    "print(history_split)"
   ]
  },
  {
   "cell_type": "code",
   "execution_count": 7,
   "metadata": {},
   "outputs": [
    {
     "name": "stdout",
     "output_type": "stream",
     "text": [
      "['0', '0', '10', '0', '0', '0']\n"
     ]
    }
   ],
   "source": [
    "# Prepare how far to predict into the future in UNIX time-format\n",
    "predict_split = predict_into.replace('yr', '')\n",
    "predict_res = predict_split.replace('mon', '')\n",
    "predict_split = predict_res.replace('day', '')\n",
    "predict_res = predict_split.replace('hr', '')\n",
    "predict_split = predict_res.replace('min', '')\n",
    "predict_res = predict_split.replace('sec', '')\n",
    "predict_split = predict_res.split(\",\")\n",
    "print(predict_split)"
   ]
  },
  {
   "cell_type": "code",
   "execution_count": 8,
   "metadata": {},
   "outputs": [],
   "source": [
    "history_array_yr = int(history_split[0])\n",
    "unix_hist_yr = one_yr*history_array_yr\n",
    "\n",
    "history_array_mon = int(history_split[1])\n",
    "unix_hist_mon = one_mon*history_array_mon\n",
    "\n",
    "history_array_day = int(history_split[2])\n",
    "unix_hist_day = one_day*history_array_day\n",
    "\n",
    "history_array_hr = int(history_split[3])\n",
    "unix_hist_hr = one_hr*history_array_hr\n",
    "\n",
    "history_array_min = int(history_split[4])\n",
    "unix_hist_min = one_min*history_array_min\n",
    "\n",
    "history_array_sec = int(history_split[5])\n",
    "unix_hist_sec = one_sec*history_array_sec"
   ]
  },
  {
   "cell_type": "code",
   "execution_count": 9,
   "metadata": {},
   "outputs": [],
   "source": [
    "predict_array_yr = int(predict_split[0])\n",
    "unix_pred_yr = one_yr*predict_array_yr\n",
    "\n",
    "predict_array_mon = int(predict_split[1])\n",
    "unix_pred_mon = one_mon*predict_array_mon\n",
    "\n",
    "predict_array_day = int(predict_split[2])\n",
    "unix_pred_day = one_day*predict_array_day\n",
    "\n",
    "predict_array_hr = int(predict_split[3])\n",
    "unix_pred_hr = one_hr*predict_array_hr\n",
    "\n",
    "predict_array_min = int(predict_split[4])\n",
    "unix_pred_min = one_min*predict_array_min\n",
    "\n",
    "predict_array_sec = int(predict_split[5])\n",
    "unix_pred_sec = one_sec*predict_array_sec\n",
    "\n",
    "unix_prediction = unix_pred_yr+unix_pred_mon+unix_pred_day+unix_pred_hr+unix_pred_min+unix_pred_sec"
   ]
  },
  {
   "cell_type": "code",
   "execution_count": 10,
   "metadata": {},
   "outputs": [
    {
     "name": "stdout",
     "output_type": "stream",
     "text": [
      "-187602546332 - start\n",
      "-310 - gather\n",
      "310 - positive gather\n"
     ]
    }
   ],
   "source": [
    "raw_time = time.time()\n",
    "int_time = int(raw_time)\n",
    "current_time = str(int_time)\n",
    "\n",
    "unix_start = unix_hist_yr+unix_hist_mon+unix_hist_day+unix_hist_hr+unix_hist_min+unix_hist_sec\n",
    "raw_start = raw_time - unix_start\n",
    "\n",
    "int_start = int(raw_start)\n",
    "start = str(int_start)\n",
    "\n",
    "#print(unix_hist_yr+history_array_mon+history_array_day+history_array_hr+history_array_min+history_array_sec)\n",
    "print(start + ' - start')\n",
    "\n",
    "gather_count = int_start/(7*one_day)\n",
    "gather_int = int(gather_count)\n",
    "gather_str = str(gather_int)\n",
    "pos_gather_count = abs(int(gather_count))\n",
    "pos_gather_str = str(pos_gather_count)\n",
    "\n",
    "print(gather_str + ' - gather')\n",
    "print(pos_gather_str + ' - positive gather')"
   ]
  },
  {
   "cell_type": "code",
   "execution_count": 11,
   "metadata": {},
   "outputs": [
    {
     "name": "stdout",
     "output_type": "stream",
     "text": [
      "1613453667213.612\n",
      "1613453667214\n",
      "1424237667214\n",
      "1424237667.215112\n",
      "2021-02-16 05:34:27.215611+00:00\n",
      "2015-02-18 05:34:27.215112+00:00\n",
      "1424237667214\n",
      "1424860467215\n",
      "1613453667214\n",
      "13 Digit Microsecond TS: 1424237667214 - 10 Digit TS: 1424237667\n"
     ]
    }
   ],
   "source": [
    "print((datetime.now(timezone.utc) + timedelta(hours=0)).timestamp() * 1e3)\n",
    "\n",
    "dt = (datetime.now(timezone.utc) + timedelta(days=0)).timestamp() * 1e3\n",
    "\n",
    "c_dt = int(dt)\n",
    "\n",
    "c_dt_int = int(c_dt)\n",
    "print(str(c_dt_int))\n",
    "\n",
    "c_dt_array_year = history_array_yr*365\n",
    "\n",
    "history_array_comb = history_array_day + c_dt_array_year\n",
    "\n",
    "c_dt_start = (datetime.now(timezone.utc) + timedelta(days=-history_array_comb,hours=-history_array_hr,minutes=-history_array_min,seconds=-history_array_sec)).timestamp() * 1e3\n",
    "\n",
    "c_dt_start_int = int(c_dt_start)\n",
    "print(str(c_dt_start_int))\n",
    "\n",
    "c_dt_start_raw = (datetime.now(timezone.utc) + timedelta(days=-history_array_comb,hours=-history_array_hr,minutes=-history_array_min,seconds=-history_array_sec)).timestamp()\n",
    "c_dt_start_raw_int = int(c_dt_start_raw)\n",
    "print(str(c_dt_start_raw))       \n",
    "    \n",
    "data_count = 0\n",
    "\n",
    "c_dt_start_dt = datetime.utcfromtimestamp(c_dt_start_raw).strftime('%Y-%m-%d %H:%M:%S.%f+00:00')\n",
    "\n",
    "print(datetime.now(timezone.utc))\n",
    "print(datetime.utcfromtimestamp(c_dt_start_raw).strftime('%Y-%m-%d %H:%M:%S.%f+00:00'))\n",
    "\n",
    "#c_dt_end = c_dt_start + timedelta(days=7).timestamp() * 1e3\n",
    "#c_dt_end = (c_dt_start_dt + timedelta(days=7)).timestamp() * 1e3\n",
    "\n",
    "c_dt_end = (datetime.utcfromtimestamp(c_dt_start_raw) + timedelta(days=7)).timestamp() * 1e3\n",
    "\n",
    "c_dt_start_int = int(c_dt_start)\n",
    "c_dt_end_int = int(c_dt_end)\n",
    "c_dt_end_str = str(c_dt_end)\n",
    "\n",
    "\n",
    "c_dt_str = str(c_dt)\n",
    "c_dt_start_str = str(c_dt_start_int)\n",
    "\n",
    "\n",
    "ts_ten_int = int(c_dt/1000)\n",
    "start_ten_int = int(c_dt_start_int/1000)\n",
    "\n",
    "ts_ten_str = str(ts_ten_int)\n",
    "start_ten_str = str(start_ten_int)\n",
    "\n",
    "\n",
    "print(c_dt_start_int)\n",
    "print(c_dt_end_int)\n",
    "print(c_dt_int)\n",
    "print('13 Digit Microsecond TS: ' + c_dt_start_str + ' - ' + '10 Digit TS: ' + start_ten_str)"
   ]
  },
  {
   "cell_type": "code",
   "execution_count": 12,
   "metadata": {},
   "outputs": [
    {
     "name": "stdout",
     "output_type": "stream",
     "text": [
      "https://query1.finance.yahoo.com/v7/finance/download/BTC-USD?period1=1424237667&period2=1613453667&interval=1d&events=history&includeAdjustedClose=true\n"
     ]
    }
   ],
   "source": [
    "import urllib.request\n",
    "import yfinance as yf\n",
    "\n",
    "#while count < pos_gather_count:\n",
    "while data_count < 1:\n",
    "    \n",
    "    #d_u=\"https://query1.finance.yahoo.com/v7/finance/download/BTC-USD?period1=1411862400&period2=\" + current_time + \"&interval=1d&events=history&includeAdjustedClose=true\"\n",
    "    #d_u=\"https://query1.finance.yahoo.com/v7/finance/download/BTC-USD?period1=1411862400&period2=1612158064&interval=1d&events=history&includeAdjustedClose=true\"\n",
    "    #d_u=\"https://query1.finance.yahoo.com/v7/finance/download/BTC-USD?period1=\"+dt_str+\"&period2=\"+dt_end_str+\"&interval=1d&events=history&includeAdjustedClose=true\"\n",
    "    #d_u=\"https://query1.finance.yahoo.com/v7/finance/download/BTC-USD?period1=\"+gather_str+\"&period2=\"+current_time+\"&interval=1m&events=history&includeAdjustedClose=true\"\n",
    "    \n",
    "    \n",
    "    d_u=\"https://query1.finance.yahoo.com/v7/finance/download/BTC-USD?period1=\"+start_ten_str+\"&period2=\"+ts_ten_str+\"&interval=1d&events=history&includeAdjustedClose=true\"\n",
    "    \n",
    "    print(d_u)\n",
    "    \n",
    "    with urllib.request.urlopen(d_u) as testfile, open('dataset.csv', 'w') as f:\n",
    "        f.write(testfile.read().decode())\n",
    "\n",
    "    data_count += 1  # This is the same as count = count + 1"
   ]
  },
  {
   "cell_type": "raw",
   "metadata": {},
   "source": [
    "data = yf.download(tickers='BTC-USD', period='max', interval='1m', group_by='column', auto_adjust = True, prepost = True, threads = True, proxy = None)"
   ]
  },
  {
   "cell_type": "raw",
   "metadata": {},
   "source": [
    "print(start + ' - start')\n",
    "print(current_time + ' - current time')\n",
    "print(d_u + ' - url')\n",
    "    \n",
    "print(gather_count)\n",
    "#print(data_count)\n",
    "\n",
    "# List all CSV files in the working dir\n",
    "extension = \"csv\"\n",
    "all_filenames = [i for i in glob.glob('*.{}'.format(extension))]\n",
    "print(all_filenames)"
   ]
  },
  {
   "cell_type": "raw",
   "metadata": {},
   "source": [
    "import urllib.request\n",
    "d_u=\"https://query1.finance.yahoo.com/v7/finance/download/BTC-USD?period1=1411862400&period2=1612158064&interval=1d&events=history&includeAdjustedClose=true\"\n",
    "\n",
    "\n",
    "with urllib.request.urlopen(d_u) as testfile, open('dataset.csv', 'w') as f:\n",
    "    f.write(testfile.read().decode())"
   ]
  },
  {
   "cell_type": "code",
   "execution_count": 13,
   "metadata": {},
   "outputs": [
    {
     "name": "stdout",
     "output_type": "stream",
     "text": [
      "[*********************100%***********************]  1 of 1 completed\n"
     ]
    },
    {
     "data": {
      "text/html": [
       "<div>\n",
       "<style scoped>\n",
       "    .dataframe tbody tr th:only-of-type {\n",
       "        vertical-align: middle;\n",
       "    }\n",
       "\n",
       "    .dataframe tbody tr th {\n",
       "        vertical-align: top;\n",
       "    }\n",
       "\n",
       "    .dataframe thead th {\n",
       "        text-align: right;\n",
       "    }\n",
       "</style>\n",
       "<table border=\"1\" class=\"dataframe\">\n",
       "  <thead>\n",
       "    <tr style=\"text-align: right;\">\n",
       "      <th></th>\n",
       "      <th>Open</th>\n",
       "      <th>High</th>\n",
       "      <th>Low</th>\n",
       "      <th>Close</th>\n",
       "      <th>Volume</th>\n",
       "    </tr>\n",
       "    <tr>\n",
       "      <th>Date</th>\n",
       "      <th></th>\n",
       "      <th></th>\n",
       "      <th></th>\n",
       "      <th></th>\n",
       "      <th></th>\n",
       "    </tr>\n",
       "  </thead>\n",
       "  <tbody>\n",
       "    <tr>\n",
       "      <th>2014-09-17</th>\n",
       "      <td>465.864014</td>\n",
       "      <td>468.174011</td>\n",
       "      <td>452.421997</td>\n",
       "      <td>457.334015</td>\n",
       "      <td>21056800</td>\n",
       "    </tr>\n",
       "    <tr>\n",
       "      <th>2014-09-18</th>\n",
       "      <td>456.859985</td>\n",
       "      <td>456.859985</td>\n",
       "      <td>413.104004</td>\n",
       "      <td>424.440002</td>\n",
       "      <td>34483200</td>\n",
       "    </tr>\n",
       "    <tr>\n",
       "      <th>2014-09-19</th>\n",
       "      <td>424.102997</td>\n",
       "      <td>427.834991</td>\n",
       "      <td>384.532013</td>\n",
       "      <td>394.795990</td>\n",
       "      <td>37919700</td>\n",
       "    </tr>\n",
       "    <tr>\n",
       "      <th>2014-09-20</th>\n",
       "      <td>394.673004</td>\n",
       "      <td>423.295990</td>\n",
       "      <td>389.882996</td>\n",
       "      <td>408.903992</td>\n",
       "      <td>36863600</td>\n",
       "    </tr>\n",
       "    <tr>\n",
       "      <th>2014-09-21</th>\n",
       "      <td>408.084991</td>\n",
       "      <td>412.425995</td>\n",
       "      <td>393.181000</td>\n",
       "      <td>398.821014</td>\n",
       "      <td>26580100</td>\n",
       "    </tr>\n",
       "    <tr>\n",
       "      <th>...</th>\n",
       "      <td>...</td>\n",
       "      <td>...</td>\n",
       "      <td>...</td>\n",
       "      <td>...</td>\n",
       "      <td>...</td>\n",
       "    </tr>\n",
       "    <tr>\n",
       "      <th>2021-02-12</th>\n",
       "      <td>47877.035156</td>\n",
       "      <td>48745.734375</td>\n",
       "      <td>46424.976562</td>\n",
       "      <td>47504.851562</td>\n",
       "      <td>76555041196</td>\n",
       "    </tr>\n",
       "    <tr>\n",
       "      <th>2021-02-13</th>\n",
       "      <td>47491.203125</td>\n",
       "      <td>48047.746094</td>\n",
       "      <td>46392.281250</td>\n",
       "      <td>47105.515625</td>\n",
       "      <td>70250456155</td>\n",
       "    </tr>\n",
       "    <tr>\n",
       "      <th>2021-02-14</th>\n",
       "      <td>47114.507812</td>\n",
       "      <td>49487.640625</td>\n",
       "      <td>47114.507812</td>\n",
       "      <td>48717.289062</td>\n",
       "      <td>71248675228</td>\n",
       "    </tr>\n",
       "    <tr>\n",
       "      <th>2021-02-15</th>\n",
       "      <td>48696.535156</td>\n",
       "      <td>48875.570312</td>\n",
       "      <td>46347.476562</td>\n",
       "      <td>47945.058594</td>\n",
       "      <td>77069903166</td>\n",
       "    </tr>\n",
       "    <tr>\n",
       "      <th>2021-02-16</th>\n",
       "      <td>48209.222656</td>\n",
       "      <td>49708.578125</td>\n",
       "      <td>47237.464844</td>\n",
       "      <td>49193.343750</td>\n",
       "      <td>71766949888</td>\n",
       "    </tr>\n",
       "  </tbody>\n",
       "</table>\n",
       "<p>2341 rows × 5 columns</p>\n",
       "</div>"
      ],
      "text/plain": [
       "                    Open          High           Low         Close  \\\n",
       "Date                                                                 \n",
       "2014-09-17    465.864014    468.174011    452.421997    457.334015   \n",
       "2014-09-18    456.859985    456.859985    413.104004    424.440002   \n",
       "2014-09-19    424.102997    427.834991    384.532013    394.795990   \n",
       "2014-09-20    394.673004    423.295990    389.882996    408.903992   \n",
       "2014-09-21    408.084991    412.425995    393.181000    398.821014   \n",
       "...                  ...           ...           ...           ...   \n",
       "2021-02-12  47877.035156  48745.734375  46424.976562  47504.851562   \n",
       "2021-02-13  47491.203125  48047.746094  46392.281250  47105.515625   \n",
       "2021-02-14  47114.507812  49487.640625  47114.507812  48717.289062   \n",
       "2021-02-15  48696.535156  48875.570312  46347.476562  47945.058594   \n",
       "2021-02-16  48209.222656  49708.578125  47237.464844  49193.343750   \n",
       "\n",
       "                 Volume  \n",
       "Date                     \n",
       "2014-09-17     21056800  \n",
       "2014-09-18     34483200  \n",
       "2014-09-19     37919700  \n",
       "2014-09-20     36863600  \n",
       "2014-09-21     26580100  \n",
       "...                 ...  \n",
       "2021-02-12  76555041196  \n",
       "2021-02-13  70250456155  \n",
       "2021-02-14  71248675228  \n",
       "2021-02-15  77069903166  \n",
       "2021-02-16  71766949888  \n",
       "\n",
       "[2341 rows x 5 columns]"
      ]
     },
     "execution_count": 13,
     "metadata": {},
     "output_type": "execute_result"
    }
   ],
   "source": [
    "#data=pd.read_csv('dataset.csv')\n",
    "data = yf.download(tickers='BTC-USD', period='max', interval='1d', group_by='column', auto_adjust = True, prepost = True, threads = True, proxy = None)\n",
    "\n",
    "\n",
    "data.apply(pd.to_numeric, errors='coerce')\n",
    "\n",
    "#data=data.dropna()\n",
    "#data=data.dropna(inplace=True)\n",
    "#data=data.dropna(subset=['Close'])\n",
    "#data=data.dropna(how='any',axis=1)\n",
    "\n",
    "data.dropna(subset=['Close'], inplace=True)\n",
    "data.reset_index(drop=True)\n",
    "\n",
    "data"
   ]
  },
  {
   "cell_type": "code",
   "execution_count": 14,
   "metadata": {},
   "outputs": [
    {
     "data": {
      "text/plain": [
       "Date\n",
       "2014-09-17      457.334015\n",
       "2014-09-18      424.440002\n",
       "2014-09-19      394.795990\n",
       "2014-09-20      408.903992\n",
       "2014-09-21      398.821014\n",
       "                  ...     \n",
       "2021-02-12    47504.851562\n",
       "2021-02-13    47105.515625\n",
       "2021-02-14    48717.289062\n",
       "2021-02-15    47945.058594\n",
       "2021-02-16    49193.343750\n",
       "Name: Close, Length: 2341, dtype: float64"
      ]
     },
     "execution_count": 14,
     "metadata": {},
     "output_type": "execute_result"
    }
   ],
   "source": [
    "df1=data['Close']\n",
    "df1"
   ]
  },
  {
   "cell_type": "code",
   "execution_count": 15,
   "metadata": {},
   "outputs": [
    {
     "data": {
      "text/plain": [
       "[<matplotlib.lines.Line2D at 0x2c7e78785b0>]"
      ]
     },
     "execution_count": 15,
     "metadata": {},
     "output_type": "execute_result"
    },
    {
     "data": {
      "image/png": "[encoded data removed]",
      "text/plain": [
       "<Figure size 432x288 with 1 Axes>"
      ]
     },
     "metadata": {
      "needs_background": "light"
     },
     "output_type": "display_data"
    }
   ],
   "source": [
    "plt.plot(df1)"
   ]
  },
  {
   "cell_type": "code",
   "execution_count": 16,
   "metadata": {},
   "outputs": [],
   "source": [
    "import numpy as np"
   ]
  },
  {
   "cell_type": "code",
   "execution_count": 17,
   "metadata": {},
   "outputs": [
    {
     "data": {
      "text/plain": [
       "Date\n",
       "2014-09-17      457.334015\n",
       "2014-09-18      424.440002\n",
       "2014-09-19      394.795990\n",
       "2014-09-20      408.903992\n",
       "2014-09-21      398.821014\n",
       "                  ...     \n",
       "2021-02-12    47504.851562\n",
       "2021-02-13    47105.515625\n",
       "2021-02-14    48717.289062\n",
       "2021-02-15    47945.058594\n",
       "2021-02-16    49193.343750\n",
       "Name: Close, Length: 2341, dtype: float64"
      ]
     },
     "execution_count": 17,
     "metadata": {},
     "output_type": "execute_result"
    }
   ],
   "source": [
    "df1"
   ]
  },
  {
   "cell_type": "code",
   "execution_count": 18,
   "metadata": {},
   "outputs": [],
   "source": [
    "from sklearn.preprocessing import MinMaxScaler\n",
    "scaler=MinMaxScaler(feature_range=(0,1))\n",
    "df1=scaler.fit_transform(np.array(df1).reshape(-1,1))"
   ]
  },
  {
   "cell_type": "code",
   "execution_count": 19,
   "metadata": {},
   "outputs": [],
   "source": [
    "training_size=int(len(df1)*0.65)\n",
    "test_size=len(df1)-training_size\n",
    "train_data,test_data=df1[0:training_size,:],df1[training_size:len(df1),:1]"
   ]
  },
  {
   "cell_type": "code",
   "execution_count": 20,
   "metadata": {},
   "outputs": [
    {
     "data": {
      "text/plain": [
       "(1521, 820)"
      ]
     },
     "execution_count": 20,
     "metadata": {},
     "output_type": "execute_result"
    }
   ],
   "source": [
    "training_size,test_size"
   ]
  },
  {
   "cell_type": "code",
   "execution_count": 21,
   "metadata": {},
   "outputs": [],
   "source": [
    "import numpy\n",
    "# convert an array of values into a dataset matrix\n",
    "def create_dataset(dataset, time_step=1):\n",
    "\tdataX, dataY = [], []\n",
    "\tfor i in range(len(dataset)-time_step-1):\n",
    "\t\ta = dataset[i:(i+time_step), 0]   ###i=0, 0,1,2,3-----99   100 \n",
    "\t\tdataX.append(a)\n",
    "\t\tdataY.append(dataset[i + time_step, 0])\n",
    "\treturn numpy.array(dataX), numpy.array(dataY)"
   ]
  },
  {
   "cell_type": "code",
   "execution_count": 22,
   "metadata": {},
   "outputs": [],
   "source": [
    "# reshape into X=t,t+1,t+2,t+3 and Y=t+4\n",
    "time_step = 100\n",
    "X_train, y_train = create_dataset(train_data, time_step)\n",
    "X_test, ytest = create_dataset(test_data, time_step)"
   ]
  },
  {
   "cell_type": "code",
   "execution_count": 23,
   "metadata": {},
   "outputs": [
    {
     "name": "stdout",
     "output_type": "stream",
     "text": [
      "(1420, 100)\n",
      "(1420,)\n"
     ]
    },
    {
     "data": {
      "text/plain": [
       "(None, None)"
      ]
     },
     "execution_count": 23,
     "metadata": {},
     "output_type": "execute_result"
    }
   ],
   "source": [
    "print(X_train.shape), print(y_train.shape)"
   ]
  },
  {
   "cell_type": "markdown",
   "metadata": {},
   "source": []
  },
  {
   "cell_type": "code",
   "execution_count": 24,
   "metadata": {},
   "outputs": [
    {
     "name": "stdout",
     "output_type": "stream",
     "text": [
      "(719, 100)\n",
      "(719,)\n"
     ]
    },
    {
     "data": {
      "text/plain": [
       "(None, None)"
      ]
     },
     "execution_count": 24,
     "metadata": {},
     "output_type": "execute_result"
    }
   ],
   "source": [
    "print(X_test.shape), print(ytest.shape)"
   ]
  },
  {
   "cell_type": "code",
   "execution_count": 25,
   "metadata": {},
   "outputs": [
    {
     "data": {
      "text/plain": [
       "100"
      ]
     },
     "execution_count": 25,
     "metadata": {},
     "output_type": "execute_result"
    }
   ],
   "source": [
    "X_train.shape[1]"
   ]
  },
  {
   "cell_type": "code",
   "execution_count": 26,
   "metadata": {},
   "outputs": [],
   "source": [
    "# reshape input to be [samples, time steps, features] which is required for LSTM\n",
    "X_train =X_train.reshape(X_train.shape[0],X_train.shape[1] , 1)\n",
    "X_test = X_test.reshape(X_test.shape[0],X_test.shape[1] , 1)"
   ]
  },
  {
   "cell_type": "code",
   "execution_count": 27,
   "metadata": {},
   "outputs": [],
   "source": [
    "### Create the Stacked LSTM model\n",
    "from tensorflow.keras.models import Sequential\n",
    "from tensorflow.keras.layers import Dense\n",
    "from tensorflow.keras.layers import LSTM\n",
    "from keras.optimizers import Adam, Adadelta, SGD"
   ]
  },
  {
   "cell_type": "code",
   "execution_count": 28,
   "metadata": {},
   "outputs": [],
   "source": [
    "opt = Adam(lr=0.0001)\n",
    "#opt = Adam(lr=0.0025)\n",
    "#opt = Adadelta(lr=1, rho=0.95, epsilon=1e-6, decay=0, clipnorm=NULL, clipvalue=NULL)\n",
    "#opt = Adadelta(lr=1, rho=0.95, epsilon=1e-6, decay=0)\n",
    "\n",
    "model=Sequential()\n",
    "model.add(LSTM(50,return_sequences=True,input_shape=(100,1)))\n",
    "model.add(LSTM(50,return_sequences=True))\n",
    "model.add(LSTM(50))\n",
    "model.add(Dense(1))\n",
    "\n",
    "#model.compile(loss='mean_squared_error',optimizer='adam')\n",
    "model.compile(optimizer=opt, loss='mean_squared_error')"
   ]
  },
  {
   "cell_type": "code",
   "execution_count": 29,
   "metadata": {},
   "outputs": [
    {
     "name": "stdout",
     "output_type": "stream",
     "text": [
      "Model: \"sequential\"\n",
      "_________________________________________________________________\n",
      "Layer (type)                 Output Shape              Param #   \n",
      "=================================================================\n",
      "lstm (LSTM)                  (None, 100, 50)           10400     \n",
      "_________________________________________________________________\n",
      "lstm_1 (LSTM)                (None, 100, 50)           20200     \n",
      "_________________________________________________________________\n",
      "lstm_2 (LSTM)                (None, 50)                20200     \n",
      "_________________________________________________________________\n",
      "dense (Dense)                (None, 1)                 51        \n",
      "=================================================================\n",
      "Total params: 50,851\n",
      "Trainable params: 50,851\n",
      "Non-trainable params: 0\n",
      "_________________________________________________________________\n"
     ]
    }
   ],
   "source": [
    "model.summary()"
   ]
  },
  {
   "cell_type": "code",
   "execution_count": 30,
   "metadata": {},
   "outputs": [
    {
     "name": "stdout",
     "output_type": "stream",
     "text": [
      "Epoch 1/100\n",
      "12/12 [==============================] - 7s 186ms/step - loss: 0.0113 - val_loss: 0.0653\n",
      "Epoch 2/100\n",
      "12/12 [==============================] - 0s 30ms/step - loss: 0.0060 - val_loss: 0.0398\n",
      "Epoch 3/100\n",
      "12/12 [==============================] - 0s 30ms/step - loss: 0.0038 - val_loss: 0.0225\n",
      "Epoch 4/100\n",
      "12/12 [==============================] - 0s 30ms/step - loss: 0.0027 - val_loss: 0.0137\n",
      "Epoch 5/100\n",
      "12/12 [==============================] - 0s 33ms/step - loss: 0.0018 - val_loss: 0.0071\n",
      "Epoch 6/100\n",
      "12/12 [==============================] - 0s 31ms/step - loss: 7.1672e-04 - val_loss: 0.0027\n",
      "Epoch 7/100\n",
      "12/12 [==============================] - 0s 31ms/step - loss: 6.0416e-04 - val_loss: 0.0022\n",
      "Epoch 8/100\n",
      "12/12 [==============================] - 0s 30ms/step - loss: 5.2028e-04 - val_loss: 0.0033\n",
      "Epoch 9/100\n",
      "12/12 [==============================] - 0s 30ms/step - loss: 4.9621e-04 - val_loss: 0.0027\n",
      "Epoch 10/100\n",
      "12/12 [==============================] - 0s 29ms/step - loss: 5.6404e-04 - val_loss: 0.0029\n",
      "Epoch 11/100\n",
      "12/12 [==============================] - 0s 30ms/step - loss: 4.4318e-04 - val_loss: 0.0029\n",
      "Epoch 12/100\n",
      "12/12 [==============================] - 0s 29ms/step - loss: 4.5690e-04 - val_loss: 0.0032\n",
      "Epoch 13/100\n",
      "12/12 [==============================] - 0s 29ms/step - loss: 4.0973e-04 - val_loss: 0.0029\n",
      "Epoch 14/100\n",
      "12/12 [==============================] - 0s 30ms/step - loss: 3.8909e-04 - val_loss: 0.0031\n",
      "Epoch 15/100\n",
      "12/12 [==============================] - 0s 31ms/step - loss: 4.9360e-04 - val_loss: 0.0029\n",
      "Epoch 16/100\n",
      "12/12 [==============================] - 0s 31ms/step - loss: 5.4267e-04 - val_loss: 0.0030\n",
      "Epoch 17/100\n",
      "12/12 [==============================] - 0s 29ms/step - loss: 4.1089e-04 - val_loss: 0.0031\n",
      "Epoch 18/100\n",
      "12/12 [==============================] - 0s 30ms/step - loss: 3.8321e-04 - val_loss: 0.0034\n",
      "Epoch 19/100\n",
      "12/12 [==============================] - 0s 30ms/step - loss: 3.8439e-04 - val_loss: 0.0032\n",
      "Epoch 20/100\n",
      "12/12 [==============================] - 0s 29ms/step - loss: 4.3972e-04 - val_loss: 0.0033\n",
      "Epoch 21/100\n",
      "12/12 [==============================] - 0s 29ms/step - loss: 4.0247e-04 - val_loss: 0.0031\n",
      "Epoch 22/100\n",
      "12/12 [==============================] - 0s 29ms/step - loss: 3.9151e-04 - val_loss: 0.0032\n",
      "Epoch 23/100\n",
      "12/12 [==============================] - 0s 29ms/step - loss: 4.2898e-04 - val_loss: 0.0031\n",
      "Epoch 24/100\n",
      "12/12 [==============================] - 0s 30ms/step - loss: 3.8060e-04 - val_loss: 0.0033\n",
      "Epoch 25/100\n",
      "12/12 [==============================] - 0s 29ms/step - loss: 3.4001e-04 - val_loss: 0.0034\n",
      "Epoch 26/100\n",
      "12/12 [==============================] - 0s 37ms/step - loss: 3.5352e-04 - val_loss: 0.0035\n",
      "Epoch 27/100\n",
      "12/12 [==============================] - 0s 32ms/step - loss: 3.9775e-04 - val_loss: 0.0035\n",
      "Epoch 28/100\n",
      "12/12 [==============================] - 0s 29ms/step - loss: 3.3515e-04 - val_loss: 0.0036\n",
      "Epoch 29/100\n",
      "12/12 [==============================] - 0s 29ms/step - loss: 4.0273e-04 - val_loss: 0.0032\n",
      "Epoch 30/100\n",
      "12/12 [==============================] - 0s 30ms/step - loss: 3.6000e-04 - val_loss: 0.0031\n",
      "Epoch 31/100\n",
      "12/12 [==============================] - ETA: 0s - loss: 3.4956e-0 - 0s 29ms/step - loss: 3.4741e-04 - val_loss: 0.0033\n",
      "Epoch 32/100\n",
      "12/12 [==============================] - 0s 30ms/step - loss: 3.2551e-04 - val_loss: 0.0034\n",
      "Epoch 33/100\n",
      "12/12 [==============================] - 0s 31ms/step - loss: 2.8983e-04 - val_loss: 0.0034\n",
      "Epoch 34/100\n",
      "12/12 [==============================] - 0s 31ms/step - loss: 3.5918e-04 - val_loss: 0.0037\n",
      "Epoch 35/100\n",
      "12/12 [==============================] - 0s 31ms/step - loss: 2.9322e-04 - val_loss: 0.0033\n",
      "Epoch 36/100\n",
      "12/12 [==============================] - 0s 30ms/step - loss: 3.1575e-04 - val_loss: 0.0033\n",
      "Epoch 37/100\n",
      "12/12 [==============================] - 0s 29ms/step - loss: 3.1250e-04 - val_loss: 0.0033\n",
      "Epoch 38/100\n",
      "12/12 [==============================] - 0s 30ms/step - loss: 2.7492e-04 - val_loss: 0.0034\n",
      "Epoch 39/100\n",
      "12/12 [==============================] - 0s 31ms/step - loss: 2.8642e-04 - val_loss: 0.0034\n",
      "Epoch 40/100\n",
      "12/12 [==============================] - 0s 29ms/step - loss: 2.9195e-04 - val_loss: 0.0032\n",
      "Epoch 41/100\n",
      "12/12 [==============================] - 0s 29ms/step - loss: 3.2236e-04 - val_loss: 0.0033\n",
      "Epoch 42/100\n",
      "12/12 [==============================] - 0s 29ms/step - loss: 2.6011e-04 - val_loss: 0.0033\n",
      "Epoch 43/100\n",
      "12/12 [==============================] - 0s 30ms/step - loss: 3.4657e-04 - val_loss: 0.0033\n",
      "Epoch 44/100\n",
      "12/12 [==============================] - 0s 29ms/step - loss: 2.5998e-04 - val_loss: 0.0033\n",
      "Epoch 45/100\n",
      "12/12 [==============================] - 0s 34ms/step - loss: 2.5981e-04 - val_loss: 0.0033\n",
      "Epoch 46/100\n",
      "12/12 [==============================] - 0s 31ms/step - loss: 2.9708e-04 - val_loss: 0.0033\n",
      "Epoch 47/100\n",
      "12/12 [==============================] - 0s 33ms/step - loss: 2.9230e-04 - val_loss: 0.0034e-0\n",
      "Epoch 48/100\n",
      "12/12 [==============================] - 0s 31ms/step - loss: 2.9358e-04 - val_loss: 0.0033\n",
      "Epoch 49/100\n",
      "12/12 [==============================] - 0s 30ms/step - loss: 2.7188e-04 - val_loss: 0.0035\n",
      "Epoch 50/100\n",
      "12/12 [==============================] - 0s 29ms/step - loss: 2.5893e-04 - val_loss: 0.0033\n",
      "Epoch 51/100\n",
      "12/12 [==============================] - 0s 30ms/step - loss: 2.2906e-04 - val_loss: 0.0033\n",
      "Epoch 52/100\n",
      "12/12 [==============================] - 0s 30ms/step - loss: 2.4739e-04 - val_loss: 0.0035\n",
      "Epoch 53/100\n",
      "12/12 [==============================] - 0s 30ms/step - loss: 2.2323e-04 - val_loss: 0.0035\n",
      "Epoch 54/100\n",
      "12/12 [==============================] - 0s 29ms/step - loss: 2.1583e-04 - val_loss: 0.0036\n",
      "Epoch 55/100\n",
      "12/12 [==============================] - 0s 30ms/step - loss: 2.5722e-04 - val_loss: 0.0036e\n",
      "Epoch 56/100\n",
      "12/12 [==============================] - 0s 33ms/step - loss: 2.3285e-04 - val_loss: 0.0034\n",
      "Epoch 57/100\n",
      "12/12 [==============================] - 0s 29ms/step - loss: 2.4360e-04 - val_loss: 0.0034\n",
      "Epoch 58/100\n",
      "12/12 [==============================] - 0s 31ms/step - loss: 2.1721e-04 - val_loss: 0.0037\n",
      "Epoch 59/100\n",
      "12/12 [==============================] - 0s 32ms/step - loss: 1.9526e-04 - val_loss: 0.0039\n",
      "Epoch 60/100\n",
      "12/12 [==============================] - 0s 34ms/step - loss: 2.0278e-04 - val_loss: 0.0037e\n",
      "Epoch 61/100\n",
      "12/12 [==============================] - 0s 35ms/step - loss: 2.2149e-04 - val_loss: 0.0038\n",
      "Epoch 62/100\n",
      "12/12 [==============================] - 0s 31ms/step - loss: 2.0958e-04 - val_loss: 0.0038\n",
      "Epoch 63/100\n",
      "12/12 [==============================] - 0s 29ms/step - loss: 1.8611e-04 - val_loss: 0.0040\n",
      "Epoch 64/100\n",
      "12/12 [==============================] - 0s 30ms/step - loss: 2.1498e-04 - val_loss: 0.0038\n",
      "Epoch 65/100\n",
      "12/12 [==============================] - 0s 31ms/step - loss: 1.7138e-04 - val_loss: 0.0038\n",
      "Epoch 66/100\n",
      "12/12 [==============================] - 0s 32ms/step - loss: 2.0921e-04 - val_loss: 0.0040\n",
      "Epoch 67/100\n",
      "12/12 [==============================] - 0s 30ms/step - loss: 2.1939e-04 - val_loss: 0.0040\n",
      "Epoch 68/100\n",
      "12/12 [==============================] - 0s 30ms/step - loss: 2.2547e-04 - val_loss: 0.0041\n",
      "Epoch 69/100\n",
      "12/12 [==============================] - 0s 37ms/step - loss: 1.8762e-04 - val_loss: 0.0037\n",
      "Epoch 70/100\n",
      "12/12 [==============================] - 0s 36ms/step - loss: 2.0893e-04 - val_loss: 0.0045\n",
      "Epoch 71/100\n",
      "12/12 [==============================] - 0s 28ms/step - loss: 2.1058e-04 - val_loss: 0.0043\n",
      "Epoch 72/100\n",
      "12/12 [==============================] - 0s 30ms/step - loss: 2.1925e-04 - val_loss: 0.0040\n",
      "Epoch 73/100\n",
      "12/12 [==============================] - 0s 28ms/step - loss: 1.9700e-04 - val_loss: 0.0041\n",
      "Epoch 74/100\n",
      "12/12 [==============================] - 0s 29ms/step - loss: 1.7275e-04 - val_loss: 0.0046\n",
      "Epoch 75/100\n",
      "12/12 [==============================] - 0s 29ms/step - loss: 2.1423e-04 - val_loss: 0.0046\n",
      "Epoch 76/100\n",
      "12/12 [==============================] - 0s 29ms/step - loss: 1.7115e-04 - val_loss: 0.0043\n",
      "Epoch 77/100\n",
      "12/12 [==============================] - 0s 30ms/step - loss: 2.0421e-04 - val_loss: 0.0045\n",
      "Epoch 78/100\n",
      "12/12 [==============================] - 0s 29ms/step - loss: 1.7162e-04 - val_loss: 0.0043\n"
     ]
    },
    {
     "name": "stdout",
     "output_type": "stream",
     "text": [
      "Epoch 79/100\n",
      "12/12 [==============================] - 0s 29ms/step - loss: 1.9063e-04 - val_loss: 0.0046\n",
      "Epoch 80/100\n",
      "12/12 [==============================] - 0s 28ms/step - loss: 1.9102e-04 - val_loss: 0.0045\n",
      "Epoch 81/100\n",
      "12/12 [==============================] - 0s 30ms/step - loss: 1.8511e-04 - val_loss: 0.0044\n",
      "Epoch 82/100\n",
      "12/12 [==============================] - 0s 30ms/step - loss: 2.0086e-04 - val_loss: 0.0049\n",
      "Epoch 83/100\n",
      "12/12 [==============================] - 0s 29ms/step - loss: 1.5879e-04 - val_loss: 0.0045\n",
      "Epoch 84/100\n",
      "12/12 [==============================] - 0s 28ms/step - loss: 1.6653e-04 - val_loss: 0.0047\n",
      "Epoch 85/100\n",
      "12/12 [==============================] - 0s 29ms/step - loss: 1.7552e-04 - val_loss: 0.0048\n",
      "Epoch 86/100\n",
      "12/12 [==============================] - 0s 31ms/step - loss: 1.5621e-04 - val_loss: 0.0046\n",
      "Epoch 87/100\n",
      "12/12 [==============================] - 0s 31ms/step - loss: 2.1799e-04 - val_loss: 0.0047\n",
      "Epoch 88/100\n",
      "12/12 [==============================] - 0s 31ms/step - loss: 2.0127e-04 - val_loss: 0.0053\n",
      "Epoch 89/100\n",
      "12/12 [==============================] - 0s 30ms/step - loss: 2.3363e-04 - val_loss: 0.0045\n",
      "Epoch 90/100\n",
      "12/12 [==============================] - 0s 33ms/step - loss: 2.1822e-04 - val_loss: 0.0046\n",
      "Epoch 91/100\n",
      "12/12 [==============================] - 0s 32ms/step - loss: 1.6105e-04 - val_loss: 0.0048\n",
      "Epoch 92/100\n",
      "12/12 [==============================] - 0s 29ms/step - loss: 2.1818e-04 - val_loss: 0.0050\n",
      "Epoch 93/100\n",
      "12/12 [==============================] - 0s 30ms/step - loss: 1.8518e-04 - val_loss: 0.0045\n",
      "Epoch 94/100\n",
      "12/12 [==============================] - 0s 29ms/step - loss: 2.2206e-04 - val_loss: 0.0047\n",
      "Epoch 95/100\n",
      "12/12 [==============================] - 0s 29ms/step - loss: 1.8929e-04 - val_loss: 0.0050\n",
      "Epoch 96/100\n",
      "12/12 [==============================] - 0s 29ms/step - loss: 1.8247e-04 - val_loss: 0.0046\n",
      "Epoch 97/100\n",
      "12/12 [==============================] - 0s 33ms/step - loss: 1.7059e-04 - val_loss: 0.0045\n",
      "Epoch 98/100\n",
      "12/12 [==============================] - 0s 29ms/step - loss: 1.7641e-04 - val_loss: 0.0045\n",
      "Epoch 99/100\n",
      "12/12 [==============================] - 0s 28ms/step - loss: 1.8902e-04 - val_loss: 0.0046\n",
      "Epoch 100/100\n",
      "12/12 [==============================] - 0s 30ms/step - loss: 2.1609e-04 - val_loss: 0.0042\n"
     ]
    },
    {
     "data": {
      "text/plain": [
       "<tensorflow.python.keras.callbacks.History at 0x2c79845e1f0>"
      ]
     },
     "execution_count": 30,
     "metadata": {},
     "output_type": "execute_result"
    }
   ],
   "source": [
    "model.fit(X_train,y_train,validation_data=(X_test,ytest),epochs=100,batch_size=128,verbose=1)"
   ]
  },
  {
   "cell_type": "code",
   "execution_count": 31,
   "metadata": {},
   "outputs": [],
   "source": [
    "import tensorflow as tf\n",
    "### Do the prediction and check performance metrics\n",
    "train_predict=model.predict(X_train)\n",
    "test_predict=model.predict(X_test)\n",
    "##Transformback to original form\n",
    "train_predict=scaler.inverse_transform(train_predict)\n",
    "test_predict=scaler.inverse_transform(test_predict)\n",
    "### Calculate RMSE performance metrics"
   ]
  },
  {
   "cell_type": "code",
   "execution_count": 32,
   "metadata": {},
   "outputs": [
    {
     "data": {
      "text/plain": [
       "4942.877181235912"
      ]
     },
     "execution_count": 32,
     "metadata": {},
     "output_type": "execute_result"
    }
   ],
   "source": [
    "import math\n",
    "from sklearn.metrics import mean_squared_error\n",
    "math.sqrt(mean_squared_error(y_train,train_predict))"
   ]
  },
  {
   "cell_type": "code",
   "execution_count": 33,
   "metadata": {},
   "outputs": [
    {
     "data": {
      "text/plain": [
       "11809.436337894715"
      ]
     },
     "execution_count": 33,
     "metadata": {},
     "output_type": "execute_result"
    }
   ],
   "source": [
    "### Test Data RMSE\n",
    "math.sqrt(mean_squared_error(ytest,test_predict))"
   ]
  },
  {
   "cell_type": "code",
   "execution_count": 34,
   "metadata": {},
   "outputs": [
    {
     "data": {
      "image/png": "[encoded data removed]",
      "text/plain": [
       "<Figure size 432x288 with 1 Axes>"
      ]
     },
     "metadata": {
      "needs_background": "light"
     },
     "output_type": "display_data"
    }
   ],
   "source": [
    "# shift train predictions for plotting\n",
    "look_back=100\n",
    "trainPredictPlot = numpy.empty_like(df1)\n",
    "trainPredictPlot[:, :] = np.nan\n",
    "trainPredictPlot[look_back:len(train_predict)+look_back, :] = train_predict\n",
    "# shift test predictions for plotting\n",
    "testPredictPlot = numpy.empty_like(df1)\n",
    "testPredictPlot[:, :] = numpy.nan\n",
    "testPredictPlot[len(train_predict)+(look_back*2)+1:len(df1)-1, :] = test_predict\n",
    "# plot baseline and predictions\n",
    "plt.plot(scaler.inverse_transform(df1))\n",
    "plt.plot(trainPredictPlot)\n",
    "plt.plot(testPredictPlot)\n",
    "plt.show()"
   ]
  },
  {
   "cell_type": "code",
   "execution_count": 35,
   "metadata": {},
   "outputs": [
    {
     "name": "stdout",
     "output_type": "stream",
     "text": [
      "820\n",
      "720\n"
     ]
    }
   ],
   "source": [
    "len(test_data)\n",
    "tdl_int = len(test_data)\n",
    "tdl_length = tdl_int - 100\n",
    "print(tdl_int)\n",
    "print(tdl_length)"
   ]
  },
  {
   "cell_type": "code",
   "execution_count": 36,
   "metadata": {},
   "outputs": [
    {
     "data": {
      "text/plain": [
       "(1, 100)"
      ]
     },
     "execution_count": 36,
     "metadata": {},
     "output_type": "execute_result"
    }
   ],
   "source": [
    "x_input=test_data[tdl_length:].reshape(1,-1)\n",
    "x_input.shape"
   ]
  },
  {
   "cell_type": "code",
   "execution_count": 37,
   "metadata": {},
   "outputs": [
    {
     "data": {
      "text/plain": [
       "[0.3091734774735359,\n",
       " 0.30832857524922486,\n",
       " 0.3167022462481462,\n",
       " 0.3284333710455444,\n",
       " 0.32927932922330394,\n",
       " 0.324185609024473,\n",
       " 0.3218893685180401,\n",
       " 0.3374054289476883,\n",
       " 0.35636473441258754,\n",
       " 0.3596004547097429,\n",
       " 0.35986739177205146,\n",
       " 0.37627503553789227,\n",
       " 0.3767018001202665,\n",
       " 0.37114780375981055,\n",
       " 0.3710278235396865,\n",
       " 0.3861933871190486,\n",
       " 0.3785356924054774,\n",
       " 0.3462702577656895,\n",
       " 0.3454088786828525,\n",
       " 0.35783382466683333,\n",
       " 0.3672200952518699,\n",
       " 0.396769099607341,\n",
       " 0.37998171107305706,\n",
       " 0.38810354713634765,\n",
       " 0.393087846649539,\n",
       " 0.37787558203464533,\n",
       " 0.3871474908688496,\n",
       " 0.3910420065759389,\n",
       " 0.3879105268154307,\n",
       " 0.37015102355177215,\n",
       " 0.37489998491150855,\n",
       " 0.369005413678452,\n",
       " 0.36480084613051733,\n",
       " 0.37999513961313736,\n",
       " 0.38690577714740404,\n",
       " 0.3890329057128849,\n",
       " 0.3925100209530863,\n",
       " 0.43114130084233976,\n",
       " 0.46163313216172835,\n",
       " 0.46842283314067235,\n",
       " 0.4833543336801777,\n",
       " 0.4753458631852209,\n",
       " 0.4615906947872906,\n",
       " 0.4815834001288745,\n",
       " 0.4705320702684795,\n",
       " 0.480622880963783,\n",
       " 0.4995729418550957,\n",
       " 0.5357299833490773,\n",
       " 0.5323689432936057,\n",
       " 0.5489456990003986,\n",
       " 0.554609833297893,\n",
       " 0.5847742393536618,\n",
       " 0.5880541901537523,\n",
       " 0.5956524725431106,\n",
       " 0.6518210273042484,\n",
       " 0.6651792369001608,\n",
       " 0.648651533219596,\n",
       " 0.6898737243983503,\n",
       " 0.7476503169486302,\n",
       " 0.7996072113424437,\n",
       " 0.8287117589143667,\n",
       " 0.8176322968602129,\n",
       " 0.7789074953579965,\n",
       " 0.7219908075404557,\n",
       " 0.6884564356340285,\n",
       " 0.7576879314985117,\n",
       " 0.7958590946153398,\n",
       " 0.7476707984608002,\n",
       " 0.7344662002061626,\n",
       " 0.726573486117536,\n",
       " 0.7436864669396426,\n",
       " 0.7322559501730036,\n",
       " 0.7216050856770213,\n",
       " 0.6252666670812861,\n",
       " 0.6697439044976674,\n",
       " 0.6506045689316322,\n",
       " 0.6551283930466987,\n",
       " 0.6566996119306948,\n",
       " 0.6608505051656082,\n",
       " 0.6172456446868476,\n",
       " 0.6420758520886382,\n",
       " 0.6964830366504587,\n",
       " 0.6955269405356608,\n",
       " 0.6719594940690186,\n",
       " 0.6805857172549696,\n",
       " 0.720840814464142,\n",
       " 0.7608651161120528,\n",
       " 0.7497252455511877,\n",
       " 0.7745796004167427,\n",
       " 0.7974643829407859,\n",
       " 0.7900672895688325,\n",
       " 0.9388582232750545,\n",
       " 0.9446654093793393,\n",
       " 0.9127789624092956,\n",
       " 0.9738038271562125,\n",
       " 0.9655516904221129,\n",
       " 0.9574045114760594,\n",
       " 0.9902876191122416,\n",
       " 0.9745327139667437,\n",
       " 0.9999999999999999]"
      ]
     },
     "execution_count": 37,
     "metadata": {},
     "output_type": "execute_result"
    }
   ],
   "source": [
    "temp_input=list(x_input)\n",
    "temp_input=temp_input[0].tolist()\n",
    "\n",
    "temp_input"
   ]
  },
  {
   "cell_type": "code",
   "execution_count": 38,
   "metadata": {},
   "outputs": [
    {
     "name": "stdout",
     "output_type": "stream",
     "text": [
      "[0.6791407]\n",
      "101\n",
      "1 day input [0.30832858 0.31670225 0.32843337 0.32927933 0.32418561 0.32188937\n",
      " 0.33740543 0.35636473 0.35960045 0.35986739 0.37627504 0.3767018\n",
      " 0.3711478  0.37102782 0.38619339 0.37853569 0.34627026 0.34540888\n",
      " 0.35783382 0.3672201  0.3967691  0.37998171 0.38810355 0.39308785\n",
      " 0.37787558 0.38714749 0.39104201 0.38791053 0.37015102 0.37489998\n",
      " 0.36900541 0.36480085 0.37999514 0.38690578 0.38903291 0.39251002\n",
      " 0.4311413  0.46163313 0.46842283 0.48335433 0.47534586 0.46159069\n",
      " 0.4815834  0.47053207 0.48062288 0.49957294 0.53572998 0.53236894\n",
      " 0.5489457  0.55460983 0.58477424 0.58805419 0.59565247 0.65182103\n",
      " 0.66517924 0.64865153 0.68987372 0.74765032 0.79960721 0.82871176\n",
      " 0.8176323  0.7789075  0.72199081 0.68845644 0.75768793 0.79585909\n",
      " 0.7476708  0.7344662  0.72657349 0.74368647 0.73225595 0.72160509\n",
      " 0.62526667 0.6697439  0.65060457 0.65512839 0.65669961 0.66085051\n",
      " 0.61724564 0.64207585 0.69648304 0.69552694 0.67195949 0.68058572\n",
      " 0.72084081 0.76086512 0.74972525 0.7745796  0.79746438 0.79006729\n",
      " 0.93885822 0.94466541 0.91277896 0.97380383 0.96555169 0.95740451\n",
      " 0.99028762 0.97453271 1.         0.67914069]\n",
      "1 day output [[0.6836505]]\n",
      "2 day input [0.31670225 0.32843337 0.32927933 0.32418561 0.32188937 0.33740543\n",
      " 0.35636473 0.35960045 0.35986739 0.37627504 0.3767018  0.3711478\n",
      " 0.37102782 0.38619339 0.37853569 0.34627026 0.34540888 0.35783382\n",
      " 0.3672201  0.3967691  0.37998171 0.38810355 0.39308785 0.37787558\n",
      " 0.38714749 0.39104201 0.38791053 0.37015102 0.37489998 0.36900541\n",
      " 0.36480085 0.37999514 0.38690578 0.38903291 0.39251002 0.4311413\n",
      " 0.46163313 0.46842283 0.48335433 0.47534586 0.46159069 0.4815834\n",
      " 0.47053207 0.48062288 0.49957294 0.53572998 0.53236894 0.5489457\n",
      " 0.55460983 0.58477424 0.58805419 0.59565247 0.65182103 0.66517924\n",
      " 0.64865153 0.68987372 0.74765032 0.79960721 0.82871176 0.8176323\n",
      " 0.7789075  0.72199081 0.68845644 0.75768793 0.79585909 0.7476708\n",
      " 0.7344662  0.72657349 0.74368647 0.73225595 0.72160509 0.62526667\n",
      " 0.6697439  0.65060457 0.65512839 0.65669961 0.66085051 0.61724564\n",
      " 0.64207585 0.69648304 0.69552694 0.67195949 0.68058572 0.72084081\n",
      " 0.76086512 0.74972525 0.7745796  0.79746438 0.79006729 0.93885822\n",
      " 0.94466541 0.91277896 0.97380383 0.96555169 0.95740451 0.99028762\n",
      " 0.97453271 1.         0.67914069 0.68365049]\n",
      "2 day output [[0.6784978]]\n",
      "3 day input [0.32843337 0.32927933 0.32418561 0.32188937 0.33740543 0.35636473\n",
      " 0.35960045 0.35986739 0.37627504 0.3767018  0.3711478  0.37102782\n",
      " 0.38619339 0.37853569 0.34627026 0.34540888 0.35783382 0.3672201\n",
      " 0.3967691  0.37998171 0.38810355 0.39308785 0.37787558 0.38714749\n",
      " 0.39104201 0.38791053 0.37015102 0.37489998 0.36900541 0.36480085\n",
      " 0.37999514 0.38690578 0.38903291 0.39251002 0.4311413  0.46163313\n",
      " 0.46842283 0.48335433 0.47534586 0.46159069 0.4815834  0.47053207\n",
      " 0.48062288 0.49957294 0.53572998 0.53236894 0.5489457  0.55460983\n",
      " 0.58477424 0.58805419 0.59565247 0.65182103 0.66517924 0.64865153\n",
      " 0.68987372 0.74765032 0.79960721 0.82871176 0.8176323  0.7789075\n",
      " 0.72199081 0.68845644 0.75768793 0.79585909 0.7476708  0.7344662\n",
      " 0.72657349 0.74368647 0.73225595 0.72160509 0.62526667 0.6697439\n",
      " 0.65060457 0.65512839 0.65669961 0.66085051 0.61724564 0.64207585\n",
      " 0.69648304 0.69552694 0.67195949 0.68058572 0.72084081 0.76086512\n",
      " 0.74972525 0.7745796  0.79746438 0.79006729 0.93885822 0.94466541\n",
      " 0.91277896 0.97380383 0.96555169 0.95740451 0.99028762 0.97453271\n",
      " 1.         0.67914069 0.68365049 0.67849779]\n",
      "3 day output [[0.66445404]]\n",
      "4 day input [0.32927933 0.32418561 0.32188937 0.33740543 0.35636473 0.35960045\n",
      " 0.35986739 0.37627504 0.3767018  0.3711478  0.37102782 0.38619339\n",
      " 0.37853569 0.34627026 0.34540888 0.35783382 0.3672201  0.3967691\n",
      " 0.37998171 0.38810355 0.39308785 0.37787558 0.38714749 0.39104201\n",
      " 0.38791053 0.37015102 0.37489998 0.36900541 0.36480085 0.37999514\n",
      " 0.38690578 0.38903291 0.39251002 0.4311413  0.46163313 0.46842283\n",
      " 0.48335433 0.47534586 0.46159069 0.4815834  0.47053207 0.48062288\n",
      " 0.49957294 0.53572998 0.53236894 0.5489457  0.55460983 0.58477424\n",
      " 0.58805419 0.59565247 0.65182103 0.66517924 0.64865153 0.68987372\n",
      " 0.74765032 0.79960721 0.82871176 0.8176323  0.7789075  0.72199081\n",
      " 0.68845644 0.75768793 0.79585909 0.7476708  0.7344662  0.72657349\n",
      " 0.74368647 0.73225595 0.72160509 0.62526667 0.6697439  0.65060457\n",
      " 0.65512839 0.65669961 0.66085051 0.61724564 0.64207585 0.69648304\n",
      " 0.69552694 0.67195949 0.68058572 0.72084081 0.76086512 0.74972525\n",
      " 0.7745796  0.79746438 0.79006729 0.93885822 0.94466541 0.91277896\n",
      " 0.97380383 0.96555169 0.95740451 0.99028762 0.97453271 1.\n",
      " 0.67914069 0.68365049 0.67849779 0.66445404]\n",
      "4 day output [[0.6430932]]\n",
      "5 day input [0.32418561 0.32188937 0.33740543 0.35636473 0.35960045 0.35986739\n",
      " 0.37627504 0.3767018  0.3711478  0.37102782 0.38619339 0.37853569\n",
      " 0.34627026 0.34540888 0.35783382 0.3672201  0.3967691  0.37998171\n",
      " 0.38810355 0.39308785 0.37787558 0.38714749 0.39104201 0.38791053\n",
      " 0.37015102 0.37489998 0.36900541 0.36480085 0.37999514 0.38690578\n",
      " 0.38903291 0.39251002 0.4311413  0.46163313 0.46842283 0.48335433\n",
      " 0.47534586 0.46159069 0.4815834  0.47053207 0.48062288 0.49957294\n",
      " 0.53572998 0.53236894 0.5489457  0.55460983 0.58477424 0.58805419\n",
      " 0.59565247 0.65182103 0.66517924 0.64865153 0.68987372 0.74765032\n",
      " 0.79960721 0.82871176 0.8176323  0.7789075  0.72199081 0.68845644\n",
      " 0.75768793 0.79585909 0.7476708  0.7344662  0.72657349 0.74368647\n",
      " 0.73225595 0.72160509 0.62526667 0.6697439  0.65060457 0.65512839\n",
      " 0.65669961 0.66085051 0.61724564 0.64207585 0.69648304 0.69552694\n",
      " 0.67195949 0.68058572 0.72084081 0.76086512 0.74972525 0.7745796\n",
      " 0.79746438 0.79006729 0.93885822 0.94466541 0.91277896 0.97380383\n",
      " 0.96555169 0.95740451 0.99028762 0.97453271 1.         0.67914069\n",
      " 0.68365049 0.67849779 0.66445404 0.64309323]\n",
      "5 day output [[0.6162703]]\n",
      "6 day input [0.32188937 0.33740543 0.35636473 0.35960045 0.35986739 0.37627504\n",
      " 0.3767018  0.3711478  0.37102782 0.38619339 0.37853569 0.34627026\n",
      " 0.34540888 0.35783382 0.3672201  0.3967691  0.37998171 0.38810355\n",
      " 0.39308785 0.37787558 0.38714749 0.39104201 0.38791053 0.37015102\n",
      " 0.37489998 0.36900541 0.36480085 0.37999514 0.38690578 0.38903291\n",
      " 0.39251002 0.4311413  0.46163313 0.46842283 0.48335433 0.47534586\n",
      " 0.46159069 0.4815834  0.47053207 0.48062288 0.49957294 0.53572998\n",
      " 0.53236894 0.5489457  0.55460983 0.58477424 0.58805419 0.59565247\n",
      " 0.65182103 0.66517924 0.64865153 0.68987372 0.74765032 0.79960721\n",
      " 0.82871176 0.8176323  0.7789075  0.72199081 0.68845644 0.75768793\n",
      " 0.79585909 0.7476708  0.7344662  0.72657349 0.74368647 0.73225595\n",
      " 0.72160509 0.62526667 0.6697439  0.65060457 0.65512839 0.65669961\n",
      " 0.66085051 0.61724564 0.64207585 0.69648304 0.69552694 0.67195949\n",
      " 0.68058572 0.72084081 0.76086512 0.74972525 0.7745796  0.79746438\n",
      " 0.79006729 0.93885822 0.94466541 0.91277896 0.97380383 0.96555169\n",
      " 0.95740451 0.99028762 0.97453271 1.         0.67914069 0.68365049\n",
      " 0.67849779 0.66445404 0.64309323 0.6162703 ]\n",
      "6 day output [[0.58580035]]\n",
      "7 day input [0.33740543 0.35636473 0.35960045 0.35986739 0.37627504 0.3767018\n",
      " 0.3711478  0.37102782 0.38619339 0.37853569 0.34627026 0.34540888\n",
      " 0.35783382 0.3672201  0.3967691  0.37998171 0.38810355 0.39308785\n",
      " 0.37787558 0.38714749 0.39104201 0.38791053 0.37015102 0.37489998\n",
      " 0.36900541 0.36480085 0.37999514 0.38690578 0.38903291 0.39251002\n",
      " 0.4311413  0.46163313 0.46842283 0.48335433 0.47534586 0.46159069\n",
      " 0.4815834  0.47053207 0.48062288 0.49957294 0.53572998 0.53236894\n",
      " 0.5489457  0.55460983 0.58477424 0.58805419 0.59565247 0.65182103\n",
      " 0.66517924 0.64865153 0.68987372 0.74765032 0.79960721 0.82871176\n",
      " 0.8176323  0.7789075  0.72199081 0.68845644 0.75768793 0.79585909\n",
      " 0.7476708  0.7344662  0.72657349 0.74368647 0.73225595 0.72160509\n",
      " 0.62526667 0.6697439  0.65060457 0.65512839 0.65669961 0.66085051\n",
      " 0.61724564 0.64207585 0.69648304 0.69552694 0.67195949 0.68058572\n",
      " 0.72084081 0.76086512 0.74972525 0.7745796  0.79746438 0.79006729\n",
      " 0.93885822 0.94466541 0.91277896 0.97380383 0.96555169 0.95740451\n",
      " 0.99028762 0.97453271 1.         0.67914069 0.68365049 0.67849779\n",
      " 0.66445404 0.64309323 0.6162703  0.58580035]\n",
      "7 day output [[0.5531529]]\n",
      "8 day input [0.35636473 0.35960045 0.35986739 0.37627504 0.3767018  0.3711478\n",
      " 0.37102782 0.38619339 0.37853569 0.34627026 0.34540888 0.35783382\n",
      " 0.3672201  0.3967691  0.37998171 0.38810355 0.39308785 0.37787558\n",
      " 0.38714749 0.39104201 0.38791053 0.37015102 0.37489998 0.36900541\n",
      " 0.36480085 0.37999514 0.38690578 0.38903291 0.39251002 0.4311413\n",
      " 0.46163313 0.46842283 0.48335433 0.47534586 0.46159069 0.4815834\n",
      " 0.47053207 0.48062288 0.49957294 0.53572998 0.53236894 0.5489457\n",
      " 0.55460983 0.58477424 0.58805419 0.59565247 0.65182103 0.66517924\n",
      " 0.64865153 0.68987372 0.74765032 0.79960721 0.82871176 0.8176323\n",
      " 0.7789075  0.72199081 0.68845644 0.75768793 0.79585909 0.7476708\n",
      " 0.7344662  0.72657349 0.74368647 0.73225595 0.72160509 0.62526667\n",
      " 0.6697439  0.65060457 0.65512839 0.65669961 0.66085051 0.61724564\n",
      " 0.64207585 0.69648304 0.69552694 0.67195949 0.68058572 0.72084081\n",
      " 0.76086512 0.74972525 0.7745796  0.79746438 0.79006729 0.93885822\n",
      " 0.94466541 0.91277896 0.97380383 0.96555169 0.95740451 0.99028762\n",
      " 0.97453271 1.         0.67914069 0.68365049 0.67849779 0.66445404\n",
      " 0.64309323 0.6162703  0.58580035 0.55315292]\n",
      "8 day output [[0.51957977]]\n"
     ]
    },
    {
     "name": "stdout",
     "output_type": "stream",
     "text": [
      "9 day input [0.35960045 0.35986739 0.37627504 0.3767018  0.3711478  0.37102782\n",
      " 0.38619339 0.37853569 0.34627026 0.34540888 0.35783382 0.3672201\n",
      " 0.3967691  0.37998171 0.38810355 0.39308785 0.37787558 0.38714749\n",
      " 0.39104201 0.38791053 0.37015102 0.37489998 0.36900541 0.36480085\n",
      " 0.37999514 0.38690578 0.38903291 0.39251002 0.4311413  0.46163313\n",
      " 0.46842283 0.48335433 0.47534586 0.46159069 0.4815834  0.47053207\n",
      " 0.48062288 0.49957294 0.53572998 0.53236894 0.5489457  0.55460983\n",
      " 0.58477424 0.58805419 0.59565247 0.65182103 0.66517924 0.64865153\n",
      " 0.68987372 0.74765032 0.79960721 0.82871176 0.8176323  0.7789075\n",
      " 0.72199081 0.68845644 0.75768793 0.79585909 0.7476708  0.7344662\n",
      " 0.72657349 0.74368647 0.73225595 0.72160509 0.62526667 0.6697439\n",
      " 0.65060457 0.65512839 0.65669961 0.66085051 0.61724564 0.64207585\n",
      " 0.69648304 0.69552694 0.67195949 0.68058572 0.72084081 0.76086512\n",
      " 0.74972525 0.7745796  0.79746438 0.79006729 0.93885822 0.94466541\n",
      " 0.91277896 0.97380383 0.96555169 0.95740451 0.99028762 0.97453271\n",
      " 1.         0.67914069 0.68365049 0.67849779 0.66445404 0.64309323\n",
      " 0.6162703  0.58580035 0.55315292 0.51957977]\n",
      "9 day output [[0.48599115]]\n",
      "[[0.6791406869888306], [0.6836504936218262], [0.6784977912902832], [0.6644540429115295], [0.6430932283401489], [0.6162703037261963], [0.5858003497123718], [0.5531529188156128], [0.5195797681808472], [0.48599115014076233]]\n"
     ]
    }
   ],
   "source": [
    "# demonstrate prediction for next 10 days\n",
    "from numpy import array\n",
    "\n",
    "lst_output=[]\n",
    "n_steps=100\n",
    "i=0\n",
    "\n",
    "#Ten Days\n",
    "#while(i<10):\n",
    "\n",
    "while(i<10):\n",
    "    \n",
    "    if(len(temp_input)>100):\n",
    "        #print(temp_input)\n",
    "        x_input=np.array(temp_input[1:])\n",
    "        print(\"{} day input {}\".format(i,x_input))\n",
    "        x_input=x_input.reshape(1,-1)\n",
    "        x_input = x_input.reshape((1, n_steps, 1))\n",
    "        #print(x_input)\n",
    "        yhat = model.predict(x_input, verbose=0)\n",
    "        print(\"{} day output {}\".format(i,yhat))\n",
    "        temp_input.extend(yhat[0].tolist())\n",
    "        temp_input=temp_input[1:]\n",
    "        #print(temp_input)\n",
    "        lst_output.extend(yhat.tolist())\n",
    "        i=i+1\n",
    "    else:\n",
    "        x_input = x_input.reshape((1, n_steps,1))\n",
    "        yhat = model.predict(x_input, verbose=0)\n",
    "        print(yhat[0])\n",
    "        temp_input.extend(yhat[0].tolist())\n",
    "        print(len(temp_input))\n",
    "        lst_output.extend(yhat.tolist())\n",
    "        i=i+1\n",
    "    \n",
    "\n",
    "print(lst_output)"
   ]
  },
  {
   "cell_type": "code",
   "execution_count": 39,
   "metadata": {},
   "outputs": [],
   "source": [
    "day_new=np.arange(1,101)\n",
    "\n",
    "#Ten Days\n",
    "#day_pred=np.arange(101,111)\n",
    "\n",
    "day_pred=np.arange(101,111)"
   ]
  },
  {
   "cell_type": "code",
   "execution_count": 40,
   "metadata": {},
   "outputs": [],
   "source": [
    "import matplotlib.pyplot as plt"
   ]
  },
  {
   "cell_type": "code",
   "execution_count": 41,
   "metadata": {},
   "outputs": [
    {
     "name": "stdout",
     "output_type": "stream",
     "text": [
      "2341\n",
      "2241\n"
     ]
    }
   ],
   "source": [
    "len(df1)\n",
    "df2_int = len(df1)\n",
    "df2_length = df2_int - 100\n",
    "print(df2_int)\n",
    "print(df2_length)"
   ]
  },
  {
   "cell_type": "code",
   "execution_count": 42,
   "metadata": {},
   "outputs": [
    {
     "data": {
      "text/plain": [
       "[<matplotlib.lines.Line2D at 0x2c781ab44f0>]"
      ]
     },
     "execution_count": 42,
     "metadata": {},
     "output_type": "execute_result"
    },
    {
     "data": {
      "image/png": "[encoded data removed]",
      "text/plain": [
       "<Figure size 432x288 with 1 Axes>"
      ]
     },
     "metadata": {
      "needs_background": "light"
     },
     "output_type": "display_data"
    }
   ],
   "source": [
    "#plt.plot(day_new,scaler.inverse_transform(df1[2205:]))\n",
    "\n",
    "plt.plot(day_new,scaler.inverse_transform(df1[df2_length:]))\n",
    "\n",
    "plt.plot(day_pred,scaler.inverse_transform(lst_output))"
   ]
  },
  {
   "cell_type": "code",
   "execution_count": 43,
   "metadata": {},
   "outputs": [
    {
     "data": {
      "text/plain": [
       "[<matplotlib.lines.Line2D at 0x2c781997460>]"
      ]
     },
     "execution_count": 43,
     "metadata": {},
     "output_type": "execute_result"
    },
    {
     "data": {
      "image/png": "[encoded data removed]",
      "text/plain": [
       "<Figure size 432x288 with 1 Axes>"
      ]
     },
     "metadata": {
      "needs_background": "light"
     },
     "output_type": "display_data"
    }
   ],
   "source": [
    "df3=df1.tolist()\n",
    "df3.extend(lst_output)\n",
    "#plt.plot(df3[2206:])\n",
    "\n",
    "df3_length = df2_length + 1\n",
    "\n",
    "plt.plot(df3[df3_length:])"
   ]
  },
  {
   "cell_type": "code",
   "execution_count": 44,
   "metadata": {},
   "outputs": [
    {
     "data": {
      "text/plain": [
       "[<matplotlib.lines.Line2D at 0x2c781bc66a0>]"
      ]
     },
     "execution_count": 44,
     "metadata": {},
     "output_type": "execute_result"
    },
    {
     "data": {
      "image/png": "[encoded data removed]",
      "text/plain": [
       "<Figure size 432x288 with 1 Axes>"
      ]
     },
     "metadata": {
      "needs_background": "light"
     },
     "output_type": "display_data"
    }
   ],
   "source": [
    "df3=scaler.inverse_transform(df3).tolist()\n",
    "plt.plot(df3)"
   ]
  },
  {
   "cell_type": "code",
   "execution_count": null,
   "metadata": {},
   "outputs": [],
   "source": []
  },
  {
   "cell_type": "code",
   "execution_count": null,
   "metadata": {},
   "outputs": [],
   "source": []
  }
 ],
 "metadata": {
  "kernelspec": {
   "display_name": "Python 3",
   "language": "python",
   "name": "python3"
  },
  "language_info": {
   "codemirror_mode": {
    "name": "ipython",
    "version": 3
   },
   "file_extension": ".py",
   "mimetype": "text/x-python",
   "name": "python",
   "nbconvert_exporter": "python",
   "pygments_lexer": "ipython3",
   "version": "3.8.5"
  }
 },
 "nbformat": 4,
 "nbformat_minor": 4
}
