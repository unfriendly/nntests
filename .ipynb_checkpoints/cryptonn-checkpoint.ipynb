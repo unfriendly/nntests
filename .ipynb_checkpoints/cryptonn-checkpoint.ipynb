{
 "cells": [
  {
   "cell_type": "raw",
   "metadata": {},
   "source": [
    "#Prepare 'System' if Conditions not met\n",
    "\n",
    "#!pip install --upgrade pip\n",
    "\n",
    "!pip install tensorflow tensorflow-gpu matplot numpy pandas sklearn keras seaborn requests"
   ]
  },
  {
   "cell_type": "code",
   "execution_count": 1,
   "metadata": {},
   "outputs": [],
   "source": [
    "##Created By Unfriendly \n",
    "#(A simple Jupyter Notebook in Binder for Crypto price prediction)\n",
    "\n",
    "historical_start = \"6yr,0mon,0day,0hr,0min,0sec\"\n",
    "# How long to historically look back at data\n",
    "\n",
    "predict_into = \"0yr,0mon,10day,0hr,0min,0sec\" \n",
    "# How far to try and predict into the future"
   ]
  },
  {
   "cell_type": "code",
   "execution_count": 2,
   "metadata": {},
   "outputs": [],
   "source": [
    "import os, glob\n",
    "for dirname, _, filenames in os.walk('/unfriendly/input'):\n",
    "    for filename in filenames:\n",
    "        print(os.path.join(dirname, filename))"
   ]
  },
  {
   "cell_type": "code",
   "execution_count": 3,
   "metadata": {},
   "outputs": [],
   "source": [
    "import json\n",
    "import requests\n",
    "from keras.models import Sequential\n",
    "from keras.layers import Activation, Dense, Dropout, LSTM\n",
    "import matplotlib.pyplot as plt\n",
    "import numpy as np\n",
    "import pandas as pd\n",
    "import seaborn as sns\n",
    "from sklearn.metrics import mean_absolute_error\n",
    "%matplotlib inline"
   ]
  },
  {
   "cell_type": "code",
   "execution_count": 4,
   "metadata": {},
   "outputs": [],
   "source": [
    "import matplotlib.pyplot as plt"
   ]
  },
  {
   "cell_type": "code",
   "execution_count": 5,
   "metadata": {},
   "outputs": [],
   "source": [
    "# Prepare data timestamps\n",
    "import time\n",
    "from datetime import datetime, timezone, timedelta\n",
    "one_yr = 31536000000\n",
    "one_mon = one_yr/12\n",
    "one_day = one_yr/365\n",
    "one_hr = one_day/24\n",
    "one_min = one_hr/60\n",
    "one_sec = one_min/60"
   ]
  },
  {
   "cell_type": "code",
   "execution_count": 6,
   "metadata": {},
   "outputs": [
    {
     "name": "stdout",
     "output_type": "stream",
     "text": [
      "['6', '0', '0', '0', '0', '0']\n"
     ]
    }
   ],
   "source": [
    "# Prepare how far to look back in the past in UNIX time-format\n",
    "history_split = historical_start.replace('yr', '')\n",
    "history_res = history_split.replace('mon', '')\n",
    "history_split = history_res.replace('day', '')\n",
    "history_res = history_split.replace('hr', '')\n",
    "history_split = history_res.replace('min', '')\n",
    "history_res = history_split.replace('sec', '')\n",
    "history_split = history_res.split(\",\")\n",
    "print(history_split)"
   ]
  },
  {
   "cell_type": "code",
   "execution_count": 7,
   "metadata": {},
   "outputs": [
    {
     "name": "stdout",
     "output_type": "stream",
     "text": [
      "['0', '0', '10', '0', '0', '0']\n"
     ]
    }
   ],
   "source": [
    "# Prepare how far to predict into the future in UNIX time-format\n",
    "predict_split = predict_into.replace('yr', '')\n",
    "predict_res = predict_split.replace('mon', '')\n",
    "predict_split = predict_res.replace('day', '')\n",
    "predict_res = predict_split.replace('hr', '')\n",
    "predict_split = predict_res.replace('min', '')\n",
    "predict_res = predict_split.replace('sec', '')\n",
    "predict_split = predict_res.split(\",\")\n",
    "print(predict_split)"
   ]
  },
  {
   "cell_type": "code",
   "execution_count": 8,
   "metadata": {},
   "outputs": [],
   "source": [
    "history_array_yr = int(history_split[0])\n",
    "unix_hist_yr = one_yr*history_array_yr\n",
    "\n",
    "history_array_mon = int(history_split[1])\n",
    "unix_hist_mon = one_mon*history_array_mon\n",
    "\n",
    "history_array_day = int(history_split[2])\n",
    "unix_hist_day = one_day*history_array_day\n",
    "\n",
    "history_array_hr = int(history_split[3])\n",
    "unix_hist_hr = one_hr*history_array_hr\n",
    "\n",
    "history_array_min = int(history_split[4])\n",
    "unix_hist_min = one_min*history_array_min\n",
    "\n",
    "history_array_sec = int(history_split[5])\n",
    "unix_hist_sec = one_sec*history_array_sec"
   ]
  },
  {
   "cell_type": "code",
   "execution_count": 9,
   "metadata": {},
   "outputs": [],
   "source": [
    "predict_array_yr = int(predict_split[0])\n",
    "unix_pred_yr = one_yr*predict_array_yr\n",
    "\n",
    "predict_array_mon = int(predict_split[1])\n",
    "unix_pred_mon = one_mon*predict_array_mon\n",
    "\n",
    "predict_array_day = int(predict_split[2])\n",
    "unix_pred_day = one_day*predict_array_day\n",
    "\n",
    "predict_array_hr = int(predict_split[3])\n",
    "unix_pred_hr = one_hr*predict_array_hr\n",
    "\n",
    "predict_array_min = int(predict_split[4])\n",
    "unix_pred_min = one_min*predict_array_min\n",
    "\n",
    "predict_array_sec = int(predict_split[5])\n",
    "unix_pred_sec = one_sec*predict_array_sec\n",
    "\n",
    "unix_prediction = unix_pred_yr+unix_pred_mon+unix_pred_day+unix_pred_hr+unix_pred_min+unix_pred_sec"
   ]
  },
  {
   "cell_type": "code",
   "execution_count": 10,
   "metadata": {},
   "outputs": [
    {
     "name": "stdout",
     "output_type": "stream",
     "text": [
      "-187602638927 - start\n",
      "-310 - gather\n",
      "310 - positive gather\n"
     ]
    }
   ],
   "source": [
    "raw_time = time.time()\n",
    "int_time = int(raw_time)\n",
    "current_time = str(int_time)\n",
    "\n",
    "unix_start = unix_hist_yr+unix_hist_mon+unix_hist_day+unix_hist_hr+unix_hist_min+unix_hist_sec\n",
    "raw_start = raw_time - unix_start\n",
    "\n",
    "int_start = int(raw_start)\n",
    "start = str(int_start)\n",
    "\n",
    "#print(unix_hist_yr+history_array_mon+history_array_day+history_array_hr+history_array_min+history_array_sec)\n",
    "print(start + ' - start')\n",
    "\n",
    "gather_count = int_start/(7*one_day)\n",
    "gather_int = int(gather_count)\n",
    "gather_str = str(gather_int)\n",
    "pos_gather_count = abs(int(gather_count))\n",
    "pos_gather_str = str(pos_gather_count)\n",
    "\n",
    "print(gather_str + ' - gather')\n",
    "print(pos_gather_str + ' - positive gather')"
   ]
  },
  {
   "cell_type": "raw",
   "metadata": {},
   "source": [
    "c_dt = (datetime.now(timezone.utc) + timedelta(days=0)).timestamp() * 1e3\n",
    "\n",
    "#c_dt_int = int(c_dt.strftime(\"%S\"))\n",
    "#print(str(c_dt_int))\n",
    "\n",
    "\n",
    "print(int())\n",
    "\n",
    "c_dt_array_year = history_array_yr*365\n",
    "\n",
    "history_array_comb = history_array_day + c_dt_array_year\n",
    "\n",
    "c_dt_delta = datetime.timedelta(days=history_array_comb,hours=history_array_hr,minutes=history_array_min,seconds=history_array_sec)\n",
    "\n",
    "#c_dt_start = int_time\n",
    "\n",
    "c_dt_start = c_dt - c_dt_delta\n",
    "\n",
    "#c_dt_str = str(c_dt_start)\n",
    "\n",
    "#print(c_dt_str)\n",
    "\n",
    "data_count = 0\n",
    "\n",
    "c_dt_end = c_dt_start + datetime.timedelta(days=7) * 1e3\n",
    "\n",
    "#c_dt_raw_end = c_dt_end.strftime(\"%s\")\n",
    "#c_dt_raw = c_dt_start.strftime(\"%s\")\n",
    "\n",
    "c_dt_raw_end = c_dt_end.strftime(\"%f\")\n",
    "c_dt_raw = c_dt_start.strftime(\"%f\")\n",
    "\n",
    "c_dt_int = int(c_dt_raw)\n",
    "c_dt_end_int = int(c_dt_raw_end)\n",
    "c_dt_end_str = str(c_dt_raw_end)\n",
    "c_dt_str = str(c_dt_raw)\n",
    "print(c_dt_int)\n",
    "print(c_dt_end_int)\n",
    "print(c_dt)"
   ]
  },
  {
   "cell_type": "code",
   "execution_count": 54,
   "metadata": {},
   "outputs": [
    {
     "name": "stdout",
     "output_type": "stream",
     "text": [
      "1613368348637.95\n",
      "1613368348637\n",
      "1424152348637\n",
      "1424152348.638449\n",
      "2021-02-15 05:52:28.638449+00:00\n",
      "2015-02-17 05:52:28.638449+00:00\n",
      "1424152348637\n",
      "1424775148638\n",
      "1613368348637\n",
      "13 Digit Microsecond TS: 1424152348637 - 10 Digit TS: 1424152348\n"
     ]
    }
   ],
   "source": [
    "print((datetime.now(timezone.utc) + timedelta(hours=0)).timestamp() * 1e3)\n",
    "\n",
    "dt = (datetime.now(timezone.utc) + timedelta(days=0)).timestamp() * 1e3\n",
    "\n",
    "c_dt = int(dt)\n",
    "\n",
    "c_dt_int = int(c_dt)\n",
    "print(str(c_dt_int))\n",
    "\n",
    "c_dt_array_year = history_array_yr*365\n",
    "\n",
    "history_array_comb = history_array_day + c_dt_array_year\n",
    "\n",
    "c_dt_start = (datetime.now(timezone.utc) + timedelta(days=-history_array_comb,hours=-history_array_hr,minutes=-history_array_min,seconds=-history_array_sec)).timestamp() * 1e3\n",
    "\n",
    "c_dt_start_int = int(c_dt_start)\n",
    "print(str(c_dt_start_int))\n",
    "\n",
    "c_dt_start_raw = (datetime.now(timezone.utc) + timedelta(days=-history_array_comb,hours=-history_array_hr,minutes=-history_array_min,seconds=-history_array_sec)).timestamp()\n",
    "c_dt_start_raw_int = int(c_dt_start_raw)\n",
    "print(str(c_dt_start_raw))       \n",
    "    \n",
    "data_count = 0\n",
    "\n",
    "c_dt_start_dt = datetime.utcfromtimestamp(c_dt_start_raw).strftime('%Y-%m-%d %H:%M:%S.%f+00:00')\n",
    "\n",
    "print(datetime.now(timezone.utc))\n",
    "print(datetime.utcfromtimestamp(c_dt_start_raw).strftime('%Y-%m-%d %H:%M:%S.%f+00:00'))\n",
    "\n",
    "#c_dt_end = c_dt_start + timedelta(days=7).timestamp() * 1e3\n",
    "#c_dt_end = (c_dt_start_dt + timedelta(days=7)).timestamp() * 1e3\n",
    "\n",
    "c_dt_end = (datetime.utcfromtimestamp(c_dt_start_raw) + timedelta(days=7)).timestamp() * 1e3\n",
    "\n",
    "c_dt_start_int = int(c_dt_start)\n",
    "c_dt_end_int = int(c_dt_end)\n",
    "c_dt_end_str = str(c_dt_end)\n",
    "\n",
    "\n",
    "c_dt_str = str(c_dt)\n",
    "c_dt_start_str = str(c_dt_start_int)\n",
    "\n",
    "\n",
    "ts_ten_int = int(c_dt/1000)\n",
    "start_ten_int = int(c_dt_start_int/1000)\n",
    "\n",
    "ts_ten_str = str(ts_ten_int)\n",
    "start_ten_str = str(start_ten_int)\n",
    "\n",
    "\n",
    "print(c_dt_start_int)\n",
    "print(c_dt_end_int)\n",
    "print(c_dt_int)\n",
    "print('13 Digit Microsecond TS: ' + c_dt_start_str + ' - ' + '10 Digit TS: ' + start_ten_str)"
   ]
  },
  {
   "cell_type": "code",
   "execution_count": 56,
   "metadata": {},
   "outputs": [
    {
     "name": "stdout",
     "output_type": "stream",
     "text": [
      "https://query1.finance.yahoo.com/v7/finance/download/BTC-USD?period1=1424152348&period2=1613368348&interval=1d&events=history&includeAdjustedClose=true\n"
     ]
    }
   ],
   "source": [
    "import urllib.request\n",
    "\n",
    "#while count < pos_gather_count:\n",
    "while data_count < 1:\n",
    "    \n",
    "    #d_u=\"https://query1.finance.yahoo.com/v7/finance/download/BTC-USD?period1=1411862400&period2=\" + current_time + \"&interval=1d&events=history&includeAdjustedClose=true\"\n",
    "    #d_u=\"https://query1.finance.yahoo.com/v7/finance/download/BTC-USD?period1=1411862400&period2=1612158064&interval=1d&events=history&includeAdjustedClose=true\"\n",
    "    #d_u=\"https://query1.finance.yahoo.com/v7/finance/download/BTC-USD?period1=\"+dt_str+\"&period2=\"+dt_end_str+\"&interval=1d&events=history&includeAdjustedClose=true\"\n",
    "    #d_u=\"https://query1.finance.yahoo.com/v7/finance/download/BTC-USD?period1=\"+gather_str+\"&period2=\"+current_time+\"&interval=1m&events=history&includeAdjustedClose=true\"\n",
    "    \n",
    "    \n",
    "    d_u=\"https://query1.finance.yahoo.com/v7/finance/download/BTC-USD?period1=\"+start_ten_str+\"&period2=\"+ts_ten_str+\"&interval=1d&events=history&includeAdjustedClose=true\"\n",
    "    \n",
    "    print(d_u)\n",
    "    \n",
    "    with urllib.request.urlopen(d_u) as testfile, open('dataset.csv', 'w') as f:\n",
    "        f.write(testfile.read().decode())\n",
    "\n",
    "    data_count += 1  # This is the same as count = count + 1"
   ]
  },
  {
   "cell_type": "raw",
   "metadata": {},
   "source": [
    "print(start + ' - start')\n",
    "print(current_time + ' - current time')\n",
    "print(d_u + ' - url')\n",
    "    \n",
    "print(gather_count)\n",
    "#print(data_count)\n",
    "\n",
    "# List all CSV files in the working dir\n",
    "extension = \"csv\"\n",
    "all_filenames = [i for i in glob.glob('*.{}'.format(extension))]\n",
    "print(all_filenames)"
   ]
  },
  {
   "cell_type": "raw",
   "metadata": {},
   "source": [
    "import urllib.request\n",
    "d_u=\"https://query1.finance.yahoo.com/v7/finance/download/BTC-USD?period1=1411862400&period2=1612158064&interval=1d&events=history&includeAdjustedClose=true\"\n",
    "\n",
    "\n",
    "with urllib.request.urlopen(d_u) as testfile, open('dataset.csv', 'w') as f:\n",
    "    f.write(testfile.read().decode())"
   ]
  },
  {
   "cell_type": "code",
   "execution_count": 57,
   "metadata": {},
   "outputs": [
    {
     "data": {
      "text/html": [
       "<div>\n",
       "<style scoped>\n",
       "    .dataframe tbody tr th:only-of-type {\n",
       "        vertical-align: middle;\n",
       "    }\n",
       "\n",
       "    .dataframe tbody tr th {\n",
       "        vertical-align: top;\n",
       "    }\n",
       "\n",
       "    .dataframe thead th {\n",
       "        text-align: right;\n",
       "    }\n",
       "</style>\n",
       "<table border=\"1\" class=\"dataframe\">\n",
       "  <thead>\n",
       "    <tr style=\"text-align: right;\">\n",
       "      <th></th>\n",
       "      <th>Date</th>\n",
       "      <th>Open</th>\n",
       "      <th>High</th>\n",
       "      <th>Low</th>\n",
       "      <th>Close</th>\n",
       "      <th>Adj Close</th>\n",
       "      <th>Volume</th>\n",
       "    </tr>\n",
       "  </thead>\n",
       "  <tbody>\n",
       "    <tr>\n",
       "      <th>0</th>\n",
       "      <td>2015-02-17</td>\n",
       "      <td>233.421997</td>\n",
       "      <td>245.774994</td>\n",
       "      <td>232.313995</td>\n",
       "      <td>243.610001</td>\n",
       "      <td>243.610001</td>\n",
       "      <td>2.736310e+07</td>\n",
       "    </tr>\n",
       "    <tr>\n",
       "      <th>1</th>\n",
       "      <td>2015-02-18</td>\n",
       "      <td>243.779999</td>\n",
       "      <td>244.251007</td>\n",
       "      <td>232.339996</td>\n",
       "      <td>236.326004</td>\n",
       "      <td>236.326004</td>\n",
       "      <td>2.520080e+07</td>\n",
       "    </tr>\n",
       "    <tr>\n",
       "      <th>2</th>\n",
       "      <td>2015-02-19</td>\n",
       "      <td>236.410004</td>\n",
       "      <td>242.671997</td>\n",
       "      <td>235.591995</td>\n",
       "      <td>240.283005</td>\n",
       "      <td>240.283005</td>\n",
       "      <td>1.827050e+07</td>\n",
       "    </tr>\n",
       "    <tr>\n",
       "      <th>3</th>\n",
       "      <td>2015-02-20</td>\n",
       "      <td>240.251007</td>\n",
       "      <td>247.100998</td>\n",
       "      <td>239.298996</td>\n",
       "      <td>243.779007</td>\n",
       "      <td>243.779007</td>\n",
       "      <td>2.387670e+07</td>\n",
       "    </tr>\n",
       "    <tr>\n",
       "      <th>4</th>\n",
       "      <td>2015-02-21</td>\n",
       "      <td>243.751999</td>\n",
       "      <td>255.320007</td>\n",
       "      <td>243.184006</td>\n",
       "      <td>244.533997</td>\n",
       "      <td>244.533997</td>\n",
       "      <td>1.228420e+07</td>\n",
       "    </tr>\n",
       "    <tr>\n",
       "      <th>...</th>\n",
       "      <td>...</td>\n",
       "      <td>...</td>\n",
       "      <td>...</td>\n",
       "      <td>...</td>\n",
       "      <td>...</td>\n",
       "      <td>...</td>\n",
       "      <td>...</td>\n",
       "    </tr>\n",
       "    <tr>\n",
       "      <th>2186</th>\n",
       "      <td>2021-02-11</td>\n",
       "      <td>44898.710938</td>\n",
       "      <td>48463.468750</td>\n",
       "      <td>44187.761719</td>\n",
       "      <td>47909.332031</td>\n",
       "      <td>47909.332031</td>\n",
       "      <td>8.138891e+10</td>\n",
       "    </tr>\n",
       "    <tr>\n",
       "      <th>2187</th>\n",
       "      <td>2021-02-12</td>\n",
       "      <td>47877.035156</td>\n",
       "      <td>48745.734375</td>\n",
       "      <td>46424.976563</td>\n",
       "      <td>47504.851563</td>\n",
       "      <td>47504.851563</td>\n",
       "      <td>7.655504e+10</td>\n",
       "    </tr>\n",
       "    <tr>\n",
       "      <th>2188</th>\n",
       "      <td>2021-02-13</td>\n",
       "      <td>47491.203125</td>\n",
       "      <td>48047.746094</td>\n",
       "      <td>46392.281250</td>\n",
       "      <td>47105.515625</td>\n",
       "      <td>47105.515625</td>\n",
       "      <td>7.025046e+10</td>\n",
       "    </tr>\n",
       "    <tr>\n",
       "      <th>2189</th>\n",
       "      <td>2021-02-14</td>\n",
       "      <td>47114.507813</td>\n",
       "      <td>49487.640625</td>\n",
       "      <td>47114.507813</td>\n",
       "      <td>48717.289063</td>\n",
       "      <td>48717.289063</td>\n",
       "      <td>7.124868e+10</td>\n",
       "    </tr>\n",
       "    <tr>\n",
       "      <th>2190</th>\n",
       "      <td>2021-02-15</td>\n",
       "      <td>46768.753906</td>\n",
       "      <td>48875.570313</td>\n",
       "      <td>46347.476563</td>\n",
       "      <td>46663.421875</td>\n",
       "      <td>46663.421875</td>\n",
       "      <td>8.054073e+10</td>\n",
       "    </tr>\n",
       "  </tbody>\n",
       "</table>\n",
       "<p>2187 rows × 7 columns</p>\n",
       "</div>"
      ],
      "text/plain": [
       "            Date          Open          High           Low         Close  \\\n",
       "0     2015-02-17    233.421997    245.774994    232.313995    243.610001   \n",
       "1     2015-02-18    243.779999    244.251007    232.339996    236.326004   \n",
       "2     2015-02-19    236.410004    242.671997    235.591995    240.283005   \n",
       "3     2015-02-20    240.251007    247.100998    239.298996    243.779007   \n",
       "4     2015-02-21    243.751999    255.320007    243.184006    244.533997   \n",
       "...          ...           ...           ...           ...           ...   \n",
       "2186  2021-02-11  44898.710938  48463.468750  44187.761719  47909.332031   \n",
       "2187  2021-02-12  47877.035156  48745.734375  46424.976563  47504.851563   \n",
       "2188  2021-02-13  47491.203125  48047.746094  46392.281250  47105.515625   \n",
       "2189  2021-02-14  47114.507813  49487.640625  47114.507813  48717.289063   \n",
       "2190  2021-02-15  46768.753906  48875.570313  46347.476563  46663.421875   \n",
       "\n",
       "         Adj Close        Volume  \n",
       "0       243.610001  2.736310e+07  \n",
       "1       236.326004  2.520080e+07  \n",
       "2       240.283005  1.827050e+07  \n",
       "3       243.779007  2.387670e+07  \n",
       "4       244.533997  1.228420e+07  \n",
       "...            ...           ...  \n",
       "2186  47909.332031  8.138891e+10  \n",
       "2187  47504.851563  7.655504e+10  \n",
       "2188  47105.515625  7.025046e+10  \n",
       "2189  48717.289063  7.124868e+10  \n",
       "2190  46663.421875  8.054073e+10  \n",
       "\n",
       "[2187 rows x 7 columns]"
      ]
     },
     "execution_count": 57,
     "metadata": {},
     "output_type": "execute_result"
    }
   ],
   "source": [
    "data=pd.read_csv('dataset.csv')\n",
    "\n",
    "data.apply(pd.to_numeric, errors='coerce')\n",
    "\n",
    "#data=data.dropna()\n",
    "#data=data.dropna(inplace=True)\n",
    "#data=data.dropna(subset=['Close'])\n",
    "#data=data.dropna(how='any',axis=1)\n",
    "\n",
    "data.dropna(subset=['Close'], inplace=True)\n",
    "data.reset_index(drop=True)\n",
    "\n",
    "data"
   ]
  },
  {
   "cell_type": "code",
   "execution_count": 58,
   "metadata": {},
   "outputs": [
    {
     "data": {
      "text/plain": [
       "0         243.610001\n",
       "1         236.326004\n",
       "2         240.283005\n",
       "3         243.779007\n",
       "4         244.533997\n",
       "            ...     \n",
       "2186    47909.332031\n",
       "2187    47504.851563\n",
       "2188    47105.515625\n",
       "2189    48717.289063\n",
       "2190    46663.421875\n",
       "Name: Close, Length: 2187, dtype: float64"
      ]
     },
     "execution_count": 58,
     "metadata": {},
     "output_type": "execute_result"
    }
   ],
   "source": [
    "df1=data['Close']\n",
    "df1"
   ]
  },
  {
   "cell_type": "code",
   "execution_count": 59,
   "metadata": {},
   "outputs": [
    {
     "data": {
      "text/plain": [
       "[<matplotlib.lines.Line2D at 0x23da2cd60d0>]"
      ]
     },
     "execution_count": 59,
     "metadata": {},
     "output_type": "execute_result"
    },
    {
     "data": {
      "image/png": "[encoded data removed]",
      "text/plain": [
       "<Figure size 432x288 with 1 Axes>"
      ]
     },
     "metadata": {
      "needs_background": "light"
     },
     "output_type": "display_data"
    }
   ],
   "source": [
    "plt.plot(df1)"
   ]
  },
  {
   "cell_type": "code",
   "execution_count": 60,
   "metadata": {},
   "outputs": [],
   "source": [
    "import numpy as np"
   ]
  },
  {
   "cell_type": "code",
   "execution_count": 61,
   "metadata": {},
   "outputs": [
    {
     "data": {
      "text/plain": [
       "0         243.610001\n",
       "1         236.326004\n",
       "2         240.283005\n",
       "3         243.779007\n",
       "4         244.533997\n",
       "            ...     \n",
       "2186    47909.332031\n",
       "2187    47504.851563\n",
       "2188    47105.515625\n",
       "2189    48717.289063\n",
       "2190    46663.421875\n",
       "Name: Close, Length: 2187, dtype: float64"
      ]
     },
     "execution_count": 61,
     "metadata": {},
     "output_type": "execute_result"
    }
   ],
   "source": [
    "df1"
   ]
  },
  {
   "cell_type": "code",
   "execution_count": 62,
   "metadata": {},
   "outputs": [],
   "source": [
    "from sklearn.preprocessing import MinMaxScaler\n",
    "scaler=MinMaxScaler(feature_range=(0,1))\n",
    "df1=scaler.fit_transform(np.array(df1).reshape(-1,1))"
   ]
  },
  {
   "cell_type": "code",
   "execution_count": 63,
   "metadata": {},
   "outputs": [],
   "source": [
    "training_size=int(len(df1)*0.65)\n",
    "test_size=len(df1)-training_size\n",
    "train_data,test_data=df1[0:training_size,:],df1[training_size:len(df1),:1]"
   ]
  },
  {
   "cell_type": "code",
   "execution_count": 64,
   "metadata": {},
   "outputs": [
    {
     "data": {
      "text/plain": [
       "(1421, 766)"
      ]
     },
     "execution_count": 64,
     "metadata": {},
     "output_type": "execute_result"
    }
   ],
   "source": [
    "training_size,test_size"
   ]
  },
  {
   "cell_type": "code",
   "execution_count": 65,
   "metadata": {},
   "outputs": [],
   "source": [
    "import numpy\n",
    "# convert an array of values into a dataset matrix\n",
    "def create_dataset(dataset, time_step=1):\n",
    "\tdataX, dataY = [], []\n",
    "\tfor i in range(len(dataset)-time_step-1):\n",
    "\t\ta = dataset[i:(i+time_step), 0]   ###i=0, 0,1,2,3-----99   100 \n",
    "\t\tdataX.append(a)\n",
    "\t\tdataY.append(dataset[i + time_step, 0])\n",
    "\treturn numpy.array(dataX), numpy.array(dataY)"
   ]
  },
  {
   "cell_type": "code",
   "execution_count": 66,
   "metadata": {},
   "outputs": [],
   "source": [
    "# reshape into X=t,t+1,t+2,t+3 and Y=t+4\n",
    "time_step = 100\n",
    "X_train, y_train = create_dataset(train_data, time_step)\n",
    "X_test, ytest = create_dataset(test_data, time_step)"
   ]
  },
  {
   "cell_type": "code",
   "execution_count": 67,
   "metadata": {},
   "outputs": [
    {
     "name": "stdout",
     "output_type": "stream",
     "text": [
      "(1320, 100)\n",
      "(1320,)\n"
     ]
    },
    {
     "data": {
      "text/plain": [
       "(None, None)"
      ]
     },
     "execution_count": 67,
     "metadata": {},
     "output_type": "execute_result"
    }
   ],
   "source": [
    "print(X_train.shape), print(y_train.shape)"
   ]
  },
  {
   "cell_type": "markdown",
   "metadata": {},
   "source": []
  },
  {
   "cell_type": "code",
   "execution_count": 68,
   "metadata": {},
   "outputs": [
    {
     "name": "stdout",
     "output_type": "stream",
     "text": [
      "(665, 100)\n",
      "(665,)\n"
     ]
    },
    {
     "data": {
      "text/plain": [
       "(None, None)"
      ]
     },
     "execution_count": 68,
     "metadata": {},
     "output_type": "execute_result"
    }
   ],
   "source": [
    "print(X_test.shape), print(ytest.shape)"
   ]
  },
  {
   "cell_type": "code",
   "execution_count": 69,
   "metadata": {},
   "outputs": [
    {
     "data": {
      "text/plain": [
       "100"
      ]
     },
     "execution_count": 69,
     "metadata": {},
     "output_type": "execute_result"
    }
   ],
   "source": [
    "X_train.shape[1]"
   ]
  },
  {
   "cell_type": "code",
   "execution_count": 70,
   "metadata": {},
   "outputs": [],
   "source": [
    "# reshape input to be [samples, time steps, features] which is required for LSTM\n",
    "X_train =X_train.reshape(X_train.shape[0],X_train.shape[1] , 1)\n",
    "X_test = X_test.reshape(X_test.shape[0],X_test.shape[1] , 1)"
   ]
  },
  {
   "cell_type": "code",
   "execution_count": 71,
   "metadata": {},
   "outputs": [],
   "source": [
    "### Create the Stacked LSTM model\n",
    "from tensorflow.keras.models import Sequential\n",
    "from tensorflow.keras.layers import Dense\n",
    "from tensorflow.keras.layers import LSTM\n",
    "from keras.optimizers import Adam"
   ]
  },
  {
   "cell_type": "code",
   "execution_count": 72,
   "metadata": {},
   "outputs": [],
   "source": [
    "#opt = Adam(lr=0.0001)\n",
    "\n",
    "opt = Adam(lr=0.0025)\n",
    "\n",
    "model=Sequential()\n",
    "model.add(LSTM(50,return_sequences=True,input_shape=(100,1)))\n",
    "model.add(LSTM(50,return_sequences=True))\n",
    "model.add(LSTM(50))\n",
    "model.add(Dense(1))\n",
    "#model.compile(loss='mean_squared_error',optimizer='adam')\n",
    "model.compile(optimizer=opt, loss='mean_squared_error')"
   ]
  },
  {
   "cell_type": "code",
   "execution_count": 73,
   "metadata": {},
   "outputs": [
    {
     "name": "stdout",
     "output_type": "stream",
     "text": [
      "Model: \"sequential\"\n",
      "_________________________________________________________________\n",
      "Layer (type)                 Output Shape              Param #   \n",
      "=================================================================\n",
      "lstm (LSTM)                  (None, 100, 50)           10400     \n",
      "_________________________________________________________________\n",
      "lstm_1 (LSTM)                (None, 100, 50)           20200     \n",
      "_________________________________________________________________\n",
      "lstm_2 (LSTM)                (None, 50)                20200     \n",
      "_________________________________________________________________\n",
      "dense (Dense)                (None, 1)                 51        \n",
      "=================================================================\n",
      "Total params: 50,851\n",
      "Trainable params: 50,851\n",
      "Non-trainable params: 0\n",
      "_________________________________________________________________\n"
     ]
    }
   ],
   "source": [
    "model.summary()"
   ]
  },
  {
   "cell_type": "code",
   "execution_count": 74,
   "metadata": {},
   "outputs": [
    {
     "name": "stdout",
     "output_type": "stream",
     "text": [
      "Epoch 1/100\n",
      "11/11 [==============================] - 6s 221ms/step - loss: 0.0046 - val_loss: 0.0030\n",
      "Epoch 2/100\n",
      "11/11 [==============================] - 1s 112ms/step - loss: 5.8583e-04 - val_loss: 0.0026\n",
      "Epoch 3/100\n",
      "11/11 [==============================] - 1s 114ms/step - loss: 3.7199e-04 - val_loss: 0.0032\n",
      "Epoch 4/100\n",
      "11/11 [==============================] - 1s 115ms/step - loss: 2.7791e-04 - val_loss: 0.0041\n",
      "Epoch 5/100\n",
      "11/11 [==============================] - 1s 116ms/step - loss: 2.7995e-04 - val_loss: 0.0032\n",
      "Epoch 6/100\n",
      "11/11 [==============================] - 1s 115ms/step - loss: 1.7886e-04 - val_loss: 0.0021\n",
      "Epoch 7/100\n",
      "11/11 [==============================] - 1s 125ms/step - loss: 2.3862e-04 - val_loss: 0.0024\n",
      "Epoch 8/100\n",
      "11/11 [==============================] - 1s 116ms/step - loss: 2.0787e-04 - val_loss: 0.0024\n",
      "Epoch 9/100\n",
      "11/11 [==============================] - 1s 119ms/step - loss: 1.7473e-04 - val_loss: 0.0043\n",
      "Epoch 10/100\n",
      "11/11 [==============================] - 1s 122ms/step - loss: 1.9845e-04 - val_loss: 0.0028\n",
      "Epoch 11/100\n",
      "11/11 [==============================] - 1s 118ms/step - loss: 1.9062e-04 - val_loss: 0.0048\n",
      "Epoch 12/100\n",
      "11/11 [==============================] - 1s 120ms/step - loss: 2.3834e-04 - val_loss: 0.0034\n",
      "Epoch 13/100\n",
      "11/11 [==============================] - 1s 119ms/step - loss: 2.2744e-04 - val_loss: 0.0038\n",
      "Epoch 14/100\n",
      "11/11 [==============================] - 1s 120ms/step - loss: 1.9998e-04 - val_loss: 0.0024\n",
      "Epoch 15/100\n",
      "11/11 [==============================] - 1s 120ms/step - loss: 1.5732e-04 - val_loss: 0.0027\n",
      "Epoch 16/100\n",
      "11/11 [==============================] - 1s 117ms/step - loss: 1.9467e-04 - val_loss: 0.0018\n",
      "Epoch 17/100\n",
      "11/11 [==============================] - 1s 122ms/step - loss: 1.7953e-04 - val_loss: 0.0029\n",
      "Epoch 18/100\n",
      "11/11 [==============================] - 1s 119ms/step - loss: 1.9959e-04 - val_loss: 0.0015\n",
      "Epoch 19/100\n",
      "11/11 [==============================] - 1s 118ms/step - loss: 1.7411e-04 - val_loss: 0.0016\n",
      "Epoch 20/100\n",
      "11/11 [==============================] - 1s 120ms/step - loss: 1.6752e-04 - val_loss: 0.0015\n",
      "Epoch 21/100\n",
      "11/11 [==============================] - 1s 117ms/step - loss: 1.6226e-04 - val_loss: 0.0017\n",
      "Epoch 22/100\n",
      "11/11 [==============================] - 1s 119ms/step - loss: 1.2605e-04 - val_loss: 0.0019\n",
      "Epoch 23/100\n",
      "11/11 [==============================] - 1s 121ms/step - loss: 1.2308e-04 - val_loss: 0.0021\n",
      "Epoch 24/100\n",
      "11/11 [==============================] - 1s 118ms/step - loss: 1.6127e-04 - val_loss: 0.0017\n",
      "Epoch 25/100\n",
      "11/11 [==============================] - 1s 121ms/step - loss: 1.1433e-04 - val_loss: 0.0025\n",
      "Epoch 26/100\n",
      "11/11 [==============================] - 1s 120ms/step - loss: 1.0794e-04 - val_loss: 0.0017\n",
      "Epoch 27/100\n",
      "11/11 [==============================] - 1s 117ms/step - loss: 1.1030e-04 - val_loss: 0.0016\n",
      "Epoch 28/100\n",
      "11/11 [==============================] - 1s 118ms/step - loss: 9.5802e-05 - val_loss: 0.0014\n",
      "Epoch 29/100\n",
      "11/11 [==============================] - 1s 116ms/step - loss: 1.3544e-04 - val_loss: 9.1570e-04\n",
      "Epoch 30/100\n",
      "11/11 [==============================] - 1s 116ms/step - loss: 1.2507e-04 - val_loss: 0.0015\n",
      "Epoch 31/100\n",
      "11/11 [==============================] - 1s 119ms/step - loss: 9.4013e-05 - val_loss: 0.0013\n",
      "Epoch 32/100\n",
      "11/11 [==============================] - 1s 120ms/step - loss: 1.1284e-04 - val_loss: 0.0014\n",
      "Epoch 33/100\n",
      "11/11 [==============================] - 1s 120ms/step - loss: 1.1414e-04 - val_loss: 0.0012\n",
      "Epoch 34/100\n",
      "11/11 [==============================] - 1s 120ms/step - loss: 8.2886e-05 - val_loss: 0.0016\n",
      "Epoch 35/100\n",
      "11/11 [==============================] - 1s 122ms/step - loss: 9.6874e-05 - val_loss: 0.0012\n",
      "Epoch 36/100\n",
      "11/11 [==============================] - 1s 119ms/step - loss: 1.0665e-04 - val_loss: 0.0015\n",
      "Epoch 37/100\n",
      "11/11 [==============================] - 1s 121ms/step - loss: 8.9501e-05 - val_loss: 8.2293e-04\n",
      "Epoch 38/100\n",
      "11/11 [==============================] - 1s 121ms/step - loss: 1.0981e-04 - val_loss: 0.0011\n",
      "Epoch 39/100\n",
      "11/11 [==============================] - 1s 121ms/step - loss: 9.4835e-05 - val_loss: 0.0015\n",
      "Epoch 40/100\n",
      "11/11 [==============================] - 1s 122ms/step - loss: 1.1994e-04 - val_loss: 8.6305e-04\n",
      "Epoch 41/100\n",
      "11/11 [==============================] - 1s 123ms/step - loss: 1.0256e-04 - val_loss: 8.5199e-04\n",
      "Epoch 42/100\n",
      "11/11 [==============================] - 1s 124ms/step - loss: 1.0802e-04 - val_loss: 6.8175e-04\n",
      "Epoch 43/100\n",
      "11/11 [==============================] - 1s 124ms/step - loss: 8.0477e-05 - val_loss: 6.7276e-04\n",
      "Epoch 44/100\n",
      "11/11 [==============================] - 1s 122ms/step - loss: 7.7301e-05 - val_loss: 6.9207e-04\n",
      "Epoch 45/100\n",
      "11/11 [==============================] - 1s 124ms/step - loss: 8.8095e-05 - val_loss: 5.5317e-04\n",
      "Epoch 46/100\n",
      "11/11 [==============================] - 1s 125ms/step - loss: 1.3038e-04 - val_loss: 0.0012\n",
      "Epoch 47/100\n",
      "11/11 [==============================] - 1s 125ms/step - loss: 8.2638e-05 - val_loss: 6.2902e-04\n",
      "Epoch 48/100\n",
      "11/11 [==============================] - 1s 127ms/step - loss: 9.8252e-05 - val_loss: 9.6964e-04\n",
      "Epoch 49/100\n",
      "11/11 [==============================] - 1s 123ms/step - loss: 1.0024e-04 - val_loss: 7.3620e-04\n",
      "Epoch 50/100\n",
      "11/11 [==============================] - 1s 122ms/step - loss: 7.3966e-05 - val_loss: 4.7385e-04\n",
      "Epoch 51/100\n",
      "11/11 [==============================] - 1s 122ms/step - loss: 1.0109e-04 - val_loss: 4.5958e-04\n",
      "Epoch 52/100\n",
      "11/11 [==============================] - 1s 121ms/step - loss: 9.1766e-05 - val_loss: 5.6491e-04\n",
      "Epoch 53/100\n",
      "11/11 [==============================] - 1s 119ms/step - loss: 6.7320e-05 - val_loss: 0.0011\n",
      "Epoch 54/100\n",
      "11/11 [==============================] - 1s 123ms/step - loss: 8.0425e-05 - val_loss: 8.0415e-04\n",
      "Epoch 55/100\n",
      "11/11 [==============================] - 1s 121ms/step - loss: 6.0612e-05 - val_loss: 7.5066e-04\n",
      "Epoch 56/100\n",
      "11/11 [==============================] - 1s 122ms/step - loss: 7.7231e-05 - val_loss: 7.9710e-04\n",
      "Epoch 57/100\n",
      "11/11 [==============================] - 1s 118ms/step - loss: 6.5078e-05 - val_loss: 8.0369e-04\n",
      "Epoch 58/100\n",
      "11/11 [==============================] - 1s 122ms/step - loss: 8.5089e-05 - val_loss: 8.8879e-04\n",
      "Epoch 59/100\n",
      "11/11 [==============================] - 1s 118ms/step - loss: 7.6962e-05 - val_loss: 0.0017\n",
      "Epoch 60/100\n",
      "11/11 [==============================] - 1s 122ms/step - loss: 7.3550e-05 - val_loss: 8.7512e-04\n",
      "Epoch 61/100\n",
      "11/11 [==============================] - 1s 120ms/step - loss: 6.0642e-05 - val_loss: 8.9132e-04\n",
      "Epoch 62/100\n",
      "11/11 [==============================] - 1s 120ms/step - loss: 8.3554e-05 - val_loss: 0.0013\n",
      "Epoch 63/100\n",
      "11/11 [==============================] - 1s 120ms/step - loss: 6.3494e-05 - val_loss: 5.1671e-04\n",
      "Epoch 64/100\n",
      "11/11 [==============================] - 1s 120ms/step - loss: 9.7214e-05 - val_loss: 6.8979e-04\n",
      "Epoch 65/100\n",
      "11/11 [==============================] - 1s 120ms/step - loss: 5.3781e-05 - val_loss: 6.3669e-04\n",
      "Epoch 66/100\n",
      "11/11 [==============================] - 1s 120ms/step - loss: 8.0644e-05 - val_loss: 5.9619e-04\n",
      "Epoch 67/100\n",
      "11/11 [==============================] - 1s 121ms/step - loss: 7.1545e-05 - val_loss: 0.0014\n",
      "Epoch 68/100\n",
      "11/11 [==============================] - 1s 123ms/step - loss: 8.3803e-05 - val_loss: 4.2934e-04\n",
      "Epoch 69/100\n",
      "11/11 [==============================] - 1s 121ms/step - loss: 6.9279e-05 - val_loss: 6.7160e-04\n",
      "Epoch 70/100\n",
      "11/11 [==============================] - 1s 121ms/step - loss: 7.9239e-05 - val_loss: 4.4406e-04\n",
      "Epoch 71/100\n",
      "11/11 [==============================] - 1s 125ms/step - loss: 6.7190e-05 - val_loss: 0.0012\n",
      "Epoch 72/100\n",
      "11/11 [==============================] - 1s 122ms/step - loss: 7.2788e-05 - val_loss: 6.1989e-04\n",
      "Epoch 73/100\n",
      "11/11 [==============================] - 1s 121ms/step - loss: 6.0342e-05 - val_loss: 6.3801e-04\n",
      "Epoch 74/100\n",
      "11/11 [==============================] - 1s 120ms/step - loss: 5.2638e-05 - val_loss: 5.9185e-04\n",
      "Epoch 75/100\n",
      "11/11 [==============================] - 1s 122ms/step - loss: 5.7613e-05 - val_loss: 6.7396e-04\n",
      "Epoch 76/100\n",
      "11/11 [==============================] - 1s 123ms/step - loss: 5.7148e-05 - val_loss: 7.2135e-04\n",
      "Epoch 77/100\n"
     ]
    },
    {
     "name": "stdout",
     "output_type": "stream",
     "text": [
      "11/11 [==============================] - 1s 122ms/step - loss: 7.0366e-05 - val_loss: 0.0013\n",
      "Epoch 78/100\n",
      "11/11 [==============================] - 1s 121ms/step - loss: 7.0554e-05 - val_loss: 4.7992e-04\n",
      "Epoch 79/100\n",
      "11/11 [==============================] - 1s 120ms/step - loss: 9.1706e-05 - val_loss: 9.1728e-04\n",
      "Epoch 80/100\n",
      "11/11 [==============================] - 1s 122ms/step - loss: 5.8860e-05 - val_loss: 3.9571e-04\n",
      "Epoch 81/100\n",
      "11/11 [==============================] - 1s 121ms/step - loss: 5.7043e-05 - val_loss: 6.4461e-04\n",
      "Epoch 82/100\n",
      "11/11 [==============================] - 1s 119ms/step - loss: 5.2984e-05 - val_loss: 7.7814e-04\n",
      "Epoch 83/100\n",
      "11/11 [==============================] - 1s 118ms/step - loss: 5.2398e-05 - val_loss: 6.0281e-04\n",
      "Epoch 84/100\n",
      "11/11 [==============================] - 1s 121ms/step - loss: 5.4873e-05 - val_loss: 5.4398e-04\n",
      "Epoch 85/100\n",
      "11/11 [==============================] - 1s 123ms/step - loss: 5.1601e-05 - val_loss: 4.8948e-04\n",
      "Epoch 86/100\n",
      "11/11 [==============================] - 1s 122ms/step - loss: 4.9993e-05 - val_loss: 4.2392e-04\n",
      "Epoch 87/100\n",
      "11/11 [==============================] - 1s 123ms/step - loss: 7.4514e-05 - val_loss: 5.3532e-04\n",
      "Epoch 88/100\n",
      "11/11 [==============================] - 1s 123ms/step - loss: 5.7031e-05 - val_loss: 4.5269e-04\n",
      "Epoch 89/100\n",
      "11/11 [==============================] - 1s 124ms/step - loss: 5.9783e-05 - val_loss: 4.5658e-04\n",
      "Epoch 90/100\n",
      "11/11 [==============================] - 1s 124ms/step - loss: 4.4557e-05 - val_loss: 5.0077e-04\n",
      "Epoch 91/100\n",
      "11/11 [==============================] - 1s 123ms/step - loss: 4.1434e-05 - val_loss: 5.9465e-04\n",
      "Epoch 92/100\n",
      "11/11 [==============================] - 1s 120ms/step - loss: 4.5172e-05 - val_loss: 8.9729e-04\n",
      "Epoch 93/100\n",
      "11/11 [==============================] - 1s 120ms/step - loss: 3.6641e-05 - val_loss: 5.3775e-04\n",
      "Epoch 94/100\n",
      "11/11 [==============================] - 1s 122ms/step - loss: 3.6822e-05 - val_loss: 5.2188e-04\n",
      "Epoch 95/100\n",
      "11/11 [==============================] - 1s 126ms/step - loss: 5.5340e-05 - val_loss: 8.7600e-04\n",
      "Epoch 96/100\n",
      "11/11 [==============================] - 1s 124ms/step - loss: 5.9197e-05 - val_loss: 5.6521e-04\n",
      "Epoch 97/100\n",
      "11/11 [==============================] - 1s 124ms/step - loss: 4.3957e-05 - val_loss: 8.2667e-04\n",
      "Epoch 98/100\n",
      "11/11 [==============================] - 1s 123ms/step - loss: 4.4674e-05 - val_loss: 6.1267e-04\n",
      "Epoch 99/100\n",
      "11/11 [==============================] - 1s 124ms/step - loss: 5.1521e-05 - val_loss: 7.0424e-04\n",
      "Epoch 100/100\n",
      "11/11 [==============================] - 1s 122ms/step - loss: 5.3590e-05 - val_loss: 5.9660e-04\n"
     ]
    },
    {
     "data": {
      "text/plain": [
       "<tensorflow.python.keras.callbacks.History at 0x23daad724c0>"
      ]
     },
     "execution_count": 74,
     "metadata": {},
     "output_type": "execute_result"
    }
   ],
   "source": [
    "model.fit(X_train,y_train,validation_data=(X_test,ytest),epochs=100,batch_size=128,verbose=1)"
   ]
  },
  {
   "cell_type": "code",
   "execution_count": 75,
   "metadata": {},
   "outputs": [],
   "source": [
    "import tensorflow as tf\n",
    "### Do the prediction and check performance metrics\n",
    "train_predict=model.predict(X_train)\n",
    "test_predict=model.predict(X_test)\n",
    "##Transformback to original form\n",
    "train_predict=scaler.inverse_transform(train_predict)\n",
    "test_predict=scaler.inverse_transform(test_predict)\n",
    "### Calculate RMSE performance metrics"
   ]
  },
  {
   "cell_type": "code",
   "execution_count": 76,
   "metadata": {},
   "outputs": [
    {
     "data": {
      "text/plain": [
       "5256.759139479605"
      ]
     },
     "execution_count": 76,
     "metadata": {},
     "output_type": "execute_result"
    }
   ],
   "source": [
    "import math\n",
    "from sklearn.metrics import mean_squared_error\n",
    "math.sqrt(mean_squared_error(y_train,train_predict))"
   ]
  },
  {
   "cell_type": "code",
   "execution_count": 77,
   "metadata": {},
   "outputs": [
    {
     "data": {
      "text/plain": [
       "13882.518528991528"
      ]
     },
     "execution_count": 77,
     "metadata": {},
     "output_type": "execute_result"
    }
   ],
   "source": [
    "### Test Data RMSE\n",
    "math.sqrt(mean_squared_error(ytest,test_predict))"
   ]
  },
  {
   "cell_type": "code",
   "execution_count": 78,
   "metadata": {},
   "outputs": [
    {
     "data": {
      "image/png": "[encoded data removed]",
      "text/plain": [
       "<Figure size 432x288 with 1 Axes>"
      ]
     },
     "metadata": {
      "needs_background": "light"
     },
     "output_type": "display_data"
    }
   ],
   "source": [
    "# shift train predictions for plotting\n",
    "look_back=100\n",
    "trainPredictPlot = numpy.empty_like(df1)\n",
    "trainPredictPlot[:, :] = np.nan\n",
    "trainPredictPlot[look_back:len(train_predict)+look_back, :] = train_predict\n",
    "# shift test predictions for plotting\n",
    "testPredictPlot = numpy.empty_like(df1)\n",
    "testPredictPlot[:, :] = numpy.nan\n",
    "testPredictPlot[len(train_predict)+(look_back*2)+1:len(df1)-1, :] = test_predict\n",
    "# plot baseline and predictions\n",
    "plt.plot(scaler.inverse_transform(df1))\n",
    "plt.plot(trainPredictPlot)\n",
    "plt.plot(testPredictPlot)\n",
    "plt.show()"
   ]
  },
  {
   "cell_type": "code",
   "execution_count": 79,
   "metadata": {},
   "outputs": [
    {
     "data": {
      "text/plain": [
       "766"
      ]
     },
     "execution_count": 79,
     "metadata": {},
     "output_type": "execute_result"
    }
   ],
   "source": [
    "len(test_data)"
   ]
  },
  {
   "cell_type": "code",
   "execution_count": 80,
   "metadata": {},
   "outputs": [
    {
     "data": {
      "text/plain": [
       "(1, 59)"
      ]
     },
     "execution_count": 80,
     "metadata": {},
     "output_type": "execute_result"
    }
   ],
   "source": [
    "x_input=test_data[707:].reshape(1,-1)\n",
    "x_input.shape"
   ]
  },
  {
   "cell_type": "code",
   "execution_count": 81,
   "metadata": {},
   "outputs": [
    {
     "data": {
      "text/plain": [
       "[0.48775305584683243,\n",
       " 0.47966064082452203,\n",
       " 0.465761291177649,\n",
       " 0.4859635594336431,\n",
       " 0.47479638987713446,\n",
       " 0.4849929721395415,\n",
       " 0.5041416669738752,\n",
       " 0.5406777054206864,\n",
       " 0.5372814350596922,\n",
       " 0.5540319477994325,\n",
       " 0.5597554533687926,\n",
       " 0.5902360417772395,\n",
       " 0.5935503729155667,\n",
       " 0.6012283002689577,\n",
       " 0.6579856120414179,\n",
       " 0.671483841981787,\n",
       " 0.6547828954326432,\n",
       " 0.696437176318894,\n",
       " 0.7548193812741424,\n",
       " 0.8073208862062123,\n",
       " 0.8367305067224671,\n",
       " 0.8255349100965862,\n",
       " 0.7864041964415235,\n",
       " 0.7288909097029875,\n",
       " 0.695005031578456,\n",
       " 0.7649622097882324,\n",
       " 0.8035334818326629,\n",
       " 0.7548400774883385,\n",
       " 0.7414970690410544,\n",
       " 0.7335216237774966,\n",
       " 0.7508139823247163,\n",
       " 0.7392636512470824,\n",
       " 0.728501144715149,\n",
       " 0.6311529098600415,\n",
       " 0.6760963562758951,\n",
       " 0.6567564027905156,\n",
       " 0.6613276454846659,\n",
       " 0.6629153338380136,\n",
       " 0.6671097365997131,\n",
       " 0.6230478113567504,\n",
       " 0.6481382882143601,\n",
       " 0.7031157671683709,\n",
       " 0.7021496492894134,\n",
       " 0.678335169582084,\n",
       " 0.6870518125621841,\n",
       " 0.7277288624458346,\n",
       " 0.7681726975558157,\n",
       " 0.756916059212854,\n",
       " 0.7820309366523358,\n",
       " 0.8051555967448483,\n",
       " 0.7976809672632187,\n",
       " 0.9480315228529401,\n",
       " 0.9538995796987703,\n",
       " 0.9216788999975104,\n",
       " 0.9833434254412412,\n",
       " 0.9750047900856873,\n",
       " 0.966772212656633,\n",
       " 0.9999999999999999,\n",
       " 0.9576581543377047]"
      ]
     },
     "execution_count": 81,
     "metadata": {},
     "output_type": "execute_result"
    }
   ],
   "source": [
    "temp_input=list(x_input)\n",
    "temp_input=temp_input[0].tolist()\n",
    "\n",
    "temp_input"
   ]
  },
  {
   "cell_type": "code",
   "execution_count": 82,
   "metadata": {},
   "outputs": [
    {
     "ename": "ValueError",
     "evalue": "cannot reshape array of size 59 into shape (1,103,1)",
     "output_type": "error",
     "traceback": [
      "\u001b[1;31m---------------------------------------------------------------------------\u001b[0m",
      "\u001b[1;31mValueError\u001b[0m                                Traceback (most recent call last)",
      "\u001b[1;32m<ipython-input-82-6293211e3e57>\u001b[0m in \u001b[0;36m<module>\u001b[1;34m\u001b[0m\n\u001b[0;32m     22\u001b[0m         \u001b[0mi\u001b[0m\u001b[1;33m=\u001b[0m\u001b[0mi\u001b[0m\u001b[1;33m+\u001b[0m\u001b[1;36m1\u001b[0m\u001b[1;33m\u001b[0m\u001b[1;33m\u001b[0m\u001b[0m\n\u001b[0;32m     23\u001b[0m     \u001b[1;32melse\u001b[0m\u001b[1;33m:\u001b[0m\u001b[1;33m\u001b[0m\u001b[1;33m\u001b[0m\u001b[0m\n\u001b[1;32m---> 24\u001b[1;33m         \u001b[0mx_input\u001b[0m \u001b[1;33m=\u001b[0m \u001b[0mx_input\u001b[0m\u001b[1;33m.\u001b[0m\u001b[0mreshape\u001b[0m\u001b[1;33m(\u001b[0m\u001b[1;33m(\u001b[0m\u001b[1;36m1\u001b[0m\u001b[1;33m,\u001b[0m \u001b[0mn_steps\u001b[0m\u001b[1;33m,\u001b[0m\u001b[1;36m1\u001b[0m\u001b[1;33m)\u001b[0m\u001b[1;33m)\u001b[0m\u001b[1;33m\u001b[0m\u001b[1;33m\u001b[0m\u001b[0m\n\u001b[0m\u001b[0;32m     25\u001b[0m         \u001b[0myhat\u001b[0m \u001b[1;33m=\u001b[0m \u001b[0mmodel\u001b[0m\u001b[1;33m.\u001b[0m\u001b[0mpredict\u001b[0m\u001b[1;33m(\u001b[0m\u001b[0mx_input\u001b[0m\u001b[1;33m,\u001b[0m \u001b[0mverbose\u001b[0m\u001b[1;33m=\u001b[0m\u001b[1;36m0\u001b[0m\u001b[1;33m)\u001b[0m\u001b[1;33m\u001b[0m\u001b[1;33m\u001b[0m\u001b[0m\n\u001b[0;32m     26\u001b[0m         \u001b[0mprint\u001b[0m\u001b[1;33m(\u001b[0m\u001b[0myhat\u001b[0m\u001b[1;33m[\u001b[0m\u001b[1;36m0\u001b[0m\u001b[1;33m]\u001b[0m\u001b[1;33m)\u001b[0m\u001b[1;33m\u001b[0m\u001b[1;33m\u001b[0m\u001b[0m\n",
      "\u001b[1;31mValueError\u001b[0m: cannot reshape array of size 59 into shape (1,103,1)"
     ]
    }
   ],
   "source": [
    "# demonstrate prediction for next 10 days\n",
    "from numpy import array\n",
    "\n",
    "lst_output=[]\n",
    "n_steps=103\n",
    "i=0\n",
    "while(i<30):\n",
    "    \n",
    "    if(len(temp_input)>100):\n",
    "        #print(temp_input)\n",
    "        x_input=np.array(temp_input[1:])\n",
    "        print(\"{} day input {}\".format(i,x_input))\n",
    "        x_input=x_input.reshape(1,-1)\n",
    "        x_input = x_input.reshape((1, n_steps, 1))\n",
    "        #print(x_input)\n",
    "        yhat = model.predict(x_input, verbose=0)\n",
    "        print(\"{} day output {}\".format(i,yhat))\n",
    "        temp_input.extend(yhat[0].tolist())\n",
    "        temp_input=temp_input[1:]\n",
    "        #print(temp_input)\n",
    "        lst_output.extend(yhat.tolist())\n",
    "        i=i+1\n",
    "    else:\n",
    "        x_input = x_input.reshape((1, n_steps,1))\n",
    "        yhat = model.predict(x_input, verbose=0)\n",
    "        print(yhat[0])\n",
    "        temp_input.extend(yhat[0].tolist())\n",
    "        print(len(temp_input))\n",
    "        lst_output.extend(yhat.tolist())\n",
    "        i=i+1\n",
    "    \n",
    "\n",
    "print(lst_output)"
   ]
  },
  {
   "cell_type": "code",
   "execution_count": null,
   "metadata": {},
   "outputs": [],
   "source": [
    "day_new=np.arange(1,101)\n",
    "day_pred=np.arange(101,131)"
   ]
  },
  {
   "cell_type": "code",
   "execution_count": null,
   "metadata": {},
   "outputs": [],
   "source": [
    "import matplotlib.pyplot as plt"
   ]
  },
  {
   "cell_type": "code",
   "execution_count": null,
   "metadata": {},
   "outputs": [],
   "source": [
    "len(df1)"
   ]
  },
  {
   "cell_type": "code",
   "execution_count": null,
   "metadata": {},
   "outputs": [],
   "source": [
    "plt.plot(day_new,scaler.inverse_transform(df1[2205:]))\n",
    "plt.plot(day_pred,scaler.inverse_transform(lst_output))"
   ]
  },
  {
   "cell_type": "code",
   "execution_count": null,
   "metadata": {},
   "outputs": [],
   "source": [
    "df3=df1.tolist()\n",
    "df3.extend(lst_output)\n",
    "plt.plot(df3[2206:])"
   ]
  },
  {
   "cell_type": "code",
   "execution_count": null,
   "metadata": {},
   "outputs": [],
   "source": [
    "df3=scaler.inverse_transform(df3).tolist()\n",
    "plt.plot(df3)"
   ]
  }
 ],
 "metadata": {
  "kernelspec": {
   "display_name": "Python 3",
   "language": "python",
   "name": "python3"
  },
  "language_info": {
   "codemirror_mode": {
    "name": "ipython",
    "version": 3
   },
   "file_extension": ".py",
   "mimetype": "text/x-python",
   "name": "python",
   "nbconvert_exporter": "python",
   "pygments_lexer": "ipython3",
   "version": "3.8.5"
  }
 },
 "nbformat": 4,
 "nbformat_minor": 4
}
