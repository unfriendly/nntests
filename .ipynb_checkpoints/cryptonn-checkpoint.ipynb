{
 "cells": [
  {
   "cell_type": "raw",
   "metadata": {},
   "source": [
    "#Prepare 'System' if Conditions not met\n",
    "\n",
    "#!pip install --upgrade pip\n",
    "\n",
    "!pip install tensorflow tensorflow-gpu matplot numpy pandas sklearn keras seaborn requests"
   ]
  },
  {
   "cell_type": "code",
   "execution_count": 1,
   "metadata": {},
   "outputs": [],
   "source": [
    "##Created By Unfriendly \n",
    "#(A simple Jupyter Notebook in Binder for Crypto price prediction)\n",
    "\n",
    "historical_start = \"6yr,0mon,0day,0hr,0min,0sec\"\n",
    "# How long to historically look back at data\n",
    "\n",
    "predict_into = \"0yr,0mon,10day,0hr,0min,0sec\" \n",
    "# How far to try and predict into the future"
   ]
  },
  {
   "cell_type": "code",
   "execution_count": 2,
   "metadata": {},
   "outputs": [],
   "source": [
    "import os, glob\n",
    "for dirname, _, filenames in os.walk('/unfriendly/input'):\n",
    "    for filename in filenames:\n",
    "        print(os.path.join(dirname, filename))"
   ]
  },
  {
   "cell_type": "code",
   "execution_count": 3,
   "metadata": {},
   "outputs": [],
   "source": [
    "import json\n",
    "import requests\n",
    "from keras.models import Sequential\n",
    "from keras.layers import Activation, Dense, Dropout, LSTM\n",
    "import matplotlib.pyplot as plt\n",
    "import numpy as np\n",
    "import pandas as pd\n",
    "import seaborn as sns\n",
    "from sklearn.metrics import mean_absolute_error\n",
    "%matplotlib inline"
   ]
  },
  {
   "cell_type": "code",
   "execution_count": 4,
   "metadata": {},
   "outputs": [],
   "source": [
    "import matplotlib.pyplot as plt"
   ]
  },
  {
   "cell_type": "code",
   "execution_count": 5,
   "metadata": {},
   "outputs": [],
   "source": [
    "# Prepare data timestamps\n",
    "import time\n",
    "from datetime import datetime, timezone, timedelta\n",
    "one_yr = 31536000000\n",
    "one_mon = one_yr/12\n",
    "one_day = one_yr/365\n",
    "one_hr = one_day/24\n",
    "one_min = one_hr/60\n",
    "one_sec = one_min/60"
   ]
  },
  {
   "cell_type": "code",
   "execution_count": 6,
   "metadata": {},
   "outputs": [
    {
     "name": "stdout",
     "output_type": "stream",
     "text": [
      "['6', '0', '0', '0', '0', '0']\n"
     ]
    }
   ],
   "source": [
    "# Prepare how far to look back in the past in UNIX time-format\n",
    "history_split = historical_start.replace('yr', '')\n",
    "history_res = history_split.replace('mon', '')\n",
    "history_split = history_res.replace('day', '')\n",
    "history_res = history_split.replace('hr', '')\n",
    "history_split = history_res.replace('min', '')\n",
    "history_res = history_split.replace('sec', '')\n",
    "history_split = history_res.split(\",\")\n",
    "print(history_split)"
   ]
  },
  {
   "cell_type": "code",
   "execution_count": 7,
   "metadata": {},
   "outputs": [
    {
     "name": "stdout",
     "output_type": "stream",
     "text": [
      "['0', '0', '10', '0', '0', '0']\n"
     ]
    }
   ],
   "source": [
    "# Prepare how far to predict into the future in UNIX time-format\n",
    "predict_split = predict_into.replace('yr', '')\n",
    "predict_res = predict_split.replace('mon', '')\n",
    "predict_split = predict_res.replace('day', '')\n",
    "predict_res = predict_split.replace('hr', '')\n",
    "predict_split = predict_res.replace('min', '')\n",
    "predict_res = predict_split.replace('sec', '')\n",
    "predict_split = predict_res.split(\",\")\n",
    "print(predict_split)"
   ]
  },
  {
   "cell_type": "code",
   "execution_count": 8,
   "metadata": {},
   "outputs": [],
   "source": [
    "history_array_yr = int(history_split[0])\n",
    "unix_hist_yr = one_yr*history_array_yr\n",
    "\n",
    "history_array_mon = int(history_split[1])\n",
    "unix_hist_mon = one_mon*history_array_mon\n",
    "\n",
    "history_array_day = int(history_split[2])\n",
    "unix_hist_day = one_day*history_array_day\n",
    "\n",
    "history_array_hr = int(history_split[3])\n",
    "unix_hist_hr = one_hr*history_array_hr\n",
    "\n",
    "history_array_min = int(history_split[4])\n",
    "unix_hist_min = one_min*history_array_min\n",
    "\n",
    "history_array_sec = int(history_split[5])\n",
    "unix_hist_sec = one_sec*history_array_sec"
   ]
  },
  {
   "cell_type": "code",
   "execution_count": 9,
   "metadata": {},
   "outputs": [],
   "source": [
    "predict_array_yr = int(predict_split[0])\n",
    "unix_pred_yr = one_yr*predict_array_yr\n",
    "\n",
    "predict_array_mon = int(predict_split[1])\n",
    "unix_pred_mon = one_mon*predict_array_mon\n",
    "\n",
    "predict_array_day = int(predict_split[2])\n",
    "unix_pred_day = one_day*predict_array_day\n",
    "\n",
    "predict_array_hr = int(predict_split[3])\n",
    "unix_pred_hr = one_hr*predict_array_hr\n",
    "\n",
    "predict_array_min = int(predict_split[4])\n",
    "unix_pred_min = one_min*predict_array_min\n",
    "\n",
    "predict_array_sec = int(predict_split[5])\n",
    "unix_pred_sec = one_sec*predict_array_sec\n",
    "\n",
    "unix_prediction = unix_pred_yr+unix_pred_mon+unix_pred_day+unix_pred_hr+unix_pred_min+unix_pred_sec"
   ]
  },
  {
   "cell_type": "code",
   "execution_count": 10,
   "metadata": {},
   "outputs": [
    {
     "name": "stdout",
     "output_type": "stream",
     "text": [
      "-187602627458 - start\n",
      "-310 - gather\n",
      "310 - positive gather\n"
     ]
    }
   ],
   "source": [
    "raw_time = time.time()\n",
    "int_time = int(raw_time)\n",
    "current_time = str(int_time)\n",
    "\n",
    "unix_start = unix_hist_yr+unix_hist_mon+unix_hist_day+unix_hist_hr+unix_hist_min+unix_hist_sec\n",
    "raw_start = raw_time - unix_start\n",
    "\n",
    "int_start = int(raw_start)\n",
    "start = str(int_start)\n",
    "\n",
    "#print(unix_hist_yr+history_array_mon+history_array_day+history_array_hr+history_array_min+history_array_sec)\n",
    "print(start + ' - start')\n",
    "\n",
    "gather_count = int_start/(7*one_day)\n",
    "gather_int = int(gather_count)\n",
    "gather_str = str(gather_int)\n",
    "pos_gather_count = abs(int(gather_count))\n",
    "pos_gather_str = str(pos_gather_count)\n",
    "\n",
    "print(gather_str + ' - gather')\n",
    "print(pos_gather_str + ' - positive gather')"
   ]
  },
  {
   "cell_type": "code",
   "execution_count": 11,
   "metadata": {},
   "outputs": [
    {
     "name": "stdout",
     "output_type": "stream",
     "text": [
      "1613372541429.333\n",
      "1613372541429\n",
      "1424156541429\n",
      "1424156541.429333\n",
      "2021-02-15 07:02:21.429833+00:00\n",
      "2015-02-17 07:02:21.429333+00:00\n",
      "1424156541429\n",
      "1424779341429\n",
      "1613372541429\n",
      "13 Digit Microsecond TS: 1424156541429 - 10 Digit TS: 1424156541\n"
     ]
    }
   ],
   "source": [
    "print((datetime.now(timezone.utc) + timedelta(hours=0)).timestamp() * 1e3)\n",
    "\n",
    "dt = (datetime.now(timezone.utc) + timedelta(days=0)).timestamp() * 1e3\n",
    "\n",
    "c_dt = int(dt)\n",
    "\n",
    "c_dt_int = int(c_dt)\n",
    "print(str(c_dt_int))\n",
    "\n",
    "c_dt_array_year = history_array_yr*365\n",
    "\n",
    "history_array_comb = history_array_day + c_dt_array_year\n",
    "\n",
    "c_dt_start = (datetime.now(timezone.utc) + timedelta(days=-history_array_comb,hours=-history_array_hr,minutes=-history_array_min,seconds=-history_array_sec)).timestamp() * 1e3\n",
    "\n",
    "c_dt_start_int = int(c_dt_start)\n",
    "print(str(c_dt_start_int))\n",
    "\n",
    "c_dt_start_raw = (datetime.now(timezone.utc) + timedelta(days=-history_array_comb,hours=-history_array_hr,minutes=-history_array_min,seconds=-history_array_sec)).timestamp()\n",
    "c_dt_start_raw_int = int(c_dt_start_raw)\n",
    "print(str(c_dt_start_raw))       \n",
    "    \n",
    "data_count = 0\n",
    "\n",
    "c_dt_start_dt = datetime.utcfromtimestamp(c_dt_start_raw).strftime('%Y-%m-%d %H:%M:%S.%f+00:00')\n",
    "\n",
    "print(datetime.now(timezone.utc))\n",
    "print(datetime.utcfromtimestamp(c_dt_start_raw).strftime('%Y-%m-%d %H:%M:%S.%f+00:00'))\n",
    "\n",
    "#c_dt_end = c_dt_start + timedelta(days=7).timestamp() * 1e3\n",
    "#c_dt_end = (c_dt_start_dt + timedelta(days=7)).timestamp() * 1e3\n",
    "\n",
    "c_dt_end = (datetime.utcfromtimestamp(c_dt_start_raw) + timedelta(days=7)).timestamp() * 1e3\n",
    "\n",
    "c_dt_start_int = int(c_dt_start)\n",
    "c_dt_end_int = int(c_dt_end)\n",
    "c_dt_end_str = str(c_dt_end)\n",
    "\n",
    "\n",
    "c_dt_str = str(c_dt)\n",
    "c_dt_start_str = str(c_dt_start_int)\n",
    "\n",
    "\n",
    "ts_ten_int = int(c_dt/1000)\n",
    "start_ten_int = int(c_dt_start_int/1000)\n",
    "\n",
    "ts_ten_str = str(ts_ten_int)\n",
    "start_ten_str = str(start_ten_int)\n",
    "\n",
    "\n",
    "print(c_dt_start_int)\n",
    "print(c_dt_end_int)\n",
    "print(c_dt_int)\n",
    "print('13 Digit Microsecond TS: ' + c_dt_start_str + ' - ' + '10 Digit TS: ' + start_ten_str)"
   ]
  },
  {
   "cell_type": "code",
   "execution_count": 12,
   "metadata": {},
   "outputs": [
    {
     "name": "stdout",
     "output_type": "stream",
     "text": [
      "https://query1.finance.yahoo.com/v7/finance/download/BTC-USD?period1=1424156541&period2=1613372541&interval=1d&events=history&includeAdjustedClose=true\n"
     ]
    }
   ],
   "source": [
    "import urllib.request\n",
    "\n",
    "#while count < pos_gather_count:\n",
    "while data_count < 1:\n",
    "    \n",
    "    #d_u=\"https://query1.finance.yahoo.com/v7/finance/download/BTC-USD?period1=1411862400&period2=\" + current_time + \"&interval=1d&events=history&includeAdjustedClose=true\"\n",
    "    #d_u=\"https://query1.finance.yahoo.com/v7/finance/download/BTC-USD?period1=1411862400&period2=1612158064&interval=1d&events=history&includeAdjustedClose=true\"\n",
    "    #d_u=\"https://query1.finance.yahoo.com/v7/finance/download/BTC-USD?period1=\"+dt_str+\"&period2=\"+dt_end_str+\"&interval=1d&events=history&includeAdjustedClose=true\"\n",
    "    #d_u=\"https://query1.finance.yahoo.com/v7/finance/download/BTC-USD?period1=\"+gather_str+\"&period2=\"+current_time+\"&interval=1m&events=history&includeAdjustedClose=true\"\n",
    "    \n",
    "    \n",
    "    d_u=\"https://query1.finance.yahoo.com/v7/finance/download/BTC-USD?period1=\"+start_ten_str+\"&period2=\"+ts_ten_str+\"&interval=1d&events=history&includeAdjustedClose=true\"\n",
    "    \n",
    "    print(d_u)\n",
    "    \n",
    "    with urllib.request.urlopen(d_u) as testfile, open('dataset.csv', 'w') as f:\n",
    "        f.write(testfile.read().decode())\n",
    "\n",
    "    data_count += 1  # This is the same as count = count + 1"
   ]
  },
  {
   "cell_type": "raw",
   "metadata": {},
   "source": [
    "print(start + ' - start')\n",
    "print(current_time + ' - current time')\n",
    "print(d_u + ' - url')\n",
    "    \n",
    "print(gather_count)\n",
    "#print(data_count)\n",
    "\n",
    "# List all CSV files in the working dir\n",
    "extension = \"csv\"\n",
    "all_filenames = [i for i in glob.glob('*.{}'.format(extension))]\n",
    "print(all_filenames)"
   ]
  },
  {
   "cell_type": "raw",
   "metadata": {},
   "source": [
    "import urllib.request\n",
    "d_u=\"https://query1.finance.yahoo.com/v7/finance/download/BTC-USD?period1=1411862400&period2=1612158064&interval=1d&events=history&includeAdjustedClose=true\"\n",
    "\n",
    "\n",
    "with urllib.request.urlopen(d_u) as testfile, open('dataset.csv', 'w') as f:\n",
    "    f.write(testfile.read().decode())"
   ]
  },
  {
   "cell_type": "code",
   "execution_count": 13,
   "metadata": {},
   "outputs": [
    {
     "data": {
      "text/html": [
       "<div>\n",
       "<style scoped>\n",
       "    .dataframe tbody tr th:only-of-type {\n",
       "        vertical-align: middle;\n",
       "    }\n",
       "\n",
       "    .dataframe tbody tr th {\n",
       "        vertical-align: top;\n",
       "    }\n",
       "\n",
       "    .dataframe thead th {\n",
       "        text-align: right;\n",
       "    }\n",
       "</style>\n",
       "<table border=\"1\" class=\"dataframe\">\n",
       "  <thead>\n",
       "    <tr style=\"text-align: right;\">\n",
       "      <th></th>\n",
       "      <th>Date</th>\n",
       "      <th>Open</th>\n",
       "      <th>High</th>\n",
       "      <th>Low</th>\n",
       "      <th>Close</th>\n",
       "      <th>Adj Close</th>\n",
       "      <th>Volume</th>\n",
       "    </tr>\n",
       "  </thead>\n",
       "  <tbody>\n",
       "    <tr>\n",
       "      <th>0</th>\n",
       "      <td>2015-02-17</td>\n",
       "      <td>233.421997</td>\n",
       "      <td>245.774994</td>\n",
       "      <td>232.313995</td>\n",
       "      <td>243.610001</td>\n",
       "      <td>243.610001</td>\n",
       "      <td>2.736310e+07</td>\n",
       "    </tr>\n",
       "    <tr>\n",
       "      <th>1</th>\n",
       "      <td>2015-02-18</td>\n",
       "      <td>243.779999</td>\n",
       "      <td>244.251007</td>\n",
       "      <td>232.339996</td>\n",
       "      <td>236.326004</td>\n",
       "      <td>236.326004</td>\n",
       "      <td>2.520080e+07</td>\n",
       "    </tr>\n",
       "    <tr>\n",
       "      <th>2</th>\n",
       "      <td>2015-02-19</td>\n",
       "      <td>236.410004</td>\n",
       "      <td>242.671997</td>\n",
       "      <td>235.591995</td>\n",
       "      <td>240.283005</td>\n",
       "      <td>240.283005</td>\n",
       "      <td>1.827050e+07</td>\n",
       "    </tr>\n",
       "    <tr>\n",
       "      <th>3</th>\n",
       "      <td>2015-02-20</td>\n",
       "      <td>240.251007</td>\n",
       "      <td>247.100998</td>\n",
       "      <td>239.298996</td>\n",
       "      <td>243.779007</td>\n",
       "      <td>243.779007</td>\n",
       "      <td>2.387670e+07</td>\n",
       "    </tr>\n",
       "    <tr>\n",
       "      <th>4</th>\n",
       "      <td>2015-02-21</td>\n",
       "      <td>243.751999</td>\n",
       "      <td>255.320007</td>\n",
       "      <td>243.184006</td>\n",
       "      <td>244.533997</td>\n",
       "      <td>244.533997</td>\n",
       "      <td>1.228420e+07</td>\n",
       "    </tr>\n",
       "    <tr>\n",
       "      <th>...</th>\n",
       "      <td>...</td>\n",
       "      <td>...</td>\n",
       "      <td>...</td>\n",
       "      <td>...</td>\n",
       "      <td>...</td>\n",
       "      <td>...</td>\n",
       "      <td>...</td>\n",
       "    </tr>\n",
       "    <tr>\n",
       "      <th>2186</th>\n",
       "      <td>2021-02-11</td>\n",
       "      <td>44898.710938</td>\n",
       "      <td>48463.468750</td>\n",
       "      <td>44187.761719</td>\n",
       "      <td>47909.332031</td>\n",
       "      <td>47909.332031</td>\n",
       "      <td>8.138891e+10</td>\n",
       "    </tr>\n",
       "    <tr>\n",
       "      <th>2187</th>\n",
       "      <td>2021-02-12</td>\n",
       "      <td>47877.035156</td>\n",
       "      <td>48745.734375</td>\n",
       "      <td>46424.976563</td>\n",
       "      <td>47504.851563</td>\n",
       "      <td>47504.851563</td>\n",
       "      <td>7.655504e+10</td>\n",
       "    </tr>\n",
       "    <tr>\n",
       "      <th>2188</th>\n",
       "      <td>2021-02-13</td>\n",
       "      <td>47491.203125</td>\n",
       "      <td>48047.746094</td>\n",
       "      <td>46392.281250</td>\n",
       "      <td>47105.515625</td>\n",
       "      <td>47105.515625</td>\n",
       "      <td>7.025046e+10</td>\n",
       "    </tr>\n",
       "    <tr>\n",
       "      <th>2189</th>\n",
       "      <td>2021-02-14</td>\n",
       "      <td>47114.507813</td>\n",
       "      <td>49487.640625</td>\n",
       "      <td>47114.507813</td>\n",
       "      <td>48717.289063</td>\n",
       "      <td>48717.289063</td>\n",
       "      <td>7.124868e+10</td>\n",
       "    </tr>\n",
       "    <tr>\n",
       "      <th>2190</th>\n",
       "      <td>2021-02-15</td>\n",
       "      <td>46768.753906</td>\n",
       "      <td>48875.570313</td>\n",
       "      <td>46347.476563</td>\n",
       "      <td>47018.882813</td>\n",
       "      <td>47018.882813</td>\n",
       "      <td>7.865230e+10</td>\n",
       "    </tr>\n",
       "  </tbody>\n",
       "</table>\n",
       "<p>2187 rows × 7 columns</p>\n",
       "</div>"
      ],
      "text/plain": [
       "            Date          Open          High           Low         Close  \\\n",
       "0     2015-02-17    233.421997    245.774994    232.313995    243.610001   \n",
       "1     2015-02-18    243.779999    244.251007    232.339996    236.326004   \n",
       "2     2015-02-19    236.410004    242.671997    235.591995    240.283005   \n",
       "3     2015-02-20    240.251007    247.100998    239.298996    243.779007   \n",
       "4     2015-02-21    243.751999    255.320007    243.184006    244.533997   \n",
       "...          ...           ...           ...           ...           ...   \n",
       "2186  2021-02-11  44898.710938  48463.468750  44187.761719  47909.332031   \n",
       "2187  2021-02-12  47877.035156  48745.734375  46424.976563  47504.851563   \n",
       "2188  2021-02-13  47491.203125  48047.746094  46392.281250  47105.515625   \n",
       "2189  2021-02-14  47114.507813  49487.640625  47114.507813  48717.289063   \n",
       "2190  2021-02-15  46768.753906  48875.570313  46347.476563  47018.882813   \n",
       "\n",
       "         Adj Close        Volume  \n",
       "0       243.610001  2.736310e+07  \n",
       "1       236.326004  2.520080e+07  \n",
       "2       240.283005  1.827050e+07  \n",
       "3       243.779007  2.387670e+07  \n",
       "4       244.533997  1.228420e+07  \n",
       "...            ...           ...  \n",
       "2186  47909.332031  8.138891e+10  \n",
       "2187  47504.851563  7.655504e+10  \n",
       "2188  47105.515625  7.025046e+10  \n",
       "2189  48717.289063  7.124868e+10  \n",
       "2190  47018.882813  7.865230e+10  \n",
       "\n",
       "[2187 rows x 7 columns]"
      ]
     },
     "execution_count": 13,
     "metadata": {},
     "output_type": "execute_result"
    }
   ],
   "source": [
    "data=pd.read_csv('dataset.csv')\n",
    "\n",
    "data.apply(pd.to_numeric, errors='coerce')\n",
    "\n",
    "#data=data.dropna()\n",
    "#data=data.dropna(inplace=True)\n",
    "#data=data.dropna(subset=['Close'])\n",
    "#data=data.dropna(how='any',axis=1)\n",
    "\n",
    "data.dropna(subset=['Close'], inplace=True)\n",
    "data.reset_index(drop=True)\n",
    "\n",
    "data"
   ]
  },
  {
   "cell_type": "code",
   "execution_count": 14,
   "metadata": {},
   "outputs": [
    {
     "data": {
      "text/plain": [
       "0         243.610001\n",
       "1         236.326004\n",
       "2         240.283005\n",
       "3         243.779007\n",
       "4         244.533997\n",
       "            ...     \n",
       "2186    47909.332031\n",
       "2187    47504.851563\n",
       "2188    47105.515625\n",
       "2189    48717.289063\n",
       "2190    47018.882813\n",
       "Name: Close, Length: 2187, dtype: float64"
      ]
     },
     "execution_count": 14,
     "metadata": {},
     "output_type": "execute_result"
    }
   ],
   "source": [
    "df1=data['Close']\n",
    "df1"
   ]
  },
  {
   "cell_type": "code",
   "execution_count": 15,
   "metadata": {},
   "outputs": [
    {
     "data": {
      "text/plain": [
       "[<matplotlib.lines.Line2D at 0x1a5a1e3a6d0>]"
      ]
     },
     "execution_count": 15,
     "metadata": {},
     "output_type": "execute_result"
    },
    {
     "data": {
      "image/png": "[encoded data removed]",
      "text/plain": [
       "<Figure size 432x288 with 1 Axes>"
      ]
     },
     "metadata": {
      "needs_background": "light"
     },
     "output_type": "display_data"
    }
   ],
   "source": [
    "plt.plot(df1)"
   ]
  },
  {
   "cell_type": "code",
   "execution_count": 16,
   "metadata": {},
   "outputs": [],
   "source": [
    "import numpy as np"
   ]
  },
  {
   "cell_type": "code",
   "execution_count": 17,
   "metadata": {},
   "outputs": [
    {
     "data": {
      "text/plain": [
       "0         243.610001\n",
       "1         236.326004\n",
       "2         240.283005\n",
       "3         243.779007\n",
       "4         244.533997\n",
       "            ...     \n",
       "2186    47909.332031\n",
       "2187    47504.851563\n",
       "2188    47105.515625\n",
       "2189    48717.289063\n",
       "2190    47018.882813\n",
       "Name: Close, Length: 2187, dtype: float64"
      ]
     },
     "execution_count": 17,
     "metadata": {},
     "output_type": "execute_result"
    }
   ],
   "source": [
    "df1"
   ]
  },
  {
   "cell_type": "code",
   "execution_count": 18,
   "metadata": {},
   "outputs": [],
   "source": [
    "from sklearn.preprocessing import MinMaxScaler\n",
    "scaler=MinMaxScaler(feature_range=(0,1))\n",
    "df1=scaler.fit_transform(np.array(df1).reshape(-1,1))"
   ]
  },
  {
   "cell_type": "code",
   "execution_count": 19,
   "metadata": {},
   "outputs": [],
   "source": [
    "training_size=int(len(df1)*0.65)\n",
    "test_size=len(df1)-training_size\n",
    "train_data,test_data=df1[0:training_size,:],df1[training_size:len(df1),:1]"
   ]
  },
  {
   "cell_type": "code",
   "execution_count": 20,
   "metadata": {},
   "outputs": [
    {
     "data": {
      "text/plain": [
       "(1421, 766)"
      ]
     },
     "execution_count": 20,
     "metadata": {},
     "output_type": "execute_result"
    }
   ],
   "source": [
    "training_size,test_size"
   ]
  },
  {
   "cell_type": "code",
   "execution_count": 21,
   "metadata": {},
   "outputs": [],
   "source": [
    "import numpy\n",
    "# convert an array of values into a dataset matrix\n",
    "def create_dataset(dataset, time_step=1):\n",
    "\tdataX, dataY = [], []\n",
    "\tfor i in range(len(dataset)-time_step-1):\n",
    "\t\ta = dataset[i:(i+time_step), 0]   ###i=0, 0,1,2,3-----99   100 \n",
    "\t\tdataX.append(a)\n",
    "\t\tdataY.append(dataset[i + time_step, 0])\n",
    "\treturn numpy.array(dataX), numpy.array(dataY)"
   ]
  },
  {
   "cell_type": "code",
   "execution_count": 22,
   "metadata": {},
   "outputs": [],
   "source": [
    "# reshape into X=t,t+1,t+2,t+3 and Y=t+4\n",
    "time_step = 100\n",
    "X_train, y_train = create_dataset(train_data, time_step)\n",
    "X_test, ytest = create_dataset(test_data, time_step)"
   ]
  },
  {
   "cell_type": "code",
   "execution_count": 23,
   "metadata": {},
   "outputs": [
    {
     "name": "stdout",
     "output_type": "stream",
     "text": [
      "(1320, 100)\n",
      "(1320,)\n"
     ]
    },
    {
     "data": {
      "text/plain": [
       "(None, None)"
      ]
     },
     "execution_count": 23,
     "metadata": {},
     "output_type": "execute_result"
    }
   ],
   "source": [
    "print(X_train.shape), print(y_train.shape)"
   ]
  },
  {
   "cell_type": "markdown",
   "metadata": {},
   "source": []
  },
  {
   "cell_type": "code",
   "execution_count": 24,
   "metadata": {},
   "outputs": [
    {
     "name": "stdout",
     "output_type": "stream",
     "text": [
      "(665, 100)\n",
      "(665,)\n"
     ]
    },
    {
     "data": {
      "text/plain": [
       "(None, None)"
      ]
     },
     "execution_count": 24,
     "metadata": {},
     "output_type": "execute_result"
    }
   ],
   "source": [
    "print(X_test.shape), print(ytest.shape)"
   ]
  },
  {
   "cell_type": "code",
   "execution_count": 25,
   "metadata": {},
   "outputs": [
    {
     "data": {
      "text/plain": [
       "100"
      ]
     },
     "execution_count": 25,
     "metadata": {},
     "output_type": "execute_result"
    }
   ],
   "source": [
    "X_train.shape[1]"
   ]
  },
  {
   "cell_type": "code",
   "execution_count": 26,
   "metadata": {},
   "outputs": [],
   "source": [
    "# reshape input to be [samples, time steps, features] which is required for LSTM\n",
    "X_train =X_train.reshape(X_train.shape[0],X_train.shape[1] , 1)\n",
    "X_test = X_test.reshape(X_test.shape[0],X_test.shape[1] , 1)"
   ]
  },
  {
   "cell_type": "code",
   "execution_count": 27,
   "metadata": {},
   "outputs": [],
   "source": [
    "### Create the Stacked LSTM model\n",
    "from tensorflow.keras.models import Sequential\n",
    "from tensorflow.keras.layers import Dense\n",
    "from tensorflow.keras.layers import LSTM\n",
    "from keras.optimizers import Adam"
   ]
  },
  {
   "cell_type": "code",
   "execution_count": 28,
   "metadata": {},
   "outputs": [],
   "source": [
    "#opt = Adam(lr=0.0001)\n",
    "opt = Adam(lr=0.0025)\n",
    "\n",
    "model=Sequential()\n",
    "model.add(LSTM(50,return_sequences=True,input_shape=(100,1)))\n",
    "model.add(LSTM(50,return_sequences=True))\n",
    "model.add(LSTM(50))\n",
    "model.add(Dense(1))\n",
    "#model.compile(loss='mean_squared_error',optimizer='adam')\n",
    "model.compile(optimizer=opt, loss='mean_squared_error')"
   ]
  },
  {
   "cell_type": "code",
   "execution_count": 29,
   "metadata": {},
   "outputs": [
    {
     "name": "stdout",
     "output_type": "stream",
     "text": [
      "Model: \"sequential\"\n",
      "_________________________________________________________________\n",
      "Layer (type)                 Output Shape              Param #   \n",
      "=================================================================\n",
      "lstm (LSTM)                  (None, 100, 50)           10400     \n",
      "_________________________________________________________________\n",
      "lstm_1 (LSTM)                (None, 100, 50)           20200     \n",
      "_________________________________________________________________\n",
      "lstm_2 (LSTM)                (None, 50)                20200     \n",
      "_________________________________________________________________\n",
      "dense (Dense)                (None, 1)                 51        \n",
      "=================================================================\n",
      "Total params: 50,851\n",
      "Trainable params: 50,851\n",
      "Non-trainable params: 0\n",
      "_________________________________________________________________\n"
     ]
    }
   ],
   "source": [
    "model.summary()"
   ]
  },
  {
   "cell_type": "code",
   "execution_count": 30,
   "metadata": {},
   "outputs": [
    {
     "name": "stdout",
     "output_type": "stream",
     "text": [
      "Epoch 1/100\n",
      "11/11 [==============================] - 6s 173ms/step - loss: 0.0057 - val_loss: 0.0082\n",
      "Epoch 2/100\n",
      "11/11 [==============================] - 0s 29ms/step - loss: 9.8832e-04 - val_loss: 0.0017\n",
      "Epoch 3/100\n",
      "11/11 [==============================] - 0s 28ms/step - loss: 4.6369e-04 - val_loss: 0.0044\n",
      "Epoch 4/100\n",
      "11/11 [==============================] - 0s 30ms/step - loss: 2.7162e-04 - val_loss: 0.0036\n",
      "Epoch 5/100\n",
      "11/11 [==============================] - 0s 28ms/step - loss: 2.2328e-04 - val_loss: 0.0022\n",
      "Epoch 6/100\n",
      "11/11 [==============================] - 0s 26ms/step - loss: 2.5663e-04 - val_loss: 0.0030\n",
      "Epoch 7/100\n",
      "11/11 [==============================] - 0s 31ms/step - loss: 2.1172e-04 - val_loss: 0.0040\n",
      "Epoch 8/100\n",
      "11/11 [==============================] - 0s 28ms/step - loss: 2.5344e-04 - val_loss: 0.0040\n",
      "Epoch 9/100\n",
      "11/11 [==============================] - 0s 29ms/step - loss: 2.1952e-04 - val_loss: 0.0057\n",
      "Epoch 10/100\n",
      "11/11 [==============================] - 0s 31ms/step - loss: 2.2263e-04 - val_loss: 0.0039\n",
      "Epoch 11/100\n",
      "11/11 [==============================] - 0s 28ms/step - loss: 1.8664e-04 - val_loss: 0.0053\n",
      "Epoch 12/100\n",
      "11/11 [==============================] - 0s 28ms/step - loss: 1.8797e-04 - val_loss: 0.0036\n",
      "Epoch 13/100\n",
      "11/11 [==============================] - 0s 29ms/step - loss: 1.9681e-04 - val_loss: 0.0036\n",
      "Epoch 14/100\n",
      "11/11 [==============================] - 0s 29ms/step - loss: 1.6699e-04 - val_loss: 0.0035\n",
      "Epoch 15/100\n",
      "11/11 [==============================] - 0s 30ms/step - loss: 1.6335e-04 - val_loss: 0.0033\n",
      "Epoch 16/100\n",
      "11/11 [==============================] - 0s 31ms/step - loss: 1.4053e-04 - val_loss: 0.0032\n",
      "Epoch 17/100\n",
      "11/11 [==============================] - 0s 27ms/step - loss: 1.8411e-04 - val_loss: 0.0027\n",
      "Epoch 18/100\n",
      "11/11 [==============================] - 0s 28ms/step - loss: 1.6607e-04 - val_loss: 0.0024\n",
      "Epoch 19/100\n",
      "11/11 [==============================] - 0s 27ms/step - loss: 1.8650e-04 - val_loss: 0.0017\n",
      "Epoch 20/100\n",
      "11/11 [==============================] - 0s 26ms/step - loss: 1.5851e-04 - val_loss: 0.0016\n",
      "Epoch 21/100\n",
      "11/11 [==============================] - 0s 26ms/step - loss: 1.4118e-04 - val_loss: 0.0016\n",
      "Epoch 22/100\n",
      "11/11 [==============================] - 0s 25ms/step - loss: 1.2483e-04 - val_loss: 0.0015\n",
      "Epoch 23/100\n",
      "11/11 [==============================] - 0s 27ms/step - loss: 1.4069e-04 - val_loss: 0.0021\n",
      "Epoch 24/100\n",
      "11/11 [==============================] - 0s 26ms/step - loss: 1.4386e-04 - val_loss: 0.0018\n",
      "Epoch 25/100\n",
      "11/11 [==============================] - 0s 25ms/step - loss: 1.1501e-04 - val_loss: 0.0016\n",
      "Epoch 26/100\n",
      "11/11 [==============================] - 0s 29ms/step - loss: 1.1837e-04 - val_loss: 0.0020\n",
      "Epoch 27/100\n",
      "11/11 [==============================] - 0s 29ms/step - loss: 1.4239e-04 - val_loss: 0.0016\n",
      "Epoch 28/100\n",
      "11/11 [==============================] - 0s 28ms/step - loss: 1.2254e-04 - val_loss: 0.0025\n",
      "Epoch 29/100\n",
      "11/11 [==============================] - 0s 27ms/step - loss: 1.1935e-04 - val_loss: 0.0020\n",
      "Epoch 30/100\n",
      "11/11 [==============================] - 0s 26ms/step - loss: 1.2785e-04 - val_loss: 0.0012\n",
      "Epoch 31/100\n",
      "11/11 [==============================] - 0s 30ms/step - loss: 1.1693e-04 - val_loss: 0.0017\n",
      "Epoch 32/100\n",
      "11/11 [==============================] - 0s 29ms/step - loss: 9.3567e-05 - val_loss: 0.0010\n",
      "Epoch 33/100\n",
      "11/11 [==============================] - 0s 27ms/step - loss: 1.2575e-04 - val_loss: 8.5732e-04\n",
      "Epoch 34/100\n",
      "11/11 [==============================] - 0s 26ms/step - loss: 1.3851e-04 - val_loss: 0.0014\n",
      "Epoch 35/100\n",
      "11/11 [==============================] - 0s 27ms/step - loss: 1.2238e-04 - val_loss: 0.0020\n",
      "Epoch 36/100\n",
      "11/11 [==============================] - 0s 27ms/step - loss: 1.2460e-04 - val_loss: 0.0011\n",
      "Epoch 37/100\n",
      "11/11 [==============================] - 0s 29ms/step - loss: 9.8125e-05 - val_loss: 8.7505e-04\n",
      "Epoch 38/100\n",
      "11/11 [==============================] - 0s 27ms/step - loss: 1.0075e-04 - val_loss: 6.1498e-04\n",
      "Epoch 39/100\n",
      "11/11 [==============================] - 0s 29ms/step - loss: 1.1889e-04 - val_loss: 6.1523e-04\n",
      "Epoch 40/100\n",
      "11/11 [==============================] - 0s 28ms/step - loss: 9.8714e-05 - val_loss: 5.2758e-04\n",
      "Epoch 41/100\n",
      "11/11 [==============================] - 0s 27ms/step - loss: 9.0528e-05 - val_loss: 6.9597e-04\n",
      "Epoch 42/100\n",
      "11/11 [==============================] - 0s 29ms/step - loss: 9.4158e-05 - val_loss: 7.8423e-04\n",
      "Epoch 43/100\n",
      "11/11 [==============================] - 0s 28ms/step - loss: 1.2019e-04 - val_loss: 0.0015\n",
      "Epoch 44/100\n",
      "11/11 [==============================] - 0s 28ms/step - loss: 1.1952e-04 - val_loss: 8.6861e-04\n",
      "Epoch 45/100\n",
      "11/11 [==============================] - 0s 27ms/step - loss: 1.0525e-04 - val_loss: 0.0014\n",
      "Epoch 46/100\n",
      "11/11 [==============================] - 0s 28ms/step - loss: 9.2805e-05 - val_loss: 8.3625e-04\n",
      "Epoch 47/100\n",
      "11/11 [==============================] - 0s 29ms/step - loss: 9.8079e-05 - val_loss: 0.0010\n",
      "Epoch 48/100\n",
      "11/11 [==============================] - 0s 29ms/step - loss: 9.7356e-05 - val_loss: 0.0013\n",
      "Epoch 49/100\n",
      "11/11 [==============================] - 0s 29ms/step - loss: 1.0286e-04 - val_loss: 0.0017\n",
      "Epoch 50/100\n",
      "11/11 [==============================] - 0s 27ms/step - loss: 1.0904e-04 - val_loss: 0.0025\n",
      "Epoch 51/100\n",
      "11/11 [==============================] - 0s 29ms/step - loss: 1.4837e-04 - val_loss: 0.0016\n",
      "Epoch 52/100\n",
      "11/11 [==============================] - 0s 29ms/step - loss: 8.6486e-05 - val_loss: 0.0014\n",
      "Epoch 53/100\n",
      "11/11 [==============================] - 0s 30ms/step - loss: 8.0756e-05 - val_loss: 0.0014\n",
      "Epoch 54/100\n",
      "11/11 [==============================] - 0s 28ms/step - loss: 8.6173e-05 - val_loss: 7.5390e-04\n",
      "Epoch 55/100\n",
      "11/11 [==============================] - 0s 29ms/step - loss: 1.0833e-04 - val_loss: 0.0011\n",
      "Epoch 56/100\n",
      "11/11 [==============================] - 0s 27ms/step - loss: 9.8954e-05 - val_loss: 0.0010\n",
      "Epoch 57/100\n",
      "11/11 [==============================] - 0s 26ms/step - loss: 9.4180e-05 - val_loss: 9.1621e-04\n",
      "Epoch 58/100\n",
      "11/11 [==============================] - 0s 27ms/step - loss: 8.8204e-05 - val_loss: 8.1693e-04\n",
      "Epoch 59/100\n",
      "11/11 [==============================] - 0s 31ms/step - loss: 7.7178e-05 - val_loss: 8.4591e-04\n",
      "Epoch 60/100\n",
      "11/11 [==============================] - 0s 29ms/step - loss: 8.4097e-05 - val_loss: 8.9510e-04\n",
      "Epoch 61/100\n",
      "11/11 [==============================] - 0s 27ms/step - loss: 8.2270e-05 - val_loss: 7.4779e-04\n",
      "Epoch 62/100\n",
      "11/11 [==============================] - 0s 28ms/step - loss: 1.1017e-04 - val_loss: 7.0393e-04\n",
      "Epoch 63/100\n",
      "11/11 [==============================] - 0s 27ms/step - loss: 8.3883e-05 - val_loss: 6.8811e-04\n",
      "Epoch 64/100\n",
      "11/11 [==============================] - 0s 28ms/step - loss: 8.1254e-05 - val_loss: 7.1136e-04\n",
      "Epoch 65/100\n",
      "11/11 [==============================] - 0s 27ms/step - loss: 7.2555e-05 - val_loss: 0.0010\n",
      "Epoch 66/100\n",
      "11/11 [==============================] - 0s 28ms/step - loss: 7.5720e-05 - val_loss: 6.0642e-04\n",
      "Epoch 67/100\n",
      "11/11 [==============================] - 0s 26ms/step - loss: 8.6092e-05 - val_loss: 5.7480e-04\n",
      "Epoch 68/100\n",
      "11/11 [==============================] - 0s 27ms/step - loss: 9.1421e-05 - val_loss: 0.0012\n",
      "Epoch 69/100\n",
      "11/11 [==============================] - 0s 29ms/step - loss: 7.3879e-05 - val_loss: 9.4372e-04\n",
      "Epoch 70/100\n",
      "11/11 [==============================] - 0s 31ms/step - loss: 6.2507e-05 - val_loss: 6.1956e-04\n",
      "Epoch 71/100\n",
      "11/11 [==============================] - 0s 29ms/step - loss: 1.1947e-04 - val_loss: 0.0012\n",
      "Epoch 72/100\n",
      "11/11 [==============================] - 0s 29ms/step - loss: 1.0154e-04 - val_loss: 8.0505e-04\n",
      "Epoch 73/100\n",
      "11/11 [==============================] - 0s 27ms/step - loss: 7.8709e-05 - val_loss: 9.9704e-04\n",
      "Epoch 74/100\n",
      "11/11 [==============================] - 0s 28ms/step - loss: 7.4416e-05 - val_loss: 5.3599e-04\n",
      "Epoch 75/100\n",
      "11/11 [==============================] - 0s 27ms/step - loss: 8.6639e-05 - val_loss: 4.9814e-04\n",
      "Epoch 76/100\n",
      "11/11 [==============================] - 0s 29ms/step - loss: 8.8001e-05 - val_loss: 6.7798e-04\n",
      "Epoch 77/100\n",
      "11/11 [==============================] - 0s 30ms/step - loss: 5.7374e-05 - val_loss: 7.3831e-04\n",
      "Epoch 78/100\n"
     ]
    },
    {
     "name": "stdout",
     "output_type": "stream",
     "text": [
      "11/11 [==============================] - 0s 30ms/step - loss: 6.7669e-05 - val_loss: 7.2446e-04\n",
      "Epoch 79/100\n",
      "11/11 [==============================] - 0s 28ms/step - loss: 4.8898e-05 - val_loss: 8.4814e-04\n",
      "Epoch 80/100\n",
      "11/11 [==============================] - 0s 26ms/step - loss: 6.1840e-05 - val_loss: 8.0830e-04\n",
      "Epoch 81/100\n",
      "11/11 [==============================] - 0s 27ms/step - loss: 6.5222e-05 - val_loss: 6.3184e-04\n",
      "Epoch 82/100\n",
      "11/11 [==============================] - 0s 27ms/step - loss: 6.3913e-05 - val_loss: 7.7867e-04\n",
      "Epoch 83/100\n",
      "11/11 [==============================] - 0s 29ms/step - loss: 7.7003e-05 - val_loss: 4.6062e-04\n",
      "Epoch 84/100\n",
      "11/11 [==============================] - 0s 28ms/step - loss: 6.8701e-05 - val_loss: 5.3924e-04\n",
      "Epoch 85/100\n",
      "11/11 [==============================] - 0s 28ms/step - loss: 5.4095e-05 - val_loss: 5.8612e-04\n",
      "Epoch 86/100\n",
      "11/11 [==============================] - 0s 27ms/step - loss: 4.2260e-05 - val_loss: 7.0906e-04\n",
      "Epoch 87/100\n",
      "11/11 [==============================] - 0s 27ms/step - loss: 5.7419e-05 - val_loss: 0.0010\n",
      "Epoch 88/100\n",
      "11/11 [==============================] - 0s 26ms/step - loss: 7.9184e-05 - val_loss: 0.0012\n",
      "Epoch 89/100\n",
      "11/11 [==============================] - 0s 27ms/step - loss: 5.7404e-05 - val_loss: 9.5180e-04\n",
      "Epoch 90/100\n",
      "11/11 [==============================] - 0s 29ms/step - loss: 5.2442e-05 - val_loss: 7.9572e-04\n",
      "Epoch 91/100\n",
      "11/11 [==============================] - 0s 29ms/step - loss: 5.2301e-05 - val_loss: 7.8133e-04\n",
      "Epoch 92/100\n",
      "11/11 [==============================] - 0s 29ms/step - loss: 4.2842e-05 - val_loss: 5.7298e-04\n",
      "Epoch 93/100\n",
      "11/11 [==============================] - 0s 28ms/step - loss: 3.8931e-05 - val_loss: 6.0636e-04\n",
      "Epoch 94/100\n",
      "11/11 [==============================] - 0s 29ms/step - loss: 4.1468e-05 - val_loss: 5.9889e-04\n",
      "Epoch 95/100\n",
      "11/11 [==============================] - 0s 29ms/step - loss: 3.9181e-05 - val_loss: 8.1722e-04\n",
      "Epoch 96/100\n",
      "11/11 [==============================] - 0s 28ms/step - loss: 4.0131e-05 - val_loss: 0.0010\n",
      "Epoch 97/100\n",
      "11/11 [==============================] - 0s 28ms/step - loss: 4.5780e-05 - val_loss: 7.6712e-04\n",
      "Epoch 98/100\n",
      "11/11 [==============================] - 0s 29ms/step - loss: 4.4435e-05 - val_loss: 0.0016\n",
      "Epoch 99/100\n",
      "11/11 [==============================] - 0s 28ms/step - loss: 6.6795e-05 - val_loss: 6.4736e-04\n",
      "Epoch 100/100\n",
      "11/11 [==============================] - 0s 27ms/step - loss: 5.5352e-05 - val_loss: 8.7345e-04\n"
     ]
    },
    {
     "data": {
      "text/plain": [
       "<tensorflow.python.keras.callbacks.History at 0x1a5ba9fe9d0>"
      ]
     },
     "execution_count": 30,
     "metadata": {},
     "output_type": "execute_result"
    }
   ],
   "source": [
    "model.fit(X_train,y_train,validation_data=(X_test,ytest),epochs=100,batch_size=128,verbose=1)"
   ]
  },
  {
   "cell_type": "code",
   "execution_count": 31,
   "metadata": {},
   "outputs": [],
   "source": [
    "import tensorflow as tf\n",
    "### Do the prediction and check performance metrics\n",
    "train_predict=model.predict(X_train)\n",
    "test_predict=model.predict(X_test)\n",
    "##Transformback to original form\n",
    "train_predict=scaler.inverse_transform(train_predict)\n",
    "test_predict=scaler.inverse_transform(test_predict)\n",
    "### Calculate RMSE performance metrics"
   ]
  },
  {
   "cell_type": "code",
   "execution_count": 32,
   "metadata": {},
   "outputs": [
    {
     "data": {
      "text/plain": [
       "5069.5826101595685"
      ]
     },
     "execution_count": 32,
     "metadata": {},
     "output_type": "execute_result"
    }
   ],
   "source": [
    "import math\n",
    "from sklearn.metrics import mean_squared_error\n",
    "math.sqrt(mean_squared_error(y_train,train_predict))"
   ]
  },
  {
   "cell_type": "code",
   "execution_count": 33,
   "metadata": {},
   "outputs": [
    {
     "data": {
      "text/plain": [
       "13238.325152043248"
      ]
     },
     "execution_count": 33,
     "metadata": {},
     "output_type": "execute_result"
    }
   ],
   "source": [
    "### Test Data RMSE\n",
    "math.sqrt(mean_squared_error(ytest,test_predict))"
   ]
  },
  {
   "cell_type": "code",
   "execution_count": 34,
   "metadata": {},
   "outputs": [
    {
     "data": {
      "image/png": "[encoded data removed]",
      "text/plain": [
       "<Figure size 432x288 with 1 Axes>"
      ]
     },
     "metadata": {
      "needs_background": "light"
     },
     "output_type": "display_data"
    }
   ],
   "source": [
    "# shift train predictions for plotting\n",
    "look_back=100\n",
    "trainPredictPlot = numpy.empty_like(df1)\n",
    "trainPredictPlot[:, :] = np.nan\n",
    "trainPredictPlot[look_back:len(train_predict)+look_back, :] = train_predict\n",
    "# shift test predictions for plotting\n",
    "testPredictPlot = numpy.empty_like(df1)\n",
    "testPredictPlot[:, :] = numpy.nan\n",
    "testPredictPlot[len(train_predict)+(look_back*2)+1:len(df1)-1, :] = test_predict\n",
    "# plot baseline and predictions\n",
    "plt.plot(scaler.inverse_transform(df1))\n",
    "plt.plot(trainPredictPlot)\n",
    "plt.plot(testPredictPlot)\n",
    "plt.show()"
   ]
  },
  {
   "cell_type": "code",
   "execution_count": 35,
   "metadata": {},
   "outputs": [
    {
     "name": "stdout",
     "output_type": "stream",
     "text": [
      "766\n",
      "666\n"
     ]
    }
   ],
   "source": [
    "len(test_data)\n",
    "tdl_int = len(test_data)\n",
    "tdl_length = tdl_int - 100\n",
    "print(tdl_int)\n",
    "print(tdl_length)"
   ]
  },
  {
   "cell_type": "code",
   "execution_count": 36,
   "metadata": {},
   "outputs": [
    {
     "data": {
      "text/plain": [
       "(1, 100)"
      ]
     },
     "execution_count": 36,
     "metadata": {},
     "output_type": "execute_result"
    }
   ],
   "source": [
    "x_input=test_data[tdl_length:].reshape(1,-1)\n",
    "x_input.shape"
   ]
  },
  {
   "cell_type": "code",
   "execution_count": 37,
   "metadata": {},
   "outputs": [
    {
     "data": {
      "text/plain": [
       "[0.3147821389019199,\n",
       " 0.31174644141192354,\n",
       " 0.31089268294786293,\n",
       " 0.31935412650203027,\n",
       " 0.3312082165743183,\n",
       " 0.33206304206416354,\n",
       " 0.32691592964832344,\n",
       " 0.32459562002649567,\n",
       " 0.34027431930177343,\n",
       " 0.35943235561102227,\n",
       " 0.3627019926185241,\n",
       " 0.3629717277195834,\n",
       " 0.379551355882034,\n",
       " 0.3799825938024514,\n",
       " 0.37437038062220346,\n",
       " 0.37424914278092797,\n",
       " 0.38957367131929993,\n",
       " 0.38183570889131885,\n",
       " 0.3492320689809395,\n",
       " 0.3483616609523072,\n",
       " 0.36091684483327546,\n",
       " 0.37040150200016725,\n",
       " 0.40026023809741595,\n",
       " 0.3832968846783775,\n",
       " 0.3915038535710635,\n",
       " 0.3965403983622429,\n",
       " 0.3811686792592504,\n",
       " 0.39053777595450717,\n",
       " 0.39447311385237765,\n",
       " 0.3913088100069241,\n",
       " 0.373363152192893,\n",
       " 0.3781618920286711,\n",
       " 0.37220553408848306,\n",
       " 0.36795689438842183,\n",
       " 0.38331045397341434,\n",
       " 0.39029352860261274,\n",
       " 0.3924429536471506,\n",
       " 0.3959565159073379,\n",
       " 0.43499272764595615,\n",
       " 0.46580417337672986,\n",
       " 0.4726650438051787,\n",
       " 0.48775305584683243,\n",
       " 0.47966064082452203,\n",
       " 0.465761291177649,\n",
       " 0.4859635594336431,\n",
       " 0.47479638987713446,\n",
       " 0.4849929721395415,\n",
       " 0.5041416669738752,\n",
       " 0.5406777054206864,\n",
       " 0.5372814350596922,\n",
       " 0.5540319477994325,\n",
       " 0.5597554533687926,\n",
       " 0.5902360417772395,\n",
       " 0.5935503729155667,\n",
       " 0.6012283002689577,\n",
       " 0.6579856120414179,\n",
       " 0.671483841981787,\n",
       " 0.6547828954326432,\n",
       " 0.696437176318894,\n",
       " 0.7548193812741424,\n",
       " 0.8073208862062123,\n",
       " 0.8367305067224671,\n",
       " 0.8255349100965862,\n",
       " 0.7864041964415235,\n",
       " 0.7288909097029875,\n",
       " 0.695005031578456,\n",
       " 0.7649622097882324,\n",
       " 0.8035334818326629,\n",
       " 0.7548400774883385,\n",
       " 0.7414970690410544,\n",
       " 0.7335216237774966,\n",
       " 0.7508139823247163,\n",
       " 0.7392636512470824,\n",
       " 0.728501144715149,\n",
       " 0.6311529098600415,\n",
       " 0.6760963562758951,\n",
       " 0.6567564027905156,\n",
       " 0.6613276454846659,\n",
       " 0.6629153338380136,\n",
       " 0.6671097365997131,\n",
       " 0.6230478113567504,\n",
       " 0.6481382882143601,\n",
       " 0.7031157671683709,\n",
       " 0.7021496492894134,\n",
       " 0.678335169582084,\n",
       " 0.6870518125621841,\n",
       " 0.7277288624458346,\n",
       " 0.7681726975558157,\n",
       " 0.756916059212854,\n",
       " 0.7820309366523358,\n",
       " 0.8051555967448483,\n",
       " 0.7976809672632187,\n",
       " 0.9480315228529401,\n",
       " 0.9538995796987703,\n",
       " 0.9216788999975104,\n",
       " 0.9833434254412412,\n",
       " 0.9750047900856873,\n",
       " 0.966772212656633,\n",
       " 0.9999999999999999,\n",
       " 0.9649862192991138]"
      ]
     },
     "execution_count": 37,
     "metadata": {},
     "output_type": "execute_result"
    }
   ],
   "source": [
    "temp_input=list(x_input)\n",
    "temp_input=temp_input[0].tolist()\n",
    "\n",
    "temp_input"
   ]
  },
  {
   "cell_type": "code",
   "execution_count": 39,
   "metadata": {},
   "outputs": [
    {
     "name": "stdout",
     "output_type": "stream",
     "text": [
      "[0.7621823]\n",
      "101\n",
      "1 day input [0.31174644 0.31089268 0.31935413 0.33120822 0.33206304 0.32691593\n",
      " 0.32459562 0.34027432 0.35943236 0.36270199 0.36297173 0.37955136\n",
      " 0.37998259 0.37437038 0.37424914 0.38957367 0.38183571 0.34923207\n",
      " 0.34836166 0.36091684 0.3704015  0.40026024 0.38329688 0.39150385\n",
      " 0.3965404  0.38116868 0.39053778 0.39447311 0.39130881 0.37336315\n",
      " 0.37816189 0.37220553 0.36795689 0.38331045 0.39029353 0.39244295\n",
      " 0.39595652 0.43499273 0.46580417 0.47266504 0.48775306 0.47966064\n",
      " 0.46576129 0.48596356 0.47479639 0.48499297 0.50414167 0.54067771\n",
      " 0.53728144 0.55403195 0.55975545 0.59023604 0.59355037 0.6012283\n",
      " 0.65798561 0.67148384 0.6547829  0.69643718 0.75481938 0.80732089\n",
      " 0.83673051 0.82553491 0.7864042  0.72889091 0.69500503 0.76496221\n",
      " 0.80353348 0.75484008 0.74149707 0.73352162 0.75081398 0.73926365\n",
      " 0.72850114 0.63115291 0.67609636 0.6567564  0.66132765 0.66291533\n",
      " 0.66710974 0.62304781 0.64813829 0.70311577 0.70214965 0.67833517\n",
      " 0.68705181 0.72772886 0.7681727  0.75691606 0.78203094 0.8051556\n",
      " 0.79768097 0.94803152 0.95389958 0.9216789  0.98334343 0.97500479\n",
      " 0.96677221 1.         0.96498622 0.7621823 ]\n",
      "1 day output [[0.48999527]]\n",
      "2 day input [0.31089268 0.31935413 0.33120822 0.33206304 0.32691593 0.32459562\n",
      " 0.34027432 0.35943236 0.36270199 0.36297173 0.37955136 0.37998259\n",
      " 0.37437038 0.37424914 0.38957367 0.38183571 0.34923207 0.34836166\n",
      " 0.36091684 0.3704015  0.40026024 0.38329688 0.39150385 0.3965404\n",
      " 0.38116868 0.39053778 0.39447311 0.39130881 0.37336315 0.37816189\n",
      " 0.37220553 0.36795689 0.38331045 0.39029353 0.39244295 0.39595652\n",
      " 0.43499273 0.46580417 0.47266504 0.48775306 0.47966064 0.46576129\n",
      " 0.48596356 0.47479639 0.48499297 0.50414167 0.54067771 0.53728144\n",
      " 0.55403195 0.55975545 0.59023604 0.59355037 0.6012283  0.65798561\n",
      " 0.67148384 0.6547829  0.69643718 0.75481938 0.80732089 0.83673051\n",
      " 0.82553491 0.7864042  0.72889091 0.69500503 0.76496221 0.80353348\n",
      " 0.75484008 0.74149707 0.73352162 0.75081398 0.73926365 0.72850114\n",
      " 0.63115291 0.67609636 0.6567564  0.66132765 0.66291533 0.66710974\n",
      " 0.62304781 0.64813829 0.70311577 0.70214965 0.67833517 0.68705181\n",
      " 0.72772886 0.7681727  0.75691606 0.78203094 0.8051556  0.79768097\n",
      " 0.94803152 0.95389958 0.9216789  0.98334343 0.97500479 0.96677221\n",
      " 1.         0.96498622 0.7621823  0.48999527]\n",
      "2 day output [[0.32989347]]\n",
      "3 day input [0.31935413 0.33120822 0.33206304 0.32691593 0.32459562 0.34027432\n",
      " 0.35943236 0.36270199 0.36297173 0.37955136 0.37998259 0.37437038\n",
      " 0.37424914 0.38957367 0.38183571 0.34923207 0.34836166 0.36091684\n",
      " 0.3704015  0.40026024 0.38329688 0.39150385 0.3965404  0.38116868\n",
      " 0.39053778 0.39447311 0.39130881 0.37336315 0.37816189 0.37220553\n",
      " 0.36795689 0.38331045 0.39029353 0.39244295 0.39595652 0.43499273\n",
      " 0.46580417 0.47266504 0.48775306 0.47966064 0.46576129 0.48596356\n",
      " 0.47479639 0.48499297 0.50414167 0.54067771 0.53728144 0.55403195\n",
      " 0.55975545 0.59023604 0.59355037 0.6012283  0.65798561 0.67148384\n",
      " 0.6547829  0.69643718 0.75481938 0.80732089 0.83673051 0.82553491\n",
      " 0.7864042  0.72889091 0.69500503 0.76496221 0.80353348 0.75484008\n",
      " 0.74149707 0.73352162 0.75081398 0.73926365 0.72850114 0.63115291\n",
      " 0.67609636 0.6567564  0.66132765 0.66291533 0.66710974 0.62304781\n",
      " 0.64813829 0.70311577 0.70214965 0.67833517 0.68705181 0.72772886\n",
      " 0.7681727  0.75691606 0.78203094 0.8051556  0.79768097 0.94803152\n",
      " 0.95389958 0.9216789  0.98334343 0.97500479 0.96677221 1.\n",
      " 0.96498622 0.7621823  0.48999527 0.32989347]\n",
      "3 day output [[0.32145354]]\n",
      "4 day input [0.33120822 0.33206304 0.32691593 0.32459562 0.34027432 0.35943236\n",
      " 0.36270199 0.36297173 0.37955136 0.37998259 0.37437038 0.37424914\n",
      " 0.38957367 0.38183571 0.34923207 0.34836166 0.36091684 0.3704015\n",
      " 0.40026024 0.38329688 0.39150385 0.3965404  0.38116868 0.39053778\n",
      " 0.39447311 0.39130881 0.37336315 0.37816189 0.37220553 0.36795689\n",
      " 0.38331045 0.39029353 0.39244295 0.39595652 0.43499273 0.46580417\n",
      " 0.47266504 0.48775306 0.47966064 0.46576129 0.48596356 0.47479639\n",
      " 0.48499297 0.50414167 0.54067771 0.53728144 0.55403195 0.55975545\n",
      " 0.59023604 0.59355037 0.6012283  0.65798561 0.67148384 0.6547829\n",
      " 0.69643718 0.75481938 0.80732089 0.83673051 0.82553491 0.7864042\n",
      " 0.72889091 0.69500503 0.76496221 0.80353348 0.75484008 0.74149707\n",
      " 0.73352162 0.75081398 0.73926365 0.72850114 0.63115291 0.67609636\n",
      " 0.6567564  0.66132765 0.66291533 0.66710974 0.62304781 0.64813829\n",
      " 0.70311577 0.70214965 0.67833517 0.68705181 0.72772886 0.7681727\n",
      " 0.75691606 0.78203094 0.8051556  0.79768097 0.94803152 0.95389958\n",
      " 0.9216789  0.98334343 0.97500479 0.96677221 1.         0.96498622\n",
      " 0.7621823  0.48999527 0.32989347 0.32145354]\n",
      "4 day output [[0.37734416]]\n",
      "5 day input [0.33206304 0.32691593 0.32459562 0.34027432 0.35943236 0.36270199\n",
      " 0.36297173 0.37955136 0.37998259 0.37437038 0.37424914 0.38957367\n",
      " 0.38183571 0.34923207 0.34836166 0.36091684 0.3704015  0.40026024\n",
      " 0.38329688 0.39150385 0.3965404  0.38116868 0.39053778 0.39447311\n",
      " 0.39130881 0.37336315 0.37816189 0.37220553 0.36795689 0.38331045\n",
      " 0.39029353 0.39244295 0.39595652 0.43499273 0.46580417 0.47266504\n",
      " 0.48775306 0.47966064 0.46576129 0.48596356 0.47479639 0.48499297\n",
      " 0.50414167 0.54067771 0.53728144 0.55403195 0.55975545 0.59023604\n",
      " 0.59355037 0.6012283  0.65798561 0.67148384 0.6547829  0.69643718\n",
      " 0.75481938 0.80732089 0.83673051 0.82553491 0.7864042  0.72889091\n",
      " 0.69500503 0.76496221 0.80353348 0.75484008 0.74149707 0.73352162\n",
      " 0.75081398 0.73926365 0.72850114 0.63115291 0.67609636 0.6567564\n",
      " 0.66132765 0.66291533 0.66710974 0.62304781 0.64813829 0.70311577\n",
      " 0.70214965 0.67833517 0.68705181 0.72772886 0.7681727  0.75691606\n",
      " 0.78203094 0.8051556  0.79768097 0.94803152 0.95389958 0.9216789\n",
      " 0.98334343 0.97500479 0.96677221 1.         0.96498622 0.7621823\n",
      " 0.48999527 0.32989347 0.32145354 0.37734416]\n",
      "5 day output [[0.42825684]]\n",
      "6 day input [0.32691593 0.32459562 0.34027432 0.35943236 0.36270199 0.36297173\n",
      " 0.37955136 0.37998259 0.37437038 0.37424914 0.38957367 0.38183571\n",
      " 0.34923207 0.34836166 0.36091684 0.3704015  0.40026024 0.38329688\n",
      " 0.39150385 0.3965404  0.38116868 0.39053778 0.39447311 0.39130881\n",
      " 0.37336315 0.37816189 0.37220553 0.36795689 0.38331045 0.39029353\n",
      " 0.39244295 0.39595652 0.43499273 0.46580417 0.47266504 0.48775306\n",
      " 0.47966064 0.46576129 0.48596356 0.47479639 0.48499297 0.50414167\n",
      " 0.54067771 0.53728144 0.55403195 0.55975545 0.59023604 0.59355037\n",
      " 0.6012283  0.65798561 0.67148384 0.6547829  0.69643718 0.75481938\n",
      " 0.80732089 0.83673051 0.82553491 0.7864042  0.72889091 0.69500503\n",
      " 0.76496221 0.80353348 0.75484008 0.74149707 0.73352162 0.75081398\n",
      " 0.73926365 0.72850114 0.63115291 0.67609636 0.6567564  0.66132765\n",
      " 0.66291533 0.66710974 0.62304781 0.64813829 0.70311577 0.70214965\n",
      " 0.67833517 0.68705181 0.72772886 0.7681727  0.75691606 0.78203094\n",
      " 0.8051556  0.79768097 0.94803152 0.95389958 0.9216789  0.98334343\n",
      " 0.97500479 0.96677221 1.         0.96498622 0.7621823  0.48999527\n",
      " 0.32989347 0.32145354 0.37734416 0.42825684]\n",
      "6 day output [[0.45043015]]\n",
      "7 day input [0.32459562 0.34027432 0.35943236 0.36270199 0.36297173 0.37955136\n",
      " 0.37998259 0.37437038 0.37424914 0.38957367 0.38183571 0.34923207\n",
      " 0.34836166 0.36091684 0.3704015  0.40026024 0.38329688 0.39150385\n",
      " 0.3965404  0.38116868 0.39053778 0.39447311 0.39130881 0.37336315\n",
      " 0.37816189 0.37220553 0.36795689 0.38331045 0.39029353 0.39244295\n",
      " 0.39595652 0.43499273 0.46580417 0.47266504 0.48775306 0.47966064\n",
      " 0.46576129 0.48596356 0.47479639 0.48499297 0.50414167 0.54067771\n",
      " 0.53728144 0.55403195 0.55975545 0.59023604 0.59355037 0.6012283\n",
      " 0.65798561 0.67148384 0.6547829  0.69643718 0.75481938 0.80732089\n",
      " 0.83673051 0.82553491 0.7864042  0.72889091 0.69500503 0.76496221\n",
      " 0.80353348 0.75484008 0.74149707 0.73352162 0.75081398 0.73926365\n",
      " 0.72850114 0.63115291 0.67609636 0.6567564  0.66132765 0.66291533\n",
      " 0.66710974 0.62304781 0.64813829 0.70311577 0.70214965 0.67833517\n",
      " 0.68705181 0.72772886 0.7681727  0.75691606 0.78203094 0.8051556\n",
      " 0.79768097 0.94803152 0.95389958 0.9216789  0.98334343 0.97500479\n",
      " 0.96677221 1.         0.96498622 0.7621823  0.48999527 0.32989347\n",
      " 0.32145354 0.37734416 0.42825684 0.45043015]\n",
      "7 day output [[0.44264653]]\n",
      "8 day input [0.34027432 0.35943236 0.36270199 0.36297173 0.37955136 0.37998259\n",
      " 0.37437038 0.37424914 0.38957367 0.38183571 0.34923207 0.34836166\n",
      " 0.36091684 0.3704015  0.40026024 0.38329688 0.39150385 0.3965404\n",
      " 0.38116868 0.39053778 0.39447311 0.39130881 0.37336315 0.37816189\n",
      " 0.37220553 0.36795689 0.38331045 0.39029353 0.39244295 0.39595652\n",
      " 0.43499273 0.46580417 0.47266504 0.48775306 0.47966064 0.46576129\n",
      " 0.48596356 0.47479639 0.48499297 0.50414167 0.54067771 0.53728144\n",
      " 0.55403195 0.55975545 0.59023604 0.59355037 0.6012283  0.65798561\n",
      " 0.67148384 0.6547829  0.69643718 0.75481938 0.80732089 0.83673051\n",
      " 0.82553491 0.7864042  0.72889091 0.69500503 0.76496221 0.80353348\n",
      " 0.75484008 0.74149707 0.73352162 0.75081398 0.73926365 0.72850114\n",
      " 0.63115291 0.67609636 0.6567564  0.66132765 0.66291533 0.66710974\n",
      " 0.62304781 0.64813829 0.70311577 0.70214965 0.67833517 0.68705181\n",
      " 0.72772886 0.7681727  0.75691606 0.78203094 0.8051556  0.79768097\n",
      " 0.94803152 0.95389958 0.9216789  0.98334343 0.97500479 0.96677221\n",
      " 1.         0.96498622 0.7621823  0.48999527 0.32989347 0.32145354\n",
      " 0.37734416 0.42825684 0.45043015 0.44264653]\n",
      "8 day output [[0.41386044]]\n",
      "9 day input [0.35943236 0.36270199 0.36297173 0.37955136 0.37998259 0.37437038\n",
      " 0.37424914 0.38957367 0.38183571 0.34923207 0.34836166 0.36091684\n",
      " 0.3704015  0.40026024 0.38329688 0.39150385 0.3965404  0.38116868\n",
      " 0.39053778 0.39447311 0.39130881 0.37336315 0.37816189 0.37220553\n",
      " 0.36795689 0.38331045 0.39029353 0.39244295 0.39595652 0.43499273\n",
      " 0.46580417 0.47266504 0.48775306 0.47966064 0.46576129 0.48596356\n",
      " 0.47479639 0.48499297 0.50414167 0.54067771 0.53728144 0.55403195\n",
      " 0.55975545 0.59023604 0.59355037 0.6012283  0.65798561 0.67148384\n",
      " 0.6547829  0.69643718 0.75481938 0.80732089 0.83673051 0.82553491\n",
      " 0.7864042  0.72889091 0.69500503 0.76496221 0.80353348 0.75484008\n",
      " 0.74149707 0.73352162 0.75081398 0.73926365 0.72850114 0.63115291\n",
      " 0.67609636 0.6567564  0.66132765 0.66291533 0.66710974 0.62304781\n",
      " 0.64813829 0.70311577 0.70214965 0.67833517 0.68705181 0.72772886\n",
      " 0.7681727  0.75691606 0.78203094 0.8051556  0.79768097 0.94803152\n",
      " 0.95389958 0.9216789  0.98334343 0.97500479 0.96677221 1.\n",
      " 0.96498622 0.7621823  0.48999527 0.32989347 0.32145354 0.37734416\n",
      " 0.42825684 0.45043015 0.44264653 0.41386044]\n",
      "9 day output [[0.3766772]]\n",
      "10 day input [0.36270199 0.36297173 0.37955136 0.37998259 0.37437038 0.37424914\n",
      " 0.38957367 0.38183571 0.34923207 0.34836166 0.36091684 0.3704015\n",
      " 0.40026024 0.38329688 0.39150385 0.3965404  0.38116868 0.39053778\n",
      " 0.39447311 0.39130881 0.37336315 0.37816189 0.37220553 0.36795689\n",
      " 0.38331045 0.39029353 0.39244295 0.39595652 0.43499273 0.46580417\n",
      " 0.47266504 0.48775306 0.47966064 0.46576129 0.48596356 0.47479639\n",
      " 0.48499297 0.50414167 0.54067771 0.53728144 0.55403195 0.55975545\n",
      " 0.59023604 0.59355037 0.6012283  0.65798561 0.67148384 0.6547829\n",
      " 0.69643718 0.75481938 0.80732089 0.83673051 0.82553491 0.7864042\n",
      " 0.72889091 0.69500503 0.76496221 0.80353348 0.75484008 0.74149707\n",
      " 0.73352162 0.75081398 0.73926365 0.72850114 0.63115291 0.67609636\n",
      " 0.6567564  0.66132765 0.66291533 0.66710974 0.62304781 0.64813829\n",
      " 0.70311577 0.70214965 0.67833517 0.68705181 0.72772886 0.7681727\n",
      " 0.75691606 0.78203094 0.8051556  0.79768097 0.94803152 0.95389958\n",
      " 0.9216789  0.98334343 0.97500479 0.96677221 1.         0.96498622\n",
      " 0.7621823  0.48999527 0.32989347 0.32145354 0.37734416 0.42825684\n",
      " 0.45043015 0.44264653 0.41386044 0.37667719]\n",
      "10 day output [[0.34166685]]\n",
      "11 day input [0.36297173 0.37955136 0.37998259 0.37437038 0.37424914 0.38957367\n",
      " 0.38183571 0.34923207 0.34836166 0.36091684 0.3704015  0.40026024\n",
      " 0.38329688 0.39150385 0.3965404  0.38116868 0.39053778 0.39447311\n",
      " 0.39130881 0.37336315 0.37816189 0.37220553 0.36795689 0.38331045\n",
      " 0.39029353 0.39244295 0.39595652 0.43499273 0.46580417 0.47266504\n",
      " 0.48775306 0.47966064 0.46576129 0.48596356 0.47479639 0.48499297\n",
      " 0.50414167 0.54067771 0.53728144 0.55403195 0.55975545 0.59023604\n",
      " 0.59355037 0.6012283  0.65798561 0.67148384 0.6547829  0.69643718\n",
      " 0.75481938 0.80732089 0.83673051 0.82553491 0.7864042  0.72889091\n",
      " 0.69500503 0.76496221 0.80353348 0.75484008 0.74149707 0.73352162\n",
      " 0.75081398 0.73926365 0.72850114 0.63115291 0.67609636 0.6567564\n",
      " 0.66132765 0.66291533 0.66710974 0.62304781 0.64813829 0.70311577\n",
      " 0.70214965 0.67833517 0.68705181 0.72772886 0.7681727  0.75691606\n",
      " 0.78203094 0.8051556  0.79768097 0.94803152 0.95389958 0.9216789\n",
      " 0.98334343 0.97500479 0.96677221 1.         0.96498622 0.7621823\n",
      " 0.48999527 0.32989347 0.32145354 0.37734416 0.42825684 0.45043015\n",
      " 0.44264653 0.41386044 0.37667719 0.34166685]\n",
      "11 day output [[0.31358483]]\n",
      "12 day input [0.37955136 0.37998259 0.37437038 0.37424914 0.38957367 0.38183571\n",
      " 0.34923207 0.34836166 0.36091684 0.3704015  0.40026024 0.38329688\n",
      " 0.39150385 0.3965404  0.38116868 0.39053778 0.39447311 0.39130881\n",
      " 0.37336315 0.37816189 0.37220553 0.36795689 0.38331045 0.39029353\n",
      " 0.39244295 0.39595652 0.43499273 0.46580417 0.47266504 0.48775306\n",
      " 0.47966064 0.46576129 0.48596356 0.47479639 0.48499297 0.50414167\n",
      " 0.54067771 0.53728144 0.55403195 0.55975545 0.59023604 0.59355037\n",
      " 0.6012283  0.65798561 0.67148384 0.6547829  0.69643718 0.75481938\n",
      " 0.80732089 0.83673051 0.82553491 0.7864042  0.72889091 0.69500503\n",
      " 0.76496221 0.80353348 0.75484008 0.74149707 0.73352162 0.75081398\n",
      " 0.73926365 0.72850114 0.63115291 0.67609636 0.6567564  0.66132765\n",
      " 0.66291533 0.66710974 0.62304781 0.64813829 0.70311577 0.70214965\n",
      " 0.67833517 0.68705181 0.72772886 0.7681727  0.75691606 0.78203094\n",
      " 0.8051556  0.79768097 0.94803152 0.95389958 0.9216789  0.98334343\n",
      " 0.97500479 0.96677221 1.         0.96498622 0.7621823  0.48999527\n",
      " 0.32989347 0.32145354 0.37734416 0.42825684 0.45043015 0.44264653\n",
      " 0.41386044 0.37667719 0.34166685 0.31358483]\n",
      "12 day output [[0.29282752]]\n",
      "13 day input [0.37998259 0.37437038 0.37424914 0.38957367 0.38183571 0.34923207\n",
      " 0.34836166 0.36091684 0.3704015  0.40026024 0.38329688 0.39150385\n",
      " 0.3965404  0.38116868 0.39053778 0.39447311 0.39130881 0.37336315\n",
      " 0.37816189 0.37220553 0.36795689 0.38331045 0.39029353 0.39244295\n",
      " 0.39595652 0.43499273 0.46580417 0.47266504 0.48775306 0.47966064\n",
      " 0.46576129 0.48596356 0.47479639 0.48499297 0.50414167 0.54067771\n",
      " 0.53728144 0.55403195 0.55975545 0.59023604 0.59355037 0.6012283\n",
      " 0.65798561 0.67148384 0.6547829  0.69643718 0.75481938 0.80732089\n",
      " 0.83673051 0.82553491 0.7864042  0.72889091 0.69500503 0.76496221\n",
      " 0.80353348 0.75484008 0.74149707 0.73352162 0.75081398 0.73926365\n",
      " 0.72850114 0.63115291 0.67609636 0.6567564  0.66132765 0.66291533\n",
      " 0.66710974 0.62304781 0.64813829 0.70311577 0.70214965 0.67833517\n",
      " 0.68705181 0.72772886 0.7681727  0.75691606 0.78203094 0.8051556\n",
      " 0.79768097 0.94803152 0.95389958 0.9216789  0.98334343 0.97500479\n",
      " 0.96677221 1.         0.96498622 0.7621823  0.48999527 0.32989347\n",
      " 0.32145354 0.37734416 0.42825684 0.45043015 0.44264653 0.41386044\n",
      " 0.37667719 0.34166685 0.31358483 0.29282752]\n"
     ]
    },
    {
     "name": "stdout",
     "output_type": "stream",
     "text": [
      "13 day output [[0.27717584]]\n",
      "14 day input [0.37437038 0.37424914 0.38957367 0.38183571 0.34923207 0.34836166\n",
      " 0.36091684 0.3704015  0.40026024 0.38329688 0.39150385 0.3965404\n",
      " 0.38116868 0.39053778 0.39447311 0.39130881 0.37336315 0.37816189\n",
      " 0.37220553 0.36795689 0.38331045 0.39029353 0.39244295 0.39595652\n",
      " 0.43499273 0.46580417 0.47266504 0.48775306 0.47966064 0.46576129\n",
      " 0.48596356 0.47479639 0.48499297 0.50414167 0.54067771 0.53728144\n",
      " 0.55403195 0.55975545 0.59023604 0.59355037 0.6012283  0.65798561\n",
      " 0.67148384 0.6547829  0.69643718 0.75481938 0.80732089 0.83673051\n",
      " 0.82553491 0.7864042  0.72889091 0.69500503 0.76496221 0.80353348\n",
      " 0.75484008 0.74149707 0.73352162 0.75081398 0.73926365 0.72850114\n",
      " 0.63115291 0.67609636 0.6567564  0.66132765 0.66291533 0.66710974\n",
      " 0.62304781 0.64813829 0.70311577 0.70214965 0.67833517 0.68705181\n",
      " 0.72772886 0.7681727  0.75691606 0.78203094 0.8051556  0.79768097\n",
      " 0.94803152 0.95389958 0.9216789  0.98334343 0.97500479 0.96677221\n",
      " 1.         0.96498622 0.7621823  0.48999527 0.32989347 0.32145354\n",
      " 0.37734416 0.42825684 0.45043015 0.44264653 0.41386044 0.37667719\n",
      " 0.34166685 0.31358483 0.29282752 0.27717584]\n",
      "14 day output [[0.26425382]]\n",
      "15 day input [0.37424914 0.38957367 0.38183571 0.34923207 0.34836166 0.36091684\n",
      " 0.3704015  0.40026024 0.38329688 0.39150385 0.3965404  0.38116868\n",
      " 0.39053778 0.39447311 0.39130881 0.37336315 0.37816189 0.37220553\n",
      " 0.36795689 0.38331045 0.39029353 0.39244295 0.39595652 0.43499273\n",
      " 0.46580417 0.47266504 0.48775306 0.47966064 0.46576129 0.48596356\n",
      " 0.47479639 0.48499297 0.50414167 0.54067771 0.53728144 0.55403195\n",
      " 0.55975545 0.59023604 0.59355037 0.6012283  0.65798561 0.67148384\n",
      " 0.6547829  0.69643718 0.75481938 0.80732089 0.83673051 0.82553491\n",
      " 0.7864042  0.72889091 0.69500503 0.76496221 0.80353348 0.75484008\n",
      " 0.74149707 0.73352162 0.75081398 0.73926365 0.72850114 0.63115291\n",
      " 0.67609636 0.6567564  0.66132765 0.66291533 0.66710974 0.62304781\n",
      " 0.64813829 0.70311577 0.70214965 0.67833517 0.68705181 0.72772886\n",
      " 0.7681727  0.75691606 0.78203094 0.8051556  0.79768097 0.94803152\n",
      " 0.95389958 0.9216789  0.98334343 0.97500479 0.96677221 1.\n",
      " 0.96498622 0.7621823  0.48999527 0.32989347 0.32145354 0.37734416\n",
      " 0.42825684 0.45043015 0.44264653 0.41386044 0.37667719 0.34166685\n",
      " 0.31358483 0.29282752 0.27717584 0.26425382]\n",
      "15 day output [[0.2524459]]\n",
      "16 day input [0.38957367 0.38183571 0.34923207 0.34836166 0.36091684 0.3704015\n",
      " 0.40026024 0.38329688 0.39150385 0.3965404  0.38116868 0.39053778\n",
      " 0.39447311 0.39130881 0.37336315 0.37816189 0.37220553 0.36795689\n",
      " 0.38331045 0.39029353 0.39244295 0.39595652 0.43499273 0.46580417\n",
      " 0.47266504 0.48775306 0.47966064 0.46576129 0.48596356 0.47479639\n",
      " 0.48499297 0.50414167 0.54067771 0.53728144 0.55403195 0.55975545\n",
      " 0.59023604 0.59355037 0.6012283  0.65798561 0.67148384 0.6547829\n",
      " 0.69643718 0.75481938 0.80732089 0.83673051 0.82553491 0.7864042\n",
      " 0.72889091 0.69500503 0.76496221 0.80353348 0.75484008 0.74149707\n",
      " 0.73352162 0.75081398 0.73926365 0.72850114 0.63115291 0.67609636\n",
      " 0.6567564  0.66132765 0.66291533 0.66710974 0.62304781 0.64813829\n",
      " 0.70311577 0.70214965 0.67833517 0.68705181 0.72772886 0.7681727\n",
      " 0.75691606 0.78203094 0.8051556  0.79768097 0.94803152 0.95389958\n",
      " 0.9216789  0.98334343 0.97500479 0.96677221 1.         0.96498622\n",
      " 0.7621823  0.48999527 0.32989347 0.32145354 0.37734416 0.42825684\n",
      " 0.45043015 0.44264653 0.41386044 0.37667719 0.34166685 0.31358483\n",
      " 0.29282752 0.27717584 0.26425382 0.25244591]\n",
      "16 day output [[0.2407258]]\n",
      "17 day input [0.38183571 0.34923207 0.34836166 0.36091684 0.3704015  0.40026024\n",
      " 0.38329688 0.39150385 0.3965404  0.38116868 0.39053778 0.39447311\n",
      " 0.39130881 0.37336315 0.37816189 0.37220553 0.36795689 0.38331045\n",
      " 0.39029353 0.39244295 0.39595652 0.43499273 0.46580417 0.47266504\n",
      " 0.48775306 0.47966064 0.46576129 0.48596356 0.47479639 0.48499297\n",
      " 0.50414167 0.54067771 0.53728144 0.55403195 0.55975545 0.59023604\n",
      " 0.59355037 0.6012283  0.65798561 0.67148384 0.6547829  0.69643718\n",
      " 0.75481938 0.80732089 0.83673051 0.82553491 0.7864042  0.72889091\n",
      " 0.69500503 0.76496221 0.80353348 0.75484008 0.74149707 0.73352162\n",
      " 0.75081398 0.73926365 0.72850114 0.63115291 0.67609636 0.6567564\n",
      " 0.66132765 0.66291533 0.66710974 0.62304781 0.64813829 0.70311577\n",
      " 0.70214965 0.67833517 0.68705181 0.72772886 0.7681727  0.75691606\n",
      " 0.78203094 0.8051556  0.79768097 0.94803152 0.95389958 0.9216789\n",
      " 0.98334343 0.97500479 0.96677221 1.         0.96498622 0.7621823\n",
      " 0.48999527 0.32989347 0.32145354 0.37734416 0.42825684 0.45043015\n",
      " 0.44264653 0.41386044 0.37667719 0.34166685 0.31358483 0.29282752\n",
      " 0.27717584 0.26425382 0.25244591 0.2407258 ]\n",
      "17 day output [[0.22889456]]\n",
      "18 day input [0.34923207 0.34836166 0.36091684 0.3704015  0.40026024 0.38329688\n",
      " 0.39150385 0.3965404  0.38116868 0.39053778 0.39447311 0.39130881\n",
      " 0.37336315 0.37816189 0.37220553 0.36795689 0.38331045 0.39029353\n",
      " 0.39244295 0.39595652 0.43499273 0.46580417 0.47266504 0.48775306\n",
      " 0.47966064 0.46576129 0.48596356 0.47479639 0.48499297 0.50414167\n",
      " 0.54067771 0.53728144 0.55403195 0.55975545 0.59023604 0.59355037\n",
      " 0.6012283  0.65798561 0.67148384 0.6547829  0.69643718 0.75481938\n",
      " 0.80732089 0.83673051 0.82553491 0.7864042  0.72889091 0.69500503\n",
      " 0.76496221 0.80353348 0.75484008 0.74149707 0.73352162 0.75081398\n",
      " 0.73926365 0.72850114 0.63115291 0.67609636 0.6567564  0.66132765\n",
      " 0.66291533 0.66710974 0.62304781 0.64813829 0.70311577 0.70214965\n",
      " 0.67833517 0.68705181 0.72772886 0.7681727  0.75691606 0.78203094\n",
      " 0.8051556  0.79768097 0.94803152 0.95389958 0.9216789  0.98334343\n",
      " 0.97500479 0.96677221 1.         0.96498622 0.7621823  0.48999527\n",
      " 0.32989347 0.32145354 0.37734416 0.42825684 0.45043015 0.44264653\n",
      " 0.41386044 0.37667719 0.34166685 0.31358483 0.29282752 0.27717584\n",
      " 0.26425382 0.25244591 0.2407258  0.22889456]\n",
      "18 day output [[0.216904]]\n",
      "19 day input [0.34836166 0.36091684 0.3704015  0.40026024 0.38329688 0.39150385\n",
      " 0.3965404  0.38116868 0.39053778 0.39447311 0.39130881 0.37336315\n",
      " 0.37816189 0.37220553 0.36795689 0.38331045 0.39029353 0.39244295\n",
      " 0.39595652 0.43499273 0.46580417 0.47266504 0.48775306 0.47966064\n",
      " 0.46576129 0.48596356 0.47479639 0.48499297 0.50414167 0.54067771\n",
      " 0.53728144 0.55403195 0.55975545 0.59023604 0.59355037 0.6012283\n",
      " 0.65798561 0.67148384 0.6547829  0.69643718 0.75481938 0.80732089\n",
      " 0.83673051 0.82553491 0.7864042  0.72889091 0.69500503 0.76496221\n",
      " 0.80353348 0.75484008 0.74149707 0.73352162 0.75081398 0.73926365\n",
      " 0.72850114 0.63115291 0.67609636 0.6567564  0.66132765 0.66291533\n",
      " 0.66710974 0.62304781 0.64813829 0.70311577 0.70214965 0.67833517\n",
      " 0.68705181 0.72772886 0.7681727  0.75691606 0.78203094 0.8051556\n",
      " 0.79768097 0.94803152 0.95389958 0.9216789  0.98334343 0.97500479\n",
      " 0.96677221 1.         0.96498622 0.7621823  0.48999527 0.32989347\n",
      " 0.32145354 0.37734416 0.42825684 0.45043015 0.44264653 0.41386044\n",
      " 0.37667719 0.34166685 0.31358483 0.29282752 0.27717584 0.26425382\n",
      " 0.25244591 0.2407258  0.22889456 0.216904  ]\n",
      "19 day output [[0.20503984]]\n",
      "20 day input [0.36091684 0.3704015  0.40026024 0.38329688 0.39150385 0.3965404\n",
      " 0.38116868 0.39053778 0.39447311 0.39130881 0.37336315 0.37816189\n",
      " 0.37220553 0.36795689 0.38331045 0.39029353 0.39244295 0.39595652\n",
      " 0.43499273 0.46580417 0.47266504 0.48775306 0.47966064 0.46576129\n",
      " 0.48596356 0.47479639 0.48499297 0.50414167 0.54067771 0.53728144\n",
      " 0.55403195 0.55975545 0.59023604 0.59355037 0.6012283  0.65798561\n",
      " 0.67148384 0.6547829  0.69643718 0.75481938 0.80732089 0.83673051\n",
      " 0.82553491 0.7864042  0.72889091 0.69500503 0.76496221 0.80353348\n",
      " 0.75484008 0.74149707 0.73352162 0.75081398 0.73926365 0.72850114\n",
      " 0.63115291 0.67609636 0.6567564  0.66132765 0.66291533 0.66710974\n",
      " 0.62304781 0.64813829 0.70311577 0.70214965 0.67833517 0.68705181\n",
      " 0.72772886 0.7681727  0.75691606 0.78203094 0.8051556  0.79768097\n",
      " 0.94803152 0.95389958 0.9216789  0.98334343 0.97500479 0.96677221\n",
      " 1.         0.96498622 0.7621823  0.48999527 0.32989347 0.32145354\n",
      " 0.37734416 0.42825684 0.45043015 0.44264653 0.41386044 0.37667719\n",
      " 0.34166685 0.31358483 0.29282752 0.27717584 0.26425382 0.25244591\n",
      " 0.2407258  0.22889456 0.216904   0.20503984]\n",
      "20 day output [[0.1935706]]\n",
      "21 day input [0.3704015  0.40026024 0.38329688 0.39150385 0.3965404  0.38116868\n",
      " 0.39053778 0.39447311 0.39130881 0.37336315 0.37816189 0.37220553\n",
      " 0.36795689 0.38331045 0.39029353 0.39244295 0.39595652 0.43499273\n",
      " 0.46580417 0.47266504 0.48775306 0.47966064 0.46576129 0.48596356\n",
      " 0.47479639 0.48499297 0.50414167 0.54067771 0.53728144 0.55403195\n",
      " 0.55975545 0.59023604 0.59355037 0.6012283  0.65798561 0.67148384\n",
      " 0.6547829  0.69643718 0.75481938 0.80732089 0.83673051 0.82553491\n",
      " 0.7864042  0.72889091 0.69500503 0.76496221 0.80353348 0.75484008\n",
      " 0.74149707 0.73352162 0.75081398 0.73926365 0.72850114 0.63115291\n",
      " 0.67609636 0.6567564  0.66132765 0.66291533 0.66710974 0.62304781\n",
      " 0.64813829 0.70311577 0.70214965 0.67833517 0.68705181 0.72772886\n",
      " 0.7681727  0.75691606 0.78203094 0.8051556  0.79768097 0.94803152\n",
      " 0.95389958 0.9216789  0.98334343 0.97500479 0.96677221 1.\n",
      " 0.96498622 0.7621823  0.48999527 0.32989347 0.32145354 0.37734416\n",
      " 0.42825684 0.45043015 0.44264653 0.41386044 0.37667719 0.34166685\n",
      " 0.31358483 0.29282752 0.27717584 0.26425382 0.25244591 0.2407258\n",
      " 0.22889456 0.216904   0.20503984 0.1935706 ]\n",
      "21 day output [[0.18257113]]\n",
      "22 day input [0.40026024 0.38329688 0.39150385 0.3965404  0.38116868 0.39053778\n",
      " 0.39447311 0.39130881 0.37336315 0.37816189 0.37220553 0.36795689\n",
      " 0.38331045 0.39029353 0.39244295 0.39595652 0.43499273 0.46580417\n",
      " 0.47266504 0.48775306 0.47966064 0.46576129 0.48596356 0.47479639\n",
      " 0.48499297 0.50414167 0.54067771 0.53728144 0.55403195 0.55975545\n",
      " 0.59023604 0.59355037 0.6012283  0.65798561 0.67148384 0.6547829\n",
      " 0.69643718 0.75481938 0.80732089 0.83673051 0.82553491 0.7864042\n",
      " 0.72889091 0.69500503 0.76496221 0.80353348 0.75484008 0.74149707\n",
      " 0.73352162 0.75081398 0.73926365 0.72850114 0.63115291 0.67609636\n",
      " 0.6567564  0.66132765 0.66291533 0.66710974 0.62304781 0.64813829\n",
      " 0.70311577 0.70214965 0.67833517 0.68705181 0.72772886 0.7681727\n",
      " 0.75691606 0.78203094 0.8051556  0.79768097 0.94803152 0.95389958\n",
      " 0.9216789  0.98334343 0.97500479 0.96677221 1.         0.96498622\n",
      " 0.7621823  0.48999527 0.32989347 0.32145354 0.37734416 0.42825684\n",
      " 0.45043015 0.44264653 0.41386044 0.37667719 0.34166685 0.31358483\n",
      " 0.29282752 0.27717584 0.26425382 0.25244591 0.2407258  0.22889456\n",
      " 0.216904   0.20503984 0.1935706  0.18257113]\n",
      "22 day output [[0.17223676]]\n",
      "23 day input [0.38329688 0.39150385 0.3965404  0.38116868 0.39053778 0.39447311\n",
      " 0.39130881 0.37336315 0.37816189 0.37220553 0.36795689 0.38331045\n",
      " 0.39029353 0.39244295 0.39595652 0.43499273 0.46580417 0.47266504\n",
      " 0.48775306 0.47966064 0.46576129 0.48596356 0.47479639 0.48499297\n",
      " 0.50414167 0.54067771 0.53728144 0.55403195 0.55975545 0.59023604\n",
      " 0.59355037 0.6012283  0.65798561 0.67148384 0.6547829  0.69643718\n",
      " 0.75481938 0.80732089 0.83673051 0.82553491 0.7864042  0.72889091\n",
      " 0.69500503 0.76496221 0.80353348 0.75484008 0.74149707 0.73352162\n",
      " 0.75081398 0.73926365 0.72850114 0.63115291 0.67609636 0.6567564\n",
      " 0.66132765 0.66291533 0.66710974 0.62304781 0.64813829 0.70311577\n",
      " 0.70214965 0.67833517 0.68705181 0.72772886 0.7681727  0.75691606\n",
      " 0.78203094 0.8051556  0.79768097 0.94803152 0.95389958 0.9216789\n",
      " 0.98334343 0.97500479 0.96677221 1.         0.96498622 0.7621823\n",
      " 0.48999527 0.32989347 0.32145354 0.37734416 0.42825684 0.45043015\n",
      " 0.44264653 0.41386044 0.37667719 0.34166685 0.31358483 0.29282752\n",
      " 0.27717584 0.26425382 0.25244591 0.2407258  0.22889456 0.216904\n",
      " 0.20503984 0.1935706  0.18257113 0.17223676]\n",
      "23 day output [[0.16253294]]\n",
      "24 day input [0.39150385 0.3965404  0.38116868 0.39053778 0.39447311 0.39130881\n",
      " 0.37336315 0.37816189 0.37220553 0.36795689 0.38331045 0.39029353\n",
      " 0.39244295 0.39595652 0.43499273 0.46580417 0.47266504 0.48775306\n",
      " 0.47966064 0.46576129 0.48596356 0.47479639 0.48499297 0.50414167\n",
      " 0.54067771 0.53728144 0.55403195 0.55975545 0.59023604 0.59355037\n",
      " 0.6012283  0.65798561 0.67148384 0.6547829  0.69643718 0.75481938\n",
      " 0.80732089 0.83673051 0.82553491 0.7864042  0.72889091 0.69500503\n",
      " 0.76496221 0.80353348 0.75484008 0.74149707 0.73352162 0.75081398\n",
      " 0.73926365 0.72850114 0.63115291 0.67609636 0.6567564  0.66132765\n",
      " 0.66291533 0.66710974 0.62304781 0.64813829 0.70311577 0.70214965\n",
      " 0.67833517 0.68705181 0.72772886 0.7681727  0.75691606 0.78203094\n",
      " 0.8051556  0.79768097 0.94803152 0.95389958 0.9216789  0.98334343\n",
      " 0.97500479 0.96677221 1.         0.96498622 0.7621823  0.48999527\n",
      " 0.32989347 0.32145354 0.37734416 0.42825684 0.45043015 0.44264653\n",
      " 0.41386044 0.37667719 0.34166685 0.31358483 0.29282752 0.27717584\n",
      " 0.26425382 0.25244591 0.2407258  0.22889456 0.216904   0.20503984\n",
      " 0.1935706  0.18257113 0.17223676 0.16253294]\n",
      "24 day output [[0.15344825]]\n",
      "25 day input [0.3965404  0.38116868 0.39053778 0.39447311 0.39130881 0.37336315\n",
      " 0.37816189 0.37220553 0.36795689 0.38331045 0.39029353 0.39244295\n",
      " 0.39595652 0.43499273 0.46580417 0.47266504 0.48775306 0.47966064\n",
      " 0.46576129 0.48596356 0.47479639 0.48499297 0.50414167 0.54067771\n",
      " 0.53728144 0.55403195 0.55975545 0.59023604 0.59355037 0.6012283\n",
      " 0.65798561 0.67148384 0.6547829  0.69643718 0.75481938 0.80732089\n",
      " 0.83673051 0.82553491 0.7864042  0.72889091 0.69500503 0.76496221\n",
      " 0.80353348 0.75484008 0.74149707 0.73352162 0.75081398 0.73926365\n",
      " 0.72850114 0.63115291 0.67609636 0.6567564  0.66132765 0.66291533\n",
      " 0.66710974 0.62304781 0.64813829 0.70311577 0.70214965 0.67833517\n",
      " 0.68705181 0.72772886 0.7681727  0.75691606 0.78203094 0.8051556\n",
      " 0.79768097 0.94803152 0.95389958 0.9216789  0.98334343 0.97500479\n",
      " 0.96677221 1.         0.96498622 0.7621823  0.48999527 0.32989347\n",
      " 0.32145354 0.37734416 0.42825684 0.45043015 0.44264653 0.41386044\n",
      " 0.37667719 0.34166685 0.31358483 0.29282752 0.27717584 0.26425382\n",
      " 0.25244591 0.2407258  0.22889456 0.216904   0.20503984 0.1935706\n",
      " 0.18257113 0.17223676 0.16253294 0.15344825]\n",
      "25 day output [[0.14501823]]\n",
      "26 day input [0.38116868 0.39053778 0.39447311 0.39130881 0.37336315 0.37816189\n",
      " 0.37220553 0.36795689 0.38331045 0.39029353 0.39244295 0.39595652\n",
      " 0.43499273 0.46580417 0.47266504 0.48775306 0.47966064 0.46576129\n",
      " 0.48596356 0.47479639 0.48499297 0.50414167 0.54067771 0.53728144\n",
      " 0.55403195 0.55975545 0.59023604 0.59355037 0.6012283  0.65798561\n",
      " 0.67148384 0.6547829  0.69643718 0.75481938 0.80732089 0.83673051\n",
      " 0.82553491 0.7864042  0.72889091 0.69500503 0.76496221 0.80353348\n",
      " 0.75484008 0.74149707 0.73352162 0.75081398 0.73926365 0.72850114\n",
      " 0.63115291 0.67609636 0.6567564  0.66132765 0.66291533 0.66710974\n",
      " 0.62304781 0.64813829 0.70311577 0.70214965 0.67833517 0.68705181\n",
      " 0.72772886 0.7681727  0.75691606 0.78203094 0.8051556  0.79768097\n",
      " 0.94803152 0.95389958 0.9216789  0.98334343 0.97500479 0.96677221\n",
      " 1.         0.96498622 0.7621823  0.48999527 0.32989347 0.32145354\n",
      " 0.37734416 0.42825684 0.45043015 0.44264653 0.41386044 0.37667719\n",
      " 0.34166685 0.31358483 0.29282752 0.27717584 0.26425382 0.25244591\n",
      " 0.2407258  0.22889456 0.216904   0.20503984 0.1935706  0.18257113\n",
      " 0.17223676 0.16253294 0.15344825 0.14501823]\n"
     ]
    },
    {
     "name": "stdout",
     "output_type": "stream",
     "text": [
      "26 day output [[0.13723117]]\n",
      "27 day input [0.39053778 0.39447311 0.39130881 0.37336315 0.37816189 0.37220553\n",
      " 0.36795689 0.38331045 0.39029353 0.39244295 0.39595652 0.43499273\n",
      " 0.46580417 0.47266504 0.48775306 0.47966064 0.46576129 0.48596356\n",
      " 0.47479639 0.48499297 0.50414167 0.54067771 0.53728144 0.55403195\n",
      " 0.55975545 0.59023604 0.59355037 0.6012283  0.65798561 0.67148384\n",
      " 0.6547829  0.69643718 0.75481938 0.80732089 0.83673051 0.82553491\n",
      " 0.7864042  0.72889091 0.69500503 0.76496221 0.80353348 0.75484008\n",
      " 0.74149707 0.73352162 0.75081398 0.73926365 0.72850114 0.63115291\n",
      " 0.67609636 0.6567564  0.66132765 0.66291533 0.66710974 0.62304781\n",
      " 0.64813829 0.70311577 0.70214965 0.67833517 0.68705181 0.72772886\n",
      " 0.7681727  0.75691606 0.78203094 0.8051556  0.79768097 0.94803152\n",
      " 0.95389958 0.9216789  0.98334343 0.97500479 0.96677221 1.\n",
      " 0.96498622 0.7621823  0.48999527 0.32989347 0.32145354 0.37734416\n",
      " 0.42825684 0.45043015 0.44264653 0.41386044 0.37667719 0.34166685\n",
      " 0.31358483 0.29282752 0.27717584 0.26425382 0.25244591 0.2407258\n",
      " 0.22889456 0.216904   0.20503984 0.1935706  0.18257113 0.17223676\n",
      " 0.16253294 0.15344825 0.14501823 0.13723117]\n",
      "27 day output [[0.12996928]]\n",
      "28 day input [0.39447311 0.39130881 0.37336315 0.37816189 0.37220553 0.36795689\n",
      " 0.38331045 0.39029353 0.39244295 0.39595652 0.43499273 0.46580417\n",
      " 0.47266504 0.48775306 0.47966064 0.46576129 0.48596356 0.47479639\n",
      " 0.48499297 0.50414167 0.54067771 0.53728144 0.55403195 0.55975545\n",
      " 0.59023604 0.59355037 0.6012283  0.65798561 0.67148384 0.6547829\n",
      " 0.69643718 0.75481938 0.80732089 0.83673051 0.82553491 0.7864042\n",
      " 0.72889091 0.69500503 0.76496221 0.80353348 0.75484008 0.74149707\n",
      " 0.73352162 0.75081398 0.73926365 0.72850114 0.63115291 0.67609636\n",
      " 0.6567564  0.66132765 0.66291533 0.66710974 0.62304781 0.64813829\n",
      " 0.70311577 0.70214965 0.67833517 0.68705181 0.72772886 0.7681727\n",
      " 0.75691606 0.78203094 0.8051556  0.79768097 0.94803152 0.95389958\n",
      " 0.9216789  0.98334343 0.97500479 0.96677221 1.         0.96498622\n",
      " 0.7621823  0.48999527 0.32989347 0.32145354 0.37734416 0.42825684\n",
      " 0.45043015 0.44264653 0.41386044 0.37667719 0.34166685 0.31358483\n",
      " 0.29282752 0.27717584 0.26425382 0.25244591 0.2407258  0.22889456\n",
      " 0.216904   0.20503984 0.1935706  0.18257113 0.17223676 0.16253294\n",
      " 0.15344825 0.14501823 0.13723117 0.12996928]\n",
      "28 day output [[0.12327555]]\n",
      "29 day input [0.39130881 0.37336315 0.37816189 0.37220553 0.36795689 0.38331045\n",
      " 0.39029353 0.39244295 0.39595652 0.43499273 0.46580417 0.47266504\n",
      " 0.48775306 0.47966064 0.46576129 0.48596356 0.47479639 0.48499297\n",
      " 0.50414167 0.54067771 0.53728144 0.55403195 0.55975545 0.59023604\n",
      " 0.59355037 0.6012283  0.65798561 0.67148384 0.6547829  0.69643718\n",
      " 0.75481938 0.80732089 0.83673051 0.82553491 0.7864042  0.72889091\n",
      " 0.69500503 0.76496221 0.80353348 0.75484008 0.74149707 0.73352162\n",
      " 0.75081398 0.73926365 0.72850114 0.63115291 0.67609636 0.6567564\n",
      " 0.66132765 0.66291533 0.66710974 0.62304781 0.64813829 0.70311577\n",
      " 0.70214965 0.67833517 0.68705181 0.72772886 0.7681727  0.75691606\n",
      " 0.78203094 0.8051556  0.79768097 0.94803152 0.95389958 0.9216789\n",
      " 0.98334343 0.97500479 0.96677221 1.         0.96498622 0.7621823\n",
      " 0.48999527 0.32989347 0.32145354 0.37734416 0.42825684 0.45043015\n",
      " 0.44264653 0.41386044 0.37667719 0.34166685 0.31358483 0.29282752\n",
      " 0.27717584 0.26425382 0.25244591 0.2407258  0.22889456 0.216904\n",
      " 0.20503984 0.1935706  0.18257113 0.17223676 0.16253294 0.15344825\n",
      " 0.14501823 0.13723117 0.12996928 0.12327555]\n",
      "29 day output [[0.11703943]]\n",
      "[[0.7621822953224182], [0.4899952709674835], [0.32989346981048584], [0.3214535415172577], [0.37734416127204895], [0.4282568395137787], [0.45043015480041504], [0.4426465332508087], [0.4138604402542114], [0.37667718529701233], [0.3416668474674225], [0.3135848343372345], [0.2928275167942047], [0.2771758437156677], [0.2642538249492645], [0.25244590640068054], [0.2407258003950119], [0.22889456152915955], [0.21690399944782257], [0.205039843916893], [0.1935705989599228], [0.18257112801074982], [0.17223675549030304], [0.16253294050693512], [0.15344825387001038], [0.14501823484897614], [0.13723117113113403], [0.1299692839384079], [0.12327554821968079], [0.11703943461179733]]\n"
     ]
    }
   ],
   "source": [
    "# demonstrate prediction for next 10 days\n",
    "from numpy import array\n",
    "\n",
    "lst_output=[]\n",
    "n_steps=100\n",
    "i=0\n",
    "while(i<30):\n",
    "    \n",
    "    if(len(temp_input)>100):\n",
    "        #print(temp_input)\n",
    "        x_input=np.array(temp_input[1:])\n",
    "        print(\"{} day input {}\".format(i,x_input))\n",
    "        x_input=x_input.reshape(1,-1)\n",
    "        x_input = x_input.reshape((1, n_steps, 1))\n",
    "        #print(x_input)\n",
    "        yhat = model.predict(x_input, verbose=0)\n",
    "        print(\"{} day output {}\".format(i,yhat))\n",
    "        temp_input.extend(yhat[0].tolist())\n",
    "        temp_input=temp_input[1:]\n",
    "        #print(temp_input)\n",
    "        lst_output.extend(yhat.tolist())\n",
    "        i=i+1\n",
    "    else:\n",
    "        x_input = x_input.reshape((1, n_steps,1))\n",
    "        yhat = model.predict(x_input, verbose=0)\n",
    "        print(yhat[0])\n",
    "        temp_input.extend(yhat[0].tolist())\n",
    "        print(len(temp_input))\n",
    "        lst_output.extend(yhat.tolist())\n",
    "        i=i+1\n",
    "    \n",
    "\n",
    "print(lst_output)"
   ]
  },
  {
   "cell_type": "code",
   "execution_count": 54,
   "metadata": {},
   "outputs": [],
   "source": [
    "day_new=np.arange(1,101)\n",
    "day_pred=np.arange(101,131)"
   ]
  },
  {
   "cell_type": "code",
   "execution_count": 55,
   "metadata": {},
   "outputs": [],
   "source": [
    "import matplotlib.pyplot as plt"
   ]
  },
  {
   "cell_type": "code",
   "execution_count": 56,
   "metadata": {},
   "outputs": [
    {
     "name": "stdout",
     "output_type": "stream",
     "text": [
      "2187\n",
      "2087\n"
     ]
    }
   ],
   "source": [
    "len(df1)\n",
    "df2_int = len(df1)\n",
    "df2_length = df1_int - 100\n",
    "print(df2_int)\n",
    "print(df2_length)"
   ]
  },
  {
   "cell_type": "code",
   "execution_count": 57,
   "metadata": {},
   "outputs": [
    {
     "data": {
      "text/plain": [
       "[<matplotlib.lines.Line2D at 0x1a8443b8820>]"
      ]
     },
     "execution_count": 57,
     "metadata": {},
     "output_type": "execute_result"
    },
    {
     "data": {
      "image/png": "[encoded data removed]",
      "text/plain": [
       "<Figure size 432x288 with 1 Axes>"
      ]
     },
     "metadata": {
      "needs_background": "light"
     },
     "output_type": "display_data"
    }
   ],
   "source": [
    "#plt.plot(day_new,scaler.inverse_transform(df1[2205:]))\n",
    "\n",
    "plt.plot(day_new,scaler.inverse_transform(df1[df2_length:]))\n",
    "\n",
    "plt.plot(day_pred,scaler.inverse_transform(lst_output))"
   ]
  },
  {
   "cell_type": "code",
   "execution_count": 58,
   "metadata": {},
   "outputs": [
    {
     "data": {
      "text/plain": [
       "[<matplotlib.lines.Line2D at 0x1a850478a00>]"
      ]
     },
     "execution_count": 58,
     "metadata": {},
     "output_type": "execute_result"
    },
    {
     "data": {
      "image/png": "[encoded data removed]",
      "text/plain": [
       "<Figure size 432x288 with 1 Axes>"
      ]
     },
     "metadata": {
      "needs_background": "light"
     },
     "output_type": "display_data"
    }
   ],
   "source": [
    "df3=df1.tolist()\n",
    "df3.extend(lst_output)\n",
    "#plt.plot(df3[2206:])\n",
    "\n",
    "df3_length = df2_length + 1\n",
    "\n",
    "plt.plot(df3[df3_length:])"
   ]
  },
  {
   "cell_type": "code",
   "execution_count": 59,
   "metadata": {},
   "outputs": [
    {
     "data": {
      "text/plain": [
       "[<matplotlib.lines.Line2D at 0x1a8504306d0>]"
      ]
     },
     "execution_count": 59,
     "metadata": {},
     "output_type": "execute_result"
    },
    {
     "data": {
      "image/png": "[encoded data removed]",
      "text/plain": [
       "<Figure size 432x288 with 1 Axes>"
      ]
     },
     "metadata": {
      "needs_background": "light"
     },
     "output_type": "display_data"
    }
   ],
   "source": [
    "df3=scaler.inverse_transform(df3).tolist()\n",
    "plt.plot(df3)"
   ]
  },
  {
   "cell_type": "code",
   "execution_count": null,
   "metadata": {},
   "outputs": [],
   "source": []
  }
 ],
 "metadata": {
  "kernelspec": {
   "display_name": "Python 3",
   "language": "python",
   "name": "python3"
  },
  "language_info": {
   "codemirror_mode": {
    "name": "ipython",
    "version": 3
   },
   "file_extension": ".py",
   "mimetype": "text/x-python",
   "name": "python",
   "nbconvert_exporter": "python",
   "pygments_lexer": "ipython3",
   "version": "3.8.5"
  }
 },
 "nbformat": 4,
 "nbformat_minor": 4
}
