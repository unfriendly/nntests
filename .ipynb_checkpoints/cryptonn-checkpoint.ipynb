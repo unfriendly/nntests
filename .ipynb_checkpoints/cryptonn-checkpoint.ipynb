{
 "cells": [
  {
   "cell_type": "raw",
   "metadata": {},
   "source": [
    "#Prepare 'System' if Conditions not met\n",
    "\n",
    "#!pip install --upgrade pip\n",
    "\n",
    "!pip install tensorflow tensorflow-gpu matplot numpy pandas sklearn keras seaborn requests"
   ]
  },
  {
   "cell_type": "code",
   "execution_count": 1,
   "metadata": {},
   "outputs": [],
   "source": [
    "##Created By Unfriendly \n",
    "#(A simple Jupyter Notebook in Binder for Crypto price prediction)\n",
    "\n",
    "historical_start = \"6yr,0mon,0day,0hr,0min,0sec\"\n",
    "# How long to historically look back at data\n",
    "\n",
    "predict_into = \"0yr,0mon,10day,0hr,0min,0sec\" \n",
    "# How far to try and predict into the future"
   ]
  },
  {
   "cell_type": "code",
   "execution_count": 2,
   "metadata": {},
   "outputs": [],
   "source": [
    "import os, glob\n",
    "for dirname, _, filenames in os.walk('/unfriendly/input'):\n",
    "    for filename in filenames:\n",
    "        print(os.path.join(dirname, filename))"
   ]
  },
  {
   "cell_type": "code",
   "execution_count": 3,
   "metadata": {},
   "outputs": [],
   "source": [
    "import json\n",
    "import requests\n",
    "from keras.models import Sequential\n",
    "from keras.layers import Activation, Dense, Dropout, LSTM\n",
    "import matplotlib.pyplot as plt\n",
    "import numpy as np\n",
    "import pandas as pd\n",
    "import seaborn as sns\n",
    "from sklearn.metrics import mean_absolute_error\n",
    "%matplotlib inline"
   ]
  },
  {
   "cell_type": "code",
   "execution_count": 4,
   "metadata": {},
   "outputs": [],
   "source": [
    "import matplotlib.pyplot as plt"
   ]
  },
  {
   "cell_type": "code",
   "execution_count": 5,
   "metadata": {},
   "outputs": [],
   "source": [
    "# Prepare data timestamps\n",
    "import time\n",
    "from datetime import datetime, timezone, timedelta\n",
    "one_yr = 31536000000\n",
    "one_mon = one_yr/12\n",
    "one_day = one_yr/365\n",
    "one_hr = one_day/24\n",
    "one_min = one_hr/60\n",
    "one_sec = one_min/60"
   ]
  },
  {
   "cell_type": "code",
   "execution_count": 6,
   "metadata": {},
   "outputs": [
    {
     "name": "stdout",
     "output_type": "stream",
     "text": [
      "['6', '0', '0', '0', '0', '0']\n"
     ]
    }
   ],
   "source": [
    "# Prepare how far to look back in the past in UNIX time-format\n",
    "history_split = historical_start.replace('yr', '')\n",
    "history_res = history_split.replace('mon', '')\n",
    "history_split = history_res.replace('day', '')\n",
    "history_res = history_split.replace('hr', '')\n",
    "history_split = history_res.replace('min', '')\n",
    "history_res = history_split.replace('sec', '')\n",
    "history_split = history_res.split(\",\")\n",
    "print(history_split)"
   ]
  },
  {
   "cell_type": "code",
   "execution_count": 7,
   "metadata": {},
   "outputs": [
    {
     "name": "stdout",
     "output_type": "stream",
     "text": [
      "['0', '0', '10', '0', '0', '0']\n"
     ]
    }
   ],
   "source": [
    "# Prepare how far to predict into the future in UNIX time-format\n",
    "predict_split = predict_into.replace('yr', '')\n",
    "predict_res = predict_split.replace('mon', '')\n",
    "predict_split = predict_res.replace('day', '')\n",
    "predict_res = predict_split.replace('hr', '')\n",
    "predict_split = predict_res.replace('min', '')\n",
    "predict_res = predict_split.replace('sec', '')\n",
    "predict_split = predict_res.split(\",\")\n",
    "print(predict_split)"
   ]
  },
  {
   "cell_type": "code",
   "execution_count": 8,
   "metadata": {},
   "outputs": [],
   "source": [
    "history_array_yr = int(history_split[0])\n",
    "unix_hist_yr = one_yr*history_array_yr\n",
    "\n",
    "history_array_mon = int(history_split[1])\n",
    "unix_hist_mon = one_mon*history_array_mon\n",
    "\n",
    "history_array_day = int(history_split[2])\n",
    "unix_hist_day = one_day*history_array_day\n",
    "\n",
    "history_array_hr = int(history_split[3])\n",
    "unix_hist_hr = one_hr*history_array_hr\n",
    "\n",
    "history_array_min = int(history_split[4])\n",
    "unix_hist_min = one_min*history_array_min\n",
    "\n",
    "history_array_sec = int(history_split[5])\n",
    "unix_hist_sec = one_sec*history_array_sec"
   ]
  },
  {
   "cell_type": "code",
   "execution_count": 9,
   "metadata": {},
   "outputs": [],
   "source": [
    "predict_array_yr = int(predict_split[0])\n",
    "unix_pred_yr = one_yr*predict_array_yr\n",
    "\n",
    "predict_array_mon = int(predict_split[1])\n",
    "unix_pred_mon = one_mon*predict_array_mon\n",
    "\n",
    "predict_array_day = int(predict_split[2])\n",
    "unix_pred_day = one_day*predict_array_day\n",
    "\n",
    "predict_array_hr = int(predict_split[3])\n",
    "unix_pred_hr = one_hr*predict_array_hr\n",
    "\n",
    "predict_array_min = int(predict_split[4])\n",
    "unix_pred_min = one_min*predict_array_min\n",
    "\n",
    "predict_array_sec = int(predict_split[5])\n",
    "unix_pred_sec = one_sec*predict_array_sec\n",
    "\n",
    "unix_prediction = unix_pred_yr+unix_pred_mon+unix_pred_day+unix_pred_hr+unix_pred_min+unix_pred_sec"
   ]
  },
  {
   "cell_type": "code",
   "execution_count": 10,
   "metadata": {},
   "outputs": [
    {
     "name": "stdout",
     "output_type": "stream",
     "text": [
      "-187602621261 - start\n",
      "-310 - gather\n",
      "310 - positive gather\n"
     ]
    }
   ],
   "source": [
    "raw_time = time.time()\n",
    "int_time = int(raw_time)\n",
    "current_time = str(int_time)\n",
    "\n",
    "unix_start = unix_hist_yr+unix_hist_mon+unix_hist_day+unix_hist_hr+unix_hist_min+unix_hist_sec\n",
    "raw_start = raw_time - unix_start\n",
    "\n",
    "int_start = int(raw_start)\n",
    "start = str(int_start)\n",
    "\n",
    "#print(unix_hist_yr+history_array_mon+history_array_day+history_array_hr+history_array_min+history_array_sec)\n",
    "print(start + ' - start')\n",
    "\n",
    "gather_count = int_start/(7*one_day)\n",
    "gather_int = int(gather_count)\n",
    "gather_str = str(gather_int)\n",
    "pos_gather_count = abs(int(gather_count))\n",
    "pos_gather_str = str(pos_gather_count)\n",
    "\n",
    "print(gather_str + ' - gather')\n",
    "print(pos_gather_str + ' - positive gather')"
   ]
  },
  {
   "cell_type": "code",
   "execution_count": 11,
   "metadata": {},
   "outputs": [
    {
     "name": "stdout",
     "output_type": "stream",
     "text": [
      "1613378738842.175\n",
      "1613378738842\n",
      "1424162738842\n",
      "1424162738.842675\n",
      "2021-02-15 08:45:38.842675+00:00\n",
      "2015-02-17 08:45:38.842675+00:00\n",
      "1424162738842\n",
      "1424785538842\n",
      "1613378738842\n",
      "13 Digit Microsecond TS: 1424162738842 - 10 Digit TS: 1424162738\n"
     ]
    }
   ],
   "source": [
    "print((datetime.now(timezone.utc) + timedelta(hours=0)).timestamp() * 1e3)\n",
    "\n",
    "dt = (datetime.now(timezone.utc) + timedelta(days=0)).timestamp() * 1e3\n",
    "\n",
    "c_dt = int(dt)\n",
    "\n",
    "c_dt_int = int(c_dt)\n",
    "print(str(c_dt_int))\n",
    "\n",
    "c_dt_array_year = history_array_yr*365\n",
    "\n",
    "history_array_comb = history_array_day + c_dt_array_year\n",
    "\n",
    "c_dt_start = (datetime.now(timezone.utc) + timedelta(days=-history_array_comb,hours=-history_array_hr,minutes=-history_array_min,seconds=-history_array_sec)).timestamp() * 1e3\n",
    "\n",
    "c_dt_start_int = int(c_dt_start)\n",
    "print(str(c_dt_start_int))\n",
    "\n",
    "c_dt_start_raw = (datetime.now(timezone.utc) + timedelta(days=-history_array_comb,hours=-history_array_hr,minutes=-history_array_min,seconds=-history_array_sec)).timestamp()\n",
    "c_dt_start_raw_int = int(c_dt_start_raw)\n",
    "print(str(c_dt_start_raw))       \n",
    "    \n",
    "data_count = 0\n",
    "\n",
    "c_dt_start_dt = datetime.utcfromtimestamp(c_dt_start_raw).strftime('%Y-%m-%d %H:%M:%S.%f+00:00')\n",
    "\n",
    "print(datetime.now(timezone.utc))\n",
    "print(datetime.utcfromtimestamp(c_dt_start_raw).strftime('%Y-%m-%d %H:%M:%S.%f+00:00'))\n",
    "\n",
    "#c_dt_end = c_dt_start + timedelta(days=7).timestamp() * 1e3\n",
    "#c_dt_end = (c_dt_start_dt + timedelta(days=7)).timestamp() * 1e3\n",
    "\n",
    "c_dt_end = (datetime.utcfromtimestamp(c_dt_start_raw) + timedelta(days=7)).timestamp() * 1e3\n",
    "\n",
    "c_dt_start_int = int(c_dt_start)\n",
    "c_dt_end_int = int(c_dt_end)\n",
    "c_dt_end_str = str(c_dt_end)\n",
    "\n",
    "\n",
    "c_dt_str = str(c_dt)\n",
    "c_dt_start_str = str(c_dt_start_int)\n",
    "\n",
    "\n",
    "ts_ten_int = int(c_dt/1000)\n",
    "start_ten_int = int(c_dt_start_int/1000)\n",
    "\n",
    "ts_ten_str = str(ts_ten_int)\n",
    "start_ten_str = str(start_ten_int)\n",
    "\n",
    "\n",
    "print(c_dt_start_int)\n",
    "print(c_dt_end_int)\n",
    "print(c_dt_int)\n",
    "print('13 Digit Microsecond TS: ' + c_dt_start_str + ' - ' + '10 Digit TS: ' + start_ten_str)"
   ]
  },
  {
   "cell_type": "code",
   "execution_count": 12,
   "metadata": {},
   "outputs": [
    {
     "name": "stdout",
     "output_type": "stream",
     "text": [
      "https://query1.finance.yahoo.com/v7/finance/download/BTC-USD?period1=1424162738&period2=1613378738&interval=1d&events=history&includeAdjustedClose=true\n"
     ]
    }
   ],
   "source": [
    "import urllib.request\n",
    "\n",
    "#while count < pos_gather_count:\n",
    "while data_count < 1:\n",
    "    \n",
    "    #d_u=\"https://query1.finance.yahoo.com/v7/finance/download/BTC-USD?period1=1411862400&period2=\" + current_time + \"&interval=1d&events=history&includeAdjustedClose=true\"\n",
    "    #d_u=\"https://query1.finance.yahoo.com/v7/finance/download/BTC-USD?period1=1411862400&period2=1612158064&interval=1d&events=history&includeAdjustedClose=true\"\n",
    "    #d_u=\"https://query1.finance.yahoo.com/v7/finance/download/BTC-USD?period1=\"+dt_str+\"&period2=\"+dt_end_str+\"&interval=1d&events=history&includeAdjustedClose=true\"\n",
    "    #d_u=\"https://query1.finance.yahoo.com/v7/finance/download/BTC-USD?period1=\"+gather_str+\"&period2=\"+current_time+\"&interval=1m&events=history&includeAdjustedClose=true\"\n",
    "    \n",
    "    \n",
    "    d_u=\"https://query1.finance.yahoo.com/v7/finance/download/BTC-USD?period1=\"+start_ten_str+\"&period2=\"+ts_ten_str+\"&interval=1d&events=history&includeAdjustedClose=true\"\n",
    "    \n",
    "    print(d_u)\n",
    "    \n",
    "    with urllib.request.urlopen(d_u) as testfile, open('dataset.csv', 'w') as f:\n",
    "        f.write(testfile.read().decode())\n",
    "\n",
    "    data_count += 1  # This is the same as count = count + 1"
   ]
  },
  {
   "cell_type": "raw",
   "metadata": {},
   "source": [
    "print(start + ' - start')\n",
    "print(current_time + ' - current time')\n",
    "print(d_u + ' - url')\n",
    "    \n",
    "print(gather_count)\n",
    "#print(data_count)\n",
    "\n",
    "# List all CSV files in the working dir\n",
    "extension = \"csv\"\n",
    "all_filenames = [i for i in glob.glob('*.{}'.format(extension))]\n",
    "print(all_filenames)"
   ]
  },
  {
   "cell_type": "raw",
   "metadata": {},
   "source": [
    "import urllib.request\n",
    "d_u=\"https://query1.finance.yahoo.com/v7/finance/download/BTC-USD?period1=1411862400&period2=1612158064&interval=1d&events=history&includeAdjustedClose=true\"\n",
    "\n",
    "\n",
    "with urllib.request.urlopen(d_u) as testfile, open('dataset.csv', 'w') as f:\n",
    "    f.write(testfile.read().decode())"
   ]
  },
  {
   "cell_type": "code",
   "execution_count": 13,
   "metadata": {},
   "outputs": [
    {
     "data": {
      "text/html": [
       "<div>\n",
       "<style scoped>\n",
       "    .dataframe tbody tr th:only-of-type {\n",
       "        vertical-align: middle;\n",
       "    }\n",
       "\n",
       "    .dataframe tbody tr th {\n",
       "        vertical-align: top;\n",
       "    }\n",
       "\n",
       "    .dataframe thead th {\n",
       "        text-align: right;\n",
       "    }\n",
       "</style>\n",
       "<table border=\"1\" class=\"dataframe\">\n",
       "  <thead>\n",
       "    <tr style=\"text-align: right;\">\n",
       "      <th></th>\n",
       "      <th>Date</th>\n",
       "      <th>Open</th>\n",
       "      <th>High</th>\n",
       "      <th>Low</th>\n",
       "      <th>Close</th>\n",
       "      <th>Adj Close</th>\n",
       "      <th>Volume</th>\n",
       "    </tr>\n",
       "  </thead>\n",
       "  <tbody>\n",
       "    <tr>\n",
       "      <th>0</th>\n",
       "      <td>2015-02-17</td>\n",
       "      <td>233.421997</td>\n",
       "      <td>245.774994</td>\n",
       "      <td>232.313995</td>\n",
       "      <td>243.610001</td>\n",
       "      <td>243.610001</td>\n",
       "      <td>2.736310e+07</td>\n",
       "    </tr>\n",
       "    <tr>\n",
       "      <th>1</th>\n",
       "      <td>2015-02-18</td>\n",
       "      <td>243.779999</td>\n",
       "      <td>244.251007</td>\n",
       "      <td>232.339996</td>\n",
       "      <td>236.326004</td>\n",
       "      <td>236.326004</td>\n",
       "      <td>2.520080e+07</td>\n",
       "    </tr>\n",
       "    <tr>\n",
       "      <th>2</th>\n",
       "      <td>2015-02-19</td>\n",
       "      <td>236.410004</td>\n",
       "      <td>242.671997</td>\n",
       "      <td>235.591995</td>\n",
       "      <td>240.283005</td>\n",
       "      <td>240.283005</td>\n",
       "      <td>1.827050e+07</td>\n",
       "    </tr>\n",
       "    <tr>\n",
       "      <th>3</th>\n",
       "      <td>2015-02-20</td>\n",
       "      <td>240.251007</td>\n",
       "      <td>247.100998</td>\n",
       "      <td>239.298996</td>\n",
       "      <td>243.779007</td>\n",
       "      <td>243.779007</td>\n",
       "      <td>2.387670e+07</td>\n",
       "    </tr>\n",
       "    <tr>\n",
       "      <th>4</th>\n",
       "      <td>2015-02-21</td>\n",
       "      <td>243.751999</td>\n",
       "      <td>255.320007</td>\n",
       "      <td>243.184006</td>\n",
       "      <td>244.533997</td>\n",
       "      <td>244.533997</td>\n",
       "      <td>1.228420e+07</td>\n",
       "    </tr>\n",
       "    <tr>\n",
       "      <th>...</th>\n",
       "      <td>...</td>\n",
       "      <td>...</td>\n",
       "      <td>...</td>\n",
       "      <td>...</td>\n",
       "      <td>...</td>\n",
       "      <td>...</td>\n",
       "      <td>...</td>\n",
       "    </tr>\n",
       "    <tr>\n",
       "      <th>2186</th>\n",
       "      <td>2021-02-11</td>\n",
       "      <td>44898.710938</td>\n",
       "      <td>48463.468750</td>\n",
       "      <td>44187.761719</td>\n",
       "      <td>47909.332031</td>\n",
       "      <td>47909.332031</td>\n",
       "      <td>8.138891e+10</td>\n",
       "    </tr>\n",
       "    <tr>\n",
       "      <th>2187</th>\n",
       "      <td>2021-02-12</td>\n",
       "      <td>47877.035156</td>\n",
       "      <td>48745.734375</td>\n",
       "      <td>46424.976563</td>\n",
       "      <td>47504.851563</td>\n",
       "      <td>47504.851563</td>\n",
       "      <td>7.655504e+10</td>\n",
       "    </tr>\n",
       "    <tr>\n",
       "      <th>2188</th>\n",
       "      <td>2021-02-13</td>\n",
       "      <td>47491.203125</td>\n",
       "      <td>48047.746094</td>\n",
       "      <td>46392.281250</td>\n",
       "      <td>47105.515625</td>\n",
       "      <td>47105.515625</td>\n",
       "      <td>7.025046e+10</td>\n",
       "    </tr>\n",
       "    <tr>\n",
       "      <th>2189</th>\n",
       "      <td>2021-02-14</td>\n",
       "      <td>47114.507813</td>\n",
       "      <td>49487.640625</td>\n",
       "      <td>47114.507813</td>\n",
       "      <td>48717.289063</td>\n",
       "      <td>48717.289063</td>\n",
       "      <td>7.124868e+10</td>\n",
       "    </tr>\n",
       "    <tr>\n",
       "      <th>2190</th>\n",
       "      <td>2021-02-15</td>\n",
       "      <td>47226.578125</td>\n",
       "      <td>48875.570313</td>\n",
       "      <td>46347.476563</td>\n",
       "      <td>47520.839844</td>\n",
       "      <td>47520.839844</td>\n",
       "      <td>8.018965e+10</td>\n",
       "    </tr>\n",
       "  </tbody>\n",
       "</table>\n",
       "<p>2187 rows × 7 columns</p>\n",
       "</div>"
      ],
      "text/plain": [
       "            Date          Open          High           Low         Close  \\\n",
       "0     2015-02-17    233.421997    245.774994    232.313995    243.610001   \n",
       "1     2015-02-18    243.779999    244.251007    232.339996    236.326004   \n",
       "2     2015-02-19    236.410004    242.671997    235.591995    240.283005   \n",
       "3     2015-02-20    240.251007    247.100998    239.298996    243.779007   \n",
       "4     2015-02-21    243.751999    255.320007    243.184006    244.533997   \n",
       "...          ...           ...           ...           ...           ...   \n",
       "2186  2021-02-11  44898.710938  48463.468750  44187.761719  47909.332031   \n",
       "2187  2021-02-12  47877.035156  48745.734375  46424.976563  47504.851563   \n",
       "2188  2021-02-13  47491.203125  48047.746094  46392.281250  47105.515625   \n",
       "2189  2021-02-14  47114.507813  49487.640625  47114.507813  48717.289063   \n",
       "2190  2021-02-15  47226.578125  48875.570313  46347.476563  47520.839844   \n",
       "\n",
       "         Adj Close        Volume  \n",
       "0       243.610001  2.736310e+07  \n",
       "1       236.326004  2.520080e+07  \n",
       "2       240.283005  1.827050e+07  \n",
       "3       243.779007  2.387670e+07  \n",
       "4       244.533997  1.228420e+07  \n",
       "...            ...           ...  \n",
       "2186  47909.332031  8.138891e+10  \n",
       "2187  47504.851563  7.655504e+10  \n",
       "2188  47105.515625  7.025046e+10  \n",
       "2189  48717.289063  7.124868e+10  \n",
       "2190  47520.839844  8.018965e+10  \n",
       "\n",
       "[2187 rows x 7 columns]"
      ]
     },
     "execution_count": 13,
     "metadata": {},
     "output_type": "execute_result"
    }
   ],
   "source": [
    "data=pd.read_csv('dataset.csv')\n",
    "\n",
    "data.apply(pd.to_numeric, errors='coerce')\n",
    "\n",
    "#data=data.dropna()\n",
    "#data=data.dropna(inplace=True)\n",
    "#data=data.dropna(subset=['Close'])\n",
    "#data=data.dropna(how='any',axis=1)\n",
    "\n",
    "data.dropna(subset=['Close'], inplace=True)\n",
    "data.reset_index(drop=True)\n",
    "\n",
    "data"
   ]
  },
  {
   "cell_type": "code",
   "execution_count": 14,
   "metadata": {},
   "outputs": [
    {
     "data": {
      "text/plain": [
       "0         243.610001\n",
       "1         236.326004\n",
       "2         240.283005\n",
       "3         243.779007\n",
       "4         244.533997\n",
       "            ...     \n",
       "2186    47909.332031\n",
       "2187    47504.851563\n",
       "2188    47105.515625\n",
       "2189    48717.289063\n",
       "2190    47520.839844\n",
       "Name: Close, Length: 2187, dtype: float64"
      ]
     },
     "execution_count": 14,
     "metadata": {},
     "output_type": "execute_result"
    }
   ],
   "source": [
    "df1=data['Close']\n",
    "df1"
   ]
  },
  {
   "cell_type": "code",
   "execution_count": 15,
   "metadata": {},
   "outputs": [
    {
     "data": {
      "text/plain": [
       "[<matplotlib.lines.Line2D at 0x19b8affd6d0>]"
      ]
     },
     "execution_count": 15,
     "metadata": {},
     "output_type": "execute_result"
    },
    {
     "data": {
      "image/png": "[encoded data removed]",
      "text/plain": [
       "<Figure size 432x288 with 1 Axes>"
      ]
     },
     "metadata": {
      "needs_background": "light"
     },
     "output_type": "display_data"
    }
   ],
   "source": [
    "plt.plot(df1)"
   ]
  },
  {
   "cell_type": "code",
   "execution_count": 16,
   "metadata": {},
   "outputs": [],
   "source": [
    "import numpy as np"
   ]
  },
  {
   "cell_type": "code",
   "execution_count": 17,
   "metadata": {},
   "outputs": [
    {
     "data": {
      "text/plain": [
       "0         243.610001\n",
       "1         236.326004\n",
       "2         240.283005\n",
       "3         243.779007\n",
       "4         244.533997\n",
       "            ...     \n",
       "2186    47909.332031\n",
       "2187    47504.851563\n",
       "2188    47105.515625\n",
       "2189    48717.289063\n",
       "2190    47520.839844\n",
       "Name: Close, Length: 2187, dtype: float64"
      ]
     },
     "execution_count": 17,
     "metadata": {},
     "output_type": "execute_result"
    }
   ],
   "source": [
    "df1"
   ]
  },
  {
   "cell_type": "code",
   "execution_count": 18,
   "metadata": {},
   "outputs": [],
   "source": [
    "from sklearn.preprocessing import MinMaxScaler\n",
    "scaler=MinMaxScaler(feature_range=(0,1))\n",
    "df1=scaler.fit_transform(np.array(df1).reshape(-1,1))"
   ]
  },
  {
   "cell_type": "code",
   "execution_count": 19,
   "metadata": {},
   "outputs": [],
   "source": [
    "training_size=int(len(df1)*0.65)\n",
    "test_size=len(df1)-training_size\n",
    "train_data,test_data=df1[0:training_size,:],df1[training_size:len(df1),:1]"
   ]
  },
  {
   "cell_type": "code",
   "execution_count": 20,
   "metadata": {},
   "outputs": [
    {
     "data": {
      "text/plain": [
       "(1421, 766)"
      ]
     },
     "execution_count": 20,
     "metadata": {},
     "output_type": "execute_result"
    }
   ],
   "source": [
    "training_size,test_size"
   ]
  },
  {
   "cell_type": "code",
   "execution_count": 21,
   "metadata": {},
   "outputs": [],
   "source": [
    "import numpy\n",
    "# convert an array of values into a dataset matrix\n",
    "def create_dataset(dataset, time_step=1):\n",
    "\tdataX, dataY = [], []\n",
    "\tfor i in range(len(dataset)-time_step-1):\n",
    "\t\ta = dataset[i:(i+time_step), 0]   ###i=0, 0,1,2,3-----99   100 \n",
    "\t\tdataX.append(a)\n",
    "\t\tdataY.append(dataset[i + time_step, 0])\n",
    "\treturn numpy.array(dataX), numpy.array(dataY)"
   ]
  },
  {
   "cell_type": "code",
   "execution_count": 22,
   "metadata": {},
   "outputs": [],
   "source": [
    "# reshape into X=t,t+1,t+2,t+3 and Y=t+4\n",
    "time_step = 100\n",
    "X_train, y_train = create_dataset(train_data, time_step)\n",
    "X_test, ytest = create_dataset(test_data, time_step)"
   ]
  },
  {
   "cell_type": "code",
   "execution_count": 23,
   "metadata": {},
   "outputs": [
    {
     "name": "stdout",
     "output_type": "stream",
     "text": [
      "(1320, 100)\n",
      "(1320,)\n"
     ]
    },
    {
     "data": {
      "text/plain": [
       "(None, None)"
      ]
     },
     "execution_count": 23,
     "metadata": {},
     "output_type": "execute_result"
    }
   ],
   "source": [
    "print(X_train.shape), print(y_train.shape)"
   ]
  },
  {
   "cell_type": "markdown",
   "metadata": {},
   "source": []
  },
  {
   "cell_type": "code",
   "execution_count": 24,
   "metadata": {},
   "outputs": [
    {
     "name": "stdout",
     "output_type": "stream",
     "text": [
      "(665, 100)\n",
      "(665,)\n"
     ]
    },
    {
     "data": {
      "text/plain": [
       "(None, None)"
      ]
     },
     "execution_count": 24,
     "metadata": {},
     "output_type": "execute_result"
    }
   ],
   "source": [
    "print(X_test.shape), print(ytest.shape)"
   ]
  },
  {
   "cell_type": "code",
   "execution_count": 25,
   "metadata": {},
   "outputs": [
    {
     "data": {
      "text/plain": [
       "100"
      ]
     },
     "execution_count": 25,
     "metadata": {},
     "output_type": "execute_result"
    }
   ],
   "source": [
    "X_train.shape[1]"
   ]
  },
  {
   "cell_type": "code",
   "execution_count": 26,
   "metadata": {},
   "outputs": [],
   "source": [
    "# reshape input to be [samples, time steps, features] which is required for LSTM\n",
    "X_train =X_train.reshape(X_train.shape[0],X_train.shape[1] , 1)\n",
    "X_test = X_test.reshape(X_test.shape[0],X_test.shape[1] , 1)"
   ]
  },
  {
   "cell_type": "code",
   "execution_count": 27,
   "metadata": {},
   "outputs": [],
   "source": [
    "### Create the Stacked LSTM model\n",
    "from tensorflow.keras.models import Sequential\n",
    "from tensorflow.keras.layers import Dense\n",
    "from tensorflow.keras.layers import LSTM\n",
    "from keras.optimizers import Adam"
   ]
  },
  {
   "cell_type": "code",
   "execution_count": 28,
   "metadata": {},
   "outputs": [],
   "source": [
    "#opt = Adam(lr=0.0001)\n",
    "opt = Adam(lr=0.0025)\n",
    "\n",
    "model=Sequential()\n",
    "model.add(LSTM(50,return_sequences=True,input_shape=(100,1)))\n",
    "model.add(LSTM(50,return_sequences=True))\n",
    "model.add(LSTM(50))\n",
    "model.add(Dense(1))\n",
    "#model.compile(loss='mean_squared_error',optimizer='adam')\n",
    "model.compile(optimizer=opt, loss='mean_squared_error')"
   ]
  },
  {
   "cell_type": "code",
   "execution_count": 29,
   "metadata": {},
   "outputs": [
    {
     "name": "stdout",
     "output_type": "stream",
     "text": [
      "Model: \"sequential\"\n",
      "_________________________________________________________________\n",
      "Layer (type)                 Output Shape              Param #   \n",
      "=================================================================\n",
      "lstm (LSTM)                  (None, 100, 50)           10400     \n",
      "_________________________________________________________________\n",
      "lstm_1 (LSTM)                (None, 100, 50)           20200     \n",
      "_________________________________________________________________\n",
      "lstm_2 (LSTM)                (None, 50)                20200     \n",
      "_________________________________________________________________\n",
      "dense (Dense)                (None, 1)                 51        \n",
      "=================================================================\n",
      "Total params: 50,851\n",
      "Trainable params: 50,851\n",
      "Non-trainable params: 0\n",
      "_________________________________________________________________\n"
     ]
    }
   ],
   "source": [
    "model.summary()"
   ]
  },
  {
   "cell_type": "code",
   "execution_count": 30,
   "metadata": {},
   "outputs": [
    {
     "name": "stdout",
     "output_type": "stream",
     "text": [
      "Epoch 1/100\n",
      "11/11 [==============================] - 6s 170ms/step - loss: 0.0054 - val_loss: 0.0032\n",
      "Epoch 2/100\n",
      "11/11 [==============================] - 0s 27ms/step - loss: 5.9746e-04 - val_loss: 0.0023\n",
      "Epoch 3/100\n",
      "11/11 [==============================] - 0s 27ms/step - loss: 3.5516e-04 - val_loss: 0.0031\n",
      "Epoch 4/100\n",
      "11/11 [==============================] - 0s 26ms/step - loss: 2.9822e-04 - val_loss: 0.0042\n",
      "Epoch 5/100\n",
      "11/11 [==============================] - 0s 25ms/step - loss: 2.2954e-04 - val_loss: 0.0040\n",
      "Epoch 6/100\n",
      "11/11 [==============================] - 0s 25ms/step - loss: 2.6396e-04 - val_loss: 0.0026\n",
      "Epoch 7/100\n",
      "11/11 [==============================] - 0s 26ms/step - loss: 2.1823e-04 - val_loss: 0.0026\n",
      "Epoch 8/100\n",
      "11/11 [==============================] - 0s 26ms/step - loss: 2.0051e-04 - val_loss: 0.0038\n",
      "Epoch 9/100\n",
      "11/11 [==============================] - 0s 25ms/step - loss: 2.0816e-04 - val_loss: 0.0031\n",
      "Epoch 10/100\n",
      "11/11 [==============================] - 0s 26ms/step - loss: 2.1020e-04 - val_loss: 0.0036\n",
      "Epoch 11/100\n",
      "11/11 [==============================] - 0s 26ms/step - loss: 1.7191e-04 - val_loss: 0.0028\n",
      "Epoch 12/100\n",
      "11/11 [==============================] - 0s 26ms/step - loss: 1.6741e-04 - val_loss: 0.0059\n",
      "Epoch 13/100\n",
      "11/11 [==============================] - 0s 26ms/step - loss: 2.3740e-04 - val_loss: 0.0039\n",
      "Epoch 14/100\n",
      "11/11 [==============================] - 0s 25ms/step - loss: 2.0866e-04 - val_loss: 0.0035\n",
      "Epoch 15/100\n",
      "11/11 [==============================] - 0s 26ms/step - loss: 1.4601e-04 - val_loss: 0.0017\n",
      "Epoch 16/100\n",
      "11/11 [==============================] - 0s 26ms/step - loss: 1.3485e-04 - val_loss: 0.0022\n",
      "Epoch 17/100\n",
      "11/11 [==============================] - 0s 26ms/step - loss: 1.7362e-04 - val_loss: 0.0026\n",
      "Epoch 18/100\n",
      "11/11 [==============================] - 0s 26ms/step - loss: 1.3115e-04 - val_loss: 0.0027\n",
      "Epoch 19/100\n",
      "11/11 [==============================] - 0s 25ms/step - loss: 1.6560e-04 - val_loss: 0.0020\n",
      "Epoch 20/100\n",
      "11/11 [==============================] - 0s 26ms/step - loss: 1.3808e-04 - val_loss: 0.0026\n",
      "Epoch 21/100\n",
      "11/11 [==============================] - 0s 25ms/step - loss: 1.7868e-04 - val_loss: 0.0018\n",
      "Epoch 22/100\n",
      "11/11 [==============================] - 0s 25ms/step - loss: 1.4303e-04 - val_loss: 0.0021\n",
      "Epoch 23/100\n",
      "11/11 [==============================] - 0s 26ms/step - loss: 1.2507e-04 - val_loss: 0.0028\n",
      "Epoch 24/100\n",
      "11/11 [==============================] - 0s 26ms/step - loss: 1.4056e-04 - val_loss: 0.0021\n",
      "Epoch 25/100\n",
      "11/11 [==============================] - 0s 25ms/step - loss: 1.3857e-04 - val_loss: 0.0027\n",
      "Epoch 26/100\n",
      "11/11 [==============================] - 0s 25ms/step - loss: 1.3944e-04 - val_loss: 0.0014\n",
      "Epoch 27/100\n",
      "11/11 [==============================] - 0s 25ms/step - loss: 1.4786e-04 - val_loss: 0.0010\n",
      "Epoch 28/100\n",
      "11/11 [==============================] - 0s 25ms/step - loss: 1.2212e-04 - val_loss: 8.5131e-04\n",
      "Epoch 29/100\n",
      "11/11 [==============================] - 0s 25ms/step - loss: 1.4820e-04 - val_loss: 0.0011\n",
      "Epoch 30/100\n",
      "11/11 [==============================] - 0s 26ms/step - loss: 1.3312e-04 - val_loss: 0.0011\n",
      "Epoch 31/100\n",
      "11/11 [==============================] - 0s 26ms/step - loss: 9.5673e-05 - val_loss: 0.0019\n",
      "Epoch 32/100\n",
      "11/11 [==============================] - 0s 25ms/step - loss: 1.5460e-04 - val_loss: 0.0012\n",
      "Epoch 33/100\n",
      "11/11 [==============================] - 0s 25ms/step - loss: 1.1357e-04 - val_loss: 0.0016\n",
      "Epoch 34/100\n",
      "11/11 [==============================] - 0s 26ms/step - loss: 1.4681e-04 - val_loss: 0.0017\n",
      "Epoch 35/100\n",
      "11/11 [==============================] - 0s 26ms/step - loss: 1.3224e-04 - val_loss: 0.0021\n",
      "Epoch 36/100\n",
      "11/11 [==============================] - 0s 26ms/step - loss: 1.3857e-04 - val_loss: 0.0012\n",
      "Epoch 37/100\n",
      "11/11 [==============================] - 0s 25ms/step - loss: 1.1444e-04 - val_loss: 0.0011\n",
      "Epoch 38/100\n",
      "11/11 [==============================] - 0s 26ms/step - loss: 9.5337e-05 - val_loss: 7.7665e-04\n",
      "Epoch 39/100\n",
      "11/11 [==============================] - 0s 25ms/step - loss: 8.8618e-05 - val_loss: 6.4092e-04\n",
      "Epoch 40/100\n",
      "11/11 [==============================] - 0s 25ms/step - loss: 1.1520e-04 - val_loss: 5.9989e-04\n",
      "Epoch 41/100\n",
      "11/11 [==============================] - 0s 30ms/step - loss: 1.0315e-04 - val_loss: 6.6222e-04\n",
      "Epoch 42/100\n",
      "11/11 [==============================] - 0s 26ms/step - loss: 1.0027e-04 - val_loss: 7.6193e-04\n",
      "Epoch 43/100\n",
      "11/11 [==============================] - 0s 27ms/step - loss: 8.7858e-05 - val_loss: 7.3955e-04\n",
      "Epoch 44/100\n",
      "11/11 [==============================] - 0s 26ms/step - loss: 1.0049e-04 - val_loss: 8.0316e-04\n",
      "Epoch 45/100\n",
      "11/11 [==============================] - 0s 29ms/step - loss: 8.7932e-05 - val_loss: 5.1245e-04\n",
      "Epoch 46/100\n",
      "11/11 [==============================] - 0s 28ms/step - loss: 8.1404e-05 - val_loss: 5.7689e-04\n",
      "Epoch 47/100\n",
      "11/11 [==============================] - 0s 27ms/step - loss: 7.8278e-05 - val_loss: 5.0412e-04\n",
      "Epoch 48/100\n",
      "11/11 [==============================] - 0s 26ms/step - loss: 1.1724e-04 - val_loss: 0.0012\n",
      "Epoch 49/100\n",
      "11/11 [==============================] - 0s 26ms/step - loss: 1.0275e-04 - val_loss: 5.9360e-04\n",
      "Epoch 50/100\n",
      "11/11 [==============================] - 0s 26ms/step - loss: 1.4087e-04 - val_loss: 8.7062e-04\n",
      "Epoch 51/100\n",
      "11/11 [==============================] - 0s 29ms/step - loss: 9.8237e-05 - val_loss: 5.1857e-04\n",
      "Epoch 52/100\n",
      "11/11 [==============================] - 0s 26ms/step - loss: 7.3970e-05 - val_loss: 5.5012e-04\n",
      "Epoch 53/100\n",
      "11/11 [==============================] - 0s 28ms/step - loss: 9.5912e-05 - val_loss: 5.6095e-04\n",
      "Epoch 54/100\n",
      "11/11 [==============================] - 0s 25ms/step - loss: 7.0733e-05 - val_loss: 5.8060e-04\n",
      "Epoch 55/100\n",
      "11/11 [==============================] - 0s 26ms/step - loss: 7.3314e-05 - val_loss: 6.0408e-04\n",
      "Epoch 56/100\n",
      "11/11 [==============================] - 0s 24ms/step - loss: 7.5351e-05 - val_loss: 0.0012\n",
      "Epoch 57/100\n",
      "11/11 [==============================] - 0s 24ms/step - loss: 8.2229e-05 - val_loss: 4.8247e-04\n",
      "Epoch 58/100\n",
      "11/11 [==============================] - 0s 24ms/step - loss: 8.5920e-05 - val_loss: 4.6560e-04\n",
      "Epoch 59/100\n",
      "11/11 [==============================] - 0s 25ms/step - loss: 6.3134e-05 - val_loss: 5.4791e-04\n",
      "Epoch 60/100\n",
      "11/11 [==============================] - 0s 25ms/step - loss: 5.9178e-05 - val_loss: 4.2063e-04\n",
      "Epoch 61/100\n",
      "11/11 [==============================] - 0s 25ms/step - loss: 7.2454e-05 - val_loss: 4.7584e-04\n",
      "Epoch 62/100\n",
      "11/11 [==============================] - 0s 24ms/step - loss: 7.6811e-05 - val_loss: 5.5777e-04\n",
      "Epoch 63/100\n",
      "11/11 [==============================] - 0s 25ms/step - loss: 7.9608e-05 - val_loss: 3.8463e-04\n",
      "Epoch 64/100\n",
      "11/11 [==============================] - 0s 24ms/step - loss: 5.9675e-05 - val_loss: 3.8721e-04\n",
      "Epoch 65/100\n",
      "11/11 [==============================] - 0s 26ms/step - loss: 5.6284e-05 - val_loss: 3.3408e-04\n",
      "Epoch 66/100\n",
      "11/11 [==============================] - 0s 30ms/step - loss: 5.4816e-05 - val_loss: 4.5017e-04\n",
      "Epoch 67/100\n",
      "11/11 [==============================] - 0s 25ms/step - loss: 5.3050e-05 - val_loss: 3.2307e-04\n",
      "Epoch 68/100\n",
      "11/11 [==============================] - 0s 25ms/step - loss: 5.7833e-05 - val_loss: 3.6450e-04\n",
      "Epoch 69/100\n",
      "11/11 [==============================] - 0s 24ms/step - loss: 5.8666e-05 - val_loss: 5.8673e-04\n",
      "Epoch 70/100\n",
      "11/11 [==============================] - 0s 29ms/step - loss: 6.1163e-05 - val_loss: 4.9326e-04\n",
      "Epoch 71/100\n",
      "11/11 [==============================] - 0s 25ms/step - loss: 6.3730e-05 - val_loss: 4.9088e-04\n",
      "Epoch 72/100\n",
      "11/11 [==============================] - 0s 25ms/step - loss: 4.6205e-05 - val_loss: 7.7188e-04\n",
      "Epoch 73/100\n",
      "11/11 [==============================] - 0s 25ms/step - loss: 5.2962e-05 - val_loss: 5.5530e-04\n",
      "Epoch 74/100\n",
      "11/11 [==============================] - 0s 25ms/step - loss: 4.7715e-05 - val_loss: 7.8217e-04\n",
      "Epoch 75/100\n",
      "11/11 [==============================] - 0s 30ms/step - loss: 6.4672e-05 - val_loss: 9.1268e-04\n",
      "Epoch 76/100\n",
      "11/11 [==============================] - 0s 32ms/step - loss: 8.8789e-05 - val_loss: 3.8191e-04\n",
      "Epoch 77/100\n"
     ]
    },
    {
     "name": "stdout",
     "output_type": "stream",
     "text": [
      "11/11 [==============================] - 0s 28ms/step - loss: 6.3400e-05 - val_loss: 5.8076e-04\n",
      "Epoch 78/100\n",
      "11/11 [==============================] - 0s 28ms/step - loss: 4.9655e-05 - val_loss: 5.5010e-04\n",
      "Epoch 79/100\n",
      "11/11 [==============================] - 0s 30ms/step - loss: 5.2856e-05 - val_loss: 4.9426e-04\n",
      "Epoch 80/100\n",
      "11/11 [==============================] - 0s 33ms/step - loss: 4.0897e-05 - val_loss: 8.2801e-04\n",
      "Epoch 81/100\n",
      "11/11 [==============================] - 0s 27ms/step - loss: 4.6718e-05 - val_loss: 6.5179e-04\n",
      "Epoch 82/100\n",
      "11/11 [==============================] - 0s 25ms/step - loss: 5.1376e-05 - val_loss: 5.2415e-04\n",
      "Epoch 83/100\n",
      "11/11 [==============================] - 0s 25ms/step - loss: 4.8970e-05 - val_loss: 4.0863e-04\n",
      "Epoch 84/100\n",
      "11/11 [==============================] - 0s 29ms/step - loss: 5.0579e-05 - val_loss: 3.5460e-04\n",
      "Epoch 85/100\n",
      "11/11 [==============================] - 0s 25ms/step - loss: 4.0768e-05 - val_loss: 5.3730e-04\n",
      "Epoch 86/100\n",
      "11/11 [==============================] - 0s 24ms/step - loss: 3.6290e-05 - val_loss: 7.6038e-04\n",
      "Epoch 87/100\n",
      "11/11 [==============================] - 0s 27ms/step - loss: 4.1968e-05 - val_loss: 3.9280e-04\n",
      "Epoch 88/100\n",
      "11/11 [==============================] - 0s 31ms/step - loss: 4.9122e-05 - val_loss: 5.9078e-04\n",
      "Epoch 89/100\n",
      "11/11 [==============================] - 0s 25ms/step - loss: 4.4002e-05 - val_loss: 4.8515e-04\n",
      "Epoch 90/100\n",
      "11/11 [==============================] - 0s 26ms/step - loss: 4.6031e-05 - val_loss: 8.8631e-04\n",
      "Epoch 91/100\n",
      "11/11 [==============================] - 0s 25ms/step - loss: 4.8269e-05 - val_loss: 8.4637e-04\n",
      "Epoch 92/100\n",
      "11/11 [==============================] - 0s 26ms/step - loss: 5.2700e-05 - val_loss: 5.9013e-04\n",
      "Epoch 93/100\n",
      "11/11 [==============================] - 0s 25ms/step - loss: 4.4453e-05 - val_loss: 6.0928e-04\n",
      "Epoch 94/100\n",
      "11/11 [==============================] - 0s 25ms/step - loss: 4.0449e-05 - val_loss: 8.3762e-04\n",
      "Epoch 95/100\n",
      "11/11 [==============================] - 0s 25ms/step - loss: 4.6565e-05 - val_loss: 8.2779e-04\n",
      "Epoch 96/100\n",
      "11/11 [==============================] - 0s 25ms/step - loss: 4.5399e-05 - val_loss: 4.9832e-04\n",
      "Epoch 97/100\n",
      "11/11 [==============================] - 0s 25ms/step - loss: 5.7118e-05 - val_loss: 5.2243e-04\n",
      "Epoch 98/100\n",
      "11/11 [==============================] - 0s 26ms/step - loss: 8.1807e-05 - val_loss: 7.0088e-04\n",
      "Epoch 99/100\n",
      "11/11 [==============================] - 0s 25ms/step - loss: 5.9687e-05 - val_loss: 3.7994e-04\n",
      "Epoch 100/100\n",
      "11/11 [==============================] - 0s 25ms/step - loss: 5.4933e-05 - val_loss: 4.2796e-04\n"
     ]
    },
    {
     "data": {
      "text/plain": [
       "<tensorflow.python.keras.callbacks.History at 0x19ba735e9d0>"
      ]
     },
     "execution_count": 30,
     "metadata": {},
     "output_type": "execute_result"
    }
   ],
   "source": [
    "model.fit(X_train,y_train,validation_data=(X_test,ytest),epochs=100,batch_size=128,verbose=1)"
   ]
  },
  {
   "cell_type": "code",
   "execution_count": 31,
   "metadata": {},
   "outputs": [],
   "source": [
    "import tensorflow as tf\n",
    "### Do the prediction and check performance metrics\n",
    "train_predict=model.predict(X_train)\n",
    "test_predict=model.predict(X_test)\n",
    "##Transformback to original form\n",
    "train_predict=scaler.inverse_transform(train_predict)\n",
    "test_predict=scaler.inverse_transform(test_predict)\n",
    "### Calculate RMSE performance metrics"
   ]
  },
  {
   "cell_type": "code",
   "execution_count": 32,
   "metadata": {},
   "outputs": [
    {
     "data": {
      "text/plain": [
       "5139.82096855216"
      ]
     },
     "execution_count": 32,
     "metadata": {},
     "output_type": "execute_result"
    }
   ],
   "source": [
    "import math\n",
    "from sklearn.metrics import mean_squared_error\n",
    "math.sqrt(mean_squared_error(y_train,train_predict))"
   ]
  },
  {
   "cell_type": "code",
   "execution_count": 33,
   "metadata": {},
   "outputs": [
    {
     "data": {
      "text/plain": [
       "13885.731550886076"
      ]
     },
     "execution_count": 33,
     "metadata": {},
     "output_type": "execute_result"
    }
   ],
   "source": [
    "### Test Data RMSE\n",
    "math.sqrt(mean_squared_error(ytest,test_predict))"
   ]
  },
  {
   "cell_type": "code",
   "execution_count": 34,
   "metadata": {},
   "outputs": [
    {
     "data": {
      "image/png": "[encoded data removed]",
      "text/plain": [
       "<Figure size 432x288 with 1 Axes>"
      ]
     },
     "metadata": {
      "needs_background": "light"
     },
     "output_type": "display_data"
    }
   ],
   "source": [
    "# shift train predictions for plotting\n",
    "look_back=100\n",
    "trainPredictPlot = numpy.empty_like(df1)\n",
    "trainPredictPlot[:, :] = np.nan\n",
    "trainPredictPlot[look_back:len(train_predict)+look_back, :] = train_predict\n",
    "# shift test predictions for plotting\n",
    "testPredictPlot = numpy.empty_like(df1)\n",
    "testPredictPlot[:, :] = numpy.nan\n",
    "testPredictPlot[len(train_predict)+(look_back*2)+1:len(df1)-1, :] = test_predict\n",
    "# plot baseline and predictions\n",
    "plt.plot(scaler.inverse_transform(df1))\n",
    "plt.plot(trainPredictPlot)\n",
    "plt.plot(testPredictPlot)\n",
    "plt.show()"
   ]
  },
  {
   "cell_type": "code",
   "execution_count": 35,
   "metadata": {},
   "outputs": [
    {
     "name": "stdout",
     "output_type": "stream",
     "text": [
      "766\n",
      "666\n"
     ]
    }
   ],
   "source": [
    "len(test_data)\n",
    "tdl_int = len(test_data)\n",
    "tdl_length = tdl_int - 100\n",
    "print(tdl_int)\n",
    "print(tdl_length)"
   ]
  },
  {
   "cell_type": "code",
   "execution_count": 36,
   "metadata": {},
   "outputs": [
    {
     "data": {
      "text/plain": [
       "(1, 100)"
      ]
     },
     "execution_count": 36,
     "metadata": {},
     "output_type": "execute_result"
    }
   ],
   "source": [
    "x_input=test_data[tdl_length:].reshape(1,-1)\n",
    "x_input.shape"
   ]
  },
  {
   "cell_type": "code",
   "execution_count": 37,
   "metadata": {},
   "outputs": [
    {
     "data": {
      "text/plain": [
       "[0.3147821389019199,\n",
       " 0.31174644141192354,\n",
       " 0.31089268294786293,\n",
       " 0.31935412650203027,\n",
       " 0.3312082165743183,\n",
       " 0.33206304206416354,\n",
       " 0.32691592964832344,\n",
       " 0.32459562002649567,\n",
       " 0.34027431930177343,\n",
       " 0.35943235561102227,\n",
       " 0.3627019926185241,\n",
       " 0.3629717277195834,\n",
       " 0.379551355882034,\n",
       " 0.3799825938024514,\n",
       " 0.37437038062220346,\n",
       " 0.37424914278092797,\n",
       " 0.38957367131929993,\n",
       " 0.38183570889131885,\n",
       " 0.3492320689809395,\n",
       " 0.3483616609523072,\n",
       " 0.36091684483327546,\n",
       " 0.37040150200016725,\n",
       " 0.40026023809741595,\n",
       " 0.3832968846783775,\n",
       " 0.3915038535710635,\n",
       " 0.3965403983622429,\n",
       " 0.3811686792592504,\n",
       " 0.39053777595450717,\n",
       " 0.39447311385237765,\n",
       " 0.3913088100069241,\n",
       " 0.373363152192893,\n",
       " 0.3781618920286711,\n",
       " 0.37220553408848306,\n",
       " 0.36795689438842183,\n",
       " 0.38331045397341434,\n",
       " 0.39029352860261274,\n",
       " 0.3924429536471506,\n",
       " 0.3959565159073379,\n",
       " 0.43499272764595615,\n",
       " 0.46580417337672986,\n",
       " 0.4726650438051787,\n",
       " 0.48775305584683243,\n",
       " 0.47966064082452203,\n",
       " 0.465761291177649,\n",
       " 0.4859635594336431,\n",
       " 0.47479638987713446,\n",
       " 0.4849929721395415,\n",
       " 0.5041416669738752,\n",
       " 0.5406777054206864,\n",
       " 0.5372814350596922,\n",
       " 0.5540319477994325,\n",
       " 0.5597554533687926,\n",
       " 0.5902360417772395,\n",
       " 0.5935503729155667,\n",
       " 0.6012283002689577,\n",
       " 0.6579856120414179,\n",
       " 0.671483841981787,\n",
       " 0.6547828954326432,\n",
       " 0.696437176318894,\n",
       " 0.7548193812741424,\n",
       " 0.8073208862062123,\n",
       " 0.8367305067224671,\n",
       " 0.8255349100965862,\n",
       " 0.7864041964415235,\n",
       " 0.7288909097029875,\n",
       " 0.695005031578456,\n",
       " 0.7649622097882324,\n",
       " 0.8035334818326629,\n",
       " 0.7548400774883385,\n",
       " 0.7414970690410544,\n",
       " 0.7335216237774966,\n",
       " 0.7508139823247163,\n",
       " 0.7392636512470824,\n",
       " 0.728501144715149,\n",
       " 0.6311529098600415,\n",
       " 0.6760963562758951,\n",
       " 0.6567564027905156,\n",
       " 0.6613276454846659,\n",
       " 0.6629153338380136,\n",
       " 0.6671097365997131,\n",
       " 0.6230478113567504,\n",
       " 0.6481382882143601,\n",
       " 0.7031157671683709,\n",
       " 0.7021496492894134,\n",
       " 0.678335169582084,\n",
       " 0.6870518125621841,\n",
       " 0.7277288624458346,\n",
       " 0.7681726975558157,\n",
       " 0.756916059212854,\n",
       " 0.7820309366523358,\n",
       " 0.8051555967448483,\n",
       " 0.7976809672632187,\n",
       " 0.9480315228529401,\n",
       " 0.9538995796987703,\n",
       " 0.9216788999975104,\n",
       " 0.9833434254412412,\n",
       " 0.9750047900856873,\n",
       " 0.966772212656633,\n",
       " 0.9999999999999999,\n",
       " 0.9753343991911168]"
      ]
     },
     "execution_count": 37,
     "metadata": {},
     "output_type": "execute_result"
    }
   ],
   "source": [
    "temp_input=list(x_input)\n",
    "temp_input=temp_input[0].tolist()\n",
    "\n",
    "temp_input"
   ]
  },
  {
   "cell_type": "code",
   "execution_count": 38,
   "metadata": {},
   "outputs": [
    {
     "name": "stdout",
     "output_type": "stream",
     "text": [
      "[0.86559826]\n",
      "101\n",
      "1 day input [0.31174644 0.31089268 0.31935413 0.33120822 0.33206304 0.32691593\n",
      " 0.32459562 0.34027432 0.35943236 0.36270199 0.36297173 0.37955136\n",
      " 0.37998259 0.37437038 0.37424914 0.38957367 0.38183571 0.34923207\n",
      " 0.34836166 0.36091684 0.3704015  0.40026024 0.38329688 0.39150385\n",
      " 0.3965404  0.38116868 0.39053778 0.39447311 0.39130881 0.37336315\n",
      " 0.37816189 0.37220553 0.36795689 0.38331045 0.39029353 0.39244295\n",
      " 0.39595652 0.43499273 0.46580417 0.47266504 0.48775306 0.47966064\n",
      " 0.46576129 0.48596356 0.47479639 0.48499297 0.50414167 0.54067771\n",
      " 0.53728144 0.55403195 0.55975545 0.59023604 0.59355037 0.6012283\n",
      " 0.65798561 0.67148384 0.6547829  0.69643718 0.75481938 0.80732089\n",
      " 0.83673051 0.82553491 0.7864042  0.72889091 0.69500503 0.76496221\n",
      " 0.80353348 0.75484008 0.74149707 0.73352162 0.75081398 0.73926365\n",
      " 0.72850114 0.63115291 0.67609636 0.6567564  0.66132765 0.66291533\n",
      " 0.66710974 0.62304781 0.64813829 0.70311577 0.70214965 0.67833517\n",
      " 0.68705181 0.72772886 0.7681727  0.75691606 0.78203094 0.8051556\n",
      " 0.79768097 0.94803152 0.95389958 0.9216789  0.98334343 0.97500479\n",
      " 0.96677221 1.         0.9753344  0.86559826]\n",
      "1 day output [[0.7345723]]\n",
      "2 day input [0.31089268 0.31935413 0.33120822 0.33206304 0.32691593 0.32459562\n",
      " 0.34027432 0.35943236 0.36270199 0.36297173 0.37955136 0.37998259\n",
      " 0.37437038 0.37424914 0.38957367 0.38183571 0.34923207 0.34836166\n",
      " 0.36091684 0.3704015  0.40026024 0.38329688 0.39150385 0.3965404\n",
      " 0.38116868 0.39053778 0.39447311 0.39130881 0.37336315 0.37816189\n",
      " 0.37220553 0.36795689 0.38331045 0.39029353 0.39244295 0.39595652\n",
      " 0.43499273 0.46580417 0.47266504 0.48775306 0.47966064 0.46576129\n",
      " 0.48596356 0.47479639 0.48499297 0.50414167 0.54067771 0.53728144\n",
      " 0.55403195 0.55975545 0.59023604 0.59355037 0.6012283  0.65798561\n",
      " 0.67148384 0.6547829  0.69643718 0.75481938 0.80732089 0.83673051\n",
      " 0.82553491 0.7864042  0.72889091 0.69500503 0.76496221 0.80353348\n",
      " 0.75484008 0.74149707 0.73352162 0.75081398 0.73926365 0.72850114\n",
      " 0.63115291 0.67609636 0.6567564  0.66132765 0.66291533 0.66710974\n",
      " 0.62304781 0.64813829 0.70311577 0.70214965 0.67833517 0.68705181\n",
      " 0.72772886 0.7681727  0.75691606 0.78203094 0.8051556  0.79768097\n",
      " 0.94803152 0.95389958 0.9216789  0.98334343 0.97500479 0.96677221\n",
      " 1.         0.9753344  0.86559826 0.73457229]\n",
      "2 day output [[0.6368943]]\n",
      "3 day input [0.31935413 0.33120822 0.33206304 0.32691593 0.32459562 0.34027432\n",
      " 0.35943236 0.36270199 0.36297173 0.37955136 0.37998259 0.37437038\n",
      " 0.37424914 0.38957367 0.38183571 0.34923207 0.34836166 0.36091684\n",
      " 0.3704015  0.40026024 0.38329688 0.39150385 0.3965404  0.38116868\n",
      " 0.39053778 0.39447311 0.39130881 0.37336315 0.37816189 0.37220553\n",
      " 0.36795689 0.38331045 0.39029353 0.39244295 0.39595652 0.43499273\n",
      " 0.46580417 0.47266504 0.48775306 0.47966064 0.46576129 0.48596356\n",
      " 0.47479639 0.48499297 0.50414167 0.54067771 0.53728144 0.55403195\n",
      " 0.55975545 0.59023604 0.59355037 0.6012283  0.65798561 0.67148384\n",
      " 0.6547829  0.69643718 0.75481938 0.80732089 0.83673051 0.82553491\n",
      " 0.7864042  0.72889091 0.69500503 0.76496221 0.80353348 0.75484008\n",
      " 0.74149707 0.73352162 0.75081398 0.73926365 0.72850114 0.63115291\n",
      " 0.67609636 0.6567564  0.66132765 0.66291533 0.66710974 0.62304781\n",
      " 0.64813829 0.70311577 0.70214965 0.67833517 0.68705181 0.72772886\n",
      " 0.7681727  0.75691606 0.78203094 0.8051556  0.79768097 0.94803152\n",
      " 0.95389958 0.9216789  0.98334343 0.97500479 0.96677221 1.\n",
      " 0.9753344  0.86559826 0.73457229 0.63689429]\n",
      "3 day output [[0.5962721]]\n",
      "4 day input [0.33120822 0.33206304 0.32691593 0.32459562 0.34027432 0.35943236\n",
      " 0.36270199 0.36297173 0.37955136 0.37998259 0.37437038 0.37424914\n",
      " 0.38957367 0.38183571 0.34923207 0.34836166 0.36091684 0.3704015\n",
      " 0.40026024 0.38329688 0.39150385 0.3965404  0.38116868 0.39053778\n",
      " 0.39447311 0.39130881 0.37336315 0.37816189 0.37220553 0.36795689\n",
      " 0.38331045 0.39029353 0.39244295 0.39595652 0.43499273 0.46580417\n",
      " 0.47266504 0.48775306 0.47966064 0.46576129 0.48596356 0.47479639\n",
      " 0.48499297 0.50414167 0.54067771 0.53728144 0.55403195 0.55975545\n",
      " 0.59023604 0.59355037 0.6012283  0.65798561 0.67148384 0.6547829\n",
      " 0.69643718 0.75481938 0.80732089 0.83673051 0.82553491 0.7864042\n",
      " 0.72889091 0.69500503 0.76496221 0.80353348 0.75484008 0.74149707\n",
      " 0.73352162 0.75081398 0.73926365 0.72850114 0.63115291 0.67609636\n",
      " 0.6567564  0.66132765 0.66291533 0.66710974 0.62304781 0.64813829\n",
      " 0.70311577 0.70214965 0.67833517 0.68705181 0.72772886 0.7681727\n",
      " 0.75691606 0.78203094 0.8051556  0.79768097 0.94803152 0.95389958\n",
      " 0.9216789  0.98334343 0.97500479 0.96677221 1.         0.9753344\n",
      " 0.86559826 0.73457229 0.63689429 0.59627211]\n",
      "4 day output [[0.58644885]]\n",
      "5 day input [0.33206304 0.32691593 0.32459562 0.34027432 0.35943236 0.36270199\n",
      " 0.36297173 0.37955136 0.37998259 0.37437038 0.37424914 0.38957367\n",
      " 0.38183571 0.34923207 0.34836166 0.36091684 0.3704015  0.40026024\n",
      " 0.38329688 0.39150385 0.3965404  0.38116868 0.39053778 0.39447311\n",
      " 0.39130881 0.37336315 0.37816189 0.37220553 0.36795689 0.38331045\n",
      " 0.39029353 0.39244295 0.39595652 0.43499273 0.46580417 0.47266504\n",
      " 0.48775306 0.47966064 0.46576129 0.48596356 0.47479639 0.48499297\n",
      " 0.50414167 0.54067771 0.53728144 0.55403195 0.55975545 0.59023604\n",
      " 0.59355037 0.6012283  0.65798561 0.67148384 0.6547829  0.69643718\n",
      " 0.75481938 0.80732089 0.83673051 0.82553491 0.7864042  0.72889091\n",
      " 0.69500503 0.76496221 0.80353348 0.75484008 0.74149707 0.73352162\n",
      " 0.75081398 0.73926365 0.72850114 0.63115291 0.67609636 0.6567564\n",
      " 0.66132765 0.66291533 0.66710974 0.62304781 0.64813829 0.70311577\n",
      " 0.70214965 0.67833517 0.68705181 0.72772886 0.7681727  0.75691606\n",
      " 0.78203094 0.8051556  0.79768097 0.94803152 0.95389958 0.9216789\n",
      " 0.98334343 0.97500479 0.96677221 1.         0.9753344  0.86559826\n",
      " 0.73457229 0.63689429 0.59627211 0.58644885]\n",
      "5 day output [[0.57402277]]\n",
      "6 day input [0.32691593 0.32459562 0.34027432 0.35943236 0.36270199 0.36297173\n",
      " 0.37955136 0.37998259 0.37437038 0.37424914 0.38957367 0.38183571\n",
      " 0.34923207 0.34836166 0.36091684 0.3704015  0.40026024 0.38329688\n",
      " 0.39150385 0.3965404  0.38116868 0.39053778 0.39447311 0.39130881\n",
      " 0.37336315 0.37816189 0.37220553 0.36795689 0.38331045 0.39029353\n",
      " 0.39244295 0.39595652 0.43499273 0.46580417 0.47266504 0.48775306\n",
      " 0.47966064 0.46576129 0.48596356 0.47479639 0.48499297 0.50414167\n",
      " 0.54067771 0.53728144 0.55403195 0.55975545 0.59023604 0.59355037\n",
      " 0.6012283  0.65798561 0.67148384 0.6547829  0.69643718 0.75481938\n",
      " 0.80732089 0.83673051 0.82553491 0.7864042  0.72889091 0.69500503\n",
      " 0.76496221 0.80353348 0.75484008 0.74149707 0.73352162 0.75081398\n",
      " 0.73926365 0.72850114 0.63115291 0.67609636 0.6567564  0.66132765\n",
      " 0.66291533 0.66710974 0.62304781 0.64813829 0.70311577 0.70214965\n",
      " 0.67833517 0.68705181 0.72772886 0.7681727  0.75691606 0.78203094\n",
      " 0.8051556  0.79768097 0.94803152 0.95389958 0.9216789  0.98334343\n",
      " 0.97500479 0.96677221 1.         0.9753344  0.86559826 0.73457229\n",
      " 0.63689429 0.59627211 0.58644885 0.57402277]\n",
      "6 day output [[0.5463063]]\n",
      "7 day input [0.32459562 0.34027432 0.35943236 0.36270199 0.36297173 0.37955136\n",
      " 0.37998259 0.37437038 0.37424914 0.38957367 0.38183571 0.34923207\n",
      " 0.34836166 0.36091684 0.3704015  0.40026024 0.38329688 0.39150385\n",
      " 0.3965404  0.38116868 0.39053778 0.39447311 0.39130881 0.37336315\n",
      " 0.37816189 0.37220553 0.36795689 0.38331045 0.39029353 0.39244295\n",
      " 0.39595652 0.43499273 0.46580417 0.47266504 0.48775306 0.47966064\n",
      " 0.46576129 0.48596356 0.47479639 0.48499297 0.50414167 0.54067771\n",
      " 0.53728144 0.55403195 0.55975545 0.59023604 0.59355037 0.6012283\n",
      " 0.65798561 0.67148384 0.6547829  0.69643718 0.75481938 0.80732089\n",
      " 0.83673051 0.82553491 0.7864042  0.72889091 0.69500503 0.76496221\n",
      " 0.80353348 0.75484008 0.74149707 0.73352162 0.75081398 0.73926365\n",
      " 0.72850114 0.63115291 0.67609636 0.6567564  0.66132765 0.66291533\n",
      " 0.66710974 0.62304781 0.64813829 0.70311577 0.70214965 0.67833517\n",
      " 0.68705181 0.72772886 0.7681727  0.75691606 0.78203094 0.8051556\n",
      " 0.79768097 0.94803152 0.95389958 0.9216789  0.98334343 0.97500479\n",
      " 0.96677221 1.         0.9753344  0.86559826 0.73457229 0.63689429\n",
      " 0.59627211 0.58644885 0.57402277 0.54630631]\n",
      "7 day output [[0.5072445]]\n",
      "8 day input [0.34027432 0.35943236 0.36270199 0.36297173 0.37955136 0.37998259\n",
      " 0.37437038 0.37424914 0.38957367 0.38183571 0.34923207 0.34836166\n",
      " 0.36091684 0.3704015  0.40026024 0.38329688 0.39150385 0.3965404\n",
      " 0.38116868 0.39053778 0.39447311 0.39130881 0.37336315 0.37816189\n",
      " 0.37220553 0.36795689 0.38331045 0.39029353 0.39244295 0.39595652\n",
      " 0.43499273 0.46580417 0.47266504 0.48775306 0.47966064 0.46576129\n",
      " 0.48596356 0.47479639 0.48499297 0.50414167 0.54067771 0.53728144\n",
      " 0.55403195 0.55975545 0.59023604 0.59355037 0.6012283  0.65798561\n",
      " 0.67148384 0.6547829  0.69643718 0.75481938 0.80732089 0.83673051\n",
      " 0.82553491 0.7864042  0.72889091 0.69500503 0.76496221 0.80353348\n",
      " 0.75484008 0.74149707 0.73352162 0.75081398 0.73926365 0.72850114\n",
      " 0.63115291 0.67609636 0.6567564  0.66132765 0.66291533 0.66710974\n",
      " 0.62304781 0.64813829 0.70311577 0.70214965 0.67833517 0.68705181\n",
      " 0.72772886 0.7681727  0.75691606 0.78203094 0.8051556  0.79768097\n",
      " 0.94803152 0.95389958 0.9216789  0.98334343 0.97500479 0.96677221\n",
      " 1.         0.9753344  0.86559826 0.73457229 0.63689429 0.59627211\n",
      " 0.58644885 0.57402277 0.54630631 0.50724453]\n",
      "8 day output [[0.46801934]]\n",
      "9 day input [0.35943236 0.36270199 0.36297173 0.37955136 0.37998259 0.37437038\n",
      " 0.37424914 0.38957367 0.38183571 0.34923207 0.34836166 0.36091684\n",
      " 0.3704015  0.40026024 0.38329688 0.39150385 0.3965404  0.38116868\n",
      " 0.39053778 0.39447311 0.39130881 0.37336315 0.37816189 0.37220553\n",
      " 0.36795689 0.38331045 0.39029353 0.39244295 0.39595652 0.43499273\n",
      " 0.46580417 0.47266504 0.48775306 0.47966064 0.46576129 0.48596356\n",
      " 0.47479639 0.48499297 0.50414167 0.54067771 0.53728144 0.55403195\n",
      " 0.55975545 0.59023604 0.59355037 0.6012283  0.65798561 0.67148384\n",
      " 0.6547829  0.69643718 0.75481938 0.80732089 0.83673051 0.82553491\n",
      " 0.7864042  0.72889091 0.69500503 0.76496221 0.80353348 0.75484008\n",
      " 0.74149707 0.73352162 0.75081398 0.73926365 0.72850114 0.63115291\n",
      " 0.67609636 0.6567564  0.66132765 0.66291533 0.66710974 0.62304781\n",
      " 0.64813829 0.70311577 0.70214965 0.67833517 0.68705181 0.72772886\n",
      " 0.7681727  0.75691606 0.78203094 0.8051556  0.79768097 0.94803152\n",
      " 0.95389958 0.9216789  0.98334343 0.97500479 0.96677221 1.\n",
      " 0.9753344  0.86559826 0.73457229 0.63689429 0.59627211 0.58644885\n",
      " 0.57402277 0.54630631 0.50724453 0.46801934]\n",
      "9 day output [[0.43659517]]\n",
      "10 day input [0.36270199 0.36297173 0.37955136 0.37998259 0.37437038 0.37424914\n",
      " 0.38957367 0.38183571 0.34923207 0.34836166 0.36091684 0.3704015\n",
      " 0.40026024 0.38329688 0.39150385 0.3965404  0.38116868 0.39053778\n",
      " 0.39447311 0.39130881 0.37336315 0.37816189 0.37220553 0.36795689\n",
      " 0.38331045 0.39029353 0.39244295 0.39595652 0.43499273 0.46580417\n",
      " 0.47266504 0.48775306 0.47966064 0.46576129 0.48596356 0.47479639\n",
      " 0.48499297 0.50414167 0.54067771 0.53728144 0.55403195 0.55975545\n",
      " 0.59023604 0.59355037 0.6012283  0.65798561 0.67148384 0.6547829\n",
      " 0.69643718 0.75481938 0.80732089 0.83673051 0.82553491 0.7864042\n",
      " 0.72889091 0.69500503 0.76496221 0.80353348 0.75484008 0.74149707\n",
      " 0.73352162 0.75081398 0.73926365 0.72850114 0.63115291 0.67609636\n",
      " 0.6567564  0.66132765 0.66291533 0.66710974 0.62304781 0.64813829\n",
      " 0.70311577 0.70214965 0.67833517 0.68705181 0.72772886 0.7681727\n",
      " 0.75691606 0.78203094 0.8051556  0.79768097 0.94803152 0.95389958\n",
      " 0.9216789  0.98334343 0.97500479 0.96677221 1.         0.9753344\n",
      " 0.86559826 0.73457229 0.63689429 0.59627211 0.58644885 0.57402277\n",
      " 0.54630631 0.50724453 0.46801934 0.43659517]\n",
      "10 day output [[0.41425833]]\n",
      "11 day input [0.36297173 0.37955136 0.37998259 0.37437038 0.37424914 0.38957367\n",
      " 0.38183571 0.34923207 0.34836166 0.36091684 0.3704015  0.40026024\n",
      " 0.38329688 0.39150385 0.3965404  0.38116868 0.39053778 0.39447311\n",
      " 0.39130881 0.37336315 0.37816189 0.37220553 0.36795689 0.38331045\n",
      " 0.39029353 0.39244295 0.39595652 0.43499273 0.46580417 0.47266504\n",
      " 0.48775306 0.47966064 0.46576129 0.48596356 0.47479639 0.48499297\n",
      " 0.50414167 0.54067771 0.53728144 0.55403195 0.55975545 0.59023604\n",
      " 0.59355037 0.6012283  0.65798561 0.67148384 0.6547829  0.69643718\n",
      " 0.75481938 0.80732089 0.83673051 0.82553491 0.7864042  0.72889091\n",
      " 0.69500503 0.76496221 0.80353348 0.75484008 0.74149707 0.73352162\n",
      " 0.75081398 0.73926365 0.72850114 0.63115291 0.67609636 0.6567564\n",
      " 0.66132765 0.66291533 0.66710974 0.62304781 0.64813829 0.70311577\n",
      " 0.70214965 0.67833517 0.68705181 0.72772886 0.7681727  0.75691606\n",
      " 0.78203094 0.8051556  0.79768097 0.94803152 0.95389958 0.9216789\n",
      " 0.98334343 0.97500479 0.96677221 1.         0.9753344  0.86559826\n",
      " 0.73457229 0.63689429 0.59627211 0.58644885 0.57402277 0.54630631\n",
      " 0.50724453 0.46801934 0.43659517 0.41425833]\n"
     ]
    },
    {
     "name": "stdout",
     "output_type": "stream",
     "text": [
      "11 day output [[0.39870098]]\n",
      "12 day input [0.37955136 0.37998259 0.37437038 0.37424914 0.38957367 0.38183571\n",
      " 0.34923207 0.34836166 0.36091684 0.3704015  0.40026024 0.38329688\n",
      " 0.39150385 0.3965404  0.38116868 0.39053778 0.39447311 0.39130881\n",
      " 0.37336315 0.37816189 0.37220553 0.36795689 0.38331045 0.39029353\n",
      " 0.39244295 0.39595652 0.43499273 0.46580417 0.47266504 0.48775306\n",
      " 0.47966064 0.46576129 0.48596356 0.47479639 0.48499297 0.50414167\n",
      " 0.54067771 0.53728144 0.55403195 0.55975545 0.59023604 0.59355037\n",
      " 0.6012283  0.65798561 0.67148384 0.6547829  0.69643718 0.75481938\n",
      " 0.80732089 0.83673051 0.82553491 0.7864042  0.72889091 0.69500503\n",
      " 0.76496221 0.80353348 0.75484008 0.74149707 0.73352162 0.75081398\n",
      " 0.73926365 0.72850114 0.63115291 0.67609636 0.6567564  0.66132765\n",
      " 0.66291533 0.66710974 0.62304781 0.64813829 0.70311577 0.70214965\n",
      " 0.67833517 0.68705181 0.72772886 0.7681727  0.75691606 0.78203094\n",
      " 0.8051556  0.79768097 0.94803152 0.95389958 0.9216789  0.98334343\n",
      " 0.97500479 0.96677221 1.         0.9753344  0.86559826 0.73457229\n",
      " 0.63689429 0.59627211 0.58644885 0.57402277 0.54630631 0.50724453\n",
      " 0.46801934 0.43659517 0.41425833 0.39870098]\n",
      "12 day output [[0.3864012]]\n",
      "13 day input [0.37998259 0.37437038 0.37424914 0.38957367 0.38183571 0.34923207\n",
      " 0.34836166 0.36091684 0.3704015  0.40026024 0.38329688 0.39150385\n",
      " 0.3965404  0.38116868 0.39053778 0.39447311 0.39130881 0.37336315\n",
      " 0.37816189 0.37220553 0.36795689 0.38331045 0.39029353 0.39244295\n",
      " 0.39595652 0.43499273 0.46580417 0.47266504 0.48775306 0.47966064\n",
      " 0.46576129 0.48596356 0.47479639 0.48499297 0.50414167 0.54067771\n",
      " 0.53728144 0.55403195 0.55975545 0.59023604 0.59355037 0.6012283\n",
      " 0.65798561 0.67148384 0.6547829  0.69643718 0.75481938 0.80732089\n",
      " 0.83673051 0.82553491 0.7864042  0.72889091 0.69500503 0.76496221\n",
      " 0.80353348 0.75484008 0.74149707 0.73352162 0.75081398 0.73926365\n",
      " 0.72850114 0.63115291 0.67609636 0.6567564  0.66132765 0.66291533\n",
      " 0.66710974 0.62304781 0.64813829 0.70311577 0.70214965 0.67833517\n",
      " 0.68705181 0.72772886 0.7681727  0.75691606 0.78203094 0.8051556\n",
      " 0.79768097 0.94803152 0.95389958 0.9216789  0.98334343 0.97500479\n",
      " 0.96677221 1.         0.9753344  0.86559826 0.73457229 0.63689429\n",
      " 0.59627211 0.58644885 0.57402277 0.54630631 0.50724453 0.46801934\n",
      " 0.43659517 0.41425833 0.39870098 0.38640121]\n",
      "13 day output [[0.37525105]]\n",
      "14 day input [0.37437038 0.37424914 0.38957367 0.38183571 0.34923207 0.34836166\n",
      " 0.36091684 0.3704015  0.40026024 0.38329688 0.39150385 0.3965404\n",
      " 0.38116868 0.39053778 0.39447311 0.39130881 0.37336315 0.37816189\n",
      " 0.37220553 0.36795689 0.38331045 0.39029353 0.39244295 0.39595652\n",
      " 0.43499273 0.46580417 0.47266504 0.48775306 0.47966064 0.46576129\n",
      " 0.48596356 0.47479639 0.48499297 0.50414167 0.54067771 0.53728144\n",
      " 0.55403195 0.55975545 0.59023604 0.59355037 0.6012283  0.65798561\n",
      " 0.67148384 0.6547829  0.69643718 0.75481938 0.80732089 0.83673051\n",
      " 0.82553491 0.7864042  0.72889091 0.69500503 0.76496221 0.80353348\n",
      " 0.75484008 0.74149707 0.73352162 0.75081398 0.73926365 0.72850114\n",
      " 0.63115291 0.67609636 0.6567564  0.66132765 0.66291533 0.66710974\n",
      " 0.62304781 0.64813829 0.70311577 0.70214965 0.67833517 0.68705181\n",
      " 0.72772886 0.7681727  0.75691606 0.78203094 0.8051556  0.79768097\n",
      " 0.94803152 0.95389958 0.9216789  0.98334343 0.97500479 0.96677221\n",
      " 1.         0.9753344  0.86559826 0.73457229 0.63689429 0.59627211\n",
      " 0.58644885 0.57402277 0.54630631 0.50724453 0.46801934 0.43659517\n",
      " 0.41425833 0.39870098 0.38640121 0.37525105]\n",
      "14 day output [[0.36428937]]\n",
      "15 day input [0.37424914 0.38957367 0.38183571 0.34923207 0.34836166 0.36091684\n",
      " 0.3704015  0.40026024 0.38329688 0.39150385 0.3965404  0.38116868\n",
      " 0.39053778 0.39447311 0.39130881 0.37336315 0.37816189 0.37220553\n",
      " 0.36795689 0.38331045 0.39029353 0.39244295 0.39595652 0.43499273\n",
      " 0.46580417 0.47266504 0.48775306 0.47966064 0.46576129 0.48596356\n",
      " 0.47479639 0.48499297 0.50414167 0.54067771 0.53728144 0.55403195\n",
      " 0.55975545 0.59023604 0.59355037 0.6012283  0.65798561 0.67148384\n",
      " 0.6547829  0.69643718 0.75481938 0.80732089 0.83673051 0.82553491\n",
      " 0.7864042  0.72889091 0.69500503 0.76496221 0.80353348 0.75484008\n",
      " 0.74149707 0.73352162 0.75081398 0.73926365 0.72850114 0.63115291\n",
      " 0.67609636 0.6567564  0.66132765 0.66291533 0.66710974 0.62304781\n",
      " 0.64813829 0.70311577 0.70214965 0.67833517 0.68705181 0.72772886\n",
      " 0.7681727  0.75691606 0.78203094 0.8051556  0.79768097 0.94803152\n",
      " 0.95389958 0.9216789  0.98334343 0.97500479 0.96677221 1.\n",
      " 0.9753344  0.86559826 0.73457229 0.63689429 0.59627211 0.58644885\n",
      " 0.57402277 0.54630631 0.50724453 0.46801934 0.43659517 0.41425833\n",
      " 0.39870098 0.38640121 0.37525105 0.36428937]\n",
      "15 day output [[0.35369578]]\n",
      "16 day input [0.38957367 0.38183571 0.34923207 0.34836166 0.36091684 0.3704015\n",
      " 0.40026024 0.38329688 0.39150385 0.3965404  0.38116868 0.39053778\n",
      " 0.39447311 0.39130881 0.37336315 0.37816189 0.37220553 0.36795689\n",
      " 0.38331045 0.39029353 0.39244295 0.39595652 0.43499273 0.46580417\n",
      " 0.47266504 0.48775306 0.47966064 0.46576129 0.48596356 0.47479639\n",
      " 0.48499297 0.50414167 0.54067771 0.53728144 0.55403195 0.55975545\n",
      " 0.59023604 0.59355037 0.6012283  0.65798561 0.67148384 0.6547829\n",
      " 0.69643718 0.75481938 0.80732089 0.83673051 0.82553491 0.7864042\n",
      " 0.72889091 0.69500503 0.76496221 0.80353348 0.75484008 0.74149707\n",
      " 0.73352162 0.75081398 0.73926365 0.72850114 0.63115291 0.67609636\n",
      " 0.6567564  0.66132765 0.66291533 0.66710974 0.62304781 0.64813829\n",
      " 0.70311577 0.70214965 0.67833517 0.68705181 0.72772886 0.7681727\n",
      " 0.75691606 0.78203094 0.8051556  0.79768097 0.94803152 0.95389958\n",
      " 0.9216789  0.98334343 0.97500479 0.96677221 1.         0.9753344\n",
      " 0.86559826 0.73457229 0.63689429 0.59627211 0.58644885 0.57402277\n",
      " 0.54630631 0.50724453 0.46801934 0.43659517 0.41425833 0.39870098\n",
      " 0.38640121 0.37525105 0.36428937 0.35369578]\n",
      "16 day output [[0.34386614]]\n",
      "17 day input [0.38183571 0.34923207 0.34836166 0.36091684 0.3704015  0.40026024\n",
      " 0.38329688 0.39150385 0.3965404  0.38116868 0.39053778 0.39447311\n",
      " 0.39130881 0.37336315 0.37816189 0.37220553 0.36795689 0.38331045\n",
      " 0.39029353 0.39244295 0.39595652 0.43499273 0.46580417 0.47266504\n",
      " 0.48775306 0.47966064 0.46576129 0.48596356 0.47479639 0.48499297\n",
      " 0.50414167 0.54067771 0.53728144 0.55403195 0.55975545 0.59023604\n",
      " 0.59355037 0.6012283  0.65798561 0.67148384 0.6547829  0.69643718\n",
      " 0.75481938 0.80732089 0.83673051 0.82553491 0.7864042  0.72889091\n",
      " 0.69500503 0.76496221 0.80353348 0.75484008 0.74149707 0.73352162\n",
      " 0.75081398 0.73926365 0.72850114 0.63115291 0.67609636 0.6567564\n",
      " 0.66132765 0.66291533 0.66710974 0.62304781 0.64813829 0.70311577\n",
      " 0.70214965 0.67833517 0.68705181 0.72772886 0.7681727  0.75691606\n",
      " 0.78203094 0.8051556  0.79768097 0.94803152 0.95389958 0.9216789\n",
      " 0.98334343 0.97500479 0.96677221 1.         0.9753344  0.86559826\n",
      " 0.73457229 0.63689429 0.59627211 0.58644885 0.57402277 0.54630631\n",
      " 0.50724453 0.46801934 0.43659517 0.41425833 0.39870098 0.38640121\n",
      " 0.37525105 0.36428937 0.35369578 0.34386614]\n",
      "17 day output [[0.33479348]]\n",
      "18 day input [0.34923207 0.34836166 0.36091684 0.3704015  0.40026024 0.38329688\n",
      " 0.39150385 0.3965404  0.38116868 0.39053778 0.39447311 0.39130881\n",
      " 0.37336315 0.37816189 0.37220553 0.36795689 0.38331045 0.39029353\n",
      " 0.39244295 0.39595652 0.43499273 0.46580417 0.47266504 0.48775306\n",
      " 0.47966064 0.46576129 0.48596356 0.47479639 0.48499297 0.50414167\n",
      " 0.54067771 0.53728144 0.55403195 0.55975545 0.59023604 0.59355037\n",
      " 0.6012283  0.65798561 0.67148384 0.6547829  0.69643718 0.75481938\n",
      " 0.80732089 0.83673051 0.82553491 0.7864042  0.72889091 0.69500503\n",
      " 0.76496221 0.80353348 0.75484008 0.74149707 0.73352162 0.75081398\n",
      " 0.73926365 0.72850114 0.63115291 0.67609636 0.6567564  0.66132765\n",
      " 0.66291533 0.66710974 0.62304781 0.64813829 0.70311577 0.70214965\n",
      " 0.67833517 0.68705181 0.72772886 0.7681727  0.75691606 0.78203094\n",
      " 0.8051556  0.79768097 0.94803152 0.95389958 0.9216789  0.98334343\n",
      " 0.97500479 0.96677221 1.         0.9753344  0.86559826 0.73457229\n",
      " 0.63689429 0.59627211 0.58644885 0.57402277 0.54630631 0.50724453\n",
      " 0.46801934 0.43659517 0.41425833 0.39870098 0.38640121 0.37525105\n",
      " 0.36428937 0.35369578 0.34386614 0.33479348]\n",
      "18 day output [[0.32684073]]\n",
      "19 day input [0.34836166 0.36091684 0.3704015  0.40026024 0.38329688 0.39150385\n",
      " 0.3965404  0.38116868 0.39053778 0.39447311 0.39130881 0.37336315\n",
      " 0.37816189 0.37220553 0.36795689 0.38331045 0.39029353 0.39244295\n",
      " 0.39595652 0.43499273 0.46580417 0.47266504 0.48775306 0.47966064\n",
      " 0.46576129 0.48596356 0.47479639 0.48499297 0.50414167 0.54067771\n",
      " 0.53728144 0.55403195 0.55975545 0.59023604 0.59355037 0.6012283\n",
      " 0.65798561 0.67148384 0.6547829  0.69643718 0.75481938 0.80732089\n",
      " 0.83673051 0.82553491 0.7864042  0.72889091 0.69500503 0.76496221\n",
      " 0.80353348 0.75484008 0.74149707 0.73352162 0.75081398 0.73926365\n",
      " 0.72850114 0.63115291 0.67609636 0.6567564  0.66132765 0.66291533\n",
      " 0.66710974 0.62304781 0.64813829 0.70311577 0.70214965 0.67833517\n",
      " 0.68705181 0.72772886 0.7681727  0.75691606 0.78203094 0.8051556\n",
      " 0.79768097 0.94803152 0.95389958 0.9216789  0.98334343 0.97500479\n",
      " 0.96677221 1.         0.9753344  0.86559826 0.73457229 0.63689429\n",
      " 0.59627211 0.58644885 0.57402277 0.54630631 0.50724453 0.46801934\n",
      " 0.43659517 0.41425833 0.39870098 0.38640121 0.37525105 0.36428937\n",
      " 0.35369578 0.34386614 0.33479348 0.32684073]\n",
      "19 day output [[0.32007283]]\n",
      "20 day input [0.36091684 0.3704015  0.40026024 0.38329688 0.39150385 0.3965404\n",
      " 0.38116868 0.39053778 0.39447311 0.39130881 0.37336315 0.37816189\n",
      " 0.37220553 0.36795689 0.38331045 0.39029353 0.39244295 0.39595652\n",
      " 0.43499273 0.46580417 0.47266504 0.48775306 0.47966064 0.46576129\n",
      " 0.48596356 0.47479639 0.48499297 0.50414167 0.54067771 0.53728144\n",
      " 0.55403195 0.55975545 0.59023604 0.59355037 0.6012283  0.65798561\n",
      " 0.67148384 0.6547829  0.69643718 0.75481938 0.80732089 0.83673051\n",
      " 0.82553491 0.7864042  0.72889091 0.69500503 0.76496221 0.80353348\n",
      " 0.75484008 0.74149707 0.73352162 0.75081398 0.73926365 0.72850114\n",
      " 0.63115291 0.67609636 0.6567564  0.66132765 0.66291533 0.66710974\n",
      " 0.62304781 0.64813829 0.70311577 0.70214965 0.67833517 0.68705181\n",
      " 0.72772886 0.7681727  0.75691606 0.78203094 0.8051556  0.79768097\n",
      " 0.94803152 0.95389958 0.9216789  0.98334343 0.97500479 0.96677221\n",
      " 1.         0.9753344  0.86559826 0.73457229 0.63689429 0.59627211\n",
      " 0.58644885 0.57402277 0.54630631 0.50724453 0.46801934 0.43659517\n",
      " 0.41425833 0.39870098 0.38640121 0.37525105 0.36428937 0.35369578\n",
      " 0.34386614 0.33479348 0.32684073 0.32007283]\n",
      "20 day output [[0.31412345]]\n"
     ]
    },
    {
     "name": "stdout",
     "output_type": "stream",
     "text": [
      "21 day input [0.3704015  0.40026024 0.38329688 0.39150385 0.3965404  0.38116868\n",
      " 0.39053778 0.39447311 0.39130881 0.37336315 0.37816189 0.37220553\n",
      " 0.36795689 0.38331045 0.39029353 0.39244295 0.39595652 0.43499273\n",
      " 0.46580417 0.47266504 0.48775306 0.47966064 0.46576129 0.48596356\n",
      " 0.47479639 0.48499297 0.50414167 0.54067771 0.53728144 0.55403195\n",
      " 0.55975545 0.59023604 0.59355037 0.6012283  0.65798561 0.67148384\n",
      " 0.6547829  0.69643718 0.75481938 0.80732089 0.83673051 0.82553491\n",
      " 0.7864042  0.72889091 0.69500503 0.76496221 0.80353348 0.75484008\n",
      " 0.74149707 0.73352162 0.75081398 0.73926365 0.72850114 0.63115291\n",
      " 0.67609636 0.6567564  0.66132765 0.66291533 0.66710974 0.62304781\n",
      " 0.64813829 0.70311577 0.70214965 0.67833517 0.68705181 0.72772886\n",
      " 0.7681727  0.75691606 0.78203094 0.8051556  0.79768097 0.94803152\n",
      " 0.95389958 0.9216789  0.98334343 0.97500479 0.96677221 1.\n",
      " 0.9753344  0.86559826 0.73457229 0.63689429 0.59627211 0.58644885\n",
      " 0.57402277 0.54630631 0.50724453 0.46801934 0.43659517 0.41425833\n",
      " 0.39870098 0.38640121 0.37525105 0.36428937 0.35369578 0.34386614\n",
      " 0.33479348 0.32684073 0.32007283 0.31412345]\n",
      "21 day output [[0.3089927]]\n",
      "22 day input [0.40026024 0.38329688 0.39150385 0.3965404  0.38116868 0.39053778\n",
      " 0.39447311 0.39130881 0.37336315 0.37816189 0.37220553 0.36795689\n",
      " 0.38331045 0.39029353 0.39244295 0.39595652 0.43499273 0.46580417\n",
      " 0.47266504 0.48775306 0.47966064 0.46576129 0.48596356 0.47479639\n",
      " 0.48499297 0.50414167 0.54067771 0.53728144 0.55403195 0.55975545\n",
      " 0.59023604 0.59355037 0.6012283  0.65798561 0.67148384 0.6547829\n",
      " 0.69643718 0.75481938 0.80732089 0.83673051 0.82553491 0.7864042\n",
      " 0.72889091 0.69500503 0.76496221 0.80353348 0.75484008 0.74149707\n",
      " 0.73352162 0.75081398 0.73926365 0.72850114 0.63115291 0.67609636\n",
      " 0.6567564  0.66132765 0.66291533 0.66710974 0.62304781 0.64813829\n",
      " 0.70311577 0.70214965 0.67833517 0.68705181 0.72772886 0.7681727\n",
      " 0.75691606 0.78203094 0.8051556  0.79768097 0.94803152 0.95389958\n",
      " 0.9216789  0.98334343 0.97500479 0.96677221 1.         0.9753344\n",
      " 0.86559826 0.73457229 0.63689429 0.59627211 0.58644885 0.57402277\n",
      " 0.54630631 0.50724453 0.46801934 0.43659517 0.41425833 0.39870098\n",
      " 0.38640121 0.37525105 0.36428937 0.35369578 0.34386614 0.33479348\n",
      " 0.32684073 0.32007283 0.31412345 0.30899271]\n",
      "22 day output [[0.30430394]]\n",
      "23 day input [0.38329688 0.39150385 0.3965404  0.38116868 0.39053778 0.39447311\n",
      " 0.39130881 0.37336315 0.37816189 0.37220553 0.36795689 0.38331045\n",
      " 0.39029353 0.39244295 0.39595652 0.43499273 0.46580417 0.47266504\n",
      " 0.48775306 0.47966064 0.46576129 0.48596356 0.47479639 0.48499297\n",
      " 0.50414167 0.54067771 0.53728144 0.55403195 0.55975545 0.59023604\n",
      " 0.59355037 0.6012283  0.65798561 0.67148384 0.6547829  0.69643718\n",
      " 0.75481938 0.80732089 0.83673051 0.82553491 0.7864042  0.72889091\n",
      " 0.69500503 0.76496221 0.80353348 0.75484008 0.74149707 0.73352162\n",
      " 0.75081398 0.73926365 0.72850114 0.63115291 0.67609636 0.6567564\n",
      " 0.66132765 0.66291533 0.66710974 0.62304781 0.64813829 0.70311577\n",
      " 0.70214965 0.67833517 0.68705181 0.72772886 0.7681727  0.75691606\n",
      " 0.78203094 0.8051556  0.79768097 0.94803152 0.95389958 0.9216789\n",
      " 0.98334343 0.97500479 0.96677221 1.         0.9753344  0.86559826\n",
      " 0.73457229 0.63689429 0.59627211 0.58644885 0.57402277 0.54630631\n",
      " 0.50724453 0.46801934 0.43659517 0.41425833 0.39870098 0.38640121\n",
      " 0.37525105 0.36428937 0.35369578 0.34386614 0.33479348 0.32684073\n",
      " 0.32007283 0.31412345 0.30899271 0.30430394]\n",
      "23 day output [[0.29982594]]\n",
      "24 day input [0.39150385 0.3965404  0.38116868 0.39053778 0.39447311 0.39130881\n",
      " 0.37336315 0.37816189 0.37220553 0.36795689 0.38331045 0.39029353\n",
      " 0.39244295 0.39595652 0.43499273 0.46580417 0.47266504 0.48775306\n",
      " 0.47966064 0.46576129 0.48596356 0.47479639 0.48499297 0.50414167\n",
      " 0.54067771 0.53728144 0.55403195 0.55975545 0.59023604 0.59355037\n",
      " 0.6012283  0.65798561 0.67148384 0.6547829  0.69643718 0.75481938\n",
      " 0.80732089 0.83673051 0.82553491 0.7864042  0.72889091 0.69500503\n",
      " 0.76496221 0.80353348 0.75484008 0.74149707 0.73352162 0.75081398\n",
      " 0.73926365 0.72850114 0.63115291 0.67609636 0.6567564  0.66132765\n",
      " 0.66291533 0.66710974 0.62304781 0.64813829 0.70311577 0.70214965\n",
      " 0.67833517 0.68705181 0.72772886 0.7681727  0.75691606 0.78203094\n",
      " 0.8051556  0.79768097 0.94803152 0.95389958 0.9216789  0.98334343\n",
      " 0.97500479 0.96677221 1.         0.9753344  0.86559826 0.73457229\n",
      " 0.63689429 0.59627211 0.58644885 0.57402277 0.54630631 0.50724453\n",
      " 0.46801934 0.43659517 0.41425833 0.39870098 0.38640121 0.37525105\n",
      " 0.36428937 0.35369578 0.34386614 0.33479348 0.32684073 0.32007283\n",
      " 0.31412345 0.30899271 0.30430394 0.29982594]\n",
      "24 day output [[0.2957327]]\n",
      "25 day input [0.3965404  0.38116868 0.39053778 0.39447311 0.39130881 0.37336315\n",
      " 0.37816189 0.37220553 0.36795689 0.38331045 0.39029353 0.39244295\n",
      " 0.39595652 0.43499273 0.46580417 0.47266504 0.48775306 0.47966064\n",
      " 0.46576129 0.48596356 0.47479639 0.48499297 0.50414167 0.54067771\n",
      " 0.53728144 0.55403195 0.55975545 0.59023604 0.59355037 0.6012283\n",
      " 0.65798561 0.67148384 0.6547829  0.69643718 0.75481938 0.80732089\n",
      " 0.83673051 0.82553491 0.7864042  0.72889091 0.69500503 0.76496221\n",
      " 0.80353348 0.75484008 0.74149707 0.73352162 0.75081398 0.73926365\n",
      " 0.72850114 0.63115291 0.67609636 0.6567564  0.66132765 0.66291533\n",
      " 0.66710974 0.62304781 0.64813829 0.70311577 0.70214965 0.67833517\n",
      " 0.68705181 0.72772886 0.7681727  0.75691606 0.78203094 0.8051556\n",
      " 0.79768097 0.94803152 0.95389958 0.9216789  0.98334343 0.97500479\n",
      " 0.96677221 1.         0.9753344  0.86559826 0.73457229 0.63689429\n",
      " 0.59627211 0.58644885 0.57402277 0.54630631 0.50724453 0.46801934\n",
      " 0.43659517 0.41425833 0.39870098 0.38640121 0.37525105 0.36428937\n",
      " 0.35369578 0.34386614 0.33479348 0.32684073 0.32007283 0.31412345\n",
      " 0.30899271 0.30430394 0.29982594 0.29573271]\n",
      "25 day output [[0.2919452]]\n",
      "26 day input [0.38116868 0.39053778 0.39447311 0.39130881 0.37336315 0.37816189\n",
      " 0.37220553 0.36795689 0.38331045 0.39029353 0.39244295 0.39595652\n",
      " 0.43499273 0.46580417 0.47266504 0.48775306 0.47966064 0.46576129\n",
      " 0.48596356 0.47479639 0.48499297 0.50414167 0.54067771 0.53728144\n",
      " 0.55403195 0.55975545 0.59023604 0.59355037 0.6012283  0.65798561\n",
      " 0.67148384 0.6547829  0.69643718 0.75481938 0.80732089 0.83673051\n",
      " 0.82553491 0.7864042  0.72889091 0.69500503 0.76496221 0.80353348\n",
      " 0.75484008 0.74149707 0.73352162 0.75081398 0.73926365 0.72850114\n",
      " 0.63115291 0.67609636 0.6567564  0.66132765 0.66291533 0.66710974\n",
      " 0.62304781 0.64813829 0.70311577 0.70214965 0.67833517 0.68705181\n",
      " 0.72772886 0.7681727  0.75691606 0.78203094 0.8051556  0.79768097\n",
      " 0.94803152 0.95389958 0.9216789  0.98334343 0.97500479 0.96677221\n",
      " 1.         0.9753344  0.86559826 0.73457229 0.63689429 0.59627211\n",
      " 0.58644885 0.57402277 0.54630631 0.50724453 0.46801934 0.43659517\n",
      " 0.41425833 0.39870098 0.38640121 0.37525105 0.36428937 0.35369578\n",
      " 0.34386614 0.33479348 0.32684073 0.32007283 0.31412345 0.30899271\n",
      " 0.30430394 0.29982594 0.29573271 0.29194519]\n",
      "26 day output [[0.28856]]\n",
      "27 day input [0.39053778 0.39447311 0.39130881 0.37336315 0.37816189 0.37220553\n",
      " 0.36795689 0.38331045 0.39029353 0.39244295 0.39595652 0.43499273\n",
      " 0.46580417 0.47266504 0.48775306 0.47966064 0.46576129 0.48596356\n",
      " 0.47479639 0.48499297 0.50414167 0.54067771 0.53728144 0.55403195\n",
      " 0.55975545 0.59023604 0.59355037 0.6012283  0.65798561 0.67148384\n",
      " 0.6547829  0.69643718 0.75481938 0.80732089 0.83673051 0.82553491\n",
      " 0.7864042  0.72889091 0.69500503 0.76496221 0.80353348 0.75484008\n",
      " 0.74149707 0.73352162 0.75081398 0.73926365 0.72850114 0.63115291\n",
      " 0.67609636 0.6567564  0.66132765 0.66291533 0.66710974 0.62304781\n",
      " 0.64813829 0.70311577 0.70214965 0.67833517 0.68705181 0.72772886\n",
      " 0.7681727  0.75691606 0.78203094 0.8051556  0.79768097 0.94803152\n",
      " 0.95389958 0.9216789  0.98334343 0.97500479 0.96677221 1.\n",
      " 0.9753344  0.86559826 0.73457229 0.63689429 0.59627211 0.58644885\n",
      " 0.57402277 0.54630631 0.50724453 0.46801934 0.43659517 0.41425833\n",
      " 0.39870098 0.38640121 0.37525105 0.36428937 0.35369578 0.34386614\n",
      " 0.33479348 0.32684073 0.32007283 0.31412345 0.30899271 0.30430394\n",
      " 0.29982594 0.29573271 0.29194519 0.28856   ]\n",
      "27 day output [[0.28538135]]\n",
      "28 day input [0.39447311 0.39130881 0.37336315 0.37816189 0.37220553 0.36795689\n",
      " 0.38331045 0.39029353 0.39244295 0.39595652 0.43499273 0.46580417\n",
      " 0.47266504 0.48775306 0.47966064 0.46576129 0.48596356 0.47479639\n",
      " 0.48499297 0.50414167 0.54067771 0.53728144 0.55403195 0.55975545\n",
      " 0.59023604 0.59355037 0.6012283  0.65798561 0.67148384 0.6547829\n",
      " 0.69643718 0.75481938 0.80732089 0.83673051 0.82553491 0.7864042\n",
      " 0.72889091 0.69500503 0.76496221 0.80353348 0.75484008 0.74149707\n",
      " 0.73352162 0.75081398 0.73926365 0.72850114 0.63115291 0.67609636\n",
      " 0.6567564  0.66132765 0.66291533 0.66710974 0.62304781 0.64813829\n",
      " 0.70311577 0.70214965 0.67833517 0.68705181 0.72772886 0.7681727\n",
      " 0.75691606 0.78203094 0.8051556  0.79768097 0.94803152 0.95389958\n",
      " 0.9216789  0.98334343 0.97500479 0.96677221 1.         0.9753344\n",
      " 0.86559826 0.73457229 0.63689429 0.59627211 0.58644885 0.57402277\n",
      " 0.54630631 0.50724453 0.46801934 0.43659517 0.41425833 0.39870098\n",
      " 0.38640121 0.37525105 0.36428937 0.35369578 0.34386614 0.33479348\n",
      " 0.32684073 0.32007283 0.31412345 0.30899271 0.30430394 0.29982594\n",
      " 0.29573271 0.29194519 0.28856    0.28538135]\n",
      "28 day output [[0.28254557]]\n",
      "29 day input [0.39130881 0.37336315 0.37816189 0.37220553 0.36795689 0.38331045\n",
      " 0.39029353 0.39244295 0.39595652 0.43499273 0.46580417 0.47266504\n",
      " 0.48775306 0.47966064 0.46576129 0.48596356 0.47479639 0.48499297\n",
      " 0.50414167 0.54067771 0.53728144 0.55403195 0.55975545 0.59023604\n",
      " 0.59355037 0.6012283  0.65798561 0.67148384 0.6547829  0.69643718\n",
      " 0.75481938 0.80732089 0.83673051 0.82553491 0.7864042  0.72889091\n",
      " 0.69500503 0.76496221 0.80353348 0.75484008 0.74149707 0.73352162\n",
      " 0.75081398 0.73926365 0.72850114 0.63115291 0.67609636 0.6567564\n",
      " 0.66132765 0.66291533 0.66710974 0.62304781 0.64813829 0.70311577\n",
      " 0.70214965 0.67833517 0.68705181 0.72772886 0.7681727  0.75691606\n",
      " 0.78203094 0.8051556  0.79768097 0.94803152 0.95389958 0.9216789\n",
      " 0.98334343 0.97500479 0.96677221 1.         0.9753344  0.86559826\n",
      " 0.73457229 0.63689429 0.59627211 0.58644885 0.57402277 0.54630631\n",
      " 0.50724453 0.46801934 0.43659517 0.41425833 0.39870098 0.38640121\n",
      " 0.37525105 0.36428937 0.35369578 0.34386614 0.33479348 0.32684073\n",
      " 0.32007283 0.31412345 0.30899271 0.30430394 0.29982594 0.29573271\n",
      " 0.29194519 0.28856    0.28538135 0.28254557]\n",
      "29 day output [[0.2797278]]\n",
      "[[0.8655982613563538], [0.7345722913742065], [0.6368942856788635], [0.5962721109390259], [0.5864488482475281], [0.5740227699279785], [0.546306312084198], [0.5072445273399353], [0.4680193364620209], [0.4365951716899872], [0.41425833106040955], [0.3987009823322296], [0.3864012062549591], [0.37525105476379395], [0.36428937315940857], [0.3536957800388336], [0.34386613965034485], [0.33479347825050354], [0.32684072852134705], [0.32007282972335815], [0.3141234517097473], [0.3089927136898041], [0.30430394411087036], [0.2998259365558624], [0.295732706785202], [0.2919451892375946], [0.28856000304222107], [0.28538134694099426], [0.2825455665588379], [0.2797277867794037]]\n"
     ]
    }
   ],
   "source": [
    "# demonstrate prediction for next 10 days\n",
    "from numpy import array\n",
    "\n",
    "lst_output=[]\n",
    "n_steps=100\n",
    "i=0\n",
    "while(i<30):\n",
    "    \n",
    "    if(len(temp_input)>100):\n",
    "        #print(temp_input)\n",
    "        x_input=np.array(temp_input[1:])\n",
    "        print(\"{} day input {}\".format(i,x_input))\n",
    "        x_input=x_input.reshape(1,-1)\n",
    "        x_input = x_input.reshape((1, n_steps, 1))\n",
    "        #print(x_input)\n",
    "        yhat = model.predict(x_input, verbose=0)\n",
    "        print(\"{} day output {}\".format(i,yhat))\n",
    "        temp_input.extend(yhat[0].tolist())\n",
    "        temp_input=temp_input[1:]\n",
    "        #print(temp_input)\n",
    "        lst_output.extend(yhat.tolist())\n",
    "        i=i+1\n",
    "    else:\n",
    "        x_input = x_input.reshape((1, n_steps,1))\n",
    "        yhat = model.predict(x_input, verbose=0)\n",
    "        print(yhat[0])\n",
    "        temp_input.extend(yhat[0].tolist())\n",
    "        print(len(temp_input))\n",
    "        lst_output.extend(yhat.tolist())\n",
    "        i=i+1\n",
    "    \n",
    "\n",
    "print(lst_output)"
   ]
  },
  {
   "cell_type": "code",
   "execution_count": 39,
   "metadata": {},
   "outputs": [],
   "source": [
    "day_new=np.arange(1,101)\n",
    "day_pred=np.arange(101,131)"
   ]
  },
  {
   "cell_type": "code",
   "execution_count": 40,
   "metadata": {},
   "outputs": [],
   "source": [
    "import matplotlib.pyplot as plt"
   ]
  },
  {
   "cell_type": "code",
   "execution_count": 41,
   "metadata": {},
   "outputs": [
    {
     "name": "stdout",
     "output_type": "stream",
     "text": [
      "2187\n",
      "2087\n"
     ]
    }
   ],
   "source": [
    "len(df1)\n",
    "df2_int = len(df1)\n",
    "df2_length = df2_int - 100\n",
    "print(df2_int)\n",
    "print(df2_length)"
   ]
  },
  {
   "cell_type": "code",
   "execution_count": 42,
   "metadata": {},
   "outputs": [
    {
     "data": {
      "text/plain": [
       "[<matplotlib.lines.Line2D at 0x19b9a4af820>]"
      ]
     },
     "execution_count": 42,
     "metadata": {},
     "output_type": "execute_result"
    },
    {
     "data": {
      "image/png": "[encoded data removed]",
      "text/plain": [
       "<Figure size 432x288 with 1 Axes>"
      ]
     },
     "metadata": {
      "needs_background": "light"
     },
     "output_type": "display_data"
    }
   ],
   "source": [
    "#plt.plot(day_new,scaler.inverse_transform(df1[2205:]))\n",
    "\n",
    "plt.plot(day_new,scaler.inverse_transform(df1[df2_length:]))\n",
    "\n",
    "plt.plot(day_pred,scaler.inverse_transform(lst_output))"
   ]
  },
  {
   "cell_type": "code",
   "execution_count": 43,
   "metadata": {},
   "outputs": [
    {
     "data": {
      "text/plain": [
       "[<matplotlib.lines.Line2D at 0x19b9a437850>]"
      ]
     },
     "execution_count": 43,
     "metadata": {},
     "output_type": "execute_result"
    },
    {
     "data": {
      "image/png": "[encoded data removed]",
      "text/plain": [
       "<Figure size 432x288 with 1 Axes>"
      ]
     },
     "metadata": {
      "needs_background": "light"
     },
     "output_type": "display_data"
    }
   ],
   "source": [
    "df3=df1.tolist()\n",
    "df3.extend(lst_output)\n",
    "#plt.plot(df3[2206:])\n",
    "\n",
    "df3_length = df2_length + 1\n",
    "\n",
    "plt.plot(df3[df3_length:])"
   ]
  },
  {
   "cell_type": "code",
   "execution_count": 44,
   "metadata": {},
   "outputs": [
    {
     "data": {
      "text/plain": [
       "[<matplotlib.lines.Line2D at 0x19b9a3c3130>]"
      ]
     },
     "execution_count": 44,
     "metadata": {},
     "output_type": "execute_result"
    },
    {
     "data": {
      "image/png": "[encoded data removed]",
      "text/plain": [
       "<Figure size 432x288 with 1 Axes>"
      ]
     },
     "metadata": {
      "needs_background": "light"
     },
     "output_type": "display_data"
    }
   ],
   "source": [
    "df3=scaler.inverse_transform(df3).tolist()\n",
    "plt.plot(df3)"
   ]
  },
  {
   "cell_type": "code",
   "execution_count": null,
   "metadata": {},
   "outputs": [],
   "source": []
  }
 ],
 "metadata": {
  "kernelspec": {
   "display_name": "Python 3",
   "language": "python",
   "name": "python3"
  },
  "language_info": {
   "codemirror_mode": {
    "name": "ipython",
    "version": 3
   },
   "file_extension": ".py",
   "mimetype": "text/x-python",
   "name": "python",
   "nbconvert_exporter": "python",
   "pygments_lexer": "ipython3",
   "version": "3.8.5"
  }
 },
 "nbformat": 4,
 "nbformat_minor": 4
}
