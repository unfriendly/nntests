{
 "cells": [
  {
   "cell_type": "raw",
   "metadata": {},
   "source": [
    "#Prepare 'System' if Conditions not met\n",
    "\n",
    "#!pip install --upgrade pip\n",
    "\n",
    "!pip install tensorflow tensorflow-gpu matplot numpy pandas sklearn keras seaborn requests"
   ]
  },
  {
   "cell_type": "code",
   "execution_count": 1,
   "metadata": {},
   "outputs": [],
   "source": [
    "##Created By Unfriendly \n",
    "#(A simple Jupyter Notebook in Binder for Crypto price prediction)\n",
    "\n",
    "historical_start = \"6yr,0mon,0day,0hr,0min,0sec\"\n",
    "# How long to historically look back at data\n",
    "\n",
    "predict_into = \"0yr,0mon,10day,0hr,0min,0sec\" \n",
    "# How far to try and predict into the future"
   ]
  },
  {
   "cell_type": "code",
   "execution_count": 2,
   "metadata": {},
   "outputs": [],
   "source": [
    "import os, glob\n",
    "for dirname, _, filenames in os.walk('/unfriendly/input'):\n",
    "    for filename in filenames:\n",
    "        print(os.path.join(dirname, filename))"
   ]
  },
  {
   "cell_type": "code",
   "execution_count": 3,
   "metadata": {},
   "outputs": [],
   "source": [
    "import json\n",
    "import requests\n",
    "from keras.models import Sequential\n",
    "from keras.layers import Activation, Dense, Dropout, LSTM\n",
    "import matplotlib.pyplot as plt\n",
    "import numpy as np\n",
    "import pandas as pd\n",
    "import seaborn as sns\n",
    "from sklearn.metrics import mean_absolute_error\n",
    "%matplotlib inline"
   ]
  },
  {
   "cell_type": "code",
   "execution_count": 4,
   "metadata": {},
   "outputs": [],
   "source": [
    "import matplotlib.pyplot as plt"
   ]
  },
  {
   "cell_type": "code",
   "execution_count": 5,
   "metadata": {},
   "outputs": [],
   "source": [
    "# Prepare data timestamps\n",
    "import time\n",
    "from datetime import datetime, timezone, timedelta\n",
    "one_yr = 31536000000\n",
    "one_mon = one_yr/12\n",
    "one_day = one_yr/365\n",
    "one_hr = one_day/24\n",
    "one_min = one_hr/60\n",
    "one_sec = one_min/60"
   ]
  },
  {
   "cell_type": "code",
   "execution_count": 6,
   "metadata": {},
   "outputs": [
    {
     "name": "stdout",
     "output_type": "stream",
     "text": [
      "['6', '0', '0', '0', '0', '0']\n"
     ]
    }
   ],
   "source": [
    "# Prepare how far to look back in the past in UNIX time-format\n",
    "history_split = historical_start.replace('yr', '')\n",
    "history_res = history_split.replace('mon', '')\n",
    "history_split = history_res.replace('day', '')\n",
    "history_res = history_split.replace('hr', '')\n",
    "history_split = history_res.replace('min', '')\n",
    "history_res = history_split.replace('sec', '')\n",
    "history_split = history_res.split(\",\")\n",
    "print(history_split)"
   ]
  },
  {
   "cell_type": "code",
   "execution_count": 7,
   "metadata": {},
   "outputs": [
    {
     "name": "stdout",
     "output_type": "stream",
     "text": [
      "['0', '0', '10', '0', '0', '0']\n"
     ]
    }
   ],
   "source": [
    "# Prepare how far to predict into the future in UNIX time-format\n",
    "predict_split = predict_into.replace('yr', '')\n",
    "predict_res = predict_split.replace('mon', '')\n",
    "predict_split = predict_res.replace('day', '')\n",
    "predict_res = predict_split.replace('hr', '')\n",
    "predict_split = predict_res.replace('min', '')\n",
    "predict_res = predict_split.replace('sec', '')\n",
    "predict_split = predict_res.split(\",\")\n",
    "print(predict_split)"
   ]
  },
  {
   "cell_type": "code",
   "execution_count": 8,
   "metadata": {},
   "outputs": [],
   "source": [
    "history_array_yr = int(history_split[0])\n",
    "unix_hist_yr = one_yr*history_array_yr\n",
    "\n",
    "history_array_mon = int(history_split[1])\n",
    "unix_hist_mon = one_mon*history_array_mon\n",
    "\n",
    "history_array_day = int(history_split[2])\n",
    "unix_hist_day = one_day*history_array_day\n",
    "\n",
    "history_array_hr = int(history_split[3])\n",
    "unix_hist_hr = one_hr*history_array_hr\n",
    "\n",
    "history_array_min = int(history_split[4])\n",
    "unix_hist_min = one_min*history_array_min\n",
    "\n",
    "history_array_sec = int(history_split[5])\n",
    "unix_hist_sec = one_sec*history_array_sec"
   ]
  },
  {
   "cell_type": "code",
   "execution_count": 9,
   "metadata": {},
   "outputs": [],
   "source": [
    "predict_array_yr = int(predict_split[0])\n",
    "unix_pred_yr = one_yr*predict_array_yr\n",
    "\n",
    "predict_array_mon = int(predict_split[1])\n",
    "unix_pred_mon = one_mon*predict_array_mon\n",
    "\n",
    "predict_array_day = int(predict_split[2])\n",
    "unix_pred_day = one_day*predict_array_day\n",
    "\n",
    "predict_array_hr = int(predict_split[3])\n",
    "unix_pred_hr = one_hr*predict_array_hr\n",
    "\n",
    "predict_array_min = int(predict_split[4])\n",
    "unix_pred_min = one_min*predict_array_min\n",
    "\n",
    "predict_array_sec = int(predict_split[5])\n",
    "unix_pred_sec = one_sec*predict_array_sec\n",
    "\n",
    "unix_prediction = unix_pred_yr+unix_pred_mon+unix_pred_day+unix_pred_hr+unix_pred_min+unix_pred_sec"
   ]
  },
  {
   "cell_type": "code",
   "execution_count": 10,
   "metadata": {},
   "outputs": [
    {
     "name": "stdout",
     "output_type": "stream",
     "text": [
      "-187602557798 - start\n",
      "-310 - gather\n",
      "310 - positive gather\n"
     ]
    }
   ],
   "source": [
    "raw_time = time.time()\n",
    "int_time = int(raw_time)\n",
    "current_time = str(int_time)\n",
    "\n",
    "unix_start = unix_hist_yr+unix_hist_mon+unix_hist_day+unix_hist_hr+unix_hist_min+unix_hist_sec\n",
    "raw_start = raw_time - unix_start\n",
    "\n",
    "int_start = int(raw_start)\n",
    "start = str(int_start)\n",
    "\n",
    "#print(unix_hist_yr+history_array_mon+history_array_day+history_array_hr+history_array_min+history_array_sec)\n",
    "print(start + ' - start')\n",
    "\n",
    "gather_count = int_start/(7*one_day)\n",
    "gather_int = int(gather_count)\n",
    "gather_str = str(gather_int)\n",
    "pos_gather_count = abs(int(gather_count))\n",
    "pos_gather_str = str(pos_gather_count)\n",
    "\n",
    "print(gather_str + ' - gather')\n",
    "print(pos_gather_str + ' - positive gather')"
   ]
  },
  {
   "cell_type": "code",
   "execution_count": 11,
   "metadata": {},
   "outputs": [
    {
     "name": "stdout",
     "output_type": "stream",
     "text": [
      "1613442201942.118\n",
      "1613442201942\n",
      "1424226201943\n",
      "1424226201.943616\n",
      "2021-02-16 02:23:21.944116+00:00\n",
      "2015-02-18 02:23:21.943616+00:00\n",
      "1424226201943\n",
      "1424849001943\n",
      "1613442201942\n",
      "13 Digit Microsecond TS: 1424226201943 - 10 Digit TS: 1424226201\n"
     ]
    }
   ],
   "source": [
    "print((datetime.now(timezone.utc) + timedelta(hours=0)).timestamp() * 1e3)\n",
    "\n",
    "dt = (datetime.now(timezone.utc) + timedelta(days=0)).timestamp() * 1e3\n",
    "\n",
    "c_dt = int(dt)\n",
    "\n",
    "c_dt_int = int(c_dt)\n",
    "print(str(c_dt_int))\n",
    "\n",
    "c_dt_array_year = history_array_yr*365\n",
    "\n",
    "history_array_comb = history_array_day + c_dt_array_year\n",
    "\n",
    "c_dt_start = (datetime.now(timezone.utc) + timedelta(days=-history_array_comb,hours=-history_array_hr,minutes=-history_array_min,seconds=-history_array_sec)).timestamp() * 1e3\n",
    "\n",
    "c_dt_start_int = int(c_dt_start)\n",
    "print(str(c_dt_start_int))\n",
    "\n",
    "c_dt_start_raw = (datetime.now(timezone.utc) + timedelta(days=-history_array_comb,hours=-history_array_hr,minutes=-history_array_min,seconds=-history_array_sec)).timestamp()\n",
    "c_dt_start_raw_int = int(c_dt_start_raw)\n",
    "print(str(c_dt_start_raw))       \n",
    "    \n",
    "data_count = 0\n",
    "\n",
    "c_dt_start_dt = datetime.utcfromtimestamp(c_dt_start_raw).strftime('%Y-%m-%d %H:%M:%S.%f+00:00')\n",
    "\n",
    "print(datetime.now(timezone.utc))\n",
    "print(datetime.utcfromtimestamp(c_dt_start_raw).strftime('%Y-%m-%d %H:%M:%S.%f+00:00'))\n",
    "\n",
    "#c_dt_end = c_dt_start + timedelta(days=7).timestamp() * 1e3\n",
    "#c_dt_end = (c_dt_start_dt + timedelta(days=7)).timestamp() * 1e3\n",
    "\n",
    "c_dt_end = (datetime.utcfromtimestamp(c_dt_start_raw) + timedelta(days=7)).timestamp() * 1e3\n",
    "\n",
    "c_dt_start_int = int(c_dt_start)\n",
    "c_dt_end_int = int(c_dt_end)\n",
    "c_dt_end_str = str(c_dt_end)\n",
    "\n",
    "\n",
    "c_dt_str = str(c_dt)\n",
    "c_dt_start_str = str(c_dt_start_int)\n",
    "\n",
    "\n",
    "ts_ten_int = int(c_dt/1000)\n",
    "start_ten_int = int(c_dt_start_int/1000)\n",
    "\n",
    "ts_ten_str = str(ts_ten_int)\n",
    "start_ten_str = str(start_ten_int)\n",
    "\n",
    "\n",
    "print(c_dt_start_int)\n",
    "print(c_dt_end_int)\n",
    "print(c_dt_int)\n",
    "print('13 Digit Microsecond TS: ' + c_dt_start_str + ' - ' + '10 Digit TS: ' + start_ten_str)"
   ]
  },
  {
   "cell_type": "code",
   "execution_count": 12,
   "metadata": {},
   "outputs": [
    {
     "name": "stdout",
     "output_type": "stream",
     "text": [
      "https://query1.finance.yahoo.com/v7/finance/download/BTC-USD?period1=1424226201&period2=1613442201&interval=1d&events=history&includeAdjustedClose=true\n"
     ]
    }
   ],
   "source": [
    "import urllib.request\n",
    "import yfinance as yf\n",
    "\n",
    "#while count < pos_gather_count:\n",
    "while data_count < 1:\n",
    "    \n",
    "    #d_u=\"https://query1.finance.yahoo.com/v7/finance/download/BTC-USD?period1=1411862400&period2=\" + current_time + \"&interval=1d&events=history&includeAdjustedClose=true\"\n",
    "    #d_u=\"https://query1.finance.yahoo.com/v7/finance/download/BTC-USD?period1=1411862400&period2=1612158064&interval=1d&events=history&includeAdjustedClose=true\"\n",
    "    #d_u=\"https://query1.finance.yahoo.com/v7/finance/download/BTC-USD?period1=\"+dt_str+\"&period2=\"+dt_end_str+\"&interval=1d&events=history&includeAdjustedClose=true\"\n",
    "    #d_u=\"https://query1.finance.yahoo.com/v7/finance/download/BTC-USD?period1=\"+gather_str+\"&period2=\"+current_time+\"&interval=1m&events=history&includeAdjustedClose=true\"\n",
    "    \n",
    "    \n",
    "    d_u=\"https://query1.finance.yahoo.com/v7/finance/download/BTC-USD?period1=\"+start_ten_str+\"&period2=\"+ts_ten_str+\"&interval=1d&events=history&includeAdjustedClose=true\"\n",
    "    \n",
    "    print(d_u)\n",
    "    \n",
    "    with urllib.request.urlopen(d_u) as testfile, open('dataset.csv', 'w') as f:\n",
    "        f.write(testfile.read().decode())\n",
    "\n",
    "    data_count += 1  # This is the same as count = count + 1"
   ]
  },
  {
   "cell_type": "raw",
   "metadata": {},
   "source": [
    "data = yf.download(tickers='BTC-USD', period='max', interval='1m', group_by='column', auto_adjust = True, prepost = True, threads = True, proxy = None)"
   ]
  },
  {
   "cell_type": "raw",
   "metadata": {},
   "source": [
    "print(start + ' - start')\n",
    "print(current_time + ' - current time')\n",
    "print(d_u + ' - url')\n",
    "    \n",
    "print(gather_count)\n",
    "#print(data_count)\n",
    "\n",
    "# List all CSV files in the working dir\n",
    "extension = \"csv\"\n",
    "all_filenames = [i for i in glob.glob('*.{}'.format(extension))]\n",
    "print(all_filenames)"
   ]
  },
  {
   "cell_type": "raw",
   "metadata": {},
   "source": [
    "import urllib.request\n",
    "d_u=\"https://query1.finance.yahoo.com/v7/finance/download/BTC-USD?period1=1411862400&period2=1612158064&interval=1d&events=history&includeAdjustedClose=true\"\n",
    "\n",
    "\n",
    "with urllib.request.urlopen(d_u) as testfile, open('dataset.csv', 'w') as f:\n",
    "    f.write(testfile.read().decode())"
   ]
  },
  {
   "cell_type": "code",
   "execution_count": 13,
   "metadata": {},
   "outputs": [
    {
     "name": "stdout",
     "output_type": "stream",
     "text": [
      "[*********************100%***********************]  1 of 1 completed\n"
     ]
    },
    {
     "data": {
      "text/html": [
       "<div>\n",
       "<style scoped>\n",
       "    .dataframe tbody tr th:only-of-type {\n",
       "        vertical-align: middle;\n",
       "    }\n",
       "\n",
       "    .dataframe tbody tr th {\n",
       "        vertical-align: top;\n",
       "    }\n",
       "\n",
       "    .dataframe thead th {\n",
       "        text-align: right;\n",
       "    }\n",
       "</style>\n",
       "<table border=\"1\" class=\"dataframe\">\n",
       "  <thead>\n",
       "    <tr style=\"text-align: right;\">\n",
       "      <th></th>\n",
       "      <th>Open</th>\n",
       "      <th>High</th>\n",
       "      <th>Low</th>\n",
       "      <th>Close</th>\n",
       "      <th>Volume</th>\n",
       "    </tr>\n",
       "    <tr>\n",
       "      <th>Datetime</th>\n",
       "      <th></th>\n",
       "      <th></th>\n",
       "      <th></th>\n",
       "      <th></th>\n",
       "      <th></th>\n",
       "    </tr>\n",
       "  </thead>\n",
       "  <tbody>\n",
       "    <tr>\n",
       "      <th>2021-01-16 02:24:00+00:00</th>\n",
       "      <td>36686.328125</td>\n",
       "      <td>36686.328125</td>\n",
       "      <td>36634.675781</td>\n",
       "      <td>36634.675781</td>\n",
       "      <td>188735488</td>\n",
       "    </tr>\n",
       "    <tr>\n",
       "      <th>2021-01-16 02:26:00+00:00</th>\n",
       "      <td>36657.968750</td>\n",
       "      <td>36670.496094</td>\n",
       "      <td>36657.968750</td>\n",
       "      <td>36670.496094</td>\n",
       "      <td>51601408</td>\n",
       "    </tr>\n",
       "    <tr>\n",
       "      <th>2021-01-16 02:28:00+00:00</th>\n",
       "      <td>36726.015625</td>\n",
       "      <td>36726.015625</td>\n",
       "      <td>36722.339844</td>\n",
       "      <td>36722.339844</td>\n",
       "      <td>113360896</td>\n",
       "    </tr>\n",
       "    <tr>\n",
       "      <th>2021-01-16 02:30:00+00:00</th>\n",
       "      <td>36711.152344</td>\n",
       "      <td>36711.152344</td>\n",
       "      <td>36689.179688</td>\n",
       "      <td>36689.179688</td>\n",
       "      <td>5169152</td>\n",
       "    </tr>\n",
       "    <tr>\n",
       "      <th>2021-01-16 02:32:00+00:00</th>\n",
       "      <td>36712.914062</td>\n",
       "      <td>36717.976562</td>\n",
       "      <td>36712.914062</td>\n",
       "      <td>36717.976562</td>\n",
       "      <td>51896320</td>\n",
       "    </tr>\n",
       "    <tr>\n",
       "      <th>...</th>\n",
       "      <td>...</td>\n",
       "      <td>...</td>\n",
       "      <td>...</td>\n",
       "      <td>...</td>\n",
       "      <td>...</td>\n",
       "    </tr>\n",
       "    <tr>\n",
       "      <th>2021-02-16 02:14:00+00:00</th>\n",
       "      <td>48255.710938</td>\n",
       "      <td>48255.710938</td>\n",
       "      <td>48253.199219</td>\n",
       "      <td>48253.199219</td>\n",
       "      <td>17973248</td>\n",
       "    </tr>\n",
       "    <tr>\n",
       "      <th>2021-02-16 02:16:00+00:00</th>\n",
       "      <td>48353.980469</td>\n",
       "      <td>48354.312500</td>\n",
       "      <td>48353.980469</td>\n",
       "      <td>48354.312500</td>\n",
       "      <td>0</td>\n",
       "    </tr>\n",
       "    <tr>\n",
       "      <th>2021-02-16 02:18:00+00:00</th>\n",
       "      <td>48353.507812</td>\n",
       "      <td>48355.847656</td>\n",
       "      <td>48353.507812</td>\n",
       "      <td>48355.847656</td>\n",
       "      <td>109764608</td>\n",
       "    </tr>\n",
       "    <tr>\n",
       "      <th>2021-02-16 02:20:00+00:00</th>\n",
       "      <td>48364.675781</td>\n",
       "      <td>48364.675781</td>\n",
       "      <td>48364.675781</td>\n",
       "      <td>48364.675781</td>\n",
       "      <td>0</td>\n",
       "    </tr>\n",
       "    <tr>\n",
       "      <th>2021-02-16 02:21:02+00:00</th>\n",
       "      <td>48375.347656</td>\n",
       "      <td>48375.347656</td>\n",
       "      <td>48375.347656</td>\n",
       "      <td>48375.347656</td>\n",
       "      <td>0</td>\n",
       "    </tr>\n",
       "  </tbody>\n",
       "</table>\n",
       "<p>22308 rows × 5 columns</p>\n",
       "</div>"
      ],
      "text/plain": [
       "                                   Open          High           Low  \\\n",
       "Datetime                                                              \n",
       "2021-01-16 02:24:00+00:00  36686.328125  36686.328125  36634.675781   \n",
       "2021-01-16 02:26:00+00:00  36657.968750  36670.496094  36657.968750   \n",
       "2021-01-16 02:28:00+00:00  36726.015625  36726.015625  36722.339844   \n",
       "2021-01-16 02:30:00+00:00  36711.152344  36711.152344  36689.179688   \n",
       "2021-01-16 02:32:00+00:00  36712.914062  36717.976562  36712.914062   \n",
       "...                                 ...           ...           ...   \n",
       "2021-02-16 02:14:00+00:00  48255.710938  48255.710938  48253.199219   \n",
       "2021-02-16 02:16:00+00:00  48353.980469  48354.312500  48353.980469   \n",
       "2021-02-16 02:18:00+00:00  48353.507812  48355.847656  48353.507812   \n",
       "2021-02-16 02:20:00+00:00  48364.675781  48364.675781  48364.675781   \n",
       "2021-02-16 02:21:02+00:00  48375.347656  48375.347656  48375.347656   \n",
       "\n",
       "                                  Close     Volume  \n",
       "Datetime                                            \n",
       "2021-01-16 02:24:00+00:00  36634.675781  188735488  \n",
       "2021-01-16 02:26:00+00:00  36670.496094   51601408  \n",
       "2021-01-16 02:28:00+00:00  36722.339844  113360896  \n",
       "2021-01-16 02:30:00+00:00  36689.179688    5169152  \n",
       "2021-01-16 02:32:00+00:00  36717.976562   51896320  \n",
       "...                                 ...        ...  \n",
       "2021-02-16 02:14:00+00:00  48253.199219   17973248  \n",
       "2021-02-16 02:16:00+00:00  48354.312500          0  \n",
       "2021-02-16 02:18:00+00:00  48355.847656  109764608  \n",
       "2021-02-16 02:20:00+00:00  48364.675781          0  \n",
       "2021-02-16 02:21:02+00:00  48375.347656          0  \n",
       "\n",
       "[22308 rows x 5 columns]"
      ]
     },
     "execution_count": 13,
     "metadata": {},
     "output_type": "execute_result"
    }
   ],
   "source": [
    "#data=pd.read_csv('dataset.csv')\n",
    "data = yf.download(tickers='BTC-USD', period='1mo', interval='2m', group_by='column', auto_adjust = True, prepost = True, threads = True, proxy = None)\n",
    "\n",
    "\n",
    "data.apply(pd.to_numeric, errors='coerce')\n",
    "\n",
    "#data=data.dropna()\n",
    "#data=data.dropna(inplace=True)\n",
    "#data=data.dropna(subset=['Close'])\n",
    "#data=data.dropna(how='any',axis=1)\n",
    "\n",
    "data.dropna(subset=['Close'], inplace=True)\n",
    "data.reset_index(drop=True)\n",
    "\n",
    "data"
   ]
  },
  {
   "cell_type": "code",
   "execution_count": 14,
   "metadata": {},
   "outputs": [
    {
     "data": {
      "text/plain": [
       "Datetime\n",
       "2021-01-16 02:24:00+00:00    36634.675781\n",
       "2021-01-16 02:26:00+00:00    36670.496094\n",
       "2021-01-16 02:28:00+00:00    36722.339844\n",
       "2021-01-16 02:30:00+00:00    36689.179688\n",
       "2021-01-16 02:32:00+00:00    36717.976562\n",
       "                                 ...     \n",
       "2021-02-16 02:14:00+00:00    48253.199219\n",
       "2021-02-16 02:16:00+00:00    48354.312500\n",
       "2021-02-16 02:18:00+00:00    48355.847656\n",
       "2021-02-16 02:20:00+00:00    48364.675781\n",
       "2021-02-16 02:21:02+00:00    48375.347656\n",
       "Name: Close, Length: 22308, dtype: float64"
      ]
     },
     "execution_count": 14,
     "metadata": {},
     "output_type": "execute_result"
    }
   ],
   "source": [
    "df1=data['Close']\n",
    "df1"
   ]
  },
  {
   "cell_type": "code",
   "execution_count": 15,
   "metadata": {},
   "outputs": [
    {
     "data": {
      "text/plain": [
       "[<matplotlib.lines.Line2D at 0x205e2278460>]"
      ]
     },
     "execution_count": 15,
     "metadata": {},
     "output_type": "execute_result"
    },
    {
     "data": {
      "image/png": "[encoded data removed]",
      "text/plain": [
       "<Figure size 432x288 with 1 Axes>"
      ]
     },
     "metadata": {
      "needs_background": "light"
     },
     "output_type": "display_data"
    }
   ],
   "source": [
    "plt.plot(df1)"
   ]
  },
  {
   "cell_type": "code",
   "execution_count": 16,
   "metadata": {},
   "outputs": [],
   "source": [
    "import numpy as np"
   ]
  },
  {
   "cell_type": "code",
   "execution_count": 17,
   "metadata": {},
   "outputs": [
    {
     "data": {
      "text/plain": [
       "Datetime\n",
       "2021-01-16 02:24:00+00:00    36634.675781\n",
       "2021-01-16 02:26:00+00:00    36670.496094\n",
       "2021-01-16 02:28:00+00:00    36722.339844\n",
       "2021-01-16 02:30:00+00:00    36689.179688\n",
       "2021-01-16 02:32:00+00:00    36717.976562\n",
       "                                 ...     \n",
       "2021-02-16 02:14:00+00:00    48253.199219\n",
       "2021-02-16 02:16:00+00:00    48354.312500\n",
       "2021-02-16 02:18:00+00:00    48355.847656\n",
       "2021-02-16 02:20:00+00:00    48364.675781\n",
       "2021-02-16 02:21:02+00:00    48375.347656\n",
       "Name: Close, Length: 22308, dtype: float64"
      ]
     },
     "execution_count": 17,
     "metadata": {},
     "output_type": "execute_result"
    }
   ],
   "source": [
    "df1"
   ]
  },
  {
   "cell_type": "code",
   "execution_count": 18,
   "metadata": {},
   "outputs": [],
   "source": [
    "from sklearn.preprocessing import MinMaxScaler\n",
    "scaler=MinMaxScaler(feature_range=(0,1))\n",
    "df1=scaler.fit_transform(np.array(df1).reshape(-1,1))"
   ]
  },
  {
   "cell_type": "code",
   "execution_count": 19,
   "metadata": {},
   "outputs": [],
   "source": [
    "training_size=int(len(df1)*0.65)\n",
    "test_size=len(df1)-training_size\n",
    "train_data,test_data=df1[0:training_size,:],df1[training_size:len(df1),:1]"
   ]
  },
  {
   "cell_type": "code",
   "execution_count": 20,
   "metadata": {},
   "outputs": [
    {
     "data": {
      "text/plain": [
       "(14500, 7808)"
      ]
     },
     "execution_count": 20,
     "metadata": {},
     "output_type": "execute_result"
    }
   ],
   "source": [
    "training_size,test_size"
   ]
  },
  {
   "cell_type": "code",
   "execution_count": 21,
   "metadata": {},
   "outputs": [],
   "source": [
    "import numpy\n",
    "# convert an array of values into a dataset matrix\n",
    "def create_dataset(dataset, time_step=1):\n",
    "\tdataX, dataY = [], []\n",
    "\tfor i in range(len(dataset)-time_step-1):\n",
    "\t\ta = dataset[i:(i+time_step), 0]   ###i=0, 0,1,2,3-----99   100 \n",
    "\t\tdataX.append(a)\n",
    "\t\tdataY.append(dataset[i + time_step, 0])\n",
    "\treturn numpy.array(dataX), numpy.array(dataY)"
   ]
  },
  {
   "cell_type": "code",
   "execution_count": 22,
   "metadata": {},
   "outputs": [],
   "source": [
    "# reshape into X=t,t+1,t+2,t+3 and Y=t+4\n",
    "time_step = 100\n",
    "X_train, y_train = create_dataset(train_data, time_step)\n",
    "X_test, ytest = create_dataset(test_data, time_step)"
   ]
  },
  {
   "cell_type": "code",
   "execution_count": 23,
   "metadata": {},
   "outputs": [
    {
     "name": "stdout",
     "output_type": "stream",
     "text": [
      "(14399, 100)\n",
      "(14399,)\n"
     ]
    },
    {
     "data": {
      "text/plain": [
       "(None, None)"
      ]
     },
     "execution_count": 23,
     "metadata": {},
     "output_type": "execute_result"
    }
   ],
   "source": [
    "print(X_train.shape), print(y_train.shape)"
   ]
  },
  {
   "cell_type": "markdown",
   "metadata": {},
   "source": []
  },
  {
   "cell_type": "code",
   "execution_count": 24,
   "metadata": {},
   "outputs": [
    {
     "name": "stdout",
     "output_type": "stream",
     "text": [
      "(7707, 100)\n",
      "(7707,)\n"
     ]
    },
    {
     "data": {
      "text/plain": [
       "(None, None)"
      ]
     },
     "execution_count": 24,
     "metadata": {},
     "output_type": "execute_result"
    }
   ],
   "source": [
    "print(X_test.shape), print(ytest.shape)"
   ]
  },
  {
   "cell_type": "code",
   "execution_count": 25,
   "metadata": {},
   "outputs": [
    {
     "data": {
      "text/plain": [
       "100"
      ]
     },
     "execution_count": 25,
     "metadata": {},
     "output_type": "execute_result"
    }
   ],
   "source": [
    "X_train.shape[1]"
   ]
  },
  {
   "cell_type": "code",
   "execution_count": 26,
   "metadata": {},
   "outputs": [],
   "source": [
    "# reshape input to be [samples, time steps, features] which is required for LSTM\n",
    "X_train =X_train.reshape(X_train.shape[0],X_train.shape[1] , 1)\n",
    "X_test = X_test.reshape(X_test.shape[0],X_test.shape[1] , 1)"
   ]
  },
  {
   "cell_type": "code",
   "execution_count": 27,
   "metadata": {},
   "outputs": [],
   "source": [
    "### Create the Stacked LSTM model\n",
    "from tensorflow.keras.models import Sequential\n",
    "from tensorflow.keras.layers import Dense\n",
    "from tensorflow.keras.layers import LSTM\n",
    "from keras.optimizers import Adam"
   ]
  },
  {
   "cell_type": "code",
   "execution_count": 28,
   "metadata": {},
   "outputs": [],
   "source": [
    "#opt = Adam(lr=0.0001)\n",
    "#opt = Adam(lr=0.0025)\n",
    "\n",
    "model=Sequential()\n",
    "model.add(LSTM(50,return_sequences=True,input_shape=(100,1)))\n",
    "model.add(LSTM(50,return_sequences=True))\n",
    "model.add(LSTM(50))\n",
    "model.add(Dense(1))\n",
    "\n",
    "model.compile(loss='mean_squared_error',optimizer='adam')\n",
    "#model.compile(optimizer=opt, loss='mean_squared_error')"
   ]
  },
  {
   "cell_type": "code",
   "execution_count": 29,
   "metadata": {},
   "outputs": [
    {
     "name": "stdout",
     "output_type": "stream",
     "text": [
      "Model: \"sequential\"\n",
      "_________________________________________________________________\n",
      "Layer (type)                 Output Shape              Param #   \n",
      "=================================================================\n",
      "lstm (LSTM)                  (None, 100, 50)           10400     \n",
      "_________________________________________________________________\n",
      "lstm_1 (LSTM)                (None, 100, 50)           20200     \n",
      "_________________________________________________________________\n",
      "lstm_2 (LSTM)                (None, 50)                20200     \n",
      "_________________________________________________________________\n",
      "dense (Dense)                (None, 1)                 51        \n",
      "=================================================================\n",
      "Total params: 50,851\n",
      "Trainable params: 50,851\n",
      "Non-trainable params: 0\n",
      "_________________________________________________________________\n"
     ]
    }
   ],
   "source": [
    "model.summary()"
   ]
  },
  {
   "cell_type": "code",
   "execution_count": 30,
   "metadata": {},
   "outputs": [
    {
     "name": "stdout",
     "output_type": "stream",
     "text": [
      "Epoch 1/100\n",
      "113/113 [==============================] - 10s 47ms/step - loss: 0.0106 - val_loss: 1.5810e-04\n",
      "Epoch 2/100\n",
      "113/113 [==============================] - 4s 32ms/step - loss: 1.2554e-04 - val_loss: 2.2383e-04\n",
      "Epoch 3/100\n",
      "113/113 [==============================] - 3s 30ms/step - loss: 1.2171e-04 - val_loss: 2.7280e-04\n",
      "Epoch 4/100\n",
      "113/113 [==============================] - 3s 29ms/step - loss: 1.1432e-04 - val_loss: 2.8772e-04\n",
      "Epoch 5/100\n",
      "113/113 [==============================] - 3s 31ms/step - loss: 9.6265e-05 - val_loss: 2.5163e-04\n",
      "Epoch 6/100\n",
      "113/113 [==============================] - 4s 32ms/step - loss: 9.6768e-05 - val_loss: 3.0125e-04\n",
      "Epoch 7/100\n",
      "113/113 [==============================] - 3s 27ms/step - loss: 9.0208e-05 - val_loss: 3.4153e-04TA: 0s - loss: 9\n",
      "Epoch 8/100\n",
      "113/113 [==============================] - 3s 29ms/step - loss: 7.9353e-05 - val_loss: 5.7023e-04\n",
      "Epoch 9/100\n",
      "113/113 [==============================] - 4s 35ms/step - loss: 7.4449e-05 - val_loss: 0.0010e\n",
      "Epoch 10/100\n",
      "113/113 [==============================] - 3s 31ms/step - loss: 7.7132e-05 - val_loss: 9.1274e-04TA: 1s -\n",
      "Epoch 11/100\n",
      "113/113 [==============================] - 4s 31ms/step - loss: 7.0433e-05 - val_loss: 1.0641e-04\n",
      "Epoch 12/100\n",
      "113/113 [==============================] - 3s 31ms/step - loss: 7.2646e-05 - val_loss: 1.0970e-04\n",
      "Epoch 13/100\n",
      "113/113 [==============================] - 3s 29ms/step - loss: 6.1675e-05 - val_loss: 3.9959e-04\n",
      "Epoch 14/100\n",
      "113/113 [==============================] - 4s 33ms/step - loss: 6.2040e-05 - val_loss: 8.3603e-05\n",
      "Epoch 15/100\n",
      "113/113 [==============================] - 4s 33ms/step - loss: 5.5758e-05 - val_loss: 2.4745e-04\n",
      "Epoch 16/100\n",
      "113/113 [==============================] - 3s 31ms/step - loss: 5.2947e-05 - val_loss: 6.0149e-05\n",
      "Epoch 17/100\n",
      "113/113 [==============================] - 3s 31ms/step - loss: 5.1471e-05 - val_loss: 1.1900e-04\n",
      "Epoch 18/100\n",
      "113/113 [==============================] - 3s 29ms/step - loss: 4.4582e-05 - val_loss: 4.9858e-05\n",
      "Epoch 19/100\n",
      "113/113 [==============================] - 3s 29ms/step - loss: 4.9652e-05 - val_loss: 1.1440e-04\n",
      "Epoch 20/100\n",
      "113/113 [==============================] - 3s 29ms/step - loss: 3.8740e-05 - val_loss: 1.0218e-04\n",
      "Epoch 21/100\n",
      "113/113 [==============================] - 4s 32ms/step - loss: 4.2088e-05 - val_loss: 6.8657e-05\n",
      "Epoch 22/100\n",
      "113/113 [==============================] - 3s 29ms/step - loss: 3.5739e-05 - val_loss: 1.5269e-04\n",
      "Epoch 23/100\n",
      "113/113 [==============================] - 3s 28ms/step - loss: 3.6015e-05 - val_loss: 3.1554e-05\n",
      "Epoch 24/100\n",
      "113/113 [==============================] - 4s 33ms/step - loss: 3.3602e-05 - val_loss: 1.9417e-04\n",
      "Epoch 25/100\n",
      "113/113 [==============================] - 3s 28ms/step - loss: 3.2503e-05 - val_loss: 3.4404e-05\n",
      "Epoch 26/100\n",
      "113/113 [==============================] - 3s 31ms/step - loss: 3.3048e-05 - val_loss: 1.6554e-04\n",
      "Epoch 27/100\n",
      "113/113 [==============================] - 3s 28ms/step - loss: 2.9075e-05 - val_loss: 7.0363e-05\n",
      "Epoch 28/100\n",
      "113/113 [==============================] - 3s 29ms/step - loss: 3.1991e-05 - val_loss: 6.6488e-05\n",
      "Epoch 29/100\n",
      "113/113 [==============================] - 3s 30ms/step - loss: 2.7643e-05 - val_loss: 3.7755e-05\n",
      "Epoch 30/100\n",
      "113/113 [==============================] - 3s 31ms/step - loss: 2.8744e-05 - val_loss: 3.2333e-05\n",
      "Epoch 31/100\n",
      "113/113 [==============================] - 3s 29ms/step - loss: 2.5572e-05 - val_loss: 5.0539e-04\n",
      "Epoch 32/100\n",
      "113/113 [==============================] - 3s 29ms/step - loss: 3.4112e-05 - val_loss: 2.2501e-05\n",
      "Epoch 33/100\n",
      "113/113 [==============================] - 4s 32ms/step - loss: 3.0556e-05 - val_loss: 2.5431e-05\n",
      "Epoch 34/100\n",
      "113/113 [==============================] - 3s 31ms/step - loss: 2.2493e-05 - val_loss: 1.6471e-05\n",
      "Epoch 35/100\n",
      "113/113 [==============================] - 3s 29ms/step - loss: 2.5242e-05 - val_loss: 1.3534e-04\n",
      "Epoch 36/100\n",
      "113/113 [==============================] - 3s 29ms/step - loss: 2.1791e-05 - val_loss: 1.8469e-04\n",
      "Epoch 37/100\n",
      "113/113 [==============================] - 3s 28ms/step - loss: 2.0601e-05 - val_loss: 2.5126e-04\n",
      "Epoch 38/100\n",
      "113/113 [==============================] - 3s 29ms/step - loss: 1.9836e-05 - val_loss: 1.7172e-04\n",
      "Epoch 39/100\n",
      "113/113 [==============================] - 3s 29ms/step - loss: 1.9208e-05 - val_loss: 1.9582e-05\n",
      "Epoch 40/100\n",
      "113/113 [==============================] - 4s 31ms/step - loss: 1.9612e-05 - val_loss: 1.8453e-04A: 0s - loss:\n",
      "Epoch 41/100\n",
      "113/113 [==============================] - 3s 30ms/step - loss: 1.9678e-05 - val_loss: 1.6326e-05\n",
      "Epoch 42/100\n",
      "113/113 [==============================] - 4s 32ms/step - loss: 2.0881e-05 - val_loss: 7.7489e-05 \n",
      "Epoch 43/100\n",
      "113/113 [==============================] - 4s 33ms/step - loss: 1.9582e-05 - val_loss: 1.0155e-04\n",
      "Epoch 44/100\n",
      "113/113 [==============================] - 4s 32ms/step - loss: 1.8004e-05 - val_loss: 1.4018e-05\n",
      "Epoch 45/100\n",
      "113/113 [==============================] - 3s 31ms/step - loss: 1.7361e-05 - val_loss: 3.5440e-05\n",
      "Epoch 46/100\n",
      "113/113 [==============================] - 3s 31ms/step - loss: 1.6233e-05 - val_loss: 1.1939e-04\n",
      "Epoch 47/100\n",
      "113/113 [==============================] - 3s 30ms/step - loss: 1.6939e-05 - val_loss: 5.6975e-05\n",
      "Epoch 48/100\n",
      "113/113 [==============================] - 3s 31ms/step - loss: 1.5547e-05 - val_loss: 1.7915e-04\n",
      "Epoch 49/100\n",
      "113/113 [==============================] - 3s 29ms/step - loss: 1.9595e-05 - val_loss: 2.6842e-05\n",
      "Epoch 50/100\n",
      "113/113 [==============================] - 3s 30ms/step - loss: 2.0358e-05 - val_loss: 1.3996e-04\n",
      "Epoch 51/100\n",
      "113/113 [==============================] - 3s 28ms/step - loss: 1.6236e-05 - val_loss: 3.2754e-05.59 - ETA: 0s - loss: 1.6160e- - ETA: 0s - loss: 1.6214e-0\n",
      "Epoch 52/100\n",
      "113/113 [==============================] - 3s 28ms/step - loss: 1.4713e-05 - val_loss: 6.6512e-05\n",
      "Epoch 53/100\n",
      "113/113 [==============================] - 4s 32ms/step - loss: 1.9579e-05 - val_loss: 9.8836e-05\n",
      "Epoch 54/100\n",
      "113/113 [==============================] - 4s 32ms/step - loss: 1.3018e-05 - val_loss: 2.4378e-04\n",
      "Epoch 55/100\n",
      "113/113 [==============================] - 4s 32ms/step - loss: 1.3909e-05 - val_loss: 8.4170e-05\n",
      "Epoch 56/100\n",
      "113/113 [==============================] - 4s 35ms/step - loss: 1.3967e-05 - val_loss: 1.6422e-04\n",
      "Epoch 57/100\n",
      "113/113 [==============================] - 4s 32ms/step - loss: 1.2829e-05 - val_loss: 1.4487e-04\n",
      "Epoch 58/100\n",
      "113/113 [==============================] - 3s 28ms/step - loss: 1.4216e-05 - val_loss: 3.8941e-04\n",
      "Epoch 59/100\n",
      "113/113 [==============================] - 3s 30ms/step - loss: 1.4801e-05 - val_loss: 1.0587e-04\n",
      "Epoch 60/100\n",
      "113/113 [==============================] - 4s 31ms/step - loss: 1.1154e-05 - val_loss: 1.4883e-05\n",
      "Epoch 61/100\n",
      "113/113 [==============================] - 3s 29ms/step - loss: 1.3503e-05 - val_loss: 1.6307e-05\n",
      "Epoch 62/100\n",
      "113/113 [==============================] - 4s 32ms/step - loss: 1.5502e-05 - val_loss: 4.9986e-05\n",
      "Epoch 63/100\n",
      "113/113 [==============================] - 3s 29ms/step - loss: 1.1270e-05 - val_loss: 3.4233e-05\n",
      "Epoch 64/100\n",
      "113/113 [==============================] - 4s 32ms/step - loss: 1.2545e-05 - val_loss: 1.6051e-05\n",
      "Epoch 65/100\n",
      "113/113 [==============================] - 3s 30ms/step - loss: 1.1929e-05 - val_loss: 1.5622e-04\n",
      "Epoch 66/100\n",
      "113/113 [==============================] - 3s 30ms/step - loss: 1.0659e-05 - val_loss: 1.1502e-05\n",
      "Epoch 67/100\n",
      "113/113 [==============================] - 3s 29ms/step - loss: 1.1435e-05 - val_loss: 5.7180e-05\n",
      "Epoch 68/100\n",
      "113/113 [==============================] - 3s 29ms/step - loss: 8.9671e-06 - val_loss: 2.0123e-04\n",
      "Epoch 69/100\n",
      "113/113 [==============================] - 4s 32ms/step - loss: 1.0767e-05 - val_loss: 1.8704e-05\n",
      "Epoch 70/100\n",
      "113/113 [==============================] - 4s 32ms/step - loss: 1.5870e-05 - val_loss: 9.9733e-05\n",
      "Epoch 71/100\n",
      "113/113 [==============================] - 4s 31ms/step - loss: 8.8689e-06 - val_loss: 1.0339e-04\n",
      "Epoch 72/100\n",
      "113/113 [==============================] - 4s 31ms/step - loss: 1.0186e-05 - val_loss: 2.7520e-05\n",
      "Epoch 73/100\n",
      "113/113 [==============================] - 4s 31ms/step - loss: 1.0182e-05 - val_loss: 1.3638e-05\n",
      "Epoch 74/100\n"
     ]
    },
    {
     "name": "stdout",
     "output_type": "stream",
     "text": [
      "113/113 [==============================] - 3s 31ms/step - loss: 9.0089e-06 - val_loss: 1.7162e-05\n",
      "Epoch 75/100\n",
      "113/113 [==============================] - 3s 29ms/step - loss: 1.0349e-05 - val_loss: 4.6689e-05\n",
      "Epoch 76/100\n",
      "113/113 [==============================] - 3s 29ms/step - loss: 8.1419e-06 - val_loss: 7.2577e-05\n",
      "Epoch 77/100\n",
      "113/113 [==============================] - 4s 33ms/step - loss: 9.6005e-06 - val_loss: 2.5840e-04\n",
      "Epoch 78/100\n",
      "113/113 [==============================] - 4s 32ms/step - loss: 9.1722e-06 - val_loss: 2.0486e-05\n",
      "Epoch 79/100\n",
      "113/113 [==============================] - 4s 32ms/step - loss: 1.0286e-05 - val_loss: 8.5586e-05\n",
      "Epoch 80/100\n",
      "113/113 [==============================] - 3s 30ms/step - loss: 1.0689e-05 - val_loss: 1.4315e-04\n",
      "Epoch 81/100\n",
      "113/113 [==============================] - 3s 28ms/step - loss: 9.6238e-06 - val_loss: 3.3048e-05\n",
      "Epoch 82/100\n",
      "113/113 [==============================] - 4s 32ms/step - loss: 1.0910e-05 - val_loss: 1.9125e-04\n",
      "Epoch 83/100\n",
      "113/113 [==============================] - 4s 34ms/step - loss: 8.7595e-06 - val_loss: 1.6961e-04\n",
      "Epoch 84/100\n",
      "113/113 [==============================] - 3s 28ms/step - loss: 8.8486e-06 - val_loss: 7.4154e-05\n",
      "Epoch 85/100\n",
      "113/113 [==============================] - 3s 27ms/step - loss: 8.5147e-06 - val_loss: 1.0171e-04\n",
      "Epoch 86/100\n",
      "113/113 [==============================] - 3s 28ms/step - loss: 8.5829e-06 - val_loss: 3.0338e-04\n",
      "Epoch 87/100\n",
      "113/113 [==============================] - 3s 30ms/step - loss: 9.8289e-06 - val_loss: 1.0634e-04\n",
      "Epoch 88/100\n",
      "113/113 [==============================] - 4s 31ms/step - loss: 1.3760e-05 - val_loss: 7.3897e-05\n",
      "Epoch 89/100\n",
      "113/113 [==============================] - 3s 29ms/step - loss: 8.9983e-06 - val_loss: 3.4705e-04\n",
      "Epoch 90/100\n",
      "113/113 [==============================] - 3s 29ms/step - loss: 8.6355e-06 - val_loss: 1.9713e-04\n",
      "Epoch 91/100\n",
      "113/113 [==============================] - 3s 27ms/step - loss: 8.6234e-06 - val_loss: 1.6829e-04\n",
      "Epoch 92/100\n",
      "113/113 [==============================] - 3s 28ms/step - loss: 1.0139e-05 - val_loss: 1.3552e-04\n",
      "Epoch 93/100\n",
      "113/113 [==============================] - 3s 31ms/step - loss: 8.8770e-06 - val_loss: 1.7435e-04\n",
      "Epoch 94/100\n",
      "113/113 [==============================] - 3s 31ms/step - loss: 8.0010e-06 - val_loss: 8.2742e-05\n",
      "Epoch 95/100\n",
      "113/113 [==============================] - 4s 33ms/step - loss: 8.6747e-06 - val_loss: 3.0180e-04\n",
      "Epoch 96/100\n",
      "113/113 [==============================] - 4s 33ms/step - loss: 8.9615e-06 - val_loss: 9.0034e-058.9050e\n",
      "Epoch 97/100\n",
      "113/113 [==============================] - 4s 31ms/step - loss: 9.4816e-06 - val_loss: 2.0206e-04\n",
      "Epoch 98/100\n",
      "113/113 [==============================] - 3s 30ms/step - loss: 8.2108e-06 - val_loss: 3.1085e-04\n",
      "Epoch 99/100\n",
      "113/113 [==============================] - 4s 31ms/step - loss: 1.0455e-05 - val_loss: 3.1806e-04\n",
      "Epoch 100/100\n",
      "113/113 [==============================] - 3s 29ms/step - loss: 9.0619e-06 - val_loss: 2.5025e-04\n"
     ]
    },
    {
     "data": {
      "text/plain": [
       "<tensorflow.python.keras.callbacks.History at 0x205d22e55b0>"
      ]
     },
     "execution_count": 30,
     "metadata": {},
     "output_type": "execute_result"
    }
   ],
   "source": [
    "model.fit(X_train,y_train,validation_data=(X_test,ytest),epochs=100,batch_size=128,verbose=1)"
   ]
  },
  {
   "cell_type": "code",
   "execution_count": 31,
   "metadata": {},
   "outputs": [],
   "source": [
    "import tensorflow as tf\n",
    "### Do the prediction and check performance metrics\n",
    "train_predict=model.predict(X_train)\n",
    "test_predict=model.predict(X_test)\n",
    "##Transformback to original form\n",
    "train_predict=scaler.inverse_transform(train_predict)\n",
    "test_predict=scaler.inverse_transform(test_predict)\n",
    "### Calculate RMSE performance metrics"
   ]
  },
  {
   "cell_type": "code",
   "execution_count": 32,
   "metadata": {},
   "outputs": [
    {
     "data": {
      "text/plain": [
       "34224.90124695518"
      ]
     },
     "execution_count": 32,
     "metadata": {},
     "output_type": "execute_result"
    }
   ],
   "source": [
    "import math\n",
    "from sklearn.metrics import mean_squared_error\n",
    "math.sqrt(mean_squared_error(y_train,train_predict))"
   ]
  },
  {
   "cell_type": "code",
   "execution_count": 33,
   "metadata": {},
   "outputs": [
    {
     "data": {
      "text/plain": [
       "44426.05901127133"
      ]
     },
     "execution_count": 33,
     "metadata": {},
     "output_type": "execute_result"
    }
   ],
   "source": [
    "### Test Data RMSE\n",
    "math.sqrt(mean_squared_error(ytest,test_predict))"
   ]
  },
  {
   "cell_type": "code",
   "execution_count": 34,
   "metadata": {},
   "outputs": [
    {
     "data": {
      "image/png": "[encoded data removed]",
      "text/plain": [
       "<Figure size 432x288 with 1 Axes>"
      ]
     },
     "metadata": {
      "needs_background": "light"
     },
     "output_type": "display_data"
    }
   ],
   "source": [
    "# shift train predictions for plotting\n",
    "look_back=100\n",
    "trainPredictPlot = numpy.empty_like(df1)\n",
    "trainPredictPlot[:, :] = np.nan\n",
    "trainPredictPlot[look_back:len(train_predict)+look_back, :] = train_predict\n",
    "# shift test predictions for plotting\n",
    "testPredictPlot = numpy.empty_like(df1)\n",
    "testPredictPlot[:, :] = numpy.nan\n",
    "testPredictPlot[len(train_predict)+(look_back*2)+1:len(df1)-1, :] = test_predict\n",
    "# plot baseline and predictions\n",
    "plt.plot(scaler.inverse_transform(df1))\n",
    "plt.plot(trainPredictPlot)\n",
    "plt.plot(testPredictPlot)\n",
    "plt.show()"
   ]
  },
  {
   "cell_type": "code",
   "execution_count": 35,
   "metadata": {},
   "outputs": [
    {
     "name": "stdout",
     "output_type": "stream",
     "text": [
      "7808\n",
      "7708\n"
     ]
    }
   ],
   "source": [
    "len(test_data)\n",
    "tdl_int = len(test_data)\n",
    "tdl_length = tdl_int - 100\n",
    "print(tdl_int)\n",
    "print(tdl_length)"
   ]
  },
  {
   "cell_type": "code",
   "execution_count": 36,
   "metadata": {},
   "outputs": [
    {
     "data": {
      "text/plain": [
       "(1, 100)"
      ]
     },
     "execution_count": 36,
     "metadata": {},
     "output_type": "execute_result"
    }
   ],
   "source": [
    "x_input=test_data[tdl_length:].reshape(1,-1)\n",
    "x_input.shape"
   ]
  },
  {
   "cell_type": "code",
   "execution_count": 37,
   "metadata": {},
   "outputs": [
    {
     "data": {
      "text/plain": [
       "[0.9392551227963546,\n",
       " 0.9412814612007652,\n",
       " 0.9418943848150172,\n",
       " 0.9446664279270216,\n",
       " 0.9459008355411993,\n",
       " 0.9454370528684661,\n",
       " 0.9439536331465743,\n",
       " 0.9435372179412367,\n",
       " 0.9430395741873934,\n",
       " 0.942920299480337,\n",
       " 0.9422301421642274,\n",
       " 0.9409027116923929,\n",
       " 0.9405481214947002,\n",
       " 0.942259627937104,\n",
       " 0.939490248056198,\n",
       " 0.9355399154138779,\n",
       " 0.9429022275550256,\n",
       " 0.9426802282198818,\n",
       " 0.9381281955800826,\n",
       " 0.9326634355966519,\n",
       " 0.9334133253816863,\n",
       " 0.9299655824938209,\n",
       " 0.9268796585737733,\n",
       " 0.9269158024243964,\n",
       " 0.9270364087470022,\n",
       " 0.9268204967972267,\n",
       " 0.9256442998056316,\n",
       " 0.9248225027809363,\n",
       " 0.9243971467283396,\n",
       " 0.9239284180549947,\n",
       " 0.9192382778596562,\n",
       " 0.9202331849057575,\n",
       " 0.9189970652144446,\n",
       " 0.9136059245478094,\n",
       " 0.907153676519195,\n",
       " 0.9070290753499415,\n",
       " 0.912915577000907,\n",
       " 0.915756864121474,\n",
       " 0.9154991013972928,\n",
       " 0.9147435046884755,\n",
       " 0.9093717675627011,\n",
       " 0.9112927181079264,\n",
       " 0.9139511934366573,\n",
       " 0.911113901162738,\n",
       " 0.9088282781878045,\n",
       " 0.8971475368203587,\n",
       " 0.8886575365397684,\n",
       " 0.8904185029882878,\n",
       " 0.8978757402950195,\n",
       " 0.9004075219157763,\n",
       " 0.901894365791938,\n",
       " 0.9095717001258854,\n",
       " 0.9129521013131154,\n",
       " 0.9132901414318386,\n",
       " 0.9142342568562745,\n",
       " 0.9129930009335574,\n",
       " 0.9126241434264086,\n",
       " 0.9129201425399329,\n",
       " 0.9132408716565155,\n",
       " 0.9135775801596893,\n",
       " 0.9157342266571362,\n",
       " 0.9138210755744138,\n",
       " 0.9144948730423468,\n",
       " 0.9140316610619919,\n",
       " 0.9108728787483193,\n",
       " 0.9110298191523412,\n",
       " 0.9126224313492739,\n",
       " 0.916783159248379,\n",
       " 0.9184984703066377,\n",
       " 0.9236980485649702,\n",
       " 0.9341331587014654,\n",
       " 0.9341105212371281,\n",
       " 0.9357742797505502,\n",
       " 0.9357035138956462,\n",
       " 0.9350063180402044,\n",
       " 0.9344947874384899,\n",
       " 0.9315443078428824,\n",
       " 0.93209749898821,\n",
       " 0.9314843851431651,\n",
       " 0.932674088521046,\n",
       " 0.9331981743550819,\n",
       " 0.9342935232597567,\n",
       " 0.9342086803261886,\n",
       " 0.9338244141248264,\n",
       " 0.9334858033137254,\n",
       " 0.9351805694463664,\n",
       " 0.934884760563635,\n",
       " 0.9365178919194239,\n",
       " 0.9410684027128813,\n",
       " 0.9402587804589224,\n",
       " 0.9372826197062931,\n",
       " 0.9379413889415988,\n",
       " 0.9377422173015857,\n",
       " 0.9376712612158888,\n",
       " 0.9390527172328649,\n",
       " 0.939883835566405,\n",
       " 0.9448079596368304,\n",
       " 0.9448827203383825,\n",
       " 0.9453126419300055,\n",
       " 0.9458323524558083]"
      ]
     },
     "execution_count": 37,
     "metadata": {},
     "output_type": "execute_result"
    }
   ],
   "source": [
    "temp_input=list(x_input)\n",
    "temp_input=temp_input[0].tolist()\n",
    "\n",
    "temp_input"
   ]
  },
  {
   "cell_type": "code",
   "execution_count": 38,
   "metadata": {},
   "outputs": [
    {
     "name": "stdout",
     "output_type": "stream",
     "text": [
      "[0.92196864]\n",
      "101\n",
      "1 day input [0.94128146 0.94189438 0.94466643 0.94590084 0.94543705 0.94395363\n",
      " 0.94353722 0.94303957 0.9429203  0.94223014 0.94090271 0.94054812\n",
      " 0.94225963 0.93949025 0.93553992 0.94290223 0.94268023 0.9381282\n",
      " 0.93266344 0.93341333 0.92996558 0.92687966 0.9269158  0.92703641\n",
      " 0.9268205  0.9256443  0.9248225  0.92439715 0.92392842 0.91923828\n",
      " 0.92023318 0.91899707 0.91360592 0.90715368 0.90702908 0.91291558\n",
      " 0.91575686 0.9154991  0.9147435  0.90937177 0.91129272 0.91395119\n",
      " 0.9111139  0.90882828 0.89714754 0.88865754 0.8904185  0.89787574\n",
      " 0.90040752 0.90189437 0.9095717  0.9129521  0.91329014 0.91423426\n",
      " 0.912993   0.91262414 0.91292014 0.91324087 0.91357758 0.91573423\n",
      " 0.91382108 0.91449487 0.91403166 0.91087288 0.91102982 0.91262243\n",
      " 0.91678316 0.91849847 0.92369805 0.93413316 0.93411052 0.93577428\n",
      " 0.93570351 0.93500632 0.93449479 0.93154431 0.9320975  0.93148439\n",
      " 0.93267409 0.93319817 0.93429352 0.93420868 0.93382441 0.9334858\n",
      " 0.93518057 0.93488476 0.93651789 0.9410684  0.94025878 0.93728262\n",
      " 0.93794139 0.93774222 0.93767126 0.93905272 0.93988384 0.94480796\n",
      " 0.94488272 0.94531264 0.94583235 0.92196864]\n",
      "1 day output [[0.8856608]]\n",
      "2 day input [0.94189438 0.94466643 0.94590084 0.94543705 0.94395363 0.94353722\n",
      " 0.94303957 0.9429203  0.94223014 0.94090271 0.94054812 0.94225963\n",
      " 0.93949025 0.93553992 0.94290223 0.94268023 0.9381282  0.93266344\n",
      " 0.93341333 0.92996558 0.92687966 0.9269158  0.92703641 0.9268205\n",
      " 0.9256443  0.9248225  0.92439715 0.92392842 0.91923828 0.92023318\n",
      " 0.91899707 0.91360592 0.90715368 0.90702908 0.91291558 0.91575686\n",
      " 0.9154991  0.9147435  0.90937177 0.91129272 0.91395119 0.9111139\n",
      " 0.90882828 0.89714754 0.88865754 0.8904185  0.89787574 0.90040752\n",
      " 0.90189437 0.9095717  0.9129521  0.91329014 0.91423426 0.912993\n",
      " 0.91262414 0.91292014 0.91324087 0.91357758 0.91573423 0.91382108\n",
      " 0.91449487 0.91403166 0.91087288 0.91102982 0.91262243 0.91678316\n",
      " 0.91849847 0.92369805 0.93413316 0.93411052 0.93577428 0.93570351\n",
      " 0.93500632 0.93449479 0.93154431 0.9320975  0.93148439 0.93267409\n",
      " 0.93319817 0.93429352 0.93420868 0.93382441 0.9334858  0.93518057\n",
      " 0.93488476 0.93651789 0.9410684  0.94025878 0.93728262 0.93794139\n",
      " 0.93774222 0.93767126 0.93905272 0.93988384 0.94480796 0.94488272\n",
      " 0.94531264 0.94583235 0.92196864 0.88566083]\n",
      "2 day output [[0.8568351]]\n",
      "3 day input [0.94466643 0.94590084 0.94543705 0.94395363 0.94353722 0.94303957\n",
      " 0.9429203  0.94223014 0.94090271 0.94054812 0.94225963 0.93949025\n",
      " 0.93553992 0.94290223 0.94268023 0.9381282  0.93266344 0.93341333\n",
      " 0.92996558 0.92687966 0.9269158  0.92703641 0.9268205  0.9256443\n",
      " 0.9248225  0.92439715 0.92392842 0.91923828 0.92023318 0.91899707\n",
      " 0.91360592 0.90715368 0.90702908 0.91291558 0.91575686 0.9154991\n",
      " 0.9147435  0.90937177 0.91129272 0.91395119 0.9111139  0.90882828\n",
      " 0.89714754 0.88865754 0.8904185  0.89787574 0.90040752 0.90189437\n",
      " 0.9095717  0.9129521  0.91329014 0.91423426 0.912993   0.91262414\n",
      " 0.91292014 0.91324087 0.91357758 0.91573423 0.91382108 0.91449487\n",
      " 0.91403166 0.91087288 0.91102982 0.91262243 0.91678316 0.91849847\n",
      " 0.92369805 0.93413316 0.93411052 0.93577428 0.93570351 0.93500632\n",
      " 0.93449479 0.93154431 0.9320975  0.93148439 0.93267409 0.93319817\n",
      " 0.93429352 0.93420868 0.93382441 0.9334858  0.93518057 0.93488476\n",
      " 0.93651789 0.9410684  0.94025878 0.93728262 0.93794139 0.93774222\n",
      " 0.93767126 0.93905272 0.93988384 0.94480796 0.94488272 0.94531264\n",
      " 0.94583235 0.92196864 0.88566083 0.85683513]\n",
      "3 day output [[0.83539975]]\n",
      "4 day input [0.94590084 0.94543705 0.94395363 0.94353722 0.94303957 0.9429203\n",
      " 0.94223014 0.94090271 0.94054812 0.94225963 0.93949025 0.93553992\n",
      " 0.94290223 0.94268023 0.9381282  0.93266344 0.93341333 0.92996558\n",
      " 0.92687966 0.9269158  0.92703641 0.9268205  0.9256443  0.9248225\n",
      " 0.92439715 0.92392842 0.91923828 0.92023318 0.91899707 0.91360592\n",
      " 0.90715368 0.90702908 0.91291558 0.91575686 0.9154991  0.9147435\n",
      " 0.90937177 0.91129272 0.91395119 0.9111139  0.90882828 0.89714754\n",
      " 0.88865754 0.8904185  0.89787574 0.90040752 0.90189437 0.9095717\n",
      " 0.9129521  0.91329014 0.91423426 0.912993   0.91262414 0.91292014\n",
      " 0.91324087 0.91357758 0.91573423 0.91382108 0.91449487 0.91403166\n",
      " 0.91087288 0.91102982 0.91262243 0.91678316 0.91849847 0.92369805\n",
      " 0.93413316 0.93411052 0.93577428 0.93570351 0.93500632 0.93449479\n",
      " 0.93154431 0.9320975  0.93148439 0.93267409 0.93319817 0.93429352\n",
      " 0.93420868 0.93382441 0.9334858  0.93518057 0.93488476 0.93651789\n",
      " 0.9410684  0.94025878 0.93728262 0.93794139 0.93774222 0.93767126\n",
      " 0.93905272 0.93988384 0.94480796 0.94488272 0.94531264 0.94583235\n",
      " 0.92196864 0.88566083 0.85683513 0.83539975]\n",
      "4 day output [[0.8173056]]\n",
      "5 day input [0.94543705 0.94395363 0.94353722 0.94303957 0.9429203  0.94223014\n",
      " 0.94090271 0.94054812 0.94225963 0.93949025 0.93553992 0.94290223\n",
      " 0.94268023 0.9381282  0.93266344 0.93341333 0.92996558 0.92687966\n",
      " 0.9269158  0.92703641 0.9268205  0.9256443  0.9248225  0.92439715\n",
      " 0.92392842 0.91923828 0.92023318 0.91899707 0.91360592 0.90715368\n",
      " 0.90702908 0.91291558 0.91575686 0.9154991  0.9147435  0.90937177\n",
      " 0.91129272 0.91395119 0.9111139  0.90882828 0.89714754 0.88865754\n",
      " 0.8904185  0.89787574 0.90040752 0.90189437 0.9095717  0.9129521\n",
      " 0.91329014 0.91423426 0.912993   0.91262414 0.91292014 0.91324087\n",
      " 0.91357758 0.91573423 0.91382108 0.91449487 0.91403166 0.91087288\n",
      " 0.91102982 0.91262243 0.91678316 0.91849847 0.92369805 0.93413316\n",
      " 0.93411052 0.93577428 0.93570351 0.93500632 0.93449479 0.93154431\n",
      " 0.9320975  0.93148439 0.93267409 0.93319817 0.93429352 0.93420868\n",
      " 0.93382441 0.9334858  0.93518057 0.93488476 0.93651789 0.9410684\n",
      " 0.94025878 0.93728262 0.93794139 0.93774222 0.93767126 0.93905272\n",
      " 0.93988384 0.94480796 0.94488272 0.94531264 0.94583235 0.92196864\n",
      " 0.88566083 0.85683513 0.83539975 0.81730562]\n",
      "5 day output [[0.80023855]]\n",
      "6 day input [0.94395363 0.94353722 0.94303957 0.9429203  0.94223014 0.94090271\n",
      " 0.94054812 0.94225963 0.93949025 0.93553992 0.94290223 0.94268023\n",
      " 0.9381282  0.93266344 0.93341333 0.92996558 0.92687966 0.9269158\n",
      " 0.92703641 0.9268205  0.9256443  0.9248225  0.92439715 0.92392842\n",
      " 0.91923828 0.92023318 0.91899707 0.91360592 0.90715368 0.90702908\n",
      " 0.91291558 0.91575686 0.9154991  0.9147435  0.90937177 0.91129272\n",
      " 0.91395119 0.9111139  0.90882828 0.89714754 0.88865754 0.8904185\n",
      " 0.89787574 0.90040752 0.90189437 0.9095717  0.9129521  0.91329014\n",
      " 0.91423426 0.912993   0.91262414 0.91292014 0.91324087 0.91357758\n",
      " 0.91573423 0.91382108 0.91449487 0.91403166 0.91087288 0.91102982\n",
      " 0.91262243 0.91678316 0.91849847 0.92369805 0.93413316 0.93411052\n",
      " 0.93577428 0.93570351 0.93500632 0.93449479 0.93154431 0.9320975\n",
      " 0.93148439 0.93267409 0.93319817 0.93429352 0.93420868 0.93382441\n",
      " 0.9334858  0.93518057 0.93488476 0.93651789 0.9410684  0.94025878\n",
      " 0.93728262 0.93794139 0.93774222 0.93767126 0.93905272 0.93988384\n",
      " 0.94480796 0.94488272 0.94531264 0.94583235 0.92196864 0.88566083\n",
      " 0.85683513 0.83539975 0.81730562 0.80023855]\n",
      "6 day output [[0.7835502]]\n",
      "7 day input [0.94353722 0.94303957 0.9429203  0.94223014 0.94090271 0.94054812\n",
      " 0.94225963 0.93949025 0.93553992 0.94290223 0.94268023 0.9381282\n",
      " 0.93266344 0.93341333 0.92996558 0.92687966 0.9269158  0.92703641\n",
      " 0.9268205  0.9256443  0.9248225  0.92439715 0.92392842 0.91923828\n",
      " 0.92023318 0.91899707 0.91360592 0.90715368 0.90702908 0.91291558\n",
      " 0.91575686 0.9154991  0.9147435  0.90937177 0.91129272 0.91395119\n",
      " 0.9111139  0.90882828 0.89714754 0.88865754 0.8904185  0.89787574\n",
      " 0.90040752 0.90189437 0.9095717  0.9129521  0.91329014 0.91423426\n",
      " 0.912993   0.91262414 0.91292014 0.91324087 0.91357758 0.91573423\n",
      " 0.91382108 0.91449487 0.91403166 0.91087288 0.91102982 0.91262243\n",
      " 0.91678316 0.91849847 0.92369805 0.93413316 0.93411052 0.93577428\n",
      " 0.93570351 0.93500632 0.93449479 0.93154431 0.9320975  0.93148439\n",
      " 0.93267409 0.93319817 0.93429352 0.93420868 0.93382441 0.9334858\n",
      " 0.93518057 0.93488476 0.93651789 0.9410684  0.94025878 0.93728262\n",
      " 0.93794139 0.93774222 0.93767126 0.93905272 0.93988384 0.94480796\n",
      " 0.94488272 0.94531264 0.94583235 0.92196864 0.88566083 0.85683513\n",
      " 0.83539975 0.81730562 0.80023855 0.7835502 ]\n",
      "7 day output [[0.7674548]]\n",
      "8 day input [0.94303957 0.9429203  0.94223014 0.94090271 0.94054812 0.94225963\n",
      " 0.93949025 0.93553992 0.94290223 0.94268023 0.9381282  0.93266344\n",
      " 0.93341333 0.92996558 0.92687966 0.9269158  0.92703641 0.9268205\n",
      " 0.9256443  0.9248225  0.92439715 0.92392842 0.91923828 0.92023318\n",
      " 0.91899707 0.91360592 0.90715368 0.90702908 0.91291558 0.91575686\n",
      " 0.9154991  0.9147435  0.90937177 0.91129272 0.91395119 0.9111139\n",
      " 0.90882828 0.89714754 0.88865754 0.8904185  0.89787574 0.90040752\n",
      " 0.90189437 0.9095717  0.9129521  0.91329014 0.91423426 0.912993\n",
      " 0.91262414 0.91292014 0.91324087 0.91357758 0.91573423 0.91382108\n",
      " 0.91449487 0.91403166 0.91087288 0.91102982 0.91262243 0.91678316\n",
      " 0.91849847 0.92369805 0.93413316 0.93411052 0.93577428 0.93570351\n",
      " 0.93500632 0.93449479 0.93154431 0.9320975  0.93148439 0.93267409\n",
      " 0.93319817 0.93429352 0.93420868 0.93382441 0.9334858  0.93518057\n",
      " 0.93488476 0.93651789 0.9410684  0.94025878 0.93728262 0.93794139\n",
      " 0.93774222 0.93767126 0.93905272 0.93988384 0.94480796 0.94488272\n",
      " 0.94531264 0.94583235 0.92196864 0.88566083 0.85683513 0.83539975\n",
      " 0.81730562 0.80023855 0.7835502  0.7674548 ]\n",
      "8 day output [[0.7522354]]\n",
      "9 day input [0.9429203  0.94223014 0.94090271 0.94054812 0.94225963 0.93949025\n",
      " 0.93553992 0.94290223 0.94268023 0.9381282  0.93266344 0.93341333\n",
      " 0.92996558 0.92687966 0.9269158  0.92703641 0.9268205  0.9256443\n",
      " 0.9248225  0.92439715 0.92392842 0.91923828 0.92023318 0.91899707\n",
      " 0.91360592 0.90715368 0.90702908 0.91291558 0.91575686 0.9154991\n",
      " 0.9147435  0.90937177 0.91129272 0.91395119 0.9111139  0.90882828\n",
      " 0.89714754 0.88865754 0.8904185  0.89787574 0.90040752 0.90189437\n",
      " 0.9095717  0.9129521  0.91329014 0.91423426 0.912993   0.91262414\n",
      " 0.91292014 0.91324087 0.91357758 0.91573423 0.91382108 0.91449487\n",
      " 0.91403166 0.91087288 0.91102982 0.91262243 0.91678316 0.91849847\n",
      " 0.92369805 0.93413316 0.93411052 0.93577428 0.93570351 0.93500632\n",
      " 0.93449479 0.93154431 0.9320975  0.93148439 0.93267409 0.93319817\n",
      " 0.93429352 0.93420868 0.93382441 0.9334858  0.93518057 0.93488476\n",
      " 0.93651789 0.9410684  0.94025878 0.93728262 0.93794139 0.93774222\n",
      " 0.93767126 0.93905272 0.93988384 0.94480796 0.94488272 0.94531264\n",
      " 0.94583235 0.92196864 0.88566083 0.85683513 0.83539975 0.81730562\n",
      " 0.80023855 0.7835502  0.7674548  0.75223541]\n"
     ]
    },
    {
     "name": "stdout",
     "output_type": "stream",
     "text": [
      "9 day output [[0.73842055]]\n",
      "[[0.9219686388969421], [0.8856608271598816], [0.856835126876831], [0.8353997468948364], [0.8173056244850159], [0.8002385497093201], [0.7835502028465271], [0.7674548029899597], [0.7522354125976562], [0.7384205460548401]]\n"
     ]
    }
   ],
   "source": [
    "# demonstrate prediction for next 10 days\n",
    "from numpy import array\n",
    "\n",
    "lst_output=[]\n",
    "n_steps=100\n",
    "i=0\n",
    "\n",
    "#Ten Days\n",
    "#while(i<10):\n",
    "\n",
    "#One and a half years into the future\n",
    "while(i<10):\n",
    "    \n",
    "    if(len(temp_input)>100):\n",
    "        #print(temp_input)\n",
    "        x_input=np.array(temp_input[1:])\n",
    "        print(\"{} day input {}\".format(i,x_input))\n",
    "        x_input=x_input.reshape(1,-1)\n",
    "        x_input = x_input.reshape((1, n_steps, 1))\n",
    "        #print(x_input)\n",
    "        yhat = model.predict(x_input, verbose=0)\n",
    "        print(\"{} day output {}\".format(i,yhat))\n",
    "        temp_input.extend(yhat[0].tolist())\n",
    "        temp_input=temp_input[1:]\n",
    "        #print(temp_input)\n",
    "        lst_output.extend(yhat.tolist())\n",
    "        i=i+1\n",
    "    else:\n",
    "        x_input = x_input.reshape((1, n_steps,1))\n",
    "        yhat = model.predict(x_input, verbose=0)\n",
    "        print(yhat[0])\n",
    "        temp_input.extend(yhat[0].tolist())\n",
    "        print(len(temp_input))\n",
    "        lst_output.extend(yhat.tolist())\n",
    "        i=i+1\n",
    "    \n",
    "\n",
    "print(lst_output)"
   ]
  },
  {
   "cell_type": "code",
   "execution_count": 39,
   "metadata": {},
   "outputs": [],
   "source": [
    "day_new=np.arange(1,101)\n",
    "\n",
    "#Ten Days\n",
    "#day_pred=np.arange(101,111)\n",
    "\n",
    "#One and a half years into the future\n",
    "day_pred=np.arange(101,111)"
   ]
  },
  {
   "cell_type": "code",
   "execution_count": 40,
   "metadata": {},
   "outputs": [],
   "source": [
    "import matplotlib.pyplot as plt"
   ]
  },
  {
   "cell_type": "code",
   "execution_count": 41,
   "metadata": {},
   "outputs": [
    {
     "name": "stdout",
     "output_type": "stream",
     "text": [
      "22308\n",
      "22208\n"
     ]
    }
   ],
   "source": [
    "len(df1)\n",
    "df2_int = len(df1)\n",
    "df2_length = df2_int - 100\n",
    "print(df2_int)\n",
    "print(df2_length)"
   ]
  },
  {
   "cell_type": "code",
   "execution_count": 42,
   "metadata": {},
   "outputs": [
    {
     "data": {
      "text/plain": [
       "[<matplotlib.lines.Line2D at 0x205f5bbad60>]"
      ]
     },
     "execution_count": 42,
     "metadata": {},
     "output_type": "execute_result"
    },
    {
     "data": {
      "image/png": "[encoded data removed]",
      "text/plain": [
       "<Figure size 432x288 with 1 Axes>"
      ]
     },
     "metadata": {
      "needs_background": "light"
     },
     "output_type": "display_data"
    }
   ],
   "source": [
    "#plt.plot(day_new,scaler.inverse_transform(df1[2205:]))\n",
    "\n",
    "plt.plot(day_new,scaler.inverse_transform(df1[df2_length:]))\n",
    "\n",
    "plt.plot(day_pred,scaler.inverse_transform(lst_output))"
   ]
  },
  {
   "cell_type": "code",
   "execution_count": 43,
   "metadata": {},
   "outputs": [
    {
     "data": {
      "text/plain": [
       "[<matplotlib.lines.Line2D at 0x205f2be6a90>]"
      ]
     },
     "execution_count": 43,
     "metadata": {},
     "output_type": "execute_result"
    },
    {
     "data": {
      "image/png": "[encoded data removed]",
      "text/plain": [
       "<Figure size 432x288 with 1 Axes>"
      ]
     },
     "metadata": {
      "needs_background": "light"
     },
     "output_type": "display_data"
    }
   ],
   "source": [
    "df3=df1.tolist()\n",
    "df3.extend(lst_output)\n",
    "#plt.plot(df3[2206:])\n",
    "\n",
    "df3_length = df2_length + 1\n",
    "\n",
    "plt.plot(df3[df3_length:])"
   ]
  },
  {
   "cell_type": "code",
   "execution_count": 44,
   "metadata": {},
   "outputs": [
    {
     "data": {
      "text/plain": [
       "[<matplotlib.lines.Line2D at 0x205f5a8d730>]"
      ]
     },
     "execution_count": 44,
     "metadata": {},
     "output_type": "execute_result"
    },
    {
     "data": {
      "image/png": "[encoded data removed]",
      "text/plain": [
       "<Figure size 432x288 with 1 Axes>"
      ]
     },
     "metadata": {
      "needs_background": "light"
     },
     "output_type": "display_data"
    }
   ],
   "source": [
    "df3=scaler.inverse_transform(df3).tolist()\n",
    "plt.plot(df3)"
   ]
  },
  {
   "cell_type": "code",
   "execution_count": null,
   "metadata": {},
   "outputs": [],
   "source": []
  },
  {
   "cell_type": "code",
   "execution_count": null,
   "metadata": {},
   "outputs": [],
   "source": []
  }
 ],
 "metadata": {
  "kernelspec": {
   "display_name": "Python 3",
   "language": "python",
   "name": "python3"
  },
  "language_info": {
   "codemirror_mode": {
    "name": "ipython",
    "version": 3
   },
   "file_extension": ".py",
   "mimetype": "text/x-python",
   "name": "python",
   "nbconvert_exporter": "python",
   "pygments_lexer": "ipython3",
   "version": "3.8.5"
  }
 },
 "nbformat": 4,
 "nbformat_minor": 4
}
