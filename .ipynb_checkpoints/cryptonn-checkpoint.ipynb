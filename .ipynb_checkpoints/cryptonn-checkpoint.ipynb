{
 "cells": [
  {
   "cell_type": "raw",
   "metadata": {},
   "source": [
    "#Prepare 'System' if Conditions not met\n",
    "\n",
    "#!pip install --upgrade pip\n",
    "\n",
    "!pip install tensorflow tensorflow-gpu matplot numpy pandas sklearn keras seaborn requests"
   ]
  },
  {
   "cell_type": "code",
   "execution_count": 1,
   "metadata": {},
   "outputs": [],
   "source": [
    "##Created By Unfriendly \n",
    "#(A simple Jupyter Notebook in Binder for Crypto price prediction)\n",
    "\n",
    "historical_start = \"6yr,0mon,0day,0hr,0min,0sec\"\n",
    "# How long to historically look back at data\n",
    "\n",
    "predict_into = \"0yr,0mon,10day,0hr,0min,0sec\" \n",
    "# How far to try and predict into the future"
   ]
  },
  {
   "cell_type": "code",
   "execution_count": 2,
   "metadata": {},
   "outputs": [],
   "source": [
    "import os, glob\n",
    "for dirname, _, filenames in os.walk('/unfriendly/input'):\n",
    "    for filename in filenames:\n",
    "        print(os.path.join(dirname, filename))"
   ]
  },
  {
   "cell_type": "code",
   "execution_count": 3,
   "metadata": {},
   "outputs": [],
   "source": [
    "import json\n",
    "import requests\n",
    "from keras.models import Sequential\n",
    "from keras.layers import Activation, Dense, Dropout, LSTM\n",
    "import matplotlib.pyplot as plt\n",
    "import numpy as np\n",
    "import pandas as pd\n",
    "import seaborn as sns\n",
    "from sklearn.metrics import mean_absolute_error\n",
    "%matplotlib inline"
   ]
  },
  {
   "cell_type": "code",
   "execution_count": 4,
   "metadata": {},
   "outputs": [],
   "source": [
    "import matplotlib.pyplot as plt"
   ]
  },
  {
   "cell_type": "code",
   "execution_count": 5,
   "metadata": {},
   "outputs": [],
   "source": [
    "# Prepare data timestamps\n",
    "import time\n",
    "from datetime import datetime, timezone, timedelta\n",
    "one_yr = 31536000000\n",
    "one_mon = one_yr/12\n",
    "one_day = one_yr/365\n",
    "one_hr = one_day/24\n",
    "one_min = one_hr/60\n",
    "one_sec = one_min/60"
   ]
  },
  {
   "cell_type": "code",
   "execution_count": 6,
   "metadata": {},
   "outputs": [
    {
     "name": "stdout",
     "output_type": "stream",
     "text": [
      "['6', '0', '0', '0', '0', '0']\n"
     ]
    }
   ],
   "source": [
    "# Prepare how far to look back in the past in UNIX time-format\n",
    "history_split = historical_start.replace('yr', '')\n",
    "history_res = history_split.replace('mon', '')\n",
    "history_split = history_res.replace('day', '')\n",
    "history_res = history_split.replace('hr', '')\n",
    "history_split = history_res.replace('min', '')\n",
    "history_res = history_split.replace('sec', '')\n",
    "history_split = history_res.split(\",\")\n",
    "print(history_split)"
   ]
  },
  {
   "cell_type": "code",
   "execution_count": 7,
   "metadata": {},
   "outputs": [
    {
     "name": "stdout",
     "output_type": "stream",
     "text": [
      "['0', '0', '10', '0', '0', '0']\n"
     ]
    }
   ],
   "source": [
    "# Prepare how far to predict into the future in UNIX time-format\n",
    "predict_split = predict_into.replace('yr', '')\n",
    "predict_res = predict_split.replace('mon', '')\n",
    "predict_split = predict_res.replace('day', '')\n",
    "predict_res = predict_split.replace('hr', '')\n",
    "predict_split = predict_res.replace('min', '')\n",
    "predict_res = predict_split.replace('sec', '')\n",
    "predict_split = predict_res.split(\",\")\n",
    "print(predict_split)"
   ]
  },
  {
   "cell_type": "code",
   "execution_count": 8,
   "metadata": {},
   "outputs": [],
   "source": [
    "history_array_yr = int(history_split[0])\n",
    "unix_hist_yr = one_yr*history_array_yr\n",
    "\n",
    "history_array_mon = int(history_split[1])\n",
    "unix_hist_mon = one_mon*history_array_mon\n",
    "\n",
    "history_array_day = int(history_split[2])\n",
    "unix_hist_day = one_day*history_array_day\n",
    "\n",
    "history_array_hr = int(history_split[3])\n",
    "unix_hist_hr = one_hr*history_array_hr\n",
    "\n",
    "history_array_min = int(history_split[4])\n",
    "unix_hist_min = one_min*history_array_min\n",
    "\n",
    "history_array_sec = int(history_split[5])\n",
    "unix_hist_sec = one_sec*history_array_sec"
   ]
  },
  {
   "cell_type": "code",
   "execution_count": 9,
   "metadata": {},
   "outputs": [],
   "source": [
    "predict_array_yr = int(predict_split[0])\n",
    "unix_pred_yr = one_yr*predict_array_yr\n",
    "\n",
    "predict_array_mon = int(predict_split[1])\n",
    "unix_pred_mon = one_mon*predict_array_mon\n",
    "\n",
    "predict_array_day = int(predict_split[2])\n",
    "unix_pred_day = one_day*predict_array_day\n",
    "\n",
    "predict_array_hr = int(predict_split[3])\n",
    "unix_pred_hr = one_hr*predict_array_hr\n",
    "\n",
    "predict_array_min = int(predict_split[4])\n",
    "unix_pred_min = one_min*predict_array_min\n",
    "\n",
    "predict_array_sec = int(predict_split[5])\n",
    "unix_pred_sec = one_sec*predict_array_sec\n",
    "\n",
    "unix_prediction = unix_pred_yr+unix_pred_mon+unix_pred_day+unix_pred_hr+unix_pred_min+unix_pred_sec"
   ]
  },
  {
   "cell_type": "code",
   "execution_count": 10,
   "metadata": {},
   "outputs": [
    {
     "name": "stdout",
     "output_type": "stream",
     "text": [
      "-187602506153 - start\n",
      "-310 - gather\n",
      "310 - positive gather\n"
     ]
    }
   ],
   "source": [
    "raw_time = time.time()\n",
    "int_time = int(raw_time)\n",
    "current_time = str(int_time)\n",
    "\n",
    "unix_start = unix_hist_yr+unix_hist_mon+unix_hist_day+unix_hist_hr+unix_hist_min+unix_hist_sec\n",
    "raw_start = raw_time - unix_start\n",
    "\n",
    "int_start = int(raw_start)\n",
    "start = str(int_start)\n",
    "\n",
    "#print(unix_hist_yr+history_array_mon+history_array_day+history_array_hr+history_array_min+history_array_sec)\n",
    "print(start + ' - start')\n",
    "\n",
    "gather_count = int_start/(7*one_day)\n",
    "gather_int = int(gather_count)\n",
    "gather_str = str(gather_int)\n",
    "pos_gather_count = abs(int(gather_count))\n",
    "pos_gather_str = str(pos_gather_count)\n",
    "\n",
    "print(gather_str + ' - gather')\n",
    "print(pos_gather_str + ' - positive gather')"
   ]
  },
  {
   "cell_type": "code",
   "execution_count": 11,
   "metadata": {},
   "outputs": [
    {
     "name": "stdout",
     "output_type": "stream",
     "text": [
      "1613493846652.851\n",
      "1613493846653\n",
      "1424277846653\n",
      "1424277846.65335\n",
      "2021-02-16 16:44:06.653852+00:00\n",
      "2015-02-18 16:44:06.653350+00:00\n",
      "1424277846653\n",
      "1424900646653\n",
      "1613493846653\n",
      "13 Digit Microsecond TS: 1424277846653 - 10 Digit TS: 1424277846\n"
     ]
    }
   ],
   "source": [
    "print((datetime.now(timezone.utc) + timedelta(hours=0)).timestamp() * 1e3)\n",
    "\n",
    "dt = (datetime.now(timezone.utc) + timedelta(days=0)).timestamp() * 1e3\n",
    "\n",
    "c_dt = int(dt)\n",
    "\n",
    "c_dt_int = int(c_dt)\n",
    "print(str(c_dt_int))\n",
    "\n",
    "c_dt_array_year = history_array_yr*365\n",
    "\n",
    "history_array_comb = history_array_day + c_dt_array_year\n",
    "\n",
    "c_dt_start = (datetime.now(timezone.utc) + timedelta(days=-history_array_comb,hours=-history_array_hr,minutes=-history_array_min,seconds=-history_array_sec)).timestamp() * 1e3\n",
    "\n",
    "c_dt_start_int = int(c_dt_start)\n",
    "print(str(c_dt_start_int))\n",
    "\n",
    "c_dt_start_raw = (datetime.now(timezone.utc) + timedelta(days=-history_array_comb,hours=-history_array_hr,minutes=-history_array_min,seconds=-history_array_sec)).timestamp()\n",
    "c_dt_start_raw_int = int(c_dt_start_raw)\n",
    "print(str(c_dt_start_raw))       \n",
    "    \n",
    "data_count = 0\n",
    "\n",
    "c_dt_start_dt = datetime.utcfromtimestamp(c_dt_start_raw).strftime('%Y-%m-%d %H:%M:%S.%f+00:00')\n",
    "\n",
    "print(datetime.now(timezone.utc))\n",
    "print(datetime.utcfromtimestamp(c_dt_start_raw).strftime('%Y-%m-%d %H:%M:%S.%f+00:00'))\n",
    "\n",
    "#c_dt_end = c_dt_start + timedelta(days=7).timestamp() * 1e3\n",
    "#c_dt_end = (c_dt_start_dt + timedelta(days=7)).timestamp() * 1e3\n",
    "\n",
    "c_dt_end = (datetime.utcfromtimestamp(c_dt_start_raw) + timedelta(days=7)).timestamp() * 1e3\n",
    "\n",
    "c_dt_start_int = int(c_dt_start)\n",
    "c_dt_end_int = int(c_dt_end)\n",
    "c_dt_end_str = str(c_dt_end)\n",
    "\n",
    "\n",
    "c_dt_str = str(c_dt)\n",
    "c_dt_start_str = str(c_dt_start_int)\n",
    "\n",
    "\n",
    "ts_ten_int = int(c_dt/1000)\n",
    "start_ten_int = int(c_dt_start_int/1000)\n",
    "\n",
    "ts_ten_str = str(ts_ten_int)\n",
    "start_ten_str = str(start_ten_int)\n",
    "\n",
    "\n",
    "print(c_dt_start_int)\n",
    "print(c_dt_end_int)\n",
    "print(c_dt_int)\n",
    "print('13 Digit Microsecond TS: ' + c_dt_start_str + ' - ' + '10 Digit TS: ' + start_ten_str)"
   ]
  },
  {
   "cell_type": "code",
   "execution_count": 12,
   "metadata": {},
   "outputs": [
    {
     "name": "stdout",
     "output_type": "stream",
     "text": [
      "https://query1.finance.yahoo.com/v7/finance/download/BTC-USD?period1=1424277846&period2=1613493846&interval=1d&events=history&includeAdjustedClose=true\n"
     ]
    }
   ],
   "source": [
    "import urllib.request\n",
    "import yfinance as yf\n",
    "\n",
    "#while count < pos_gather_count:\n",
    "while data_count < 1:\n",
    "    \n",
    "    #d_u=\"https://query1.finance.yahoo.com/v7/finance/download/BTC-USD?period1=1411862400&period2=\" + current_time + \"&interval=1d&events=history&includeAdjustedClose=true\"\n",
    "    #d_u=\"https://query1.finance.yahoo.com/v7/finance/download/BTC-USD?period1=1411862400&period2=1612158064&interval=1d&events=history&includeAdjustedClose=true\"\n",
    "    #d_u=\"https://query1.finance.yahoo.com/v7/finance/download/BTC-USD?period1=\"+dt_str+\"&period2=\"+dt_end_str+\"&interval=1d&events=history&includeAdjustedClose=true\"\n",
    "    #d_u=\"https://query1.finance.yahoo.com/v7/finance/download/BTC-USD?period1=\"+gather_str+\"&period2=\"+current_time+\"&interval=1m&events=history&includeAdjustedClose=true\"\n",
    "    \n",
    "    \n",
    "    d_u=\"https://query1.finance.yahoo.com/v7/finance/download/BTC-USD?period1=\"+start_ten_str+\"&period2=\"+ts_ten_str+\"&interval=1d&events=history&includeAdjustedClose=true\"\n",
    "    \n",
    "    print(d_u)\n",
    "    \n",
    "    with urllib.request.urlopen(d_u) as testfile, open('dataset.csv', 'w') as f:\n",
    "        f.write(testfile.read().decode())\n",
    "\n",
    "    data_count += 1  # This is the same as count = count + 1"
   ]
  },
  {
   "cell_type": "raw",
   "metadata": {},
   "source": [
    "data = yf.download(tickers='BTC-USD', period='max', interval='1m', group_by='column', auto_adjust = True, prepost = True, threads = True, proxy = None)"
   ]
  },
  {
   "cell_type": "raw",
   "metadata": {},
   "source": [
    "print(start + ' - start')\n",
    "print(current_time + ' - current time')\n",
    "print(d_u + ' - url')\n",
    "    \n",
    "print(gather_count)\n",
    "#print(data_count)\n",
    "\n",
    "# List all CSV files in the working dir\n",
    "extension = \"csv\"\n",
    "all_filenames = [i for i in glob.glob('*.{}'.format(extension))]\n",
    "print(all_filenames)"
   ]
  },
  {
   "cell_type": "raw",
   "metadata": {},
   "source": [
    "import urllib.request\n",
    "d_u=\"https://query1.finance.yahoo.com/v7/finance/download/BTC-USD?period1=1411862400&period2=1612158064&interval=1d&events=history&includeAdjustedClose=true\"\n",
    "\n",
    "\n",
    "with urllib.request.urlopen(d_u) as testfile, open('dataset.csv', 'w') as f:\n",
    "    f.write(testfile.read().decode())"
   ]
  },
  {
   "cell_type": "code",
   "execution_count": 13,
   "metadata": {},
   "outputs": [
    {
     "name": "stdout",
     "output_type": "stream",
     "text": [
      "[*********************100%***********************]  1 of 1 completed\n"
     ]
    },
    {
     "data": {
      "text/html": [
       "<div>\n",
       "<style scoped>\n",
       "    .dataframe tbody tr th:only-of-type {\n",
       "        vertical-align: middle;\n",
       "    }\n",
       "\n",
       "    .dataframe tbody tr th {\n",
       "        vertical-align: top;\n",
       "    }\n",
       "\n",
       "    .dataframe thead th {\n",
       "        text-align: right;\n",
       "    }\n",
       "</style>\n",
       "<table border=\"1\" class=\"dataframe\">\n",
       "  <thead>\n",
       "    <tr style=\"text-align: right;\">\n",
       "      <th></th>\n",
       "      <th>Open</th>\n",
       "      <th>High</th>\n",
       "      <th>Low</th>\n",
       "      <th>Close</th>\n",
       "      <th>Volume</th>\n",
       "    </tr>\n",
       "    <tr>\n",
       "      <th>Date</th>\n",
       "      <th></th>\n",
       "      <th></th>\n",
       "      <th></th>\n",
       "      <th></th>\n",
       "      <th></th>\n",
       "    </tr>\n",
       "  </thead>\n",
       "  <tbody>\n",
       "    <tr>\n",
       "      <th>2014-09-17</th>\n",
       "      <td>465.864014</td>\n",
       "      <td>468.174011</td>\n",
       "      <td>452.421997</td>\n",
       "      <td>457.334015</td>\n",
       "      <td>21056800</td>\n",
       "    </tr>\n",
       "    <tr>\n",
       "      <th>2014-09-18</th>\n",
       "      <td>456.859985</td>\n",
       "      <td>456.859985</td>\n",
       "      <td>413.104004</td>\n",
       "      <td>424.440002</td>\n",
       "      <td>34483200</td>\n",
       "    </tr>\n",
       "    <tr>\n",
       "      <th>2014-09-19</th>\n",
       "      <td>424.102997</td>\n",
       "      <td>427.834991</td>\n",
       "      <td>384.532013</td>\n",
       "      <td>394.795990</td>\n",
       "      <td>37919700</td>\n",
       "    </tr>\n",
       "    <tr>\n",
       "      <th>2014-09-20</th>\n",
       "      <td>394.673004</td>\n",
       "      <td>423.295990</td>\n",
       "      <td>389.882996</td>\n",
       "      <td>408.903992</td>\n",
       "      <td>36863600</td>\n",
       "    </tr>\n",
       "    <tr>\n",
       "      <th>2014-09-21</th>\n",
       "      <td>408.084991</td>\n",
       "      <td>412.425995</td>\n",
       "      <td>393.181000</td>\n",
       "      <td>398.821014</td>\n",
       "      <td>26580100</td>\n",
       "    </tr>\n",
       "    <tr>\n",
       "      <th>...</th>\n",
       "      <td>...</td>\n",
       "      <td>...</td>\n",
       "      <td>...</td>\n",
       "      <td>...</td>\n",
       "      <td>...</td>\n",
       "    </tr>\n",
       "    <tr>\n",
       "      <th>2021-02-12</th>\n",
       "      <td>47877.035156</td>\n",
       "      <td>48745.734375</td>\n",
       "      <td>46424.976562</td>\n",
       "      <td>47504.851562</td>\n",
       "      <td>76555041196</td>\n",
       "    </tr>\n",
       "    <tr>\n",
       "      <th>2021-02-13</th>\n",
       "      <td>47491.203125</td>\n",
       "      <td>48047.746094</td>\n",
       "      <td>46392.281250</td>\n",
       "      <td>47105.515625</td>\n",
       "      <td>70250456155</td>\n",
       "    </tr>\n",
       "    <tr>\n",
       "      <th>2021-02-14</th>\n",
       "      <td>47114.507812</td>\n",
       "      <td>49487.640625</td>\n",
       "      <td>47114.507812</td>\n",
       "      <td>48717.289062</td>\n",
       "      <td>71248675228</td>\n",
       "    </tr>\n",
       "    <tr>\n",
       "      <th>2021-02-15</th>\n",
       "      <td>48696.535156</td>\n",
       "      <td>48875.570312</td>\n",
       "      <td>46347.476562</td>\n",
       "      <td>47945.058594</td>\n",
       "      <td>77069903166</td>\n",
       "    </tr>\n",
       "    <tr>\n",
       "      <th>2021-02-16</th>\n",
       "      <td>49073.867188</td>\n",
       "      <td>50335.714844</td>\n",
       "      <td>47237.464844</td>\n",
       "      <td>48849.523438</td>\n",
       "      <td>72458461184</td>\n",
       "    </tr>\n",
       "  </tbody>\n",
       "</table>\n",
       "<p>2341 rows × 5 columns</p>\n",
       "</div>"
      ],
      "text/plain": [
       "                    Open          High           Low         Close  \\\n",
       "Date                                                                 \n",
       "2014-09-17    465.864014    468.174011    452.421997    457.334015   \n",
       "2014-09-18    456.859985    456.859985    413.104004    424.440002   \n",
       "2014-09-19    424.102997    427.834991    384.532013    394.795990   \n",
       "2014-09-20    394.673004    423.295990    389.882996    408.903992   \n",
       "2014-09-21    408.084991    412.425995    393.181000    398.821014   \n",
       "...                  ...           ...           ...           ...   \n",
       "2021-02-12  47877.035156  48745.734375  46424.976562  47504.851562   \n",
       "2021-02-13  47491.203125  48047.746094  46392.281250  47105.515625   \n",
       "2021-02-14  47114.507812  49487.640625  47114.507812  48717.289062   \n",
       "2021-02-15  48696.535156  48875.570312  46347.476562  47945.058594   \n",
       "2021-02-16  49073.867188  50335.714844  47237.464844  48849.523438   \n",
       "\n",
       "                 Volume  \n",
       "Date                     \n",
       "2014-09-17     21056800  \n",
       "2014-09-18     34483200  \n",
       "2014-09-19     37919700  \n",
       "2014-09-20     36863600  \n",
       "2014-09-21     26580100  \n",
       "...                 ...  \n",
       "2021-02-12  76555041196  \n",
       "2021-02-13  70250456155  \n",
       "2021-02-14  71248675228  \n",
       "2021-02-15  77069903166  \n",
       "2021-02-16  72458461184  \n",
       "\n",
       "[2341 rows x 5 columns]"
      ]
     },
     "execution_count": 13,
     "metadata": {},
     "output_type": "execute_result"
    }
   ],
   "source": [
    "#data=pd.read_csv('dataset.csv')\n",
    "data = yf.download(tickers='BTC-USD', period='max', interval='1d', group_by='column', auto_adjust = True, prepost = True, threads = True, proxy = None)\n",
    "\n",
    "\n",
    "data.apply(pd.to_numeric, errors='coerce')\n",
    "\n",
    "#data=data.dropna()\n",
    "#data=data.dropna(inplace=True)\n",
    "#data=data.dropna(subset=['Close'])\n",
    "#data=data.dropna(how='any',axis=1)\n",
    "\n",
    "data.dropna(subset=['Close'], inplace=True)\n",
    "data.reset_index(drop=True)\n",
    "\n",
    "data"
   ]
  },
  {
   "cell_type": "code",
   "execution_count": 14,
   "metadata": {},
   "outputs": [
    {
     "data": {
      "text/plain": [
       "Date\n",
       "2014-09-17      457.334015\n",
       "2014-09-18      424.440002\n",
       "2014-09-19      394.795990\n",
       "2014-09-20      408.903992\n",
       "2014-09-21      398.821014\n",
       "                  ...     \n",
       "2021-02-12    47504.851562\n",
       "2021-02-13    47105.515625\n",
       "2021-02-14    48717.289062\n",
       "2021-02-15    47945.058594\n",
       "2021-02-16    48849.523438\n",
       "Name: Close, Length: 2341, dtype: float64"
      ]
     },
     "execution_count": 14,
     "metadata": {},
     "output_type": "execute_result"
    }
   ],
   "source": [
    "df1=data['Close']\n",
    "df1"
   ]
  },
  {
   "cell_type": "code",
   "execution_count": 15,
   "metadata": {},
   "outputs": [
    {
     "data": {
      "text/plain": [
       "[<matplotlib.lines.Line2D at 0x1dec65444c0>]"
      ]
     },
     "execution_count": 15,
     "metadata": {},
     "output_type": "execute_result"
    },
    {
     "data": {
      "image/png": "[encoded data removed]",
      "text/plain": [
       "<Figure size 432x288 with 1 Axes>"
      ]
     },
     "metadata": {
      "needs_background": "light"
     },
     "output_type": "display_data"
    }
   ],
   "source": [
    "plt.plot(df1)"
   ]
  },
  {
   "cell_type": "code",
   "execution_count": 16,
   "metadata": {},
   "outputs": [],
   "source": [
    "import numpy as np"
   ]
  },
  {
   "cell_type": "code",
   "execution_count": 17,
   "metadata": {},
   "outputs": [
    {
     "data": {
      "text/plain": [
       "Date\n",
       "2014-09-17      457.334015\n",
       "2014-09-18      424.440002\n",
       "2014-09-19      394.795990\n",
       "2014-09-20      408.903992\n",
       "2014-09-21      398.821014\n",
       "                  ...     \n",
       "2021-02-12    47504.851562\n",
       "2021-02-13    47105.515625\n",
       "2021-02-14    48717.289062\n",
       "2021-02-15    47945.058594\n",
       "2021-02-16    48849.523438\n",
       "Name: Close, Length: 2341, dtype: float64"
      ]
     },
     "execution_count": 17,
     "metadata": {},
     "output_type": "execute_result"
    }
   ],
   "source": [
    "df1"
   ]
  },
  {
   "cell_type": "code",
   "execution_count": 18,
   "metadata": {},
   "outputs": [],
   "source": [
    "from sklearn.preprocessing import MinMaxScaler\n",
    "scaler=MinMaxScaler(feature_range=(0,1))\n",
    "df1=scaler.fit_transform(np.array(df1).reshape(-1,1))"
   ]
  },
  {
   "cell_type": "code",
   "execution_count": 19,
   "metadata": {},
   "outputs": [],
   "source": [
    "training_size=int(len(df1)*0.65)\n",
    "test_size=len(df1)-training_size\n",
    "train_data,test_data=df1[0:training_size,:],df1[training_size:len(df1),:1]"
   ]
  },
  {
   "cell_type": "code",
   "execution_count": 20,
   "metadata": {},
   "outputs": [
    {
     "data": {
      "text/plain": [
       "(1521, 820)"
      ]
     },
     "execution_count": 20,
     "metadata": {},
     "output_type": "execute_result"
    }
   ],
   "source": [
    "training_size,test_size"
   ]
  },
  {
   "cell_type": "code",
   "execution_count": 21,
   "metadata": {},
   "outputs": [],
   "source": [
    "import numpy\n",
    "# convert an array of values into a dataset matrix\n",
    "def create_dataset(dataset, time_step=1):\n",
    "\tdataX, dataY = [], []\n",
    "\tfor i in range(len(dataset)-time_step-1):\n",
    "\t\ta = dataset[i:(i+time_step), 0]   ###i=0, 0,1,2,3-----99   100 \n",
    "\t\tdataX.append(a)\n",
    "\t\tdataY.append(dataset[i + time_step, 0])\n",
    "\treturn numpy.array(dataX), numpy.array(dataY)"
   ]
  },
  {
   "cell_type": "code",
   "execution_count": 22,
   "metadata": {},
   "outputs": [],
   "source": [
    "# reshape into X=t,t+1,t+2,t+3 and Y=t+4\n",
    "time_step = 100\n",
    "X_train, y_train = create_dataset(train_data, time_step)\n",
    "X_test, ytest = create_dataset(test_data, time_step)"
   ]
  },
  {
   "cell_type": "code",
   "execution_count": 23,
   "metadata": {},
   "outputs": [
    {
     "name": "stdout",
     "output_type": "stream",
     "text": [
      "(1420, 100)\n",
      "(1420,)\n"
     ]
    },
    {
     "data": {
      "text/plain": [
       "(None, None)"
      ]
     },
     "execution_count": 23,
     "metadata": {},
     "output_type": "execute_result"
    }
   ],
   "source": [
    "print(X_train.shape), print(y_train.shape)"
   ]
  },
  {
   "cell_type": "markdown",
   "metadata": {},
   "source": []
  },
  {
   "cell_type": "code",
   "execution_count": 24,
   "metadata": {},
   "outputs": [
    {
     "name": "stdout",
     "output_type": "stream",
     "text": [
      "(719, 100)\n",
      "(719,)\n"
     ]
    },
    {
     "data": {
      "text/plain": [
       "(None, None)"
      ]
     },
     "execution_count": 24,
     "metadata": {},
     "output_type": "execute_result"
    }
   ],
   "source": [
    "print(X_test.shape), print(ytest.shape)"
   ]
  },
  {
   "cell_type": "code",
   "execution_count": 25,
   "metadata": {},
   "outputs": [
    {
     "data": {
      "text/plain": [
       "100"
      ]
     },
     "execution_count": 25,
     "metadata": {},
     "output_type": "execute_result"
    }
   ],
   "source": [
    "X_train.shape[1]"
   ]
  },
  {
   "cell_type": "code",
   "execution_count": 26,
   "metadata": {},
   "outputs": [],
   "source": [
    "# reshape input to be [samples, time steps, features] which is required for LSTM\n",
    "X_train =X_train.reshape(X_train.shape[0],X_train.shape[1] , 1)\n",
    "X_test = X_test.reshape(X_test.shape[0],X_test.shape[1] , 1)"
   ]
  },
  {
   "cell_type": "code",
   "execution_count": 27,
   "metadata": {},
   "outputs": [],
   "source": [
    "### Create the Stacked LSTM model\n",
    "from tensorflow.keras.models import Sequential\n",
    "from tensorflow.keras.layers import Dense\n",
    "from tensorflow.keras.layers import LSTM\n",
    "from keras.optimizers import Adam, Adadelta, SGD"
   ]
  },
  {
   "cell_type": "code",
   "execution_count": 28,
   "metadata": {},
   "outputs": [],
   "source": [
    "opt = Adam(lr=0.0001)\n",
    "#opt = Adam(lr=0.0025)\n",
    "#opt = Adadelta(lr=1, rho=0.95, epsilon=1e-6, decay=0, clipnorm=NULL, clipvalue=NULL)\n",
    "#opt = Adadelta(lr=1, rho=0.95, epsilon=1e-6, decay=0)\n",
    "\n",
    "model=Sequential()\n",
    "model.add(LSTM(50,return_sequences=True,input_shape=(100,1)))\n",
    "model.add(LSTM(50,return_sequences=True))\n",
    "model.add(LSTM(50))\n",
    "model.add(Dense(1))\n",
    "\n",
    "#model.compile(loss='mean_squared_error',optimizer='adam')\n",
    "model.compile(optimizer=opt, loss='mean_squared_error')"
   ]
  },
  {
   "cell_type": "code",
   "execution_count": 29,
   "metadata": {},
   "outputs": [
    {
     "name": "stdout",
     "output_type": "stream",
     "text": [
      "Model: \"sequential\"\n",
      "_________________________________________________________________\n",
      "Layer (type)                 Output Shape              Param #   \n",
      "=================================================================\n",
      "lstm (LSTM)                  (None, 100, 50)           10400     \n",
      "_________________________________________________________________\n",
      "lstm_1 (LSTM)                (None, 100, 50)           20200     \n",
      "_________________________________________________________________\n",
      "lstm_2 (LSTM)                (None, 50)                20200     \n",
      "_________________________________________________________________\n",
      "dense (Dense)                (None, 1)                 51        \n",
      "=================================================================\n",
      "Total params: 50,851\n",
      "Trainable params: 50,851\n",
      "Non-trainable params: 0\n",
      "_________________________________________________________________\n"
     ]
    }
   ],
   "source": [
    "model.summary()"
   ]
  },
  {
   "cell_type": "code",
   "execution_count": 45,
   "metadata": {},
   "outputs": [
    {
     "name": "stdout",
     "output_type": "stream",
     "text": [
      "Epoch 1/100\n",
      "45/45 [==============================] - 1s 30ms/step - loss: 1.3621e-04 - val_loss: 0.0026\n",
      "Epoch 2/100\n",
      "45/45 [==============================] - 1s 31ms/step - loss: 1.3926e-04 - val_loss: 0.0024\n",
      "Epoch 3/100\n",
      "45/45 [==============================] - 1s 28ms/step - loss: 1.3674e-04 - val_loss: 0.0023\n",
      "Epoch 4/100\n",
      "45/45 [==============================] - 1s 28ms/step - loss: 1.3601e-04 - val_loss: 0.0028\n",
      "Epoch 5/100\n",
      "45/45 [==============================] - 1s 28ms/step - loss: 1.3543e-04 - val_loss: 0.0024\n",
      "Epoch 6/100\n",
      "45/45 [==============================] - 1s 27ms/step - loss: 1.2614e-04 - val_loss: 0.0016\n",
      "Epoch 7/100\n",
      "45/45 [==============================] - 1s 27ms/step - loss: 1.2891e-04 - val_loss: 0.0022\n",
      "Epoch 8/100\n",
      "45/45 [==============================] - 1s 28ms/step - loss: 1.3125e-04 - val_loss: 0.0021\n",
      "Epoch 9/100\n",
      "45/45 [==============================] - 1s 27ms/step - loss: 1.2409e-04 - val_loss: 0.0021\n",
      "Epoch 10/100\n",
      "45/45 [==============================] - 1s 26ms/step - loss: 1.2466e-04 - val_loss: 0.0017\n",
      "Epoch 11/100\n",
      "45/45 [==============================] - 1s 27ms/step - loss: 1.2504e-04 - val_loss: 0.0017\n",
      "Epoch 12/100\n",
      "45/45 [==============================] - 1s 25ms/step - loss: 1.4230e-04 - val_loss: 0.0020\n",
      "Epoch 13/100\n",
      "45/45 [==============================] - 1s 26ms/step - loss: 1.2335e-04 - val_loss: 0.0023\n",
      "Epoch 14/100\n",
      "45/45 [==============================] - 1s 29ms/step - loss: 1.2267e-04 - val_loss: 0.0024\n",
      "Epoch 15/100\n",
      "45/45 [==============================] - 1s 28ms/step - loss: 1.2467e-04 - val_loss: 0.0021\n",
      "Epoch 16/100\n",
      "45/45 [==============================] - 1s 25ms/step - loss: 1.2642e-04 - val_loss: 0.0017\n",
      "Epoch 17/100\n",
      "45/45 [==============================] - 1s 25ms/step - loss: 1.1915e-04 - val_loss: 0.0019\n",
      "Epoch 18/100\n",
      "45/45 [==============================] - 1s 25ms/step - loss: 1.2254e-04 - val_loss: 0.0021\n",
      "Epoch 19/100\n",
      "45/45 [==============================] - 1s 25ms/step - loss: 1.1347e-04 - val_loss: 0.0021\n",
      "Epoch 20/100\n",
      "45/45 [==============================] - 1s 28ms/step - loss: 1.2246e-04 - val_loss: 0.0017\n",
      "Epoch 21/100\n",
      "45/45 [==============================] - 1s 26ms/step - loss: 1.2194e-04 - val_loss: 0.0015\n",
      "Epoch 22/100\n",
      "45/45 [==============================] - 1s 25ms/step - loss: 1.2158e-04 - val_loss: 0.0021\n",
      "Epoch 23/100\n",
      "45/45 [==============================] - 1s 26ms/step - loss: 1.2328e-04 - val_loss: 0.0018\n",
      "Epoch 24/100\n",
      "45/45 [==============================] - 1s 24ms/step - loss: 1.1314e-04 - val_loss: 0.0019\n",
      "Epoch 25/100\n",
      "45/45 [==============================] - 1s 24ms/step - loss: 1.0993e-04 - val_loss: 0.0021\n",
      "Epoch 26/100\n",
      "45/45 [==============================] - 1s 24ms/step - loss: 1.1322e-04 - val_loss: 0.0018\n",
      "Epoch 27/100\n",
      "45/45 [==============================] - 1s 24ms/step - loss: 1.1875e-04 - val_loss: 0.0018\n",
      "Epoch 28/100\n",
      "45/45 [==============================] - 1s 24ms/step - loss: 1.0566e-04 - val_loss: 0.0016\n",
      "Epoch 29/100\n",
      "45/45 [==============================] - 1s 25ms/step - loss: 1.1005e-04 - val_loss: 0.0013\n",
      "Epoch 30/100\n",
      "45/45 [==============================] - 1s 25ms/step - loss: 1.0797e-04 - val_loss: 0.0013\n",
      "Epoch 31/100\n",
      "45/45 [==============================] - 1s 25ms/step - loss: 1.0262e-04 - val_loss: 0.0016\n",
      "Epoch 32/100\n",
      "45/45 [==============================] - 1s 24ms/step - loss: 1.0743e-04 - val_loss: 0.0012\n",
      "Epoch 33/100\n",
      "45/45 [==============================] - 1s 26ms/step - loss: 1.1390e-04 - val_loss: 0.0014\n",
      "Epoch 34/100\n",
      "45/45 [==============================] - 1s 25ms/step - loss: 1.0421e-04 - val_loss: 0.0014\n",
      "Epoch 35/100\n",
      "45/45 [==============================] - 1s 25ms/step - loss: 1.0411e-04 - val_loss: 0.0014\n",
      "Epoch 36/100\n",
      "45/45 [==============================] - 1s 24ms/step - loss: 9.8568e-05 - val_loss: 0.0013\n",
      "Epoch 37/100\n",
      "45/45 [==============================] - 1s 25ms/step - loss: 9.9647e-05 - val_loss: 0.0015\n",
      "Epoch 38/100\n",
      "45/45 [==============================] - 1s 26ms/step - loss: 1.0284e-04 - val_loss: 0.0015\n",
      "Epoch 39/100\n",
      "45/45 [==============================] - 1s 24ms/step - loss: 9.6104e-05 - val_loss: 0.0017\n",
      "Epoch 40/100\n",
      "45/45 [==============================] - 1s 24ms/step - loss: 9.7770e-05 - val_loss: 0.0015\n",
      "Epoch 41/100\n",
      "45/45 [==============================] - 1s 28ms/step - loss: 9.9965e-05 - val_loss: 0.0013\n",
      "Epoch 42/100\n",
      "45/45 [==============================] - 1s 25ms/step - loss: 9.5754e-05 - val_loss: 0.0017\n",
      "Epoch 43/100\n",
      "45/45 [==============================] - 1s 24ms/step - loss: 9.7791e-05 - val_loss: 0.0016\n",
      "Epoch 44/100\n",
      "45/45 [==============================] - 1s 25ms/step - loss: 9.4951e-05 - val_loss: 0.0017\n",
      "Epoch 45/100\n",
      "45/45 [==============================] - 1s 27ms/step - loss: 9.9718e-05 - val_loss: 0.0012\n",
      "Epoch 46/100\n",
      "45/45 [==============================] - 1s 24ms/step - loss: 9.6817e-05 - val_loss: 0.0013\n",
      "Epoch 47/100\n",
      "45/45 [==============================] - 1s 25ms/step - loss: 9.9704e-05 - val_loss: 0.0014\n",
      "Epoch 48/100\n",
      "45/45 [==============================] - 1s 25ms/step - loss: 9.5511e-05 - val_loss: 0.0015\n",
      "Epoch 49/100\n",
      "45/45 [==============================] - 1s 24ms/step - loss: 9.0937e-05 - val_loss: 0.0012\n",
      "Epoch 50/100\n",
      "45/45 [==============================] - 1s 29ms/step - loss: 1.0234e-04 - val_loss: 0.0013\n",
      "Epoch 51/100\n",
      "45/45 [==============================] - 1s 26ms/step - loss: 8.9743e-05 - val_loss: 0.0019\n",
      "Epoch 52/100\n",
      "45/45 [==============================] - 1s 26ms/step - loss: 9.0120e-05 - val_loss: 0.0017\n",
      "Epoch 53/100\n",
      "45/45 [==============================] - 1s 29ms/step - loss: 9.8747e-05 - val_loss: 0.0015\n",
      "Epoch 54/100\n",
      "45/45 [==============================] - 1s 30ms/step - loss: 9.1384e-05 - val_loss: 0.0014\n",
      "Epoch 55/100\n",
      "45/45 [==============================] - 1s 28ms/step - loss: 8.8237e-05 - val_loss: 0.0013\n",
      "Epoch 56/100\n",
      "45/45 [==============================] - 1s 26ms/step - loss: 8.9734e-05 - val_loss: 9.5349e-04\n",
      "Epoch 57/100\n",
      "45/45 [==============================] - 1s 26ms/step - loss: 1.0460e-04 - val_loss: 0.0012\n",
      "Epoch 58/100\n",
      "45/45 [==============================] - 1s 26ms/step - loss: 9.0406e-05 - val_loss: 0.0011\n",
      "Epoch 59/100\n",
      "45/45 [==============================] - 1s 28ms/step - loss: 9.0844e-05 - val_loss: 0.0016\n",
      "Epoch 60/100\n",
      "45/45 [==============================] - 1s 24ms/step - loss: 9.1258e-05 - val_loss: 0.0017\n",
      "Epoch 61/100\n",
      "45/45 [==============================] - 1s 25ms/step - loss: 9.7020e-05 - val_loss: 0.0015\n",
      "Epoch 62/100\n",
      "45/45 [==============================] - 1s 24ms/step - loss: 8.8137e-05 - val_loss: 0.0016\n",
      "Epoch 63/100\n",
      "45/45 [==============================] - 1s 28ms/step - loss: 9.1442e-05 - val_loss: 0.0013\n",
      "Epoch 64/100\n",
      "45/45 [==============================] - 1s 25ms/step - loss: 9.0209e-05 - val_loss: 0.0014\n",
      "Epoch 65/100\n",
      "45/45 [==============================] - 1s 27ms/step - loss: 8.6585e-05 - val_loss: 0.0016\n",
      "Epoch 66/100\n",
      "45/45 [==============================] - 1s 27ms/step - loss: 9.0262e-05 - val_loss: 0.0014\n",
      "Epoch 67/100\n",
      "45/45 [==============================] - 1s 29ms/step - loss: 8.7610e-05 - val_loss: 0.0014\n",
      "Epoch 68/100\n",
      "45/45 [==============================] - 1s 28ms/step - loss: 8.7653e-05 - val_loss: 0.0019\n",
      "Epoch 69/100\n",
      "45/45 [==============================] - 1s 24ms/step - loss: 8.8318e-05 - val_loss: 0.0012\n",
      "Epoch 70/100\n",
      "45/45 [==============================] - 1s 23ms/step - loss: 9.2451e-05 - val_loss: 0.0015\n",
      "Epoch 71/100\n",
      "45/45 [==============================] - 1s 23ms/step - loss: 8.9873e-05 - val_loss: 0.0015\n",
      "Epoch 72/100\n",
      "45/45 [==============================] - 1s 24ms/step - loss: 9.1601e-05 - val_loss: 0.0014\n",
      "Epoch 73/100\n",
      "45/45 [==============================] - 1s 24ms/step - loss: 8.8525e-05 - val_loss: 0.0015\n",
      "Epoch 74/100\n",
      "45/45 [==============================] - 1s 25ms/step - loss: 8.7442e-05 - val_loss: 0.0015\n",
      "Epoch 75/100\n",
      "45/45 [==============================] - 1s 25ms/step - loss: 8.7710e-05 - val_loss: 0.0017\n",
      "Epoch 76/100\n",
      "45/45 [==============================] - 1s 24ms/step - loss: 8.8012e-05 - val_loss: 0.0015\n",
      "Epoch 77/100\n",
      "45/45 [==============================] - 1s 24ms/step - loss: 8.4427e-05 - val_loss: 0.0018\n",
      "Epoch 78/100\n",
      "45/45 [==============================] - 1s 23ms/step - loss: 8.6437e-05 - val_loss: 0.0016\n",
      "Epoch 79/100\n"
     ]
    },
    {
     "name": "stdout",
     "output_type": "stream",
     "text": [
      "45/45 [==============================] - 1s 23ms/step - loss: 8.8858e-05 - val_loss: 0.0011\n",
      "Epoch 80/100\n",
      "45/45 [==============================] - 1s 24ms/step - loss: 9.2682e-05 - val_loss: 0.0015\n",
      "Epoch 81/100\n",
      "45/45 [==============================] - 1s 23ms/step - loss: 8.7151e-05 - val_loss: 0.0015\n",
      "Epoch 82/100\n",
      "45/45 [==============================] - 1s 23ms/step - loss: 8.7209e-05 - val_loss: 0.0016\n",
      "Epoch 83/100\n",
      "45/45 [==============================] - 1s 23ms/step - loss: 8.7010e-05 - val_loss: 0.0015\n",
      "Epoch 84/100\n",
      "45/45 [==============================] - 1s 24ms/step - loss: 8.4879e-05 - val_loss: 0.0016\n",
      "Epoch 85/100\n",
      "45/45 [==============================] - 1s 24ms/step - loss: 8.7867e-05 - val_loss: 0.0015\n",
      "Epoch 86/100\n",
      "45/45 [==============================] - 1s 23ms/step - loss: 8.5793e-05 - val_loss: 0.0015\n",
      "Epoch 87/100\n",
      "45/45 [==============================] - 1s 24ms/step - loss: 8.3204e-05 - val_loss: 0.0015\n",
      "Epoch 88/100\n",
      "45/45 [==============================] - 1s 25ms/step - loss: 8.4867e-05 - val_loss: 0.0018\n",
      "Epoch 89/100\n",
      "45/45 [==============================] - 1s 26ms/step - loss: 9.2395e-05 - val_loss: 0.0011\n",
      "Epoch 90/100\n",
      "45/45 [==============================] - 1s 25ms/step - loss: 9.1185e-05 - val_loss: 0.0012\n",
      "Epoch 91/100\n",
      "45/45 [==============================] - 1s 26ms/step - loss: 9.5653e-05 - val_loss: 0.0015\n",
      "Epoch 92/100\n",
      "45/45 [==============================] - 1s 26ms/step - loss: 8.2963e-05 - val_loss: 0.0016\n",
      "Epoch 93/100\n",
      "45/45 [==============================] - 1s 29ms/step - loss: 8.2877e-05 - val_loss: 0.0011\n",
      "Epoch 94/100\n",
      "45/45 [==============================] - 1s 29ms/step - loss: 8.5310e-05 - val_loss: 0.0015\n",
      "Epoch 95/100\n",
      "45/45 [==============================] - 1s 25ms/step - loss: 8.3370e-05 - val_loss: 0.0016\n",
      "Epoch 96/100\n",
      "45/45 [==============================] - 1s 24ms/step - loss: 8.1292e-05 - val_loss: 0.0014\n",
      "Epoch 97/100\n",
      "45/45 [==============================] - 1s 24ms/step - loss: 8.8322e-05 - val_loss: 0.0013\n",
      "Epoch 98/100\n",
      "45/45 [==============================] - 1s 24ms/step - loss: 8.7796e-05 - val_loss: 0.0014\n",
      "Epoch 99/100\n",
      "45/45 [==============================] - 1s 24ms/step - loss: 8.1008e-05 - val_loss: 0.0015\n",
      "Epoch 100/100\n",
      "45/45 [==============================] - 1s 24ms/step - loss: 9.0727e-05 - val_loss: 0.0013\n"
     ]
    },
    {
     "data": {
      "text/plain": [
       "<tensorflow.python.keras.callbacks.History at 0x1ded673bac0>"
      ]
     },
     "execution_count": 45,
     "metadata": {},
     "output_type": "execute_result"
    }
   ],
   "source": [
    "model.fit(X_train,y_train,validation_data=(X_test,ytest),epochs=100,batch_size=32,verbose=1)"
   ]
  },
  {
   "cell_type": "code",
   "execution_count": 46,
   "metadata": {},
   "outputs": [],
   "source": [
    "import tensorflow as tf\n",
    "### Do the prediction and check performance metrics\n",
    "train_predict=model.predict(X_train)\n",
    "test_predict=model.predict(X_test)\n",
    "##Transformback to original form\n",
    "train_predict=scaler.inverse_transform(train_predict)\n",
    "test_predict=scaler.inverse_transform(test_predict)\n",
    "### Calculate RMSE performance metrics"
   ]
  },
  {
   "cell_type": "code",
   "execution_count": 47,
   "metadata": {},
   "outputs": [
    {
     "data": {
      "text/plain": [
       "4921.742035728612"
      ]
     },
     "execution_count": 47,
     "metadata": {},
     "output_type": "execute_result"
    }
   ],
   "source": [
    "import math\n",
    "from sklearn.metrics import mean_squared_error\n",
    "math.sqrt(mean_squared_error(y_train,train_predict))"
   ]
  },
  {
   "cell_type": "code",
   "execution_count": 48,
   "metadata": {},
   "outputs": [
    {
     "data": {
      "text/plain": [
       "12740.775641970806"
      ]
     },
     "execution_count": 48,
     "metadata": {},
     "output_type": "execute_result"
    }
   ],
   "source": [
    "### Test Data RMSE\n",
    "math.sqrt(mean_squared_error(ytest,test_predict))"
   ]
  },
  {
   "cell_type": "code",
   "execution_count": 49,
   "metadata": {},
   "outputs": [
    {
     "data": {
      "image/png": "[encoded data removed]",
      "text/plain": [
       "<Figure size 432x288 with 1 Axes>"
      ]
     },
     "metadata": {
      "needs_background": "light"
     },
     "output_type": "display_data"
    }
   ],
   "source": [
    "# shift train predictions for plotting\n",
    "look_back=100\n",
    "trainPredictPlot = numpy.empty_like(df1)\n",
    "trainPredictPlot[:, :] = np.nan\n",
    "trainPredictPlot[look_back:len(train_predict)+look_back, :] = train_predict\n",
    "# shift test predictions for plotting\n",
    "testPredictPlot = numpy.empty_like(df1)\n",
    "testPredictPlot[:, :] = numpy.nan\n",
    "testPredictPlot[len(train_predict)+(look_back*2)+1:len(df1)-1, :] = test_predict\n",
    "# plot baseline and predictions\n",
    "plt.plot(scaler.inverse_transform(df1))\n",
    "plt.plot(trainPredictPlot)\n",
    "plt.plot(testPredictPlot)\n",
    "plt.show()"
   ]
  },
  {
   "cell_type": "code",
   "execution_count": 50,
   "metadata": {},
   "outputs": [
    {
     "name": "stdout",
     "output_type": "stream",
     "text": [
      "820\n",
      "720\n"
     ]
    }
   ],
   "source": [
    "len(test_data)\n",
    "tdl_int = len(test_data)\n",
    "tdl_length = tdl_int - 100\n",
    "print(tdl_int)\n",
    "print(tdl_length)"
   ]
  },
  {
   "cell_type": "code",
   "execution_count": 51,
   "metadata": {},
   "outputs": [
    {
     "data": {
      "text/plain": [
       "(1, 100)"
      ]
     },
     "execution_count": 51,
     "metadata": {},
     "output_type": "execute_result"
    }
   ],
   "source": [
    "x_input=test_data[tdl_length:].reshape(1,-1)\n",
    "x_input.shape"
   ]
  },
  {
   "cell_type": "code",
   "execution_count": 52,
   "metadata": {},
   "outputs": [
    {
     "data": {
      "text/plain": [
       "[0.3113575132111251,\n",
       " 0.3105066425037871,\n",
       " 0.31893946604343065,\n",
       " 0.33075346080758344,\n",
       " 0.33160539492774216,\n",
       " 0.32647569212444455,\n",
       " 0.32416323072038117,\n",
       " 0.3397888983219054,\n",
       " 0.3588821344235254,\n",
       " 0.3621407122077575,\n",
       " 0.3624095349430822,\n",
       " 0.378933084124378,\n",
       " 0.3793628634190977,\n",
       " 0.3737696330123167,\n",
       " 0.37364880523860977,\n",
       " 0.38892150004122134,\n",
       " 0.3812097105228219,\n",
       " 0.3487163492739406,\n",
       " 0.3478488853137206,\n",
       " 0.36036160249427485,\n",
       " 0.3698141787358248,\n",
       " 0.3995719205355615,\n",
       " 0.38266594402665793,\n",
       " 0.39084515364075256,\n",
       " 0.39586466279855054,\n",
       " 0.3805449370591126,\n",
       " 0.38988234368573754,\n",
       " 0.3938043706837513,\n",
       " 0.3906507698028793,\n",
       " 0.3727658114383285,\n",
       " 0.3775483199878525,\n",
       " 0.3716121088497951,\n",
       " 0.36737783977034216,\n",
       " 0.3826794674274348,\n",
       " 0.38963892247175347,\n",
       " 0.39178107730935646,\n",
       " 0.3952827552772872,\n",
       " 0.43418693081255916,\n",
       " 0.4648941598104624,\n",
       " 0.4717318239902176,\n",
       " 0.48676880230569713,\n",
       " 0.4787037590868852,\n",
       " 0.46485142265370455,\n",
       " 0.4849853586833602,\n",
       " 0.47385596100304667,\n",
       " 0.48401805430434813,\n",
       " 0.5031019805276886,\n",
       " 0.5395144393732284,\n",
       " 0.5361296565580072,\n",
       " 0.5528235123057633,\n",
       " 0.5585276586761863,\n",
       " 0.5889051494420903,\n",
       " 0.5922082701784361,\n",
       " 0.5998602276773747,\n",
       " 0.6564255633394148,\n",
       " 0.6698781368095704,\n",
       " 0.6532336795969964,\n",
       " 0.6947470689064954,\n",
       " 0.7529318017149795,\n",
       " 0.8052557253737143,\n",
       " 0.8345658706978858,\n",
       " 0.8234081420948764,\n",
       " 0.7844097842995944,\n",
       " 0.7270910306862598,\n",
       " 0.6933197682571405,\n",
       " 0.7630403230873873,\n",
       " 0.8014811315343187,\n",
       " 0.7529524279108232,\n",
       " 0.7396545509094953,\n",
       " 0.7317060818131073,\n",
       " 0.7489399506298685,\n",
       " 0.7374286874249468,\n",
       " 0.7267025840407988,\n",
       " 0.6296836201704971,\n",
       " 0.6744750497252869,\n",
       " 0.655200511769928,\n",
       " 0.6597562926803142,\n",
       " 0.6613386108287823,\n",
       " 0.6655188264339134,\n",
       " 0.6216059363841935,\n",
       " 0.6466115471251721,\n",
       " 0.7014030700734405,\n",
       " 0.7004402199896398,\n",
       " 0.6767062904671176,\n",
       " 0.6853934502504524,\n",
       " 0.7259329139313008,\n",
       " 0.7662399516854437,\n",
       " 0.7550213878433311,\n",
       " 0.7800513166284367,\n",
       " 0.8030977597945501,\n",
       " 0.795648412534551,\n",
       " 0.9454904218999762,\n",
       " 0.9513386306110195,\n",
       " 0.919226934242818,\n",
       " 0.980682885403026,\n",
       " 0.9723724546597312,\n",
       " 0.964167723137939,\n",
       " 0.9972831206937717,\n",
       " 0.981416921150833,\n",
       " 0.9999999999999999]"
      ]
     },
     "execution_count": 52,
     "metadata": {},
     "output_type": "execute_result"
    }
   ],
   "source": [
    "temp_input=list(x_input)\n",
    "temp_input=temp_input[0].tolist()\n",
    "\n",
    "temp_input"
   ]
  },
  {
   "cell_type": "code",
   "execution_count": 53,
   "metadata": {},
   "outputs": [
    {
     "name": "stdout",
     "output_type": "stream",
     "text": [
      "[0.77881473]\n",
      "101\n",
      "1 day input [0.31050664 0.31893947 0.33075346 0.33160539 0.32647569 0.32416323\n",
      " 0.3397889  0.35888213 0.36214071 0.36240953 0.37893308 0.37936286\n",
      " 0.37376963 0.37364881 0.3889215  0.38120971 0.34871635 0.34784889\n",
      " 0.3603616  0.36981418 0.39957192 0.38266594 0.39084515 0.39586466\n",
      " 0.38054494 0.38988234 0.39380437 0.39065077 0.37276581 0.37754832\n",
      " 0.37161211 0.36737784 0.38267947 0.38963892 0.39178108 0.39528276\n",
      " 0.43418693 0.46489416 0.47173182 0.4867688  0.47870376 0.46485142\n",
      " 0.48498536 0.47385596 0.48401805 0.50310198 0.53951444 0.53612966\n",
      " 0.55282351 0.55852766 0.58890515 0.59220827 0.59986023 0.65642556\n",
      " 0.66987814 0.65323368 0.69474707 0.7529318  0.80525573 0.83456587\n",
      " 0.82340814 0.78440978 0.72709103 0.69331977 0.76304032 0.80148113\n",
      " 0.75295243 0.73965455 0.73170608 0.74893995 0.73742869 0.72670258\n",
      " 0.62968362 0.67447505 0.65520051 0.65975629 0.66133861 0.66551883\n",
      " 0.62160594 0.64661155 0.70140307 0.70044022 0.67670629 0.68539345\n",
      " 0.72593291 0.76623995 0.75502139 0.78005132 0.80309776 0.79564841\n",
      " 0.94549042 0.95133863 0.91922693 0.98068289 0.97237245 0.96416772\n",
      " 0.99728312 0.98141692 1.         0.77881473]\n",
      "1 day output [[0.7352628]]\n",
      "2 day input [0.31893947 0.33075346 0.33160539 0.32647569 0.32416323 0.3397889\n",
      " 0.35888213 0.36214071 0.36240953 0.37893308 0.37936286 0.37376963\n",
      " 0.37364881 0.3889215  0.38120971 0.34871635 0.34784889 0.3603616\n",
      " 0.36981418 0.39957192 0.38266594 0.39084515 0.39586466 0.38054494\n",
      " 0.38988234 0.39380437 0.39065077 0.37276581 0.37754832 0.37161211\n",
      " 0.36737784 0.38267947 0.38963892 0.39178108 0.39528276 0.43418693\n",
      " 0.46489416 0.47173182 0.4867688  0.47870376 0.46485142 0.48498536\n",
      " 0.47385596 0.48401805 0.50310198 0.53951444 0.53612966 0.55282351\n",
      " 0.55852766 0.58890515 0.59220827 0.59986023 0.65642556 0.66987814\n",
      " 0.65323368 0.69474707 0.7529318  0.80525573 0.83456587 0.82340814\n",
      " 0.78440978 0.72709103 0.69331977 0.76304032 0.80148113 0.75295243\n",
      " 0.73965455 0.73170608 0.74893995 0.73742869 0.72670258 0.62968362\n",
      " 0.67447505 0.65520051 0.65975629 0.66133861 0.66551883 0.62160594\n",
      " 0.64661155 0.70140307 0.70044022 0.67670629 0.68539345 0.72593291\n",
      " 0.76623995 0.75502139 0.78005132 0.80309776 0.79564841 0.94549042\n",
      " 0.95133863 0.91922693 0.98068289 0.97237245 0.96416772 0.99728312\n",
      " 0.98141692 1.         0.77881473 0.73526281]\n",
      "2 day output [[0.66932595]]\n",
      "3 day input [0.33075346 0.33160539 0.32647569 0.32416323 0.3397889  0.35888213\n",
      " 0.36214071 0.36240953 0.37893308 0.37936286 0.37376963 0.37364881\n",
      " 0.3889215  0.38120971 0.34871635 0.34784889 0.3603616  0.36981418\n",
      " 0.39957192 0.38266594 0.39084515 0.39586466 0.38054494 0.38988234\n",
      " 0.39380437 0.39065077 0.37276581 0.37754832 0.37161211 0.36737784\n",
      " 0.38267947 0.38963892 0.39178108 0.39528276 0.43418693 0.46489416\n",
      " 0.47173182 0.4867688  0.47870376 0.46485142 0.48498536 0.47385596\n",
      " 0.48401805 0.50310198 0.53951444 0.53612966 0.55282351 0.55852766\n",
      " 0.58890515 0.59220827 0.59986023 0.65642556 0.66987814 0.65323368\n",
      " 0.69474707 0.7529318  0.80525573 0.83456587 0.82340814 0.78440978\n",
      " 0.72709103 0.69331977 0.76304032 0.80148113 0.75295243 0.73965455\n",
      " 0.73170608 0.74893995 0.73742869 0.72670258 0.62968362 0.67447505\n",
      " 0.65520051 0.65975629 0.66133861 0.66551883 0.62160594 0.64661155\n",
      " 0.70140307 0.70044022 0.67670629 0.68539345 0.72593291 0.76623995\n",
      " 0.75502139 0.78005132 0.80309776 0.79564841 0.94549042 0.95133863\n",
      " 0.91922693 0.98068289 0.97237245 0.96416772 0.99728312 0.98141692\n",
      " 1.         0.77881473 0.73526281 0.66932595]\n",
      "3 day output [[0.59585696]]\n",
      "4 day input [0.33160539 0.32647569 0.32416323 0.3397889  0.35888213 0.36214071\n",
      " 0.36240953 0.37893308 0.37936286 0.37376963 0.37364881 0.3889215\n",
      " 0.38120971 0.34871635 0.34784889 0.3603616  0.36981418 0.39957192\n",
      " 0.38266594 0.39084515 0.39586466 0.38054494 0.38988234 0.39380437\n",
      " 0.39065077 0.37276581 0.37754832 0.37161211 0.36737784 0.38267947\n",
      " 0.38963892 0.39178108 0.39528276 0.43418693 0.46489416 0.47173182\n",
      " 0.4867688  0.47870376 0.46485142 0.48498536 0.47385596 0.48401805\n",
      " 0.50310198 0.53951444 0.53612966 0.55282351 0.55852766 0.58890515\n",
      " 0.59220827 0.59986023 0.65642556 0.66987814 0.65323368 0.69474707\n",
      " 0.7529318  0.80525573 0.83456587 0.82340814 0.78440978 0.72709103\n",
      " 0.69331977 0.76304032 0.80148113 0.75295243 0.73965455 0.73170608\n",
      " 0.74893995 0.73742869 0.72670258 0.62968362 0.67447505 0.65520051\n",
      " 0.65975629 0.66133861 0.66551883 0.62160594 0.64661155 0.70140307\n",
      " 0.70044022 0.67670629 0.68539345 0.72593291 0.76623995 0.75502139\n",
      " 0.78005132 0.80309776 0.79564841 0.94549042 0.95133863 0.91922693\n",
      " 0.98068289 0.97237245 0.96416772 0.99728312 0.98141692 1.\n",
      " 0.77881473 0.73526281 0.66932595 0.59585696]\n",
      "4 day output [[0.52535105]]\n",
      "5 day input [0.32647569 0.32416323 0.3397889  0.35888213 0.36214071 0.36240953\n",
      " 0.37893308 0.37936286 0.37376963 0.37364881 0.3889215  0.38120971\n",
      " 0.34871635 0.34784889 0.3603616  0.36981418 0.39957192 0.38266594\n",
      " 0.39084515 0.39586466 0.38054494 0.38988234 0.39380437 0.39065077\n",
      " 0.37276581 0.37754832 0.37161211 0.36737784 0.38267947 0.38963892\n",
      " 0.39178108 0.39528276 0.43418693 0.46489416 0.47173182 0.4867688\n",
      " 0.47870376 0.46485142 0.48498536 0.47385596 0.48401805 0.50310198\n",
      " 0.53951444 0.53612966 0.55282351 0.55852766 0.58890515 0.59220827\n",
      " 0.59986023 0.65642556 0.66987814 0.65323368 0.69474707 0.7529318\n",
      " 0.80525573 0.83456587 0.82340814 0.78440978 0.72709103 0.69331977\n",
      " 0.76304032 0.80148113 0.75295243 0.73965455 0.73170608 0.74893995\n",
      " 0.73742869 0.72670258 0.62968362 0.67447505 0.65520051 0.65975629\n",
      " 0.66133861 0.66551883 0.62160594 0.64661155 0.70140307 0.70044022\n",
      " 0.67670629 0.68539345 0.72593291 0.76623995 0.75502139 0.78005132\n",
      " 0.80309776 0.79564841 0.94549042 0.95133863 0.91922693 0.98068289\n",
      " 0.97237245 0.96416772 0.99728312 0.98141692 1.         0.77881473\n",
      " 0.73526281 0.66932595 0.59585696 0.52535105]\n",
      "5 day output [[0.46515366]]\n",
      "6 day input [0.32416323 0.3397889  0.35888213 0.36214071 0.36240953 0.37893308\n",
      " 0.37936286 0.37376963 0.37364881 0.3889215  0.38120971 0.34871635\n",
      " 0.34784889 0.3603616  0.36981418 0.39957192 0.38266594 0.39084515\n",
      " 0.39586466 0.38054494 0.38988234 0.39380437 0.39065077 0.37276581\n",
      " 0.37754832 0.37161211 0.36737784 0.38267947 0.38963892 0.39178108\n",
      " 0.39528276 0.43418693 0.46489416 0.47173182 0.4867688  0.47870376\n",
      " 0.46485142 0.48498536 0.47385596 0.48401805 0.50310198 0.53951444\n",
      " 0.53612966 0.55282351 0.55852766 0.58890515 0.59220827 0.59986023\n",
      " 0.65642556 0.66987814 0.65323368 0.69474707 0.7529318  0.80525573\n",
      " 0.83456587 0.82340814 0.78440978 0.72709103 0.69331977 0.76304032\n",
      " 0.80148113 0.75295243 0.73965455 0.73170608 0.74893995 0.73742869\n",
      " 0.72670258 0.62968362 0.67447505 0.65520051 0.65975629 0.66133861\n",
      " 0.66551883 0.62160594 0.64661155 0.70140307 0.70044022 0.67670629\n",
      " 0.68539345 0.72593291 0.76623995 0.75502139 0.78005132 0.80309776\n",
      " 0.79564841 0.94549042 0.95133863 0.91922693 0.98068289 0.97237245\n",
      " 0.96416772 0.99728312 0.98141692 1.         0.77881473 0.73526281\n",
      " 0.66932595 0.59585696 0.52535105 0.46515366]\n",
      "6 day output [[0.4186564]]\n",
      "7 day input [0.3397889  0.35888213 0.36214071 0.36240953 0.37893308 0.37936286\n",
      " 0.37376963 0.37364881 0.3889215  0.38120971 0.34871635 0.34784889\n",
      " 0.3603616  0.36981418 0.39957192 0.38266594 0.39084515 0.39586466\n",
      " 0.38054494 0.38988234 0.39380437 0.39065077 0.37276581 0.37754832\n",
      " 0.37161211 0.36737784 0.38267947 0.38963892 0.39178108 0.39528276\n",
      " 0.43418693 0.46489416 0.47173182 0.4867688  0.47870376 0.46485142\n",
      " 0.48498536 0.47385596 0.48401805 0.50310198 0.53951444 0.53612966\n",
      " 0.55282351 0.55852766 0.58890515 0.59220827 0.59986023 0.65642556\n",
      " 0.66987814 0.65323368 0.69474707 0.7529318  0.80525573 0.83456587\n",
      " 0.82340814 0.78440978 0.72709103 0.69331977 0.76304032 0.80148113\n",
      " 0.75295243 0.73965455 0.73170608 0.74893995 0.73742869 0.72670258\n",
      " 0.62968362 0.67447505 0.65520051 0.65975629 0.66133861 0.66551883\n",
      " 0.62160594 0.64661155 0.70140307 0.70044022 0.67670629 0.68539345\n",
      " 0.72593291 0.76623995 0.75502139 0.78005132 0.80309776 0.79564841\n",
      " 0.94549042 0.95133863 0.91922693 0.98068289 0.97237245 0.96416772\n",
      " 0.99728312 0.98141692 1.         0.77881473 0.73526281 0.66932595\n",
      " 0.59585696 0.52535105 0.46515366 0.41865641]\n",
      "7 day output [[0.38718268]]\n",
      "8 day input [0.35888213 0.36214071 0.36240953 0.37893308 0.37936286 0.37376963\n",
      " 0.37364881 0.3889215  0.38120971 0.34871635 0.34784889 0.3603616\n",
      " 0.36981418 0.39957192 0.38266594 0.39084515 0.39586466 0.38054494\n",
      " 0.38988234 0.39380437 0.39065077 0.37276581 0.37754832 0.37161211\n",
      " 0.36737784 0.38267947 0.38963892 0.39178108 0.39528276 0.43418693\n",
      " 0.46489416 0.47173182 0.4867688  0.47870376 0.46485142 0.48498536\n",
      " 0.47385596 0.48401805 0.50310198 0.53951444 0.53612966 0.55282351\n",
      " 0.55852766 0.58890515 0.59220827 0.59986023 0.65642556 0.66987814\n",
      " 0.65323368 0.69474707 0.7529318  0.80525573 0.83456587 0.82340814\n",
      " 0.78440978 0.72709103 0.69331977 0.76304032 0.80148113 0.75295243\n",
      " 0.73965455 0.73170608 0.74893995 0.73742869 0.72670258 0.62968362\n",
      " 0.67447505 0.65520051 0.65975629 0.66133861 0.66551883 0.62160594\n",
      " 0.64661155 0.70140307 0.70044022 0.67670629 0.68539345 0.72593291\n",
      " 0.76623995 0.75502139 0.78005132 0.80309776 0.79564841 0.94549042\n",
      " 0.95133863 0.91922693 0.98068289 0.97237245 0.96416772 0.99728312\n",
      " 0.98141692 1.         0.77881473 0.73526281 0.66932595 0.59585696\n",
      " 0.52535105 0.46515366 0.41865641 0.38718268]\n",
      "8 day output [[0.3699164]]\n",
      "9 day input [0.36214071 0.36240953 0.37893308 0.37936286 0.37376963 0.37364881\n",
      " 0.3889215  0.38120971 0.34871635 0.34784889 0.3603616  0.36981418\n",
      " 0.39957192 0.38266594 0.39084515 0.39586466 0.38054494 0.38988234\n",
      " 0.39380437 0.39065077 0.37276581 0.37754832 0.37161211 0.36737784\n",
      " 0.38267947 0.38963892 0.39178108 0.39528276 0.43418693 0.46489416\n",
      " 0.47173182 0.4867688  0.47870376 0.46485142 0.48498536 0.47385596\n",
      " 0.48401805 0.50310198 0.53951444 0.53612966 0.55282351 0.55852766\n",
      " 0.58890515 0.59220827 0.59986023 0.65642556 0.66987814 0.65323368\n",
      " 0.69474707 0.7529318  0.80525573 0.83456587 0.82340814 0.78440978\n",
      " 0.72709103 0.69331977 0.76304032 0.80148113 0.75295243 0.73965455\n",
      " 0.73170608 0.74893995 0.73742869 0.72670258 0.62968362 0.67447505\n",
      " 0.65520051 0.65975629 0.66133861 0.66551883 0.62160594 0.64661155\n",
      " 0.70140307 0.70044022 0.67670629 0.68539345 0.72593291 0.76623995\n",
      " 0.75502139 0.78005132 0.80309776 0.79564841 0.94549042 0.95133863\n",
      " 0.91922693 0.98068289 0.97237245 0.96416772 0.99728312 0.98141692\n",
      " 1.         0.77881473 0.73526281 0.66932595 0.59585696 0.52535105\n",
      " 0.46515366 0.41865641 0.38718268 0.36991641]\n",
      "9 day output [[0.3646519]]\n",
      "[[0.7788147330284119], [0.7352628111839294], [0.6693259477615356], [0.5958569645881653], [0.5253510475158691], [0.46515366435050964], [0.4186564087867737], [0.38718268275260925], [0.3699164092540741], [0.3646518886089325]]\n"
     ]
    }
   ],
   "source": [
    "# demonstrate prediction for next 10 days\n",
    "from numpy import array\n",
    "\n",
    "lst_output=[]\n",
    "n_steps=100\n",
    "i=0\n",
    "\n",
    "#Ten Days\n",
    "#while(i<10):\n",
    "\n",
    "while(i<10):\n",
    "    \n",
    "    if(len(temp_input)>100):\n",
    "        #print(temp_input)\n",
    "        x_input=np.array(temp_input[1:])\n",
    "        print(\"{} day input {}\".format(i,x_input))\n",
    "        x_input=x_input.reshape(1,-1)\n",
    "        x_input = x_input.reshape((1, n_steps, 1))\n",
    "        #print(x_input)\n",
    "        yhat = model.predict(x_input, verbose=0)\n",
    "        print(\"{} day output {}\".format(i,yhat))\n",
    "        temp_input.extend(yhat[0].tolist())\n",
    "        temp_input=temp_input[1:]\n",
    "        #print(temp_input)\n",
    "        lst_output.extend(yhat.tolist())\n",
    "        i=i+1\n",
    "    else:\n",
    "        x_input = x_input.reshape((1, n_steps,1))\n",
    "        yhat = model.predict(x_input, verbose=0)\n",
    "        print(yhat[0])\n",
    "        temp_input.extend(yhat[0].tolist())\n",
    "        print(len(temp_input))\n",
    "        lst_output.extend(yhat.tolist())\n",
    "        i=i+1\n",
    "    \n",
    "\n",
    "print(lst_output)"
   ]
  },
  {
   "cell_type": "code",
   "execution_count": 54,
   "metadata": {},
   "outputs": [],
   "source": [
    "day_new=np.arange(1,101)\n",
    "\n",
    "#Ten Days\n",
    "#day_pred=np.arange(101,111)\n",
    "\n",
    "day_pred=np.arange(101,111)"
   ]
  },
  {
   "cell_type": "code",
   "execution_count": 55,
   "metadata": {},
   "outputs": [],
   "source": [
    "import matplotlib.pyplot as plt"
   ]
  },
  {
   "cell_type": "code",
   "execution_count": 56,
   "metadata": {},
   "outputs": [
    {
     "name": "stdout",
     "output_type": "stream",
     "text": [
      "2341\n",
      "2241\n"
     ]
    }
   ],
   "source": [
    "len(df1)\n",
    "df2_int = len(df1)\n",
    "df2_length = df2_int - 100\n",
    "print(df2_int)\n",
    "print(df2_length)"
   ]
  },
  {
   "cell_type": "code",
   "execution_count": 57,
   "metadata": {},
   "outputs": [
    {
     "data": {
      "text/plain": [
       "[<matplotlib.lines.Line2D at 0x1ded7915790>]"
      ]
     },
     "execution_count": 57,
     "metadata": {},
     "output_type": "execute_result"
    },
    {
     "data": {
      "image/png": "[encoded data removed]",
      "text/plain": [
       "<Figure size 432x288 with 1 Axes>"
      ]
     },
     "metadata": {
      "needs_background": "light"
     },
     "output_type": "display_data"
    }
   ],
   "source": [
    "#plt.plot(day_new,scaler.inverse_transform(df1[2205:]))\n",
    "\n",
    "plt.plot(day_new,scaler.inverse_transform(df1[df2_length:]))\n",
    "\n",
    "plt.plot(day_pred,scaler.inverse_transform(lst_output))"
   ]
  },
  {
   "cell_type": "code",
   "execution_count": 58,
   "metadata": {},
   "outputs": [
    {
     "data": {
      "text/plain": [
       "[<matplotlib.lines.Line2D at 0x1ded7a08b20>]"
      ]
     },
     "execution_count": 58,
     "metadata": {},
     "output_type": "execute_result"
    },
    {
     "data": {
      "image/png": "[encoded data removed]",
      "text/plain": [
       "<Figure size 432x288 with 1 Axes>"
      ]
     },
     "metadata": {
      "needs_background": "light"
     },
     "output_type": "display_data"
    }
   ],
   "source": [
    "df3=df1.tolist()\n",
    "df3.extend(lst_output)\n",
    "#plt.plot(df3[2206:])\n",
    "\n",
    "df3_length = df2_length + 1\n",
    "\n",
    "plt.plot(df3[df3_length:])"
   ]
  },
  {
   "cell_type": "code",
   "execution_count": 59,
   "metadata": {},
   "outputs": [
    {
     "data": {
      "text/plain": [
       "[<matplotlib.lines.Line2D at 0x1ded7a99c40>]"
      ]
     },
     "execution_count": 59,
     "metadata": {},
     "output_type": "execute_result"
    },
    {
     "data": {
      "image/png": "[encoded data removed]",
      "text/plain": [
       "<Figure size 432x288 with 1 Axes>"
      ]
     },
     "metadata": {
      "needs_background": "light"
     },
     "output_type": "display_data"
    }
   ],
   "source": [
    "df3=scaler.inverse_transform(df3).tolist()\n",
    "plt.plot(df3)"
   ]
  },
  {
   "cell_type": "code",
   "execution_count": null,
   "metadata": {},
   "outputs": [],
   "source": []
  },
  {
   "cell_type": "code",
   "execution_count": null,
   "metadata": {},
   "outputs": [],
   "source": []
  }
 ],
 "metadata": {
  "kernelspec": {
   "display_name": "Python 3",
   "language": "python",
   "name": "python3"
  },
  "language_info": {
   "codemirror_mode": {
    "name": "ipython",
    "version": 3
   },
   "file_extension": ".py",
   "mimetype": "text/x-python",
   "name": "python",
   "nbconvert_exporter": "python",
   "pygments_lexer": "ipython3",
   "version": "3.8.5"
  }
 },
 "nbformat": 4,
 "nbformat_minor": 4
}
