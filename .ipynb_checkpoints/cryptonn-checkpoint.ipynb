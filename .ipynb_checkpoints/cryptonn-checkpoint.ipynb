{
 "cells": [
  {
   "cell_type": "raw",
   "metadata": {},
   "source": [
    "#Prepare 'System' if Conditions not met\n",
    "\n",
    "#!pip install --upgrade pip\n",
    "\n",
    "!pip install tensorflow tensorflow-gpu matplot numpy pandas sklearn keras seaborn requests"
   ]
  },
  {
   "cell_type": "code",
   "execution_count": 1,
   "metadata": {},
   "outputs": [],
   "source": [
    "##Created By Unfriendly \n",
    "#(A simple Jupyter Notebook in Binder for Crypto price prediction)\n",
    "\n",
    "historical_start = \"6yr,0mon,0day,0hr,0min,0sec\"\n",
    "# How long to historically look back at data\n",
    "\n",
    "predict_into = \"0yr,0mon,10day,0hr,0min,0sec\" \n",
    "# How far to try and predict into the future"
   ]
  },
  {
   "cell_type": "code",
   "execution_count": 2,
   "metadata": {},
   "outputs": [],
   "source": [
    "import os, glob\n",
    "for dirname, _, filenames in os.walk('/unfriendly/input'):\n",
    "    for filename in filenames:\n",
    "        print(os.path.join(dirname, filename))"
   ]
  },
  {
   "cell_type": "code",
   "execution_count": 3,
   "metadata": {},
   "outputs": [],
   "source": [
    "import json\n",
    "import requests\n",
    "from keras.models import Sequential\n",
    "from keras.layers import Activation, Dense, Dropout, LSTM\n",
    "import matplotlib.pyplot as plt\n",
    "import numpy as np\n",
    "import pandas as pd\n",
    "import seaborn as sns\n",
    "from sklearn.metrics import mean_absolute_error\n",
    "%matplotlib inline"
   ]
  },
  {
   "cell_type": "code",
   "execution_count": 4,
   "metadata": {},
   "outputs": [],
   "source": [
    "import matplotlib.pyplot as plt"
   ]
  },
  {
   "cell_type": "code",
   "execution_count": 5,
   "metadata": {},
   "outputs": [],
   "source": [
    "# Prepare data timestamps\n",
    "import time\n",
    "from datetime import datetime, timezone, timedelta\n",
    "one_yr = 31536000000\n",
    "one_mon = one_yr/12\n",
    "one_day = one_yr/365\n",
    "one_hr = one_day/24\n",
    "one_min = one_hr/60\n",
    "one_sec = one_min/60"
   ]
  },
  {
   "cell_type": "code",
   "execution_count": 6,
   "metadata": {},
   "outputs": [
    {
     "name": "stdout",
     "output_type": "stream",
     "text": [
      "['6', '0', '0', '0', '0', '0']\n"
     ]
    }
   ],
   "source": [
    "# Prepare how far to look back in the past in UNIX time-format\n",
    "history_split = historical_start.replace('yr', '')\n",
    "history_res = history_split.replace('mon', '')\n",
    "history_split = history_res.replace('day', '')\n",
    "history_res = history_split.replace('hr', '')\n",
    "history_split = history_res.replace('min', '')\n",
    "history_res = history_split.replace('sec', '')\n",
    "history_split = history_res.split(\",\")\n",
    "print(history_split)"
   ]
  },
  {
   "cell_type": "code",
   "execution_count": 7,
   "metadata": {},
   "outputs": [
    {
     "name": "stdout",
     "output_type": "stream",
     "text": [
      "['0', '0', '10', '0', '0', '0']\n"
     ]
    }
   ],
   "source": [
    "# Prepare how far to predict into the future in UNIX time-format\n",
    "predict_split = predict_into.replace('yr', '')\n",
    "predict_res = predict_split.replace('mon', '')\n",
    "predict_split = predict_res.replace('day', '')\n",
    "predict_res = predict_split.replace('hr', '')\n",
    "predict_split = predict_res.replace('min', '')\n",
    "predict_res = predict_split.replace('sec', '')\n",
    "predict_split = predict_res.split(\",\")\n",
    "print(predict_split)"
   ]
  },
  {
   "cell_type": "code",
   "execution_count": 8,
   "metadata": {},
   "outputs": [],
   "source": [
    "history_array_yr = int(history_split[0])\n",
    "unix_hist_yr = one_yr*history_array_yr\n",
    "\n",
    "history_array_mon = int(history_split[1])\n",
    "unix_hist_mon = one_mon*history_array_mon\n",
    "\n",
    "history_array_day = int(history_split[2])\n",
    "unix_hist_day = one_day*history_array_day\n",
    "\n",
    "history_array_hr = int(history_split[3])\n",
    "unix_hist_hr = one_hr*history_array_hr\n",
    "\n",
    "history_array_min = int(history_split[4])\n",
    "unix_hist_min = one_min*history_array_min\n",
    "\n",
    "history_array_sec = int(history_split[5])\n",
    "unix_hist_sec = one_sec*history_array_sec"
   ]
  },
  {
   "cell_type": "code",
   "execution_count": 9,
   "metadata": {},
   "outputs": [],
   "source": [
    "predict_array_yr = int(predict_split[0])\n",
    "unix_pred_yr = one_yr*predict_array_yr\n",
    "\n",
    "predict_array_mon = int(predict_split[1])\n",
    "unix_pred_mon = one_mon*predict_array_mon\n",
    "\n",
    "predict_array_day = int(predict_split[2])\n",
    "unix_pred_day = one_day*predict_array_day\n",
    "\n",
    "predict_array_hr = int(predict_split[3])\n",
    "unix_pred_hr = one_hr*predict_array_hr\n",
    "\n",
    "predict_array_min = int(predict_split[4])\n",
    "unix_pred_min = one_min*predict_array_min\n",
    "\n",
    "predict_array_sec = int(predict_split[5])\n",
    "unix_pred_sec = one_sec*predict_array_sec\n",
    "\n",
    "unix_prediction = unix_pred_yr+unix_pred_mon+unix_pred_day+unix_pred_hr+unix_pred_min+unix_pred_sec"
   ]
  },
  {
   "cell_type": "code",
   "execution_count": 10,
   "metadata": {},
   "outputs": [
    {
     "name": "stdout",
     "output_type": "stream",
     "text": [
      "-187602481456 - start\n",
      "-310 - gather\n",
      "310 - positive gather\n"
     ]
    }
   ],
   "source": [
    "raw_time = time.time()\n",
    "int_time = int(raw_time)\n",
    "current_time = str(int_time)\n",
    "\n",
    "unix_start = unix_hist_yr+unix_hist_mon+unix_hist_day+unix_hist_hr+unix_hist_min+unix_hist_sec\n",
    "raw_start = raw_time - unix_start\n",
    "\n",
    "int_start = int(raw_start)\n",
    "start = str(int_start)\n",
    "\n",
    "#print(unix_hist_yr+history_array_mon+history_array_day+history_array_hr+history_array_min+history_array_sec)\n",
    "print(start + ' - start')\n",
    "\n",
    "gather_count = int_start/(7*one_day)\n",
    "gather_int = int(gather_count)\n",
    "gather_str = str(gather_int)\n",
    "pos_gather_count = abs(int(gather_count))\n",
    "pos_gather_str = str(pos_gather_count)\n",
    "\n",
    "print(gather_str + ' - gather')\n",
    "print(pos_gather_str + ' - positive gather')"
   ]
  },
  {
   "cell_type": "code",
   "execution_count": 11,
   "metadata": {},
   "outputs": [
    {
     "name": "stdout",
     "output_type": "stream",
     "text": [
      "1613518543526.8918\n",
      "1613518543526\n",
      "1424302543526\n",
      "1424302543.526892\n",
      "2021-02-16 23:35:43.527389+00:00\n",
      "2015-02-18 23:35:43.526892+00:00\n",
      "1424302543526\n",
      "1424925343526\n",
      "1613518543526\n",
      "13 Digit Microsecond TS: 1424302543526 - 10 Digit TS: 1424302543\n"
     ]
    }
   ],
   "source": [
    "print((datetime.now(timezone.utc) + timedelta(hours=0)).timestamp() * 1e3)\n",
    "\n",
    "dt = (datetime.now(timezone.utc) + timedelta(days=0)).timestamp() * 1e3\n",
    "\n",
    "c_dt = int(dt)\n",
    "\n",
    "c_dt_int = int(c_dt)\n",
    "print(str(c_dt_int))\n",
    "\n",
    "c_dt_array_year = history_array_yr*365\n",
    "\n",
    "history_array_comb = history_array_day + c_dt_array_year\n",
    "\n",
    "c_dt_start = (datetime.now(timezone.utc) + timedelta(days=-history_array_comb,hours=-history_array_hr,minutes=-history_array_min,seconds=-history_array_sec)).timestamp() * 1e3\n",
    "\n",
    "c_dt_start_int = int(c_dt_start)\n",
    "print(str(c_dt_start_int))\n",
    "\n",
    "c_dt_start_raw = (datetime.now(timezone.utc) + timedelta(days=-history_array_comb,hours=-history_array_hr,minutes=-history_array_min,seconds=-history_array_sec)).timestamp()\n",
    "c_dt_start_raw_int = int(c_dt_start_raw)\n",
    "print(str(c_dt_start_raw))       \n",
    "    \n",
    "data_count = 0\n",
    "\n",
    "c_dt_start_dt = datetime.utcfromtimestamp(c_dt_start_raw).strftime('%Y-%m-%d %H:%M:%S.%f+00:00')\n",
    "\n",
    "print(datetime.now(timezone.utc))\n",
    "print(datetime.utcfromtimestamp(c_dt_start_raw).strftime('%Y-%m-%d %H:%M:%S.%f+00:00'))\n",
    "\n",
    "#c_dt_end = c_dt_start + timedelta(days=7).timestamp() * 1e3\n",
    "#c_dt_end = (c_dt_start_dt + timedelta(days=7)).timestamp() * 1e3\n",
    "\n",
    "c_dt_end = (datetime.utcfromtimestamp(c_dt_start_raw) + timedelta(days=7)).timestamp() * 1e3\n",
    "\n",
    "c_dt_start_int = int(c_dt_start)\n",
    "c_dt_end_int = int(c_dt_end)\n",
    "c_dt_end_str = str(c_dt_end)\n",
    "\n",
    "\n",
    "c_dt_str = str(c_dt)\n",
    "c_dt_start_str = str(c_dt_start_int)\n",
    "\n",
    "\n",
    "ts_ten_int = int(c_dt/1000)\n",
    "start_ten_int = int(c_dt_start_int/1000)\n",
    "\n",
    "ts_ten_str = str(ts_ten_int)\n",
    "start_ten_str = str(start_ten_int)\n",
    "\n",
    "\n",
    "print(c_dt_start_int)\n",
    "print(c_dt_end_int)\n",
    "print(c_dt_int)\n",
    "print('13 Digit Microsecond TS: ' + c_dt_start_str + ' - ' + '10 Digit TS: ' + start_ten_str)"
   ]
  },
  {
   "cell_type": "code",
   "execution_count": 12,
   "metadata": {},
   "outputs": [
    {
     "name": "stdout",
     "output_type": "stream",
     "text": [
      "https://query1.finance.yahoo.com/v7/finance/download/BTC-USD?period1=1424302543&period2=1613518543&interval=1d&events=history&includeAdjustedClose=true\n"
     ]
    }
   ],
   "source": [
    "import urllib.request\n",
    "import yfinance as yf\n",
    "\n",
    "#while count < pos_gather_count:\n",
    "while data_count < 1:\n",
    "    \n",
    "    #d_u=\"https://query1.finance.yahoo.com/v7/finance/download/BTC-USD?period1=1411862400&period2=\" + current_time + \"&interval=1d&events=history&includeAdjustedClose=true\"\n",
    "    #d_u=\"https://query1.finance.yahoo.com/v7/finance/download/BTC-USD?period1=1411862400&period2=1612158064&interval=1d&events=history&includeAdjustedClose=true\"\n",
    "    #d_u=\"https://query1.finance.yahoo.com/v7/finance/download/BTC-USD?period1=\"+dt_str+\"&period2=\"+dt_end_str+\"&interval=1d&events=history&includeAdjustedClose=true\"\n",
    "    #d_u=\"https://query1.finance.yahoo.com/v7/finance/download/BTC-USD?period1=\"+gather_str+\"&period2=\"+current_time+\"&interval=1m&events=history&includeAdjustedClose=true\"\n",
    "    \n",
    "    \n",
    "    d_u=\"https://query1.finance.yahoo.com/v7/finance/download/BTC-USD?period1=\"+start_ten_str+\"&period2=\"+ts_ten_str+\"&interval=1d&events=history&includeAdjustedClose=true\"\n",
    "    \n",
    "    print(d_u)\n",
    "    \n",
    "    with urllib.request.urlopen(d_u) as testfile, open('dataset.csv', 'w') as f:\n",
    "        f.write(testfile.read().decode())\n",
    "\n",
    "    data_count += 1  # This is the same as count = count + 1"
   ]
  },
  {
   "cell_type": "raw",
   "metadata": {},
   "source": [
    "data = yf.download(tickers='BTC-USD', period='max', interval='1m', group_by='column', auto_adjust = True, prepost = True, threads = True, proxy = None)"
   ]
  },
  {
   "cell_type": "raw",
   "metadata": {},
   "source": [
    "print(start + ' - start')\n",
    "print(current_time + ' - current time')\n",
    "print(d_u + ' - url')\n",
    "    \n",
    "print(gather_count)\n",
    "#print(data_count)\n",
    "\n",
    "# List all CSV files in the working dir\n",
    "extension = \"csv\"\n",
    "all_filenames = [i for i in glob.glob('*.{}'.format(extension))]\n",
    "print(all_filenames)"
   ]
  },
  {
   "cell_type": "raw",
   "metadata": {},
   "source": [
    "import urllib.request\n",
    "d_u=\"https://query1.finance.yahoo.com/v7/finance/download/BTC-USD?period1=1411862400&period2=1612158064&interval=1d&events=history&includeAdjustedClose=true\"\n",
    "\n",
    "\n",
    "with urllib.request.urlopen(d_u) as testfile, open('dataset.csv', 'w') as f:\n",
    "    f.write(testfile.read().decode())"
   ]
  },
  {
   "cell_type": "code",
   "execution_count": 13,
   "metadata": {},
   "outputs": [
    {
     "name": "stdout",
     "output_type": "stream",
     "text": [
      "[*********************100%***********************]  1 of 1 completed\n"
     ]
    },
    {
     "data": {
      "text/html": [
       "<div>\n",
       "<style scoped>\n",
       "    .dataframe tbody tr th:only-of-type {\n",
       "        vertical-align: middle;\n",
       "    }\n",
       "\n",
       "    .dataframe tbody tr th {\n",
       "        vertical-align: top;\n",
       "    }\n",
       "\n",
       "    .dataframe thead th {\n",
       "        text-align: right;\n",
       "    }\n",
       "</style>\n",
       "<table border=\"1\" class=\"dataframe\">\n",
       "  <thead>\n",
       "    <tr style=\"text-align: right;\">\n",
       "      <th></th>\n",
       "      <th>Open</th>\n",
       "      <th>High</th>\n",
       "      <th>Low</th>\n",
       "      <th>Close</th>\n",
       "      <th>Volume</th>\n",
       "    </tr>\n",
       "    <tr>\n",
       "      <th>Date</th>\n",
       "      <th></th>\n",
       "      <th></th>\n",
       "      <th></th>\n",
       "      <th></th>\n",
       "      <th></th>\n",
       "    </tr>\n",
       "  </thead>\n",
       "  <tbody>\n",
       "    <tr>\n",
       "      <th>2014-09-17</th>\n",
       "      <td>465.864014</td>\n",
       "      <td>468.174011</td>\n",
       "      <td>452.421997</td>\n",
       "      <td>457.334015</td>\n",
       "      <td>21056800</td>\n",
       "    </tr>\n",
       "    <tr>\n",
       "      <th>2014-09-18</th>\n",
       "      <td>456.859985</td>\n",
       "      <td>456.859985</td>\n",
       "      <td>413.104004</td>\n",
       "      <td>424.440002</td>\n",
       "      <td>34483200</td>\n",
       "    </tr>\n",
       "    <tr>\n",
       "      <th>2014-09-19</th>\n",
       "      <td>424.102997</td>\n",
       "      <td>427.834991</td>\n",
       "      <td>384.532013</td>\n",
       "      <td>394.795990</td>\n",
       "      <td>37919700</td>\n",
       "    </tr>\n",
       "    <tr>\n",
       "      <th>2014-09-20</th>\n",
       "      <td>394.673004</td>\n",
       "      <td>423.295990</td>\n",
       "      <td>389.882996</td>\n",
       "      <td>408.903992</td>\n",
       "      <td>36863600</td>\n",
       "    </tr>\n",
       "    <tr>\n",
       "      <th>2014-09-21</th>\n",
       "      <td>408.084991</td>\n",
       "      <td>412.425995</td>\n",
       "      <td>393.181000</td>\n",
       "      <td>398.821014</td>\n",
       "      <td>26580100</td>\n",
       "    </tr>\n",
       "    <tr>\n",
       "      <th>...</th>\n",
       "      <td>...</td>\n",
       "      <td>...</td>\n",
       "      <td>...</td>\n",
       "      <td>...</td>\n",
       "      <td>...</td>\n",
       "    </tr>\n",
       "    <tr>\n",
       "      <th>2021-02-12</th>\n",
       "      <td>47877.035156</td>\n",
       "      <td>48745.734375</td>\n",
       "      <td>46424.976562</td>\n",
       "      <td>47504.851562</td>\n",
       "      <td>76555041196</td>\n",
       "    </tr>\n",
       "    <tr>\n",
       "      <th>2021-02-13</th>\n",
       "      <td>47491.203125</td>\n",
       "      <td>48047.746094</td>\n",
       "      <td>46392.281250</td>\n",
       "      <td>47105.515625</td>\n",
       "      <td>70250456155</td>\n",
       "    </tr>\n",
       "    <tr>\n",
       "      <th>2021-02-14</th>\n",
       "      <td>47114.507812</td>\n",
       "      <td>49487.640625</td>\n",
       "      <td>47114.507812</td>\n",
       "      <td>48717.289062</td>\n",
       "      <td>71248675228</td>\n",
       "    </tr>\n",
       "    <tr>\n",
       "      <th>2021-02-15</th>\n",
       "      <td>48696.535156</td>\n",
       "      <td>48875.570312</td>\n",
       "      <td>46347.476562</td>\n",
       "      <td>47945.058594</td>\n",
       "      <td>77069903166</td>\n",
       "    </tr>\n",
       "    <tr>\n",
       "      <th>2021-02-16</th>\n",
       "      <td>48404.597656</td>\n",
       "      <td>50335.714844</td>\n",
       "      <td>47237.464844</td>\n",
       "      <td>49085.398438</td>\n",
       "      <td>76979625984</td>\n",
       "    </tr>\n",
       "  </tbody>\n",
       "</table>\n",
       "<p>2341 rows × 5 columns</p>\n",
       "</div>"
      ],
      "text/plain": [
       "                    Open          High           Low         Close  \\\n",
       "Date                                                                 \n",
       "2014-09-17    465.864014    468.174011    452.421997    457.334015   \n",
       "2014-09-18    456.859985    456.859985    413.104004    424.440002   \n",
       "2014-09-19    424.102997    427.834991    384.532013    394.795990   \n",
       "2014-09-20    394.673004    423.295990    389.882996    408.903992   \n",
       "2014-09-21    408.084991    412.425995    393.181000    398.821014   \n",
       "...                  ...           ...           ...           ...   \n",
       "2021-02-12  47877.035156  48745.734375  46424.976562  47504.851562   \n",
       "2021-02-13  47491.203125  48047.746094  46392.281250  47105.515625   \n",
       "2021-02-14  47114.507812  49487.640625  47114.507812  48717.289062   \n",
       "2021-02-15  48696.535156  48875.570312  46347.476562  47945.058594   \n",
       "2021-02-16  48404.597656  50335.714844  47237.464844  49085.398438   \n",
       "\n",
       "                 Volume  \n",
       "Date                     \n",
       "2014-09-17     21056800  \n",
       "2014-09-18     34483200  \n",
       "2014-09-19     37919700  \n",
       "2014-09-20     36863600  \n",
       "2014-09-21     26580100  \n",
       "...                 ...  \n",
       "2021-02-12  76555041196  \n",
       "2021-02-13  70250456155  \n",
       "2021-02-14  71248675228  \n",
       "2021-02-15  77069903166  \n",
       "2021-02-16  76979625984  \n",
       "\n",
       "[2341 rows x 5 columns]"
      ]
     },
     "execution_count": 13,
     "metadata": {},
     "output_type": "execute_result"
    }
   ],
   "source": [
    "#data=pd.read_csv('dataset.csv')\n",
    "data = yf.download(tickers='BTC-USD', period='max', interval='1d', group_by='column', auto_adjust = True, prepost = True, threads = True, proxy = None)\n",
    "\n",
    "\n",
    "data.apply(pd.to_numeric, errors='coerce')\n",
    "\n",
    "#data=data.dropna()\n",
    "#data=data.dropna(inplace=True)\n",
    "#data=data.dropna(subset=['Close'])\n",
    "#data=data.dropna(how='any',axis=1)\n",
    "\n",
    "data.dropna(subset=['Close'], inplace=True)\n",
    "data.reset_index(drop=True)\n",
    "\n",
    "data"
   ]
  },
  {
   "cell_type": "code",
   "execution_count": 14,
   "metadata": {},
   "outputs": [
    {
     "data": {
      "text/plain": [
       "Date\n",
       "2014-09-17      457.334015\n",
       "2014-09-18      424.440002\n",
       "2014-09-19      394.795990\n",
       "2014-09-20      408.903992\n",
       "2014-09-21      398.821014\n",
       "                  ...     \n",
       "2021-02-12    47504.851562\n",
       "2021-02-13    47105.515625\n",
       "2021-02-14    48717.289062\n",
       "2021-02-15    47945.058594\n",
       "2021-02-16    49085.398438\n",
       "Name: Close, Length: 2341, dtype: float64"
      ]
     },
     "execution_count": 14,
     "metadata": {},
     "output_type": "execute_result"
    }
   ],
   "source": [
    "df1=data['Close']\n",
    "df1"
   ]
  },
  {
   "cell_type": "code",
   "execution_count": 15,
   "metadata": {},
   "outputs": [
    {
     "data": {
      "text/plain": [
       "[<matplotlib.lines.Line2D at 0x14dc24377f0>]"
      ]
     },
     "execution_count": 15,
     "metadata": {},
     "output_type": "execute_result"
    },
    {
     "data": {
      "image/png": "[encoded data removed]",
      "text/plain": [
       "<Figure size 432x288 with 1 Axes>"
      ]
     },
     "metadata": {
      "needs_background": "light"
     },
     "output_type": "display_data"
    }
   ],
   "source": [
    "plt.plot(df1)"
   ]
  },
  {
   "cell_type": "code",
   "execution_count": 16,
   "metadata": {},
   "outputs": [],
   "source": [
    "import numpy as np"
   ]
  },
  {
   "cell_type": "code",
   "execution_count": 17,
   "metadata": {},
   "outputs": [
    {
     "data": {
      "text/plain": [
       "Date\n",
       "2014-09-17      457.334015\n",
       "2014-09-18      424.440002\n",
       "2014-09-19      394.795990\n",
       "2014-09-20      408.903992\n",
       "2014-09-21      398.821014\n",
       "                  ...     \n",
       "2021-02-12    47504.851562\n",
       "2021-02-13    47105.515625\n",
       "2021-02-14    48717.289062\n",
       "2021-02-15    47945.058594\n",
       "2021-02-16    49085.398438\n",
       "Name: Close, Length: 2341, dtype: float64"
      ]
     },
     "execution_count": 17,
     "metadata": {},
     "output_type": "execute_result"
    }
   ],
   "source": [
    "df1"
   ]
  },
  {
   "cell_type": "code",
   "execution_count": 18,
   "metadata": {},
   "outputs": [],
   "source": [
    "from sklearn.preprocessing import MinMaxScaler\n",
    "scaler=MinMaxScaler(feature_range=(0,1))\n",
    "df1=scaler.fit_transform(np.array(df1).reshape(-1,1))"
   ]
  },
  {
   "cell_type": "code",
   "execution_count": 19,
   "metadata": {},
   "outputs": [],
   "source": [
    "training_size=int(len(df1)*0.65)\n",
    "test_size=len(df1)-training_size\n",
    "train_data,test_data=df1[0:training_size,:],df1[training_size:len(df1),:1]"
   ]
  },
  {
   "cell_type": "code",
   "execution_count": 20,
   "metadata": {},
   "outputs": [
    {
     "data": {
      "text/plain": [
       "(1521, 820)"
      ]
     },
     "execution_count": 20,
     "metadata": {},
     "output_type": "execute_result"
    }
   ],
   "source": [
    "training_size,test_size"
   ]
  },
  {
   "cell_type": "code",
   "execution_count": 21,
   "metadata": {},
   "outputs": [],
   "source": [
    "import numpy\n",
    "# convert an array of values into a dataset matrix\n",
    "def create_dataset(dataset, time_step=1):\n",
    "\tdataX, dataY = [], []\n",
    "\tfor i in range(len(dataset)-time_step-1):\n",
    "\t\ta = dataset[i:(i+time_step), 0]   ###i=0, 0,1,2,3-----99   100 \n",
    "\t\tdataX.append(a)\n",
    "\t\tdataY.append(dataset[i + time_step, 0])\n",
    "\treturn numpy.array(dataX), numpy.array(dataY)"
   ]
  },
  {
   "cell_type": "code",
   "execution_count": 22,
   "metadata": {},
   "outputs": [],
   "source": [
    "# reshape into X=t,t+1,t+2,t+3 and Y=t+4\n",
    "time_step = 100\n",
    "X_train, y_train = create_dataset(train_data, time_step)\n",
    "X_test, ytest = create_dataset(test_data, time_step)"
   ]
  },
  {
   "cell_type": "code",
   "execution_count": 23,
   "metadata": {},
   "outputs": [
    {
     "name": "stdout",
     "output_type": "stream",
     "text": [
      "(1420, 100)\n",
      "(1420,)\n"
     ]
    },
    {
     "data": {
      "text/plain": [
       "(None, None)"
      ]
     },
     "execution_count": 23,
     "metadata": {},
     "output_type": "execute_result"
    }
   ],
   "source": [
    "print(X_train.shape), print(y_train.shape)"
   ]
  },
  {
   "cell_type": "markdown",
   "metadata": {},
   "source": []
  },
  {
   "cell_type": "code",
   "execution_count": 24,
   "metadata": {},
   "outputs": [
    {
     "name": "stdout",
     "output_type": "stream",
     "text": [
      "(719, 100)\n",
      "(719,)\n"
     ]
    },
    {
     "data": {
      "text/plain": [
       "(None, None)"
      ]
     },
     "execution_count": 24,
     "metadata": {},
     "output_type": "execute_result"
    }
   ],
   "source": [
    "print(X_test.shape), print(ytest.shape)"
   ]
  },
  {
   "cell_type": "code",
   "execution_count": 25,
   "metadata": {},
   "outputs": [
    {
     "data": {
      "text/plain": [
       "100"
      ]
     },
     "execution_count": 25,
     "metadata": {},
     "output_type": "execute_result"
    }
   ],
   "source": [
    "X_train.shape[1]"
   ]
  },
  {
   "cell_type": "code",
   "execution_count": 26,
   "metadata": {},
   "outputs": [],
   "source": [
    "# reshape input to be [samples, time steps, features] which is required for LSTM\n",
    "X_train =X_train.reshape(X_train.shape[0],X_train.shape[1] , 1)\n",
    "X_test = X_test.reshape(X_test.shape[0],X_test.shape[1] , 1)"
   ]
  },
  {
   "cell_type": "code",
   "execution_count": 27,
   "metadata": {},
   "outputs": [],
   "source": [
    "### Create the Stacked LSTM model\n",
    "from tensorflow.keras.models import Sequential\n",
    "from tensorflow.keras.layers import Dense\n",
    "from tensorflow.keras.layers import LSTM\n",
    "from keras.optimizers import Adam, Adadelta, SGD, RMSprop"
   ]
  },
  {
   "cell_type": "code",
   "execution_count": 28,
   "metadata": {},
   "outputs": [],
   "source": [
    "#opt = Adam(lr=0.0001)\n",
    "#opt = Adam(lr=0.0025)\n",
    "#opt = Adadelta(lr=1, rho=0.95, epsilon=1e-6, decay=0, clipnorm=NULL, clipvalue=NULL)\n",
    "#opt = Adadelta(lr=1, rho=0.95, epsilon=1e-6, decay=0)\n",
    "#opt = RMSprop(lr=0.001, rho=0.9, momentum=0.0, epsilon=1e-07, centered=False)\n",
    "\n",
    "opt = RMSprop(lr=0.0005, rho=0.9, momentum=0.0, epsilon=1e-07, centered=True)\n",
    "\n",
    "model=Sequential()\n",
    "model.add(LSTM(50,return_sequences=True,input_shape=(100,1)))\n",
    "model.add(LSTM(50,return_sequences=True))\n",
    "model.add(LSTM(50))\n",
    "model.add(Dense(1))\n",
    "\n",
    "#model.compile(loss='mean_squared_error',optimizer='adam')\n",
    "model.compile(optimizer=opt, loss='mean_squared_error')"
   ]
  },
  {
   "cell_type": "code",
   "execution_count": 29,
   "metadata": {},
   "outputs": [
    {
     "name": "stdout",
     "output_type": "stream",
     "text": [
      "Model: \"sequential\"\n",
      "_________________________________________________________________\n",
      "Layer (type)                 Output Shape              Param #   \n",
      "=================================================================\n",
      "lstm (LSTM)                  (None, 100, 50)           10400     \n",
      "_________________________________________________________________\n",
      "lstm_1 (LSTM)                (None, 100, 50)           20200     \n",
      "_________________________________________________________________\n",
      "lstm_2 (LSTM)                (None, 50)                20200     \n",
      "_________________________________________________________________\n",
      "dense (Dense)                (None, 1)                 51        \n",
      "=================================================================\n",
      "Total params: 50,851\n",
      "Trainable params: 50,851\n",
      "Non-trainable params: 0\n",
      "_________________________________________________________________\n"
     ]
    }
   ],
   "source": [
    "model.summary()"
   ]
  },
  {
   "cell_type": "code",
   "execution_count": 30,
   "metadata": {},
   "outputs": [
    {
     "name": "stdout",
     "output_type": "stream",
     "text": [
      "Epoch 1/100\n",
      "12/12 [==============================] - 7s 160ms/step - loss: 0.0060 - val_loss: 0.0026\n",
      "Epoch 2/100\n",
      "12/12 [==============================] - 0s 30ms/step - loss: 5.3037e-04 - val_loss: 0.0148\n",
      "Epoch 3/100\n",
      "12/12 [==============================] - 0s 28ms/step - loss: 8.5545e-04 - val_loss: 0.0034\n",
      "Epoch 4/100\n",
      "12/12 [==============================] - 0s 29ms/step - loss: 4.0242e-04 - val_loss: 0.0023\n",
      "Epoch 5/100\n",
      "12/12 [==============================] - 0s 28ms/step - loss: 6.1525e-04 - val_loss: 0.0021\n",
      "Epoch 6/100\n",
      "12/12 [==============================] - 0s 29ms/step - loss: 4.4099e-04 - val_loss: 0.0037\n",
      "Epoch 7/100\n",
      "12/12 [==============================] - 0s 28ms/step - loss: 4.2824e-04 - val_loss: 0.0035\n",
      "Epoch 8/100\n",
      "12/12 [==============================] - 0s 28ms/step - loss: 3.4993e-04 - val_loss: 0.0044\n",
      "Epoch 9/100\n",
      "12/12 [==============================] - 0s 28ms/step - loss: 3.2629e-04 - val_loss: 0.0022\n",
      "Epoch 10/100\n",
      "12/12 [==============================] - 0s 29ms/step - loss: 3.1491e-04 - val_loss: 0.0056\n",
      "Epoch 11/100\n",
      "12/12 [==============================] - 0s 29ms/step - loss: 3.1787e-04 - val_loss: 0.0036\n",
      "Epoch 12/100\n",
      "12/12 [==============================] - 0s 29ms/step - loss: 2.5543e-04 - val_loss: 0.0048\n",
      "Epoch 13/100\n",
      "12/12 [==============================] - 0s 29ms/step - loss: 2.9531e-04 - val_loss: 0.0031\n",
      "Epoch 14/100\n",
      "12/12 [==============================] - 0s 28ms/step - loss: 3.1746e-04 - val_loss: 0.0064\n",
      "Epoch 15/100\n",
      "12/12 [==============================] - 0s 27ms/step - loss: 3.2138e-04 - val_loss: 0.0038\n",
      "Epoch 16/100\n",
      "12/12 [==============================] - 0s 28ms/step - loss: 2.5757e-04 - val_loss: 0.0034\n",
      "Epoch 17/100\n",
      "12/12 [==============================] - 0s 28ms/step - loss: 2.7105e-04 - val_loss: 0.0039\n",
      "Epoch 18/100\n",
      "12/12 [==============================] - 0s 29ms/step - loss: 1.5828e-04 - val_loss: 0.0045\n",
      "Epoch 19/100\n",
      "12/12 [==============================] - 0s 28ms/step - loss: 2.2726e-04 - val_loss: 0.0047\n",
      "Epoch 20/100\n",
      "12/12 [==============================] - 0s 29ms/step - loss: 4.9941e-04 - val_loss: 0.0036\n",
      "Epoch 21/100\n",
      "12/12 [==============================] - 0s 28ms/step - loss: 1.4910e-04 - val_loss: 0.0049\n",
      "Epoch 22/100\n",
      "12/12 [==============================] - 0s 32ms/step - loss: 1.5885e-04 - val_loss: 0.0017\n",
      "Epoch 23/100\n",
      "12/12 [==============================] - 0s 28ms/step - loss: 2.2977e-04 - val_loss: 0.0045\n",
      "Epoch 24/100\n",
      "12/12 [==============================] - 0s 29ms/step - loss: 2.0036e-04 - val_loss: 0.0065\n",
      "Epoch 25/100\n",
      "12/12 [==============================] - 0s 29ms/step - loss: 2.1270e-04 - val_loss: 0.0040\n",
      "Epoch 26/100\n",
      "12/12 [==============================] - 0s 29ms/step - loss: 1.6194e-04 - val_loss: 0.0021\n",
      "Epoch 27/100\n",
      "12/12 [==============================] - 0s 29ms/step - loss: 2.1990e-04 - val_loss: 0.0020\n",
      "Epoch 28/100\n",
      "12/12 [==============================] - 0s 28ms/step - loss: 2.3716e-04 - val_loss: 0.0026\n",
      "Epoch 29/100\n",
      "12/12 [==============================] - 0s 27ms/step - loss: 1.8970e-04 - val_loss: 0.0018\n",
      "Epoch 30/100\n",
      "12/12 [==============================] - 0s 28ms/step - loss: 2.1731e-04 - val_loss: 0.0058\n",
      "Epoch 31/100\n",
      "12/12 [==============================] - 0s 27ms/step - loss: 2.0067e-04 - val_loss: 0.0036\n",
      "Epoch 32/100\n",
      "12/12 [==============================] - 0s 28ms/step - loss: 1.2968e-04 - val_loss: 0.0014\n",
      "Epoch 33/100\n",
      "12/12 [==============================] - 0s 27ms/step - loss: 1.6077e-04 - val_loss: 0.0020\n",
      "Epoch 34/100\n",
      "12/12 [==============================] - 0s 27ms/step - loss: 1.8862e-04 - val_loss: 0.0014\n",
      "Epoch 35/100\n",
      "12/12 [==============================] - 0s 28ms/step - loss: 1.5729e-04 - val_loss: 0.0019\n",
      "Epoch 36/100\n",
      "12/12 [==============================] - 0s 30ms/step - loss: 1.5487e-04 - val_loss: 0.0016\n",
      "Epoch 37/100\n",
      "12/12 [==============================] - 0s 28ms/step - loss: 1.3665e-04 - val_loss: 0.0014\n",
      "Epoch 38/100\n",
      "12/12 [==============================] - 0s 27ms/step - loss: 1.7660e-04 - val_loss: 0.0018\n",
      "Epoch 39/100\n",
      "12/12 [==============================] - 0s 27ms/step - loss: 1.6683e-04 - val_loss: 0.0037\n",
      "Epoch 40/100\n",
      "12/12 [==============================] - 0s 28ms/step - loss: 1.6860e-04 - val_loss: 0.0056\n",
      "Epoch 41/100\n",
      "12/12 [==============================] - 0s 27ms/step - loss: 2.1116e-04 - val_loss: 0.0024\n",
      "Epoch 42/100\n",
      "12/12 [==============================] - 0s 27ms/step - loss: 1.2169e-04 - val_loss: 0.0055\n",
      "Epoch 43/100\n",
      "12/12 [==============================] - 0s 28ms/step - loss: 1.5258e-04 - val_loss: 0.0041\n",
      "Epoch 44/100\n",
      "12/12 [==============================] - 0s 27ms/step - loss: 4.2964e-04 - val_loss: 0.0026\n",
      "Epoch 45/100\n",
      "12/12 [==============================] - 0s 27ms/step - loss: 8.8832e-05 - val_loss: 0.0031\n",
      "Epoch 46/100\n",
      "12/12 [==============================] - 0s 27ms/step - loss: 1.3472e-04 - val_loss: 0.0025\n",
      "Epoch 47/100\n",
      "12/12 [==============================] - 0s 27ms/step - loss: 1.3427e-04 - val_loss: 0.0018\n",
      "Epoch 48/100\n",
      "12/12 [==============================] - 0s 27ms/step - loss: 1.3398e-04 - val_loss: 0.0012\n",
      "Epoch 49/100\n",
      "12/12 [==============================] - 0s 29ms/step - loss: 1.1549e-04 - val_loss: 0.0017\n",
      "Epoch 50/100\n",
      "12/12 [==============================] - 0s 27ms/step - loss: 1.2283e-04 - val_loss: 0.0013\n",
      "Epoch 51/100\n",
      "12/12 [==============================] - 0s 26ms/step - loss: 2.0011e-04 - val_loss: 0.0011\n",
      "Epoch 52/100\n",
      "12/12 [==============================] - 0s 27ms/step - loss: 9.3639e-05 - val_loss: 0.0043\n",
      "Epoch 53/100\n",
      "12/12 [==============================] - 0s 28ms/step - loss: 3.4931e-04 - val_loss: 0.0019\n",
      "Epoch 54/100\n",
      "12/12 [==============================] - 0s 28ms/step - loss: 9.1083e-05 - val_loss: 0.0027\n",
      "Epoch 55/100\n",
      "12/12 [==============================] - 0s 28ms/step - loss: 1.4005e-04 - val_loss: 0.0024\n",
      "Epoch 56/100\n",
      "12/12 [==============================] - 0s 28ms/step - loss: 2.9089e-04 - val_loss: 0.0011\n",
      "Epoch 57/100\n",
      "12/12 [==============================] - 0s 30ms/step - loss: 9.2986e-05 - val_loss: 0.0016\n",
      "Epoch 58/100\n",
      "12/12 [==============================] - 0s 29ms/step - loss: 1.1977e-04 - val_loss: 0.0011\n",
      "Epoch 59/100\n",
      "12/12 [==============================] - 0s 28ms/step - loss: 1.2986e-04 - val_loss: 6.0473e-04\n",
      "Epoch 60/100\n",
      "12/12 [==============================] - 0s 28ms/step - loss: 1.4665e-04 - val_loss: 0.0026\n",
      "Epoch 61/100\n",
      "12/12 [==============================] - 0s 28ms/step - loss: 1.2773e-04 - val_loss: 0.0022\n",
      "Epoch 62/100\n",
      "12/12 [==============================] - 0s 29ms/step - loss: 1.2075e-04 - val_loss: 0.0068\n",
      "Epoch 63/100\n",
      "12/12 [==============================] - 0s 28ms/step - loss: 2.7118e-04 - val_loss: 0.0017\n",
      "Epoch 64/100\n",
      "12/12 [==============================] - 0s 30ms/step - loss: 1.1712e-04 - val_loss: 9.2225e-04\n",
      "Epoch 65/100\n",
      "12/12 [==============================] - 0s 29ms/step - loss: 1.2907e-04 - val_loss: 0.0037\n",
      "Epoch 66/100\n",
      "12/12 [==============================] - 0s 28ms/step - loss: 9.4815e-05 - val_loss: 0.0021\n",
      "Epoch 67/100\n",
      "12/12 [==============================] - 0s 29ms/step - loss: 1.3126e-04 - val_loss: 0.0012\n",
      "Epoch 68/100\n",
      "12/12 [==============================] - 0s 29ms/step - loss: 8.6362e-05 - val_loss: 0.0011\n",
      "Epoch 69/100\n",
      "12/12 [==============================] - 0s 29ms/step - loss: 1.2426e-04 - val_loss: 0.0019\n",
      "Epoch 70/100\n",
      "12/12 [==============================] - 0s 30ms/step - loss: 1.0448e-04 - val_loss: 0.0030\n",
      "Epoch 71/100\n",
      "12/12 [==============================] - 0s 28ms/step - loss: 2.1553e-04 - val_loss: 0.0015\n",
      "Epoch 72/100\n",
      "12/12 [==============================] - 0s 28ms/step - loss: 1.2495e-04 - val_loss: 6.2656e-04\n",
      "Epoch 73/100\n",
      "12/12 [==============================] - 0s 28ms/step - loss: 1.1627e-04 - val_loss: 0.0017\n",
      "Epoch 74/100\n",
      "12/12 [==============================] - 0s 29ms/step - loss: 1.3789e-04 - val_loss: 0.0011\n",
      "Epoch 75/100\n",
      "12/12 [==============================] - 0s 28ms/step - loss: 9.1621e-05 - val_loss: 5.7665e-04\n",
      "Epoch 76/100\n",
      "12/12 [==============================] - 0s 28ms/step - loss: 1.0527e-04 - val_loss: 0.0016\n",
      "Epoch 77/100\n",
      "12/12 [==============================] - 0s 29ms/step - loss: 1.7863e-04 - val_loss: 0.0017\n",
      "Epoch 78/100\n",
      "12/12 [==============================] - 0s 29ms/step - loss: 9.1380e-05 - val_loss: 0.0031\n"
     ]
    },
    {
     "name": "stdout",
     "output_type": "stream",
     "text": [
      "Epoch 79/100\n",
      "12/12 [==============================] - 0s 28ms/step - loss: 1.1643e-04 - val_loss: 6.8587e-04\n",
      "Epoch 80/100\n",
      "12/12 [==============================] - 0s 29ms/step - loss: 1.3106e-04 - val_loss: 0.0013\n",
      "Epoch 81/100\n",
      "12/12 [==============================] - 0s 28ms/step - loss: 1.0106e-04 - val_loss: 0.0015\n",
      "Epoch 82/100\n",
      "12/12 [==============================] - 0s 29ms/step - loss: 1.1234e-04 - val_loss: 7.0268e-04\n",
      "Epoch 83/100\n",
      "12/12 [==============================] - 0s 28ms/step - loss: 7.4066e-05 - val_loss: 0.0013\n",
      "Epoch 84/100\n",
      "12/12 [==============================] - 0s 28ms/step - loss: 8.4770e-05 - val_loss: 0.0030\n",
      "Epoch 85/100\n",
      "12/12 [==============================] - 0s 30ms/step - loss: 1.2668e-04 - val_loss: 6.1808e-04\n",
      "Epoch 86/100\n",
      "12/12 [==============================] - 0s 28ms/step - loss: 7.2485e-05 - val_loss: 0.0022\n",
      "Epoch 87/100\n",
      "12/12 [==============================] - 0s 29ms/step - loss: 8.6237e-05 - val_loss: 6.6080e-04\n",
      "Epoch 88/100\n",
      "12/12 [==============================] - 0s 29ms/step - loss: 7.4678e-05 - val_loss: 0.0015\n",
      "Epoch 89/100\n",
      "12/12 [==============================] - 0s 30ms/step - loss: 1.5359e-04 - val_loss: 0.0014\n",
      "Epoch 90/100\n",
      "12/12 [==============================] - 0s 30ms/step - loss: 8.8686e-05 - val_loss: 0.0020\n",
      "Epoch 91/100\n",
      "12/12 [==============================] - 0s 29ms/step - loss: 1.1583e-04 - val_loss: 7.8280e-04\n",
      "Epoch 92/100\n",
      "12/12 [==============================] - 0s 28ms/step - loss: 9.9780e-05 - val_loss: 0.0026\n",
      "Epoch 93/100\n",
      "12/12 [==============================] - 0s 28ms/step - loss: 8.4070e-05 - val_loss: 0.0061\n",
      "Epoch 94/100\n",
      "12/12 [==============================] - 0s 28ms/step - loss: 1.7550e-04 - val_loss: 9.0264e-04\n",
      "Epoch 95/100\n",
      "12/12 [==============================] - 0s 28ms/step - loss: 7.9928e-05 - val_loss: 6.9155e-04\n",
      "Epoch 96/100\n",
      "12/12 [==============================] - 0s 28ms/step - loss: 9.7046e-05 - val_loss: 0.0014\n",
      "Epoch 97/100\n",
      "12/12 [==============================] - 0s 28ms/step - loss: 9.7639e-05 - val_loss: 5.9099e-04\n",
      "Epoch 98/100\n",
      "12/12 [==============================] - 0s 28ms/step - loss: 1.0580e-04 - val_loss: 5.3282e-04\n",
      "Epoch 99/100\n",
      "12/12 [==============================] - 0s 27ms/step - loss: 9.6879e-05 - val_loss: 0.0016\n",
      "Epoch 100/100\n",
      "12/12 [==============================] - 0s 28ms/step - loss: 7.6473e-05 - val_loss: 5.4979e-04\n"
     ]
    },
    {
     "data": {
      "text/plain": [
       "<tensorflow.python.keras.callbacks.History at 0x14de30e8310>"
      ]
     },
     "execution_count": 30,
     "metadata": {},
     "output_type": "execute_result"
    }
   ],
   "source": [
    "model.fit(X_train,y_train,validation_data=(X_test,ytest),epochs=100,batch_size=128,verbose=1)"
   ]
  },
  {
   "cell_type": "code",
   "execution_count": 31,
   "metadata": {},
   "outputs": [],
   "source": [
    "import tensorflow as tf\n",
    "### Do the prediction and check performance metrics\n",
    "train_predict=model.predict(X_train)\n",
    "test_predict=model.predict(X_test)\n",
    "##Transformback to original form\n",
    "train_predict=scaler.inverse_transform(train_predict)\n",
    "test_predict=scaler.inverse_transform(test_predict)\n",
    "### Calculate RMSE performance metrics"
   ]
  },
  {
   "cell_type": "code",
   "execution_count": 32,
   "metadata": {},
   "outputs": [
    {
     "data": {
      "text/plain": [
       "5087.950598784388"
      ]
     },
     "execution_count": 32,
     "metadata": {},
     "output_type": "execute_result"
    }
   ],
   "source": [
    "import math\n",
    "from sklearn.metrics import mean_squared_error\n",
    "math.sqrt(mean_squared_error(y_train,train_predict))"
   ]
  },
  {
   "cell_type": "code",
   "execution_count": 33,
   "metadata": {},
   "outputs": [
    {
     "data": {
      "text/plain": [
       "13446.894129227136"
      ]
     },
     "execution_count": 33,
     "metadata": {},
     "output_type": "execute_result"
    }
   ],
   "source": [
    "### Test Data RMSE\n",
    "math.sqrt(mean_squared_error(ytest,test_predict))"
   ]
  },
  {
   "cell_type": "code",
   "execution_count": 34,
   "metadata": {},
   "outputs": [
    {
     "data": {
      "image/png": "[encoded data removed]",
      "text/plain": [
       "<Figure size 432x288 with 1 Axes>"
      ]
     },
     "metadata": {
      "needs_background": "light"
     },
     "output_type": "display_data"
    }
   ],
   "source": [
    "# shift train predictions for plotting\n",
    "look_back=100\n",
    "trainPredictPlot = numpy.empty_like(df1)\n",
    "trainPredictPlot[:, :] = np.nan\n",
    "trainPredictPlot[look_back:len(train_predict)+look_back, :] = train_predict\n",
    "# shift test predictions for plotting\n",
    "testPredictPlot = numpy.empty_like(df1)\n",
    "testPredictPlot[:, :] = numpy.nan\n",
    "testPredictPlot[len(train_predict)+(look_back*2)+1:len(df1)-1, :] = test_predict\n",
    "# plot baseline and predictions\n",
    "plt.plot(scaler.inverse_transform(df1))\n",
    "plt.plot(trainPredictPlot)\n",
    "plt.plot(testPredictPlot)\n",
    "plt.show()"
   ]
  },
  {
   "cell_type": "code",
   "execution_count": 35,
   "metadata": {},
   "outputs": [
    {
     "name": "stdout",
     "output_type": "stream",
     "text": [
      "820\n",
      "720\n"
     ]
    }
   ],
   "source": [
    "len(test_data)\n",
    "tdl_int = len(test_data)\n",
    "tdl_length = tdl_int - 100\n",
    "print(tdl_int)\n",
    "print(tdl_length)"
   ]
  },
  {
   "cell_type": "code",
   "execution_count": 36,
   "metadata": {},
   "outputs": [
    {
     "data": {
      "text/plain": [
       "(1, 100)"
      ]
     },
     "execution_count": 36,
     "metadata": {},
     "output_type": "execute_result"
    }
   ],
   "source": [
    "x_input=test_data[tdl_length:].reshape(1,-1)\n",
    "x_input.shape"
   ]
  },
  {
   "cell_type": "code",
   "execution_count": 37,
   "metadata": {},
   "outputs": [
    {
     "data": {
      "text/plain": [
       "[0.30985586702997897,\n",
       " 0.3090090999870593,\n",
       " 0.3174012528612225,\n",
       " 0.32915826990886315,\n",
       " 0.33000609523586977,\n",
       " 0.3249011324767277,\n",
       " 0.32259982384299785,\n",
       " 0.3381501304107069,\n",
       " 0.3571512817420511,\n",
       " 0.3603941437311665,\n",
       " 0.3606616699612945,\n",
       " 0.3771055277156157,\n",
       " 0.37753323422773255,\n",
       " 0.3719669794124315,\n",
       " 0.37184673437900634,\n",
       " 0.3870457705003494,\n",
       " 0.37937117417237814,\n",
       " 0.3470345251586659,\n",
       " 0.34617124489046514,\n",
       " 0.3586236144860963,\n",
       " 0.36803060189675946,\n",
       " 0.397644825080638,\n",
       " 0.3808203844075051,\n",
       " 0.3889601465107459,\n",
       " 0.39395544707733215,\n",
       " 0.3787096068446725,\n",
       " 0.38800198009195785,\n",
       " 0.3919050915455764,\n",
       " 0.3887667001667035,\n",
       " 0.3709679991696114,\n",
       " 0.37572744215818066,\n",
       " 0.36981986077340595,\n",
       " 0.3656060131507135,\n",
       " 0.380833842586271,\n",
       " 0.38775973287417065,\n",
       " 0.3898915563129963,\n",
       " 0.39337634603791044,\n",
       " 0.43209289062115985,\n",
       " 0.4626520217213033,\n",
       " 0.46945670852981225,\n",
       " 0.48442116500109234,\n",
       " 0.47639501868001516,\n",
       " 0.462609490681583,\n",
       " 0.4826463227491773,\n",
       " 0.4715706010420328,\n",
       " 0.4816836835825501,\n",
       " 0.5006755699362274,\n",
       " 0.5369124151304131,\n",
       " 0.533543956784565,\n",
       " 0.5501572997337904,\n",
       " 0.5558339355761213,\n",
       " 0.5860649187388172,\n",
       " 0.5893521088538383,\n",
       " 0.596967161726201,\n",
       " 0.653259688425303,\n",
       " 0.6666473814775439,\n",
       " 0.6500831988193004,\n",
       " 0.691396373199408,\n",
       " 0.7493004868542967,\n",
       " 0.801372057456462,\n",
       " 0.8305408428778613,\n",
       " 0.819436926885231,\n",
       " 0.7806266542736026,\n",
       " 0.7235843432827177,\n",
       " 0.6899759562784955,\n",
       " 0.7593602558379816,\n",
       " 0.7976156681060663,\n",
       " 0.7493210135720585,\n",
       " 0.7360872709030306,\n",
       " 0.7281771364790308,\n",
       " 0.7453278880681774,\n",
       " 0.7338721425357011,\n",
       " 0.7231977700766214,\n",
       " 0.6266467189767297,\n",
       " 0.6712221239415062,\n",
       " 0.6520405451571514,\n",
       " 0.6565743539913359,\n",
       " 0.6581490407774498,\n",
       " 0.662309095620327,\n",
       " 0.618607993052355,\n",
       " 0.643493004230827,\n",
       " 0.6980202731376691,\n",
       " 0.6970620667836326,\n",
       " 0.6734426036321431,\n",
       " 0.6820878661117029,\n",
       " 0.7224318120091703,\n",
       " 0.7625444529469569,\n",
       " 0.751379995117504,\n",
       " 0.7762892070566056,\n",
       " 0.7992244995297022,\n",
       " 0.7918110797273373,\n",
       " 0.9409304160510292,\n",
       " 0.9467504194357037,\n",
       " 0.9147935945710806,\n",
       " 0.9759531498183822,\n",
       " 0.9676827994523383,\n",
       " 0.9595176385310109,\n",
       " 0.9924733238327086,\n",
       " 0.9766836453851089,\n",
       " 1.0000000000000002]"
      ]
     },
     "execution_count": 37,
     "metadata": {},
     "output_type": "execute_result"
    }
   ],
   "source": [
    "temp_input=list(x_input)\n",
    "temp_input=temp_input[0].tolist()\n",
    "\n",
    "temp_input"
   ]
  },
  {
   "cell_type": "code",
   "execution_count": 38,
   "metadata": {},
   "outputs": [
    {
     "name": "stdout",
     "output_type": "stream",
     "text": [
      "[0.8735858]\n",
      "101\n",
      "1 day input [0.3090091  0.31740125 0.32915827 0.3300061  0.32490113 0.32259982\n",
      " 0.33815013 0.35715128 0.36039414 0.36066167 0.37710553 0.37753323\n",
      " 0.37196698 0.37184673 0.38704577 0.37937117 0.34703453 0.34617124\n",
      " 0.35862361 0.3680306  0.39764483 0.38082038 0.38896015 0.39395545\n",
      " 0.37870961 0.38800198 0.39190509 0.3887667  0.370968   0.37572744\n",
      " 0.36981986 0.36560601 0.38083384 0.38775973 0.38989156 0.39337635\n",
      " 0.43209289 0.46265202 0.46945671 0.48442117 0.47639502 0.46260949\n",
      " 0.48264632 0.4715706  0.48168368 0.50067557 0.53691242 0.53354396\n",
      " 0.5501573  0.55583394 0.58606492 0.58935211 0.59696716 0.65325969\n",
      " 0.66664738 0.6500832  0.69139637 0.74930049 0.80137206 0.83054084\n",
      " 0.81943693 0.78062665 0.72358434 0.68997596 0.75936026 0.79761567\n",
      " 0.74932101 0.73608727 0.72817714 0.74532789 0.73387214 0.72319777\n",
      " 0.62664672 0.67122212 0.65204055 0.65657435 0.65814904 0.6623091\n",
      " 0.61860799 0.643493   0.69802027 0.69706207 0.6734426  0.68208787\n",
      " 0.72243181 0.76254445 0.75138    0.77628921 0.7992245  0.79181108\n",
      " 0.94093042 0.94675042 0.91479359 0.97595315 0.9676828  0.95951764\n",
      " 0.99247332 0.97668365 1.         0.87358582]\n",
      "1 day output [[0.82421255]]\n",
      "2 day input [0.31740125 0.32915827 0.3300061  0.32490113 0.32259982 0.33815013\n",
      " 0.35715128 0.36039414 0.36066167 0.37710553 0.37753323 0.37196698\n",
      " 0.37184673 0.38704577 0.37937117 0.34703453 0.34617124 0.35862361\n",
      " 0.3680306  0.39764483 0.38082038 0.38896015 0.39395545 0.37870961\n",
      " 0.38800198 0.39190509 0.3887667  0.370968   0.37572744 0.36981986\n",
      " 0.36560601 0.38083384 0.38775973 0.38989156 0.39337635 0.43209289\n",
      " 0.46265202 0.46945671 0.48442117 0.47639502 0.46260949 0.48264632\n",
      " 0.4715706  0.48168368 0.50067557 0.53691242 0.53354396 0.5501573\n",
      " 0.55583394 0.58606492 0.58935211 0.59696716 0.65325969 0.66664738\n",
      " 0.6500832  0.69139637 0.74930049 0.80137206 0.83054084 0.81943693\n",
      " 0.78062665 0.72358434 0.68997596 0.75936026 0.79761567 0.74932101\n",
      " 0.73608727 0.72817714 0.74532789 0.73387214 0.72319777 0.62664672\n",
      " 0.67122212 0.65204055 0.65657435 0.65814904 0.6623091  0.61860799\n",
      " 0.643493   0.69802027 0.69706207 0.6734426  0.68208787 0.72243181\n",
      " 0.76254445 0.75138    0.77628921 0.7992245  0.79181108 0.94093042\n",
      " 0.94675042 0.91479359 0.97595315 0.9676828  0.95951764 0.99247332\n",
      " 0.97668365 1.         0.87358582 0.82421255]\n",
      "2 day output [[0.7613985]]\n",
      "3 day input [0.32915827 0.3300061  0.32490113 0.32259982 0.33815013 0.35715128\n",
      " 0.36039414 0.36066167 0.37710553 0.37753323 0.37196698 0.37184673\n",
      " 0.38704577 0.37937117 0.34703453 0.34617124 0.35862361 0.3680306\n",
      " 0.39764483 0.38082038 0.38896015 0.39395545 0.37870961 0.38800198\n",
      " 0.39190509 0.3887667  0.370968   0.37572744 0.36981986 0.36560601\n",
      " 0.38083384 0.38775973 0.38989156 0.39337635 0.43209289 0.46265202\n",
      " 0.46945671 0.48442117 0.47639502 0.46260949 0.48264632 0.4715706\n",
      " 0.48168368 0.50067557 0.53691242 0.53354396 0.5501573  0.55583394\n",
      " 0.58606492 0.58935211 0.59696716 0.65325969 0.66664738 0.6500832\n",
      " 0.69139637 0.74930049 0.80137206 0.83054084 0.81943693 0.78062665\n",
      " 0.72358434 0.68997596 0.75936026 0.79761567 0.74932101 0.73608727\n",
      " 0.72817714 0.74532789 0.73387214 0.72319777 0.62664672 0.67122212\n",
      " 0.65204055 0.65657435 0.65814904 0.6623091  0.61860799 0.643493\n",
      " 0.69802027 0.69706207 0.6734426  0.68208787 0.72243181 0.76254445\n",
      " 0.75138    0.77628921 0.7992245  0.79181108 0.94093042 0.94675042\n",
      " 0.91479359 0.97595315 0.9676828  0.95951764 0.99247332 0.97668365\n",
      " 1.         0.87358582 0.82421255 0.76139849]\n",
      "3 day output [[0.7006462]]\n",
      "4 day input [0.3300061  0.32490113 0.32259982 0.33815013 0.35715128 0.36039414\n",
      " 0.36066167 0.37710553 0.37753323 0.37196698 0.37184673 0.38704577\n",
      " 0.37937117 0.34703453 0.34617124 0.35862361 0.3680306  0.39764483\n",
      " 0.38082038 0.38896015 0.39395545 0.37870961 0.38800198 0.39190509\n",
      " 0.3887667  0.370968   0.37572744 0.36981986 0.36560601 0.38083384\n",
      " 0.38775973 0.38989156 0.39337635 0.43209289 0.46265202 0.46945671\n",
      " 0.48442117 0.47639502 0.46260949 0.48264632 0.4715706  0.48168368\n",
      " 0.50067557 0.53691242 0.53354396 0.5501573  0.55583394 0.58606492\n",
      " 0.58935211 0.59696716 0.65325969 0.66664738 0.6500832  0.69139637\n",
      " 0.74930049 0.80137206 0.83054084 0.81943693 0.78062665 0.72358434\n",
      " 0.68997596 0.75936026 0.79761567 0.74932101 0.73608727 0.72817714\n",
      " 0.74532789 0.73387214 0.72319777 0.62664672 0.67122212 0.65204055\n",
      " 0.65657435 0.65814904 0.6623091  0.61860799 0.643493   0.69802027\n",
      " 0.69706207 0.6734426  0.68208787 0.72243181 0.76254445 0.75138\n",
      " 0.77628921 0.7992245  0.79181108 0.94093042 0.94675042 0.91479359\n",
      " 0.97595315 0.9676828  0.95951764 0.99247332 0.97668365 1.\n",
      " 0.87358582 0.82421255 0.76139849 0.70064622]\n",
      "4 day output [[0.64805657]]\n",
      "5 day input [0.32490113 0.32259982 0.33815013 0.35715128 0.36039414 0.36066167\n",
      " 0.37710553 0.37753323 0.37196698 0.37184673 0.38704577 0.37937117\n",
      " 0.34703453 0.34617124 0.35862361 0.3680306  0.39764483 0.38082038\n",
      " 0.38896015 0.39395545 0.37870961 0.38800198 0.39190509 0.3887667\n",
      " 0.370968   0.37572744 0.36981986 0.36560601 0.38083384 0.38775973\n",
      " 0.38989156 0.39337635 0.43209289 0.46265202 0.46945671 0.48442117\n",
      " 0.47639502 0.46260949 0.48264632 0.4715706  0.48168368 0.50067557\n",
      " 0.53691242 0.53354396 0.5501573  0.55583394 0.58606492 0.58935211\n",
      " 0.59696716 0.65325969 0.66664738 0.6500832  0.69139637 0.74930049\n",
      " 0.80137206 0.83054084 0.81943693 0.78062665 0.72358434 0.68997596\n",
      " 0.75936026 0.79761567 0.74932101 0.73608727 0.72817714 0.74532789\n",
      " 0.73387214 0.72319777 0.62664672 0.67122212 0.65204055 0.65657435\n",
      " 0.65814904 0.6623091  0.61860799 0.643493   0.69802027 0.69706207\n",
      " 0.6734426  0.68208787 0.72243181 0.76254445 0.75138    0.77628921\n",
      " 0.7992245  0.79181108 0.94093042 0.94675042 0.91479359 0.97595315\n",
      " 0.9676828  0.95951764 0.99247332 0.97668365 1.         0.87358582\n",
      " 0.82421255 0.76139849 0.70064622 0.64805657]\n",
      "5 day output [[0.6063399]]\n",
      "6 day input [0.32259982 0.33815013 0.35715128 0.36039414 0.36066167 0.37710553\n",
      " 0.37753323 0.37196698 0.37184673 0.38704577 0.37937117 0.34703453\n",
      " 0.34617124 0.35862361 0.3680306  0.39764483 0.38082038 0.38896015\n",
      " 0.39395545 0.37870961 0.38800198 0.39190509 0.3887667  0.370968\n",
      " 0.37572744 0.36981986 0.36560601 0.38083384 0.38775973 0.38989156\n",
      " 0.39337635 0.43209289 0.46265202 0.46945671 0.48442117 0.47639502\n",
      " 0.46260949 0.48264632 0.4715706  0.48168368 0.50067557 0.53691242\n",
      " 0.53354396 0.5501573  0.55583394 0.58606492 0.58935211 0.59696716\n",
      " 0.65325969 0.66664738 0.6500832  0.69139637 0.74930049 0.80137206\n",
      " 0.83054084 0.81943693 0.78062665 0.72358434 0.68997596 0.75936026\n",
      " 0.79761567 0.74932101 0.73608727 0.72817714 0.74532789 0.73387214\n",
      " 0.72319777 0.62664672 0.67122212 0.65204055 0.65657435 0.65814904\n",
      " 0.6623091  0.61860799 0.643493   0.69802027 0.69706207 0.6734426\n",
      " 0.68208787 0.72243181 0.76254445 0.75138    0.77628921 0.7992245\n",
      " 0.79181108 0.94093042 0.94675042 0.91479359 0.97595315 0.9676828\n",
      " 0.95951764 0.99247332 0.97668365 1.         0.87358582 0.82421255\n",
      " 0.76139849 0.70064622 0.64805657 0.60633987]\n",
      "6 day output [[0.5764828]]\n",
      "7 day input [0.33815013 0.35715128 0.36039414 0.36066167 0.37710553 0.37753323\n",
      " 0.37196698 0.37184673 0.38704577 0.37937117 0.34703453 0.34617124\n",
      " 0.35862361 0.3680306  0.39764483 0.38082038 0.38896015 0.39395545\n",
      " 0.37870961 0.38800198 0.39190509 0.3887667  0.370968   0.37572744\n",
      " 0.36981986 0.36560601 0.38083384 0.38775973 0.38989156 0.39337635\n",
      " 0.43209289 0.46265202 0.46945671 0.48442117 0.47639502 0.46260949\n",
      " 0.48264632 0.4715706  0.48168368 0.50067557 0.53691242 0.53354396\n",
      " 0.5501573  0.55583394 0.58606492 0.58935211 0.59696716 0.65325969\n",
      " 0.66664738 0.6500832  0.69139637 0.74930049 0.80137206 0.83054084\n",
      " 0.81943693 0.78062665 0.72358434 0.68997596 0.75936026 0.79761567\n",
      " 0.74932101 0.73608727 0.72817714 0.74532789 0.73387214 0.72319777\n",
      " 0.62664672 0.67122212 0.65204055 0.65657435 0.65814904 0.6623091\n",
      " 0.61860799 0.643493   0.69802027 0.69706207 0.6734426  0.68208787\n",
      " 0.72243181 0.76254445 0.75138    0.77628921 0.7992245  0.79181108\n",
      " 0.94093042 0.94675042 0.91479359 0.97595315 0.9676828  0.95951764\n",
      " 0.99247332 0.97668365 1.         0.87358582 0.82421255 0.76139849\n",
      " 0.70064622 0.64805657 0.60633987 0.57648277]\n",
      "7 day output [[0.55793273]]\n",
      "8 day input [0.35715128 0.36039414 0.36066167 0.37710553 0.37753323 0.37196698\n",
      " 0.37184673 0.38704577 0.37937117 0.34703453 0.34617124 0.35862361\n",
      " 0.3680306  0.39764483 0.38082038 0.38896015 0.39395545 0.37870961\n",
      " 0.38800198 0.39190509 0.3887667  0.370968   0.37572744 0.36981986\n",
      " 0.36560601 0.38083384 0.38775973 0.38989156 0.39337635 0.43209289\n",
      " 0.46265202 0.46945671 0.48442117 0.47639502 0.46260949 0.48264632\n",
      " 0.4715706  0.48168368 0.50067557 0.53691242 0.53354396 0.5501573\n",
      " 0.55583394 0.58606492 0.58935211 0.59696716 0.65325969 0.66664738\n",
      " 0.6500832  0.69139637 0.74930049 0.80137206 0.83054084 0.81943693\n",
      " 0.78062665 0.72358434 0.68997596 0.75936026 0.79761567 0.74932101\n",
      " 0.73608727 0.72817714 0.74532789 0.73387214 0.72319777 0.62664672\n",
      " 0.67122212 0.65204055 0.65657435 0.65814904 0.6623091  0.61860799\n",
      " 0.643493   0.69802027 0.69706207 0.6734426  0.68208787 0.72243181\n",
      " 0.76254445 0.75138    0.77628921 0.7992245  0.79181108 0.94093042\n",
      " 0.94675042 0.91479359 0.97595315 0.9676828  0.95951764 0.99247332\n",
      " 0.97668365 1.         0.87358582 0.82421255 0.76139849 0.70064622\n",
      " 0.64805657 0.60633987 0.57648277 0.55793273]\n",
      "8 day output [[0.5489316]]\n",
      "9 day input [0.36039414 0.36066167 0.37710553 0.37753323 0.37196698 0.37184673\n",
      " 0.38704577 0.37937117 0.34703453 0.34617124 0.35862361 0.3680306\n",
      " 0.39764483 0.38082038 0.38896015 0.39395545 0.37870961 0.38800198\n",
      " 0.39190509 0.3887667  0.370968   0.37572744 0.36981986 0.36560601\n",
      " 0.38083384 0.38775973 0.38989156 0.39337635 0.43209289 0.46265202\n",
      " 0.46945671 0.48442117 0.47639502 0.46260949 0.48264632 0.4715706\n",
      " 0.48168368 0.50067557 0.53691242 0.53354396 0.5501573  0.55583394\n",
      " 0.58606492 0.58935211 0.59696716 0.65325969 0.66664738 0.6500832\n",
      " 0.69139637 0.74930049 0.80137206 0.83054084 0.81943693 0.78062665\n",
      " 0.72358434 0.68997596 0.75936026 0.79761567 0.74932101 0.73608727\n",
      " 0.72817714 0.74532789 0.73387214 0.72319777 0.62664672 0.67122212\n",
      " 0.65204055 0.65657435 0.65814904 0.6623091  0.61860799 0.643493\n",
      " 0.69802027 0.69706207 0.6734426  0.68208787 0.72243181 0.76254445\n",
      " 0.75138    0.77628921 0.7992245  0.79181108 0.94093042 0.94675042\n",
      " 0.91479359 0.97595315 0.9676828  0.95951764 0.99247332 0.97668365\n",
      " 1.         0.87358582 0.82421255 0.76139849 0.70064622 0.64805657\n",
      " 0.60633987 0.57648277 0.55793273 0.5489316 ]\n",
      "9 day output [[0.54718006]]\n",
      "[[0.8735858201980591], [0.8242125511169434], [0.7613984942436218], [0.7006462216377258], [0.6480565667152405], [0.6063398718833923], [0.5764827728271484], [0.5579327344894409], [0.5489315986633301], [0.5471800565719604]]\n"
     ]
    }
   ],
   "source": [
    "# demonstrate prediction for next 10 days\n",
    "from numpy import array\n",
    "\n",
    "lst_output=[]\n",
    "n_steps=100\n",
    "i=0\n",
    "\n",
    "#Ten Days\n",
    "#while(i<10):\n",
    "\n",
    "while(i<10):\n",
    "    \n",
    "    if(len(temp_input)>100):\n",
    "        #print(temp_input)\n",
    "        x_input=np.array(temp_input[1:])\n",
    "        print(\"{} day input {}\".format(i,x_input))\n",
    "        x_input=x_input.reshape(1,-1)\n",
    "        x_input = x_input.reshape((1, n_steps, 1))\n",
    "        #print(x_input)\n",
    "        yhat = model.predict(x_input, verbose=0)\n",
    "        print(\"{} day output {}\".format(i,yhat))\n",
    "        temp_input.extend(yhat[0].tolist())\n",
    "        temp_input=temp_input[1:]\n",
    "        #print(temp_input)\n",
    "        lst_output.extend(yhat.tolist())\n",
    "        i=i+1\n",
    "    else:\n",
    "        x_input = x_input.reshape((1, n_steps,1))\n",
    "        yhat = model.predict(x_input, verbose=0)\n",
    "        print(yhat[0])\n",
    "        temp_input.extend(yhat[0].tolist())\n",
    "        print(len(temp_input))\n",
    "        lst_output.extend(yhat.tolist())\n",
    "        i=i+1\n",
    "    \n",
    "\n",
    "print(lst_output)"
   ]
  },
  {
   "cell_type": "code",
   "execution_count": 39,
   "metadata": {},
   "outputs": [],
   "source": [
    "day_new=np.arange(1,101)\n",
    "\n",
    "#Ten Days\n",
    "#day_pred=np.arange(101,111)\n",
    "\n",
    "day_pred=np.arange(101,111)"
   ]
  },
  {
   "cell_type": "code",
   "execution_count": 40,
   "metadata": {},
   "outputs": [],
   "source": [
    "import matplotlib.pyplot as plt"
   ]
  },
  {
   "cell_type": "code",
   "execution_count": 41,
   "metadata": {},
   "outputs": [
    {
     "name": "stdout",
     "output_type": "stream",
     "text": [
      "2341\n",
      "2241\n"
     ]
    }
   ],
   "source": [
    "len(df1)\n",
    "df2_int = len(df1)\n",
    "df2_length = df2_int - 100\n",
    "print(df2_int)\n",
    "print(df2_length)"
   ]
  },
  {
   "cell_type": "code",
   "execution_count": 42,
   "metadata": {},
   "outputs": [
    {
     "data": {
      "text/plain": [
       "[<matplotlib.lines.Line2D at 0x14dd24ac1c0>]"
      ]
     },
     "execution_count": 42,
     "metadata": {},
     "output_type": "execute_result"
    },
    {
     "data": {
      "image/png": "[encoded data removed]",
      "text/plain": [
       "<Figure size 432x288 with 1 Axes>"
      ]
     },
     "metadata": {
      "needs_background": "light"
     },
     "output_type": "display_data"
    }
   ],
   "source": [
    "#plt.plot(day_new,scaler.inverse_transform(df1[2205:]))\n",
    "\n",
    "plt.plot(day_new,scaler.inverse_transform(df1[df2_length:]))\n",
    "\n",
    "plt.plot(day_pred,scaler.inverse_transform(lst_output))"
   ]
  },
  {
   "cell_type": "code",
   "execution_count": 43,
   "metadata": {},
   "outputs": [
    {
     "data": {
      "text/plain": [
       "[<matplotlib.lines.Line2D at 0x14dd2541730>]"
      ]
     },
     "execution_count": 43,
     "metadata": {},
     "output_type": "execute_result"
    },
    {
     "data": {
      "image/png": "[encoded data removed]",
      "text/plain": [
       "<Figure size 432x288 with 1 Axes>"
      ]
     },
     "metadata": {
      "needs_background": "light"
     },
     "output_type": "display_data"
    }
   ],
   "source": [
    "df3=df1.tolist()\n",
    "df3.extend(lst_output)\n",
    "#plt.plot(df3[2206:])\n",
    "\n",
    "df3_length = df2_length + 1\n",
    "\n",
    "plt.plot(df3[df3_length:])"
   ]
  },
  {
   "cell_type": "code",
   "execution_count": 44,
   "metadata": {},
   "outputs": [
    {
     "data": {
      "text/plain": [
       "[<matplotlib.lines.Line2D at 0x14dd365a280>]"
      ]
     },
     "execution_count": 44,
     "metadata": {},
     "output_type": "execute_result"
    },
    {
     "data": {
      "image/png": "[encoded data removed]",
      "text/plain": [
       "<Figure size 432x288 with 1 Axes>"
      ]
     },
     "metadata": {
      "needs_background": "light"
     },
     "output_type": "display_data"
    }
   ],
   "source": [
    "df3=scaler.inverse_transform(df3).tolist()\n",
    "plt.plot(df3)"
   ]
  },
  {
   "cell_type": "code",
   "execution_count": null,
   "metadata": {},
   "outputs": [],
   "source": []
  },
  {
   "cell_type": "code",
   "execution_count": null,
   "metadata": {},
   "outputs": [],
   "source": []
  }
 ],
 "metadata": {
  "kernelspec": {
   "display_name": "Python 3",
   "language": "python",
   "name": "python3"
  },
  "language_info": {
   "codemirror_mode": {
    "name": "ipython",
    "version": 3
   },
   "file_extension": ".py",
   "mimetype": "text/x-python",
   "name": "python",
   "nbconvert_exporter": "python",
   "pygments_lexer": "ipython3",
   "version": "3.8.5"
  }
 },
 "nbformat": 4,
 "nbformat_minor": 4
}
