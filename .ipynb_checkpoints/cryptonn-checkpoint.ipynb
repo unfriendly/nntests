{
 "cells": [
  {
   "cell_type": "raw",
   "metadata": {},
   "source": [
    "#Prepare 'System' if Conditions not met\n",
    "\n",
    "!pip install --upgrade pip\n",
    "\n",
    "!conda install -c conda-forge jupyterlab keras-gpu tensorflow-gpu cudatoolkit scikit-learn matplotlib numpy pandas seaborn requests\n",
    "!conda install -c atonarp sklearn\n",
    "!conda install -c conda-forge sklearn-pandas sklearn-contrib-lightning sklearn-crfsuite\n",
    "!conda install -c conda-forge orange3-text orange3-imageanalytics orange3-timeseries orange3-geo orange3-network orange3-explain orange3-educational\n",
    "!conda install -c conda-forge theano scrapy beautifulsoup4 statsmodels plotly bokeh pydot pydotplus\n",
    "!conda install -c pytorch pytorch\n",
    "!conda install py-xgboost libxgboost\n",
    "!conda install -c ranaroussi yfinance\n",
    "\n",
    "!pip install tradingfeatures"
   ]
  },
  {
   "cell_type": "code",
   "execution_count": 1,
   "metadata": {},
   "outputs": [],
   "source": [
    "##Created By Unfriendly \n",
    "#(A simple Jupyter Notebook in Binder for Crypto price prediction)\n",
    "\n",
    "historical_start = \"6yr,0mon,0day,0hr,0min,0sec\"\n",
    "# How long to historically look back at data\n",
    "\n",
    "predict_into = \"0yr,0mon,10day,0hr,0min,0sec\" \n",
    "# How far to try and predict into the future"
   ]
  },
  {
   "cell_type": "code",
   "execution_count": 2,
   "metadata": {},
   "outputs": [],
   "source": [
    "import os, glob\n",
    "for dirname, _, filenames in os.walk('/unfriendly/input'):\n",
    "    for filename in filenames:\n",
    "        print(os.path.join(dirname, filename))"
   ]
  },
  {
   "cell_type": "code",
   "execution_count": 3,
   "metadata": {},
   "outputs": [
    {
     "name": "stderr",
     "output_type": "stream",
     "text": [
      "Using TensorFlow backend.\n",
      "C:\\Users\\Unfriendly\\.conda\\envs\\tens\\lib\\site-packages\\tensorflow\\python\\framework\\dtypes.py:516: FutureWarning: Passing (type, 1) or '1type' as a synonym of type is deprecated; in a future version of numpy, it will be understood as (type, (1,)) / '(1,)type'.\n",
      "  _np_qint8 = np.dtype([(\"qint8\", np.int8, 1)])\n",
      "C:\\Users\\Unfriendly\\.conda\\envs\\tens\\lib\\site-packages\\tensorflow\\python\\framework\\dtypes.py:517: FutureWarning: Passing (type, 1) or '1type' as a synonym of type is deprecated; in a future version of numpy, it will be understood as (type, (1,)) / '(1,)type'.\n",
      "  _np_quint8 = np.dtype([(\"quint8\", np.uint8, 1)])\n",
      "C:\\Users\\Unfriendly\\.conda\\envs\\tens\\lib\\site-packages\\tensorflow\\python\\framework\\dtypes.py:518: FutureWarning: Passing (type, 1) or '1type' as a synonym of type is deprecated; in a future version of numpy, it will be understood as (type, (1,)) / '(1,)type'.\n",
      "  _np_qint16 = np.dtype([(\"qint16\", np.int16, 1)])\n",
      "C:\\Users\\Unfriendly\\.conda\\envs\\tens\\lib\\site-packages\\tensorflow\\python\\framework\\dtypes.py:519: FutureWarning: Passing (type, 1) or '1type' as a synonym of type is deprecated; in a future version of numpy, it will be understood as (type, (1,)) / '(1,)type'.\n",
      "  _np_quint16 = np.dtype([(\"quint16\", np.uint16, 1)])\n",
      "C:\\Users\\Unfriendly\\.conda\\envs\\tens\\lib\\site-packages\\tensorflow\\python\\framework\\dtypes.py:520: FutureWarning: Passing (type, 1) or '1type' as a synonym of type is deprecated; in a future version of numpy, it will be understood as (type, (1,)) / '(1,)type'.\n",
      "  _np_qint32 = np.dtype([(\"qint32\", np.int32, 1)])\n",
      "C:\\Users\\Unfriendly\\.conda\\envs\\tens\\lib\\site-packages\\tensorflow\\python\\framework\\dtypes.py:525: FutureWarning: Passing (type, 1) or '1type' as a synonym of type is deprecated; in a future version of numpy, it will be understood as (type, (1,)) / '(1,)type'.\n",
      "  np_resource = np.dtype([(\"resource\", np.ubyte, 1)])\n",
      "C:\\Users\\Unfriendly\\.conda\\envs\\tens\\lib\\site-packages\\tensorboard\\compat\\tensorflow_stub\\dtypes.py:541: FutureWarning: Passing (type, 1) or '1type' as a synonym of type is deprecated; in a future version of numpy, it will be understood as (type, (1,)) / '(1,)type'.\n",
      "  _np_qint8 = np.dtype([(\"qint8\", np.int8, 1)])\n",
      "C:\\Users\\Unfriendly\\.conda\\envs\\tens\\lib\\site-packages\\tensorboard\\compat\\tensorflow_stub\\dtypes.py:542: FutureWarning: Passing (type, 1) or '1type' as a synonym of type is deprecated; in a future version of numpy, it will be understood as (type, (1,)) / '(1,)type'.\n",
      "  _np_quint8 = np.dtype([(\"quint8\", np.uint8, 1)])\n",
      "C:\\Users\\Unfriendly\\.conda\\envs\\tens\\lib\\site-packages\\tensorboard\\compat\\tensorflow_stub\\dtypes.py:543: FutureWarning: Passing (type, 1) or '1type' as a synonym of type is deprecated; in a future version of numpy, it will be understood as (type, (1,)) / '(1,)type'.\n",
      "  _np_qint16 = np.dtype([(\"qint16\", np.int16, 1)])\n",
      "C:\\Users\\Unfriendly\\.conda\\envs\\tens\\lib\\site-packages\\tensorboard\\compat\\tensorflow_stub\\dtypes.py:544: FutureWarning: Passing (type, 1) or '1type' as a synonym of type is deprecated; in a future version of numpy, it will be understood as (type, (1,)) / '(1,)type'.\n",
      "  _np_quint16 = np.dtype([(\"quint16\", np.uint16, 1)])\n",
      "C:\\Users\\Unfriendly\\.conda\\envs\\tens\\lib\\site-packages\\tensorboard\\compat\\tensorflow_stub\\dtypes.py:545: FutureWarning: Passing (type, 1) or '1type' as a synonym of type is deprecated; in a future version of numpy, it will be understood as (type, (1,)) / '(1,)type'.\n",
      "  _np_qint32 = np.dtype([(\"qint32\", np.int32, 1)])\n",
      "C:\\Users\\Unfriendly\\.conda\\envs\\tens\\lib\\site-packages\\tensorboard\\compat\\tensorflow_stub\\dtypes.py:550: FutureWarning: Passing (type, 1) or '1type' as a synonym of type is deprecated; in a future version of numpy, it will be understood as (type, (1,)) / '(1,)type'.\n",
      "  np_resource = np.dtype([(\"resource\", np.ubyte, 1)])\n"
     ]
    }
   ],
   "source": [
    "import json\n",
    "import requests\n",
    "from keras.models import Sequential\n",
    "from keras.layers import Activation, Dense, Dropout, LSTM\n",
    "import matplotlib.pyplot as plt\n",
    "import numpy as np\n",
    "import pandas as pd\n",
    "import seaborn as sns\n",
    "from sklearn.metrics import mean_absolute_error\n",
    "%matplotlib inline\n",
    "\n",
    "fig_size = plt.rcParams[\"figure.figsize\"]\n",
    "fig_size[0] = 12\n",
    "fig_size[1] = 8\n",
    "plt.rcParams[\"figure.figsize\"] = fig_size"
   ]
  },
  {
   "cell_type": "code",
   "execution_count": 4,
   "metadata": {},
   "outputs": [],
   "source": [
    "import matplotlib.pyplot as plt"
   ]
  },
  {
   "cell_type": "code",
   "execution_count": 5,
   "metadata": {},
   "outputs": [],
   "source": [
    "# Prepare data timestamps\n",
    "import time\n",
    "from datetime import datetime, timezone, timedelta\n",
    "one_yr = 31536000000\n",
    "one_mon = one_yr/12\n",
    "one_day = one_yr/365\n",
    "one_hr = one_day/24\n",
    "one_min = one_hr/60\n",
    "one_sec = one_min/60"
   ]
  },
  {
   "cell_type": "code",
   "execution_count": 6,
   "metadata": {},
   "outputs": [
    {
     "name": "stdout",
     "output_type": "stream",
     "text": [
      "['6', '0', '0', '0', '0', '0']\n"
     ]
    }
   ],
   "source": [
    "# Prepare how far to look back in the past in UNIX time-format\n",
    "history_split = historical_start.replace('yr', '')\n",
    "history_res = history_split.replace('mon', '')\n",
    "history_split = history_res.replace('day', '')\n",
    "history_res = history_split.replace('hr', '')\n",
    "history_split = history_res.replace('min', '')\n",
    "history_res = history_split.replace('sec', '')\n",
    "history_split = history_res.split(\",\")\n",
    "print(history_split)"
   ]
  },
  {
   "cell_type": "code",
   "execution_count": 7,
   "metadata": {},
   "outputs": [
    {
     "name": "stdout",
     "output_type": "stream",
     "text": [
      "['0', '0', '10', '0', '0', '0']\n"
     ]
    }
   ],
   "source": [
    "# Prepare how far to predict into the future in UNIX time-format\n",
    "predict_split = predict_into.replace('yr', '')\n",
    "predict_res = predict_split.replace('mon', '')\n",
    "predict_split = predict_res.replace('day', '')\n",
    "predict_res = predict_split.replace('hr', '')\n",
    "predict_split = predict_res.replace('min', '')\n",
    "predict_res = predict_split.replace('sec', '')\n",
    "predict_split = predict_res.split(\",\")\n",
    "print(predict_split)"
   ]
  },
  {
   "cell_type": "code",
   "execution_count": 8,
   "metadata": {},
   "outputs": [],
   "source": [
    "history_array_yr = int(history_split[0])\n",
    "unix_hist_yr = one_yr*history_array_yr\n",
    "\n",
    "history_array_mon = int(history_split[1])\n",
    "unix_hist_mon = one_mon*history_array_mon\n",
    "\n",
    "history_array_day = int(history_split[2])\n",
    "unix_hist_day = one_day*history_array_day\n",
    "\n",
    "history_array_hr = int(history_split[3])\n",
    "unix_hist_hr = one_hr*history_array_hr\n",
    "\n",
    "history_array_min = int(history_split[4])\n",
    "unix_hist_min = one_min*history_array_min\n",
    "\n",
    "history_array_sec = int(history_split[5])\n",
    "unix_hist_sec = one_sec*history_array_sec"
   ]
  },
  {
   "cell_type": "code",
   "execution_count": 9,
   "metadata": {},
   "outputs": [],
   "source": [
    "predict_array_yr = int(predict_split[0])\n",
    "unix_pred_yr = one_yr*predict_array_yr\n",
    "\n",
    "predict_array_mon = int(predict_split[1])\n",
    "unix_pred_mon = one_mon*predict_array_mon\n",
    "\n",
    "predict_array_day = int(predict_split[2])\n",
    "unix_pred_day = one_day*predict_array_day\n",
    "\n",
    "predict_array_hr = int(predict_split[3])\n",
    "unix_pred_hr = one_hr*predict_array_hr\n",
    "\n",
    "predict_array_min = int(predict_split[4])\n",
    "unix_pred_min = one_min*predict_array_min\n",
    "\n",
    "predict_array_sec = int(predict_split[5])\n",
    "unix_pred_sec = one_sec*predict_array_sec\n",
    "\n",
    "unix_prediction = unix_pred_yr+unix_pred_mon+unix_pred_day+unix_pred_hr+unix_pred_min+unix_pred_sec"
   ]
  },
  {
   "cell_type": "code",
   "execution_count": 10,
   "metadata": {},
   "outputs": [
    {
     "name": "stdout",
     "output_type": "stream",
     "text": [
      "-187601504744 - start\n",
      "-310 - gather\n",
      "310 - positive gather\n"
     ]
    }
   ],
   "source": [
    "raw_time = time.time()\n",
    "int_time = int(raw_time)\n",
    "current_time = str(int_time)\n",
    "\n",
    "unix_start = unix_hist_yr+unix_hist_mon+unix_hist_day+unix_hist_hr+unix_hist_min+unix_hist_sec\n",
    "raw_start = raw_time - unix_start\n",
    "\n",
    "int_start = int(raw_start)\n",
    "start = str(int_start)\n",
    "\n",
    "#print(unix_hist_yr+history_array_mon+history_array_day+history_array_hr+history_array_min+history_array_sec)\n",
    "print(start + ' - start')\n",
    "\n",
    "gather_count = int_start/(7*one_day)\n",
    "gather_int = int(gather_count)\n",
    "gather_str = str(gather_int)\n",
    "pos_gather_count = abs(int(gather_count))\n",
    "pos_gather_str = str(pos_gather_count)\n",
    "\n",
    "print(gather_str + ' - gather')\n",
    "print(pos_gather_str + ' - positive gather')"
   ]
  },
  {
   "cell_type": "code",
   "execution_count": 11,
   "metadata": {},
   "outputs": [
    {
     "name": "stdout",
     "output_type": "stream",
     "text": [
      "1614495255830.191\n",
      "1614495255831\n",
      "1425279255831\n",
      "1425279255.831687\n",
      "2021-02-28 06:54:15.831687+00:00\n",
      "2015-03-02 06:54:15.831687+00:00\n",
      "1425279255831\n",
      "1425898455831\n",
      "1614495255831\n",
      "13 Digit Microsecond TS: 1425279255831 - 10 Digit TS: 1425279255\n"
     ]
    }
   ],
   "source": [
    "print((datetime.now(timezone.utc) + timedelta(hours=0)).timestamp() * 1e3)\n",
    "\n",
    "dt = (datetime.now(timezone.utc) + timedelta(days=0)).timestamp() * 1e3\n",
    "\n",
    "c_dt = int(dt)\n",
    "\n",
    "c_dt_int = int(c_dt)\n",
    "print(str(c_dt_int))\n",
    "\n",
    "c_dt_array_year = history_array_yr*365\n",
    "\n",
    "history_array_comb = history_array_day + c_dt_array_year\n",
    "\n",
    "c_dt_start = (datetime.now(timezone.utc) + timedelta(days=-history_array_comb,hours=-history_array_hr,minutes=-history_array_min,seconds=-history_array_sec)).timestamp() * 1e3\n",
    "\n",
    "c_dt_start_int = int(c_dt_start)\n",
    "print(str(c_dt_start_int))\n",
    "\n",
    "c_dt_start_raw = (datetime.now(timezone.utc) + timedelta(days=-history_array_comb,hours=-history_array_hr,minutes=-history_array_min,seconds=-history_array_sec)).timestamp()\n",
    "c_dt_start_raw_int = int(c_dt_start_raw)\n",
    "print(str(c_dt_start_raw))       \n",
    "    \n",
    "data_count = 0\n",
    "\n",
    "c_dt_start_dt = datetime.utcfromtimestamp(c_dt_start_raw).strftime('%Y-%m-%d %H:%M:%S.%f+00:00')\n",
    "\n",
    "print(datetime.now(timezone.utc))\n",
    "print(datetime.utcfromtimestamp(c_dt_start_raw).strftime('%Y-%m-%d %H:%M:%S.%f+00:00'))\n",
    "\n",
    "#c_dt_end = c_dt_start + timedelta(days=7).timestamp() * 1e3\n",
    "#c_dt_end = (c_dt_start_dt + timedelta(days=7)).timestamp() * 1e3\n",
    "\n",
    "c_dt_end = (datetime.utcfromtimestamp(c_dt_start_raw) + timedelta(days=7)).timestamp() * 1e3\n",
    "\n",
    "c_dt_start_int = int(c_dt_start)\n",
    "c_dt_end_int = int(c_dt_end)\n",
    "c_dt_end_str = str(c_dt_end)\n",
    "\n",
    "\n",
    "c_dt_str = str(c_dt)\n",
    "c_dt_start_str = str(c_dt_start_int)\n",
    "\n",
    "\n",
    "ts_ten_int = int(c_dt/1000)\n",
    "start_ten_int = int(c_dt_start_int/1000)\n",
    "\n",
    "ts_ten_str = str(ts_ten_int)\n",
    "start_ten_str = str(start_ten_int)\n",
    "\n",
    "\n",
    "print(c_dt_start_int)\n",
    "print(c_dt_end_int)\n",
    "print(c_dt_int)\n",
    "print('13 Digit Microsecond TS: ' + c_dt_start_str + ' - ' + '10 Digit TS: ' + start_ten_str)"
   ]
  },
  {
   "cell_type": "raw",
   "metadata": {},
   "source": [
    "import urllib.request\n",
    "import yfinance as yf\n",
    "from tradingfeatures import bitfinex\n",
    "bitfinex = bitfinex()\n",
    "\n",
    "#while count < pos_gather_count:\n",
    "while data_count < 1:\n",
    "    \n",
    "    #d_u=\"https://query1.finance.yahoo.com/v7/finance/download/BTC-USD?period1=1411862400&period2=\" + current_time + \"&interval=1d&events=history&includeAdjustedClose=true\"\n",
    "    #d_u=\"https://query1.finance.yahoo.com/v7/finance/download/BTC-USD?period1=1411862400&period2=1612158064&interval=1d&events=history&includeAdjustedClose=true\"\n",
    "    #d_u=\"https://query1.finance.yahoo.com/v7/finance/download/BTC-USD?period1=\"+dt_str+\"&period2=\"+dt_end_str+\"&interval=1d&events=history&includeAdjustedClose=true\"\n",
    "    #d_u=\"https://query1.finance.yahoo.com/v7/finance/download/BTC-USD?period1=\"+gather_str+\"&period2=\"+current_time+\"&interval=1m&events=history&includeAdjustedClose=true\"\n",
    "    \n",
    "    \n",
    "    d_u=\"https://query1.finance.yahoo.com/v7/finance/download/BTC-USD?period1=\"+start_ten_str+\"&period2=\"+ts_ten_str+\"&interval=1d&events=history&includeAdjustedClose=true\"\n",
    "    \n",
    "    print(d_u)\n",
    "    \n",
    "    with urllib.request.urlopen(d_u) as testfile, open('dataset.csv', 'w') as f:\n",
    "        f.write(testfile.read().decode())\n",
    "\n",
    "    data_count += 1  # This is the same as count = count + 1"
   ]
  },
  {
   "cell_type": "code",
   "execution_count": 12,
   "metadata": {},
   "outputs": [
    {
     "name": "stdout",
     "output_type": "stream",
     "text": [
      "[*********************100%***********************]  1 of 1 completed\n"
     ]
    }
   ],
   "source": [
    "import yfinance as yf\n",
    "yf_data = yf.download(tickers='BTC-USD', period='2y', interval='60m', group_by='column', auto_adjust=True, prepost=True, threads=True, proxy=None)\n",
    "data = yf_data"
   ]
  },
  {
   "cell_type": "raw",
   "metadata": {},
   "source": [
    "print(start + ' - start')\n",
    "print(current_time + ' - current time')\n",
    "print(d_u + ' - url')\n",
    "    \n",
    "print(gather_count)\n",
    "#print(data_count)\n",
    "\n",
    "# List all CSV files in the working dir\n",
    "extension = \"csv\"\n",
    "all_filenames = [i for i in glob.glob('*.{}'.format(extension))]\n",
    "print(all_filenames)"
   ]
  },
  {
   "cell_type": "raw",
   "metadata": {},
   "source": [
    "import urllib.request\n",
    "d_u=\"https://query1.finance.yahoo.com/v7/finance/download/BTC-USD?period1=1411862400&period2=1612158064&interval=1d&events=history&includeAdjustedClose=true\"\n",
    "\n",
    "\n",
    "with urllib.request.urlopen(d_u) as testfile, open('dataset.csv', 'w') as f:\n",
    "    f.write(testfile.read().decode())"
   ]
  },
  {
   "cell_type": "raw",
   "metadata": {},
   "source": [
    "df = bitfinex.get_hist('30m', start=c_dt_start_int, end=c_dt_int)\n",
    "df.to_csv('data.csv', index=False)"
   ]
  },
  {
   "cell_type": "code",
   "execution_count": 13,
   "metadata": {},
   "outputs": [
    {
     "data": {
      "text/html": [
       "<div>\n",
       "<style scoped>\n",
       "    .dataframe tbody tr th:only-of-type {\n",
       "        vertical-align: middle;\n",
       "    }\n",
       "\n",
       "    .dataframe tbody tr th {\n",
       "        vertical-align: top;\n",
       "    }\n",
       "\n",
       "    .dataframe thead th {\n",
       "        text-align: right;\n",
       "    }\n",
       "</style>\n",
       "<table border=\"1\" class=\"dataframe\">\n",
       "  <thead>\n",
       "    <tr style=\"text-align: right;\">\n",
       "      <th></th>\n",
       "      <th>Open</th>\n",
       "      <th>High</th>\n",
       "      <th>Low</th>\n",
       "      <th>Close</th>\n",
       "      <th>Volume</th>\n",
       "    </tr>\n",
       "    <tr>\n",
       "      <th>Datetime</th>\n",
       "      <th></th>\n",
       "      <th></th>\n",
       "      <th></th>\n",
       "      <th></th>\n",
       "      <th></th>\n",
       "    </tr>\n",
       "  </thead>\n",
       "  <tbody>\n",
       "    <tr>\n",
       "      <th>2019-03-01 00:00:00+00:00</th>\n",
       "      <td>3822.699951</td>\n",
       "      <td>3830.449951</td>\n",
       "      <td>3822.699951</td>\n",
       "      <td>3826.659912</td>\n",
       "      <td>0</td>\n",
       "    </tr>\n",
       "    <tr>\n",
       "      <th>2019-03-01 01:00:00+00:00</th>\n",
       "      <td>3826.310059</td>\n",
       "      <td>3833.959961</td>\n",
       "      <td>3825.399902</td>\n",
       "      <td>3833.840088</td>\n",
       "      <td>2911408</td>\n",
       "    </tr>\n",
       "    <tr>\n",
       "      <th>2019-03-01 02:00:00+00:00</th>\n",
       "      <td>3834.000000</td>\n",
       "      <td>3835.010010</td>\n",
       "      <td>3829.760010</td>\n",
       "      <td>3830.949951</td>\n",
       "      <td>2766284</td>\n",
       "    </tr>\n",
       "    <tr>\n",
       "      <th>2019-03-01 03:00:00+00:00</th>\n",
       "      <td>3831.199951</td>\n",
       "      <td>3837.449951</td>\n",
       "      <td>3831.090088</td>\n",
       "      <td>3833.750000</td>\n",
       "      <td>2322038</td>\n",
       "    </tr>\n",
       "    <tr>\n",
       "      <th>2019-03-01 04:00:00+00:00</th>\n",
       "      <td>3833.669922</td>\n",
       "      <td>3834.840088</td>\n",
       "      <td>3829.850098</td>\n",
       "      <td>3831.000000</td>\n",
       "      <td>1858048</td>\n",
       "    </tr>\n",
       "    <tr>\n",
       "      <th>...</th>\n",
       "      <td>...</td>\n",
       "      <td>...</td>\n",
       "      <td>...</td>\n",
       "      <td>...</td>\n",
       "      <td>...</td>\n",
       "    </tr>\n",
       "    <tr>\n",
       "      <th>2021-02-28 03:00:00+00:00</th>\n",
       "      <td>45459.609375</td>\n",
       "      <td>45738.191406</td>\n",
       "      <td>44744.812500</td>\n",
       "      <td>44848.464844</td>\n",
       "      <td>889782272</td>\n",
       "    </tr>\n",
       "    <tr>\n",
       "      <th>2021-02-28 04:00:00+00:00</th>\n",
       "      <td>44832.472656</td>\n",
       "      <td>45081.429688</td>\n",
       "      <td>44581.945312</td>\n",
       "      <td>44700.136719</td>\n",
       "      <td>1172451328</td>\n",
       "    </tr>\n",
       "    <tr>\n",
       "      <th>2021-02-28 05:00:00+00:00</th>\n",
       "      <td>44660.167969</td>\n",
       "      <td>45395.320312</td>\n",
       "      <td>44530.898438</td>\n",
       "      <td>44913.929688</td>\n",
       "      <td>2058702848</td>\n",
       "    </tr>\n",
       "    <tr>\n",
       "      <th>2021-02-28 06:00:00+00:00</th>\n",
       "      <td>44948.695312</td>\n",
       "      <td>44978.175781</td>\n",
       "      <td>44169.253906</td>\n",
       "      <td>44706.195312</td>\n",
       "      <td>2640814080</td>\n",
       "    </tr>\n",
       "    <tr>\n",
       "      <th>2021-02-28 06:52:02+00:00</th>\n",
       "      <td>44665.906250</td>\n",
       "      <td>44665.906250</td>\n",
       "      <td>44665.906250</td>\n",
       "      <td>44665.906250</td>\n",
       "      <td>0</td>\n",
       "    </tr>\n",
       "  </tbody>\n",
       "</table>\n",
       "<p>17409 rows × 5 columns</p>\n",
       "</div>"
      ],
      "text/plain": [
       "                                   Open          High           Low  \\\n",
       "Datetime                                                              \n",
       "2019-03-01 00:00:00+00:00   3822.699951   3830.449951   3822.699951   \n",
       "2019-03-01 01:00:00+00:00   3826.310059   3833.959961   3825.399902   \n",
       "2019-03-01 02:00:00+00:00   3834.000000   3835.010010   3829.760010   \n",
       "2019-03-01 03:00:00+00:00   3831.199951   3837.449951   3831.090088   \n",
       "2019-03-01 04:00:00+00:00   3833.669922   3834.840088   3829.850098   \n",
       "...                                 ...           ...           ...   \n",
       "2021-02-28 03:00:00+00:00  45459.609375  45738.191406  44744.812500   \n",
       "2021-02-28 04:00:00+00:00  44832.472656  45081.429688  44581.945312   \n",
       "2021-02-28 05:00:00+00:00  44660.167969  45395.320312  44530.898438   \n",
       "2021-02-28 06:00:00+00:00  44948.695312  44978.175781  44169.253906   \n",
       "2021-02-28 06:52:02+00:00  44665.906250  44665.906250  44665.906250   \n",
       "\n",
       "                                  Close      Volume  \n",
       "Datetime                                             \n",
       "2019-03-01 00:00:00+00:00   3826.659912           0  \n",
       "2019-03-01 01:00:00+00:00   3833.840088     2911408  \n",
       "2019-03-01 02:00:00+00:00   3830.949951     2766284  \n",
       "2019-03-01 03:00:00+00:00   3833.750000     2322038  \n",
       "2019-03-01 04:00:00+00:00   3831.000000     1858048  \n",
       "...                                 ...         ...  \n",
       "2021-02-28 03:00:00+00:00  44848.464844   889782272  \n",
       "2021-02-28 04:00:00+00:00  44700.136719  1172451328  \n",
       "2021-02-28 05:00:00+00:00  44913.929688  2058702848  \n",
       "2021-02-28 06:00:00+00:00  44706.195312  2640814080  \n",
       "2021-02-28 06:52:02+00:00  44665.906250           0  \n",
       "\n",
       "[17409 rows x 5 columns]"
      ]
     },
     "execution_count": 13,
     "metadata": {},
     "output_type": "execute_result"
    }
   ],
   "source": [
    "#data=pd.read_csv('dataset.csv')\n",
    "#data = yf.download(tickers='BTC-USD', period='max', interval='1d', group_by='column', auto_adjust = True, prepost = True, threads = True, proxy = None)\n",
    "\n",
    "\n",
    "data.apply(pd.to_numeric, errors='coerce')\n",
    "\n",
    "#pd.to_numeric(data, downcast='integer', errors='coerce')\n",
    "\n",
    "#data=data.dropna()\n",
    "#data=data.dropna(inplace=True)\n",
    "#data=data.dropna(subset=['Close'])\n",
    "#data=data.dropna(how='any',axis=1)\n",
    "\n",
    "data.dropna(subset=['Close'], inplace=True)\n",
    "data.reset_index(drop=True)\n",
    "\n",
    "data"
   ]
  },
  {
   "cell_type": "code",
   "execution_count": 14,
   "metadata": {},
   "outputs": [
    {
     "data": {
      "text/plain": [
       "Datetime\n",
       "2019-03-01 00:00:00+00:00     3826.659912\n",
       "2019-03-01 01:00:00+00:00     3833.840088\n",
       "2019-03-01 02:00:00+00:00     3830.949951\n",
       "2019-03-01 03:00:00+00:00     3833.750000\n",
       "2019-03-01 04:00:00+00:00     3831.000000\n",
       "                                 ...     \n",
       "2021-02-28 03:00:00+00:00    44848.464844\n",
       "2021-02-28 04:00:00+00:00    44700.136719\n",
       "2021-02-28 05:00:00+00:00    44913.929688\n",
       "2021-02-28 06:00:00+00:00    44706.195312\n",
       "2021-02-28 06:52:02+00:00    44665.906250\n",
       "Name: Close, Length: 17409, dtype: float64"
      ]
     },
     "execution_count": 14,
     "metadata": {},
     "output_type": "execute_result"
    }
   ],
   "source": [
    "df1=data['Close']\n",
    "df1"
   ]
  },
  {
   "cell_type": "code",
   "execution_count": 15,
   "metadata": {},
   "outputs": [
    {
     "data": {
      "text/plain": [
       "[<matplotlib.lines.Line2D at 0x2c19b617c88>]"
      ]
     },
     "execution_count": 15,
     "metadata": {},
     "output_type": "execute_result"
    },
    {
     "data": {
      "image/png": "[encoded data removed]",
      "text/plain": [
       "<Figure size 864x576 with 1 Axes>"
      ]
     },
     "metadata": {
      "needs_background": "light"
     },
     "output_type": "display_data"
    }
   ],
   "source": [
    "plt.plot(df1)"
   ]
  },
  {
   "cell_type": "code",
   "execution_count": 16,
   "metadata": {},
   "outputs": [],
   "source": [
    "import numpy as np"
   ]
  },
  {
   "cell_type": "code",
   "execution_count": 17,
   "metadata": {},
   "outputs": [
    {
     "data": {
      "text/plain": [
       "Datetime\n",
       "2019-03-01 00:00:00+00:00     3826.659912\n",
       "2019-03-01 01:00:00+00:00     3833.840088\n",
       "2019-03-01 02:00:00+00:00     3830.949951\n",
       "2019-03-01 03:00:00+00:00     3833.750000\n",
       "2019-03-01 04:00:00+00:00     3831.000000\n",
       "                                 ...     \n",
       "2021-02-28 03:00:00+00:00    44848.464844\n",
       "2021-02-28 04:00:00+00:00    44700.136719\n",
       "2021-02-28 05:00:00+00:00    44913.929688\n",
       "2021-02-28 06:00:00+00:00    44706.195312\n",
       "2021-02-28 06:52:02+00:00    44665.906250\n",
       "Name: Close, Length: 17409, dtype: float64"
      ]
     },
     "execution_count": 17,
     "metadata": {},
     "output_type": "execute_result"
    }
   ],
   "source": [
    "df1"
   ]
  },
  {
   "cell_type": "code",
   "execution_count": 18,
   "metadata": {},
   "outputs": [],
   "source": [
    "from sklearn.preprocessing import MinMaxScaler\n",
    "scaler=MinMaxScaler(feature_range=(0,1))\n",
    "df1=scaler.fit_transform(np.array(df1).reshape(-1,1))"
   ]
  },
  {
   "cell_type": "code",
   "execution_count": 19,
   "metadata": {},
   "outputs": [],
   "source": [
    "training_size=int(len(df1)*0.65)\n",
    "test_size=len(df1)-training_size\n",
    "train_data,test_data=df1[0:training_size,:],df1[training_size:len(df1),:1]"
   ]
  },
  {
   "cell_type": "code",
   "execution_count": 20,
   "metadata": {},
   "outputs": [
    {
     "data": {
      "text/plain": [
       "(11315, 6094)"
      ]
     },
     "execution_count": 20,
     "metadata": {},
     "output_type": "execute_result"
    }
   ],
   "source": [
    "training_size,test_size"
   ]
  },
  {
   "cell_type": "code",
   "execution_count": 21,
   "metadata": {},
   "outputs": [],
   "source": [
    "import numpy\n",
    "# convert an array of values into a dataset matrix\n",
    "def create_dataset(dataset, time_step=1):\n",
    "\tdataX, dataY = [], []\n",
    "\tfor i in range(len(dataset)-time_step-1):\n",
    "\t\ta = dataset[i:(i+time_step), 0]   ###i=0, 0,1,2,3-----99   100 \n",
    "\t\tdataX.append(a)\n",
    "\t\tdataY.append(dataset[i + time_step, 0])\n",
    "\treturn numpy.array(dataX), numpy.array(dataY)"
   ]
  },
  {
   "cell_type": "code",
   "execution_count": 22,
   "metadata": {},
   "outputs": [],
   "source": [
    "# reshape into X=t,t+1,t+2,t+3 and Y=t+4\n",
    "time_step = 100\n",
    "X_train, y_train = create_dataset(train_data, time_step)\n",
    "X_test, ytest = create_dataset(test_data, time_step)"
   ]
  },
  {
   "cell_type": "code",
   "execution_count": 23,
   "metadata": {},
   "outputs": [
    {
     "name": "stdout",
     "output_type": "stream",
     "text": [
      "(11214, 100)\n",
      "(11214,)\n"
     ]
    },
    {
     "data": {
      "text/plain": [
       "(None, None)"
      ]
     },
     "execution_count": 23,
     "metadata": {},
     "output_type": "execute_result"
    }
   ],
   "source": [
    "print(X_train.shape), print(y_train.shape)"
   ]
  },
  {
   "cell_type": "markdown",
   "metadata": {},
   "source": []
  },
  {
   "cell_type": "code",
   "execution_count": 24,
   "metadata": {},
   "outputs": [
    {
     "name": "stdout",
     "output_type": "stream",
     "text": [
      "(5993, 100)\n",
      "(5993,)\n"
     ]
    },
    {
     "data": {
      "text/plain": [
       "(None, None)"
      ]
     },
     "execution_count": 24,
     "metadata": {},
     "output_type": "execute_result"
    }
   ],
   "source": [
    "print(X_test.shape), print(ytest.shape)"
   ]
  },
  {
   "cell_type": "code",
   "execution_count": 25,
   "metadata": {},
   "outputs": [
    {
     "data": {
      "text/plain": [
       "100"
      ]
     },
     "execution_count": 25,
     "metadata": {},
     "output_type": "execute_result"
    }
   ],
   "source": [
    "X_train.shape[1]"
   ]
  },
  {
   "cell_type": "code",
   "execution_count": 26,
   "metadata": {},
   "outputs": [],
   "source": [
    "# reshape input to be [samples, time steps, features] which is required for LSTM\n",
    "X_train =X_train.reshape(X_train.shape[0],X_train.shape[1] , 1)\n",
    "X_test = X_test.reshape(X_test.shape[0],X_test.shape[1] , 1)"
   ]
  },
  {
   "cell_type": "code",
   "execution_count": 27,
   "metadata": {},
   "outputs": [],
   "source": [
    "### Create the Stacked LSTM model\n",
    "from keras.models import Sequential\n",
    "from keras.layers import Dense\n",
    "from keras.layers import LSTM\n",
    "from keras.optimizers import Adam, Adadelta, SGD, RMSprop, Adamax"
   ]
  },
  {
   "cell_type": "code",
   "execution_count": 28,
   "metadata": {},
   "outputs": [],
   "source": [
    "#opt = Adam(lr=0.0001)\n",
    "#opt = Adam(lr=0.0025)\n",
    "#opt = Adadelta(lr=1, rho=0.95, epsilon=1e-6, decay=0, clipnorm=NULL, clipvalue=NULL)\n",
    "#opt = Adadelta(lr=1, rho=0.95, epsilon=1e-6, decay=0)\n",
    "#opt = RMSprop(lr=0.001, rho=0.9, momentum=0.0, epsilon=1e-07, centered=False)\n",
    "#opt = RMSprop(lr=0.0005, rho=0.9, momentum=0.0, epsilon=1e-07, centered=True)\n",
    "\n",
    "#opt = Adamax(lr=0.001, beta_1=0.9, beta_2=0.999, epsilon=1e-07)\n",
    "\n",
    "opt = Adam(lr=0.001, beta_1=0.9, beta_2=0.999, epsilon=1e-07, amsgrad=True)\n",
    "\n",
    "model=Sequential()\n",
    "model.add(LSTM(50,return_sequences=True,input_shape=(100,1)))\n",
    "model.add(LSTM(50,return_sequences=True))\n",
    "model.add(LSTM(50))\n",
    "model.add(Dense(1))\n",
    "\n",
    "#model.compile(loss='mean_squared_error',optimizer='adam')\n",
    "model.compile(optimizer=opt, loss='mean_squared_error')"
   ]
  },
  {
   "cell_type": "code",
   "execution_count": 29,
   "metadata": {},
   "outputs": [
    {
     "name": "stdout",
     "output_type": "stream",
     "text": [
      "Model: \"sequential_1\"\n",
      "_________________________________________________________________\n",
      "Layer (type)                 Output Shape              Param #   \n",
      "=================================================================\n",
      "lstm_1 (LSTM)                (None, 100, 50)           10400     \n",
      "_________________________________________________________________\n",
      "lstm_2 (LSTM)                (None, 100, 50)           20200     \n",
      "_________________________________________________________________\n",
      "lstm_3 (LSTM)                (None, 50)                20200     \n",
      "_________________________________________________________________\n",
      "dense_1 (Dense)              (None, 1)                 51        \n",
      "=================================================================\n",
      "Total params: 50,851\n",
      "Trainable params: 50,851\n",
      "Non-trainable params: 0\n",
      "_________________________________________________________________\n"
     ]
    }
   ],
   "source": [
    "model.summary()"
   ]
  },
  {
   "cell_type": "code",
   "execution_count": null,
   "metadata": {},
   "outputs": [
    {
     "name": "stdout",
     "output_type": "stream",
     "text": [
      "WARNING:tensorflow:From C:\\Users\\Unfriendly\\.conda\\envs\\tens\\lib\\site-packages\\keras\\backend\\tensorflow_backend.py:422: The name tf.global_variables is deprecated. Please use tf.compat.v1.global_variables instead.\n",
      "\n",
      "Train on 11214 samples, validate on 5993 samples\n",
      "Epoch 1/100\n",
      "11214/11214 [==============================] - 18s 2ms/step - loss: 4.2654e-04 - val_loss: 0.0020\n",
      "Epoch 2/100\n",
      "11214/11214 [==============================] - 18s 2ms/step - loss: 1.4531e-05 - val_loss: 0.0019\n",
      "Epoch 3/100\n",
      "11214/11214 [==============================] - 18s 2ms/step - loss: 1.3730e-05 - val_loss: 0.0022\n",
      "Epoch 4/100\n",
      "11214/11214 [==============================] - 18s 2ms/step - loss: 1.3115e-05 - val_loss: 0.0019\n",
      "Epoch 5/100\n",
      "11214/11214 [==============================] - 19s 2ms/step - loss: 1.2355e-05 - val_loss: 0.0021\n",
      "Epoch 6/100\n",
      "11214/11214 [==============================] - 18s 2ms/step - loss: 1.1831e-05 - val_loss: 0.0020\n",
      "Epoch 7/100\n",
      "11214/11214 [==============================] - 19s 2ms/step - loss: 1.1698e-05 - val_loss: 0.0018\n",
      "Epoch 8/100\n",
      "11214/11214 [==============================] - 19s 2ms/step - loss: 1.0353e-05 - val_loss: 0.0017\n",
      "Epoch 9/100\n",
      "11214/11214 [==============================] - 18s 2ms/step - loss: 1.0004e-05 - val_loss: 0.0016\n",
      "Epoch 10/100\n",
      "11214/11214 [==============================] - 18s 2ms/step - loss: 9.8267e-06 - val_loss: 0.0015\n",
      "Epoch 11/100\n",
      "11214/11214 [==============================] - 20s 2ms/step - loss: 9.2335e-06 - val_loss: 0.0017\n",
      "Epoch 12/100\n",
      "11214/11214 [==============================] - 19s 2ms/step - loss: 9.0885e-06 - val_loss: 0.0019\n",
      "Epoch 13/100\n",
      "11214/11214 [==============================] - 19s 2ms/step - loss: 8.9188e-06 - val_loss: 0.0017\n",
      "Epoch 14/100\n",
      "11214/11214 [==============================] - 19s 2ms/step - loss: 8.2908e-06 - val_loss: 0.0014\n",
      "Epoch 15/100\n",
      "11214/11214 [==============================] - 19s 2ms/step - loss: 7.9099e-06 - val_loss: 0.0013\n",
      "Epoch 16/100\n",
      "11214/11214 [==============================] - 19s 2ms/step - loss: 7.9373e-06 - val_loss: 0.0020\n",
      "Epoch 17/100\n",
      "11214/11214 [==============================] - 19s 2ms/step - loss: 7.5128e-06 - val_loss: 0.0016\n",
      "Epoch 18/100\n",
      "11214/11214 [==============================] - 19s 2ms/step - loss: 7.7466e-06 - val_loss: 0.0015\n",
      "Epoch 19/100\n",
      "11214/11214 [==============================] - 18s 2ms/step - loss: 7.2597e-06 - val_loss: 0.0011\n",
      "Epoch 20/100\n",
      "11214/11214 [==============================] - 19s 2ms/step - loss: 7.0308e-06 - val_loss: 0.0011\n",
      "Epoch 21/100\n",
      "11214/11214 [==============================] - 21s 2ms/step - loss: 6.6999e-06 - val_loss: 0.0012\n",
      "Epoch 22/100\n",
      "11214/11214 [==============================] - 21s 2ms/step - loss: 6.6676e-06 - val_loss: 0.0013\n",
      "Epoch 23/100\n",
      "11214/11214 [==============================] - 22s 2ms/step - loss: 6.5194e-06 - val_loss: 0.0013\n",
      "Epoch 24/100\n",
      "11214/11214 [==============================] - 21s 2ms/step - loss: 6.2318e-06 - val_loss: 8.3839e-04\n",
      "Epoch 25/100\n",
      "11214/11214 [==============================] - 21s 2ms/step - loss: 6.2120e-06 - val_loss: 0.0010\n"
     ]
    }
   ],
   "source": [
    "model.fit(X_train,y_train,validation_data=(X_test,ytest),epochs=100,batch_size=128,verbose=1)"
   ]
  },
  {
   "cell_type": "code",
   "execution_count": null,
   "metadata": {},
   "outputs": [],
   "source": [
    "import tensorflow as tf\n",
    "### Do the prediction and check performance metrics\n",
    "train_predict=model.predict(X_train)\n",
    "test_predict=model.predict(X_test)\n",
    "##Transformback to original form\n",
    "train_predict=scaler.inverse_transform(train_predict)\n",
    "test_predict=scaler.inverse_transform(test_predict)\n",
    "### Calculate RMSE performance metrics"
   ]
  },
  {
   "cell_type": "code",
   "execution_count": null,
   "metadata": {},
   "outputs": [],
   "source": [
    "import math\n",
    "from sklearn.metrics import mean_squared_error\n",
    "math.sqrt(mean_squared_error(y_train,train_predict))"
   ]
  },
  {
   "cell_type": "code",
   "execution_count": null,
   "metadata": {},
   "outputs": [],
   "source": [
    "### Test Data RMSE\n",
    "math.sqrt(mean_squared_error(ytest,test_predict))"
   ]
  },
  {
   "cell_type": "code",
   "execution_count": null,
   "metadata": {},
   "outputs": [],
   "source": [
    "# shift train predictions for plotting\n",
    "look_back=100\n",
    "trainPredictPlot = numpy.empty_like(df1)\n",
    "trainPredictPlot[:, :] = np.nan\n",
    "trainPredictPlot[look_back:len(train_predict)+look_back, :] = train_predict\n",
    "# shift test predictions for plotting\n",
    "testPredictPlot = numpy.empty_like(df1)\n",
    "testPredictPlot[:, :] = numpy.nan\n",
    "testPredictPlot[len(train_predict)+(look_back*2)+1:len(df1)-1, :] = test_predict\n",
    "# plot baseline and predictions\n",
    "plt.plot(scaler.inverse_transform(df1))\n",
    "plt.plot(trainPredictPlot)\n",
    "plt.plot(testPredictPlot)\n",
    "#plt.show()\n",
    "\n",
    "print(plt.rcParams.get('figure.figsize'))"
   ]
  },
  {
   "cell_type": "code",
   "execution_count": null,
   "metadata": {},
   "outputs": [],
   "source": [
    "len(test_data)\n",
    "tdl_int = len(test_data)\n",
    "tdl_length = tdl_int - 100\n",
    "print(tdl_int)\n",
    "print(tdl_length)"
   ]
  },
  {
   "cell_type": "code",
   "execution_count": null,
   "metadata": {},
   "outputs": [],
   "source": [
    "x_input=test_data[tdl_length:].reshape(1,-1)\n",
    "x_input.shape"
   ]
  },
  {
   "cell_type": "code",
   "execution_count": null,
   "metadata": {},
   "outputs": [],
   "source": [
    "temp_input=list(x_input)\n",
    "temp_input=temp_input[0].tolist()\n",
    "\n",
    "temp_input"
   ]
  },
  {
   "cell_type": "code",
   "execution_count": null,
   "metadata": {},
   "outputs": [],
   "source": [
    "# demonstrate prediction for next 10 days\n",
    "from numpy import array\n",
    "\n",
    "lst_output=[]\n",
    "n_steps=100\n",
    "i=0\n",
    "\n",
    "#Ten Days\n",
    "#while(i<10):\n",
    "\n",
    "while(i<10):\n",
    "    \n",
    "    if(len(temp_input)>100):\n",
    "        #print(temp_input)\n",
    "        x_input=np.array(temp_input[1:])\n",
    "        print(\"{} day input {}\".format(i,x_input))\n",
    "        x_input=x_input.reshape(1,-1)\n",
    "        x_input = x_input.reshape((1, n_steps, 1))\n",
    "        #print(x_input)\n",
    "        yhat = model.predict(x_input, verbose=0)\n",
    "        print(\"{} day output {}\".format(i,yhat))\n",
    "        temp_input.extend(yhat[0].tolist())\n",
    "        temp_input=temp_input[1:]\n",
    "        #print(temp_input)\n",
    "        lst_output.extend(yhat.tolist())\n",
    "        i=i+1\n",
    "    else:\n",
    "        x_input = x_input.reshape((1, n_steps,1))\n",
    "        yhat = model.predict(x_input, verbose=0)\n",
    "        print(yhat[0])\n",
    "        temp_input.extend(yhat[0].tolist())\n",
    "        print(len(temp_input))\n",
    "        lst_output.extend(yhat.tolist())\n",
    "        i=i+1\n",
    "    \n",
    "\n",
    "print(lst_output)"
   ]
  },
  {
   "cell_type": "code",
   "execution_count": null,
   "metadata": {},
   "outputs": [],
   "source": [
    "day_new=np.arange(1,101)\n",
    "\n",
    "#Ten Days\n",
    "#day_pred=np.arange(101,111)\n",
    "\n",
    "day_pred=np.arange(101,111)"
   ]
  },
  {
   "cell_type": "code",
   "execution_count": null,
   "metadata": {},
   "outputs": [],
   "source": [
    "import matplotlib.pyplot as plt"
   ]
  },
  {
   "cell_type": "code",
   "execution_count": null,
   "metadata": {},
   "outputs": [],
   "source": [
    "len(df1)\n",
    "df2_int = len(df1)\n",
    "df2_length = df2_int - 100\n",
    "print(df2_int)\n",
    "print(df2_length)"
   ]
  },
  {
   "cell_type": "code",
   "execution_count": null,
   "metadata": {},
   "outputs": [],
   "source": [
    "#plt.plot(day_new,scaler.inverse_transform(df1[2205:]))\n",
    "\n",
    "plt.plot(day_new,scaler.inverse_transform(df1[df2_length:]))\n",
    "\n",
    "plt.plot(day_pred,scaler.inverse_transform(lst_output))"
   ]
  },
  {
   "cell_type": "code",
   "execution_count": null,
   "metadata": {},
   "outputs": [],
   "source": [
    "df3=df1.tolist()\n",
    "df3.extend(lst_output)\n",
    "#plt.plot(df3[2206:])\n",
    "\n",
    "df3_length = df2_length + 1\n",
    "\n",
    "plt.plot(df3[df3_length:])"
   ]
  },
  {
   "cell_type": "code",
   "execution_count": null,
   "metadata": {},
   "outputs": [],
   "source": [
    "df3=scaler.inverse_transform(df3).tolist()\n",
    "plt.plot(df3)"
   ]
  },
  {
   "cell_type": "code",
   "execution_count": null,
   "metadata": {},
   "outputs": [],
   "source": []
  },
  {
   "cell_type": "code",
   "execution_count": null,
   "metadata": {},
   "outputs": [],
   "source": []
  }
 ],
 "metadata": {
  "kernelspec": {
   "display_name": "Python 3",
   "language": "python",
   "name": "python3"
  },
  "language_info": {
   "codemirror_mode": {
    "name": "ipython",
    "version": 3
   },
   "file_extension": ".py",
   "mimetype": "text/x-python",
   "name": "python",
   "nbconvert_exporter": "python",
   "pygments_lexer": "ipython3",
   "version": "3.7.10"
  }
 },
 "nbformat": 4,
 "nbformat_minor": 4
}
